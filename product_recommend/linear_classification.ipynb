{
 "cells": [
  {
   "cell_type": "code",
   "execution_count": 1,
   "metadata": {},
   "outputs": [],
   "source": [
    "from sklearn.preprocessing import OneHotEncoder, LabelEncoder\n",
    "\n",
    "from sklearn.model_selection import train_test_split\n",
    "from sklearn.metrics import classification_report\n",
    "from sklearn.metrics import mean_squared_error\n",
    "from sklearn.metrics import confusion_matrix\n",
    "from sklearn.metrics import accuracy_score\n",
    "from sklearn.metrics import r2_score\n",
    "\n",
    "from tqdm import tqdm\n",
    "\n",
    "import matplotlib.pyplot as plt\n",
    "import seaborn as sns\n",
    "import pandas as pd\n",
    "import numpy as np\n",
    "import random\n",
    "\n",
    "from torch.utils.data import Dataset, DataLoader\n",
    "from torchsummary import summary\n",
    "\n",
    "import torch.nn.functional as F\n",
    "import torch.optim as optim\n",
    "import torch.nn as nn\n",
    "import torch\n",
    "\n",
    "DATA_PATH = \"./data/processed_dataset.csv\""
   ]
  },
  {
   "cell_type": "code",
   "execution_count": 2,
   "metadata": {},
   "outputs": [],
   "source": [
    "device = torch.device('cpu')"
   ]
  },
  {
   "cell_type": "markdown",
   "metadata": {},
   "source": [
    "# Read data"
   ]
  },
  {
   "cell_type": "code",
   "execution_count": 3,
   "metadata": {},
   "outputs": [
    {
     "data": {
      "text/html": [
       "<div>\n",
       "<style scoped>\n",
       "    .dataframe tbody tr th:only-of-type {\n",
       "        vertical-align: middle;\n",
       "    }\n",
       "\n",
       "    .dataframe tbody tr th {\n",
       "        vertical-align: top;\n",
       "    }\n",
       "\n",
       "    .dataframe thead th {\n",
       "        text-align: right;\n",
       "    }\n",
       "</style>\n",
       "<table border=\"1\" class=\"dataframe\">\n",
       "  <thead>\n",
       "    <tr style=\"text-align: right;\">\n",
       "      <th></th>\n",
       "      <th>product_category</th>\n",
       "      <th>pet_size</th>\n",
       "      <th>pet_type</th>\n",
       "    </tr>\n",
       "    <tr>\n",
       "      <th>product_id</th>\n",
       "      <th></th>\n",
       "      <th></th>\n",
       "      <th></th>\n",
       "    </tr>\n",
       "  </thead>\n",
       "  <tbody>\n",
       "    <tr>\n",
       "      <th>4567</th>\n",
       "      <td>1</td>\n",
       "      <td>0</td>\n",
       "      <td>0</td>\n",
       "    </tr>\n",
       "    <tr>\n",
       "      <th>4364</th>\n",
       "      <td>2</td>\n",
       "      <td>1</td>\n",
       "      <td>1</td>\n",
       "    </tr>\n",
       "    <tr>\n",
       "      <th>4184</th>\n",
       "      <td>3</td>\n",
       "      <td>1</td>\n",
       "      <td>1</td>\n",
       "    </tr>\n",
       "    <tr>\n",
       "      <th>4609</th>\n",
       "      <td>0</td>\n",
       "      <td>1</td>\n",
       "      <td>0</td>\n",
       "    </tr>\n",
       "    <tr>\n",
       "      <th>4380</th>\n",
       "      <td>1</td>\n",
       "      <td>2</td>\n",
       "      <td>1</td>\n",
       "    </tr>\n",
       "  </tbody>\n",
       "</table>\n",
       "</div>"
      ],
      "text/plain": [
       "            product_category  pet_size  pet_type\n",
       "product_id                                      \n",
       "4567                       1         0         0\n",
       "4364                       2         1         1\n",
       "4184                       3         1         1\n",
       "4609                       0         1         0\n",
       "4380                       1         2         1"
      ]
     },
     "execution_count": 3,
     "metadata": {},
     "output_type": "execute_result"
    }
   ],
   "source": [
    "datasheet = pd.read_csv(DATA_PATH, sep=\",\", index_col=0)\n",
    "datasheet.head()"
   ]
  },
  {
   "cell_type": "code",
   "execution_count": 4,
   "metadata": {},
   "outputs": [],
   "source": [
    "y_data = datasheet.iloc[:, 0]\n",
    "X_data_1 = datasheet.iloc[:, 1].to_numpy().astype(np.float32)\n",
    "X_data_2 = datasheet.iloc[:, 2].to_numpy().astype(np.float32)"
   ]
  },
  {
   "cell_type": "markdown",
   "metadata": {},
   "source": [
    "# Train, Test(Validation) Split"
   ]
  },
  {
   "cell_type": "code",
   "execution_count": 5,
   "metadata": {},
   "outputs": [
    {
     "name": "stdout",
     "output_type": "stream",
     "text": [
      "X_data 1 shape: (694,)\n",
      "X_data 2 shape: (694,)\n",
      "y_data shape: (694, 6)\n"
     ]
    }
   ],
   "source": [
    "onehot_encoder = OneHotEncoder()\n",
    "\n",
    "y_data = y_data.to_numpy().astype(np.float32)\n",
    "y_data = onehot_encoder.fit_transform(y_data.reshape(-1, 1)).astype(np.float32).toarray()\n",
    "\n",
    "print(f\"\"\"X_data 1 shape: {X_data_1.shape}\n",
    "X_data 2 shape: {X_data_2.shape}\n",
    "y_data shape: {y_data.shape}\"\"\")"
   ]
  },
  {
   "cell_type": "markdown",
   "metadata": {},
   "source": [
    "# Datasets & DataLoader"
   ]
  },
  {
   "cell_type": "code",
   "execution_count": 6,
   "metadata": {},
   "outputs": [],
   "source": [
    "BATCH_SIZE = 32"
   ]
  },
  {
   "cell_type": "code",
   "execution_count": 7,
   "metadata": {},
   "outputs": [],
   "source": [
    "class CustomDataset(Dataset):\n",
    "    def __init__(self, X_data_1, X_data_2, y_data):\n",
    "        self.X_data_1 = X_data_1\n",
    "        self.X_data_2 = X_data_2\n",
    "        self.y_data = y_data\n",
    "\n",
    "    def __getitem__(self, index):\n",
    "        X_1 = self.X_data_1[index]\n",
    "        X_2 = self.X_data_2[index]\n",
    "        y = self.y_data[index]\n",
    "        return X_1, X_2, y\n",
    "\n",
    "    def __len__(self):\n",
    "        return len(self.X_data_1)"
   ]
  },
  {
   "cell_type": "code",
   "execution_count": 8,
   "metadata": {},
   "outputs": [],
   "source": [
    "train_dataset = CustomDataset(X_data_1, X_data_2, y_data)\n",
    "train_dataloader = DataLoader(train_dataset, batch_size=BATCH_SIZE, shuffle=True)\n",
    "\n",
    "test_dataset = CustomDataset(X_data_1, X_data_2, y_data)\n",
    "test_dataloader = DataLoader(test_dataset, batch_size=BATCH_SIZE, shuffle=True)"
   ]
  },
  {
   "cell_type": "markdown",
   "metadata": {},
   "source": [
    "# Model"
   ]
  },
  {
   "cell_type": "code",
   "execution_count": 9,
   "metadata": {},
   "outputs": [
    {
     "name": "stdout",
     "output_type": "stream",
     "text": [
      "----------------------------------------------------------------\n",
      "        Layer (type)               Output Shape         Param #\n",
      "================================================================\n",
      "            Linear-1                   [-1, 32]              64\n",
      "            Linear-2                   [-1, 64]           2,112\n",
      "            Linear-3                  [-1, 128]           8,320\n",
      "            Linear-4                  [-1, 256]          33,024\n",
      "            Linear-5                  [-1, 512]         131,584\n",
      "           Dropout-6                  [-1, 512]               0\n",
      "               GRU-7     [[-1, 512], [-1, 512]]               0\n",
      "            Linear-8                   [-1, 32]              64\n",
      "            Linear-9                   [-1, 64]           2,112\n",
      "           Linear-10                  [-1, 128]           8,320\n",
      "           Linear-11                  [-1, 256]          33,024\n",
      "           Linear-12                  [-1, 512]         131,584\n",
      "          Dropout-13                  [-1, 512]               0\n",
      "              GRU-14     [[-1, 512], [-1, 512]]               0\n",
      "           Linear-15                  [-1, 256]         262,400\n",
      "           Linear-16                   [-1, 32]           8,224\n",
      "           Linear-17                    [-1, 6]             198\n",
      "================================================================\n",
      "Total params: 621,030\n",
      "Trainable params: 621,030\n",
      "Non-trainable params: 0\n",
      "----------------------------------------------------------------\n",
      "Input size (MB): 0.00\n",
      "Forward/backward pass size (MB): 3.97\n",
      "Params size (MB): 2.37\n",
      "Estimated Total Size (MB): 6.34\n",
      "----------------------------------------------------------------\n"
     ]
    }
   ],
   "source": [
    "class Model(nn.Module):\n",
    "    def __init__(self, input_dim, output_dim):\n",
    "        super(Model, self).__init__()\n",
    "        self.input_dim = input_dim\n",
    "        self.output_dim = output_dim\n",
    "\n",
    "        self.input_linear_1 = nn.Linear(self.input_dim, 32)\n",
    "        self.input_linear_1_1 = nn.Linear(32, 64)\n",
    "        self.input_linear_1_2 = nn.Linear(64, 128)\n",
    "        self.input_linear_1_3 = nn.Linear(128, 256)\n",
    "        self.input_linear_1_4 = nn.Linear(256, 512)\n",
    "        self.dropout_1 = nn.Dropout(0.2)\n",
    "        self.gru_1 = nn.GRU(512, 512, batch_first=True)\n",
    "        \n",
    "        self.input_linear_2 = nn.Linear(self.input_dim, 32)\n",
    "        self.input_linear_2_1 = nn.Linear(32, 64)\n",
    "        self.input_linear_2_2 = nn.Linear(64, 128)\n",
    "        self.input_linear_2_3 = nn.Linear(128, 256)\n",
    "        self.input_linear_2_4 = nn.Linear(256, 512)\n",
    "        self.dropout_2 = nn.Dropout(0.2)\n",
    "        self.gru_2 = nn.GRU(512, 512, batch_first=True)\n",
    "\n",
    "        self.output_hidden_1 = nn.Linear(1024, 256)\n",
    "        self.output_hidden_2 = nn.Linear(256, 32)\n",
    "        self.output_linear = nn.Linear(32, self.output_dim)\n",
    "\n",
    "    def forward(self, x1, x2):\n",
    "        x1 = self.input_linear_1(x1)\n",
    "        x1 = self.input_linear_1_1(x1)\n",
    "        x1 = self.input_linear_1_2(x1)\n",
    "        x1 = self.input_linear_1_3(x1)\n",
    "        x1 = self.input_linear_1_4(x1)\n",
    "        x1 = self.dropout_1(x1)\n",
    "        x1, _ = self.gru_1(x1)\n",
    "    \n",
    "        x2 = self.input_linear_2(x2)\n",
    "        x2 = self.input_linear_2_1(x2)\n",
    "        x2 = self.input_linear_2_2(x2)\n",
    "        x2 = self.input_linear_2_3(x2)\n",
    "        x2 = self.input_linear_2_4(x2)\n",
    "        x2 = self.dropout_2(x2)\n",
    "        x2, _ = self.gru_2(x2)\n",
    "\n",
    "        x = torch.cat([x1, x2], dim=1)\n",
    "        x = F.relu(self.output_hidden_1(x))\n",
    "        x = F.relu(self.output_hidden_2(x))\n",
    "        x = self.output_linear(x)\n",
    "\n",
    "        return x\n",
    "    \n",
    "model = Model(1, 6).to(device)\n",
    "summary(model.to(device='cpu'), [(1,), (1,)])"
   ]
  },
  {
   "cell_type": "code",
   "execution_count": 10,
   "metadata": {},
   "outputs": [
    {
     "name": "stdout",
     "output_type": "stream",
     "text": [
      "Adjusting learning rate of group 0 to 1.0000e-03.\n"
     ]
    }
   ],
   "source": [
    "optimizer = optim.Adam(model.parameters(), lr=0.001)\n",
    "criterion = nn.CrossEntropyLoss()\n",
    "scheduler = optim.lr_scheduler.LambdaLR(\n",
    "    optimizer, \n",
    "    lr_lambda=lambda epoch: 0.85 ** epoch,\n",
    "    last_epoch=-1,\n",
    "    verbose=True\n",
    ")"
   ]
  },
  {
   "cell_type": "markdown",
   "metadata": {},
   "source": [
    "# Model Train & Validation"
   ]
  },
  {
   "cell_type": "code",
   "execution_count": 11,
   "metadata": {},
   "outputs": [],
   "source": [
    "EPOCHS = 150"
   ]
  },
  {
   "cell_type": "code",
   "execution_count": 12,
   "metadata": {},
   "outputs": [
    {
     "name": "stderr",
     "output_type": "stream",
     "text": [
      "Train Epoch 1/150, Train Loss: 0.0: 100%|██████████| 22/22 [00:01<00:00, 17.09it/s]\n"
     ]
    },
    {
     "name": "stdout",
     "output_type": "stream",
     "text": [
      "Adjusting learning rate of group 0 to 8.5000e-04.\n"
     ]
    },
    {
     "name": "stderr",
     "output_type": "stream",
     "text": [
      "Test Epoch 1/150, Test Loss: 1.7220166704871438: 100%|██████████| 22/22 [00:00<00:00, 229.49it/s]\n",
      "Train Epoch 2/150, Train Loss: 0.0: 100%|██████████| 22/22 [00:01<00:00, 18.45it/s]\n"
     ]
    },
    {
     "name": "stdout",
     "output_type": "stream",
     "text": [
      "Adjusting learning rate of group 0 to 7.2250e-04.\n"
     ]
    },
    {
     "name": "stderr",
     "output_type": "stream",
     "text": [
      "Test Epoch 2/150, Test Loss: 1.6994397044181824: 100%|██████████| 22/22 [00:00<00:00, 178.47it/s]\n",
      "Train Epoch 3/150, Train Loss: 0.0: 100%|██████████| 22/22 [00:01<00:00, 18.29it/s]\n"
     ]
    },
    {
     "name": "stdout",
     "output_type": "stream",
     "text": [
      "Adjusting learning rate of group 0 to 6.1412e-04.\n"
     ]
    },
    {
     "name": "stderr",
     "output_type": "stream",
     "text": [
      "Test Epoch 3/150, Test Loss: 1.6964313712987034: 100%|██████████| 22/22 [00:00<00:00, 225.68it/s]\n",
      "Train Epoch 4/150, Train Loss: 0.0: 100%|██████████| 22/22 [00:01<00:00, 18.10it/s]\n"
     ]
    },
    {
     "name": "stdout",
     "output_type": "stream",
     "text": [
      "Adjusting learning rate of group 0 to 5.2201e-04.\n"
     ]
    },
    {
     "name": "stderr",
     "output_type": "stream",
     "text": [
      "Test Epoch 4/150, Test Loss: 1.6930258003148166: 100%|██████████| 22/22 [00:00<00:00, 227.46it/s]\n",
      "Train Epoch 5/150, Train Loss: 0.0: 100%|██████████| 22/22 [00:01<00:00, 18.35it/s]\n"
     ]
    },
    {
     "name": "stdout",
     "output_type": "stream",
     "text": [
      "Adjusting learning rate of group 0 to 4.4371e-04.\n"
     ]
    },
    {
     "name": "stderr",
     "output_type": "stream",
     "text": [
      "Test Epoch 5/150, Test Loss: 1.6921733184294268: 100%|██████████| 22/22 [00:00<00:00, 223.28it/s]\n",
      "Train Epoch 6/150, Train Loss: 0.0: 100%|██████████| 22/22 [00:01<00:00, 18.21it/s]\n"
     ]
    },
    {
     "name": "stdout",
     "output_type": "stream",
     "text": [
      "Adjusting learning rate of group 0 to 3.7715e-04.\n"
     ]
    },
    {
     "name": "stderr",
     "output_type": "stream",
     "text": [
      "Test Epoch 6/150, Test Loss: 1.6907782662998547: 100%|██████████| 22/22 [00:00<00:00, 227.69it/s]\n",
      "Train Epoch 7/150, Train Loss: 0.0: 100%|██████████| 22/22 [00:01<00:00, 18.71it/s]\n"
     ]
    },
    {
     "name": "stdout",
     "output_type": "stream",
     "text": [
      "Adjusting learning rate of group 0 to 3.2058e-04.\n"
     ]
    },
    {
     "name": "stderr",
     "output_type": "stream",
     "text": [
      "Test Epoch 7/150, Test Loss: 1.6897793032906272: 100%|██████████| 22/22 [00:00<00:00, 175.15it/s]\n",
      "Train Epoch 8/150, Train Loss: 0.0: 100%|██████████| 22/22 [00:01<00:00, 18.67it/s]\n"
     ]
    },
    {
     "name": "stdout",
     "output_type": "stream",
     "text": [
      "Adjusting learning rate of group 0 to 2.7249e-04.\n"
     ]
    },
    {
     "name": "stderr",
     "output_type": "stream",
     "text": [
      "Test Epoch 8/150, Test Loss: 1.6900797323747114: 100%|██████████| 22/22 [00:00<00:00, 230.45it/s]\n",
      "Train Epoch 9/150, Train Loss: 0.0: 100%|██████████| 22/22 [00:01<00:00, 18.29it/s]\n"
     ]
    },
    {
     "name": "stdout",
     "output_type": "stream",
     "text": [
      "Adjusting learning rate of group 0 to 2.3162e-04.\n"
     ]
    },
    {
     "name": "stderr",
     "output_type": "stream",
     "text": [
      "Test Epoch 9/150, Test Loss: 1.6901861320842395: 100%|██████████| 22/22 [00:00<00:00, 227.30it/s]\n",
      "Train Epoch 10/150, Train Loss: 0.0: 100%|██████████| 22/22 [00:01<00:00, 18.60it/s]\n"
     ]
    },
    {
     "name": "stdout",
     "output_type": "stream",
     "text": [
      "Adjusting learning rate of group 0 to 1.9687e-04.\n"
     ]
    },
    {
     "name": "stderr",
     "output_type": "stream",
     "text": [
      "Test Epoch 10/150, Test Loss: 1.6859696886756204: 100%|██████████| 22/22 [00:00<00:00, 218.35it/s]\n",
      "Train Epoch 11/150, Train Loss: 0.0: 100%|██████████| 22/22 [00:01<00:00, 18.15it/s]\n"
     ]
    },
    {
     "name": "stdout",
     "output_type": "stream",
     "text": [
      "Adjusting learning rate of group 0 to 1.6734e-04.\n"
     ]
    },
    {
     "name": "stderr",
     "output_type": "stream",
     "text": [
      "Test Epoch 11/150, Test Loss: 1.683231462131847: 100%|██████████| 22/22 [00:00<00:00, 227.46it/s]\n",
      "Train Epoch 12/150, Train Loss: 0.0: 100%|██████████| 22/22 [00:01<00:00, 18.63it/s]\n"
     ]
    },
    {
     "name": "stdout",
     "output_type": "stream",
     "text": [
      "Adjusting learning rate of group 0 to 1.4224e-04.\n"
     ]
    },
    {
     "name": "stderr",
     "output_type": "stream",
     "text": [
      "Test Epoch 12/150, Test Loss: 1.6860586188056252: 100%|██████████| 22/22 [00:00<00:00, 178.03it/s]\n",
      "Train Epoch 13/150, Train Loss: 0.0: 100%|██████████| 22/22 [00:01<00:00, 18.42it/s]\n"
     ]
    },
    {
     "name": "stdout",
     "output_type": "stream",
     "text": [
      "Adjusting learning rate of group 0 to 1.2091e-04.\n"
     ]
    },
    {
     "name": "stderr",
     "output_type": "stream",
     "text": [
      "Test Epoch 13/150, Test Loss: 1.6812279278581792: 100%|██████████| 22/22 [00:00<00:00, 225.28it/s]\n",
      "Train Epoch 14/150, Train Loss: 0.0: 100%|██████████| 22/22 [00:01<00:00, 17.61it/s]\n"
     ]
    },
    {
     "name": "stdout",
     "output_type": "stream",
     "text": [
      "Adjusting learning rate of group 0 to 1.0277e-04.\n"
     ]
    },
    {
     "name": "stderr",
     "output_type": "stream",
     "text": [
      "Test Epoch 14/150, Test Loss: 1.6828935634006152: 100%|██████████| 22/22 [00:00<00:00, 224.90it/s]\n",
      "Train Epoch 15/150, Train Loss: 0.0: 100%|██████████| 22/22 [00:01<00:00, 18.53it/s]\n"
     ]
    },
    {
     "name": "stdout",
     "output_type": "stream",
     "text": [
      "Adjusting learning rate of group 0 to 8.7354e-05.\n"
     ]
    },
    {
     "name": "stderr",
     "output_type": "stream",
     "text": [
      "Test Epoch 15/150, Test Loss: 1.6805541840466587: 100%|██████████| 22/22 [00:00<00:00, 168.65it/s]\n",
      "Train Epoch 16/150, Train Loss: 0.0: 100%|██████████| 22/22 [00:01<00:00, 18.37it/s]\n"
     ]
    },
    {
     "name": "stdout",
     "output_type": "stream",
     "text": [
      "Adjusting learning rate of group 0 to 7.4251e-05.\n"
     ]
    },
    {
     "name": "stderr",
     "output_type": "stream",
     "text": [
      "Test Epoch 16/150, Test Loss: 1.6803728938102722: 100%|██████████| 22/22 [00:00<00:00, 223.36it/s]\n",
      "Train Epoch 17/150, Train Loss: 0.0: 100%|██████████| 22/22 [00:01<00:00, 17.91it/s]\n"
     ]
    },
    {
     "name": "stdout",
     "output_type": "stream",
     "text": [
      "Adjusting learning rate of group 0 to 6.3113e-05.\n"
     ]
    },
    {
     "name": "stderr",
     "output_type": "stream",
     "text": [
      "Test Epoch 17/150, Test Loss: 1.6813803098418496: 100%|██████████| 22/22 [00:00<00:00, 228.15it/s]\n",
      "Train Epoch 18/150, Train Loss: 0.0: 100%|██████████| 22/22 [00:01<00:00, 18.56it/s]\n"
     ]
    },
    {
     "name": "stdout",
     "output_type": "stream",
     "text": [
      "Adjusting learning rate of group 0 to 5.3646e-05.\n"
     ]
    },
    {
     "name": "stderr",
     "output_type": "stream",
     "text": [
      "Test Epoch 18/150, Test Loss: 1.6798769723285327: 100%|██████████| 22/22 [00:00<00:00, 230.50it/s]\n",
      "Train Epoch 19/150, Train Loss: 0.0: 100%|██████████| 22/22 [00:01<00:00, 18.20it/s]\n"
     ]
    },
    {
     "name": "stdout",
     "output_type": "stream",
     "text": [
      "Adjusting learning rate of group 0 to 4.5599e-05.\n"
     ]
    },
    {
     "name": "stderr",
     "output_type": "stream",
     "text": [
      "Test Epoch 19/150, Test Loss: 1.679339658130299: 100%|██████████| 22/22 [00:00<00:00, 229.98it/s]\n",
      "Train Epoch 20/150, Train Loss: 0.0: 100%|██████████| 22/22 [00:01<00:00, 18.51it/s]\n"
     ]
    },
    {
     "name": "stdout",
     "output_type": "stream",
     "text": [
      "Adjusting learning rate of group 0 to 3.8760e-05.\n"
     ]
    },
    {
     "name": "stderr",
     "output_type": "stream",
     "text": [
      "Test Epoch 20/150, Test Loss: 1.6792018630287864: 100%|██████████| 22/22 [00:00<00:00, 189.39it/s]\n",
      "Train Epoch 21/150, Train Loss: 0.0: 100%|██████████| 22/22 [00:01<00:00, 18.38it/s]\n"
     ]
    },
    {
     "name": "stdout",
     "output_type": "stream",
     "text": [
      "Adjusting learning rate of group 0 to 3.2946e-05.\n"
     ]
    },
    {
     "name": "stderr",
     "output_type": "stream",
     "text": [
      "Test Epoch 21/150, Test Loss: 1.6809146458452398: 100%|██████████| 22/22 [00:00<00:00, 229.97it/s]\n",
      "Train Epoch 22/150, Train Loss: 0.0: 100%|██████████| 22/22 [00:01<00:00, 18.06it/s]\n"
     ]
    },
    {
     "name": "stdout",
     "output_type": "stream",
     "text": [
      "Adjusting learning rate of group 0 to 2.8004e-05.\n"
     ]
    },
    {
     "name": "stderr",
     "output_type": "stream",
     "text": [
      "Test Epoch 22/150, Test Loss: 1.6792423996058377: 100%|██████████| 22/22 [00:00<00:00, 230.14it/s]\n",
      "Train Epoch 23/150, Train Loss: 0.0: 100%|██████████| 22/22 [00:01<00:00, 18.32it/s]\n"
     ]
    },
    {
     "name": "stdout",
     "output_type": "stream",
     "text": [
      "Adjusting learning rate of group 0 to 2.3803e-05.\n"
     ]
    },
    {
     "name": "stderr",
     "output_type": "stream",
     "text": [
      "Test Epoch 23/150, Test Loss: 1.6811696832830256: 100%|██████████| 22/22 [00:00<00:00, 221.91it/s]\n",
      "Train Epoch 24/150, Train Loss: 0.0: 100%|██████████| 22/22 [00:01<00:00, 17.84it/s]\n"
     ]
    },
    {
     "name": "stdout",
     "output_type": "stream",
     "text": [
      "Adjusting learning rate of group 0 to 2.0233e-05.\n"
     ]
    },
    {
     "name": "stderr",
     "output_type": "stream",
     "text": [
      "Test Epoch 24/150, Test Loss: 1.6793198639696294: 100%|██████████| 22/22 [00:00<00:00, 227.37it/s]\n",
      "Train Epoch 25/150, Train Loss: 0.0: 100%|██████████| 22/22 [00:01<00:00, 17.84it/s]\n"
     ]
    },
    {
     "name": "stdout",
     "output_type": "stream",
     "text": [
      "Adjusting learning rate of group 0 to 1.7198e-05.\n"
     ]
    },
    {
     "name": "stderr",
     "output_type": "stream",
     "text": [
      "Test Epoch 25/150, Test Loss: 1.6822636940262534: 100%|██████████| 22/22 [00:00<00:00, 228.22it/s]\n",
      "Train Epoch 26/150, Train Loss: 0.0: 100%|██████████| 22/22 [00:01<00:00, 18.39it/s]\n"
     ]
    },
    {
     "name": "stdout",
     "output_type": "stream",
     "text": [
      "Adjusting learning rate of group 0 to 1.4618e-05.\n"
     ]
    },
    {
     "name": "stderr",
     "output_type": "stream",
     "text": [
      "Test Epoch 26/150, Test Loss: 1.6758399605751038: 100%|██████████| 22/22 [00:00<00:00, 224.11it/s]\n",
      "Train Epoch 27/150, Train Loss: 0.0: 100%|██████████| 22/22 [00:01<00:00, 18.36it/s]\n"
     ]
    },
    {
     "name": "stdout",
     "output_type": "stream",
     "text": [
      "Adjusting learning rate of group 0 to 1.2425e-05.\n"
     ]
    },
    {
     "name": "stderr",
     "output_type": "stream",
     "text": [
      "Test Epoch 27/150, Test Loss: 1.6795385479927063: 100%|██████████| 22/22 [00:00<00:00, 226.93it/s]\n",
      "Train Epoch 28/150, Train Loss: 0.0: 100%|██████████| 22/22 [00:01<00:00, 18.30it/s]\n"
     ]
    },
    {
     "name": "stdout",
     "output_type": "stream",
     "text": [
      "Adjusting learning rate of group 0 to 1.0562e-05.\n"
     ]
    },
    {
     "name": "stderr",
     "output_type": "stream",
     "text": [
      "Test Epoch 28/150, Test Loss: 1.6754516200585798: 100%|██████████| 22/22 [00:00<00:00, 229.06it/s]\n",
      "Train Epoch 29/150, Train Loss: 0.0: 100%|██████████| 22/22 [00:01<00:00, 17.88it/s]\n"
     ]
    },
    {
     "name": "stdout",
     "output_type": "stream",
     "text": [
      "Adjusting learning rate of group 0 to 8.9774e-06.\n"
     ]
    },
    {
     "name": "stderr",
     "output_type": "stream",
     "text": [
      "Test Epoch 29/150, Test Loss: 1.6766972812739285: 100%|██████████| 22/22 [00:00<00:00, 228.54it/s]\n",
      "Train Epoch 30/150, Train Loss: 0.0: 100%|██████████| 22/22 [00:01<00:00, 18.46it/s]\n"
     ]
    },
    {
     "name": "stdout",
     "output_type": "stream",
     "text": [
      "Adjusting learning rate of group 0 to 7.6308e-06.\n"
     ]
    },
    {
     "name": "stderr",
     "output_type": "stream",
     "text": [
      "Test Epoch 30/150, Test Loss: 1.6798941493034363: 100%|██████████| 22/22 [00:00<00:00, 189.71it/s]\n",
      "Train Epoch 31/150, Train Loss: 0.0: 100%|██████████| 22/22 [00:01<00:00, 18.44it/s]\n"
     ]
    },
    {
     "name": "stdout",
     "output_type": "stream",
     "text": [
      "Adjusting learning rate of group 0 to 6.4861e-06.\n"
     ]
    },
    {
     "name": "stderr",
     "output_type": "stream",
     "text": [
      "Test Epoch 31/150, Test Loss: 1.6793563745238564: 100%|██████████| 22/22 [00:00<00:00, 233.55it/s]\n",
      "Train Epoch 32/150, Train Loss: 0.0: 100%|██████████| 22/22 [00:01<00:00, 18.12it/s]\n"
     ]
    },
    {
     "name": "stdout",
     "output_type": "stream",
     "text": [
      "Adjusting learning rate of group 0 to 5.5132e-06.\n"
     ]
    },
    {
     "name": "stderr",
     "output_type": "stream",
     "text": [
      "Test Epoch 32/150, Test Loss: 1.676154987378554: 100%|██████████| 22/22 [00:00<00:00, 207.66it/s]\n",
      "Train Epoch 33/150, Train Loss: 0.0: 100%|██████████| 22/22 [00:01<00:00, 18.43it/s]\n"
     ]
    },
    {
     "name": "stdout",
     "output_type": "stream",
     "text": [
      "Adjusting learning rate of group 0 to 4.6862e-06.\n"
     ]
    },
    {
     "name": "stderr",
     "output_type": "stream",
     "text": [
      "Test Epoch 33/150, Test Loss: 1.6781577630476519: 100%|██████████| 22/22 [00:00<00:00, 221.54it/s]\n",
      "Train Epoch 34/150, Train Loss: 0.0: 100%|██████████| 22/22 [00:01<00:00, 17.68it/s]\n"
     ]
    },
    {
     "name": "stdout",
     "output_type": "stream",
     "text": [
      "Adjusting learning rate of group 0 to 3.9833e-06.\n"
     ]
    },
    {
     "name": "stderr",
     "output_type": "stream",
     "text": [
      "Test Epoch 34/150, Test Loss: 1.6815584031018345: 100%|██████████| 22/22 [00:00<00:00, 229.13it/s]\n",
      "Train Epoch 35/150, Train Loss: 0.0: 100%|██████████| 22/22 [00:01<00:00, 18.55it/s]\n"
     ]
    },
    {
     "name": "stdout",
     "output_type": "stream",
     "text": [
      "Adjusting learning rate of group 0 to 3.3858e-06.\n"
     ]
    },
    {
     "name": "stderr",
     "output_type": "stream",
     "text": [
      "Test Epoch 35/150, Test Loss: 1.6771818832917647: 100%|██████████| 22/22 [00:00<00:00, 179.00it/s]\n",
      "Train Epoch 36/150, Train Loss: 0.0: 100%|██████████| 22/22 [00:01<00:00, 18.41it/s]\n"
     ]
    },
    {
     "name": "stdout",
     "output_type": "stream",
     "text": [
      "Adjusting learning rate of group 0 to 2.8779e-06.\n"
     ]
    },
    {
     "name": "stderr",
     "output_type": "stream",
     "text": [
      "Test Epoch 36/150, Test Loss: 1.6813499927520752: 100%|██████████| 22/22 [00:00<00:00, 228.47it/s]\n",
      "Train Epoch 37/150, Train Loss: 0.0: 100%|██████████| 22/22 [00:01<00:00, 18.09it/s]\n"
     ]
    },
    {
     "name": "stdout",
     "output_type": "stream",
     "text": [
      "Adjusting learning rate of group 0 to 2.4462e-06.\n"
     ]
    },
    {
     "name": "stderr",
     "output_type": "stream",
     "text": [
      "Test Epoch 37/150, Test Loss: 1.6791733557527715: 100%|██████████| 22/22 [00:00<00:00, 226.40it/s]\n",
      "Train Epoch 38/150, Train Loss: 0.0: 100%|██████████| 22/22 [00:01<00:00, 18.42it/s]\n"
     ]
    },
    {
     "name": "stdout",
     "output_type": "stream",
     "text": [
      "Adjusting learning rate of group 0 to 2.0793e-06.\n"
     ]
    },
    {
     "name": "stderr",
     "output_type": "stream",
     "text": [
      "Test Epoch 38/150, Test Loss: 1.680046265775507: 100%|██████████| 22/22 [00:00<00:00, 225.08it/s]\n",
      "Train Epoch 39/150, Train Loss: 0.0: 100%|██████████| 22/22 [00:01<00:00, 18.36it/s]\n"
     ]
    },
    {
     "name": "stdout",
     "output_type": "stream",
     "text": [
      "Adjusting learning rate of group 0 to 1.7674e-06.\n"
     ]
    },
    {
     "name": "stderr",
     "output_type": "stream",
     "text": [
      "Test Epoch 39/150, Test Loss: 1.677758970043876: 100%|██████████| 22/22 [00:00<00:00, 225.56it/s]\n",
      "Train Epoch 40/150, Train Loss: 0.0: 100%|██████████| 22/22 [00:01<00:00, 17.99it/s]\n"
     ]
    },
    {
     "name": "stdout",
     "output_type": "stream",
     "text": [
      "Adjusting learning rate of group 0 to 1.5023e-06.\n"
     ]
    },
    {
     "name": "stderr",
     "output_type": "stream",
     "text": [
      "Test Epoch 40/150, Test Loss: 1.6797526749697598: 100%|██████████| 22/22 [00:00<00:00, 222.65it/s]\n",
      "Train Epoch 41/150, Train Loss: 0.0: 100%|██████████| 22/22 [00:01<00:00, 18.25it/s]\n"
     ]
    },
    {
     "name": "stdout",
     "output_type": "stream",
     "text": [
      "Adjusting learning rate of group 0 to 1.2770e-06.\n"
     ]
    },
    {
     "name": "stderr",
     "output_type": "stream",
     "text": [
      "Test Epoch 41/150, Test Loss: 1.6771907047791914: 100%|██████████| 22/22 [00:00<00:00, 228.77it/s]\n",
      "Train Epoch 42/150, Train Loss: 0.0: 100%|██████████| 22/22 [00:01<00:00, 17.79it/s]\n"
     ]
    },
    {
     "name": "stdout",
     "output_type": "stream",
     "text": [
      "Adjusting learning rate of group 0 to 1.0854e-06.\n"
     ]
    },
    {
     "name": "stderr",
     "output_type": "stream",
     "text": [
      "Test Epoch 42/150, Test Loss: 1.6777420477433638: 100%|██████████| 22/22 [00:00<00:00, 225.89it/s]\n",
      "Train Epoch 43/150, Train Loss: 0.0: 100%|██████████| 22/22 [00:01<00:00, 18.29it/s]\n"
     ]
    },
    {
     "name": "stdout",
     "output_type": "stream",
     "text": [
      "Adjusting learning rate of group 0 to 9.2260e-07.\n"
     ]
    },
    {
     "name": "stderr",
     "output_type": "stream",
     "text": [
      "Test Epoch 43/150, Test Loss: 1.679742244156924: 100%|██████████| 22/22 [00:00<00:00, 229.23it/s]\n",
      "Train Epoch 44/150, Train Loss: 0.0: 100%|██████████| 22/22 [00:01<00:00, 18.46it/s]\n"
     ]
    },
    {
     "name": "stdout",
     "output_type": "stream",
     "text": [
      "Adjusting learning rate of group 0 to 7.8421e-07.\n"
     ]
    },
    {
     "name": "stderr",
     "output_type": "stream",
     "text": [
      "Test Epoch 44/150, Test Loss: 1.6759709173982793: 100%|██████████| 22/22 [00:00<00:00, 229.83it/s]\n",
      "Train Epoch 45/150, Train Loss: 0.0: 100%|██████████| 22/22 [00:01<00:00, 17.97it/s]\n"
     ]
    },
    {
     "name": "stdout",
     "output_type": "stream",
     "text": [
      "Adjusting learning rate of group 0 to 6.6658e-07.\n"
     ]
    },
    {
     "name": "stderr",
     "output_type": "stream",
     "text": [
      "Test Epoch 45/150, Test Loss: 1.6797827048735186: 100%|██████████| 22/22 [00:00<00:00, 222.23it/s]\n",
      "Train Epoch 46/150, Train Loss: 0.0: 100%|██████████| 22/22 [00:01<00:00, 18.48it/s]\n"
     ]
    },
    {
     "name": "stdout",
     "output_type": "stream",
     "text": [
      "Adjusting learning rate of group 0 to 5.6659e-07.\n"
     ]
    },
    {
     "name": "stderr",
     "output_type": "stream",
     "text": [
      "Test Epoch 46/150, Test Loss: 1.6770990924401716: 100%|██████████| 22/22 [00:00<00:00, 186.77it/s]\n",
      "Train Epoch 47/150, Train Loss: 0.0: 100%|██████████| 22/22 [00:01<00:00, 18.35it/s]\n"
     ]
    },
    {
     "name": "stdout",
     "output_type": "stream",
     "text": [
      "Adjusting learning rate of group 0 to 4.8160e-07.\n"
     ]
    },
    {
     "name": "stderr",
     "output_type": "stream",
     "text": [
      "Test Epoch 47/150, Test Loss: 1.6789075948975303: 100%|██████████| 22/22 [00:00<00:00, 226.21it/s]\n",
      "Train Epoch 48/150, Train Loss: 0.0: 100%|██████████| 22/22 [00:01<00:00, 17.91it/s]\n"
     ]
    },
    {
     "name": "stdout",
     "output_type": "stream",
     "text": [
      "Adjusting learning rate of group 0 to 4.0936e-07.\n"
     ]
    },
    {
     "name": "stderr",
     "output_type": "stream",
     "text": [
      "Test Epoch 48/150, Test Loss: 1.6815927841446616: 100%|██████████| 22/22 [00:00<00:00, 223.54it/s]\n",
      "Train Epoch 49/150, Train Loss: 0.0: 100%|██████████| 22/22 [00:01<00:00, 18.37it/s]\n"
     ]
    },
    {
     "name": "stdout",
     "output_type": "stream",
     "text": [
      "Adjusting learning rate of group 0 to 3.4796e-07.\n"
     ]
    },
    {
     "name": "stderr",
     "output_type": "stream",
     "text": [
      "Test Epoch 49/150, Test Loss: 1.676604839888486: 100%|██████████| 22/22 [00:00<00:00, 172.81it/s]\n",
      "Train Epoch 50/150, Train Loss: 0.0: 100%|██████████| 22/22 [00:01<00:00, 18.42it/s]\n"
     ]
    },
    {
     "name": "stdout",
     "output_type": "stream",
     "text": [
      "Adjusting learning rate of group 0 to 2.9576e-07.\n"
     ]
    },
    {
     "name": "stderr",
     "output_type": "stream",
     "text": [
      "Test Epoch 50/150, Test Loss: 1.6799062327905134: 100%|██████████| 22/22 [00:00<00:00, 226.51it/s]\n",
      "Train Epoch 51/150, Train Loss: 0.0: 100%|██████████| 22/22 [00:01<00:00, 17.81it/s]\n"
     ]
    },
    {
     "name": "stdout",
     "output_type": "stream",
     "text": [
      "Adjusting learning rate of group 0 to 2.5140e-07.\n"
     ]
    },
    {
     "name": "stderr",
     "output_type": "stream",
     "text": [
      "Test Epoch 51/150, Test Loss: 1.6759968508373608: 100%|██████████| 22/22 [00:00<00:00, 221.63it/s]\n",
      "Train Epoch 52/150, Train Loss: 0.0: 100%|██████████| 22/22 [00:01<00:00, 18.26it/s]\n"
     ]
    },
    {
     "name": "stdout",
     "output_type": "stream",
     "text": [
      "Adjusting learning rate of group 0 to 2.1369e-07.\n"
     ]
    },
    {
     "name": "stderr",
     "output_type": "stream",
     "text": [
      "Test Epoch 52/150, Test Loss: 1.6775406924161045: 100%|██████████| 22/22 [00:00<00:00, 224.33it/s]\n",
      "Train Epoch 53/150, Train Loss: 0.0: 100%|██████████| 22/22 [00:01<00:00, 17.93it/s]\n"
     ]
    },
    {
     "name": "stdout",
     "output_type": "stream",
     "text": [
      "Adjusting learning rate of group 0 to 1.8164e-07.\n"
     ]
    },
    {
     "name": "stderr",
     "output_type": "stream",
     "text": [
      "Test Epoch 53/150, Test Loss: 1.6784605438059026: 100%|██████████| 22/22 [00:00<00:00, 226.86it/s]\n",
      "Train Epoch 54/150, Train Loss: 0.0: 100%|██████████| 22/22 [00:01<00:00, 18.43it/s]\n"
     ]
    },
    {
     "name": "stdout",
     "output_type": "stream",
     "text": [
      "Adjusting learning rate of group 0 to 1.5439e-07.\n"
     ]
    },
    {
     "name": "stderr",
     "output_type": "stream",
     "text": [
      "Test Epoch 54/150, Test Loss: 1.6779988353902644: 100%|██████████| 22/22 [00:00<00:00, 226.34it/s]\n",
      "Train Epoch 55/150, Train Loss: 0.0: 100%|██████████| 22/22 [00:01<00:00, 17.78it/s]\n"
     ]
    },
    {
     "name": "stdout",
     "output_type": "stream",
     "text": [
      "Adjusting learning rate of group 0 to 1.3123e-07.\n"
     ]
    },
    {
     "name": "stderr",
     "output_type": "stream",
     "text": [
      "Test Epoch 55/150, Test Loss: 1.6791260784322566: 100%|██████████| 22/22 [00:00<00:00, 230.35it/s]\n",
      "Train Epoch 56/150, Train Loss: 0.0: 100%|██████████| 22/22 [00:01<00:00, 17.94it/s]\n"
     ]
    },
    {
     "name": "stdout",
     "output_type": "stream",
     "text": [
      "Adjusting learning rate of group 0 to 1.1155e-07.\n"
     ]
    },
    {
     "name": "stderr",
     "output_type": "stream",
     "text": [
      "Test Epoch 56/150, Test Loss: 1.6796254353089766: 100%|██████████| 22/22 [00:00<00:00, 222.11it/s]\n",
      "Train Epoch 57/150, Train Loss: 0.0: 100%|██████████| 22/22 [00:01<00:00, 18.39it/s]\n"
     ]
    },
    {
     "name": "stdout",
     "output_type": "stream",
     "text": [
      "Adjusting learning rate of group 0 to 9.4815e-08.\n"
     ]
    },
    {
     "name": "stderr",
     "output_type": "stream",
     "text": [
      "Test Epoch 57/150, Test Loss: 1.6822074814276262: 100%|██████████| 22/22 [00:00<00:00, 223.24it/s]\n",
      "Train Epoch 58/150, Train Loss: 0.0: 100%|██████████| 22/22 [00:01<00:00, 17.86it/s]\n"
     ]
    },
    {
     "name": "stdout",
     "output_type": "stream",
     "text": [
      "Adjusting learning rate of group 0 to 8.0593e-08.\n"
     ]
    },
    {
     "name": "stderr",
     "output_type": "stream",
     "text": [
      "Test Epoch 58/150, Test Loss: 1.678403762253848: 100%|██████████| 22/22 [00:00<00:00, 225.70it/s]\n",
      "Train Epoch 59/150, Train Loss: 0.0: 100%|██████████| 22/22 [00:01<00:00, 18.40it/s]\n"
     ]
    },
    {
     "name": "stdout",
     "output_type": "stream",
     "text": [
      "Adjusting learning rate of group 0 to 6.8504e-08.\n"
     ]
    },
    {
     "name": "stderr",
     "output_type": "stream",
     "text": [
      "Test Epoch 59/150, Test Loss: 1.6819246194579385: 100%|██████████| 22/22 [00:00<00:00, 196.02it/s]\n",
      "Train Epoch 60/150, Train Loss: 0.0: 100%|██████████| 22/22 [00:01<00:00, 18.40it/s]\n"
     ]
    },
    {
     "name": "stdout",
     "output_type": "stream",
     "text": [
      "Adjusting learning rate of group 0 to 5.8228e-08.\n"
     ]
    },
    {
     "name": "stderr",
     "output_type": "stream",
     "text": [
      "Test Epoch 60/150, Test Loss: 1.679056855765256: 100%|██████████| 22/22 [00:00<00:00, 229.37it/s]\n",
      "Train Epoch 61/150, Train Loss: 0.0: 100%|██████████| 22/22 [00:01<00:00, 17.86it/s]\n"
     ]
    },
    {
     "name": "stdout",
     "output_type": "stream",
     "text": [
      "Adjusting learning rate of group 0 to 4.9494e-08.\n"
     ]
    },
    {
     "name": "stderr",
     "output_type": "stream",
     "text": [
      "Test Epoch 61/150, Test Loss: 1.6757345416329124: 100%|██████████| 22/22 [00:00<00:00, 222.07it/s]\n",
      "Train Epoch 62/150, Train Loss: 0.0: 100%|██████████| 22/22 [00:01<00:00, 18.41it/s]\n"
     ]
    },
    {
     "name": "stdout",
     "output_type": "stream",
     "text": [
      "Adjusting learning rate of group 0 to 4.2070e-08.\n"
     ]
    },
    {
     "name": "stderr",
     "output_type": "stream",
     "text": [
      "Test Epoch 62/150, Test Loss: 1.6771276918324558: 100%|██████████| 22/22 [00:00<00:00, 188.63it/s]\n",
      "Train Epoch 63/150, Train Loss: 0.0: 100%|██████████| 22/22 [00:01<00:00, 18.08it/s]\n"
     ]
    },
    {
     "name": "stdout",
     "output_type": "stream",
     "text": [
      "Adjusting learning rate of group 0 to 3.5760e-08.\n"
     ]
    },
    {
     "name": "stderr",
     "output_type": "stream",
     "text": [
      "Test Epoch 63/150, Test Loss: 1.6762848117134788: 100%|██████████| 22/22 [00:00<00:00, 168.74it/s]\n",
      "Train Epoch 64/150, Train Loss: 0.0: 100%|██████████| 22/22 [00:01<00:00, 17.11it/s]\n"
     ]
    },
    {
     "name": "stdout",
     "output_type": "stream",
     "text": [
      "Adjusting learning rate of group 0 to 3.0396e-08.\n"
     ]
    },
    {
     "name": "stderr",
     "output_type": "stream",
     "text": [
      "Test Epoch 64/150, Test Loss: 1.6798363002863796: 100%|██████████| 22/22 [00:00<00:00, 221.28it/s]\n",
      "Train Epoch 65/150, Train Loss: 0.0: 100%|██████████| 22/22 [00:01<00:00, 18.32it/s]\n"
     ]
    },
    {
     "name": "stdout",
     "output_type": "stream",
     "text": [
      "Adjusting learning rate of group 0 to 2.5836e-08.\n"
     ]
    },
    {
     "name": "stderr",
     "output_type": "stream",
     "text": [
      "Test Epoch 65/150, Test Loss: 1.680002580989491: 100%|██████████| 22/22 [00:00<00:00, 186.52it/s]\n",
      "Train Epoch 66/150, Train Loss: 0.0: 100%|██████████| 22/22 [00:01<00:00, 18.33it/s]\n"
     ]
    },
    {
     "name": "stdout",
     "output_type": "stream",
     "text": [
      "Adjusting learning rate of group 0 to 2.1961e-08.\n"
     ]
    },
    {
     "name": "stderr",
     "output_type": "stream",
     "text": [
      "Test Epoch 66/150, Test Loss: 1.6797514178536155: 100%|██████████| 22/22 [00:00<00:00, 224.31it/s]\n",
      "Train Epoch 67/150, Train Loss: 0.0: 100%|██████████| 22/22 [00:01<00:00, 17.97it/s]\n"
     ]
    },
    {
     "name": "stdout",
     "output_type": "stream",
     "text": [
      "Adjusting learning rate of group 0 to 1.8667e-08.\n"
     ]
    },
    {
     "name": "stderr",
     "output_type": "stream",
     "text": [
      "Test Epoch 67/150, Test Loss: 1.6784035671841016: 100%|██████████| 22/22 [00:00<00:00, 223.42it/s]\n",
      "Train Epoch 68/150, Train Loss: 0.0: 100%|██████████| 22/22 [00:01<00:00, 18.25it/s]\n"
     ]
    },
    {
     "name": "stdout",
     "output_type": "stream",
     "text": [
      "Adjusting learning rate of group 0 to 1.5867e-08.\n"
     ]
    },
    {
     "name": "stderr",
     "output_type": "stream",
     "text": [
      "Test Epoch 68/150, Test Loss: 1.6834485801783474: 100%|██████████| 22/22 [00:00<00:00, 222.48it/s]\n",
      "Train Epoch 69/150, Train Loss: 0.0: 100%|██████████| 22/22 [00:01<00:00, 18.14it/s]\n"
     ]
    },
    {
     "name": "stdout",
     "output_type": "stream",
     "text": [
      "Adjusting learning rate of group 0 to 1.3487e-08.\n"
     ]
    },
    {
     "name": "stderr",
     "output_type": "stream",
     "text": [
      "Test Epoch 69/150, Test Loss: 1.6788714528083801: 100%|██████████| 22/22 [00:00<00:00, 228.30it/s]\n",
      "Train Epoch 70/150, Train Loss: 0.0: 100%|██████████| 22/22 [00:01<00:00, 18.45it/s]\n"
     ]
    },
    {
     "name": "stdout",
     "output_type": "stream",
     "text": [
      "Adjusting learning rate of group 0 to 1.1464e-08.\n"
     ]
    },
    {
     "name": "stderr",
     "output_type": "stream",
     "text": [
      "Test Epoch 70/150, Test Loss: 1.6803465539758855: 100%|██████████| 22/22 [00:00<00:00, 183.59it/s]\n",
      "Train Epoch 71/150, Train Loss: 0.0: 100%|██████████| 22/22 [00:01<00:00, 18.32it/s]\n"
     ]
    },
    {
     "name": "stdout",
     "output_type": "stream",
     "text": [
      "Adjusting learning rate of group 0 to 9.7441e-09.\n"
     ]
    },
    {
     "name": "stderr",
     "output_type": "stream",
     "text": [
      "Test Epoch 71/150, Test Loss: 1.6799953146414324: 100%|██████████| 22/22 [00:00<00:00, 224.86it/s]\n",
      "Train Epoch 72/150, Train Loss: 0.0: 100%|██████████| 22/22 [00:01<00:00, 17.97it/s]\n"
     ]
    },
    {
     "name": "stdout",
     "output_type": "stream",
     "text": [
      "Adjusting learning rate of group 0 to 8.2825e-09.\n"
     ]
    },
    {
     "name": "stderr",
     "output_type": "stream",
     "text": [
      "Test Epoch 72/150, Test Loss: 1.679577025500211: 100%|██████████| 22/22 [00:00<00:00, 229.24it/s]\n",
      "Train Epoch 73/150, Train Loss: 0.0: 100%|██████████| 22/22 [00:01<00:00, 18.55it/s]\n"
     ]
    },
    {
     "name": "stdout",
     "output_type": "stream",
     "text": [
      "Adjusting learning rate of group 0 to 7.0401e-09.\n"
     ]
    },
    {
     "name": "stderr",
     "output_type": "stream",
     "text": [
      "Test Epoch 73/150, Test Loss: 1.6770117607983677: 100%|██████████| 22/22 [00:00<00:00, 182.12it/s]\n",
      "Train Epoch 74/150, Train Loss: 0.0: 100%|██████████| 22/22 [00:01<00:00, 18.35it/s]\n"
     ]
    },
    {
     "name": "stdout",
     "output_type": "stream",
     "text": [
      "Adjusting learning rate of group 0 to 5.9841e-09.\n"
     ]
    },
    {
     "name": "stderr",
     "output_type": "stream",
     "text": [
      "Test Epoch 74/150, Test Loss: 1.6742353493517095: 100%|██████████| 22/22 [00:00<00:00, 223.35it/s]\n",
      "Train Epoch 75/150, Train Loss: 0.0: 100%|██████████| 22/22 [00:01<00:00, 18.03it/s]\n"
     ]
    },
    {
     "name": "stdout",
     "output_type": "stream",
     "text": [
      "Adjusting learning rate of group 0 to 5.0865e-09.\n"
     ]
    },
    {
     "name": "stderr",
     "output_type": "stream",
     "text": [
      "Test Epoch 75/150, Test Loss: 1.6772818511182612: 100%|██████████| 22/22 [00:00<00:00, 227.57it/s]\n",
      "Train Epoch 76/150, Train Loss: 0.0: 100%|██████████| 22/22 [00:01<00:00, 18.30it/s]\n"
     ]
    },
    {
     "name": "stdout",
     "output_type": "stream",
     "text": [
      "Adjusting learning rate of group 0 to 4.3235e-09.\n"
     ]
    },
    {
     "name": "stderr",
     "output_type": "stream",
     "text": [
      "Test Epoch 76/150, Test Loss: 1.678089900450273: 100%|██████████| 22/22 [00:00<00:00, 224.96it/s]\n",
      "Train Epoch 77/150, Train Loss: 0.0: 100%|██████████| 22/22 [00:01<00:00, 17.99it/s]\n"
     ]
    },
    {
     "name": "stdout",
     "output_type": "stream",
     "text": [
      "Adjusting learning rate of group 0 to 3.6750e-09.\n"
     ]
    },
    {
     "name": "stderr",
     "output_type": "stream",
     "text": [
      "Test Epoch 77/150, Test Loss: 1.6789056116884404: 100%|██████████| 22/22 [00:00<00:00, 225.68it/s]\n",
      "Train Epoch 78/150, Train Loss: 0.0: 100%|██████████| 22/22 [00:01<00:00, 18.44it/s]\n"
     ]
    },
    {
     "name": "stdout",
     "output_type": "stream",
     "text": [
      "Adjusting learning rate of group 0 to 3.1237e-09.\n"
     ]
    },
    {
     "name": "stderr",
     "output_type": "stream",
     "text": [
      "Test Epoch 78/150, Test Loss: 1.6809228225187822: 100%|██████████| 22/22 [00:00<00:00, 186.83it/s]\n",
      "Train Epoch 79/150, Train Loss: 0.0: 100%|██████████| 22/22 [00:01<00:00, 18.25it/s]\n"
     ]
    },
    {
     "name": "stdout",
     "output_type": "stream",
     "text": [
      "Adjusting learning rate of group 0 to 2.6552e-09.\n"
     ]
    },
    {
     "name": "stderr",
     "output_type": "stream",
     "text": [
      "Test Epoch 79/150, Test Loss: 1.6751254526051609: 100%|██████████| 22/22 [00:00<00:00, 225.35it/s]\n",
      "Train Epoch 80/150, Train Loss: 0.0: 100%|██████████| 22/22 [00:01<00:00, 17.84it/s]\n"
     ]
    },
    {
     "name": "stdout",
     "output_type": "stream",
     "text": [
      "Adjusting learning rate of group 0 to 2.2569e-09.\n"
     ]
    },
    {
     "name": "stderr",
     "output_type": "stream",
     "text": [
      "Test Epoch 80/150, Test Loss: 1.6804525310342961: 100%|██████████| 22/22 [00:00<00:00, 212.72it/s]\n",
      "Train Epoch 81/150, Train Loss: 0.0: 100%|██████████| 22/22 [00:01<00:00, 18.58it/s]\n"
     ]
    },
    {
     "name": "stdout",
     "output_type": "stream",
     "text": [
      "Adjusting learning rate of group 0 to 1.9184e-09.\n"
     ]
    },
    {
     "name": "stderr",
     "output_type": "stream",
     "text": [
      "Test Epoch 81/150, Test Loss: 1.682792300527746: 100%|██████████| 22/22 [00:00<00:00, 185.35it/s]\n",
      "Train Epoch 82/150, Train Loss: 0.0: 100%|██████████| 22/22 [00:01<00:00, 18.42it/s]\n"
     ]
    },
    {
     "name": "stdout",
     "output_type": "stream",
     "text": [
      "Adjusting learning rate of group 0 to 1.6306e-09.\n"
     ]
    },
    {
     "name": "stderr",
     "output_type": "stream",
     "text": [
      "Test Epoch 82/150, Test Loss: 1.6757740486751904: 100%|██████████| 22/22 [00:00<00:00, 231.59it/s]\n",
      "Train Epoch 83/150, Train Loss: 0.0: 100%|██████████| 22/22 [00:01<00:00, 17.65it/s]\n"
     ]
    },
    {
     "name": "stdout",
     "output_type": "stream",
     "text": [
      "Adjusting learning rate of group 0 to 1.3860e-09.\n"
     ]
    },
    {
     "name": "stderr",
     "output_type": "stream",
     "text": [
      "Test Epoch 83/150, Test Loss: 1.6797326369719072: 100%|██████████| 22/22 [00:00<00:00, 222.32it/s]\n",
      "Train Epoch 84/150, Train Loss: 0.0: 100%|██████████| 22/22 [00:01<00:00, 18.33it/s]\n"
     ]
    },
    {
     "name": "stdout",
     "output_type": "stream",
     "text": [
      "Adjusting learning rate of group 0 to 1.1781e-09.\n"
     ]
    },
    {
     "name": "stderr",
     "output_type": "stream",
     "text": [
      "Test Epoch 84/150, Test Loss: 1.6766473325816067: 100%|██████████| 22/22 [00:00<00:00, 225.47it/s]\n",
      "Train Epoch 85/150, Train Loss: 0.0: 100%|██████████| 22/22 [00:01<00:00, 18.04it/s]\n"
     ]
    },
    {
     "name": "stdout",
     "output_type": "stream",
     "text": [
      "Adjusting learning rate of group 0 to 1.0014e-09.\n"
     ]
    },
    {
     "name": "stderr",
     "output_type": "stream",
     "text": [
      "Test Epoch 85/150, Test Loss: 1.678625058044087: 100%|██████████| 22/22 [00:00<00:00, 227.88it/s]\n",
      "Train Epoch 86/150, Train Loss: 0.0: 100%|██████████| 22/22 [00:01<00:00, 17.90it/s]\n"
     ]
    },
    {
     "name": "stdout",
     "output_type": "stream",
     "text": [
      "Adjusting learning rate of group 0 to 8.5119e-10.\n"
     ]
    },
    {
     "name": "stderr",
     "output_type": "stream",
     "text": [
      "Test Epoch 86/150, Test Loss: 1.681304319338365: 100%|██████████| 22/22 [00:00<00:00, 227.47it/s]\n",
      "Train Epoch 87/150, Train Loss: 0.0: 100%|██████████| 22/22 [00:01<00:00, 18.39it/s]\n"
     ]
    },
    {
     "name": "stdout",
     "output_type": "stream",
     "text": [
      "Adjusting learning rate of group 0 to 7.2351e-10.\n"
     ]
    },
    {
     "name": "stderr",
     "output_type": "stream",
     "text": [
      "Test Epoch 87/150, Test Loss: 1.6800167560577393: 100%|██████████| 22/22 [00:00<00:00, 224.24it/s]\n",
      "Train Epoch 88/150, Train Loss: 0.0: 100%|██████████| 22/22 [00:01<00:00, 17.96it/s]\n"
     ]
    },
    {
     "name": "stdout",
     "output_type": "stream",
     "text": [
      "Adjusting learning rate of group 0 to 6.1499e-10.\n"
     ]
    },
    {
     "name": "stderr",
     "output_type": "stream",
     "text": [
      "Test Epoch 88/150, Test Loss: 1.6793197772719644: 100%|██████████| 22/22 [00:00<00:00, 227.53it/s]\n",
      "Train Epoch 89/150, Train Loss: 0.0: 100%|██████████| 22/22 [00:01<00:00, 18.27it/s]\n"
     ]
    },
    {
     "name": "stdout",
     "output_type": "stream",
     "text": [
      "Adjusting learning rate of group 0 to 5.2274e-10.\n"
     ]
    },
    {
     "name": "stderr",
     "output_type": "stream",
     "text": [
      "Test Epoch 89/150, Test Loss: 1.6790622797879307: 100%|██████████| 22/22 [00:00<00:00, 227.53it/s]\n",
      "Train Epoch 90/150, Train Loss: 0.0: 100%|██████████| 22/22 [00:01<00:00, 17.97it/s]\n"
     ]
    },
    {
     "name": "stdout",
     "output_type": "stream",
     "text": [
      "Adjusting learning rate of group 0 to 4.4433e-10.\n"
     ]
    },
    {
     "name": "stderr",
     "output_type": "stream",
     "text": [
      "Test Epoch 90/150, Test Loss: 1.6800497391007163: 100%|██████████| 22/22 [00:00<00:00, 217.00it/s]\n",
      "Train Epoch 91/150, Train Loss: 0.0: 100%|██████████| 22/22 [00:01<00:00, 18.49it/s]\n"
     ]
    },
    {
     "name": "stdout",
     "output_type": "stream",
     "text": [
      "Adjusting learning rate of group 0 to 3.7768e-10.\n"
     ]
    },
    {
     "name": "stderr",
     "output_type": "stream",
     "text": [
      "Test Epoch 91/150, Test Loss: 1.676348539915952: 100%|██████████| 22/22 [00:00<00:00, 191.68it/s]\n",
      "Train Epoch 92/150, Train Loss: 0.0: 100%|██████████| 22/22 [00:01<00:00, 18.53it/s]\n"
     ]
    },
    {
     "name": "stdout",
     "output_type": "stream",
     "text": [
      "Adjusting learning rate of group 0 to 3.2103e-10.\n"
     ]
    },
    {
     "name": "stderr",
     "output_type": "stream",
     "text": [
      "Test Epoch 92/150, Test Loss: 1.6790313774889165: 100%|██████████| 22/22 [00:00<00:00, 226.01it/s]\n",
      "Train Epoch 93/150, Train Loss: 0.0: 100%|██████████| 22/22 [00:01<00:00, 17.87it/s]\n"
     ]
    },
    {
     "name": "stdout",
     "output_type": "stream",
     "text": [
      "Adjusting learning rate of group 0 to 2.7287e-10.\n"
     ]
    },
    {
     "name": "stderr",
     "output_type": "stream",
     "text": [
      "Test Epoch 93/150, Test Loss: 1.6749884594570508: 100%|██████████| 22/22 [00:00<00:00, 229.46it/s]\n",
      "Train Epoch 94/150, Train Loss: 0.0: 100%|██████████| 22/22 [00:01<00:00, 18.38it/s]\n"
     ]
    },
    {
     "name": "stdout",
     "output_type": "stream",
     "text": [
      "Adjusting learning rate of group 0 to 2.3194e-10.\n"
     ]
    },
    {
     "name": "stderr",
     "output_type": "stream",
     "text": [
      "Test Epoch 94/150, Test Loss: 1.6762632510878823: 100%|██████████| 22/22 [00:00<00:00, 227.30it/s]\n",
      "Train Epoch 95/150, Train Loss: 0.0: 100%|██████████| 22/22 [00:01<00:00, 18.10it/s]\n"
     ]
    },
    {
     "name": "stdout",
     "output_type": "stream",
     "text": [
      "Adjusting learning rate of group 0 to 1.9715e-10.\n"
     ]
    },
    {
     "name": "stderr",
     "output_type": "stream",
     "text": [
      "Test Epoch 95/150, Test Loss: 1.6798859672112898: 100%|██████████| 22/22 [00:00<00:00, 226.43it/s]\n",
      "Train Epoch 96/150, Train Loss: 0.0: 100%|██████████| 22/22 [00:01<00:00, 18.20it/s]\n"
     ]
    },
    {
     "name": "stdout",
     "output_type": "stream",
     "text": [
      "Adjusting learning rate of group 0 to 1.6758e-10.\n"
     ]
    },
    {
     "name": "stderr",
     "output_type": "stream",
     "text": [
      "Test Epoch 96/150, Test Loss: 1.6773655848069624: 100%|██████████| 22/22 [00:00<00:00, 184.81it/s]\n",
      "Train Epoch 97/150, Train Loss: 0.0: 100%|██████████| 22/22 [00:01<00:00, 18.43it/s]\n"
     ]
    },
    {
     "name": "stdout",
     "output_type": "stream",
     "text": [
      "Adjusting learning rate of group 0 to 1.4244e-10.\n"
     ]
    },
    {
     "name": "stderr",
     "output_type": "stream",
     "text": [
      "Test Epoch 97/150, Test Loss: 1.6771816286173733: 100%|██████████| 22/22 [00:00<00:00, 232.48it/s]\n",
      "Train Epoch 98/150, Train Loss: 0.0: 100%|██████████| 22/22 [00:01<00:00, 17.99it/s]\n"
     ]
    },
    {
     "name": "stdout",
     "output_type": "stream",
     "text": [
      "Adjusting learning rate of group 0 to 1.2108e-10.\n"
     ]
    },
    {
     "name": "stderr",
     "output_type": "stream",
     "text": [
      "Test Epoch 98/150, Test Loss: 1.6773629080165515: 100%|██████████| 22/22 [00:00<00:00, 229.53it/s]\n",
      "Train Epoch 99/150, Train Loss: 0.0: 100%|██████████| 22/22 [00:01<00:00, 18.22it/s]\n"
     ]
    },
    {
     "name": "stdout",
     "output_type": "stream",
     "text": [
      "Adjusting learning rate of group 0 to 1.0291e-10.\n"
     ]
    },
    {
     "name": "stderr",
     "output_type": "stream",
     "text": [
      "Test Epoch 99/150, Test Loss: 1.6772976842793552: 100%|██████████| 22/22 [00:00<00:00, 181.73it/s]\n",
      "Train Epoch 100/150, Train Loss: 0.0: 100%|██████████| 22/22 [00:01<00:00, 18.21it/s]\n"
     ]
    },
    {
     "name": "stdout",
     "output_type": "stream",
     "text": [
      "Adjusting learning rate of group 0 to 8.7477e-11.\n"
     ]
    },
    {
     "name": "stderr",
     "output_type": "stream",
     "text": [
      "Test Epoch 100/150, Test Loss: 1.6783197142861106: 100%|██████████| 22/22 [00:00<00:00, 227.43it/s]\n",
      "Train Epoch 101/150, Train Loss: 0.0: 100%|██████████| 22/22 [00:01<00:00, 17.85it/s]\n"
     ]
    },
    {
     "name": "stdout",
     "output_type": "stream",
     "text": [
      "Adjusting learning rate of group 0 to 7.4355e-11.\n"
     ]
    },
    {
     "name": "stderr",
     "output_type": "stream",
     "text": [
      "Test Epoch 101/150, Test Loss: 1.6791850491003557: 100%|██████████| 22/22 [00:00<00:00, 224.32it/s]\n",
      "Train Epoch 102/150, Train Loss: 0.0: 100%|██████████| 22/22 [00:01<00:00, 18.39it/s]\n"
     ]
    },
    {
     "name": "stdout",
     "output_type": "stream",
     "text": [
      "Adjusting learning rate of group 0 to 6.3202e-11.\n"
     ]
    },
    {
     "name": "stderr",
     "output_type": "stream",
     "text": [
      "Test Epoch 102/150, Test Loss: 1.6775053902105852: 100%|██████████| 22/22 [00:00<00:00, 182.79it/s]\n",
      "Train Epoch 103/150, Train Loss: 0.0: 100%|██████████| 22/22 [00:01<00:00, 18.24it/s]\n"
     ]
    },
    {
     "name": "stdout",
     "output_type": "stream",
     "text": [
      "Adjusting learning rate of group 0 to 5.3722e-11.\n"
     ]
    },
    {
     "name": "stderr",
     "output_type": "stream",
     "text": [
      "Test Epoch 103/150, Test Loss: 1.6767102100632407: 100%|██████████| 22/22 [00:00<00:00, 227.81it/s]\n",
      "Train Epoch 104/150, Train Loss: 0.0: 100%|██████████| 22/22 [00:01<00:00, 17.97it/s]\n"
     ]
    },
    {
     "name": "stdout",
     "output_type": "stream",
     "text": [
      "Adjusting learning rate of group 0 to 4.5663e-11.\n"
     ]
    },
    {
     "name": "stderr",
     "output_type": "stream",
     "text": [
      "Test Epoch 104/150, Test Loss: 1.679474792697213: 100%|██████████| 22/22 [00:00<00:00, 228.11it/s]\n",
      "Train Epoch 105/150, Train Loss: 0.0: 100%|██████████| 22/22 [00:01<00:00, 18.42it/s]\n"
     ]
    },
    {
     "name": "stdout",
     "output_type": "stream",
     "text": [
      "Adjusting learning rate of group 0 to 3.8814e-11.\n"
     ]
    },
    {
     "name": "stderr",
     "output_type": "stream",
     "text": [
      "Test Epoch 105/150, Test Loss: 1.6777473363009365: 100%|██████████| 22/22 [00:00<00:00, 225.50it/s]\n",
      "Train Epoch 106/150, Train Loss: 0.0: 100%|██████████| 22/22 [00:01<00:00, 17.94it/s]\n"
     ]
    },
    {
     "name": "stdout",
     "output_type": "stream",
     "text": [
      "Adjusting learning rate of group 0 to 3.2992e-11.\n"
     ]
    },
    {
     "name": "stderr",
     "output_type": "stream",
     "text": [
      "Test Epoch 106/150, Test Loss: 1.677176453850486: 100%|██████████| 22/22 [00:00<00:00, 226.86it/s]\n",
      "Train Epoch 107/150, Train Loss: 0.0: 100%|██████████| 22/22 [00:01<00:00, 18.22it/s]\n"
     ]
    },
    {
     "name": "stdout",
     "output_type": "stream",
     "text": [
      "Adjusting learning rate of group 0 to 2.8043e-11.\n"
     ]
    },
    {
     "name": "stderr",
     "output_type": "stream",
     "text": [
      "Test Epoch 107/150, Test Loss: 1.6777343587441877: 100%|██████████| 22/22 [00:00<00:00, 183.01it/s]\n",
      "Train Epoch 108/150, Train Loss: 0.0: 100%|██████████| 22/22 [00:01<00:00, 18.54it/s]\n"
     ]
    },
    {
     "name": "stdout",
     "output_type": "stream",
     "text": [
      "Adjusting learning rate of group 0 to 2.3837e-11.\n"
     ]
    },
    {
     "name": "stderr",
     "output_type": "stream",
     "text": [
      "Test Epoch 108/150, Test Loss: 1.680099292234941: 100%|██████████| 22/22 [00:00<00:00, 223.26it/s]\n",
      "Train Epoch 109/150, Train Loss: 0.0: 100%|██████████| 22/22 [00:01<00:00, 18.02it/s]\n"
     ]
    },
    {
     "name": "stdout",
     "output_type": "stream",
     "text": [
      "Adjusting learning rate of group 0 to 2.0261e-11.\n"
     ]
    },
    {
     "name": "stderr",
     "output_type": "stream",
     "text": [
      "Test Epoch 109/150, Test Loss: 1.6751480048353022: 100%|██████████| 22/22 [00:00<00:00, 221.93it/s]\n",
      "Train Epoch 110/150, Train Loss: 0.0: 100%|██████████| 22/22 [00:01<00:00, 17.63it/s]\n"
     ]
    },
    {
     "name": "stdout",
     "output_type": "stream",
     "text": [
      "Adjusting learning rate of group 0 to 1.7222e-11.\n"
     ]
    },
    {
     "name": "stderr",
     "output_type": "stream",
     "text": [
      "Test Epoch 110/150, Test Loss: 1.6789265437559648: 100%|██████████| 22/22 [00:00<00:00, 206.33it/s]\n",
      "Train Epoch 111/150, Train Loss: 0.0: 100%|██████████| 22/22 [00:01<00:00, 17.90it/s]\n"
     ]
    },
    {
     "name": "stdout",
     "output_type": "stream",
     "text": [
      "Adjusting learning rate of group 0 to 1.4639e-11.\n"
     ]
    },
    {
     "name": "stderr",
     "output_type": "stream",
     "text": [
      "Test Epoch 111/150, Test Loss: 1.6782447370615872: 100%|██████████| 22/22 [00:00<00:00, 222.74it/s]\n",
      "Train Epoch 112/150, Train Loss: 0.0: 100%|██████████| 22/22 [00:01<00:00, 18.18it/s]\n"
     ]
    },
    {
     "name": "stdout",
     "output_type": "stream",
     "text": [
      "Adjusting learning rate of group 0 to 1.2443e-11.\n"
     ]
    },
    {
     "name": "stderr",
     "output_type": "stream",
     "text": [
      "Test Epoch 112/150, Test Loss: 1.6807589260014622: 100%|██████████| 22/22 [00:00<00:00, 185.21it/s]\n",
      "Train Epoch 113/150, Train Loss: 0.0: 100%|██████████| 22/22 [00:01<00:00, 18.31it/s]\n"
     ]
    },
    {
     "name": "stdout",
     "output_type": "stream",
     "text": [
      "Adjusting learning rate of group 0 to 1.0576e-11.\n"
     ]
    },
    {
     "name": "stderr",
     "output_type": "stream",
     "text": [
      "Test Epoch 113/150, Test Loss: 1.6781703287904912: 100%|██████████| 22/22 [00:00<00:00, 225.35it/s]\n",
      "Train Epoch 114/150, Train Loss: 0.0: 100%|██████████| 22/22 [00:01<00:00, 18.07it/s]\n"
     ]
    },
    {
     "name": "stdout",
     "output_type": "stream",
     "text": [
      "Adjusting learning rate of group 0 to 8.9900e-12.\n"
     ]
    },
    {
     "name": "stderr",
     "output_type": "stream",
     "text": [
      "Test Epoch 114/150, Test Loss: 1.679002350026911: 100%|██████████| 22/22 [00:00<00:00, 230.65it/s]\n",
      "Train Epoch 115/150, Train Loss: 0.0: 100%|██████████| 22/22 [00:01<00:00, 18.32it/s]\n"
     ]
    },
    {
     "name": "stdout",
     "output_type": "stream",
     "text": [
      "Adjusting learning rate of group 0 to 7.6415e-12.\n"
     ]
    },
    {
     "name": "stderr",
     "output_type": "stream",
     "text": [
      "Test Epoch 115/150, Test Loss: 1.6812705343419856: 100%|██████████| 22/22 [00:00<00:00, 225.17it/s]\n",
      "Train Epoch 116/150, Train Loss: 0.0: 100%|██████████| 22/22 [00:01<00:00, 17.94it/s]\n"
     ]
    },
    {
     "name": "stdout",
     "output_type": "stream",
     "text": [
      "Adjusting learning rate of group 0 to 6.4952e-12.\n"
     ]
    },
    {
     "name": "stderr",
     "output_type": "stream",
     "text": [
      "Test Epoch 116/150, Test Loss: 1.6795958280563354: 100%|██████████| 22/22 [00:00<00:00, 207.81it/s]\n",
      "Train Epoch 117/150, Train Loss: 0.0: 100%|██████████| 22/22 [00:01<00:00, 17.96it/s]\n"
     ]
    },
    {
     "name": "stdout",
     "output_type": "stream",
     "text": [
      "Adjusting learning rate of group 0 to 5.5210e-12.\n"
     ]
    },
    {
     "name": "stderr",
     "output_type": "stream",
     "text": [
      "Test Epoch 117/150, Test Loss: 1.6802146705714138: 100%|██████████| 22/22 [00:00<00:00, 225.04it/s]\n",
      "Train Epoch 118/150, Train Loss: 0.0: 100%|██████████| 22/22 [00:01<00:00, 18.46it/s]\n"
     ]
    },
    {
     "name": "stdout",
     "output_type": "stream",
     "text": [
      "Adjusting learning rate of group 0 to 4.6928e-12.\n"
     ]
    },
    {
     "name": "stderr",
     "output_type": "stream",
     "text": [
      "Test Epoch 118/150, Test Loss: 1.6794821240685203: 100%|██████████| 22/22 [00:00<00:00, 227.26it/s]\n",
      "Train Epoch 119/150, Train Loss: 0.0: 100%|██████████| 22/22 [00:01<00:00, 17.99it/s]\n"
     ]
    },
    {
     "name": "stdout",
     "output_type": "stream",
     "text": [
      "Adjusting learning rate of group 0 to 3.9889e-12.\n"
     ]
    },
    {
     "name": "stderr",
     "output_type": "stream",
     "text": [
      "Test Epoch 119/150, Test Loss: 1.681365116076036: 100%|██████████| 22/22 [00:00<00:00, 225.77it/s]\n",
      "Train Epoch 120/150, Train Loss: 0.0: 100%|██████████| 22/22 [00:01<00:00, 18.40it/s]\n"
     ]
    },
    {
     "name": "stdout",
     "output_type": "stream",
     "text": [
      "Adjusting learning rate of group 0 to 3.3906e-12.\n"
     ]
    },
    {
     "name": "stderr",
     "output_type": "stream",
     "text": [
      "Test Epoch 120/150, Test Loss: 1.678008339621804: 100%|██████████| 22/22 [00:00<00:00, 222.60it/s]\n",
      "Train Epoch 121/150, Train Loss: 0.0: 100%|██████████| 22/22 [00:01<00:00, 17.89it/s]\n"
     ]
    },
    {
     "name": "stdout",
     "output_type": "stream",
     "text": [
      "Adjusting learning rate of group 0 to 2.8820e-12.\n"
     ]
    },
    {
     "name": "stderr",
     "output_type": "stream",
     "text": [
      "Test Epoch 121/150, Test Loss: 1.684221094304865: 100%|██████████| 22/22 [00:00<00:00, 224.67it/s]\n",
      "Train Epoch 122/150, Train Loss: 0.0: 100%|██████████| 22/22 [00:01<00:00, 18.43it/s]\n"
     ]
    },
    {
     "name": "stdout",
     "output_type": "stream",
     "text": [
      "Adjusting learning rate of group 0 to 2.4497e-12.\n"
     ]
    },
    {
     "name": "stderr",
     "output_type": "stream",
     "text": [
      "Test Epoch 122/150, Test Loss: 1.677726518024098: 100%|██████████| 22/22 [00:00<00:00, 188.02it/s]\n",
      "Train Epoch 123/150, Train Loss: 0.0: 100%|██████████| 22/22 [00:01<00:00, 18.11it/s]\n"
     ]
    },
    {
     "name": "stdout",
     "output_type": "stream",
     "text": [
      "Adjusting learning rate of group 0 to 2.0822e-12.\n"
     ]
    },
    {
     "name": "stderr",
     "output_type": "stream",
     "text": [
      "Test Epoch 123/150, Test Loss: 1.6795501438054172: 100%|██████████| 22/22 [00:00<00:00, 223.16it/s]\n",
      "Train Epoch 124/150, Train Loss: 0.0: 100%|██████████| 22/22 [00:01<00:00, 17.91it/s]\n"
     ]
    },
    {
     "name": "stdout",
     "output_type": "stream",
     "text": [
      "Adjusting learning rate of group 0 to 1.7699e-12.\n"
     ]
    },
    {
     "name": "stderr",
     "output_type": "stream",
     "text": [
      "Test Epoch 124/150, Test Loss: 1.6805555441162803: 100%|██████████| 22/22 [00:00<00:00, 227.91it/s]\n",
      "Train Epoch 125/150, Train Loss: 0.0: 100%|██████████| 22/22 [00:01<00:00, 18.26it/s]\n"
     ]
    },
    {
     "name": "stdout",
     "output_type": "stream",
     "text": [
      "Adjusting learning rate of group 0 to 1.5044e-12.\n"
     ]
    },
    {
     "name": "stderr",
     "output_type": "stream",
     "text": [
      "Test Epoch 125/150, Test Loss: 1.6794000972401013: 100%|██████████| 22/22 [00:00<00:00, 226.07it/s]\n",
      "Train Epoch 126/150, Train Loss: 0.0: 100%|██████████| 22/22 [00:01<00:00, 17.91it/s]\n"
     ]
    },
    {
     "name": "stdout",
     "output_type": "stream",
     "text": [
      "Adjusting learning rate of group 0 to 1.2787e-12.\n"
     ]
    },
    {
     "name": "stderr",
     "output_type": "stream",
     "text": [
      "Test Epoch 126/150, Test Loss: 1.6784825975244695: 100%|██████████| 22/22 [00:00<00:00, 229.27it/s]\n",
      "Train Epoch 127/150, Train Loss: 0.0: 100%|██████████| 22/22 [00:01<00:00, 18.51it/s]\n"
     ]
    },
    {
     "name": "stdout",
     "output_type": "stream",
     "text": [
      "Adjusting learning rate of group 0 to 1.0869e-12.\n"
     ]
    },
    {
     "name": "stderr",
     "output_type": "stream",
     "text": [
      "Test Epoch 127/150, Test Loss: 1.6804638450795955: 100%|██████████| 22/22 [00:00<00:00, 223.40it/s]\n",
      "Train Epoch 128/150, Train Loss: 0.0: 100%|██████████| 22/22 [00:01<00:00, 17.94it/s]\n"
     ]
    },
    {
     "name": "stdout",
     "output_type": "stream",
     "text": [
      "Adjusting learning rate of group 0 to 9.2389e-13.\n"
     ]
    },
    {
     "name": "stderr",
     "output_type": "stream",
     "text": [
      "Test Epoch 128/150, Test Loss: 1.6780439669435674: 100%|██████████| 22/22 [00:00<00:00, 218.83it/s]\n",
      "Train Epoch 129/150, Train Loss: 0.0: 100%|██████████| 22/22 [00:01<00:00, 17.84it/s]\n"
     ]
    },
    {
     "name": "stdout",
     "output_type": "stream",
     "text": [
      "Adjusting learning rate of group 0 to 7.8531e-13.\n"
     ]
    },
    {
     "name": "stderr",
     "output_type": "stream",
     "text": [
      "Test Epoch 129/150, Test Loss: 1.679020020094785: 100%|██████████| 22/22 [00:00<00:00, 224.22it/s]\n",
      "Train Epoch 130/150, Train Loss: 0.0: 100%|██████████| 22/22 [00:01<00:00, 18.40it/s]\n"
     ]
    },
    {
     "name": "stdout",
     "output_type": "stream",
     "text": [
      "Adjusting learning rate of group 0 to 6.6751e-13.\n"
     ]
    },
    {
     "name": "stderr",
     "output_type": "stream",
     "text": [
      "Test Epoch 130/150, Test Loss: 1.6797707839445635: 100%|██████████| 22/22 [00:00<00:00, 224.22it/s]\n",
      "Train Epoch 131/150, Train Loss: 0.0: 100%|██████████| 22/22 [00:01<00:00, 17.96it/s]\n"
     ]
    },
    {
     "name": "stdout",
     "output_type": "stream",
     "text": [
      "Adjusting learning rate of group 0 to 5.6739e-13.\n"
     ]
    },
    {
     "name": "stderr",
     "output_type": "stream",
     "text": [
      "Test Epoch 131/150, Test Loss: 1.6795857386155562: 100%|██████████| 22/22 [00:00<00:00, 229.02it/s]\n",
      "Train Epoch 132/150, Train Loss: 0.0: 100%|██████████| 22/22 [00:01<00:00, 17.95it/s]\n"
     ]
    },
    {
     "name": "stdout",
     "output_type": "stream",
     "text": [
      "Adjusting learning rate of group 0 to 4.8228e-13.\n"
     ]
    },
    {
     "name": "stderr",
     "output_type": "stream",
     "text": [
      "Test Epoch 132/150, Test Loss: 1.6770313382148743: 100%|██████████| 22/22 [00:00<00:00, 226.49it/s]\n",
      "Train Epoch 133/150, Train Loss: 0.0: 100%|██████████| 22/22 [00:01<00:00, 18.16it/s]\n"
     ]
    },
    {
     "name": "stdout",
     "output_type": "stream",
     "text": [
      "Adjusting learning rate of group 0 to 4.0994e-13.\n"
     ]
    },
    {
     "name": "stderr",
     "output_type": "stream",
     "text": [
      "Test Epoch 133/150, Test Loss: 1.6765857989137822: 100%|██████████| 22/22 [00:00<00:00, 225.47it/s]\n",
      "Train Epoch 134/150, Train Loss: 0.0: 100%|██████████| 22/22 [00:01<00:00, 17.53it/s]\n"
     ]
    },
    {
     "name": "stdout",
     "output_type": "stream",
     "text": [
      "Adjusting learning rate of group 0 to 3.4845e-13.\n"
     ]
    },
    {
     "name": "stderr",
     "output_type": "stream",
     "text": [
      "Test Epoch 134/150, Test Loss: 1.6811709837480024: 100%|██████████| 22/22 [00:00<00:00, 223.63it/s]\n",
      "Train Epoch 135/150, Train Loss: 0.0: 100%|██████████| 22/22 [00:01<00:00, 18.18it/s]\n"
     ]
    },
    {
     "name": "stdout",
     "output_type": "stream",
     "text": [
      "Adjusting learning rate of group 0 to 2.9618e-13.\n"
     ]
    },
    {
     "name": "stderr",
     "output_type": "stream",
     "text": [
      "Test Epoch 135/150, Test Loss: 1.6797102635557002: 100%|██████████| 22/22 [00:00<00:00, 190.83it/s]\n",
      "Train Epoch 136/150, Train Loss: 0.0: 100%|██████████| 22/22 [00:01<00:00, 18.52it/s]\n"
     ]
    },
    {
     "name": "stdout",
     "output_type": "stream",
     "text": [
      "Adjusting learning rate of group 0 to 2.5175e-13.\n"
     ]
    },
    {
     "name": "stderr",
     "output_type": "stream",
     "text": [
      "Test Epoch 136/150, Test Loss: 1.6796035170555115: 100%|██████████| 22/22 [00:00<00:00, 226.56it/s]\n",
      "Train Epoch 137/150, Train Loss: 0.0: 100%|██████████| 22/22 [00:01<00:00, 17.89it/s]\n"
     ]
    },
    {
     "name": "stdout",
     "output_type": "stream",
     "text": [
      "Adjusting learning rate of group 0 to 2.1399e-13.\n"
     ]
    },
    {
     "name": "stderr",
     "output_type": "stream",
     "text": [
      "Test Epoch 137/150, Test Loss: 1.6795047250660984: 100%|██████████| 22/22 [00:00<00:00, 220.67it/s]\n",
      "Train Epoch 138/150, Train Loss: 0.0: 100%|██████████| 22/22 [00:01<00:00, 18.37it/s]\n"
     ]
    },
    {
     "name": "stdout",
     "output_type": "stream",
     "text": [
      "Adjusting learning rate of group 0 to 1.8189e-13.\n"
     ]
    },
    {
     "name": "stderr",
     "output_type": "stream",
     "text": [
      "Test Epoch 138/150, Test Loss: 1.6774990558624268: 100%|██████████| 22/22 [00:00<00:00, 224.62it/s]\n",
      "Train Epoch 139/150, Train Loss: 0.0: 100%|██████████| 22/22 [00:01<00:00, 17.95it/s]\n"
     ]
    },
    {
     "name": "stdout",
     "output_type": "stream",
     "text": [
      "Adjusting learning rate of group 0 to 1.5461e-13.\n"
     ]
    },
    {
     "name": "stderr",
     "output_type": "stream",
     "text": [
      "Test Epoch 139/150, Test Loss: 1.6809557676315308: 100%|██████████| 22/22 [00:00<00:00, 227.57it/s]\n",
      "Train Epoch 140/150, Train Loss: 0.0: 100%|██████████| 22/22 [00:01<00:00, 18.35it/s]\n"
     ]
    },
    {
     "name": "stdout",
     "output_type": "stream",
     "text": [
      "Adjusting learning rate of group 0 to 1.3142e-13.\n"
     ]
    },
    {
     "name": "stderr",
     "output_type": "stream",
     "text": [
      "Test Epoch 140/150, Test Loss: 1.678484770384702: 100%|██████████| 22/22 [00:00<00:00, 174.28it/s]\n",
      "Train Epoch 141/150, Train Loss: 0.0: 100%|██████████| 22/22 [00:01<00:00, 18.22it/s]\n"
     ]
    },
    {
     "name": "stdout",
     "output_type": "stream",
     "text": [
      "Adjusting learning rate of group 0 to 1.1170e-13.\n"
     ]
    },
    {
     "name": "stderr",
     "output_type": "stream",
     "text": [
      "Test Epoch 141/150, Test Loss: 1.6805464191870256: 100%|██████████| 22/22 [00:00<00:00, 230.01it/s]\n",
      "Train Epoch 142/150, Train Loss: 0.0: 100%|██████████| 22/22 [00:01<00:00, 17.97it/s]\n"
     ]
    },
    {
     "name": "stdout",
     "output_type": "stream",
     "text": [
      "Adjusting learning rate of group 0 to 9.4948e-14.\n"
     ]
    },
    {
     "name": "stderr",
     "output_type": "stream",
     "text": [
      "Test Epoch 142/150, Test Loss: 1.677834521640431: 100%|██████████| 22/22 [00:00<00:00, 226.83it/s]\n",
      "Train Epoch 143/150, Train Loss: 0.0: 100%|██████████| 22/22 [00:01<00:00, 18.29it/s]\n"
     ]
    },
    {
     "name": "stdout",
     "output_type": "stream",
     "text": [
      "Adjusting learning rate of group 0 to 8.0706e-14.\n"
     ]
    },
    {
     "name": "stderr",
     "output_type": "stream",
     "text": [
      "Test Epoch 143/150, Test Loss: 1.6826471144502813: 100%|██████████| 22/22 [00:00<00:00, 225.37it/s]\n",
      "Train Epoch 144/150, Train Loss: 0.0: 100%|██████████| 22/22 [00:01<00:00, 17.87it/s]\n"
     ]
    },
    {
     "name": "stdout",
     "output_type": "stream",
     "text": [
      "Adjusting learning rate of group 0 to 6.8600e-14.\n"
     ]
    },
    {
     "name": "stderr",
     "output_type": "stream",
     "text": [
      "Test Epoch 144/150, Test Loss: 1.6776787367734043: 100%|██████████| 22/22 [00:00<00:00, 226.96it/s]\n",
      "Train Epoch 145/150, Train Loss: 0.0: 100%|██████████| 22/22 [00:01<00:00, 18.28it/s]\n"
     ]
    },
    {
     "name": "stdout",
     "output_type": "stream",
     "text": [
      "Adjusting learning rate of group 0 to 5.8310e-14.\n"
     ]
    },
    {
     "name": "stderr",
     "output_type": "stream",
     "text": [
      "Test Epoch 145/150, Test Loss: 1.6800094246864319: 100%|██████████| 22/22 [00:00<00:00, 186.38it/s]\n",
      "Train Epoch 146/150, Train Loss: 0.0: 100%|██████████| 22/22 [00:01<00:00, 18.40it/s]\n"
     ]
    },
    {
     "name": "stdout",
     "output_type": "stream",
     "text": [
      "Adjusting learning rate of group 0 to 4.9564e-14.\n"
     ]
    },
    {
     "name": "stderr",
     "output_type": "stream",
     "text": [
      "Test Epoch 146/150, Test Loss: 1.6771206151355396: 100%|██████████| 22/22 [00:00<00:00, 225.53it/s]\n",
      "Train Epoch 147/150, Train Loss: 0.0: 100%|██████████| 22/22 [00:01<00:00, 17.83it/s]\n"
     ]
    },
    {
     "name": "stdout",
     "output_type": "stream",
     "text": [
      "Adjusting learning rate of group 0 to 4.2129e-14.\n"
     ]
    },
    {
     "name": "stderr",
     "output_type": "stream",
     "text": [
      "Test Epoch 147/150, Test Loss: 1.6780053593895652: 100%|██████████| 22/22 [00:00<00:00, 225.59it/s]\n",
      "Train Epoch 148/150, Train Loss: 0.0: 100%|██████████| 22/22 [00:01<00:00, 18.23it/s]\n"
     ]
    },
    {
     "name": "stdout",
     "output_type": "stream",
     "text": [
      "Adjusting learning rate of group 0 to 3.5810e-14.\n"
     ]
    },
    {
     "name": "stderr",
     "output_type": "stream",
     "text": [
      "Test Epoch 148/150, Test Loss: 1.6807517517696728: 100%|██████████| 22/22 [00:00<00:00, 225.53it/s]\n",
      "Train Epoch 149/150, Train Loss: 0.0: 100%|██████████| 22/22 [00:01<00:00, 17.78it/s]\n"
     ]
    },
    {
     "name": "stdout",
     "output_type": "stream",
     "text": [
      "Adjusting learning rate of group 0 to 3.0438e-14.\n"
     ]
    },
    {
     "name": "stderr",
     "output_type": "stream",
     "text": [
      "Test Epoch 149/150, Test Loss: 1.67632534829053: 100%|██████████| 22/22 [00:00<00:00, 221.60it/s]\n",
      "Train Epoch 150/150, Train Loss: 0.0: 100%|██████████| 22/22 [00:01<00:00, 18.53it/s]\n"
     ]
    },
    {
     "name": "stdout",
     "output_type": "stream",
     "text": [
      "Adjusting learning rate of group 0 to 2.5873e-14.\n"
     ]
    },
    {
     "name": "stderr",
     "output_type": "stream",
     "text": [
      "Test Epoch 150/150, Test Loss: 1.6804856332865628: 100%|██████████| 22/22 [00:00<00:00, 230.01it/s]\n"
     ]
    }
   ],
   "source": [
    "train_loss, val_loss = [], []\n",
    "for epoch in range(EPOCHS):\n",
    "    model.train()\n",
    "    \n",
    "    running_loss = 0.0\n",
    "    for idx, data in tqdm(enumerate(train_dataloader), total=len(train_dataloader), desc=f\"Train Epoch {epoch+1}/{EPOCHS}, Train Loss: {running_loss / len(train_dataloader)}\"):\n",
    "        X_data_1, X_data_2, y_data = data\n",
    "        X_data_1 = X_data_1.to(device).reshape(-1, 1)\n",
    "        X_data_2 = X_data_2.to(device).reshape(-1, 1)\n",
    "        y_data = y_data.to(device)\n",
    "        \n",
    "        optimizer.zero_grad()\n",
    "        y_pred = model(X_data_1, X_data_2).reshape(-1, 6)\n",
    "\n",
    "        loss = criterion(y_pred, y_data)\n",
    "        running_loss += loss.item()\n",
    "\n",
    "        loss.backward()\n",
    "        optimizer.step()\n",
    "    scheduler.step()\n",
    "    train_loss.append(running_loss / len(train_dataloader))\n",
    "\n",
    "    model.eval()\n",
    "    with torch.no_grad():\n",
    "        correct = 0\n",
    "        total = 0\n",
    "        for idx, data in tqdm(enumerate(test_dataloader), total=len(test_dataloader), desc=f\"Test Epoch {epoch+1}/{EPOCHS}, Test Loss: {running_loss / len(test_dataloader)}\"):\n",
    "            X_data_1, X_data_2, y_data = data \n",
    "            X_data_1 = X_data_1.to(device).reshape(-1, 1)\n",
    "            X_data_2 = X_data_2.to(device).reshape(-1, 1)\n",
    "            y_data = y_data.to(device)\n",
    "\n",
    "            y_pred = model(X_data_1, X_data_2).reshape(-1, 6)\n",
    "            loss = criterion(y_pred, y_data)\n",
    "            running_loss += loss.item()\n",
    "\n",
    "            _, predicted = torch.max(y_pred.data, 1)\n",
    "            _, y_true = torch.max(y_data.data, 1)\n",
    "            total += y_data.size(0)\n",
    "            correct += (predicted == y_true).sum().item()\n",
    "\n",
    "        val_loss.append(running_loss / len(test_dataloader))"
   ]
  },
  {
   "cell_type": "code",
   "execution_count": 13,
   "metadata": {},
   "outputs": [
    {
     "data": {
      "image/png": "[encoded data removed]",
      "text/plain": [
       "<Figure size 2000x1000 with 2 Axes>"
      ]
     },
     "metadata": {},
     "output_type": "display_data"
    }
   ],
   "source": [
    "plt.figure(figsize=(20, 10))\n",
    "\n",
    "plt.subplot(1, 2, 1)\n",
    "plt.title(\"Test Loss\")\n",
    "plt.plot(val_loss, label='test loss', color='red', linewidth=2)\n",
    "plt.xlabel('Epochs')\n",
    "plt.ylabel('Loss')\n",
    "plt.grid(True)\n",
    "\n",
    "plt.subplot(1, 2, 2)\n",
    "plt.title(\"Train Loss\")\n",
    "plt.plot(train_loss, label='train loss', color='blue', linewidth=2)\n",
    "plt.xlabel('Epochs')\n",
    "plt.ylabel('Loss')\n",
    "plt.grid(True)\n",
    "\n",
    "plt.show()"
   ]
  },
  {
   "cell_type": "markdown",
   "metadata": {},
   "source": [
    "# Evaluation"
   ]
  },
  {
   "cell_type": "code",
   "execution_count": 14,
   "metadata": {},
   "outputs": [
    {
     "data": {
      "text/plain": [
       "Model(\n",
       "  (input_linear_1): Linear(in_features=1, out_features=32, bias=True)\n",
       "  (input_linear_1_1): Linear(in_features=32, out_features=64, bias=True)\n",
       "  (input_linear_1_2): Linear(in_features=64, out_features=128, bias=True)\n",
       "  (input_linear_1_3): Linear(in_features=128, out_features=256, bias=True)\n",
       "  (input_linear_1_4): Linear(in_features=256, out_features=512, bias=True)\n",
       "  (dropout_1): Dropout(p=0.2, inplace=False)\n",
       "  (gru_1): GRU(512, 512, batch_first=True)\n",
       "  (input_linear_2): Linear(in_features=1, out_features=32, bias=True)\n",
       "  (input_linear_2_1): Linear(in_features=32, out_features=64, bias=True)\n",
       "  (input_linear_2_2): Linear(in_features=64, out_features=128, bias=True)\n",
       "  (input_linear_2_3): Linear(in_features=128, out_features=256, bias=True)\n",
       "  (input_linear_2_4): Linear(in_features=256, out_features=512, bias=True)\n",
       "  (dropout_2): Dropout(p=0.2, inplace=False)\n",
       "  (gru_2): GRU(512, 512, batch_first=True)\n",
       "  (output_hidden_1): Linear(in_features=1024, out_features=256, bias=True)\n",
       "  (output_hidden_2): Linear(in_features=256, out_features=32, bias=True)\n",
       "  (output_linear): Linear(in_features=32, out_features=6, bias=True)\n",
       ")"
      ]
     },
     "execution_count": 14,
     "metadata": {},
     "output_type": "execute_result"
    }
   ],
   "source": [
    "model.eval()"
   ]
  },
  {
   "cell_type": "code",
   "execution_count": 15,
   "metadata": {},
   "outputs": [],
   "source": [
    "y_data = datasheet.iloc[:, 0]\n",
    "y_data = y_data.to_numpy().astype(np.float32)\n",
    "y_data = onehot_encoder.fit_transform(y_data.reshape(-1, 1)).astype(np.float32).toarray()\n",
    "\n",
    "X_data_1 = datasheet.iloc[:, 1].to_numpy().astype(np.float32)\n",
    "X_data_1 = torch.from_numpy(X_data_1).reshape(-1, 1)\n",
    "\n",
    "X_data_2 = datasheet.iloc[:, 2].to_numpy().astype(np.float32)\n",
    "X_data_2 = torch.from_numpy(X_data_2).reshape(-1, 1)\n",
    "\n",
    "y_pred = model(X_data_1, X_data_2).detach().numpy()"
   ]
  },
  {
   "cell_type": "code",
   "execution_count": 16,
   "metadata": {},
   "outputs": [
    {
     "name": "stdout",
     "output_type": "stream",
     "text": [
      "y_pred Shape: (694, 6)\n",
      "y_test Shape: (694, 6)\n"
     ]
    }
   ],
   "source": [
    "print(f\"\"\"y_pred Shape: {y_pred.shape}\n",
    "y_test Shape: {y_data.shape}\"\"\")"
   ]
  },
  {
   "cell_type": "code",
   "execution_count": 17,
   "metadata": {},
   "outputs": [
    {
     "name": "stdout",
     "output_type": "stream",
     "text": [
      "MSE Loss:  0.436921\n"
     ]
    }
   ],
   "source": [
    "mse_loss = mean_squared_error(y_data, y_pred)\n",
    "print(\"MSE Loss: \", mse_loss)"
   ]
  },
  {
   "cell_type": "code",
   "execution_count": 18,
   "metadata": {},
   "outputs": [],
   "source": [
    "y_test_arg = np.argmax(y_data, axis=1)\n",
    "y_pred_arg = np.argmax(y_pred, axis=1)"
   ]
  },
  {
   "cell_type": "code",
   "execution_count": 19,
   "metadata": {},
   "outputs": [
    {
     "data": {
      "image/png": "[encoded data removed]",
      "text/plain": [
       "<Figure size 1000x1000 with 1 Axes>"
      ]
     },
     "metadata": {},
     "output_type": "display_data"
    }
   ],
   "source": [
    "conf_mat = confusion_matrix(y_test_arg, y_pred_arg)\n",
    "\n",
    "plt.figure(figsize=(10, 10))\n",
    "sns.heatmap(conf_mat, annot=True, fmt='d', cmap=plt.cm.Blues, cbar=False)\n",
    "plt.title('Confusion Matrix')\n",
    "plt.xlabel('Predicted Label')\n",
    "plt.ylabel('True Label')\n",
    "plt.show()"
   ]
  },
  {
   "cell_type": "code",
   "execution_count": 20,
   "metadata": {},
   "outputs": [],
   "source": [
    "with open(\"deep_learning_model.h5\", 'wb') as f:\n",
    "    torch.save(model, f)"
   ]
  },
  {
   "cell_type": "code",
   "execution_count": null,
   "metadata": {},
   "outputs": [],
   "source": []
  }
 ],
 "metadata": {
  "kernelspec": {
   "display_name": "base",
   "language": "python",
   "name": "python3"
  },
  "language_info": {
   "codemirror_mode": {
    "name": "ipython",
    "version": 3
   },
   "file_extension": ".py",
   "mimetype": "text/x-python",
   "name": "python",
   "nbconvert_exporter": "python",
   "pygments_lexer": "ipython3",
   "version": "3.10.9"
  },
  "orig_nbformat": 4
 },
 "nbformat": 4,
 "nbformat_minor": 2
}
