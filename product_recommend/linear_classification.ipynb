{
 "cells": [
  {
   "cell_type": "code",
   "execution_count": 1,
   "metadata": {},
   "outputs": [],
   "source": [
    "from sklearn.preprocessing import OneHotEncoder, LabelEncoder\n",
    "\n",
    "from sklearn.model_selection import train_test_split\n",
    "from sklearn.metrics import classification_report\n",
    "from sklearn.metrics import mean_squared_error\n",
    "from sklearn.metrics import confusion_matrix\n",
    "from sklearn.metrics import accuracy_score\n",
    "from sklearn.metrics import r2_score\n",
    "\n",
    "from tqdm import tqdm\n",
    "\n",
    "import matplotlib.pyplot as plt\n",
    "import seaborn as sns\n",
    "import pandas as pd\n",
    "import numpy as np\n",
    "import random\n",
    "\n",
    "from torch.utils.data import Dataset, DataLoader\n",
    "from torchsummary import summary\n",
    "\n",
    "import torch.nn.functional as F\n",
    "import torch.optim as optim\n",
    "import torch.nn as nn\n",
    "import torch\n",
    "\n",
    "DATA_PATH = \"./data/processed_dataset.csv\""
   ]
  },
  {
   "cell_type": "code",
   "execution_count": 2,
   "metadata": {},
   "outputs": [],
   "source": [
    "device = torch.device('cpu')"
   ]
  },
  {
   "cell_type": "markdown",
   "metadata": {},
   "source": [
    "# Read data"
   ]
  },
  {
   "cell_type": "code",
   "execution_count": 3,
   "metadata": {},
   "outputs": [
    {
     "data": {
      "text/html": [
       "<div>\n",
       "<style scoped>\n",
       "    .dataframe tbody tr th:only-of-type {\n",
       "        vertical-align: middle;\n",
       "    }\n",
       "\n",
       "    .dataframe tbody tr th {\n",
       "        vertical-align: top;\n",
       "    }\n",
       "\n",
       "    .dataframe thead th {\n",
       "        text-align: right;\n",
       "    }\n",
       "</style>\n",
       "<table border=\"1\" class=\"dataframe\">\n",
       "  <thead>\n",
       "    <tr style=\"text-align: right;\">\n",
       "      <th></th>\n",
       "      <th>product_category</th>\n",
       "      <th>pet_size</th>\n",
       "      <th>pet_type</th>\n",
       "    </tr>\n",
       "    <tr>\n",
       "      <th>product_id</th>\n",
       "      <th></th>\n",
       "      <th></th>\n",
       "      <th></th>\n",
       "    </tr>\n",
       "  </thead>\n",
       "  <tbody>\n",
       "    <tr>\n",
       "      <th>5040</th>\n",
       "      <td>0</td>\n",
       "      <td>0</td>\n",
       "      <td>0</td>\n",
       "    </tr>\n",
       "    <tr>\n",
       "      <th>4567</th>\n",
       "      <td>1</td>\n",
       "      <td>0</td>\n",
       "      <td>1</td>\n",
       "    </tr>\n",
       "    <tr>\n",
       "      <th>4237</th>\n",
       "      <td>1</td>\n",
       "      <td>0</td>\n",
       "      <td>2</td>\n",
       "    </tr>\n",
       "    <tr>\n",
       "      <th>4364</th>\n",
       "      <td>2</td>\n",
       "      <td>1</td>\n",
       "      <td>3</td>\n",
       "    </tr>\n",
       "    <tr>\n",
       "      <th>4184</th>\n",
       "      <td>3</td>\n",
       "      <td>1</td>\n",
       "      <td>3</td>\n",
       "    </tr>\n",
       "  </tbody>\n",
       "</table>\n",
       "</div>"
      ],
      "text/plain": [
       "            product_category  pet_size  pet_type\n",
       "product_id                                      \n",
       "5040                       0         0         0\n",
       "4567                       1         0         1\n",
       "4237                       1         0         2\n",
       "4364                       2         1         3\n",
       "4184                       3         1         3"
      ]
     },
     "execution_count": 3,
     "metadata": {},
     "output_type": "execute_result"
    }
   ],
   "source": [
    "datasheet = pd.read_csv(DATA_PATH, sep=\",\", index_col=0)\n",
    "datasheet.head()"
   ]
  },
  {
   "cell_type": "code",
   "execution_count": 4,
   "metadata": {},
   "outputs": [],
   "source": [
    "y_data = datasheet.iloc[:, 0]\n",
    "X_data_1 = datasheet.iloc[:, 1].to_numpy().astype(np.float32)\n",
    "X_data_2 = datasheet.iloc[:, 2].to_numpy().astype(np.float32)"
   ]
  },
  {
   "cell_type": "markdown",
   "metadata": {},
   "source": [
    "# Train, Test(Validation) Split"
   ]
  },
  {
   "cell_type": "code",
   "execution_count": 5,
   "metadata": {},
   "outputs": [
    {
     "name": "stdout",
     "output_type": "stream",
     "text": [
      "X_data 1 shape: (879,)\n",
      "X_data 2 shape: (879,)\n",
      "y_data shape: (879, 6)\n"
     ]
    }
   ],
   "source": [
    "onehot_encoder = OneHotEncoder()\n",
    "\n",
    "y_data = y_data.to_numpy().astype(np.float32)\n",
    "y_data = onehot_encoder.fit_transform(y_data.reshape(-1, 1)).astype(np.float32).toarray()\n",
    "\n",
    "print(f\"\"\"X_data 1 shape: {X_data_1.shape}\n",
    "X_data 2 shape: {X_data_2.shape}\n",
    "y_data shape: {y_data.shape}\"\"\")"
   ]
  },
  {
   "cell_type": "markdown",
   "metadata": {},
   "source": [
    "# Datasets & DataLoader"
   ]
  },
  {
   "cell_type": "code",
   "execution_count": 6,
   "metadata": {},
   "outputs": [],
   "source": [
    "BATCH_SIZE = 32"
   ]
  },
  {
   "cell_type": "code",
   "execution_count": 7,
   "metadata": {},
   "outputs": [],
   "source": [
    "class CustomDataset(Dataset):\n",
    "    def __init__(self, X_data_1, X_data_2, y_data):\n",
    "        self.X_data_1 = X_data_1\n",
    "        self.X_data_2 = X_data_2\n",
    "        self.y_data = y_data\n",
    "\n",
    "    def __getitem__(self, index):\n",
    "        X_1 = self.X_data_1[index]\n",
    "        X_2 = self.X_data_2[index]\n",
    "        y = self.y_data[index]\n",
    "        return X_1, X_2, y\n",
    "\n",
    "    def __len__(self):\n",
    "        return len(self.X_data_1)"
   ]
  },
  {
   "cell_type": "code",
   "execution_count": 8,
   "metadata": {},
   "outputs": [],
   "source": [
    "train_dataset = CustomDataset(X_data_1, X_data_2, y_data)\n",
    "train_dataloader = DataLoader(train_dataset, batch_size=BATCH_SIZE, shuffle=True)\n",
    "\n",
    "test_dataset = CustomDataset(X_data_1, X_data_2, y_data)\n",
    "test_dataloader = DataLoader(test_dataset, batch_size=BATCH_SIZE, shuffle=True)"
   ]
  },
  {
   "cell_type": "markdown",
   "metadata": {},
   "source": [
    "# Model"
   ]
  },
  {
   "cell_type": "code",
   "execution_count": 9,
   "metadata": {},
   "outputs": [
    {
     "name": "stdout",
     "output_type": "stream",
     "text": [
      "----------------------------------------------------------------\n",
      "        Layer (type)               Output Shape         Param #\n",
      "================================================================\n",
      "            Linear-1                   [-1, 32]              64\n",
      "            Linear-2                   [-1, 64]           2,112\n",
      "            Linear-3                  [-1, 128]           8,320\n",
      "            Linear-4                  [-1, 256]          33,024\n",
      "            Linear-5                  [-1, 512]         131,584\n",
      "               GRU-6     [[-1, 512], [-1, 512]]               0\n",
      "            Linear-7                   [-1, 32]              64\n",
      "            Linear-8                   [-1, 64]           2,112\n",
      "            Linear-9                  [-1, 128]           8,320\n",
      "           Linear-10                  [-1, 256]          33,024\n",
      "           Linear-11                  [-1, 512]         131,584\n",
      "              GRU-12     [[-1, 512], [-1, 512]]               0\n",
      "           Linear-13                  [-1, 256]         262,400\n",
      "           Linear-14                   [-1, 32]           8,224\n",
      "           Linear-15                    [-1, 6]             198\n",
      "================================================================\n",
      "Total params: 621,030\n",
      "Trainable params: 621,030\n",
      "Non-trainable params: 0\n",
      "----------------------------------------------------------------\n",
      "Input size (MB): 0.00\n",
      "Forward/backward pass size (MB): 3.98\n",
      "Params size (MB): 2.37\n",
      "Estimated Total Size (MB): 6.35\n",
      "----------------------------------------------------------------\n"
     ]
    }
   ],
   "source": [
    "class Model(nn.Module):\n",
    "    def __init__(self, input_dim, output_dim):\n",
    "        super(Model, self).__init__()\n",
    "        self.input_dim = input_dim\n",
    "        self.output_dim = output_dim\n",
    "\n",
    "\n",
    "        self.input_linear_1 = nn.Linear(self.input_dim, 32)\n",
    "        self.input_linear_1_1 = nn.Linear(32, 64)\n",
    "        self.input_linear_1_2 = nn.Linear(64, 128)\n",
    "        self.input_linear_1_3 = nn.Linear(128, 256)\n",
    "        self.input_linear_1_4 = nn.Linear(256, 512)\n",
    "        self.gru_1 = nn.GRU(512, 512, batch_first=True)\n",
    "        \n",
    "        self.input_linear_2 = nn.Linear(self.input_dim, 32)\n",
    "        self.input_linear_2_1 = nn.Linear(32, 64)\n",
    "        self.input_linear_2_2 = nn.Linear(64, 128)\n",
    "        self.input_linear_2_3 = nn.Linear(128, 256)\n",
    "        self.input_linear_2_4 = nn.Linear(256, 512)\n",
    "        self.gru_2 = nn.GRU(512, 512, batch_first=True)\n",
    "\n",
    "        self.output_hidden_1 = nn.Linear(1024, 256)\n",
    "        self.output_hidden_2 = nn.Linear(256, 32)\n",
    "        self.output_linear = nn.Linear(32, self.output_dim)\n",
    "\n",
    "    def forward(self, x1, x2):\n",
    "        x1 = self.input_linear_1(x1)\n",
    "        x1 = self.input_linear_1_1(x1)\n",
    "        x1 = self.input_linear_1_2(x1)\n",
    "        x1 = self.input_linear_1_3(x1)\n",
    "        x1 = self.input_linear_1_4(x1)\n",
    "        x1, _ = self.gru_1(x1)\n",
    "    \n",
    "        x2 = self.input_linear_2(x2)\n",
    "        x2 = self.input_linear_2_1(x2)\n",
    "        x2 = self.input_linear_2_2(x2)\n",
    "        x2 = self.input_linear_2_3(x2)\n",
    "        x2 = self.input_linear_2_4(x2)\n",
    "        x2, _ = self.gru_2(x2)\n",
    "\n",
    "        x = torch.cat([x1, x2], dim=1)\n",
    "        x = F.relu(self.output_hidden_1(x))\n",
    "        x = F.relu(self.output_hidden_2(x))\n",
    "        x = self.output_linear(x)\n",
    "\n",
    "        return x\n",
    "    \n",
    "model = Model(1, 6).to(device)\n",
    "summary(model.to(device='cpu'), [(1,), (1,)])"
   ]
  },
  {
   "cell_type": "code",
   "execution_count": 10,
   "metadata": {},
   "outputs": [
    {
     "name": "stdout",
     "output_type": "stream",
     "text": [
      "Adjusting learning rate of group 0 to 3.0000e-02.\n"
     ]
    }
   ],
   "source": [
    "optimizer = optim.Adam(model.parameters(), lr=0.03)\n",
    "criterion = nn.MSELoss()\n",
    "scheduler = optim.lr_scheduler.LambdaLR(\n",
    "    optimizer, \n",
    "    lr_lambda=lambda epoch: 0.95 ** epoch,\n",
    "    last_epoch=-1,\n",
    "    verbose=True\n",
    ")"
   ]
  },
  {
   "cell_type": "markdown",
   "metadata": {},
   "source": [
    "# Model Train & Validation"
   ]
  },
  {
   "cell_type": "code",
   "execution_count": 11,
   "metadata": {},
   "outputs": [],
   "source": [
    "EPOCHS = 150"
   ]
  },
  {
   "cell_type": "code",
   "execution_count": 12,
   "metadata": {},
   "outputs": [
    {
     "name": "stderr",
     "output_type": "stream",
     "text": [
      "Train Epoch 1/150, Train Loss: 0.0:   0%|          | 0/28 [00:00<?, ?it/s]"
     ]
    },
    {
     "name": "stderr",
     "output_type": "stream",
     "text": [
      "Train Epoch 1/150, Train Loss: 0.0: 100%|██████████| 28/28 [00:01<00:00, 16.62it/s]\n"
     ]
    },
    {
     "name": "stdout",
     "output_type": "stream",
     "text": [
      "Adjusting learning rate of group 0 to 2.8500e-02.\n"
     ]
    },
    {
     "name": "stderr",
     "output_type": "stream",
     "text": [
      "Test Epoch 1/150, Test Loss: 1.3753577688974994: 100%|██████████| 28/28 [00:00<00:00, 210.45it/s]\n",
      "Train Epoch 2/150, Train Loss: 0.0: 100%|██████████| 28/28 [00:01<00:00, 18.30it/s]\n"
     ]
    },
    {
     "name": "stdout",
     "output_type": "stream",
     "text": [
      "Adjusting learning rate of group 0 to 2.7075e-02.\n"
     ]
    },
    {
     "name": "stderr",
     "output_type": "stream",
     "text": [
      "Test Epoch 2/150, Test Loss: 0.25439922724451336: 100%|██████████| 28/28 [00:00<00:00, 214.41it/s]\n",
      "Train Epoch 3/150, Train Loss: 0.0: 100%|██████████| 28/28 [00:01<00:00, 18.34it/s]\n"
     ]
    },
    {
     "name": "stdout",
     "output_type": "stream",
     "text": [
      "Adjusting learning rate of group 0 to 2.5721e-02.\n"
     ]
    },
    {
     "name": "stderr",
     "output_type": "stream",
     "text": [
      "Test Epoch 3/150, Test Loss: 0.14335085291947638: 100%|██████████| 28/28 [00:00<00:00, 223.16it/s]\n",
      "Train Epoch 4/150, Train Loss: 0.0: 100%|██████████| 28/28 [00:01<00:00, 18.72it/s]\n"
     ]
    },
    {
     "name": "stdout",
     "output_type": "stream",
     "text": [
      "Adjusting learning rate of group 0 to 2.4435e-02.\n"
     ]
    },
    {
     "name": "stderr",
     "output_type": "stream",
     "text": [
      "Test Epoch 4/150, Test Loss: 0.1350592172571591: 100%|██████████| 28/28 [00:00<00:00, 226.51it/s]\n",
      "Train Epoch 5/150, Train Loss: 0.0: 100%|██████████| 28/28 [00:01<00:00, 18.12it/s]\n"
     ]
    },
    {
     "name": "stdout",
     "output_type": "stream",
     "text": [
      "Adjusting learning rate of group 0 to 2.3213e-02.\n"
     ]
    },
    {
     "name": "stderr",
     "output_type": "stream",
     "text": [
      "Test Epoch 5/150, Test Loss: 0.13343429937958717: 100%|██████████| 28/28 [00:00<00:00, 207.68it/s]\n",
      "Train Epoch 6/150, Train Loss: 0.0: 100%|██████████| 28/28 [00:01<00:00, 18.64it/s]\n"
     ]
    },
    {
     "name": "stdout",
     "output_type": "stream",
     "text": [
      "Adjusting learning rate of group 0 to 2.2053e-02.\n"
     ]
    },
    {
     "name": "stderr",
     "output_type": "stream",
     "text": [
      "Test Epoch 6/150, Test Loss: 0.13338780296700342: 100%|██████████| 28/28 [00:00<00:00, 195.39it/s]\n",
      "Train Epoch 7/150, Train Loss: 0.0: 100%|██████████| 28/28 [00:01<00:00, 18.44it/s]\n"
     ]
    },
    {
     "name": "stdout",
     "output_type": "stream",
     "text": [
      "Adjusting learning rate of group 0 to 2.0950e-02.\n"
     ]
    },
    {
     "name": "stderr",
     "output_type": "stream",
     "text": [
      "Test Epoch 7/150, Test Loss: 0.13357996301991598: 100%|██████████| 28/28 [00:00<00:00, 226.55it/s]\n",
      "Train Epoch 8/150, Train Loss: 0.0: 100%|██████████| 28/28 [00:01<00:00, 18.43it/s]\n"
     ]
    },
    {
     "name": "stdout",
     "output_type": "stream",
     "text": [
      "Adjusting learning rate of group 0 to 1.9903e-02.\n"
     ]
    },
    {
     "name": "stderr",
     "output_type": "stream",
     "text": [
      "Test Epoch 8/150, Test Loss: 0.1334637100143092: 100%|██████████| 28/28 [00:00<00:00, 229.60it/s]\n",
      "Train Epoch 9/150, Train Loss: 0.0: 100%|██████████| 28/28 [00:01<00:00, 17.74it/s]\n"
     ]
    },
    {
     "name": "stdout",
     "output_type": "stream",
     "text": [
      "Adjusting learning rate of group 0 to 1.8907e-02.\n"
     ]
    },
    {
     "name": "stderr",
     "output_type": "stream",
     "text": [
      "Test Epoch 9/150, Test Loss: 0.1333465264844043: 100%|██████████| 28/28 [00:00<00:00, 202.70it/s]\n",
      "Train Epoch 10/150, Train Loss: 0.0: 100%|██████████| 28/28 [00:01<00:00, 18.63it/s]\n"
     ]
    },
    {
     "name": "stdout",
     "output_type": "stream",
     "text": [
      "Adjusting learning rate of group 0 to 1.7962e-02.\n"
     ]
    },
    {
     "name": "stderr",
     "output_type": "stream",
     "text": [
      "Test Epoch 10/150, Test Loss: 0.13364646849887712: 100%|██████████| 28/28 [00:00<00:00, 228.44it/s]\n",
      "Train Epoch 11/150, Train Loss: 0.0: 100%|██████████| 28/28 [00:01<00:00, 18.78it/s]\n"
     ]
    },
    {
     "name": "stdout",
     "output_type": "stream",
     "text": [
      "Adjusting learning rate of group 0 to 1.7064e-02.\n"
     ]
    },
    {
     "name": "stderr",
     "output_type": "stream",
     "text": [
      "Test Epoch 11/150, Test Loss: 0.13342573600155966: 100%|██████████| 28/28 [00:00<00:00, 227.02it/s]\n",
      "Train Epoch 12/150, Train Loss: 0.0: 100%|██████████| 28/28 [00:01<00:00, 19.16it/s]\n"
     ]
    },
    {
     "name": "stdout",
     "output_type": "stream",
     "text": [
      "Adjusting learning rate of group 0 to 1.6211e-02.\n"
     ]
    },
    {
     "name": "stderr",
     "output_type": "stream",
     "text": [
      "Test Epoch 12/150, Test Loss: 0.133311249847923: 100%|██████████| 28/28 [00:00<00:00, 206.03it/s]\n",
      "Train Epoch 13/150, Train Loss: 0.0: 100%|██████████| 28/28 [00:01<00:00, 18.65it/s]\n"
     ]
    },
    {
     "name": "stdout",
     "output_type": "stream",
     "text": [
      "Adjusting learning rate of group 0 to 1.5400e-02.\n"
     ]
    },
    {
     "name": "stderr",
     "output_type": "stream",
     "text": [
      "Test Epoch 13/150, Test Loss: 0.13346616657716887: 100%|██████████| 28/28 [00:00<00:00, 222.20it/s]\n",
      "Train Epoch 14/150, Train Loss: 0.0: 100%|██████████| 28/28 [00:01<00:00, 18.74it/s]\n"
     ]
    },
    {
     "name": "stdout",
     "output_type": "stream",
     "text": [
      "Adjusting learning rate of group 0 to 1.4630e-02.\n"
     ]
    },
    {
     "name": "stderr",
     "output_type": "stream",
     "text": [
      "Test Epoch 14/150, Test Loss: 0.13352369410651072: 100%|██████████| 28/28 [00:00<00:00, 224.54it/s]\n",
      "Train Epoch 15/150, Train Loss: 0.0: 100%|██████████| 28/28 [00:01<00:00, 18.86it/s]\n"
     ]
    },
    {
     "name": "stdout",
     "output_type": "stream",
     "text": [
      "Adjusting learning rate of group 0 to 1.3899e-02.\n"
     ]
    },
    {
     "name": "stderr",
     "output_type": "stream",
     "text": [
      "Test Epoch 15/150, Test Loss: 0.1336699995611395: 100%|██████████| 28/28 [00:00<00:00, 196.54it/s]\n",
      "Train Epoch 16/150, Train Loss: 0.0: 100%|██████████| 28/28 [00:01<00:00, 18.62it/s]\n"
     ]
    },
    {
     "name": "stdout",
     "output_type": "stream",
     "text": [
      "Adjusting learning rate of group 0 to 1.3204e-02.\n"
     ]
    },
    {
     "name": "stderr",
     "output_type": "stream",
     "text": [
      "Test Epoch 16/150, Test Loss: 0.13367753795215062: 100%|██████████| 28/28 [00:00<00:00, 222.62it/s]\n",
      "Train Epoch 17/150, Train Loss: 0.0: 100%|██████████| 28/28 [00:01<00:00, 18.63it/s]\n"
     ]
    },
    {
     "name": "stdout",
     "output_type": "stream",
     "text": [
      "Adjusting learning rate of group 0 to 1.2544e-02.\n"
     ]
    },
    {
     "name": "stderr",
     "output_type": "stream",
     "text": [
      "Test Epoch 17/150, Test Loss: 0.1335800135774272: 100%|██████████| 28/28 [00:00<00:00, 218.97it/s]\n",
      "Train Epoch 18/150, Train Loss: 0.0: 100%|██████████| 28/28 [00:01<00:00, 18.91it/s]\n"
     ]
    },
    {
     "name": "stdout",
     "output_type": "stream",
     "text": [
      "Adjusting learning rate of group 0 to 1.1916e-02.\n"
     ]
    },
    {
     "name": "stderr",
     "output_type": "stream",
     "text": [
      "Test Epoch 18/150, Test Loss: 0.133452604125653: 100%|██████████| 28/28 [00:00<00:00, 198.86it/s]\n",
      "Train Epoch 19/150, Train Loss: 0.0: 100%|██████████| 28/28 [00:01<00:00, 18.79it/s]\n"
     ]
    },
    {
     "name": "stdout",
     "output_type": "stream",
     "text": [
      "Adjusting learning rate of group 0 to 1.1321e-02.\n"
     ]
    },
    {
     "name": "stderr",
     "output_type": "stream",
     "text": [
      "Test Epoch 19/150, Test Loss: 0.13362872494118555: 100%|██████████| 28/28 [00:00<00:00, 224.13it/s]\n",
      "Train Epoch 20/150, Train Loss: 0.0: 100%|██████████| 28/28 [00:01<00:00, 18.82it/s]\n"
     ]
    },
    {
     "name": "stdout",
     "output_type": "stream",
     "text": [
      "Adjusting learning rate of group 0 to 1.0755e-02.\n"
     ]
    },
    {
     "name": "stderr",
     "output_type": "stream",
     "text": [
      "Test Epoch 20/150, Test Loss: 0.1335969716310501: 100%|██████████| 28/28 [00:00<00:00, 223.69it/s]\n",
      "Train Epoch 21/150, Train Loss: 0.0: 100%|██████████| 28/28 [00:01<00:00, 18.58it/s]\n"
     ]
    },
    {
     "name": "stdout",
     "output_type": "stream",
     "text": [
      "Adjusting learning rate of group 0 to 1.0217e-02.\n"
     ]
    },
    {
     "name": "stderr",
     "output_type": "stream",
     "text": [
      "Test Epoch 21/150, Test Loss: 0.1335744128695556: 100%|██████████| 28/28 [00:00<00:00, 222.34it/s]\n",
      "Train Epoch 22/150, Train Loss: 0.0: 100%|██████████| 28/28 [00:01<00:00, 18.94it/s]\n"
     ]
    },
    {
     "name": "stdout",
     "output_type": "stream",
     "text": [
      "Adjusting learning rate of group 0 to 9.7060e-03.\n"
     ]
    },
    {
     "name": "stderr",
     "output_type": "stream",
     "text": [
      "Test Epoch 22/150, Test Loss: 0.13343314081430435: 100%|██████████| 28/28 [00:00<00:00, 225.77it/s]\n",
      "Train Epoch 23/150, Train Loss: 0.0: 100%|██████████| 28/28 [00:01<00:00, 18.63it/s]\n"
     ]
    },
    {
     "name": "stdout",
     "output_type": "stream",
     "text": [
      "Adjusting learning rate of group 0 to 9.2207e-03.\n"
     ]
    },
    {
     "name": "stderr",
     "output_type": "stream",
     "text": [
      "Test Epoch 23/150, Test Loss: 0.1335415206849575: 100%|██████████| 28/28 [00:00<00:00, 227.26it/s]\n",
      "Train Epoch 24/150, Train Loss: 0.0: 100%|██████████| 28/28 [00:01<00:00, 18.56it/s]\n"
     ]
    },
    {
     "name": "stdout",
     "output_type": "stream",
     "text": [
      "Adjusting learning rate of group 0 to 8.7597e-03.\n"
     ]
    },
    {
     "name": "stderr",
     "output_type": "stream",
     "text": [
      "Test Epoch 24/150, Test Loss: 0.13347343195761954: 100%|██████████| 28/28 [00:00<00:00, 221.56it/s]\n",
      "Train Epoch 25/150, Train Loss: 0.0: 100%|██████████| 28/28 [00:01<00:00, 18.99it/s]\n"
     ]
    },
    {
     "name": "stdout",
     "output_type": "stream",
     "text": [
      "Adjusting learning rate of group 0 to 8.3217e-03.\n"
     ]
    },
    {
     "name": "stderr",
     "output_type": "stream",
     "text": [
      "Test Epoch 25/150, Test Loss: 0.13359221230660165: 100%|██████████| 28/28 [00:00<00:00, 231.77it/s]\n",
      "Train Epoch 26/150, Train Loss: 0.0: 100%|██████████| 28/28 [00:01<00:00, 18.94it/s]\n"
     ]
    },
    {
     "name": "stdout",
     "output_type": "stream",
     "text": [
      "Adjusting learning rate of group 0 to 7.9056e-03.\n"
     ]
    },
    {
     "name": "stderr",
     "output_type": "stream",
     "text": [
      "Test Epoch 26/150, Test Loss: 0.13344400269644602: 100%|██████████| 28/28 [00:00<00:00, 227.29it/s]\n",
      "Train Epoch 27/150, Train Loss: 0.0: 100%|██████████| 28/28 [00:01<00:00, 18.70it/s]\n"
     ]
    },
    {
     "name": "stdout",
     "output_type": "stream",
     "text": [
      "Adjusting learning rate of group 0 to 7.5103e-03.\n"
     ]
    },
    {
     "name": "stderr",
     "output_type": "stream",
     "text": [
      "Test Epoch 27/150, Test Loss: 0.1334008239209652: 100%|██████████| 28/28 [00:00<00:00, 222.00it/s]\n",
      "Train Epoch 28/150, Train Loss: 0.0: 100%|██████████| 28/28 [00:01<00:00, 18.73it/s]\n"
     ]
    },
    {
     "name": "stdout",
     "output_type": "stream",
     "text": [
      "Adjusting learning rate of group 0 to 7.1348e-03.\n"
     ]
    },
    {
     "name": "stderr",
     "output_type": "stream",
     "text": [
      "Test Epoch 28/150, Test Loss: 0.1335098376231534: 100%|██████████| 28/28 [00:00<00:00, 222.72it/s]\n",
      "Train Epoch 29/150, Train Loss: 0.0: 100%|██████████| 28/28 [00:01<00:00, 18.65it/s]\n"
     ]
    },
    {
     "name": "stdout",
     "output_type": "stream",
     "text": [
      "Adjusting learning rate of group 0 to 6.7781e-03.\n"
     ]
    },
    {
     "name": "stderr",
     "output_type": "stream",
     "text": [
      "Test Epoch 29/150, Test Loss: 0.13341081035988672: 100%|██████████| 28/28 [00:00<00:00, 224.27it/s]\n",
      "Train Epoch 30/150, Train Loss: 0.0: 100%|██████████| 28/28 [00:01<00:00, 18.41it/s]\n"
     ]
    },
    {
     "name": "stdout",
     "output_type": "stream",
     "text": [
      "Adjusting learning rate of group 0 to 6.4392e-03.\n"
     ]
    },
    {
     "name": "stderr",
     "output_type": "stream",
     "text": [
      "Test Epoch 30/150, Test Loss: 0.13360172057790415: 100%|██████████| 28/28 [00:00<00:00, 222.60it/s]\n",
      "Train Epoch 31/150, Train Loss: 0.0: 100%|██████████| 28/28 [00:01<00:00, 18.65it/s]\n"
     ]
    },
    {
     "name": "stdout",
     "output_type": "stream",
     "text": [
      "Adjusting learning rate of group 0 to 6.1172e-03.\n"
     ]
    },
    {
     "name": "stderr",
     "output_type": "stream",
     "text": [
      "Test Epoch 31/150, Test Loss: 0.13359404834253447: 100%|██████████| 28/28 [00:00<00:00, 230.06it/s]\n",
      "Train Epoch 32/150, Train Loss: 0.0: 100%|██████████| 28/28 [00:01<00:00, 19.04it/s]\n"
     ]
    },
    {
     "name": "stdout",
     "output_type": "stream",
     "text": [
      "Adjusting learning rate of group 0 to 5.8113e-03.\n"
     ]
    },
    {
     "name": "stderr",
     "output_type": "stream",
     "text": [
      "Test Epoch 32/150, Test Loss: 0.13355917536786624: 100%|██████████| 28/28 [00:00<00:00, 222.95it/s]\n",
      "Train Epoch 33/150, Train Loss: 0.0: 100%|██████████| 28/28 [00:01<00:00, 18.28it/s]\n"
     ]
    },
    {
     "name": "stdout",
     "output_type": "stream",
     "text": [
      "Adjusting learning rate of group 0 to 5.5208e-03.\n"
     ]
    },
    {
     "name": "stderr",
     "output_type": "stream",
     "text": [
      "Test Epoch 33/150, Test Loss: 0.13350568445665495: 100%|██████████| 28/28 [00:00<00:00, 228.36it/s]\n",
      "Train Epoch 34/150, Train Loss: 0.0: 100%|██████████| 28/28 [00:01<00:00, 18.83it/s]\n"
     ]
    },
    {
     "name": "stdout",
     "output_type": "stream",
     "text": [
      "Adjusting learning rate of group 0 to 5.2447e-03.\n"
     ]
    },
    {
     "name": "stderr",
     "output_type": "stream",
     "text": [
      "Test Epoch 34/150, Test Loss: 0.1335398701152631: 100%|██████████| 28/28 [00:00<00:00, 224.82it/s]\n",
      "Train Epoch 35/150, Train Loss: 0.0: 100%|██████████| 28/28 [00:01<00:00, 18.70it/s]\n"
     ]
    },
    {
     "name": "stdout",
     "output_type": "stream",
     "text": [
      "Adjusting learning rate of group 0 to 4.9825e-03.\n"
     ]
    },
    {
     "name": "stderr",
     "output_type": "stream",
     "text": [
      "Test Epoch 35/150, Test Loss: 0.13342698237725667: 100%|██████████| 28/28 [00:00<00:00, 199.96it/s]\n",
      "Train Epoch 36/150, Train Loss: 0.0: 100%|██████████| 28/28 [00:01<00:00, 17.70it/s]\n"
     ]
    },
    {
     "name": "stdout",
     "output_type": "stream",
     "text": [
      "Adjusting learning rate of group 0 to 4.7334e-03.\n"
     ]
    },
    {
     "name": "stderr",
     "output_type": "stream",
     "text": [
      "Test Epoch 36/150, Test Loss: 0.1331769698964698: 100%|██████████| 28/28 [00:00<00:00, 207.96it/s]\n",
      "Train Epoch 37/150, Train Loss: 0.0: 100%|██████████| 28/28 [00:01<00:00, 17.55it/s]\n"
     ]
    },
    {
     "name": "stdout",
     "output_type": "stream",
     "text": [
      "Adjusting learning rate of group 0 to 4.4967e-03.\n"
     ]
    },
    {
     "name": "stderr",
     "output_type": "stream",
     "text": [
      "Test Epoch 37/150, Test Loss: 0.13333677793187754: 100%|██████████| 28/28 [00:00<00:00, 210.16it/s]\n",
      "Train Epoch 38/150, Train Loss: 0.0: 100%|██████████| 28/28 [00:01<00:00, 17.27it/s]\n"
     ]
    },
    {
     "name": "stdout",
     "output_type": "stream",
     "text": [
      "Adjusting learning rate of group 0 to 4.2719e-03.\n"
     ]
    },
    {
     "name": "stderr",
     "output_type": "stream",
     "text": [
      "Test Epoch 38/150, Test Loss: 0.1333993412554264: 100%|██████████| 28/28 [00:00<00:00, 207.28it/s]\n",
      "Train Epoch 39/150, Train Loss: 0.0: 100%|██████████| 28/28 [00:01<00:00, 17.39it/s]\n"
     ]
    },
    {
     "name": "stdout",
     "output_type": "stream",
     "text": [
      "Adjusting learning rate of group 0 to 4.0583e-03.\n"
     ]
    },
    {
     "name": "stderr",
     "output_type": "stream",
     "text": [
      "Test Epoch 39/150, Test Loss: 0.13350321831447737: 100%|██████████| 28/28 [00:00<00:00, 211.02it/s]\n",
      "Train Epoch 40/150, Train Loss: 0.0: 100%|██████████| 28/28 [00:01<00:00, 17.85it/s]\n"
     ]
    },
    {
     "name": "stdout",
     "output_type": "stream",
     "text": [
      "Adjusting learning rate of group 0 to 3.8554e-03.\n"
     ]
    },
    {
     "name": "stderr",
     "output_type": "stream",
     "text": [
      "Test Epoch 40/150, Test Loss: 0.13326925970613956: 100%|██████████| 28/28 [00:00<00:00, 219.49it/s]\n",
      "Train Epoch 41/150, Train Loss: 0.0: 100%|██████████| 28/28 [00:01<00:00, 18.39it/s]\n"
     ]
    },
    {
     "name": "stdout",
     "output_type": "stream",
     "text": [
      "Adjusting learning rate of group 0 to 3.6626e-03.\n"
     ]
    },
    {
     "name": "stderr",
     "output_type": "stream",
     "text": [
      "Test Epoch 41/150, Test Loss: 0.13342367910913058: 100%|██████████| 28/28 [00:00<00:00, 219.78it/s]\n",
      "Train Epoch 42/150, Train Loss: 0.0: 100%|██████████| 28/28 [00:01<00:00, 18.43it/s]\n"
     ]
    },
    {
     "name": "stdout",
     "output_type": "stream",
     "text": [
      "Adjusting learning rate of group 0 to 3.4795e-03.\n"
     ]
    },
    {
     "name": "stderr",
     "output_type": "stream",
     "text": [
      "Test Epoch 42/150, Test Loss: 0.13362119612949236: 100%|██████████| 28/28 [00:00<00:00, 219.86it/s]\n",
      "Train Epoch 43/150, Train Loss: 0.0: 100%|██████████| 28/28 [00:01<00:00, 18.54it/s]\n"
     ]
    },
    {
     "name": "stdout",
     "output_type": "stream",
     "text": [
      "Adjusting learning rate of group 0 to 3.3055e-03.\n"
     ]
    },
    {
     "name": "stderr",
     "output_type": "stream",
     "text": [
      "Test Epoch 43/150, Test Loss: 0.1336016058921814: 100%|██████████| 28/28 [00:00<00:00, 227.64it/s]\n",
      "Train Epoch 44/150, Train Loss: 0.0: 100%|██████████| 28/28 [00:01<00:00, 18.19it/s]\n"
     ]
    },
    {
     "name": "stdout",
     "output_type": "stream",
     "text": [
      "Adjusting learning rate of group 0 to 3.1402e-03.\n"
     ]
    },
    {
     "name": "stderr",
     "output_type": "stream",
     "text": [
      "Test Epoch 44/150, Test Loss: 0.1334368001137461: 100%|██████████| 28/28 [00:00<00:00, 225.32it/s]\n",
      "Train Epoch 45/150, Train Loss: 0.0: 100%|██████████| 28/28 [00:01<00:00, 18.76it/s]\n"
     ]
    },
    {
     "name": "stdout",
     "output_type": "stream",
     "text": [
      "Adjusting learning rate of group 0 to 2.9832e-03.\n"
     ]
    },
    {
     "name": "stderr",
     "output_type": "stream",
     "text": [
      "Test Epoch 45/150, Test Loss: 0.13364629793379987: 100%|██████████| 28/28 [00:00<00:00, 228.64it/s]\n",
      "Train Epoch 46/150, Train Loss: 0.0: 100%|██████████| 28/28 [00:01<00:00, 17.97it/s]\n"
     ]
    },
    {
     "name": "stdout",
     "output_type": "stream",
     "text": [
      "Adjusting learning rate of group 0 to 2.8340e-03.\n"
     ]
    },
    {
     "name": "stderr",
     "output_type": "stream",
     "text": [
      "Test Epoch 46/150, Test Loss: 0.13346957362123898: 100%|██████████| 28/28 [00:00<00:00, 226.96it/s]\n",
      "Train Epoch 47/150, Train Loss: 0.0: 100%|██████████| 28/28 [00:01<00:00, 17.23it/s]\n"
     ]
    },
    {
     "name": "stdout",
     "output_type": "stream",
     "text": [
      "Adjusting learning rate of group 0 to 2.6923e-03.\n"
     ]
    },
    {
     "name": "stderr",
     "output_type": "stream",
     "text": [
      "Test Epoch 47/150, Test Loss: 0.13342082713331496: 100%|██████████| 28/28 [00:00<00:00, 228.14it/s]\n",
      "Train Epoch 48/150, Train Loss: 0.0: 100%|██████████| 28/28 [00:01<00:00, 18.78it/s]\n"
     ]
    },
    {
     "name": "stdout",
     "output_type": "stream",
     "text": [
      "Adjusting learning rate of group 0 to 2.5577e-03.\n"
     ]
    },
    {
     "name": "stderr",
     "output_type": "stream",
     "text": [
      "Test Epoch 48/150, Test Loss: 0.1335077823272773: 100%|██████████| 28/28 [00:00<00:00, 221.76it/s]\n",
      "Train Epoch 49/150, Train Loss: 0.0: 100%|██████████| 28/28 [00:01<00:00, 18.26it/s]\n"
     ]
    },
    {
     "name": "stdout",
     "output_type": "stream",
     "text": [
      "Adjusting learning rate of group 0 to 2.4298e-03.\n"
     ]
    },
    {
     "name": "stderr",
     "output_type": "stream",
     "text": [
      "Test Epoch 49/150, Test Loss: 0.13331346373472894: 100%|██████████| 28/28 [00:00<00:00, 190.69it/s]\n",
      "Train Epoch 50/150, Train Loss: 0.0: 100%|██████████| 28/28 [00:01<00:00, 18.35it/s]\n"
     ]
    },
    {
     "name": "stdout",
     "output_type": "stream",
     "text": [
      "Adjusting learning rate of group 0 to 2.3083e-03.\n"
     ]
    },
    {
     "name": "stderr",
     "output_type": "stream",
     "text": [
      "Test Epoch 50/150, Test Loss: 0.1333264261484146: 100%|██████████| 28/28 [00:00<00:00, 220.64it/s]\n",
      "Train Epoch 51/150, Train Loss: 0.0: 100%|██████████| 28/28 [00:01<00:00, 18.68it/s]\n"
     ]
    },
    {
     "name": "stdout",
     "output_type": "stream",
     "text": [
      "Adjusting learning rate of group 0 to 2.1929e-03.\n"
     ]
    },
    {
     "name": "stderr",
     "output_type": "stream",
     "text": [
      "Test Epoch 51/150, Test Loss: 0.13322726849998748: 100%|██████████| 28/28 [00:00<00:00, 227.27it/s]\n",
      "Train Epoch 52/150, Train Loss: 0.0: 100%|██████████| 28/28 [00:01<00:00, 18.14it/s]\n"
     ]
    },
    {
     "name": "stdout",
     "output_type": "stream",
     "text": [
      "Adjusting learning rate of group 0 to 2.0833e-03.\n"
     ]
    },
    {
     "name": "stderr",
     "output_type": "stream",
     "text": [
      "Test Epoch 52/150, Test Loss: 0.13345688368592942: 100%|██████████| 28/28 [00:00<00:00, 225.98it/s]\n",
      "Train Epoch 53/150, Train Loss: 0.0: 100%|██████████| 28/28 [00:01<00:00, 18.76it/s]\n"
     ]
    },
    {
     "name": "stdout",
     "output_type": "stream",
     "text": [
      "Adjusting learning rate of group 0 to 1.9791e-03.\n"
     ]
    },
    {
     "name": "stderr",
     "output_type": "stream",
     "text": [
      "Test Epoch 53/150, Test Loss: 0.13336704884256637: 100%|██████████| 28/28 [00:00<00:00, 221.86it/s]\n",
      "Train Epoch 54/150, Train Loss: 0.0: 100%|██████████| 28/28 [00:01<00:00, 18.76it/s]\n"
     ]
    },
    {
     "name": "stdout",
     "output_type": "stream",
     "text": [
      "Adjusting learning rate of group 0 to 1.8802e-03.\n"
     ]
    },
    {
     "name": "stderr",
     "output_type": "stream",
     "text": [
      "Test Epoch 54/150, Test Loss: 0.13324574647205217: 100%|██████████| 28/28 [00:00<00:00, 191.92it/s]\n",
      "Train Epoch 55/150, Train Loss: 0.0: 100%|██████████| 28/28 [00:01<00:00, 18.81it/s]\n"
     ]
    },
    {
     "name": "stdout",
     "output_type": "stream",
     "text": [
      "Adjusting learning rate of group 0 to 1.7862e-03.\n"
     ]
    },
    {
     "name": "stderr",
     "output_type": "stream",
     "text": [
      "Test Epoch 55/150, Test Loss: 0.13334201382739203: 100%|██████████| 28/28 [00:00<00:00, 229.87it/s]\n",
      "Train Epoch 56/150, Train Loss: 0.0: 100%|██████████| 28/28 [00:01<00:00, 18.49it/s]\n"
     ]
    },
    {
     "name": "stdout",
     "output_type": "stream",
     "text": [
      "Adjusting learning rate of group 0 to 1.6968e-03.\n"
     ]
    },
    {
     "name": "stderr",
     "output_type": "stream",
     "text": [
      "Test Epoch 56/150, Test Loss: 0.13334888911673: 100%|██████████| 28/28 [00:00<00:00, 224.91it/s]\n",
      "Train Epoch 57/150, Train Loss: 0.0: 100%|██████████| 28/28 [00:01<00:00, 18.58it/s]\n"
     ]
    },
    {
     "name": "stdout",
     "output_type": "stream",
     "text": [
      "Adjusting learning rate of group 0 to 1.6120e-03.\n"
     ]
    },
    {
     "name": "stderr",
     "output_type": "stream",
     "text": [
      "Test Epoch 57/150, Test Loss: 0.13343786661114013: 100%|██████████| 28/28 [00:00<00:00, 220.60it/s]\n",
      "Train Epoch 58/150, Train Loss: 0.0: 100%|██████████| 28/28 [00:01<00:00, 18.49it/s]\n"
     ]
    },
    {
     "name": "stdout",
     "output_type": "stream",
     "text": [
      "Adjusting learning rate of group 0 to 1.5314e-03.\n"
     ]
    },
    {
     "name": "stderr",
     "output_type": "stream",
     "text": [
      "Test Epoch 58/150, Test Loss: 0.13344051050288336: 100%|██████████| 28/28 [00:00<00:00, 223.33it/s]\n",
      "Train Epoch 59/150, Train Loss: 0.0: 100%|██████████| 28/28 [00:01<00:00, 18.50it/s]\n"
     ]
    },
    {
     "name": "stdout",
     "output_type": "stream",
     "text": [
      "Adjusting learning rate of group 0 to 1.4548e-03.\n"
     ]
    },
    {
     "name": "stderr",
     "output_type": "stream",
     "text": [
      "Test Epoch 59/150, Test Loss: 0.1333268689257758: 100%|██████████| 28/28 [00:00<00:00, 222.85it/s]\n",
      "Train Epoch 60/150, Train Loss: 0.0: 100%|██████████| 28/28 [00:01<00:00, 18.34it/s]\n"
     ]
    },
    {
     "name": "stdout",
     "output_type": "stream",
     "text": [
      "Adjusting learning rate of group 0 to 1.3821e-03.\n"
     ]
    },
    {
     "name": "stderr",
     "output_type": "stream",
     "text": [
      "Test Epoch 60/150, Test Loss: 0.1336153500846454: 100%|██████████| 28/28 [00:00<00:00, 221.76it/s]\n",
      "Train Epoch 61/150, Train Loss: 0.0: 100%|██████████| 28/28 [00:01<00:00, 18.78it/s]\n"
     ]
    },
    {
     "name": "stdout",
     "output_type": "stream",
     "text": [
      "Adjusting learning rate of group 0 to 1.3130e-03.\n"
     ]
    },
    {
     "name": "stderr",
     "output_type": "stream",
     "text": [
      "Test Epoch 61/150, Test Loss: 0.1334439553320408: 100%|██████████| 28/28 [00:00<00:00, 222.46it/s]\n",
      "Train Epoch 62/150, Train Loss: 0.0: 100%|██████████| 28/28 [00:01<00:00, 18.69it/s]\n"
     ]
    },
    {
     "name": "stdout",
     "output_type": "stream",
     "text": [
      "Adjusting learning rate of group 0 to 1.2473e-03.\n"
     ]
    },
    {
     "name": "stderr",
     "output_type": "stream",
     "text": [
      "Test Epoch 62/150, Test Loss: 0.13337179007274763: 100%|██████████| 28/28 [00:00<00:00, 207.40it/s]\n",
      "Train Epoch 63/150, Train Loss: 0.0: 100%|██████████| 28/28 [00:01<00:00, 17.26it/s]\n"
     ]
    },
    {
     "name": "stdout",
     "output_type": "stream",
     "text": [
      "Adjusting learning rate of group 0 to 1.1850e-03.\n"
     ]
    },
    {
     "name": "stderr",
     "output_type": "stream",
     "text": [
      "Test Epoch 63/150, Test Loss: 0.13339837055121148: 100%|██████████| 28/28 [00:00<00:00, 222.41it/s]\n",
      "Train Epoch 64/150, Train Loss: 0.0: 100%|██████████| 28/28 [00:01<00:00, 18.69it/s]\n"
     ]
    },
    {
     "name": "stdout",
     "output_type": "stream",
     "text": [
      "Adjusting learning rate of group 0 to 1.1257e-03.\n"
     ]
    },
    {
     "name": "stderr",
     "output_type": "stream",
     "text": [
      "Test Epoch 64/150, Test Loss: 0.13337382142032897: 100%|██████████| 28/28 [00:00<00:00, 223.01it/s]\n",
      "Train Epoch 65/150, Train Loss: 0.0: 100%|██████████| 28/28 [00:01<00:00, 18.93it/s]\n"
     ]
    },
    {
     "name": "stdout",
     "output_type": "stream",
     "text": [
      "Adjusting learning rate of group 0 to 1.0694e-03.\n"
     ]
    },
    {
     "name": "stderr",
     "output_type": "stream",
     "text": [
      "Test Epoch 65/150, Test Loss: 0.1335825552897794: 100%|██████████| 28/28 [00:00<00:00, 199.95it/s]\n",
      "Train Epoch 66/150, Train Loss: 0.0: 100%|██████████| 28/28 [00:01<00:00, 18.71it/s]\n"
     ]
    },
    {
     "name": "stdout",
     "output_type": "stream",
     "text": [
      "Adjusting learning rate of group 0 to 1.0160e-03.\n"
     ]
    },
    {
     "name": "stderr",
     "output_type": "stream",
     "text": [
      "Test Epoch 66/150, Test Loss: 0.133458069392613: 100%|██████████| 28/28 [00:00<00:00, 221.23it/s]\n",
      "Train Epoch 67/150, Train Loss: 0.0: 100%|██████████| 28/28 [00:01<00:00, 18.78it/s]\n"
     ]
    },
    {
     "name": "stdout",
     "output_type": "stream",
     "text": [
      "Adjusting learning rate of group 0 to 9.6517e-04.\n"
     ]
    },
    {
     "name": "stderr",
     "output_type": "stream",
     "text": [
      "Test Epoch 67/150, Test Loss: 0.13348641645695483: 100%|██████████| 28/28 [00:00<00:00, 221.12it/s]\n",
      "Train Epoch 68/150, Train Loss: 0.0: 100%|██████████| 28/28 [00:01<00:00, 18.68it/s]\n"
     ]
    },
    {
     "name": "stdout",
     "output_type": "stream",
     "text": [
      "Adjusting learning rate of group 0 to 9.1691e-04.\n"
     ]
    },
    {
     "name": "stderr",
     "output_type": "stream",
     "text": [
      "Test Epoch 68/150, Test Loss: 0.1333306176321847: 100%|██████████| 28/28 [00:00<00:00, 204.66it/s]\n",
      "Train Epoch 69/150, Train Loss: 0.0: 100%|██████████| 28/28 [00:01<00:00, 18.70it/s]\n"
     ]
    },
    {
     "name": "stdout",
     "output_type": "stream",
     "text": [
      "Adjusting learning rate of group 0 to 8.7106e-04.\n"
     ]
    },
    {
     "name": "stderr",
     "output_type": "stream",
     "text": [
      "Test Epoch 69/150, Test Loss: 0.13357061467000417: 100%|██████████| 28/28 [00:00<00:00, 220.99it/s]\n",
      "Train Epoch 70/150, Train Loss: 0.0: 100%|██████████| 28/28 [00:01<00:00, 18.75it/s]\n"
     ]
    },
    {
     "name": "stdout",
     "output_type": "stream",
     "text": [
      "Adjusting learning rate of group 0 to 8.2751e-04.\n"
     ]
    },
    {
     "name": "stderr",
     "output_type": "stream",
     "text": [
      "Test Epoch 70/150, Test Loss: 0.13323489017784595: 100%|██████████| 28/28 [00:00<00:00, 228.07it/s]\n",
      "Train Epoch 71/150, Train Loss: 0.0: 100%|██████████| 28/28 [00:01<00:00, 18.39it/s]\n"
     ]
    },
    {
     "name": "stdout",
     "output_type": "stream",
     "text": [
      "Adjusting learning rate of group 0 to 7.8614e-04.\n"
     ]
    },
    {
     "name": "stderr",
     "output_type": "stream",
     "text": [
      "Test Epoch 71/150, Test Loss: 0.13328442509685243: 100%|██████████| 28/28 [00:00<00:00, 201.17it/s]\n",
      "Train Epoch 72/150, Train Loss: 0.0: 100%|██████████| 28/28 [00:01<00:00, 18.59it/s]\n"
     ]
    },
    {
     "name": "stdout",
     "output_type": "stream",
     "text": [
      "Adjusting learning rate of group 0 to 7.4683e-04.\n"
     ]
    },
    {
     "name": "stderr",
     "output_type": "stream",
     "text": [
      "Test Epoch 72/150, Test Loss: 0.13338165251272066: 100%|██████████| 28/28 [00:00<00:00, 228.75it/s]\n",
      "Train Epoch 73/150, Train Loss: 0.0: 100%|██████████| 28/28 [00:01<00:00, 18.73it/s]\n"
     ]
    },
    {
     "name": "stdout",
     "output_type": "stream",
     "text": [
      "Adjusting learning rate of group 0 to 7.0949e-04.\n"
     ]
    },
    {
     "name": "stderr",
     "output_type": "stream",
     "text": [
      "Test Epoch 73/150, Test Loss: 0.1332401784935168: 100%|██████████| 28/28 [00:00<00:00, 222.52it/s]\n",
      "Train Epoch 74/150, Train Loss: 0.0: 100%|██████████| 28/28 [00:01<00:00, 18.34it/s]\n"
     ]
    },
    {
     "name": "stdout",
     "output_type": "stream",
     "text": [
      "Adjusting learning rate of group 0 to 6.7401e-04.\n"
     ]
    },
    {
     "name": "stderr",
     "output_type": "stream",
     "text": [
      "Test Epoch 74/150, Test Loss: 0.13340445873992784: 100%|██████████| 28/28 [00:00<00:00, 225.90it/s]\n",
      "Train Epoch 75/150, Train Loss: 0.0: 100%|██████████| 28/28 [00:01<00:00, 18.96it/s]\n"
     ]
    },
    {
     "name": "stdout",
     "output_type": "stream",
     "text": [
      "Adjusting learning rate of group 0 to 6.4031e-04.\n"
     ]
    },
    {
     "name": "stderr",
     "output_type": "stream",
     "text": [
      "Test Epoch 75/150, Test Loss: 0.13328648624675615: 100%|██████████| 28/28 [00:00<00:00, 221.10it/s]\n",
      "Train Epoch 76/150, Train Loss: 0.0: 100%|██████████| 28/28 [00:01<00:00, 18.61it/s]\n"
     ]
    },
    {
     "name": "stdout",
     "output_type": "stream",
     "text": [
      "Adjusting learning rate of group 0 to 6.0830e-04.\n"
     ]
    },
    {
     "name": "stderr",
     "output_type": "stream",
     "text": [
      "Test Epoch 76/150, Test Loss: 0.13332764325397356: 100%|██████████| 28/28 [00:00<00:00, 224.99it/s]\n",
      "Train Epoch 77/150, Train Loss: 0.0: 100%|██████████| 28/28 [00:01<00:00, 18.43it/s]\n"
     ]
    },
    {
     "name": "stdout",
     "output_type": "stream",
     "text": [
      "Adjusting learning rate of group 0 to 5.7788e-04.\n"
     ]
    },
    {
     "name": "stderr",
     "output_type": "stream",
     "text": [
      "Test Epoch 77/150, Test Loss: 0.13337675588471548: 100%|██████████| 28/28 [00:00<00:00, 224.04it/s]\n",
      "Train Epoch 78/150, Train Loss: 0.0: 100%|██████████| 28/28 [00:01<00:00, 18.74it/s]\n"
     ]
    },
    {
     "name": "stdout",
     "output_type": "stream",
     "text": [
      "Adjusting learning rate of group 0 to 5.4899e-04.\n"
     ]
    },
    {
     "name": "stderr",
     "output_type": "stream",
     "text": [
      "Test Epoch 78/150, Test Loss: 0.13338471736226762: 100%|██████████| 28/28 [00:00<00:00, 226.34it/s]\n",
      "Train Epoch 79/150, Train Loss: 0.0: 100%|██████████| 28/28 [00:01<00:00, 18.71it/s]\n"
     ]
    },
    {
     "name": "stdout",
     "output_type": "stream",
     "text": [
      "Adjusting learning rate of group 0 to 5.2154e-04.\n"
     ]
    },
    {
     "name": "stderr",
     "output_type": "stream",
     "text": [
      "Test Epoch 79/150, Test Loss: 0.13346939560558116: 100%|██████████| 28/28 [00:00<00:00, 227.80it/s]\n",
      "Train Epoch 80/150, Train Loss: 0.0: 100%|██████████| 28/28 [00:01<00:00, 18.58it/s]\n"
     ]
    },
    {
     "name": "stdout",
     "output_type": "stream",
     "text": [
      "Adjusting learning rate of group 0 to 4.9546e-04.\n"
     ]
    },
    {
     "name": "stderr",
     "output_type": "stream",
     "text": [
      "Test Epoch 80/150, Test Loss: 0.13340603427163192: 100%|██████████| 28/28 [00:00<00:00, 224.74it/s]\n",
      "Train Epoch 81/150, Train Loss: 0.0: 100%|██████████| 28/28 [00:01<00:00, 18.75it/s]\n"
     ]
    },
    {
     "name": "stdout",
     "output_type": "stream",
     "text": [
      "Adjusting learning rate of group 0 to 4.7069e-04.\n"
     ]
    },
    {
     "name": "stderr",
     "output_type": "stream",
     "text": [
      "Test Epoch 81/150, Test Loss: 0.13344666973820754: 100%|██████████| 28/28 [00:00<00:00, 221.25it/s]\n",
      "Train Epoch 82/150, Train Loss: 0.0: 100%|██████████| 28/28 [00:01<00:00, 18.64it/s]\n"
     ]
    },
    {
     "name": "stdout",
     "output_type": "stream",
     "text": [
      "Adjusting learning rate of group 0 to 4.4715e-04.\n"
     ]
    },
    {
     "name": "stderr",
     "output_type": "stream",
     "text": [
      "Test Epoch 82/150, Test Loss: 0.13321603355663164: 100%|██████████| 28/28 [00:00<00:00, 200.65it/s]\n",
      "Train Epoch 83/150, Train Loss: 0.0: 100%|██████████| 28/28 [00:01<00:00, 18.78it/s]\n"
     ]
    },
    {
     "name": "stdout",
     "output_type": "stream",
     "text": [
      "Adjusting learning rate of group 0 to 4.2480e-04.\n"
     ]
    },
    {
     "name": "stderr",
     "output_type": "stream",
     "text": [
      "Test Epoch 83/150, Test Loss: 0.1334612981549331: 100%|██████████| 28/28 [00:00<00:00, 226.39it/s]\n",
      "Train Epoch 84/150, Train Loss: 0.0: 100%|██████████| 28/28 [00:01<00:00, 18.69it/s]\n"
     ]
    },
    {
     "name": "stdout",
     "output_type": "stream",
     "text": [
      "Adjusting learning rate of group 0 to 4.0356e-04.\n"
     ]
    },
    {
     "name": "stderr",
     "output_type": "stream",
     "text": [
      "Test Epoch 84/150, Test Loss: 0.1334642262331077: 100%|██████████| 28/28 [00:00<00:00, 219.99it/s]\n",
      "Train Epoch 85/150, Train Loss: 0.0: 100%|██████████| 28/28 [00:01<00:00, 18.39it/s]\n"
     ]
    },
    {
     "name": "stdout",
     "output_type": "stream",
     "text": [
      "Adjusting learning rate of group 0 to 3.8338e-04.\n"
     ]
    },
    {
     "name": "stderr",
     "output_type": "stream",
     "text": [
      "Test Epoch 85/150, Test Loss: 0.13335450632231577: 100%|██████████| 28/28 [00:00<00:00, 224.98it/s]\n",
      "Train Epoch 86/150, Train Loss: 0.0: 100%|██████████| 28/28 [00:01<00:00, 18.61it/s]\n"
     ]
    },
    {
     "name": "stdout",
     "output_type": "stream",
     "text": [
      "Adjusting learning rate of group 0 to 3.6421e-04.\n"
     ]
    },
    {
     "name": "stderr",
     "output_type": "stream",
     "text": [
      "Test Epoch 86/150, Test Loss: 0.13337033508079393: 100%|██████████| 28/28 [00:00<00:00, 220.51it/s]\n",
      "Train Epoch 87/150, Train Loss: 0.0: 100%|██████████| 28/28 [00:01<00:00, 18.92it/s]\n"
     ]
    },
    {
     "name": "stdout",
     "output_type": "stream",
     "text": [
      "Adjusting learning rate of group 0 to 3.4600e-04.\n"
     ]
    },
    {
     "name": "stderr",
     "output_type": "stream",
     "text": [
      "Test Epoch 87/150, Test Loss: 0.13335590224180902: 100%|██████████| 28/28 [00:00<00:00, 227.82it/s]\n",
      "Train Epoch 88/150, Train Loss: 0.0: 100%|██████████| 28/28 [00:01<00:00, 18.29it/s]\n"
     ]
    },
    {
     "name": "stdout",
     "output_type": "stream",
     "text": [
      "Adjusting learning rate of group 0 to 3.2870e-04.\n"
     ]
    },
    {
     "name": "stderr",
     "output_type": "stream",
     "text": [
      "Test Epoch 88/150, Test Loss: 0.1335435530969075: 100%|██████████| 28/28 [00:00<00:00, 228.70it/s]\n",
      "Train Epoch 89/150, Train Loss: 0.0: 100%|██████████| 28/28 [00:01<00:00, 18.62it/s]\n"
     ]
    },
    {
     "name": "stdout",
     "output_type": "stream",
     "text": [
      "Adjusting learning rate of group 0 to 3.1226e-04.\n"
     ]
    },
    {
     "name": "stderr",
     "output_type": "stream",
     "text": [
      "Test Epoch 89/150, Test Loss: 0.13339903631380626: 100%|██████████| 28/28 [00:00<00:00, 223.98it/s]\n",
      "Train Epoch 90/150, Train Loss: 0.0: 100%|██████████| 28/28 [00:01<00:00, 18.74it/s]\n"
     ]
    },
    {
     "name": "stdout",
     "output_type": "stream",
     "text": [
      "Adjusting learning rate of group 0 to 2.9665e-04.\n"
     ]
    },
    {
     "name": "stderr",
     "output_type": "stream",
     "text": [
      "Test Epoch 90/150, Test Loss: 0.1333301482456071: 100%|██████████| 28/28 [00:00<00:00, 223.17it/s]\n",
      "Train Epoch 91/150, Train Loss: 0.0: 100%|██████████| 28/28 [00:01<00:00, 18.26it/s]\n"
     ]
    },
    {
     "name": "stdout",
     "output_type": "stream",
     "text": [
      "Adjusting learning rate of group 0 to 2.8182e-04.\n"
     ]
    },
    {
     "name": "stderr",
     "output_type": "stream",
     "text": [
      "Test Epoch 91/150, Test Loss: 0.13319628818758897: 100%|██████████| 28/28 [00:00<00:00, 225.48it/s]\n",
      "Train Epoch 92/150, Train Loss: 0.0: 100%|██████████| 28/28 [00:01<00:00, 17.31it/s]\n"
     ]
    },
    {
     "name": "stdout",
     "output_type": "stream",
     "text": [
      "Adjusting learning rate of group 0 to 2.6773e-04.\n"
     ]
    },
    {
     "name": "stderr",
     "output_type": "stream",
     "text": [
      "Test Epoch 92/150, Test Loss: 0.13342834530132158: 100%|██████████| 28/28 [00:00<00:00, 219.38it/s]\n",
      "Train Epoch 93/150, Train Loss: 0.0: 100%|██████████| 28/28 [00:01<00:00, 18.31it/s]\n"
     ]
    },
    {
     "name": "stdout",
     "output_type": "stream",
     "text": [
      "Adjusting learning rate of group 0 to 2.5434e-04.\n"
     ]
    },
    {
     "name": "stderr",
     "output_type": "stream",
     "text": [
      "Test Epoch 93/150, Test Loss: 0.13340877581919944: 100%|██████████| 28/28 [00:00<00:00, 225.70it/s]\n",
      "Train Epoch 94/150, Train Loss: 0.0: 100%|██████████| 28/28 [00:01<00:00, 18.58it/s]\n"
     ]
    },
    {
     "name": "stdout",
     "output_type": "stream",
     "text": [
      "Adjusting learning rate of group 0 to 2.4162e-04.\n"
     ]
    },
    {
     "name": "stderr",
     "output_type": "stream",
     "text": [
      "Test Epoch 94/150, Test Loss: 0.133323750857796: 100%|██████████| 28/28 [00:00<00:00, 225.22it/s]\n",
      "Train Epoch 95/150, Train Loss: 0.0: 100%|██████████| 28/28 [00:01<00:00, 18.78it/s]\n"
     ]
    },
    {
     "name": "stdout",
     "output_type": "stream",
     "text": [
      "Adjusting learning rate of group 0 to 2.2954e-04.\n"
     ]
    },
    {
     "name": "stderr",
     "output_type": "stream",
     "text": [
      "Test Epoch 95/150, Test Loss: 0.13354589364358357: 100%|██████████| 28/28 [00:00<00:00, 216.49it/s]\n",
      "Train Epoch 96/150, Train Loss: 0.0: 100%|██████████| 28/28 [00:01<00:00, 18.16it/s]\n"
     ]
    },
    {
     "name": "stdout",
     "output_type": "stream",
     "text": [
      "Adjusting learning rate of group 0 to 2.1807e-04.\n"
     ]
    },
    {
     "name": "stderr",
     "output_type": "stream",
     "text": [
      "Test Epoch 96/150, Test Loss: 0.1334409543446132: 100%|██████████| 28/28 [00:00<00:00, 219.70it/s]\n",
      "Train Epoch 97/150, Train Loss: 0.0: 100%|██████████| 28/28 [00:01<00:00, 18.62it/s]\n"
     ]
    },
    {
     "name": "stdout",
     "output_type": "stream",
     "text": [
      "Adjusting learning rate of group 0 to 2.0716e-04.\n"
     ]
    },
    {
     "name": "stderr",
     "output_type": "stream",
     "text": [
      "Test Epoch 97/150, Test Loss: 0.13332676169063365: 100%|██████████| 28/28 [00:00<00:00, 221.74it/s]\n",
      "Train Epoch 98/150, Train Loss: 0.0: 100%|██████████| 28/28 [00:01<00:00, 18.64it/s]\n"
     ]
    },
    {
     "name": "stdout",
     "output_type": "stream",
     "text": [
      "Adjusting learning rate of group 0 to 1.9680e-04.\n"
     ]
    },
    {
     "name": "stderr",
     "output_type": "stream",
     "text": [
      "Test Epoch 98/150, Test Loss: 0.13354822913450853: 100%|██████████| 28/28 [00:00<00:00, 194.54it/s]\n",
      "Train Epoch 99/150, Train Loss: 0.0: 100%|██████████| 28/28 [00:01<00:00, 18.43it/s]\n"
     ]
    },
    {
     "name": "stdout",
     "output_type": "stream",
     "text": [
      "Adjusting learning rate of group 0 to 1.8696e-04.\n"
     ]
    },
    {
     "name": "stderr",
     "output_type": "stream",
     "text": [
      "Test Epoch 99/150, Test Loss: 0.1335425962294851: 100%|██████████| 28/28 [00:00<00:00, 229.93it/s]\n",
      "Train Epoch 100/150, Train Loss: 0.0: 100%|██████████| 28/28 [00:01<00:00, 17.88it/s]\n"
     ]
    },
    {
     "name": "stdout",
     "output_type": "stream",
     "text": [
      "Adjusting learning rate of group 0 to 1.7762e-04.\n"
     ]
    },
    {
     "name": "stderr",
     "output_type": "stream",
     "text": [
      "Test Epoch 100/150, Test Loss: 0.13327914103865623: 100%|██████████| 28/28 [00:00<00:00, 203.72it/s]\n",
      "Train Epoch 101/150, Train Loss: 0.0: 100%|██████████| 28/28 [00:01<00:00, 18.29it/s]\n"
     ]
    },
    {
     "name": "stdout",
     "output_type": "stream",
     "text": [
      "Adjusting learning rate of group 0 to 1.6874e-04.\n"
     ]
    },
    {
     "name": "stderr",
     "output_type": "stream",
     "text": [
      "Test Epoch 101/150, Test Loss: 0.13339730272335665: 100%|██████████| 28/28 [00:00<00:00, 199.94it/s]\n",
      "Train Epoch 102/150, Train Loss: 0.0: 100%|██████████| 28/28 [00:01<00:00, 18.49it/s]\n"
     ]
    },
    {
     "name": "stdout",
     "output_type": "stream",
     "text": [
      "Adjusting learning rate of group 0 to 1.6030e-04.\n"
     ]
    },
    {
     "name": "stderr",
     "output_type": "stream",
     "text": [
      "Test Epoch 102/150, Test Loss: 0.13335788090314185: 100%|██████████| 28/28 [00:00<00:00, 224.41it/s]\n",
      "Train Epoch 103/150, Train Loss: 0.0: 100%|██████████| 28/28 [00:01<00:00, 18.96it/s]\n"
     ]
    },
    {
     "name": "stdout",
     "output_type": "stream",
     "text": [
      "Adjusting learning rate of group 0 to 1.5228e-04.\n"
     ]
    },
    {
     "name": "stderr",
     "output_type": "stream",
     "text": [
      "Test Epoch 103/150, Test Loss: 0.1333561898874385: 100%|██████████| 28/28 [00:00<00:00, 220.93it/s]\n",
      "Train Epoch 104/150, Train Loss: 0.0: 100%|██████████| 28/28 [00:01<00:00, 18.62it/s]\n"
     ]
    },
    {
     "name": "stdout",
     "output_type": "stream",
     "text": [
      "Adjusting learning rate of group 0 to 1.4467e-04.\n"
     ]
    },
    {
     "name": "stderr",
     "output_type": "stream",
     "text": [
      "Test Epoch 104/150, Test Loss: 0.13360090846461908: 100%|██████████| 28/28 [00:00<00:00, 218.47it/s]\n",
      "Train Epoch 105/150, Train Loss: 0.0: 100%|██████████| 28/28 [00:01<00:00, 18.62it/s]\n"
     ]
    },
    {
     "name": "stdout",
     "output_type": "stream",
     "text": [
      "Adjusting learning rate of group 0 to 1.3744e-04.\n"
     ]
    },
    {
     "name": "stderr",
     "output_type": "stream",
     "text": [
      "Test Epoch 105/150, Test Loss: 0.13345360702701978: 100%|██████████| 28/28 [00:00<00:00, 227.44it/s]\n",
      "Train Epoch 106/150, Train Loss: 0.0: 100%|██████████| 28/28 [00:01<00:00, 18.84it/s]\n"
     ]
    },
    {
     "name": "stdout",
     "output_type": "stream",
     "text": [
      "Adjusting learning rate of group 0 to 1.3056e-04.\n"
     ]
    },
    {
     "name": "stderr",
     "output_type": "stream",
     "text": [
      "Test Epoch 106/150, Test Loss: 0.13336151678647315: 100%|██████████| 28/28 [00:00<00:00, 221.95it/s]\n",
      "Train Epoch 107/150, Train Loss: 0.0: 100%|██████████| 28/28 [00:01<00:00, 18.37it/s]\n"
     ]
    },
    {
     "name": "stdout",
     "output_type": "stream",
     "text": [
      "Adjusting learning rate of group 0 to 1.2404e-04.\n"
     ]
    },
    {
     "name": "stderr",
     "output_type": "stream",
     "text": [
      "Test Epoch 107/150, Test Loss: 0.13320980566952909: 100%|██████████| 28/28 [00:00<00:00, 217.91it/s]\n",
      "Train Epoch 108/150, Train Loss: 0.0: 100%|██████████| 28/28 [00:01<00:00, 18.60it/s]\n"
     ]
    },
    {
     "name": "stdout",
     "output_type": "stream",
     "text": [
      "Adjusting learning rate of group 0 to 1.1783e-04.\n"
     ]
    },
    {
     "name": "stderr",
     "output_type": "stream",
     "text": [
      "Test Epoch 108/150, Test Loss: 0.1333324100290026: 100%|██████████| 28/28 [00:00<00:00, 225.02it/s]\n",
      "Train Epoch 109/150, Train Loss: 0.0: 100%|██████████| 28/28 [00:01<00:00, 18.77it/s]\n"
     ]
    },
    {
     "name": "stdout",
     "output_type": "stream",
     "text": [
      "Adjusting learning rate of group 0 to 1.1194e-04.\n"
     ]
    },
    {
     "name": "stderr",
     "output_type": "stream",
     "text": [
      "Test Epoch 109/150, Test Loss: 0.13324650989047118: 100%|██████████| 28/28 [00:00<00:00, 198.63it/s]\n",
      "Train Epoch 110/150, Train Loss: 0.0: 100%|██████████| 28/28 [00:01<00:00, 18.71it/s]\n"
     ]
    },
    {
     "name": "stdout",
     "output_type": "stream",
     "text": [
      "Adjusting learning rate of group 0 to 1.0635e-04.\n"
     ]
    },
    {
     "name": "stderr",
     "output_type": "stream",
     "text": [
      "Test Epoch 110/150, Test Loss: 0.13344815160546983: 100%|██████████| 28/28 [00:00<00:00, 225.53it/s]\n",
      "Train Epoch 111/150, Train Loss: 0.0: 100%|██████████| 28/28 [00:01<00:00, 18.62it/s]\n"
     ]
    },
    {
     "name": "stdout",
     "output_type": "stream",
     "text": [
      "Adjusting learning rate of group 0 to 1.0103e-04.\n"
     ]
    },
    {
     "name": "stderr",
     "output_type": "stream",
     "text": [
      "Test Epoch 111/150, Test Loss: 0.13332473646317208: 100%|██████████| 28/28 [00:00<00:00, 224.70it/s]\n",
      "Train Epoch 112/150, Train Loss: 0.0: 100%|██████████| 28/28 [00:01<00:00, 18.47it/s]\n"
     ]
    },
    {
     "name": "stdout",
     "output_type": "stream",
     "text": [
      "Adjusting learning rate of group 0 to 9.5977e-05.\n"
     ]
    },
    {
     "name": "stderr",
     "output_type": "stream",
     "text": [
      "Test Epoch 112/150, Test Loss: 0.13341662154666015: 100%|██████████| 28/28 [00:00<00:00, 214.12it/s]\n",
      "Train Epoch 113/150, Train Loss: 0.0: 100%|██████████| 28/28 [00:01<00:00, 18.62it/s]\n"
     ]
    },
    {
     "name": "stdout",
     "output_type": "stream",
     "text": [
      "Adjusting learning rate of group 0 to 9.1178e-05.\n"
     ]
    },
    {
     "name": "stderr",
     "output_type": "stream",
     "text": [
      "Test Epoch 113/150, Test Loss: 0.13361121421413763: 100%|██████████| 28/28 [00:00<00:00, 216.69it/s]\n",
      "Train Epoch 114/150, Train Loss: 0.0: 100%|██████████| 28/28 [00:01<00:00, 18.80it/s]\n"
     ]
    },
    {
     "name": "stdout",
     "output_type": "stream",
     "text": [
      "Adjusting learning rate of group 0 to 8.6619e-05.\n"
     ]
    },
    {
     "name": "stderr",
     "output_type": "stream",
     "text": [
      "Test Epoch 114/150, Test Loss: 0.13338531447308405: 100%|██████████| 28/28 [00:00<00:00, 225.23it/s]\n",
      "Train Epoch 115/150, Train Loss: 0.0: 100%|██████████| 28/28 [00:01<00:00, 18.35it/s]\n"
     ]
    },
    {
     "name": "stdout",
     "output_type": "stream",
     "text": [
      "Adjusting learning rate of group 0 to 8.2288e-05.\n"
     ]
    },
    {
     "name": "stderr",
     "output_type": "stream",
     "text": [
      "Test Epoch 115/150, Test Loss: 0.13340837694704533: 100%|██████████| 28/28 [00:00<00:00, 221.15it/s]\n",
      "Train Epoch 116/150, Train Loss: 0.0: 100%|██████████| 28/28 [00:01<00:00, 18.79it/s]\n"
     ]
    },
    {
     "name": "stdout",
     "output_type": "stream",
     "text": [
      "Adjusting learning rate of group 0 to 7.8173e-05.\n"
     ]
    },
    {
     "name": "stderr",
     "output_type": "stream",
     "text": [
      "Test Epoch 116/150, Test Loss: 0.13335611245461873: 100%|██████████| 28/28 [00:00<00:00, 222.15it/s]\n",
      "Train Epoch 117/150, Train Loss: 0.0: 100%|██████████| 28/28 [00:01<00:00, 18.77it/s]\n"
     ]
    },
    {
     "name": "stdout",
     "output_type": "stream",
     "text": [
      "Adjusting learning rate of group 0 to 7.4265e-05.\n"
     ]
    },
    {
     "name": "stderr",
     "output_type": "stream",
     "text": [
      "Test Epoch 117/150, Test Loss: 0.13351108240229742: 100%|██████████| 28/28 [00:00<00:00, 215.00it/s]\n",
      "Train Epoch 118/150, Train Loss: 0.0: 100%|██████████| 28/28 [00:01<00:00, 18.46it/s]\n"
     ]
    },
    {
     "name": "stdout",
     "output_type": "stream",
     "text": [
      "Adjusting learning rate of group 0 to 7.0552e-05.\n"
     ]
    },
    {
     "name": "stderr",
     "output_type": "stream",
     "text": [
      "Test Epoch 118/150, Test Loss: 0.1335436382464: 100%|██████████| 28/28 [00:00<00:00, 213.91it/s]\n",
      "Train Epoch 119/150, Train Loss: 0.0: 100%|██████████| 28/28 [00:01<00:00, 18.76it/s]\n"
     ]
    },
    {
     "name": "stdout",
     "output_type": "stream",
     "text": [
      "Adjusting learning rate of group 0 to 6.7024e-05.\n"
     ]
    },
    {
     "name": "stderr",
     "output_type": "stream",
     "text": [
      "Test Epoch 119/150, Test Loss: 0.13320330024829932: 100%|██████████| 28/28 [00:00<00:00, 218.92it/s]\n",
      "Train Epoch 120/150, Train Loss: 0.0: 100%|██████████| 28/28 [00:01<00:00, 18.56it/s]\n"
     ]
    },
    {
     "name": "stdout",
     "output_type": "stream",
     "text": [
      "Adjusting learning rate of group 0 to 6.3673e-05.\n"
     ]
    },
    {
     "name": "stderr",
     "output_type": "stream",
     "text": [
      "Test Epoch 120/150, Test Loss: 0.1332342800285135: 100%|██████████| 28/28 [00:00<00:00, 201.07it/s]\n",
      "Train Epoch 121/150, Train Loss: 0.0: 100%|██████████| 28/28 [00:01<00:00, 18.58it/s]\n"
     ]
    },
    {
     "name": "stdout",
     "output_type": "stream",
     "text": [
      "Adjusting learning rate of group 0 to 6.0489e-05.\n"
     ]
    },
    {
     "name": "stderr",
     "output_type": "stream",
     "text": [
      "Test Epoch 121/150, Test Loss: 0.13340584454791887: 100%|██████████| 28/28 [00:00<00:00, 219.26it/s]\n",
      "Train Epoch 122/150, Train Loss: 0.0: 100%|██████████| 28/28 [00:01<00:00, 18.52it/s]\n"
     ]
    },
    {
     "name": "stdout",
     "output_type": "stream",
     "text": [
      "Adjusting learning rate of group 0 to 5.7465e-05.\n"
     ]
    },
    {
     "name": "stderr",
     "output_type": "stream",
     "text": [
      "Test Epoch 122/150, Test Loss: 0.1333430095442704: 100%|██████████| 28/28 [00:00<00:00, 226.64it/s]\n",
      "Train Epoch 123/150, Train Loss: 0.0: 100%|██████████| 28/28 [00:01<00:00, 16.78it/s]\n"
     ]
    },
    {
     "name": "stdout",
     "output_type": "stream",
     "text": [
      "Adjusting learning rate of group 0 to 5.4591e-05.\n"
     ]
    },
    {
     "name": "stderr",
     "output_type": "stream",
     "text": [
      "Test Epoch 123/150, Test Loss: 0.133405544928142: 100%|██████████| 28/28 [00:00<00:00, 223.95it/s]\n",
      "Train Epoch 124/150, Train Loss: 0.0: 100%|██████████| 28/28 [00:01<00:00, 17.21it/s]\n"
     ]
    },
    {
     "name": "stdout",
     "output_type": "stream",
     "text": [
      "Adjusting learning rate of group 0 to 5.1862e-05.\n"
     ]
    },
    {
     "name": "stderr",
     "output_type": "stream",
     "text": [
      "Test Epoch 124/150, Test Loss: 0.13332775554486684: 100%|██████████| 28/28 [00:00<00:00, 191.54it/s]\n",
      "Train Epoch 125/150, Train Loss: 0.0: 100%|██████████| 28/28 [00:01<00:00, 16.99it/s]\n"
     ]
    },
    {
     "name": "stdout",
     "output_type": "stream",
     "text": [
      "Adjusting learning rate of group 0 to 4.9269e-05.\n"
     ]
    },
    {
     "name": "stderr",
     "output_type": "stream",
     "text": [
      "Test Epoch 125/150, Test Loss: 0.13339517159121378: 100%|██████████| 28/28 [00:00<00:00, 218.49it/s]\n",
      "Train Epoch 126/150, Train Loss: 0.0: 100%|██████████| 28/28 [00:01<00:00, 17.22it/s]\n"
     ]
    },
    {
     "name": "stdout",
     "output_type": "stream",
     "text": [
      "Adjusting learning rate of group 0 to 4.6805e-05.\n"
     ]
    },
    {
     "name": "stderr",
     "output_type": "stream",
     "text": [
      "Test Epoch 126/150, Test Loss: 0.13353883528283664: 100%|██████████| 28/28 [00:00<00:00, 231.09it/s]\n",
      "Train Epoch 127/150, Train Loss: 0.0: 100%|██████████| 28/28 [00:01<00:00, 18.09it/s]\n"
     ]
    },
    {
     "name": "stdout",
     "output_type": "stream",
     "text": [
      "Adjusting learning rate of group 0 to 4.4465e-05.\n"
     ]
    },
    {
     "name": "stderr",
     "output_type": "stream",
     "text": [
      "Test Epoch 127/150, Test Loss: 0.13332761824131012: 100%|██████████| 28/28 [00:00<00:00, 223.84it/s]\n",
      "Train Epoch 128/150, Train Loss: 0.0: 100%|██████████| 28/28 [00:01<00:00, 18.44it/s]\n"
     ]
    },
    {
     "name": "stdout",
     "output_type": "stream",
     "text": [
      "Adjusting learning rate of group 0 to 4.2242e-05.\n"
     ]
    },
    {
     "name": "stderr",
     "output_type": "stream",
     "text": [
      "Test Epoch 128/150, Test Loss: 0.133302846125194: 100%|██████████| 28/28 [00:00<00:00, 222.61it/s]\n",
      "Train Epoch 129/150, Train Loss: 0.0: 100%|██████████| 28/28 [00:01<00:00, 17.56it/s]\n"
     ]
    },
    {
     "name": "stdout",
     "output_type": "stream",
     "text": [
      "Adjusting learning rate of group 0 to 4.0130e-05.\n"
     ]
    },
    {
     "name": "stderr",
     "output_type": "stream",
     "text": [
      "Test Epoch 129/150, Test Loss: 0.13340872047202929: 100%|██████████| 28/28 [00:00<00:00, 228.33it/s]\n",
      "Train Epoch 130/150, Train Loss: 0.0: 100%|██████████| 28/28 [00:01<00:00, 18.02it/s]\n"
     ]
    },
    {
     "name": "stdout",
     "output_type": "stream",
     "text": [
      "Adjusting learning rate of group 0 to 3.8123e-05.\n"
     ]
    },
    {
     "name": "stderr",
     "output_type": "stream",
     "text": [
      "Test Epoch 130/150, Test Loss: 0.13335728592106275: 100%|██████████| 28/28 [00:00<00:00, 218.21it/s]\n",
      "Train Epoch 131/150, Train Loss: 0.0: 100%|██████████| 28/28 [00:01<00:00, 18.33it/s]\n"
     ]
    },
    {
     "name": "stdout",
     "output_type": "stream",
     "text": [
      "Adjusting learning rate of group 0 to 3.6217e-05.\n"
     ]
    },
    {
     "name": "stderr",
     "output_type": "stream",
     "text": [
      "Test Epoch 131/150, Test Loss: 0.13330755329557828: 100%|██████████| 28/28 [00:00<00:00, 209.46it/s]\n",
      "Train Epoch 132/150, Train Loss: 0.0: 100%|██████████| 28/28 [00:01<00:00, 18.45it/s]\n"
     ]
    },
    {
     "name": "stdout",
     "output_type": "stream",
     "text": [
      "Adjusting learning rate of group 0 to 3.4406e-05.\n"
     ]
    },
    {
     "name": "stderr",
     "output_type": "stream",
     "text": [
      "Test Epoch 132/150, Test Loss: 0.13344973352338588: 100%|██████████| 28/28 [00:00<00:00, 231.63it/s]\n",
      "Train Epoch 133/150, Train Loss: 0.0: 100%|██████████| 28/28 [00:01<00:00, 18.53it/s]\n"
     ]
    },
    {
     "name": "stdout",
     "output_type": "stream",
     "text": [
      "Adjusting learning rate of group 0 to 3.2686e-05.\n"
     ]
    },
    {
     "name": "stderr",
     "output_type": "stream",
     "text": [
      "Test Epoch 133/150, Test Loss: 0.13348686641880445: 100%|██████████| 28/28 [00:00<00:00, 229.98it/s]\n",
      "Train Epoch 134/150, Train Loss: 0.0: 100%|██████████| 28/28 [00:01<00:00, 18.36it/s]\n"
     ]
    },
    {
     "name": "stdout",
     "output_type": "stream",
     "text": [
      "Adjusting learning rate of group 0 to 3.1052e-05.\n"
     ]
    },
    {
     "name": "stderr",
     "output_type": "stream",
     "text": [
      "Test Epoch 134/150, Test Loss: 0.13330860223088944: 100%|██████████| 28/28 [00:00<00:00, 236.30it/s]\n",
      "Train Epoch 135/150, Train Loss: 0.0: 100%|██████████| 28/28 [00:01<00:00, 18.80it/s]\n"
     ]
    },
    {
     "name": "stdout",
     "output_type": "stream",
     "text": [
      "Adjusting learning rate of group 0 to 2.9499e-05.\n"
     ]
    },
    {
     "name": "stderr",
     "output_type": "stream",
     "text": [
      "Test Epoch 135/150, Test Loss: 0.13359417340585164: 100%|██████████| 28/28 [00:00<00:00, 237.66it/s]\n",
      "Train Epoch 136/150, Train Loss: 0.0: 100%|██████████| 28/28 [00:01<00:00, 18.88it/s]\n"
     ]
    },
    {
     "name": "stdout",
     "output_type": "stream",
     "text": [
      "Adjusting learning rate of group 0 to 2.8024e-05.\n"
     ]
    },
    {
     "name": "stderr",
     "output_type": "stream",
     "text": [
      "Test Epoch 136/150, Test Loss: 0.13347316799419268: 100%|██████████| 28/28 [00:00<00:00, 205.21it/s]\n",
      "Train Epoch 137/150, Train Loss: 0.0: 100%|██████████| 28/28 [00:01<00:00, 18.42it/s]\n"
     ]
    },
    {
     "name": "stdout",
     "output_type": "stream",
     "text": [
      "Adjusting learning rate of group 0 to 2.6623e-05.\n"
     ]
    },
    {
     "name": "stderr",
     "output_type": "stream",
     "text": [
      "Test Epoch 137/150, Test Loss: 0.13322410945381438: 100%|██████████| 28/28 [00:00<00:00, 234.25it/s]\n",
      "Train Epoch 138/150, Train Loss: 0.0: 100%|██████████| 28/28 [00:01<00:00, 18.75it/s]\n"
     ]
    },
    {
     "name": "stdout",
     "output_type": "stream",
     "text": [
      "Adjusting learning rate of group 0 to 2.5292e-05.\n"
     ]
    },
    {
     "name": "stderr",
     "output_type": "stream",
     "text": [
      "Test Epoch 138/150, Test Loss: 0.13327678505863463: 100%|██████████| 28/28 [00:00<00:00, 224.42it/s]\n",
      "Train Epoch 139/150, Train Loss: 0.0: 100%|██████████| 28/28 [00:01<00:00, 18.12it/s]\n"
     ]
    },
    {
     "name": "stdout",
     "output_type": "stream",
     "text": [
      "Adjusting learning rate of group 0 to 2.4027e-05.\n"
     ]
    },
    {
     "name": "stderr",
     "output_type": "stream",
     "text": [
      "Test Epoch 139/150, Test Loss: 0.13347150278942926: 100%|██████████| 28/28 [00:00<00:00, 237.62it/s]\n",
      "Train Epoch 140/150, Train Loss: 0.0: 100%|██████████| 28/28 [00:01<00:00, 18.70it/s]\n"
     ]
    },
    {
     "name": "stdout",
     "output_type": "stream",
     "text": [
      "Adjusting learning rate of group 0 to 2.2826e-05.\n"
     ]
    },
    {
     "name": "stderr",
     "output_type": "stream",
     "text": [
      "Test Epoch 140/150, Test Loss: 0.13343552021043642: 100%|██████████| 28/28 [00:00<00:00, 235.18it/s]\n",
      "Train Epoch 141/150, Train Loss: 0.0: 100%|██████████| 28/28 [00:01<00:00, 18.73it/s]\n"
     ]
    },
    {
     "name": "stdout",
     "output_type": "stream",
     "text": [
      "Adjusting learning rate of group 0 to 2.1685e-05.\n"
     ]
    },
    {
     "name": "stderr",
     "output_type": "stream",
     "text": [
      "Test Epoch 141/150, Test Loss: 0.13335038987653597: 100%|██████████| 28/28 [00:00<00:00, 212.90it/s]\n",
      "Train Epoch 142/150, Train Loss: 0.0: 100%|██████████| 28/28 [00:01<00:00, 18.98it/s]\n"
     ]
    },
    {
     "name": "stdout",
     "output_type": "stream",
     "text": [
      "Adjusting learning rate of group 0 to 2.0600e-05.\n"
     ]
    },
    {
     "name": "stderr",
     "output_type": "stream",
     "text": [
      "Test Epoch 142/150, Test Loss: 0.13345491673265183: 100%|██████████| 28/28 [00:00<00:00, 235.36it/s]\n",
      "Train Epoch 143/150, Train Loss: 0.0: 100%|██████████| 28/28 [00:01<00:00, 18.76it/s]\n"
     ]
    },
    {
     "name": "stdout",
     "output_type": "stream",
     "text": [
      "Adjusting learning rate of group 0 to 1.9570e-05.\n"
     ]
    },
    {
     "name": "stderr",
     "output_type": "stream",
     "text": [
      "Test Epoch 143/150, Test Loss: 0.1334876843861171: 100%|██████████| 28/28 [00:00<00:00, 234.11it/s]\n",
      "Train Epoch 144/150, Train Loss: 0.0: 100%|██████████| 28/28 [00:01<00:00, 18.67it/s]\n"
     ]
    },
    {
     "name": "stdout",
     "output_type": "stream",
     "text": [
      "Adjusting learning rate of group 0 to 1.8592e-05.\n"
     ]
    },
    {
     "name": "stderr",
     "output_type": "stream",
     "text": [
      "Test Epoch 144/150, Test Loss: 0.13344921171665192: 100%|██████████| 28/28 [00:00<00:00, 200.42it/s]\n",
      "Train Epoch 145/150, Train Loss: 0.0: 100%|██████████| 28/28 [00:01<00:00, 18.77it/s]\n"
     ]
    },
    {
     "name": "stdout",
     "output_type": "stream",
     "text": [
      "Adjusting learning rate of group 0 to 1.7662e-05.\n"
     ]
    },
    {
     "name": "stderr",
     "output_type": "stream",
     "text": [
      "Test Epoch 145/150, Test Loss: 0.13329685293138027: 100%|██████████| 28/28 [00:00<00:00, 232.70it/s]\n",
      "Train Epoch 146/150, Train Loss: 0.0: 100%|██████████| 28/28 [00:01<00:00, 18.81it/s]\n"
     ]
    },
    {
     "name": "stdout",
     "output_type": "stream",
     "text": [
      "Adjusting learning rate of group 0 to 1.6779e-05.\n"
     ]
    },
    {
     "name": "stderr",
     "output_type": "stream",
     "text": [
      "Test Epoch 146/150, Test Loss: 0.1333442452762808: 100%|██████████| 28/28 [00:00<00:00, 226.82it/s]\n",
      "Train Epoch 147/150, Train Loss: 0.0: 100%|██████████| 28/28 [00:01<00:00, 18.61it/s]\n"
     ]
    },
    {
     "name": "stdout",
     "output_type": "stream",
     "text": [
      "Adjusting learning rate of group 0 to 1.5940e-05.\n"
     ]
    },
    {
     "name": "stderr",
     "output_type": "stream",
     "text": [
      "Test Epoch 147/150, Test Loss: 0.13332497222082956: 100%|██████████| 28/28 [00:00<00:00, 210.46it/s]\n",
      "Train Epoch 148/150, Train Loss: 0.0: 100%|██████████| 28/28 [00:01<00:00, 18.75it/s]\n"
     ]
    },
    {
     "name": "stdout",
     "output_type": "stream",
     "text": [
      "Adjusting learning rate of group 0 to 1.5143e-05.\n"
     ]
    },
    {
     "name": "stderr",
     "output_type": "stream",
     "text": [
      "Test Epoch 148/150, Test Loss: 0.13320441730320454: 100%|██████████| 28/28 [00:00<00:00, 235.40it/s]\n",
      "Train Epoch 149/150, Train Loss: 0.0: 100%|██████████| 28/28 [00:01<00:00, 19.05it/s]\n"
     ]
    },
    {
     "name": "stdout",
     "output_type": "stream",
     "text": [
      "Adjusting learning rate of group 0 to 1.4386e-05.\n"
     ]
    },
    {
     "name": "stderr",
     "output_type": "stream",
     "text": [
      "Test Epoch 149/150, Test Loss: 0.13334547887955392: 100%|██████████| 28/28 [00:00<00:00, 231.25it/s]\n",
      "Train Epoch 150/150, Train Loss: 0.0: 100%|██████████| 28/28 [00:01<00:00, 18.38it/s]\n"
     ]
    },
    {
     "name": "stdout",
     "output_type": "stream",
     "text": [
      "Adjusting learning rate of group 0 to 1.3667e-05.\n"
     ]
    },
    {
     "name": "stderr",
     "output_type": "stream",
     "text": [
      "Test Epoch 150/150, Test Loss: 0.13333573671323912: 100%|██████████| 28/28 [00:00<00:00, 232.75it/s]\n"
     ]
    }
   ],
   "source": [
    "train_loss, val_loss = [], []\n",
    "for epoch in range(EPOCHS):\n",
    "    model.train()\n",
    "    \n",
    "    running_loss = 0.0\n",
    "    for idx, data in tqdm(enumerate(train_dataloader), total=len(train_dataloader), desc=f\"Train Epoch {epoch+1}/{EPOCHS}, Train Loss: {running_loss / len(train_dataloader)}\"):\n",
    "        X_data_1, X_data_2, y_data = data\n",
    "        X_data_1 = X_data_1.to(device).reshape(-1, 1)\n",
    "        X_data_2 = X_data_2.to(device).reshape(-1, 1)\n",
    "        y_data = y_data.to(device)\n",
    "        \n",
    "        optimizer.zero_grad()\n",
    "        y_pred = model(X_data_1, X_data_2).reshape(-1, 6)\n",
    "\n",
    "        loss = criterion(y_pred, y_data)\n",
    "        running_loss += loss.item()\n",
    "\n",
    "        loss.backward()\n",
    "        optimizer.step()\n",
    "    scheduler.step()\n",
    "    train_loss.append(running_loss / len(train_dataloader))\n",
    "\n",
    "    model.eval()\n",
    "    with torch.no_grad():\n",
    "        correct = 0\n",
    "        total = 0\n",
    "        for idx, data in tqdm(enumerate(test_dataloader), total=len(test_dataloader), desc=f\"Test Epoch {epoch+1}/{EPOCHS}, Test Loss: {running_loss / len(test_dataloader)}\"):\n",
    "            X_data_1, X_data_2, y_data = data \n",
    "            X_data_1 = X_data_1.to(device).reshape(-1, 1)\n",
    "            X_data_2 = X_data_2.to(device).reshape(-1, 1)\n",
    "            y_data = y_data.to(device)\n",
    "\n",
    "            y_pred = model(X_data_1, X_data_2).reshape(-1, 6)\n",
    "            loss = criterion(y_pred, y_data)\n",
    "            running_loss += loss.item()\n",
    "\n",
    "            _, predicted = torch.max(y_pred.data, 1)\n",
    "            _, y_true = torch.max(y_data.data, 1)\n",
    "            total += y_data.size(0)\n",
    "            correct += (predicted == y_true).sum().item()\n",
    "\n",
    "        val_loss.append(running_loss / len(test_dataloader))"
   ]
  },
  {
   "cell_type": "code",
   "execution_count": 13,
   "metadata": {},
   "outputs": [
    {
     "data": {
      "image/png": "[encoded data removed]",
      "text/plain": [
       "<Figure size 2000x1000 with 2 Axes>"
      ]
     },
     "metadata": {},
     "output_type": "display_data"
    }
   ],
   "source": [
    "plt.figure(figsize=(20, 10))\n",
    "\n",
    "plt.subplot(1, 2, 1)\n",
    "plt.title(\"Test Loss\")\n",
    "plt.plot(val_loss, label='test loss', color='red', linewidth=2)\n",
    "plt.xlabel('Epochs')\n",
    "plt.ylabel('Loss')\n",
    "plt.grid(True)\n",
    "\n",
    "plt.subplot(1, 2, 2)\n",
    "plt.title(\"Train Loss\")\n",
    "plt.plot(train_loss, label='train loss', color='blue', linewidth=2)\n",
    "plt.xlabel('Epochs')\n",
    "plt.ylabel('Loss')\n",
    "plt.grid(True)\n",
    "\n",
    "plt.show()"
   ]
  },
  {
   "cell_type": "markdown",
   "metadata": {},
   "source": [
    "# Evaluation"
   ]
  },
  {
   "cell_type": "code",
   "execution_count": 20,
   "metadata": {},
   "outputs": [
    {
     "data": {
      "text/plain": [
       "Model(\n",
       "  (input_linear_1): Linear(in_features=1, out_features=32, bias=True)\n",
       "  (input_linear_1_1): Linear(in_features=32, out_features=64, bias=True)\n",
       "  (input_linear_1_2): Linear(in_features=64, out_features=128, bias=True)\n",
       "  (input_linear_1_3): Linear(in_features=128, out_features=256, bias=True)\n",
       "  (input_linear_1_4): Linear(in_features=256, out_features=512, bias=True)\n",
       "  (gru_1): GRU(512, 512, batch_first=True)\n",
       "  (input_linear_2): Linear(in_features=1, out_features=32, bias=True)\n",
       "  (input_linear_2_1): Linear(in_features=32, out_features=64, bias=True)\n",
       "  (input_linear_2_2): Linear(in_features=64, out_features=128, bias=True)\n",
       "  (input_linear_2_3): Linear(in_features=128, out_features=256, bias=True)\n",
       "  (input_linear_2_4): Linear(in_features=256, out_features=512, bias=True)\n",
       "  (gru_2): GRU(512, 512, batch_first=True)\n",
       "  (output_hidden_1): Linear(in_features=1024, out_features=256, bias=True)\n",
       "  (output_hidden_2): Linear(in_features=256, out_features=32, bias=True)\n",
       "  (output_linear): Linear(in_features=32, out_features=6, bias=True)\n",
       ")"
      ]
     },
     "execution_count": 20,
     "metadata": {},
     "output_type": "execute_result"
    }
   ],
   "source": [
    "model.eval()"
   ]
  },
  {
   "cell_type": "code",
   "execution_count": 21,
   "metadata": {},
   "outputs": [],
   "source": [
    "y_data = datasheet.iloc[:, 0]\n",
    "y_data = y_data.to_numpy().astype(np.float32)\n",
    "y_data = onehot_encoder.fit_transform(y_data.reshape(-1, 1)).astype(np.float32).toarray()\n",
    "\n",
    "X_data_1 = datasheet.iloc[:, 1].to_numpy().astype(np.float32)\n",
    "X_data_1 = torch.from_numpy(X_data_1).reshape(-1, 1)\n",
    "\n",
    "X_data_2 = datasheet.iloc[:, 2].to_numpy().astype(np.float32)\n",
    "X_data_2 = torch.from_numpy(X_data_2).reshape(-1, 1)\n",
    "\n",
    "y_pred = model(X_data_1, X_data_2).detach().numpy()"
   ]
  },
  {
   "cell_type": "code",
   "execution_count": 22,
   "metadata": {},
   "outputs": [
    {
     "name": "stdout",
     "output_type": "stream",
     "text": [
      "y_pred Shape: (879, 6)\n",
      "y_test Shape: (879, 6)\n"
     ]
    }
   ],
   "source": [
    "print(f\"\"\"y_pred Shape: {y_pred.shape}\n",
    "y_test Shape: {y_data.shape}\"\"\")"
   ]
  },
  {
   "cell_type": "code",
   "execution_count": 23,
   "metadata": {},
   "outputs": [
    {
     "name": "stdout",
     "output_type": "stream",
     "text": [
      "MSE Loss:  0.1334026\n"
     ]
    }
   ],
   "source": [
    "mse_loss = mean_squared_error(y_data, y_pred)\n",
    "print(\"MSE Loss: \", mse_loss)"
   ]
  },
  {
   "cell_type": "code",
   "execution_count": 25,
   "metadata": {},
   "outputs": [
    {
     "data": {
      "image/png": "[encoded data removed]",
      "text/plain": [
       "<Figure size 1000x1000 with 1 Axes>"
      ]
     },
     "metadata": {},
     "output_type": "display_data"
    }
   ],
   "source": [
    "conf_mat = confusion_matrix(y_test_arg, y_pred_arg)\n",
    "\n",
    "plt.figure(figsize=(10, 10))\n",
    "sns.heatmap(conf_mat, annot=True, fmt='d', cmap=plt.cm.Blues, cbar=False)\n",
    "plt.title('Confusion Matrix')\n",
    "plt.xlabel('Predicted Label')\n",
    "plt.ylabel('True Label')\n",
    "plt.show()"
   ]
  },
  {
   "cell_type": "markdown",
   "metadata": {},
   "source": [
    "# Predict"
   ]
  },
  {
   "cell_type": "code",
   "execution_count": null,
   "metadata": {},
   "outputs": [],
   "source": []
  }
 ],
 "metadata": {
  "kernelspec": {
   "display_name": "base",
   "language": "python",
   "name": "python3"
  },
  "language_info": {
   "codemirror_mode": {
    "name": "ipython",
    "version": 3
   },
   "file_extension": ".py",
   "mimetype": "text/x-python",
   "name": "python",
   "nbconvert_exporter": "python",
   "pygments_lexer": "ipython3",
   "version": "3.10.9"
  },
  "orig_nbformat": 4
 },
 "nbformat": 4,
 "nbformat_minor": 2
}
