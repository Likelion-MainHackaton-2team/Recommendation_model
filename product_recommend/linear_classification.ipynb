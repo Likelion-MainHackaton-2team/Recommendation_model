{
 "cells": [
  {
   "cell_type": "code",
   "execution_count": 1,
   "metadata": {},
   "outputs": [],
   "source": [
    "from sklearn.preprocessing import OneHotEncoder, LabelEncoder\n",
    "\n",
    "from sklearn.model_selection import train_test_split\n",
    "from sklearn.metrics import classification_report\n",
    "from sklearn.metrics import mean_squared_error\n",
    "from sklearn.metrics import confusion_matrix\n",
    "from sklearn.metrics import accuracy_score\n",
    "from sklearn.metrics import r2_score\n",
    "\n",
    "from tqdm import tqdm\n",
    "\n",
    "import matplotlib.pyplot as plt\n",
    "import seaborn as sns\n",
    "import pandas as pd\n",
    "import numpy as np\n",
    "\n",
    "from torch.utils.data import Dataset, DataLoader\n",
    "from torchsummary import summary\n",
    "\n",
    "import torch.nn.functional as F\n",
    "import torch.optim as optim\n",
    "import torch.nn as nn\n",
    "import torch\n",
    "import math\n",
    "\n",
    "DATA_PATH = \"./data/processed_dataset.csv\""
   ]
  },
  {
   "cell_type": "code",
   "execution_count": 2,
   "metadata": {},
   "outputs": [],
   "source": [
    "device = torch.device('cpu')"
   ]
  },
  {
   "cell_type": "markdown",
   "metadata": {},
   "source": [
    "# Read data"
   ]
  },
  {
   "cell_type": "code",
   "execution_count": 3,
   "metadata": {},
   "outputs": [
    {
     "data": {
      "text/html": [
       "<div>\n",
       "<style scoped>\n",
       "    .dataframe tbody tr th:only-of-type {\n",
       "        vertical-align: middle;\n",
       "    }\n",
       "\n",
       "    .dataframe tbody tr th {\n",
       "        vertical-align: top;\n",
       "    }\n",
       "\n",
       "    .dataframe thead th {\n",
       "        text-align: right;\n",
       "    }\n",
       "</style>\n",
       "<table border=\"1\" class=\"dataframe\">\n",
       "  <thead>\n",
       "    <tr style=\"text-align: right;\">\n",
       "      <th></th>\n",
       "      <th>product_category</th>\n",
       "      <th>pet_size</th>\n",
       "      <th>pet_type</th>\n",
       "    </tr>\n",
       "    <tr>\n",
       "      <th>product_id</th>\n",
       "      <th></th>\n",
       "      <th></th>\n",
       "      <th></th>\n",
       "    </tr>\n",
       "  </thead>\n",
       "  <tbody>\n",
       "    <tr>\n",
       "      <th>5040</th>\n",
       "      <td>0</td>\n",
       "      <td>0</td>\n",
       "      <td>0</td>\n",
       "    </tr>\n",
       "    <tr>\n",
       "      <th>4567</th>\n",
       "      <td>1</td>\n",
       "      <td>0</td>\n",
       "      <td>1</td>\n",
       "    </tr>\n",
       "    <tr>\n",
       "      <th>4237</th>\n",
       "      <td>1</td>\n",
       "      <td>0</td>\n",
       "      <td>2</td>\n",
       "    </tr>\n",
       "    <tr>\n",
       "      <th>4364</th>\n",
       "      <td>2</td>\n",
       "      <td>1</td>\n",
       "      <td>3</td>\n",
       "    </tr>\n",
       "    <tr>\n",
       "      <th>4184</th>\n",
       "      <td>3</td>\n",
       "      <td>1</td>\n",
       "      <td>3</td>\n",
       "    </tr>\n",
       "  </tbody>\n",
       "</table>\n",
       "</div>"
      ],
      "text/plain": [
       "            product_category  pet_size  pet_type\n",
       "product_id                                      \n",
       "5040                       0         0         0\n",
       "4567                       1         0         1\n",
       "4237                       1         0         2\n",
       "4364                       2         1         3\n",
       "4184                       3         1         3"
      ]
     },
     "execution_count": 3,
     "metadata": {},
     "output_type": "execute_result"
    }
   ],
   "source": [
    "datasheet = pd.read_csv(DATA_PATH, sep=\",\", index_col=0)\n",
    "datasheet.head()"
   ]
  },
  {
   "cell_type": "code",
   "execution_count": 4,
   "metadata": {},
   "outputs": [],
   "source": [
    "y_data = datasheet.iloc[:, 0]\n",
    "X_data_1 = datasheet.iloc[:, 1].to_numpy().astype(np.float32)\n",
    "X_data_2 = datasheet.iloc[:, 2].to_numpy().astype(np.float32)"
   ]
  },
  {
   "cell_type": "markdown",
   "metadata": {},
   "source": [
    "# Train, Test(Validation) Split"
   ]
  },
  {
   "cell_type": "code",
   "execution_count": 5,
   "metadata": {},
   "outputs": [
    {
     "name": "stdout",
     "output_type": "stream",
     "text": [
      "X_data 1 shape: (879,)\n",
      "X_data 2 shape: (879,)\n",
      "y_data shape: (879, 6)\n"
     ]
    }
   ],
   "source": [
    "onehot_encoder = OneHotEncoder()\n",
    "\n",
    "y_data = y_data.to_numpy().astype(np.float32)\n",
    "y_data = onehot_encoder.fit_transform(y_data.reshape(-1, 1)).astype(np.float32).toarray()\n",
    "\n",
    "print(f\"\"\"X_data 1 shape: {X_data_1.shape}\n",
    "X_data 2 shape: {X_data_2.shape}\n",
    "y_data shape: {y_data.shape}\"\"\")"
   ]
  },
  {
   "cell_type": "markdown",
   "metadata": {},
   "source": [
    "# Datasets & DataLoader"
   ]
  },
  {
   "cell_type": "code",
   "execution_count": 6,
   "metadata": {},
   "outputs": [],
   "source": [
    "BATCH_SIZE = 16"
   ]
  },
  {
   "cell_type": "code",
   "execution_count": 7,
   "metadata": {},
   "outputs": [],
   "source": [
    "class CustomDataset(Dataset):\n",
    "    def __init__(self, X_data_1, X_data_2, y_data):\n",
    "        self.X_data_1 = X_data_1\n",
    "        self.X_data_2 = X_data_2\n",
    "        self.y_data = y_data\n",
    "\n",
    "    def __getitem__(self, index):\n",
    "        X_1 = self.X_data_1[index]\n",
    "        X_2 = self.X_data_2[index]\n",
    "        y = self.y_data[index]\n",
    "        return X_1, X_2, y\n",
    "\n",
    "    def __len__(self):\n",
    "        return len(self.X_data_1)"
   ]
  },
  {
   "cell_type": "code",
   "execution_count": 8,
   "metadata": {},
   "outputs": [],
   "source": [
    "train_dataset = CustomDataset(X_data_1, X_data_2, y_data)\n",
    "train_dataloader = DataLoader(train_dataset, batch_size=BATCH_SIZE, shuffle=True)\n",
    "\n",
    "test_dataset = CustomDataset(X_data_1, X_data_2, y_data)\n",
    "test_dataloader = DataLoader(test_dataset, batch_size=BATCH_SIZE, shuffle=True)"
   ]
  },
  {
   "cell_type": "markdown",
   "metadata": {},
   "source": [
    "# Model"
   ]
  },
  {
   "cell_type": "code",
   "execution_count": 9,
   "metadata": {},
   "outputs": [
    {
     "name": "stdout",
     "output_type": "stream",
     "text": [
      "----------------------------------------------------------------\n",
      "        Layer (type)               Output Shape         Param #\n",
      "================================================================\n",
      "            Linear-1                   [-1, 64]             128\n",
      "            Linear-2                   [-1, 64]             128\n",
      "               GRU-3       [[-1, 64], [-1, 64]]               0\n",
      "               GRU-4       [[-1, 64], [-1, 64]]               0\n",
      "            Linear-5                    [-1, 6]             774\n",
      "================================================================\n",
      "Total params: 1,030\n",
      "Trainable params: 1,030\n",
      "Non-trainable params: 0\n",
      "----------------------------------------------------------------\n",
      "Input size (MB): 0.00\n",
      "Forward/backward pass size (MB): 0.06\n",
      "Params size (MB): 0.00\n",
      "Estimated Total Size (MB): 0.07\n",
      "----------------------------------------------------------------\n"
     ]
    }
   ],
   "source": [
    "class Model(nn.Module):\n",
    "    def __init__(self, input_dim, output_dim):\n",
    "        super(Model, self).__init__()\n",
    "        self.input_dim = input_dim\n",
    "        self.output_dim = output_dim\n",
    "\n",
    "        self.input_linear_1 = nn.Linear(self.input_dim, 64)\n",
    "        self.input_linear_2 = nn.Linear(self.input_dim, 64)\n",
    "\n",
    "        self.gru_1 = nn.GRU(64, 64, batch_first=True)\n",
    "        self.gru_2 = nn.GRU(64, 64, batch_first=True)\n",
    "\n",
    "        self.output_linear = nn.Linear(128, self.output_dim)\n",
    "\n",
    "    def forward(self, x1, x2):\n",
    "        x1 = F.relu(self.input_linear_1(x1))\n",
    "        x2 = F.relu(self.input_linear_2(x2))\n",
    "\n",
    "        x1, _ = self.gru_1(x1)\n",
    "        x2, _ = self.gru_2(x2)\n",
    "\n",
    "        x = torch.cat([x1, x2], dim=1)\n",
    "        x = self.output_linear(x)\n",
    "\n",
    "        return x\n",
    "    \n",
    "model = Model(1, 6).to(device)\n",
    "summary(model.to(device='cpu'), [(1,), (1,)])"
   ]
  },
  {
   "cell_type": "code",
   "execution_count": 10,
   "metadata": {},
   "outputs": [
    {
     "name": "stdout",
     "output_type": "stream",
     "text": [
      "Adjusting learning rate of group 0 to 3.0000e-02.\n"
     ]
    }
   ],
   "source": [
    "optimizer = optim.Adam(model.parameters(), lr=0.03)\n",
    "criterion = nn.CrossEntropyLoss()\n",
    "scheduler = optim.lr_scheduler.LambdaLR(\n",
    "    optimizer, \n",
    "    lr_lambda=lambda epoch: 0.95 ** epoch,\n",
    "    last_epoch=-1,\n",
    "    verbose=True\n",
    ")"
   ]
  },
  {
   "cell_type": "markdown",
   "metadata": {},
   "source": [
    "# Model Train & Validation"
   ]
  },
  {
   "cell_type": "code",
   "execution_count": 11,
   "metadata": {},
   "outputs": [],
   "source": [
    "EPOCHS = 200 "
   ]
  },
  {
   "cell_type": "code",
   "execution_count": 12,
   "metadata": {},
   "outputs": [
    {
     "name": "stderr",
     "output_type": "stream",
     "text": [
      "Train Epoch 1/200, Train Loss: 0.0:  18%|█▊        | 10/55 [00:00<00:00, 50.26it/s]"
     ]
    },
    {
     "name": "stderr",
     "output_type": "stream",
     "text": [
      "Train Epoch 1/200, Train Loss: 0.0: 100%|██████████| 55/55 [00:01<00:00, 50.79it/s]\n"
     ]
    },
    {
     "name": "stdout",
     "output_type": "stream",
     "text": [
      "Adjusting learning rate of group 0 to 2.8500e-02.\n"
     ]
    },
    {
     "name": "stderr",
     "output_type": "stream",
     "text": [
      "Test Epoch 1/200, Test Loss: 1.8599657838994808: 100%|██████████| 55/55 [00:00<00:00, 255.82it/s]\n",
      "Train Epoch 2/200, Train Loss: 0.0: 100%|██████████| 55/55 [00:01<00:00, 53.41it/s]\n"
     ]
    },
    {
     "name": "stdout",
     "output_type": "stream",
     "text": [
      "Adjusting learning rate of group 0 to 2.7075e-02.\n"
     ]
    },
    {
     "name": "stderr",
     "output_type": "stream",
     "text": [
      "Test Epoch 2/200, Test Loss: 1.7436734719709917: 100%|██████████| 55/55 [00:00<00:00, 288.41it/s]\n",
      "Train Epoch 3/200, Train Loss: 0.0: 100%|██████████| 55/55 [00:01<00:00, 49.06it/s]\n"
     ]
    },
    {
     "name": "stdout",
     "output_type": "stream",
     "text": [
      "Adjusting learning rate of group 0 to 2.5721e-02.\n"
     ]
    },
    {
     "name": "stderr",
     "output_type": "stream",
     "text": [
      "Test Epoch 3/200, Test Loss: 1.7891558517109265: 100%|██████████| 55/55 [00:00<00:00, 195.19it/s]\n",
      "Train Epoch 4/200, Train Loss: 0.0: 100%|██████████| 55/55 [00:01<00:00, 51.63it/s]\n"
     ]
    },
    {
     "name": "stdout",
     "output_type": "stream",
     "text": [
      "Adjusting learning rate of group 0 to 2.4435e-02.\n"
     ]
    },
    {
     "name": "stderr",
     "output_type": "stream",
     "text": [
      "Test Epoch 4/200, Test Loss: 1.7180974591862073: 100%|██████████| 55/55 [00:00<00:00, 262.28it/s]\n",
      "Train Epoch 5/200, Train Loss: 0.0: 100%|██████████| 55/55 [00:00<00:00, 66.09it/s]\n"
     ]
    },
    {
     "name": "stdout",
     "output_type": "stream",
     "text": [
      "Adjusting learning rate of group 0 to 2.3213e-02.\n"
     ]
    },
    {
     "name": "stderr",
     "output_type": "stream",
     "text": [
      "Test Epoch 5/200, Test Loss: 1.735801677270369: 100%|██████████| 55/55 [00:00<00:00, 334.96it/s]\n",
      "Train Epoch 6/200, Train Loss: 0.0: 100%|██████████| 55/55 [00:00<00:00, 65.05it/s]\n"
     ]
    },
    {
     "name": "stdout",
     "output_type": "stream",
     "text": [
      "Adjusting learning rate of group 0 to 2.2053e-02.\n"
     ]
    },
    {
     "name": "stderr",
     "output_type": "stream",
     "text": [
      "Test Epoch 6/200, Test Loss: 1.7013533267107877: 100%|██████████| 55/55 [00:00<00:00, 319.59it/s]\n",
      "Train Epoch 7/200, Train Loss: 0.0: 100%|██████████| 55/55 [00:00<00:00, 64.63it/s]\n"
     ]
    },
    {
     "name": "stdout",
     "output_type": "stream",
     "text": [
      "Adjusting learning rate of group 0 to 2.0950e-02.\n"
     ]
    },
    {
     "name": "stderr",
     "output_type": "stream",
     "text": [
      "Test Epoch 7/200, Test Loss: 1.7072468172420154: 100%|██████████| 55/55 [00:00<00:00, 342.75it/s]\n",
      "Train Epoch 8/200, Train Loss: 0.0: 100%|██████████| 55/55 [00:00<00:00, 60.21it/s]\n"
     ]
    },
    {
     "name": "stdout",
     "output_type": "stream",
     "text": [
      "Adjusting learning rate of group 0 to 1.9903e-02.\n"
     ]
    },
    {
     "name": "stderr",
     "output_type": "stream",
     "text": [
      "Test Epoch 8/200, Test Loss: 1.7194267099553888: 100%|██████████| 55/55 [00:00<00:00, 342.84it/s]\n",
      "Train Epoch 9/200, Train Loss: 0.0: 100%|██████████| 55/55 [00:00<00:00, 63.91it/s]\n"
     ]
    },
    {
     "name": "stdout",
     "output_type": "stream",
     "text": [
      "Adjusting learning rate of group 0 to 1.8907e-02.\n"
     ]
    },
    {
     "name": "stderr",
     "output_type": "stream",
     "text": [
      "Test Epoch 9/200, Test Loss: 1.6932087291370739: 100%|██████████| 55/55 [00:00<00:00, 322.56it/s]\n",
      "Train Epoch 10/200, Train Loss: 0.0: 100%|██████████| 55/55 [00:00<00:00, 62.76it/s]\n"
     ]
    },
    {
     "name": "stdout",
     "output_type": "stream",
     "text": [
      "Adjusting learning rate of group 0 to 1.7962e-02.\n"
     ]
    },
    {
     "name": "stderr",
     "output_type": "stream",
     "text": [
      "Test Epoch 10/200, Test Loss: 1.7045699054544623: 100%|██████████| 55/55 [00:00<00:00, 332.91it/s]\n",
      "Train Epoch 11/200, Train Loss: 0.0: 100%|██████████| 55/55 [00:00<00:00, 63.54it/s]\n"
     ]
    },
    {
     "name": "stdout",
     "output_type": "stream",
     "text": [
      "Adjusting learning rate of group 0 to 1.7064e-02.\n"
     ]
    },
    {
     "name": "stderr",
     "output_type": "stream",
     "text": [
      "Test Epoch 11/200, Test Loss: 1.7036908279765737: 100%|██████████| 55/55 [00:00<00:00, 326.88it/s]\n",
      "Train Epoch 12/200, Train Loss: 0.0: 100%|██████████| 55/55 [00:00<00:00, 60.76it/s]\n"
     ]
    },
    {
     "name": "stdout",
     "output_type": "stream",
     "text": [
      "Adjusting learning rate of group 0 to 1.6211e-02.\n"
     ]
    },
    {
     "name": "stderr",
     "output_type": "stream",
     "text": [
      "Test Epoch 12/200, Test Loss: 1.6929230690002441: 100%|██████████| 55/55 [00:00<00:00, 333.91it/s]\n",
      "Train Epoch 13/200, Train Loss: 0.0: 100%|██████████| 55/55 [00:00<00:00, 64.86it/s]\n"
     ]
    },
    {
     "name": "stdout",
     "output_type": "stream",
     "text": [
      "Adjusting learning rate of group 0 to 1.5400e-02.\n"
     ]
    },
    {
     "name": "stderr",
     "output_type": "stream",
     "text": [
      "Test Epoch 13/200, Test Loss: 1.6858287247744475: 100%|██████████| 55/55 [00:00<00:00, 316.17it/s]\n",
      "Train Epoch 14/200, Train Loss: 0.0: 100%|██████████| 55/55 [00:00<00:00, 63.13it/s]\n"
     ]
    },
    {
     "name": "stdout",
     "output_type": "stream",
     "text": [
      "Adjusting learning rate of group 0 to 1.4630e-02.\n"
     ]
    },
    {
     "name": "stderr",
     "output_type": "stream",
     "text": [
      "Test Epoch 14/200, Test Loss: 1.685486464066939: 100%|██████████| 55/55 [00:00<00:00, 312.18it/s]\n",
      "Train Epoch 15/200, Train Loss: 0.0: 100%|██████████| 55/55 [00:00<00:00, 63.46it/s]\n"
     ]
    },
    {
     "name": "stdout",
     "output_type": "stream",
     "text": [
      "Adjusting learning rate of group 0 to 1.3899e-02.\n"
     ]
    },
    {
     "name": "stderr",
     "output_type": "stream",
     "text": [
      "Test Epoch 15/200, Test Loss: 1.7000380039215088: 100%|██████████| 55/55 [00:00<00:00, 313.98it/s]\n",
      "Train Epoch 16/200, Train Loss: 0.0: 100%|██████████| 55/55 [00:00<00:00, 59.88it/s]\n"
     ]
    },
    {
     "name": "stdout",
     "output_type": "stream",
     "text": [
      "Adjusting learning rate of group 0 to 1.3204e-02.\n"
     ]
    },
    {
     "name": "stderr",
     "output_type": "stream",
     "text": [
      "Test Epoch 16/200, Test Loss: 1.6935218074105003: 100%|██████████| 55/55 [00:00<00:00, 229.68it/s]\n",
      "Train Epoch 17/200, Train Loss: 0.0: 100%|██████████| 55/55 [00:00<00:00, 60.67it/s]\n"
     ]
    },
    {
     "name": "stdout",
     "output_type": "stream",
     "text": [
      "Adjusting learning rate of group 0 to 1.2544e-02.\n"
     ]
    },
    {
     "name": "stderr",
     "output_type": "stream",
     "text": [
      "Test Epoch 17/200, Test Loss: 1.6838990276510066: 100%|██████████| 55/55 [00:00<00:00, 347.83it/s]\n",
      "Train Epoch 18/200, Train Loss: 0.0: 100%|██████████| 55/55 [00:00<00:00, 74.18it/s]\n"
     ]
    },
    {
     "name": "stdout",
     "output_type": "stream",
     "text": [
      "Adjusting learning rate of group 0 to 1.1916e-02.\n"
     ]
    },
    {
     "name": "stderr",
     "output_type": "stream",
     "text": [
      "Test Epoch 18/200, Test Loss: 1.6849147038026289: 100%|██████████| 55/55 [00:00<00:00, 448.91it/s]\n",
      "Train Epoch 19/200, Train Loss: 0.0: 100%|██████████| 55/55 [00:00<00:00, 98.24it/s] \n"
     ]
    },
    {
     "name": "stdout",
     "output_type": "stream",
     "text": [
      "Adjusting learning rate of group 0 to 1.1321e-02.\n"
     ]
    },
    {
     "name": "stderr",
     "output_type": "stream",
     "text": [
      "Test Epoch 19/200, Test Loss: 1.67412306395444: 100%|██████████| 55/55 [00:00<00:00, 557.60it/s]\n",
      "Train Epoch 20/200, Train Loss: 0.0: 100%|██████████| 55/55 [00:00<00:00, 99.83it/s] \n"
     ]
    },
    {
     "name": "stdout",
     "output_type": "stream",
     "text": [
      "Adjusting learning rate of group 0 to 1.0755e-02.\n"
     ]
    },
    {
     "name": "stderr",
     "output_type": "stream",
     "text": [
      "Test Epoch 20/200, Test Loss: 1.6840775056318804: 100%|██████████| 55/55 [00:00<00:00, 450.52it/s]\n",
      "Train Epoch 21/200, Train Loss: 0.0: 100%|██████████| 55/55 [00:00<00:00, 90.39it/s]\n"
     ]
    },
    {
     "name": "stdout",
     "output_type": "stream",
     "text": [
      "Adjusting learning rate of group 0 to 1.0217e-02.\n"
     ]
    },
    {
     "name": "stderr",
     "output_type": "stream",
     "text": [
      "Test Epoch 21/200, Test Loss: 1.6727252851832997: 100%|██████████| 55/55 [00:00<00:00, 455.48it/s]\n",
      "Train Epoch 22/200, Train Loss: 0.0: 100%|██████████| 55/55 [00:00<00:00, 101.43it/s]\n"
     ]
    },
    {
     "name": "stdout",
     "output_type": "stream",
     "text": [
      "Adjusting learning rate of group 0 to 9.7060e-03.\n"
     ]
    },
    {
     "name": "stderr",
     "output_type": "stream",
     "text": [
      "Test Epoch 22/200, Test Loss: 1.672029633955522: 100%|██████████| 55/55 [00:00<00:00, 553.10it/s]\n",
      "Train Epoch 23/200, Train Loss: 0.0: 100%|██████████| 55/55 [00:00<00:00, 109.95it/s]\n"
     ]
    },
    {
     "name": "stdout",
     "output_type": "stream",
     "text": [
      "Adjusting learning rate of group 0 to 9.2207e-03.\n"
     ]
    },
    {
     "name": "stderr",
     "output_type": "stream",
     "text": [
      "Test Epoch 23/200, Test Loss: 1.6748617085543547: 100%|██████████| 55/55 [00:00<00:00, 572.58it/s]\n",
      "Train Epoch 24/200, Train Loss: 0.0: 100%|██████████| 55/55 [00:00<00:00, 112.40it/s]\n"
     ]
    },
    {
     "name": "stdout",
     "output_type": "stream",
     "text": [
      "Adjusting learning rate of group 0 to 8.7597e-03.\n"
     ]
    },
    {
     "name": "stderr",
     "output_type": "stream",
     "text": [
      "Test Epoch 24/200, Test Loss: 1.6744660485874523: 100%|██████████| 55/55 [00:00<00:00, 581.25it/s]\n",
      "Train Epoch 25/200, Train Loss: 0.0: 100%|██████████| 55/55 [00:00<00:00, 97.19it/s] \n"
     ]
    },
    {
     "name": "stdout",
     "output_type": "stream",
     "text": [
      "Adjusting learning rate of group 0 to 8.3217e-03.\n"
     ]
    },
    {
     "name": "stderr",
     "output_type": "stream",
     "text": [
      "Test Epoch 25/200, Test Loss: 1.6737750963731246: 100%|██████████| 55/55 [00:00<00:00, 468.76it/s]\n",
      "Train Epoch 26/200, Train Loss: 0.0: 100%|██████████| 55/55 [00:00<00:00, 105.00it/s]\n"
     ]
    },
    {
     "name": "stdout",
     "output_type": "stream",
     "text": [
      "Adjusting learning rate of group 0 to 7.9056e-03.\n"
     ]
    },
    {
     "name": "stderr",
     "output_type": "stream",
     "text": [
      "Test Epoch 26/200, Test Loss: 1.6732761404731058: 100%|██████████| 55/55 [00:00<00:00, 514.11it/s]\n",
      "Train Epoch 27/200, Train Loss: 0.0: 100%|██████████| 55/55 [00:00<00:00, 111.23it/s]\n"
     ]
    },
    {
     "name": "stdout",
     "output_type": "stream",
     "text": [
      "Adjusting learning rate of group 0 to 7.5103e-03.\n"
     ]
    },
    {
     "name": "stderr",
     "output_type": "stream",
     "text": [
      "Test Epoch 27/200, Test Loss: 1.6681637135418979: 100%|██████████| 55/55 [00:00<00:00, 568.26it/s]\n",
      "Train Epoch 28/200, Train Loss: 0.0: 100%|██████████| 55/55 [00:00<00:00, 118.74it/s]\n"
     ]
    },
    {
     "name": "stdout",
     "output_type": "stream",
     "text": [
      "Adjusting learning rate of group 0 to 7.1348e-03.\n"
     ]
    },
    {
     "name": "stderr",
     "output_type": "stream",
     "text": [
      "Test Epoch 28/200, Test Loss: 1.670777247168801: 100%|██████████| 55/55 [00:00<00:00, 581.98it/s]\n",
      "Train Epoch 29/200, Train Loss: 0.0: 100%|██████████| 55/55 [00:00<00:00, 116.67it/s]\n"
     ]
    },
    {
     "name": "stdout",
     "output_type": "stream",
     "text": [
      "Adjusting learning rate of group 0 to 6.7781e-03.\n"
     ]
    },
    {
     "name": "stderr",
     "output_type": "stream",
     "text": [
      "Test Epoch 29/200, Test Loss: 1.6691251884807239: 100%|██████████| 55/55 [00:00<00:00, 567.50it/s]\n",
      "Train Epoch 30/200, Train Loss: 0.0: 100%|██████████| 55/55 [00:00<00:00, 108.34it/s]\n"
     ]
    },
    {
     "name": "stdout",
     "output_type": "stream",
     "text": [
      "Adjusting learning rate of group 0 to 6.4392e-03.\n"
     ]
    },
    {
     "name": "stderr",
     "output_type": "stream",
     "text": [
      "Test Epoch 30/200, Test Loss: 1.6699328292499889: 100%|██████████| 55/55 [00:00<00:00, 468.70it/s]\n",
      "Train Epoch 31/200, Train Loss: 0.0: 100%|██████████| 55/55 [00:00<00:00, 105.01it/s]\n"
     ]
    },
    {
     "name": "stdout",
     "output_type": "stream",
     "text": [
      "Adjusting learning rate of group 0 to 6.1172e-03.\n"
     ]
    },
    {
     "name": "stderr",
     "output_type": "stream",
     "text": [
      "Test Epoch 31/200, Test Loss: 1.6619074886495417: 100%|██████████| 55/55 [00:00<00:00, 553.94it/s]\n",
      "Train Epoch 32/200, Train Loss: 0.0: 100%|██████████| 55/55 [00:00<00:00, 114.20it/s]\n"
     ]
    },
    {
     "name": "stdout",
     "output_type": "stream",
     "text": [
      "Adjusting learning rate of group 0 to 5.8113e-03.\n"
     ]
    },
    {
     "name": "stderr",
     "output_type": "stream",
     "text": [
      "Test Epoch 32/200, Test Loss: 1.6651728413321756: 100%|██████████| 55/55 [00:00<00:00, 518.21it/s]\n",
      "Train Epoch 33/200, Train Loss: 0.0: 100%|██████████| 55/55 [00:00<00:00, 109.53it/s]\n"
     ]
    },
    {
     "name": "stdout",
     "output_type": "stream",
     "text": [
      "Adjusting learning rate of group 0 to 5.5208e-03.\n"
     ]
    },
    {
     "name": "stderr",
     "output_type": "stream",
     "text": [
      "Test Epoch 33/200, Test Loss: 1.6631901264190674: 100%|██████████| 55/55 [00:00<00:00, 578.88it/s]\n",
      "Train Epoch 34/200, Train Loss: 0.0: 100%|██████████| 55/55 [00:00<00:00, 121.30it/s]\n"
     ]
    },
    {
     "name": "stdout",
     "output_type": "stream",
     "text": [
      "Adjusting learning rate of group 0 to 5.2447e-03.\n"
     ]
    },
    {
     "name": "stderr",
     "output_type": "stream",
     "text": [
      "Test Epoch 34/200, Test Loss: 1.6666195392608643: 100%|██████████| 55/55 [00:00<00:00, 569.34it/s]\n",
      "Train Epoch 35/200, Train Loss: 0.0: 100%|██████████| 55/55 [00:00<00:00, 119.87it/s]\n"
     ]
    },
    {
     "name": "stdout",
     "output_type": "stream",
     "text": [
      "Adjusting learning rate of group 0 to 4.9825e-03.\n"
     ]
    },
    {
     "name": "stderr",
     "output_type": "stream",
     "text": [
      "Test Epoch 35/200, Test Loss: 1.6630481459877708: 100%|██████████| 55/55 [00:00<00:00, 400.80it/s]\n",
      "Train Epoch 36/200, Train Loss: 0.0: 100%|██████████| 55/55 [00:00<00:00, 97.47it/s] \n"
     ]
    },
    {
     "name": "stdout",
     "output_type": "stream",
     "text": [
      "Adjusting learning rate of group 0 to 4.7334e-03.\n"
     ]
    },
    {
     "name": "stderr",
     "output_type": "stream",
     "text": [
      "Test Epoch 36/200, Test Loss: 1.662168556993658: 100%|██████████| 55/55 [00:00<00:00, 558.69it/s]\n",
      "Train Epoch 37/200, Train Loss: 0.0: 100%|██████████| 55/55 [00:00<00:00, 109.35it/s]\n"
     ]
    },
    {
     "name": "stdout",
     "output_type": "stream",
     "text": [
      "Adjusting learning rate of group 0 to 4.4967e-03.\n"
     ]
    },
    {
     "name": "stderr",
     "output_type": "stream",
     "text": [
      "Test Epoch 37/200, Test Loss: 1.66454975605011: 100%|██████████| 55/55 [00:00<00:00, 549.63it/s]\n",
      "Train Epoch 38/200, Train Loss: 0.0: 100%|██████████| 55/55 [00:00<00:00, 119.87it/s]\n"
     ]
    },
    {
     "name": "stdout",
     "output_type": "stream",
     "text": [
      "Adjusting learning rate of group 0 to 4.2719e-03.\n"
     ]
    },
    {
     "name": "stderr",
     "output_type": "stream",
     "text": [
      "Test Epoch 38/200, Test Loss: 1.6639660315080123: 100%|██████████| 55/55 [00:00<00:00, 607.42it/s]\n",
      "Train Epoch 39/200, Train Loss: 0.0: 100%|██████████| 55/55 [00:00<00:00, 120.30it/s]\n"
     ]
    },
    {
     "name": "stdout",
     "output_type": "stream",
     "text": [
      "Adjusting learning rate of group 0 to 4.0583e-03.\n"
     ]
    },
    {
     "name": "stderr",
     "output_type": "stream",
     "text": [
      "Test Epoch 39/200, Test Loss: 1.6642653465270996: 100%|██████████| 55/55 [00:00<00:00, 567.74it/s]\n",
      "Train Epoch 40/200, Train Loss: 0.0: 100%|██████████| 55/55 [00:00<00:00, 108.13it/s]\n"
     ]
    },
    {
     "name": "stdout",
     "output_type": "stream",
     "text": [
      "Adjusting learning rate of group 0 to 3.8554e-03.\n"
     ]
    },
    {
     "name": "stderr",
     "output_type": "stream",
     "text": [
      "Test Epoch 40/200, Test Loss: 1.6640735279430043: 100%|██████████| 55/55 [00:00<00:00, 549.92it/s]\n",
      "Train Epoch 41/200, Train Loss: 0.0: 100%|██████████| 55/55 [00:00<00:00, 92.40it/s]\n"
     ]
    },
    {
     "name": "stdout",
     "output_type": "stream",
     "text": [
      "Adjusting learning rate of group 0 to 3.6626e-03.\n"
     ]
    },
    {
     "name": "stderr",
     "output_type": "stream",
     "text": [
      "Test Epoch 41/200, Test Loss: 1.6593968564813788: 100%|██████████| 55/55 [00:00<00:00, 553.21it/s]\n",
      "Train Epoch 42/200, Train Loss: 0.0: 100%|██████████| 55/55 [00:00<00:00, 107.69it/s]\n"
     ]
    },
    {
     "name": "stdout",
     "output_type": "stream",
     "text": [
      "Adjusting learning rate of group 0 to 3.4795e-03.\n"
     ]
    },
    {
     "name": "stderr",
     "output_type": "stream",
     "text": [
      "Test Epoch 42/200, Test Loss: 1.6612127434123647: 100%|██████████| 55/55 [00:00<00:00, 551.50it/s]\n",
      "Train Epoch 43/200, Train Loss: 0.0: 100%|██████████| 55/55 [00:00<00:00, 116.96it/s]\n"
     ]
    },
    {
     "name": "stdout",
     "output_type": "stream",
     "text": [
      "Adjusting learning rate of group 0 to 3.3055e-03.\n"
     ]
    },
    {
     "name": "stderr",
     "output_type": "stream",
     "text": [
      "Test Epoch 43/200, Test Loss: 1.6609490502964366: 100%|██████████| 55/55 [00:00<00:00, 581.81it/s]\n",
      "Train Epoch 44/200, Train Loss: 0.0: 100%|██████████| 55/55 [00:00<00:00, 120.50it/s]\n"
     ]
    },
    {
     "name": "stdout",
     "output_type": "stream",
     "text": [
      "Adjusting learning rate of group 0 to 3.1402e-03.\n"
     ]
    },
    {
     "name": "stderr",
     "output_type": "stream",
     "text": [
      "Test Epoch 44/200, Test Loss: 1.6636045152490788: 100%|██████████| 55/55 [00:00<00:00, 554.22it/s]\n",
      "Train Epoch 45/200, Train Loss: 0.0: 100%|██████████| 55/55 [00:00<00:00, 118.67it/s]\n"
     ]
    },
    {
     "name": "stdout",
     "output_type": "stream",
     "text": [
      "Adjusting learning rate of group 0 to 2.9832e-03.\n"
     ]
    },
    {
     "name": "stderr",
     "output_type": "stream",
     "text": [
      "Test Epoch 45/200, Test Loss: 1.6605080604553222: 100%|██████████| 55/55 [00:00<00:00, 536.75it/s]\n",
      "Train Epoch 46/200, Train Loss: 0.0: 100%|██████████| 55/55 [00:00<00:00, 99.69it/s] \n"
     ]
    },
    {
     "name": "stdout",
     "output_type": "stream",
     "text": [
      "Adjusting learning rate of group 0 to 2.8340e-03.\n"
     ]
    },
    {
     "name": "stderr",
     "output_type": "stream",
     "text": [
      "Test Epoch 46/200, Test Loss: 1.6602391589771617: 100%|██████████| 55/55 [00:00<00:00, 456.21it/s]\n",
      "Train Epoch 47/200, Train Loss: 0.0: 100%|██████████| 55/55 [00:00<00:00, 105.01it/s]\n"
     ]
    },
    {
     "name": "stdout",
     "output_type": "stream",
     "text": [
      "Adjusting learning rate of group 0 to 2.6923e-03.\n"
     ]
    },
    {
     "name": "stderr",
     "output_type": "stream",
     "text": [
      "Test Epoch 47/200, Test Loss: 1.6604763117703525: 100%|██████████| 55/55 [00:00<00:00, 550.09it/s]\n",
      "Train Epoch 48/200, Train Loss: 0.0: 100%|██████████| 55/55 [00:00<00:00, 109.18it/s]\n"
     ]
    },
    {
     "name": "stdout",
     "output_type": "stream",
     "text": [
      "Adjusting learning rate of group 0 to 2.5577e-03.\n"
     ]
    },
    {
     "name": "stderr",
     "output_type": "stream",
     "text": [
      "Test Epoch 48/200, Test Loss: 1.661926473270763: 100%|██████████| 55/55 [00:00<00:00, 580.06it/s]\n",
      "Train Epoch 49/200, Train Loss: 0.0: 100%|██████████| 55/55 [00:00<00:00, 120.08it/s]\n"
     ]
    },
    {
     "name": "stdout",
     "output_type": "stream",
     "text": [
      "Adjusting learning rate of group 0 to 2.4298e-03.\n"
     ]
    },
    {
     "name": "stderr",
     "output_type": "stream",
     "text": [
      "Test Epoch 49/200, Test Loss: 1.6602527661757036: 100%|██████████| 55/55 [00:00<00:00, 573.61it/s]\n",
      "Train Epoch 50/200, Train Loss: 0.0: 100%|██████████| 55/55 [00:00<00:00, 113.26it/s]\n"
     ]
    },
    {
     "name": "stdout",
     "output_type": "stream",
     "text": [
      "Adjusting learning rate of group 0 to 2.3083e-03.\n"
     ]
    },
    {
     "name": "stderr",
     "output_type": "stream",
     "text": [
      "Test Epoch 50/200, Test Loss: 1.659186794541099: 100%|██████████| 55/55 [00:00<00:00, 570.10it/s]\n",
      "Train Epoch 51/200, Train Loss: 0.0: 100%|██████████| 55/55 [00:00<00:00, 106.28it/s]\n"
     ]
    },
    {
     "name": "stdout",
     "output_type": "stream",
     "text": [
      "Adjusting learning rate of group 0 to 2.1929e-03.\n"
     ]
    },
    {
     "name": "stderr",
     "output_type": "stream",
     "text": [
      "Test Epoch 51/200, Test Loss: 1.657868550040505: 100%|██████████| 55/55 [00:00<00:00, 568.59it/s]\n",
      "Train Epoch 52/200, Train Loss: 0.0: 100%|██████████| 55/55 [00:00<00:00, 109.12it/s]\n"
     ]
    },
    {
     "name": "stdout",
     "output_type": "stream",
     "text": [
      "Adjusting learning rate of group 0 to 2.0833e-03.\n"
     ]
    },
    {
     "name": "stderr",
     "output_type": "stream",
     "text": [
      "Test Epoch 52/200, Test Loss: 1.6573300296610052: 100%|██████████| 55/55 [00:00<00:00, 569.40it/s]\n",
      "Train Epoch 53/200, Train Loss: 0.0: 100%|██████████| 55/55 [00:00<00:00, 118.98it/s]\n"
     ]
    },
    {
     "name": "stdout",
     "output_type": "stream",
     "text": [
      "Adjusting learning rate of group 0 to 1.9791e-03.\n"
     ]
    },
    {
     "name": "stderr",
     "output_type": "stream",
     "text": [
      "Test Epoch 53/200, Test Loss: 1.6580810828642412: 100%|██████████| 55/55 [00:00<00:00, 584.94it/s]\n",
      "Train Epoch 54/200, Train Loss: 0.0: 100%|██████████| 55/55 [00:00<00:00, 111.47it/s]\n"
     ]
    },
    {
     "name": "stdout",
     "output_type": "stream",
     "text": [
      "Adjusting learning rate of group 0 to 1.8802e-03.\n"
     ]
    },
    {
     "name": "stderr",
     "output_type": "stream",
     "text": [
      "Test Epoch 54/200, Test Loss: 1.6592769384384156: 100%|██████████| 55/55 [00:00<00:00, 575.49it/s]\n",
      "Train Epoch 55/200, Train Loss: 0.0: 100%|██████████| 55/55 [00:00<00:00, 121.58it/s]\n"
     ]
    },
    {
     "name": "stdout",
     "output_type": "stream",
     "text": [
      "Adjusting learning rate of group 0 to 1.7862e-03.\n"
     ]
    },
    {
     "name": "stderr",
     "output_type": "stream",
     "text": [
      "Test Epoch 55/200, Test Loss: 1.6557909206910566: 100%|██████████| 55/55 [00:00<00:00, 649.32it/s]\n",
      "Train Epoch 56/200, Train Loss: 0.0: 100%|██████████| 55/55 [00:00<00:00, 124.92it/s]\n"
     ]
    },
    {
     "name": "stdout",
     "output_type": "stream",
     "text": [
      "Adjusting learning rate of group 0 to 1.6968e-03.\n"
     ]
    },
    {
     "name": "stderr",
     "output_type": "stream",
     "text": [
      "Test Epoch 56/200, Test Loss: 1.659393555467779: 100%|██████████| 55/55 [00:00<00:00, 422.60it/s]\n",
      "Train Epoch 57/200, Train Loss: 0.0: 100%|██████████| 55/55 [00:00<00:00, 90.18it/s]\n"
     ]
    },
    {
     "name": "stdout",
     "output_type": "stream",
     "text": [
      "Adjusting learning rate of group 0 to 1.6120e-03.\n"
     ]
    },
    {
     "name": "stderr",
     "output_type": "stream",
     "text": [
      "Test Epoch 57/200, Test Loss: 1.6587848793376576: 100%|██████████| 55/55 [00:00<00:00, 457.14it/s]\n",
      "Train Epoch 58/200, Train Loss: 0.0: 100%|██████████| 55/55 [00:00<00:00, 99.38it/s] \n"
     ]
    },
    {
     "name": "stdout",
     "output_type": "stream",
     "text": [
      "Adjusting learning rate of group 0 to 1.5314e-03.\n"
     ]
    },
    {
     "name": "stderr",
     "output_type": "stream",
     "text": [
      "Test Epoch 58/200, Test Loss: 1.6547932321375067: 100%|██████████| 55/55 [00:00<00:00, 565.04it/s]\n",
      "Train Epoch 59/200, Train Loss: 0.0: 100%|██████████| 55/55 [00:00<00:00, 121.63it/s]\n"
     ]
    },
    {
     "name": "stdout",
     "output_type": "stream",
     "text": [
      "Adjusting learning rate of group 0 to 1.4548e-03.\n"
     ]
    },
    {
     "name": "stderr",
     "output_type": "stream",
     "text": [
      "Test Epoch 59/200, Test Loss: 1.654885534806685: 100%|██████████| 55/55 [00:00<00:00, 620.48it/s]\n",
      "Train Epoch 60/200, Train Loss: 0.0: 100%|██████████| 55/55 [00:00<00:00, 121.82it/s]\n"
     ]
    },
    {
     "name": "stdout",
     "output_type": "stream",
     "text": [
      "Adjusting learning rate of group 0 to 1.3821e-03.\n"
     ]
    },
    {
     "name": "stderr",
     "output_type": "stream",
     "text": [
      "Test Epoch 60/200, Test Loss: 1.6582483031532982: 100%|██████████| 55/55 [00:00<00:00, 612.67it/s]\n",
      "Train Epoch 61/200, Train Loss: 0.0: 100%|██████████| 55/55 [00:00<00:00, 119.47it/s]\n"
     ]
    },
    {
     "name": "stdout",
     "output_type": "stream",
     "text": [
      "Adjusting learning rate of group 0 to 1.3130e-03.\n"
     ]
    },
    {
     "name": "stderr",
     "output_type": "stream",
     "text": [
      "Test Epoch 61/200, Test Loss: 1.6570371172644875: 100%|██████████| 55/55 [00:00<00:00, 433.73it/s]\n",
      "Train Epoch 62/200, Train Loss: 0.0: 100%|██████████| 55/55 [00:00<00:00, 100.80it/s]\n"
     ]
    },
    {
     "name": "stdout",
     "output_type": "stream",
     "text": [
      "Adjusting learning rate of group 0 to 1.2473e-03.\n"
     ]
    },
    {
     "name": "stderr",
     "output_type": "stream",
     "text": [
      "Test Epoch 62/200, Test Loss: 1.6566194599325006: 100%|██████████| 55/55 [00:00<00:00, 555.85it/s]\n",
      "Train Epoch 63/200, Train Loss: 0.0: 100%|██████████| 55/55 [00:00<00:00, 113.41it/s]\n"
     ]
    },
    {
     "name": "stdout",
     "output_type": "stream",
     "text": [
      "Adjusting learning rate of group 0 to 1.1850e-03.\n"
     ]
    },
    {
     "name": "stderr",
     "output_type": "stream",
     "text": [
      "Test Epoch 63/200, Test Loss: 1.6576156031001699: 100%|██████████| 55/55 [00:00<00:00, 600.04it/s]\n",
      "Train Epoch 64/200, Train Loss: 0.0: 100%|██████████| 55/55 [00:00<00:00, 122.18it/s]\n"
     ]
    },
    {
     "name": "stdout",
     "output_type": "stream",
     "text": [
      "Adjusting learning rate of group 0 to 1.1257e-03.\n"
     ]
    },
    {
     "name": "stderr",
     "output_type": "stream",
     "text": [
      "Test Epoch 64/200, Test Loss: 1.6565784020857377: 100%|██████████| 55/55 [00:00<00:00, 595.66it/s]\n",
      "Train Epoch 65/200, Train Loss: 0.0: 100%|██████████| 55/55 [00:00<00:00, 122.78it/s]\n"
     ]
    },
    {
     "name": "stdout",
     "output_type": "stream",
     "text": [
      "Adjusting learning rate of group 0 to 1.0694e-03.\n"
     ]
    },
    {
     "name": "stderr",
     "output_type": "stream",
     "text": [
      "Test Epoch 65/200, Test Loss: 1.655424417148937: 100%|██████████| 55/55 [00:00<00:00, 581.20it/s]\n",
      "Train Epoch 66/200, Train Loss: 0.0: 100%|██████████| 55/55 [00:00<00:00, 121.64it/s]\n"
     ]
    },
    {
     "name": "stdout",
     "output_type": "stream",
     "text": [
      "Adjusting learning rate of group 0 to 1.0160e-03.\n"
     ]
    },
    {
     "name": "stderr",
     "output_type": "stream",
     "text": [
      "Test Epoch 66/200, Test Loss: 1.655938417261297: 100%|██████████| 55/55 [00:00<00:00, 404.33it/s]\n",
      "Train Epoch 67/200, Train Loss: 0.0: 100%|██████████| 55/55 [00:00<00:00, 95.85it/s]\n"
     ]
    },
    {
     "name": "stdout",
     "output_type": "stream",
     "text": [
      "Adjusting learning rate of group 0 to 9.6517e-04.\n"
     ]
    },
    {
     "name": "stderr",
     "output_type": "stream",
     "text": [
      "Test Epoch 67/200, Test Loss: 1.657314081625505: 100%|██████████| 55/55 [00:00<00:00, 542.68it/s]\n",
      "Train Epoch 68/200, Train Loss: 0.0: 100%|██████████| 55/55 [00:00<00:00, 111.55it/s]\n"
     ]
    },
    {
     "name": "stdout",
     "output_type": "stream",
     "text": [
      "Adjusting learning rate of group 0 to 9.1691e-04.\n"
     ]
    },
    {
     "name": "stderr",
     "output_type": "stream",
     "text": [
      "Test Epoch 68/200, Test Loss: 1.6580224427309904: 100%|██████████| 55/55 [00:00<00:00, 569.55it/s]\n",
      "Train Epoch 69/200, Train Loss: 0.0: 100%|██████████| 55/55 [00:00<00:00, 120.28it/s]\n"
     ]
    },
    {
     "name": "stdout",
     "output_type": "stream",
     "text": [
      "Adjusting learning rate of group 0 to 8.7106e-04.\n"
     ]
    },
    {
     "name": "stderr",
     "output_type": "stream",
     "text": [
      "Test Epoch 69/200, Test Loss: 1.6563470927151767: 100%|██████████| 55/55 [00:00<00:00, 621.50it/s]\n",
      "Train Epoch 70/200, Train Loss: 0.0: 100%|██████████| 55/55 [00:00<00:00, 121.62it/s]\n"
     ]
    },
    {
     "name": "stdout",
     "output_type": "stream",
     "text": [
      "Adjusting learning rate of group 0 to 8.2751e-04.\n"
     ]
    },
    {
     "name": "stderr",
     "output_type": "stream",
     "text": [
      "Test Epoch 70/200, Test Loss: 1.6563266385685314: 100%|██████████| 55/55 [00:00<00:00, 600.20it/s]\n",
      "Train Epoch 71/200, Train Loss: 0.0: 100%|██████████| 55/55 [00:00<00:00, 111.20it/s]\n"
     ]
    },
    {
     "name": "stdout",
     "output_type": "stream",
     "text": [
      "Adjusting learning rate of group 0 to 7.8614e-04.\n"
     ]
    },
    {
     "name": "stderr",
     "output_type": "stream",
     "text": [
      "Test Epoch 71/200, Test Loss: 1.655736751989885: 100%|██████████| 55/55 [00:00<00:00, 403.71it/s]\n",
      "Train Epoch 72/200, Train Loss: 0.0: 100%|██████████| 55/55 [00:00<00:00, 98.64it/s] \n"
     ]
    },
    {
     "name": "stdout",
     "output_type": "stream",
     "text": [
      "Adjusting learning rate of group 0 to 7.4683e-04.\n"
     ]
    },
    {
     "name": "stderr",
     "output_type": "stream",
     "text": [
      "Test Epoch 72/200, Test Loss: 1.6554514494809238: 100%|██████████| 55/55 [00:00<00:00, 556.23it/s]\n",
      "Train Epoch 73/200, Train Loss: 0.0: 100%|██████████| 55/55 [00:00<00:00, 115.95it/s]\n"
     ]
    },
    {
     "name": "stdout",
     "output_type": "stream",
     "text": [
      "Adjusting learning rate of group 0 to 7.0949e-04.\n"
     ]
    },
    {
     "name": "stderr",
     "output_type": "stream",
     "text": [
      "Test Epoch 73/200, Test Loss: 1.6559598315845836: 100%|██████████| 55/55 [00:00<00:00, 642.89it/s]\n",
      "Train Epoch 74/200, Train Loss: 0.0: 100%|██████████| 55/55 [00:00<00:00, 111.31it/s]\n"
     ]
    },
    {
     "name": "stdout",
     "output_type": "stream",
     "text": [
      "Adjusting learning rate of group 0 to 6.7401e-04.\n"
     ]
    },
    {
     "name": "stderr",
     "output_type": "stream",
     "text": [
      "Test Epoch 74/200, Test Loss: 1.6560247269543735: 100%|██████████| 55/55 [00:00<00:00, 551.23it/s]\n",
      "Train Epoch 75/200, Train Loss: 0.0: 100%|██████████| 55/55 [00:00<00:00, 109.26it/s]\n"
     ]
    },
    {
     "name": "stdout",
     "output_type": "stream",
     "text": [
      "Adjusting learning rate of group 0 to 6.4031e-04.\n"
     ]
    },
    {
     "name": "stderr",
     "output_type": "stream",
     "text": [
      "Test Epoch 75/200, Test Loss: 1.6538972117684103: 100%|██████████| 55/55 [00:00<00:00, 572.03it/s]\n",
      "Train Epoch 76/200, Train Loss: 0.0: 100%|██████████| 55/55 [00:00<00:00, 112.25it/s]\n"
     ]
    },
    {
     "name": "stdout",
     "output_type": "stream",
     "text": [
      "Adjusting learning rate of group 0 to 6.0830e-04.\n"
     ]
    },
    {
     "name": "stderr",
     "output_type": "stream",
     "text": [
      "Test Epoch 76/200, Test Loss: 1.6564650492234663: 100%|██████████| 55/55 [00:00<00:00, 423.30it/s]\n",
      "Train Epoch 77/200, Train Loss: 0.0: 100%|██████████| 55/55 [00:00<00:00, 101.63it/s]\n"
     ]
    },
    {
     "name": "stdout",
     "output_type": "stream",
     "text": [
      "Adjusting learning rate of group 0 to 5.7788e-04.\n"
     ]
    },
    {
     "name": "stderr",
     "output_type": "stream",
     "text": [
      "Test Epoch 77/200, Test Loss: 1.6542791735042226: 100%|██████████| 55/55 [00:00<00:00, 537.19it/s]\n",
      "Train Epoch 78/200, Train Loss: 0.0: 100%|██████████| 55/55 [00:00<00:00, 111.82it/s]\n"
     ]
    },
    {
     "name": "stdout",
     "output_type": "stream",
     "text": [
      "Adjusting learning rate of group 0 to 5.4899e-04.\n"
     ]
    },
    {
     "name": "stderr",
     "output_type": "stream",
     "text": [
      "Test Epoch 78/200, Test Loss: 1.6550684040242976: 100%|██████████| 55/55 [00:00<00:00, 591.30it/s]\n",
      "Train Epoch 79/200, Train Loss: 0.0: 100%|██████████| 55/55 [00:00<00:00, 123.48it/s]\n"
     ]
    },
    {
     "name": "stdout",
     "output_type": "stream",
     "text": [
      "Adjusting learning rate of group 0 to 5.2154e-04.\n"
     ]
    },
    {
     "name": "stderr",
     "output_type": "stream",
     "text": [
      "Test Epoch 79/200, Test Loss: 1.6551406621932983: 100%|██████████| 55/55 [00:00<00:00, 608.36it/s]\n",
      "Train Epoch 80/200, Train Loss: 0.0: 100%|██████████| 55/55 [00:00<00:00, 117.16it/s]\n"
     ]
    },
    {
     "name": "stdout",
     "output_type": "stream",
     "text": [
      "Adjusting learning rate of group 0 to 4.9546e-04.\n"
     ]
    },
    {
     "name": "stderr",
     "output_type": "stream",
     "text": [
      "Test Epoch 80/200, Test Loss: 1.6560152162205088: 100%|██████████| 55/55 [00:00<00:00, 585.26it/s]\n",
      "Train Epoch 81/200, Train Loss: 0.0: 100%|██████████| 55/55 [00:00<00:00, 119.78it/s]\n"
     ]
    },
    {
     "name": "stdout",
     "output_type": "stream",
     "text": [
      "Adjusting learning rate of group 0 to 4.7069e-04.\n"
     ]
    },
    {
     "name": "stderr",
     "output_type": "stream",
     "text": [
      "Test Epoch 81/200, Test Loss: 1.6552743044766514: 100%|██████████| 55/55 [00:00<00:00, 372.88it/s]\n",
      "Train Epoch 82/200, Train Loss: 0.0: 100%|██████████| 55/55 [00:00<00:00, 95.74it/s]\n"
     ]
    },
    {
     "name": "stdout",
     "output_type": "stream",
     "text": [
      "Adjusting learning rate of group 0 to 4.4715e-04.\n"
     ]
    },
    {
     "name": "stderr",
     "output_type": "stream",
     "text": [
      "Test Epoch 82/200, Test Loss: 1.654678929935802: 100%|██████████| 55/55 [00:00<00:00, 549.57it/s]\n",
      "Train Epoch 83/200, Train Loss: 0.0: 100%|██████████| 55/55 [00:00<00:00, 107.75it/s]\n"
     ]
    },
    {
     "name": "stdout",
     "output_type": "stream",
     "text": [
      "Adjusting learning rate of group 0 to 4.2480e-04.\n"
     ]
    },
    {
     "name": "stderr",
     "output_type": "stream",
     "text": [
      "Test Epoch 83/200, Test Loss: 1.6551282037388195: 100%|██████████| 55/55 [00:00<00:00, 552.00it/s]\n",
      "Train Epoch 84/200, Train Loss: 0.0: 100%|██████████| 55/55 [00:00<00:00, 120.71it/s]\n"
     ]
    },
    {
     "name": "stdout",
     "output_type": "stream",
     "text": [
      "Adjusting learning rate of group 0 to 4.0356e-04.\n"
     ]
    },
    {
     "name": "stderr",
     "output_type": "stream",
     "text": [
      "Test Epoch 84/200, Test Loss: 1.6545949372378264: 100%|██████████| 55/55 [00:00<00:00, 604.52it/s]\n",
      "Train Epoch 85/200, Train Loss: 0.0: 100%|██████████| 55/55 [00:00<00:00, 120.03it/s]\n"
     ]
    },
    {
     "name": "stdout",
     "output_type": "stream",
     "text": [
      "Adjusting learning rate of group 0 to 3.8338e-04.\n"
     ]
    },
    {
     "name": "stderr",
     "output_type": "stream",
     "text": [
      "Test Epoch 85/200, Test Loss: 1.6529217178171332: 100%|██████████| 55/55 [00:00<00:00, 611.27it/s]\n",
      "Train Epoch 86/200, Train Loss: 0.0: 100%|██████████| 55/55 [00:00<00:00, 89.07it/s] \n"
     ]
    },
    {
     "name": "stdout",
     "output_type": "stream",
     "text": [
      "Adjusting learning rate of group 0 to 3.6421e-04.\n"
     ]
    },
    {
     "name": "stderr",
     "output_type": "stream",
     "text": [
      "Test Epoch 86/200, Test Loss: 1.6544961062344639: 100%|██████████| 55/55 [00:00<00:00, 390.12it/s]\n",
      "Train Epoch 87/200, Train Loss: 0.0: 100%|██████████| 55/55 [00:00<00:00, 93.64it/s]\n"
     ]
    },
    {
     "name": "stdout",
     "output_type": "stream",
     "text": [
      "Adjusting learning rate of group 0 to 3.4600e-04.\n"
     ]
    },
    {
     "name": "stderr",
     "output_type": "stream",
     "text": [
      "Test Epoch 87/200, Test Loss: 1.655691716887734: 100%|██████████| 55/55 [00:00<00:00, 508.58it/s]\n",
      "Train Epoch 88/200, Train Loss: 0.0: 100%|██████████| 55/55 [00:00<00:00, 104.68it/s]\n"
     ]
    },
    {
     "name": "stdout",
     "output_type": "stream",
     "text": [
      "Adjusting learning rate of group 0 to 3.2870e-04.\n"
     ]
    },
    {
     "name": "stderr",
     "output_type": "stream",
     "text": [
      "Test Epoch 88/200, Test Loss: 1.65437030358748: 100%|██████████| 55/55 [00:00<00:00, 557.12it/s]\n",
      "Train Epoch 89/200, Train Loss: 0.0: 100%|██████████| 55/55 [00:00<00:00, 108.04it/s]\n"
     ]
    },
    {
     "name": "stdout",
     "output_type": "stream",
     "text": [
      "Adjusting learning rate of group 0 to 3.1226e-04.\n"
     ]
    },
    {
     "name": "stderr",
     "output_type": "stream",
     "text": [
      "Test Epoch 89/200, Test Loss: 1.6540336240421643: 100%|██████████| 55/55 [00:00<00:00, 557.81it/s]\n",
      "Train Epoch 90/200, Train Loss: 0.0: 100%|██████████| 55/55 [00:00<00:00, 120.21it/s]\n"
     ]
    },
    {
     "name": "stdout",
     "output_type": "stream",
     "text": [
      "Adjusting learning rate of group 0 to 2.9665e-04.\n"
     ]
    },
    {
     "name": "stderr",
     "output_type": "stream",
     "text": [
      "Test Epoch 90/200, Test Loss: 1.6538035154342652: 100%|██████████| 55/55 [00:00<00:00, 597.51it/s]\n",
      "Train Epoch 91/200, Train Loss: 0.0: 100%|██████████| 55/55 [00:00<00:00, 90.81it/s]\n"
     ]
    },
    {
     "name": "stdout",
     "output_type": "stream",
     "text": [
      "Adjusting learning rate of group 0 to 2.8182e-04.\n"
     ]
    },
    {
     "name": "stderr",
     "output_type": "stream",
     "text": [
      "Test Epoch 91/200, Test Loss: 1.6552159135991877: 100%|██████████| 55/55 [00:00<00:00, 477.74it/s]\n",
      "Train Epoch 92/200, Train Loss: 0.0: 100%|██████████| 55/55 [00:00<00:00, 106.45it/s]\n"
     ]
    },
    {
     "name": "stdout",
     "output_type": "stream",
     "text": [
      "Adjusting learning rate of group 0 to 2.6773e-04.\n"
     ]
    },
    {
     "name": "stderr",
     "output_type": "stream",
     "text": [
      "Test Epoch 92/200, Test Loss: 1.6544512835415928: 100%|██████████| 55/55 [00:00<00:00, 559.90it/s]\n",
      "Train Epoch 93/200, Train Loss: 0.0: 100%|██████████| 55/55 [00:00<00:00, 115.55it/s]\n"
     ]
    },
    {
     "name": "stdout",
     "output_type": "stream",
     "text": [
      "Adjusting learning rate of group 0 to 2.5434e-04.\n"
     ]
    },
    {
     "name": "stderr",
     "output_type": "stream",
     "text": [
      "Test Epoch 93/200, Test Loss: 1.6545794812115755: 100%|██████████| 55/55 [00:00<00:00, 577.72it/s]\n",
      "Train Epoch 94/200, Train Loss: 0.0: 100%|██████████| 55/55 [00:00<00:00, 111.69it/s]\n"
     ]
    },
    {
     "name": "stdout",
     "output_type": "stream",
     "text": [
      "Adjusting learning rate of group 0 to 2.4162e-04.\n"
     ]
    },
    {
     "name": "stderr",
     "output_type": "stream",
     "text": [
      "Test Epoch 94/200, Test Loss: 1.655326323075728: 100%|██████████| 55/55 [00:00<00:00, 562.26it/s]\n",
      "Train Epoch 95/200, Train Loss: 0.0: 100%|██████████| 55/55 [00:00<00:00, 117.78it/s]\n"
     ]
    },
    {
     "name": "stdout",
     "output_type": "stream",
     "text": [
      "Adjusting learning rate of group 0 to 2.2954e-04.\n"
     ]
    },
    {
     "name": "stderr",
     "output_type": "stream",
     "text": [
      "Test Epoch 95/200, Test Loss: 1.6544156963174994: 100%|██████████| 55/55 [00:00<00:00, 420.71it/s]\n",
      "Train Epoch 96/200, Train Loss: 0.0: 100%|██████████| 55/55 [00:00<00:00, 98.68it/s] \n"
     ]
    },
    {
     "name": "stdout",
     "output_type": "stream",
     "text": [
      "Adjusting learning rate of group 0 to 2.1807e-04.\n"
     ]
    },
    {
     "name": "stderr",
     "output_type": "stream",
     "text": [
      "Test Epoch 96/200, Test Loss: 1.6553181691603227: 100%|██████████| 55/55 [00:00<00:00, 559.28it/s]\n",
      "Train Epoch 97/200, Train Loss: 0.0: 100%|██████████| 55/55 [00:00<00:00, 109.55it/s]\n"
     ]
    },
    {
     "name": "stdout",
     "output_type": "stream",
     "text": [
      "Adjusting learning rate of group 0 to 2.0716e-04.\n"
     ]
    },
    {
     "name": "stderr",
     "output_type": "stream",
     "text": [
      "Test Epoch 97/200, Test Loss: 1.656194398619912: 100%|██████████| 55/55 [00:00<00:00, 570.49it/s]\n",
      "Train Epoch 98/200, Train Loss: 0.0: 100%|██████████| 55/55 [00:00<00:00, 102.11it/s]\n"
     ]
    },
    {
     "name": "stdout",
     "output_type": "stream",
     "text": [
      "Adjusting learning rate of group 0 to 1.9680e-04.\n"
     ]
    },
    {
     "name": "stderr",
     "output_type": "stream",
     "text": [
      "Test Epoch 98/200, Test Loss: 1.6533277468247847: 100%|██████████| 55/55 [00:00<00:00, 499.27it/s]\n",
      "Train Epoch 99/200, Train Loss: 0.0: 100%|██████████| 55/55 [00:00<00:00, 102.00it/s]\n"
     ]
    },
    {
     "name": "stdout",
     "output_type": "stream",
     "text": [
      "Adjusting learning rate of group 0 to 1.8696e-04.\n"
     ]
    },
    {
     "name": "stderr",
     "output_type": "stream",
     "text": [
      "Test Epoch 99/200, Test Loss: 1.6543910134922375: 100%|██████████| 55/55 [00:00<00:00, 558.28it/s]\n",
      "Train Epoch 100/200, Train Loss: 0.0: 100%|██████████| 55/55 [00:00<00:00, 93.28it/s]\n"
     ]
    },
    {
     "name": "stdout",
     "output_type": "stream",
     "text": [
      "Adjusting learning rate of group 0 to 1.7762e-04.\n"
     ]
    },
    {
     "name": "stderr",
     "output_type": "stream",
     "text": [
      "Test Epoch 100/200, Test Loss: 1.6551957087083295: 100%|██████████| 55/55 [00:00<00:00, 565.15it/s]\n",
      "Train Epoch 101/200, Train Loss: 0.0: 100%|██████████| 55/55 [00:00<00:00, 109.24it/s]\n"
     ]
    },
    {
     "name": "stdout",
     "output_type": "stream",
     "text": [
      "Adjusting learning rate of group 0 to 1.6874e-04.\n"
     ]
    },
    {
     "name": "stderr",
     "output_type": "stream",
     "text": [
      "Test Epoch 101/200, Test Loss: 1.6556702548807318: 100%|██████████| 55/55 [00:00<00:00, 571.03it/s]\n",
      "Train Epoch 102/200, Train Loss: 0.0: 100%|██████████| 55/55 [00:00<00:00, 115.04it/s]\n"
     ]
    },
    {
     "name": "stdout",
     "output_type": "stream",
     "text": [
      "Adjusting learning rate of group 0 to 1.6030e-04.\n"
     ]
    },
    {
     "name": "stderr",
     "output_type": "stream",
     "text": [
      "Test Epoch 102/200, Test Loss: 1.6546340573917735: 100%|██████████| 55/55 [00:00<00:00, 583.64it/s]\n",
      "Train Epoch 103/200, Train Loss: 0.0: 100%|██████████| 55/55 [00:00<00:00, 118.15it/s]\n"
     ]
    },
    {
     "name": "stdout",
     "output_type": "stream",
     "text": [
      "Adjusting learning rate of group 0 to 1.5228e-04.\n"
     ]
    },
    {
     "name": "stderr",
     "output_type": "stream",
     "text": [
      "Test Epoch 103/200, Test Loss: 1.6527140530672941: 100%|██████████| 55/55 [00:00<00:00, 582.08it/s]\n",
      "Train Epoch 104/200, Train Loss: 0.0: 100%|██████████| 55/55 [00:00<00:00, 109.50it/s]\n"
     ]
    },
    {
     "name": "stdout",
     "output_type": "stream",
     "text": [
      "Adjusting learning rate of group 0 to 1.4467e-04.\n"
     ]
    },
    {
     "name": "stderr",
     "output_type": "stream",
     "text": [
      "Test Epoch 104/200, Test Loss: 1.65328041640195: 100%|██████████| 55/55 [00:00<00:00, 590.71it/s]\n",
      "Train Epoch 105/200, Train Loss: 0.0: 100%|██████████| 55/55 [00:00<00:00, 94.79it/s]\n"
     ]
    },
    {
     "name": "stdout",
     "output_type": "stream",
     "text": [
      "Adjusting learning rate of group 0 to 1.3744e-04.\n"
     ]
    },
    {
     "name": "stderr",
     "output_type": "stream",
     "text": [
      "Test Epoch 105/200, Test Loss: 1.6527518857609143: 100%|██████████| 55/55 [00:00<00:00, 556.78it/s]\n",
      "Train Epoch 106/200, Train Loss: 0.0: 100%|██████████| 55/55 [00:00<00:00, 112.14it/s]\n"
     ]
    },
    {
     "name": "stdout",
     "output_type": "stream",
     "text": [
      "Adjusting learning rate of group 0 to 1.3056e-04.\n"
     ]
    },
    {
     "name": "stderr",
     "output_type": "stream",
     "text": [
      "Test Epoch 106/200, Test Loss: 1.6533587043935603: 100%|██████████| 55/55 [00:00<00:00, 581.30it/s]\n",
      "Train Epoch 107/200, Train Loss: 0.0: 100%|██████████| 55/55 [00:00<00:00, 110.16it/s]\n"
     ]
    },
    {
     "name": "stdout",
     "output_type": "stream",
     "text": [
      "Adjusting learning rate of group 0 to 1.2404e-04.\n"
     ]
    },
    {
     "name": "stderr",
     "output_type": "stream",
     "text": [
      "Test Epoch 107/200, Test Loss: 1.6548664027994329: 100%|██████████| 55/55 [00:00<00:00, 593.23it/s]\n",
      "Train Epoch 108/200, Train Loss: 0.0: 100%|██████████| 55/55 [00:00<00:00, 119.18it/s]\n"
     ]
    },
    {
     "name": "stdout",
     "output_type": "stream",
     "text": [
      "Adjusting learning rate of group 0 to 1.1783e-04.\n"
     ]
    },
    {
     "name": "stderr",
     "output_type": "stream",
     "text": [
      "Test Epoch 108/200, Test Loss: 1.6541953997178511: 100%|██████████| 55/55 [00:00<00:00, 558.31it/s]\n",
      "Train Epoch 109/200, Train Loss: 0.0: 100%|██████████| 55/55 [00:00<00:00, 116.27it/s]\n"
     ]
    },
    {
     "name": "stdout",
     "output_type": "stream",
     "text": [
      "Adjusting learning rate of group 0 to 1.1194e-04.\n"
     ]
    },
    {
     "name": "stderr",
     "output_type": "stream",
     "text": [
      "Test Epoch 109/200, Test Loss: 1.6546841924840754: 100%|██████████| 55/55 [00:00<00:00, 598.97it/s]\n",
      "Train Epoch 110/200, Train Loss: 0.0: 100%|██████████| 55/55 [00:00<00:00, 104.52it/s]\n"
     ]
    },
    {
     "name": "stdout",
     "output_type": "stream",
     "text": [
      "Adjusting learning rate of group 0 to 1.0635e-04.\n"
     ]
    },
    {
     "name": "stderr",
     "output_type": "stream",
     "text": [
      "Test Epoch 110/200, Test Loss: 1.6533040588552301: 100%|██████████| 55/55 [00:00<00:00, 494.86it/s]\n",
      "Train Epoch 111/200, Train Loss: 0.0: 100%|██████████| 55/55 [00:00<00:00, 105.20it/s]\n"
     ]
    },
    {
     "name": "stdout",
     "output_type": "stream",
     "text": [
      "Adjusting learning rate of group 0 to 1.0103e-04.\n"
     ]
    },
    {
     "name": "stderr",
     "output_type": "stream",
     "text": [
      "Test Epoch 111/200, Test Loss: 1.65327993739735: 100%|██████████| 55/55 [00:00<00:00, 558.05it/s]\n",
      "Train Epoch 112/200, Train Loss: 0.0: 100%|██████████| 55/55 [00:00<00:00, 110.51it/s]\n"
     ]
    },
    {
     "name": "stdout",
     "output_type": "stream",
     "text": [
      "Adjusting learning rate of group 0 to 9.5977e-05.\n"
     ]
    },
    {
     "name": "stderr",
     "output_type": "stream",
     "text": [
      "Test Epoch 112/200, Test Loss: 1.6534270069815895: 100%|██████████| 55/55 [00:00<00:00, 591.74it/s]\n",
      "Train Epoch 113/200, Train Loss: 0.0: 100%|██████████| 55/55 [00:00<00:00, 121.56it/s]\n"
     ]
    },
    {
     "name": "stdout",
     "output_type": "stream",
     "text": [
      "Adjusting learning rate of group 0 to 9.1178e-05.\n"
     ]
    },
    {
     "name": "stderr",
     "output_type": "stream",
     "text": [
      "Test Epoch 113/200, Test Loss: 1.6543288404291325: 100%|██████████| 55/55 [00:00<00:00, 572.08it/s]\n",
      "Train Epoch 114/200, Train Loss: 0.0: 100%|██████████| 55/55 [00:00<00:00, 113.90it/s]\n"
     ]
    },
    {
     "name": "stdout",
     "output_type": "stream",
     "text": [
      "Adjusting learning rate of group 0 to 8.6619e-05.\n"
     ]
    },
    {
     "name": "stderr",
     "output_type": "stream",
     "text": [
      "Test Epoch 114/200, Test Loss: 1.65367253260179: 100%|██████████| 55/55 [00:00<00:00, 442.58it/s]\n",
      "Train Epoch 115/200, Train Loss: 0.0: 100%|██████████| 55/55 [00:00<00:00, 92.35it/s]\n"
     ]
    },
    {
     "name": "stdout",
     "output_type": "stream",
     "text": [
      "Adjusting learning rate of group 0 to 8.2288e-05.\n"
     ]
    },
    {
     "name": "stderr",
     "output_type": "stream",
     "text": [
      "Test Epoch 115/200, Test Loss: 1.6538685061714866: 100%|██████████| 55/55 [00:00<00:00, 545.72it/s]\n",
      "Train Epoch 116/200, Train Loss: 0.0: 100%|██████████| 55/55 [00:00<00:00, 103.87it/s]\n"
     ]
    },
    {
     "name": "stdout",
     "output_type": "stream",
     "text": [
      "Adjusting learning rate of group 0 to 7.8173e-05.\n"
     ]
    },
    {
     "name": "stderr",
     "output_type": "stream",
     "text": [
      "Test Epoch 116/200, Test Loss: 1.6543486833572387: 100%|██████████| 55/55 [00:00<00:00, 378.24it/s]\n",
      "Train Epoch 117/200, Train Loss: 0.0: 100%|██████████| 55/55 [00:00<00:00, 62.21it/s]\n"
     ]
    },
    {
     "name": "stdout",
     "output_type": "stream",
     "text": [
      "Adjusting learning rate of group 0 to 7.4265e-05.\n"
     ]
    },
    {
     "name": "stderr",
     "output_type": "stream",
     "text": [
      "Test Epoch 117/200, Test Loss: 1.6553525252775712: 100%|██████████| 55/55 [00:00<00:00, 319.76it/s]\n",
      "Train Epoch 118/200, Train Loss: 0.0: 100%|██████████| 55/55 [00:00<00:00, 64.21it/s]\n"
     ]
    },
    {
     "name": "stdout",
     "output_type": "stream",
     "text": [
      "Adjusting learning rate of group 0 to 7.0552e-05.\n"
     ]
    },
    {
     "name": "stderr",
     "output_type": "stream",
     "text": [
      "Test Epoch 118/200, Test Loss: 1.6537458246404475: 100%|██████████| 55/55 [00:00<00:00, 268.28it/s]\n",
      "Train Epoch 119/200, Train Loss: 0.0: 100%|██████████| 55/55 [00:00<00:00, 67.42it/s]\n"
     ]
    },
    {
     "name": "stdout",
     "output_type": "stream",
     "text": [
      "Adjusting learning rate of group 0 to 6.7024e-05.\n"
     ]
    },
    {
     "name": "stderr",
     "output_type": "stream",
     "text": [
      "Test Epoch 119/200, Test Loss: 1.6542455954985185: 100%|██████████| 55/55 [00:00<00:00, 445.41it/s]\n",
      "Train Epoch 120/200, Train Loss: 0.0: 100%|██████████| 55/55 [00:00<00:00, 101.79it/s]\n"
     ]
    },
    {
     "name": "stdout",
     "output_type": "stream",
     "text": [
      "Adjusting learning rate of group 0 to 6.3673e-05.\n"
     ]
    },
    {
     "name": "stderr",
     "output_type": "stream",
     "text": [
      "Test Epoch 120/200, Test Loss: 1.654138166254217: 100%|██████████| 55/55 [00:00<00:00, 549.28it/s]\n",
      "Train Epoch 121/200, Train Loss: 0.0: 100%|██████████| 55/55 [00:00<00:00, 108.86it/s]\n"
     ]
    },
    {
     "name": "stdout",
     "output_type": "stream",
     "text": [
      "Adjusting learning rate of group 0 to 6.0489e-05.\n"
     ]
    },
    {
     "name": "stderr",
     "output_type": "stream",
     "text": [
      "Test Epoch 121/200, Test Loss: 1.6546531243757767: 100%|██████████| 55/55 [00:00<00:00, 556.76it/s]\n",
      "Train Epoch 122/200, Train Loss: 0.0: 100%|██████████| 55/55 [00:00<00:00, 113.37it/s]\n"
     ]
    },
    {
     "name": "stdout",
     "output_type": "stream",
     "text": [
      "Adjusting learning rate of group 0 to 5.7465e-05.\n"
     ]
    },
    {
     "name": "stderr",
     "output_type": "stream",
     "text": [
      "Test Epoch 122/200, Test Loss: 1.6536587541753596: 100%|██████████| 55/55 [00:00<00:00, 565.83it/s]\n",
      "Train Epoch 123/200, Train Loss: 0.0: 100%|██████████| 55/55 [00:00<00:00, 97.11it/s] \n"
     ]
    },
    {
     "name": "stdout",
     "output_type": "stream",
     "text": [
      "Adjusting learning rate of group 0 to 5.4591e-05.\n"
     ]
    },
    {
     "name": "stderr",
     "output_type": "stream",
     "text": [
      "Test Epoch 123/200, Test Loss: 1.6543659968809648: 100%|██████████| 55/55 [00:00<00:00, 467.77it/s]\n",
      "Train Epoch 124/200, Train Loss: 0.0: 100%|██████████| 55/55 [00:00<00:00, 99.53it/s] \n"
     ]
    },
    {
     "name": "stdout",
     "output_type": "stream",
     "text": [
      "Adjusting learning rate of group 0 to 5.1862e-05.\n"
     ]
    },
    {
     "name": "stderr",
     "output_type": "stream",
     "text": [
      "Test Epoch 124/200, Test Loss: 1.652748814496127: 100%|██████████| 55/55 [00:00<00:00, 557.23it/s]\n",
      "Train Epoch 125/200, Train Loss: 0.0: 100%|██████████| 55/55 [00:00<00:00, 108.61it/s]\n"
     ]
    },
    {
     "name": "stdout",
     "output_type": "stream",
     "text": [
      "Adjusting learning rate of group 0 to 4.9269e-05.\n"
     ]
    },
    {
     "name": "stderr",
     "output_type": "stream",
     "text": [
      "Test Epoch 125/200, Test Loss: 1.6552775816483931: 100%|██████████| 55/55 [00:00<00:00, 537.33it/s]\n",
      "Train Epoch 126/200, Train Loss: 0.0: 100%|██████████| 55/55 [00:00<00:00, 108.81it/s]\n"
     ]
    },
    {
     "name": "stdout",
     "output_type": "stream",
     "text": [
      "Adjusting learning rate of group 0 to 4.6805e-05.\n"
     ]
    },
    {
     "name": "stderr",
     "output_type": "stream",
     "text": [
      "Test Epoch 126/200, Test Loss: 1.6545374393463135: 100%|██████████| 55/55 [00:00<00:00, 557.66it/s]\n",
      "Train Epoch 127/200, Train Loss: 0.0: 100%|██████████| 55/55 [00:00<00:00, 108.33it/s]\n"
     ]
    },
    {
     "name": "stdout",
     "output_type": "stream",
     "text": [
      "Adjusting learning rate of group 0 to 4.4465e-05.\n"
     ]
    },
    {
     "name": "stderr",
     "output_type": "stream",
     "text": [
      "Test Epoch 127/200, Test Loss: 1.6530999205329202: 100%|██████████| 55/55 [00:00<00:00, 386.44it/s]\n",
      "Train Epoch 128/200, Train Loss: 0.0: 100%|██████████| 55/55 [00:00<00:00, 90.55it/s]\n"
     ]
    },
    {
     "name": "stdout",
     "output_type": "stream",
     "text": [
      "Adjusting learning rate of group 0 to 4.2242e-05.\n"
     ]
    },
    {
     "name": "stderr",
     "output_type": "stream",
     "text": [
      "Test Epoch 128/200, Test Loss: 1.6531403476541693: 100%|██████████| 55/55 [00:00<00:00, 484.83it/s]\n",
      "Train Epoch 129/200, Train Loss: 0.0: 100%|██████████| 55/55 [00:00<00:00, 97.70it/s] \n"
     ]
    },
    {
     "name": "stdout",
     "output_type": "stream",
     "text": [
      "Adjusting learning rate of group 0 to 4.0130e-05.\n"
     ]
    },
    {
     "name": "stderr",
     "output_type": "stream",
     "text": [
      "Test Epoch 129/200, Test Loss: 1.6539210059426048: 100%|██████████| 55/55 [00:00<00:00, 554.10it/s]\n",
      "Train Epoch 130/200, Train Loss: 0.0: 100%|██████████| 55/55 [00:00<00:00, 107.66it/s]\n"
     ]
    },
    {
     "name": "stdout",
     "output_type": "stream",
     "text": [
      "Adjusting learning rate of group 0 to 3.8123e-05.\n"
     ]
    },
    {
     "name": "stderr",
     "output_type": "stream",
     "text": [
      "Test Epoch 130/200, Test Loss: 1.6542724631049417: 100%|██████████| 55/55 [00:00<00:00, 558.60it/s]\n",
      "Train Epoch 131/200, Train Loss: 0.0: 100%|██████████| 55/55 [00:00<00:00, 109.34it/s]\n"
     ]
    },
    {
     "name": "stdout",
     "output_type": "stream",
     "text": [
      "Adjusting learning rate of group 0 to 3.6217e-05.\n"
     ]
    },
    {
     "name": "stderr",
     "output_type": "stream",
     "text": [
      "Test Epoch 131/200, Test Loss: 1.654424827749079: 100%|██████████| 55/55 [00:00<00:00, 585.38it/s]\n",
      "Train Epoch 132/200, Train Loss: 0.0: 100%|██████████| 55/55 [00:00<00:00, 97.74it/s] \n"
     ]
    },
    {
     "name": "stdout",
     "output_type": "stream",
     "text": [
      "Adjusting learning rate of group 0 to 3.4406e-05.\n"
     ]
    },
    {
     "name": "stderr",
     "output_type": "stream",
     "text": [
      "Test Epoch 132/200, Test Loss: 1.6519606308503585: 100%|██████████| 55/55 [00:00<00:00, 441.96it/s]\n",
      "Train Epoch 133/200, Train Loss: 0.0: 100%|██████████| 55/55 [00:00<00:00, 99.50it/s] \n"
     ]
    },
    {
     "name": "stdout",
     "output_type": "stream",
     "text": [
      "Adjusting learning rate of group 0 to 3.2686e-05.\n"
     ]
    },
    {
     "name": "stderr",
     "output_type": "stream",
     "text": [
      "Test Epoch 133/200, Test Loss: 1.6544943137602373: 100%|██████████| 55/55 [00:00<00:00, 550.65it/s]\n",
      "Train Epoch 134/200, Train Loss: 0.0: 100%|██████████| 55/55 [00:00<00:00, 109.13it/s]\n"
     ]
    },
    {
     "name": "stdout",
     "output_type": "stream",
     "text": [
      "Adjusting learning rate of group 0 to 3.1052e-05.\n"
     ]
    },
    {
     "name": "stderr",
     "output_type": "stream",
     "text": [
      "Test Epoch 134/200, Test Loss: 1.653265742822127: 100%|██████████| 55/55 [00:00<00:00, 557.21it/s]\n",
      "Train Epoch 135/200, Train Loss: 0.0: 100%|██████████| 55/55 [00:00<00:00, 109.65it/s]\n"
     ]
    },
    {
     "name": "stdout",
     "output_type": "stream",
     "text": [
      "Adjusting learning rate of group 0 to 2.9499e-05.\n"
     ]
    },
    {
     "name": "stderr",
     "output_type": "stream",
     "text": [
      "Test Epoch 135/200, Test Loss: 1.654580779509111: 100%|██████████| 55/55 [00:00<00:00, 576.24it/s]\n",
      "Train Epoch 136/200, Train Loss: 0.0: 100%|██████████| 55/55 [00:00<00:00, 112.36it/s]\n"
     ]
    },
    {
     "name": "stdout",
     "output_type": "stream",
     "text": [
      "Adjusting learning rate of group 0 to 2.8024e-05.\n"
     ]
    },
    {
     "name": "stderr",
     "output_type": "stream",
     "text": [
      "Test Epoch 136/200, Test Loss: 1.654816408590837: 100%|██████████| 55/55 [00:00<00:00, 376.00it/s]\n",
      "Train Epoch 137/200, Train Loss: 0.0: 100%|██████████| 55/55 [00:00<00:00, 91.39it/s]\n"
     ]
    },
    {
     "name": "stdout",
     "output_type": "stream",
     "text": [
      "Adjusting learning rate of group 0 to 2.6623e-05.\n"
     ]
    },
    {
     "name": "stderr",
     "output_type": "stream",
     "text": [
      "Test Epoch 137/200, Test Loss: 1.6537593299692328: 100%|██████████| 55/55 [00:00<00:00, 559.14it/s]\n",
      "Train Epoch 138/200, Train Loss: 0.0: 100%|██████████| 55/55 [00:00<00:00, 108.21it/s]\n"
     ]
    },
    {
     "name": "stdout",
     "output_type": "stream",
     "text": [
      "Adjusting learning rate of group 0 to 2.5292e-05.\n"
     ]
    },
    {
     "name": "stderr",
     "output_type": "stream",
     "text": [
      "Test Epoch 138/200, Test Loss: 1.6521081859415228: 100%|██████████| 55/55 [00:00<00:00, 553.41it/s]\n",
      "Train Epoch 139/200, Train Loss: 0.0: 100%|██████████| 55/55 [00:00<00:00, 116.11it/s]\n"
     ]
    },
    {
     "name": "stdout",
     "output_type": "stream",
     "text": [
      "Adjusting learning rate of group 0 to 2.4027e-05.\n"
     ]
    },
    {
     "name": "stderr",
     "output_type": "stream",
     "text": [
      "Test Epoch 139/200, Test Loss: 1.6530536651611327: 100%|██████████| 55/55 [00:00<00:00, 582.70it/s]\n",
      "Train Epoch 140/200, Train Loss: 0.0: 100%|██████████| 55/55 [00:00<00:00, 109.70it/s]\n"
     ]
    },
    {
     "name": "stdout",
     "output_type": "stream",
     "text": [
      "Adjusting learning rate of group 0 to 2.2826e-05.\n"
     ]
    },
    {
     "name": "stderr",
     "output_type": "stream",
     "text": [
      "Test Epoch 140/200, Test Loss: 1.6534187858754938: 100%|██████████| 55/55 [00:00<00:00, 583.64it/s]\n",
      "Train Epoch 141/200, Train Loss: 0.0: 100%|██████████| 55/55 [00:00<00:00, 102.44it/s]\n"
     ]
    },
    {
     "name": "stdout",
     "output_type": "stream",
     "text": [
      "Adjusting learning rate of group 0 to 2.1685e-05.\n"
     ]
    },
    {
     "name": "stderr",
     "output_type": "stream",
     "text": [
      "Test Epoch 141/200, Test Loss: 1.6545891718430952: 100%|██████████| 55/55 [00:00<00:00, 446.40it/s]\n",
      "Train Epoch 142/200, Train Loss: 0.0: 100%|██████████| 55/55 [00:00<00:00, 99.04it/s] \n"
     ]
    },
    {
     "name": "stdout",
     "output_type": "stream",
     "text": [
      "Adjusting learning rate of group 0 to 2.0600e-05.\n"
     ]
    },
    {
     "name": "stderr",
     "output_type": "stream",
     "text": [
      "Test Epoch 142/200, Test Loss: 1.6542629783803766: 100%|██████████| 55/55 [00:00<00:00, 550.63it/s]\n",
      "Train Epoch 143/200, Train Loss: 0.0: 100%|██████████| 55/55 [00:00<00:00, 109.89it/s]\n"
     ]
    },
    {
     "name": "stdout",
     "output_type": "stream",
     "text": [
      "Adjusting learning rate of group 0 to 1.9570e-05.\n"
     ]
    },
    {
     "name": "stderr",
     "output_type": "stream",
     "text": [
      "Test Epoch 143/200, Test Loss: 1.6537619677456943: 100%|██████████| 55/55 [00:00<00:00, 582.88it/s]\n",
      "Train Epoch 144/200, Train Loss: 0.0: 100%|██████████| 55/55 [00:00<00:00, 112.91it/s]\n"
     ]
    },
    {
     "name": "stdout",
     "output_type": "stream",
     "text": [
      "Adjusting learning rate of group 0 to 1.8592e-05.\n"
     ]
    },
    {
     "name": "stderr",
     "output_type": "stream",
     "text": [
      "Test Epoch 144/200, Test Loss: 1.654490141435103: 100%|██████████| 55/55 [00:00<00:00, 579.56it/s]\n",
      "Train Epoch 145/200, Train Loss: 0.0: 100%|██████████| 55/55 [00:00<00:00, 108.01it/s]\n"
     ]
    },
    {
     "name": "stdout",
     "output_type": "stream",
     "text": [
      "Adjusting learning rate of group 0 to 1.7662e-05.\n"
     ]
    },
    {
     "name": "stderr",
     "output_type": "stream",
     "text": [
      "Test Epoch 145/200, Test Loss: 1.6535031838850542: 100%|██████████| 55/55 [00:00<00:00, 378.42it/s]\n",
      "Train Epoch 146/200, Train Loss: 0.0: 100%|██████████| 55/55 [00:00<00:00, 94.66it/s]\n"
     ]
    },
    {
     "name": "stdout",
     "output_type": "stream",
     "text": [
      "Adjusting learning rate of group 0 to 1.6779e-05.\n"
     ]
    },
    {
     "name": "stderr",
     "output_type": "stream",
     "text": [
      "Test Epoch 146/200, Test Loss: 1.6529686255888505: 100%|██████████| 55/55 [00:00<00:00, 559.61it/s]\n",
      "Train Epoch 147/200, Train Loss: 0.0: 100%|██████████| 55/55 [00:00<00:00, 109.64it/s]\n"
     ]
    },
    {
     "name": "stdout",
     "output_type": "stream",
     "text": [
      "Adjusting learning rate of group 0 to 1.5940e-05.\n"
     ]
    },
    {
     "name": "stderr",
     "output_type": "stream",
     "text": [
      "Test Epoch 147/200, Test Loss: 1.653087149966847: 100%|██████████| 55/55 [00:00<00:00, 575.17it/s]\n",
      "Train Epoch 148/200, Train Loss: 0.0: 100%|██████████| 55/55 [00:00<00:00, 116.51it/s]\n"
     ]
    },
    {
     "name": "stdout",
     "output_type": "stream",
     "text": [
      "Adjusting learning rate of group 0 to 1.5143e-05.\n"
     ]
    },
    {
     "name": "stderr",
     "output_type": "stream",
     "text": [
      "Test Epoch 148/200, Test Loss: 1.6543940284035423: 100%|██████████| 55/55 [00:00<00:00, 582.52it/s]\n",
      "Train Epoch 149/200, Train Loss: 0.0: 100%|██████████| 55/55 [00:00<00:00, 113.46it/s]\n"
     ]
    },
    {
     "name": "stdout",
     "output_type": "stream",
     "text": [
      "Adjusting learning rate of group 0 to 1.4386e-05.\n"
     ]
    },
    {
     "name": "stderr",
     "output_type": "stream",
     "text": [
      "Test Epoch 149/200, Test Loss: 1.6526081475344572: 100%|██████████| 55/55 [00:00<00:00, 574.06it/s]\n",
      "Train Epoch 150/200, Train Loss: 0.0: 100%|██████████| 55/55 [00:00<00:00, 106.85it/s]\n"
     ]
    },
    {
     "name": "stdout",
     "output_type": "stream",
     "text": [
      "Adjusting learning rate of group 0 to 1.3667e-05.\n"
     ]
    },
    {
     "name": "stderr",
     "output_type": "stream",
     "text": [
      "Test Epoch 150/200, Test Loss: 1.6533026413484053: 100%|██████████| 55/55 [00:00<00:00, 437.87it/s]\n",
      "Train Epoch 151/200, Train Loss: 0.0: 100%|██████████| 55/55 [00:00<00:00, 93.09it/s]\n"
     ]
    },
    {
     "name": "stdout",
     "output_type": "stream",
     "text": [
      "Adjusting learning rate of group 0 to 1.2983e-05.\n"
     ]
    },
    {
     "name": "stderr",
     "output_type": "stream",
     "text": [
      "Test Epoch 151/200, Test Loss: 1.6540617205879904: 100%|██████████| 55/55 [00:00<00:00, 512.96it/s]\n",
      "Train Epoch 152/200, Train Loss: 0.0: 100%|██████████| 55/55 [00:00<00:00, 106.26it/s]\n"
     ]
    },
    {
     "name": "stdout",
     "output_type": "stream",
     "text": [
      "Adjusting learning rate of group 0 to 1.2334e-05.\n"
     ]
    },
    {
     "name": "stderr",
     "output_type": "stream",
     "text": [
      "Test Epoch 152/200, Test Loss: 1.6550499981099909: 100%|██████████| 55/55 [00:00<00:00, 576.78it/s]\n",
      "Train Epoch 153/200, Train Loss: 0.0: 100%|██████████| 55/55 [00:00<00:00, 108.47it/s]\n"
     ]
    },
    {
     "name": "stdout",
     "output_type": "stream",
     "text": [
      "Adjusting learning rate of group 0 to 1.1717e-05.\n"
     ]
    },
    {
     "name": "stderr",
     "output_type": "stream",
     "text": [
      "Test Epoch 153/200, Test Loss: 1.6537207798524336: 100%|██████████| 55/55 [00:00<00:00, 557.45it/s]\n",
      "Train Epoch 154/200, Train Loss: 0.0: 100%|██████████| 55/55 [00:00<00:00, 108.35it/s]\n"
     ]
    },
    {
     "name": "stdout",
     "output_type": "stream",
     "text": [
      "Adjusting learning rate of group 0 to 1.1132e-05.\n"
     ]
    },
    {
     "name": "stderr",
     "output_type": "stream",
     "text": [
      "Test Epoch 154/200, Test Loss: 1.6544215354052456: 100%|██████████| 55/55 [00:00<00:00, 412.16it/s]\n",
      "Train Epoch 155/200, Train Loss: 0.0: 100%|██████████| 55/55 [00:00<00:00, 95.98it/s]\n"
     ]
    },
    {
     "name": "stdout",
     "output_type": "stream",
     "text": [
      "Adjusting learning rate of group 0 to 1.0575e-05.\n"
     ]
    },
    {
     "name": "stderr",
     "output_type": "stream",
     "text": [
      "Test Epoch 155/200, Test Loss: 1.653425873409618: 100%|██████████| 55/55 [00:00<00:00, 560.20it/s]\n",
      "Train Epoch 156/200, Train Loss: 0.0: 100%|██████████| 55/55 [00:00<00:00, 108.04it/s]\n"
     ]
    },
    {
     "name": "stdout",
     "output_type": "stream",
     "text": [
      "Adjusting learning rate of group 0 to 1.0046e-05.\n"
     ]
    },
    {
     "name": "stderr",
     "output_type": "stream",
     "text": [
      "Test Epoch 156/200, Test Loss: 1.6532258077101274: 100%|██████████| 55/55 [00:00<00:00, 555.50it/s]\n",
      "Train Epoch 157/200, Train Loss: 0.0: 100%|██████████| 55/55 [00:00<00:00, 107.52it/s]\n"
     ]
    },
    {
     "name": "stdout",
     "output_type": "stream",
     "text": [
      "Adjusting learning rate of group 0 to 9.5439e-06.\n"
     ]
    },
    {
     "name": "stderr",
     "output_type": "stream",
     "text": [
      "Test Epoch 157/200, Test Loss: 1.6529199556870895: 100%|██████████| 55/55 [00:00<00:00, 559.06it/s]\n",
      "Train Epoch 158/200, Train Loss: 0.0: 100%|██████████| 55/55 [00:00<00:00, 113.90it/s]\n"
     ]
    },
    {
     "name": "stdout",
     "output_type": "stream",
     "text": [
      "Adjusting learning rate of group 0 to 9.0667e-06.\n"
     ]
    },
    {
     "name": "stderr",
     "output_type": "stream",
     "text": [
      "Test Epoch 158/200, Test Loss: 1.6544258052652532: 100%|██████████| 55/55 [00:00<00:00, 607.67it/s]\n",
      "Train Epoch 159/200, Train Loss: 0.0: 100%|██████████| 55/55 [00:00<00:00, 100.04it/s]\n"
     ]
    },
    {
     "name": "stdout",
     "output_type": "stream",
     "text": [
      "Adjusting learning rate of group 0 to 8.6134e-06.\n"
     ]
    },
    {
     "name": "stderr",
     "output_type": "stream",
     "text": [
      "Test Epoch 159/200, Test Loss: 1.6535068663683805: 100%|██████████| 55/55 [00:00<00:00, 473.01it/s]\n",
      "Train Epoch 160/200, Train Loss: 0.0: 100%|██████████| 55/55 [00:00<00:00, 103.17it/s]\n"
     ]
    },
    {
     "name": "stdout",
     "output_type": "stream",
     "text": [
      "Adjusting learning rate of group 0 to 8.1827e-06.\n"
     ]
    },
    {
     "name": "stderr",
     "output_type": "stream",
     "text": [
      "Test Epoch 160/200, Test Loss: 1.6536707379601219: 100%|██████████| 55/55 [00:00<00:00, 542.65it/s]\n",
      "Train Epoch 161/200, Train Loss: 0.0: 100%|██████████| 55/55 [00:00<00:00, 108.96it/s]\n"
     ]
    },
    {
     "name": "stdout",
     "output_type": "stream",
     "text": [
      "Adjusting learning rate of group 0 to 7.7736e-06.\n"
     ]
    },
    {
     "name": "stderr",
     "output_type": "stream",
     "text": [
      "Test Epoch 161/200, Test Loss: 1.6528465162624013: 100%|██████████| 55/55 [00:00<00:00, 552.39it/s]\n",
      "Train Epoch 162/200, Train Loss: 0.0: 100%|██████████| 55/55 [00:00<00:00, 109.90it/s]\n"
     ]
    },
    {
     "name": "stdout",
     "output_type": "stream",
     "text": [
      "Adjusting learning rate of group 0 to 7.3849e-06.\n"
     ]
    },
    {
     "name": "stderr",
     "output_type": "stream",
     "text": [
      "Test Epoch 162/200, Test Loss: 1.6532229510220615: 100%|██████████| 55/55 [00:00<00:00, 579.32it/s]\n",
      "Train Epoch 163/200, Train Loss: 0.0: 100%|██████████| 55/55 [00:00<00:00, 113.49it/s]\n"
     ]
    },
    {
     "name": "stdout",
     "output_type": "stream",
     "text": [
      "Adjusting learning rate of group 0 to 7.0157e-06.\n"
     ]
    },
    {
     "name": "stderr",
     "output_type": "stream",
     "text": [
      "Test Epoch 163/200, Test Loss: 1.6518860600211405: 100%|██████████| 55/55 [00:00<00:00, 356.55it/s]\n",
      "Train Epoch 164/200, Train Loss: 0.0: 100%|██████████| 55/55 [00:00<00:00, 94.22it/s]\n"
     ]
    },
    {
     "name": "stdout",
     "output_type": "stream",
     "text": [
      "Adjusting learning rate of group 0 to 6.6649e-06.\n"
     ]
    },
    {
     "name": "stderr",
     "output_type": "stream",
     "text": [
      "Test Epoch 164/200, Test Loss: 1.654205974665555: 100%|██████████| 55/55 [00:00<00:00, 552.38it/s]\n",
      "Train Epoch 165/200, Train Loss: 0.0: 100%|██████████| 55/55 [00:00<00:00, 103.74it/s]\n"
     ]
    },
    {
     "name": "stdout",
     "output_type": "stream",
     "text": [
      "Adjusting learning rate of group 0 to 6.3316e-06.\n"
     ]
    },
    {
     "name": "stderr",
     "output_type": "stream",
     "text": [
      "Test Epoch 165/200, Test Loss: 1.6544409014961936: 100%|██████████| 55/55 [00:00<00:00, 556.75it/s]\n",
      "Train Epoch 166/200, Train Loss: 0.0: 100%|██████████| 55/55 [00:00<00:00, 108.29it/s]\n"
     ]
    },
    {
     "name": "stdout",
     "output_type": "stream",
     "text": [
      "Adjusting learning rate of group 0 to 6.0151e-06.\n"
     ]
    },
    {
     "name": "stderr",
     "output_type": "stream",
     "text": [
      "Test Epoch 166/200, Test Loss: 1.654313978281888: 100%|██████████| 55/55 [00:00<00:00, 540.10it/s]\n",
      "Train Epoch 167/200, Train Loss: 0.0: 100%|██████████| 55/55 [00:00<00:00, 104.96it/s]\n"
     ]
    },
    {
     "name": "stdout",
     "output_type": "stream",
     "text": [
      "Adjusting learning rate of group 0 to 5.7143e-06.\n"
     ]
    },
    {
     "name": "stderr",
     "output_type": "stream",
     "text": [
      "Test Epoch 167/200, Test Loss: 1.6530759247866544: 100%|██████████| 55/55 [00:00<00:00, 557.67it/s]\n",
      "Train Epoch 168/200, Train Loss: 0.0: 100%|██████████| 55/55 [00:00<00:00, 87.72it/s]\n"
     ]
    },
    {
     "name": "stdout",
     "output_type": "stream",
     "text": [
      "Adjusting learning rate of group 0 to 5.4286e-06.\n"
     ]
    },
    {
     "name": "stderr",
     "output_type": "stream",
     "text": [
      "Test Epoch 168/200, Test Loss: 1.653229954025962: 100%|██████████| 55/55 [00:00<00:00, 454.84it/s]\n",
      "Train Epoch 169/200, Train Loss: 0.0: 100%|██████████| 55/55 [00:00<00:00, 102.80it/s]\n"
     ]
    },
    {
     "name": "stdout",
     "output_type": "stream",
     "text": [
      "Adjusting learning rate of group 0 to 5.1572e-06.\n"
     ]
    },
    {
     "name": "stderr",
     "output_type": "stream",
     "text": [
      "Test Epoch 169/200, Test Loss: 1.6536999702453614: 100%|██████████| 55/55 [00:00<00:00, 552.96it/s]\n",
      "Train Epoch 170/200, Train Loss: 0.0: 100%|██████████| 55/55 [00:00<00:00, 109.59it/s]\n"
     ]
    },
    {
     "name": "stdout",
     "output_type": "stream",
     "text": [
      "Adjusting learning rate of group 0 to 4.8993e-06.\n"
     ]
    },
    {
     "name": "stderr",
     "output_type": "stream",
     "text": [
      "Test Epoch 170/200, Test Loss: 1.6547930782491511: 100%|██████████| 55/55 [00:00<00:00, 578.31it/s]\n",
      "Train Epoch 171/200, Train Loss: 0.0: 100%|██████████| 55/55 [00:00<00:00, 113.80it/s]\n"
     ]
    },
    {
     "name": "stdout",
     "output_type": "stream",
     "text": [
      "Adjusting learning rate of group 0 to 4.6543e-06.\n"
     ]
    },
    {
     "name": "stderr",
     "output_type": "stream",
     "text": [
      "Test Epoch 171/200, Test Loss: 1.6533593329516325: 100%|██████████| 55/55 [00:00<00:00, 594.59it/s]\n",
      "Train Epoch 172/200, Train Loss: 0.0: 100%|██████████| 55/55 [00:00<00:00, 88.30it/s]\n"
     ]
    },
    {
     "name": "stdout",
     "output_type": "stream",
     "text": [
      "Adjusting learning rate of group 0 to 4.4216e-06.\n"
     ]
    },
    {
     "name": "stderr",
     "output_type": "stream",
     "text": [
      "Test Epoch 172/200, Test Loss: 1.6538340286775068: 100%|██████████| 55/55 [00:00<00:00, 452.12it/s]\n",
      "Train Epoch 173/200, Train Loss: 0.0: 100%|██████████| 55/55 [00:00<00:00, 100.21it/s]\n"
     ]
    },
    {
     "name": "stdout",
     "output_type": "stream",
     "text": [
      "Adjusting learning rate of group 0 to 4.2005e-06.\n"
     ]
    },
    {
     "name": "stderr",
     "output_type": "stream",
     "text": [
      "Test Epoch 173/200, Test Loss: 1.6519754214720292: 100%|██████████| 55/55 [00:00<00:00, 556.01it/s]\n",
      "Train Epoch 174/200, Train Loss: 0.0: 100%|██████████| 55/55 [00:00<00:00, 108.10it/s]\n"
     ]
    },
    {
     "name": "stdout",
     "output_type": "stream",
     "text": [
      "Adjusting learning rate of group 0 to 3.9905e-06.\n"
     ]
    },
    {
     "name": "stderr",
     "output_type": "stream",
     "text": [
      "Test Epoch 174/200, Test Loss: 1.6543946851383555: 100%|██████████| 55/55 [00:00<00:00, 552.98it/s]\n",
      "Train Epoch 175/200, Train Loss: 0.0: 100%|██████████| 55/55 [00:00<00:00, 113.65it/s]\n"
     ]
    },
    {
     "name": "stdout",
     "output_type": "stream",
     "text": [
      "Adjusting learning rate of group 0 to 3.7910e-06.\n"
     ]
    },
    {
     "name": "stderr",
     "output_type": "stream",
     "text": [
      "Test Epoch 175/200, Test Loss: 1.653351658040827: 100%|██████████| 55/55 [00:00<00:00, 577.49it/s]\n",
      "Train Epoch 176/200, Train Loss: 0.0: 100%|██████████| 55/55 [00:00<00:00, 90.68it/s] \n"
     ]
    },
    {
     "name": "stdout",
     "output_type": "stream",
     "text": [
      "Adjusting learning rate of group 0 to 3.6014e-06.\n"
     ]
    },
    {
     "name": "stderr",
     "output_type": "stream",
     "text": [
      "Test Epoch 176/200, Test Loss: 1.6539295738393611: 100%|██████████| 55/55 [00:00<00:00, 458.38it/s]\n",
      "Train Epoch 177/200, Train Loss: 0.0: 100%|██████████| 55/55 [00:00<00:00, 98.59it/s] \n"
     ]
    },
    {
     "name": "stdout",
     "output_type": "stream",
     "text": [
      "Adjusting learning rate of group 0 to 3.4214e-06.\n"
     ]
    },
    {
     "name": "stderr",
     "output_type": "stream",
     "text": [
      "Test Epoch 177/200, Test Loss: 1.6536133441058072: 100%|██████████| 55/55 [00:00<00:00, 544.29it/s]\n",
      "Train Epoch 178/200, Train Loss: 0.0: 100%|██████████| 55/55 [00:00<00:00, 110.60it/s]\n"
     ]
    },
    {
     "name": "stdout",
     "output_type": "stream",
     "text": [
      "Adjusting learning rate of group 0 to 3.2503e-06.\n"
     ]
    },
    {
     "name": "stderr",
     "output_type": "stream",
     "text": [
      "Test Epoch 178/200, Test Loss: 1.6543661551042037: 100%|██████████| 55/55 [00:00<00:00, 591.30it/s]\n",
      "Train Epoch 179/200, Train Loss: 0.0: 100%|██████████| 55/55 [00:00<00:00, 108.51it/s]\n"
     ]
    },
    {
     "name": "stdout",
     "output_type": "stream",
     "text": [
      "Adjusting learning rate of group 0 to 3.0878e-06.\n"
     ]
    },
    {
     "name": "stderr",
     "output_type": "stream",
     "text": [
      "Test Epoch 179/200, Test Loss: 1.6550858215852218: 100%|██████████| 55/55 [00:00<00:00, 558.70it/s]\n",
      "Train Epoch 180/200, Train Loss: 0.0: 100%|██████████| 55/55 [00:00<00:00, 96.98it/s] \n"
     ]
    },
    {
     "name": "stdout",
     "output_type": "stream",
     "text": [
      "Adjusting learning rate of group 0 to 2.9334e-06.\n"
     ]
    },
    {
     "name": "stderr",
     "output_type": "stream",
     "text": [
      "Test Epoch 180/200, Test Loss: 1.6537786028601906: 100%|██████████| 55/55 [00:00<00:00, 469.82it/s]\n",
      "Train Epoch 181/200, Train Loss: 0.0: 100%|██████████| 55/55 [00:00<00:00, 100.93it/s]\n"
     ]
    },
    {
     "name": "stdout",
     "output_type": "stream",
     "text": [
      "Adjusting learning rate of group 0 to 2.7867e-06.\n"
     ]
    },
    {
     "name": "stderr",
     "output_type": "stream",
     "text": [
      "Test Epoch 181/200, Test Loss: 1.6546295231038874: 100%|██████████| 55/55 [00:00<00:00, 558.38it/s]\n",
      "Train Epoch 182/200, Train Loss: 0.0: 100%|██████████| 55/55 [00:00<00:00, 108.65it/s]\n"
     ]
    },
    {
     "name": "stdout",
     "output_type": "stream",
     "text": [
      "Adjusting learning rate of group 0 to 2.6474e-06.\n"
     ]
    },
    {
     "name": "stderr",
     "output_type": "stream",
     "text": [
      "Test Epoch 182/200, Test Loss: 1.6527607115832241: 100%|██████████| 55/55 [00:00<00:00, 555.69it/s]\n",
      "Train Epoch 183/200, Train Loss: 0.0: 100%|██████████| 55/55 [00:00<00:00, 108.83it/s]\n"
     ]
    },
    {
     "name": "stdout",
     "output_type": "stream",
     "text": [
      "Adjusting learning rate of group 0 to 2.5150e-06.\n"
     ]
    },
    {
     "name": "stderr",
     "output_type": "stream",
     "text": [
      "Test Epoch 183/200, Test Loss: 1.6530539490959861: 100%|██████████| 55/55 [00:00<00:00, 561.44it/s]\n",
      "Train Epoch 184/200, Train Loss: 0.0: 100%|██████████| 55/55 [00:00<00:00, 106.77it/s]\n"
     ]
    },
    {
     "name": "stdout",
     "output_type": "stream",
     "text": [
      "Adjusting learning rate of group 0 to 2.3893e-06.\n"
     ]
    },
    {
     "name": "stderr",
     "output_type": "stream",
     "text": [
      "Test Epoch 184/200, Test Loss: 1.6537543621930209: 100%|██████████| 55/55 [00:00<00:00, 400.09it/s]\n",
      "Train Epoch 185/200, Train Loss: 0.0: 100%|██████████| 55/55 [00:00<00:00, 92.01it/s]\n"
     ]
    },
    {
     "name": "stdout",
     "output_type": "stream",
     "text": [
      "Adjusting learning rate of group 0 to 2.2698e-06.\n"
     ]
    },
    {
     "name": "stderr",
     "output_type": "stream",
     "text": [
      "Test Epoch 185/200, Test Loss: 1.6545909578149969: 100%|██████████| 55/55 [00:00<00:00, 502.12it/s]\n",
      "Train Epoch 186/200, Train Loss: 0.0: 100%|██████████| 55/55 [00:00<00:00, 105.69it/s]\n"
     ]
    },
    {
     "name": "stdout",
     "output_type": "stream",
     "text": [
      "Adjusting learning rate of group 0 to 2.1563e-06.\n"
     ]
    },
    {
     "name": "stderr",
     "output_type": "stream",
     "text": [
      "Test Epoch 186/200, Test Loss: 1.6528465682810003: 100%|██████████| 55/55 [00:00<00:00, 551.06it/s]\n",
      "Train Epoch 187/200, Train Loss: 0.0: 100%|██████████| 55/55 [00:00<00:00, 105.33it/s]\n"
     ]
    },
    {
     "name": "stdout",
     "output_type": "stream",
     "text": [
      "Adjusting learning rate of group 0 to 2.0485e-06.\n"
     ]
    },
    {
     "name": "stderr",
     "output_type": "stream",
     "text": [
      "Test Epoch 187/200, Test Loss: 1.6535814913836393: 100%|██████████| 55/55 [00:00<00:00, 542.41it/s]\n",
      "Train Epoch 188/200, Train Loss: 0.0: 100%|██████████| 55/55 [00:00<00:00, 107.99it/s]\n"
     ]
    },
    {
     "name": "stdout",
     "output_type": "stream",
     "text": [
      "Adjusting learning rate of group 0 to 1.9461e-06.\n"
     ]
    },
    {
     "name": "stderr",
     "output_type": "stream",
     "text": [
      "Test Epoch 188/200, Test Loss: 1.65354548367587: 100%|██████████| 55/55 [00:00<00:00, 402.50it/s]\n",
      "Train Epoch 189/200, Train Loss: 0.0: 100%|██████████| 55/55 [00:00<00:00, 91.87it/s]\n"
     ]
    },
    {
     "name": "stdout",
     "output_type": "stream",
     "text": [
      "Adjusting learning rate of group 0 to 1.8488e-06.\n"
     ]
    },
    {
     "name": "stderr",
     "output_type": "stream",
     "text": [
      "Test Epoch 189/200, Test Loss: 1.6525763056494973: 100%|██████████| 55/55 [00:00<00:00, 558.16it/s]\n",
      "Train Epoch 190/200, Train Loss: 0.0: 100%|██████████| 55/55 [00:00<00:00, 106.44it/s]\n"
     ]
    },
    {
     "name": "stdout",
     "output_type": "stream",
     "text": [
      "Adjusting learning rate of group 0 to 1.7563e-06.\n"
     ]
    },
    {
     "name": "stderr",
     "output_type": "stream",
     "text": [
      "Test Epoch 190/200, Test Loss: 1.654652324589816: 100%|██████████| 55/55 [00:00<00:00, 552.24it/s]\n",
      "Train Epoch 191/200, Train Loss: 0.0: 100%|██████████| 55/55 [00:00<00:00, 110.68it/s]\n"
     ]
    },
    {
     "name": "stdout",
     "output_type": "stream",
     "text": [
      "Adjusting learning rate of group 0 to 1.6685e-06.\n"
     ]
    },
    {
     "name": "stderr",
     "output_type": "stream",
     "text": [
      "Test Epoch 191/200, Test Loss: 1.6525311621752652: 100%|██████████| 55/55 [00:00<00:00, 573.86it/s]\n",
      "Train Epoch 192/200, Train Loss: 0.0: 100%|██████████| 55/55 [00:00<00:00, 107.87it/s]\n"
     ]
    },
    {
     "name": "stdout",
     "output_type": "stream",
     "text": [
      "Adjusting learning rate of group 0 to 1.5851e-06.\n"
     ]
    },
    {
     "name": "stderr",
     "output_type": "stream",
     "text": [
      "Test Epoch 192/200, Test Loss: 1.6541548663919623: 100%|██████████| 55/55 [00:00<00:00, 556.30it/s]\n",
      "Train Epoch 193/200, Train Loss: 0.0: 100%|██████████| 55/55 [00:00<00:00, 84.37it/s]\n"
     ]
    },
    {
     "name": "stdout",
     "output_type": "stream",
     "text": [
      "Adjusting learning rate of group 0 to 1.5058e-06.\n"
     ]
    },
    {
     "name": "stderr",
     "output_type": "stream",
     "text": [
      "Test Epoch 193/200, Test Loss: 1.6550283562053334: 100%|██████████| 55/55 [00:00<00:00, 449.81it/s]\n",
      "Train Epoch 194/200, Train Loss: 0.0: 100%|██████████| 55/55 [00:00<00:00, 102.21it/s]\n"
     ]
    },
    {
     "name": "stdout",
     "output_type": "stream",
     "text": [
      "Adjusting learning rate of group 0 to 1.4305e-06.\n"
     ]
    },
    {
     "name": "stderr",
     "output_type": "stream",
     "text": [
      "Test Epoch 194/200, Test Loss: 1.654405344616283: 100%|██████████| 55/55 [00:00<00:00, 552.34it/s]\n",
      "Train Epoch 195/200, Train Loss: 0.0: 100%|██████████| 55/55 [00:00<00:00, 108.74it/s]\n"
     ]
    },
    {
     "name": "stdout",
     "output_type": "stream",
     "text": [
      "Adjusting learning rate of group 0 to 1.3590e-06.\n"
     ]
    },
    {
     "name": "stderr",
     "output_type": "stream",
     "text": [
      "Test Epoch 195/200, Test Loss: 1.6536063302646984: 100%|██████████| 55/55 [00:00<00:00, 556.61it/s]\n",
      "Train Epoch 196/200, Train Loss: 0.0: 100%|██████████| 55/55 [00:00<00:00, 107.82it/s]\n"
     ]
    },
    {
     "name": "stdout",
     "output_type": "stream",
     "text": [
      "Adjusting learning rate of group 0 to 1.2911e-06.\n"
     ]
    },
    {
     "name": "stderr",
     "output_type": "stream",
     "text": [
      "Test Epoch 196/200, Test Loss: 1.6538691152225842: 100%|██████████| 55/55 [00:00<00:00, 553.03it/s]\n",
      "Train Epoch 197/200, Train Loss: 0.0: 100%|██████████| 55/55 [00:00<00:00, 95.23it/s] \n"
     ]
    },
    {
     "name": "stdout",
     "output_type": "stream",
     "text": [
      "Adjusting learning rate of group 0 to 1.2265e-06.\n"
     ]
    },
    {
     "name": "stderr",
     "output_type": "stream",
     "text": [
      "Test Epoch 197/200, Test Loss: 1.6539992614225907: 100%|██████████| 55/55 [00:00<00:00, 472.22it/s]\n",
      "Train Epoch 198/200, Train Loss: 0.0: 100%|██████████| 55/55 [00:00<00:00, 96.07it/s]\n"
     ]
    },
    {
     "name": "stdout",
     "output_type": "stream",
     "text": [
      "Adjusting learning rate of group 0 to 1.1652e-06.\n"
     ]
    },
    {
     "name": "stderr",
     "output_type": "stream",
     "text": [
      "Test Epoch 198/200, Test Loss: 1.6534036289561878: 100%|██████████| 55/55 [00:00<00:00, 557.93it/s]\n",
      "Train Epoch 199/200, Train Loss: 0.0: 100%|██████████| 55/55 [00:00<00:00, 105.78it/s]\n"
     ]
    },
    {
     "name": "stdout",
     "output_type": "stream",
     "text": [
      "Adjusting learning rate of group 0 to 1.1069e-06.\n"
     ]
    },
    {
     "name": "stderr",
     "output_type": "stream",
     "text": [
      "Test Epoch 199/200, Test Loss: 1.653675051168962: 100%|██████████| 55/55 [00:00<00:00, 481.12it/s]\n",
      "Train Epoch 200/200, Train Loss: 0.0: 100%|██████████| 55/55 [00:00<00:00, 96.86it/s] \n"
     ]
    },
    {
     "name": "stdout",
     "output_type": "stream",
     "text": [
      "Adjusting learning rate of group 0 to 1.0516e-06.\n"
     ]
    },
    {
     "name": "stderr",
     "output_type": "stream",
     "text": [
      "Test Epoch 200/200, Test Loss: 1.6536601435054432: 100%|██████████| 55/55 [00:00<00:00, 543.61it/s]\n"
     ]
    }
   ],
   "source": [
    "train_loss, val_loss = [], []\n",
    "for epoch in range(EPOCHS):\n",
    "    model.train()\n",
    "    \n",
    "    running_loss = 0.0\n",
    "    for idx, data in tqdm(enumerate(train_dataloader), total=len(train_dataloader), desc=f\"Train Epoch {epoch+1}/{EPOCHS}, Train Loss: {running_loss / len(train_dataloader)}\"):\n",
    "        X_data_1, X_data_2, y_data = data\n",
    "        X_data_1 = X_data_1.to(device).reshape(-1, 1)\n",
    "        X_data_2 = X_data_2.to(device).reshape(-1, 1)\n",
    "        y_data = y_data.to(device)\n",
    "        \n",
    "        optimizer.zero_grad()\n",
    "        y_pred = model(X_data_1, X_data_2).reshape(-1, 6)\n",
    "\n",
    "        loss = criterion(y_pred, y_data)\n",
    "        running_loss += loss.item()\n",
    "\n",
    "        loss.backward()\n",
    "        optimizer.step()\n",
    "    scheduler.step()\n",
    "    train_loss.append(running_loss / len(train_dataloader))\n",
    "\n",
    "    model.eval()\n",
    "    with torch.no_grad():\n",
    "        correct = 0\n",
    "        total = 0\n",
    "        for idx, data in tqdm(enumerate(test_dataloader), total=len(test_dataloader), desc=f\"Test Epoch {epoch+1}/{EPOCHS}, Test Loss: {running_loss / len(test_dataloader)}\"):\n",
    "            X_data_1, X_data_2, y_data = data \n",
    "            X_data_1 = X_data_1.to(device).reshape(-1, 1)\n",
    "            X_data_2 = X_data_2.to(device).reshape(-1, 1)\n",
    "            y_data = y_data.to(device)\n",
    "\n",
    "            y_pred = model(X_data_1, X_data_2).reshape(-1, 6)\n",
    "            loss = criterion(y_pred, y_data)\n",
    "            running_loss += loss.item()\n",
    "\n",
    "            _, predicted = torch.max(y_pred.data, 1)\n",
    "            _, y_true = torch.max(y_data.data, 1)\n",
    "            total += y_data.size(0)\n",
    "            correct += (predicted == y_true).sum().item()\n",
    "\n",
    "        val_loss.append(running_loss / len(test_dataloader))"
   ]
  },
  {
   "cell_type": "code",
   "execution_count": 13,
   "metadata": {},
   "outputs": [
    {
     "data": {
      "image/png": "[encoded data removed]",
      "text/plain": [
       "<Figure size 2000x1000 with 2 Axes>"
      ]
     },
     "metadata": {},
     "output_type": "display_data"
    }
   ],
   "source": [
    "plt.figure(figsize=(20, 10))\n",
    "\n",
    "plt.subplot(1, 2, 1)\n",
    "plt.title(\"Test Loss\")\n",
    "plt.plot(val_loss, label='test loss', color='red', linewidth=2)\n",
    "plt.xlabel('Epochs')\n",
    "plt.ylabel('Loss')\n",
    "plt.grid(True)\n",
    "\n",
    "plt.subplot(1, 2, 2)\n",
    "plt.title(\"Train Loss\")\n",
    "plt.plot(train_loss, label='train loss', color='blue', linewidth=2)\n",
    "plt.xlabel('Epochs')\n",
    "plt.ylabel('Loss')\n",
    "plt.grid(True)\n",
    "\n",
    "plt.show()"
   ]
  },
  {
   "cell_type": "markdown",
   "metadata": {},
   "source": [
    "# Evaluation"
   ]
  },
  {
   "cell_type": "code",
   "execution_count": 14,
   "metadata": {},
   "outputs": [
    {
     "data": {
      "text/plain": [
       "Model(\n",
       "  (input_linear_1): Linear(in_features=1, out_features=64, bias=True)\n",
       "  (input_linear_2): Linear(in_features=1, out_features=64, bias=True)\n",
       "  (gru_1): GRU(64, 64, batch_first=True)\n",
       "  (gru_2): GRU(64, 64, batch_first=True)\n",
       "  (output_linear): Linear(in_features=128, out_features=6, bias=True)\n",
       ")"
      ]
     },
     "execution_count": 14,
     "metadata": {},
     "output_type": "execute_result"
    }
   ],
   "source": [
    "model.eval()"
   ]
  },
  {
   "cell_type": "code",
   "execution_count": 22,
   "metadata": {},
   "outputs": [],
   "source": [
    "y_pred = model(X_data_1, X_data_2).detach().numpy()"
   ]
  },
  {
   "cell_type": "code",
   "execution_count": 24,
   "metadata": {},
   "outputs": [
    {
     "name": "stdout",
     "output_type": "stream",
     "text": [
      "y_pred Shape: (15, 6)\n",
      "y_test Shape: torch.Size([15, 6])\n"
     ]
    }
   ],
   "source": [
    "print(f\"\"\"y_pred Shape: {y_pred.shape}\n",
    "y_test Shape: {y_data.shape}\"\"\")"
   ]
  },
  {
   "cell_type": "code",
   "execution_count": 26,
   "metadata": {},
   "outputs": [
    {
     "name": "stdout",
     "output_type": "stream",
     "text": [
      "MSE Loss:  0.5527331\n"
     ]
    }
   ],
   "source": [
    "mse_loss = mean_squared_error(y_data, y_pred)\n",
    "print(\"MSE Loss: \", mse_loss)"
   ]
  },
  {
   "cell_type": "code",
   "execution_count": 28,
   "metadata": {},
   "outputs": [
    {
     "name": "stdout",
     "output_type": "stream",
     "text": [
      "              precision    recall  f1-score   support\n",
      "\n",
      "           0       0.27      0.75      0.40         4\n",
      "           1       0.00      0.00      0.00         2\n",
      "           2       0.50      0.40      0.44         5\n",
      "           3       0.00      0.00      0.00         2\n",
      "           4       0.00      0.00      0.00         1\n",
      "           5       0.00      0.00      0.00         1\n",
      "\n",
      "    accuracy                           0.33        15\n",
      "   macro avg       0.13      0.19      0.14        15\n",
      "weighted avg       0.24      0.33      0.25        15\n",
      "\n"
     ]
    },
    {
     "name": "stderr",
     "output_type": "stream",
     "text": [
      "/Users/bahk_insung/miniconda3/lib/python3.10/site-packages/sklearn/metrics/_classification.py:1344: UndefinedMetricWarning: Precision and F-score are ill-defined and being set to 0.0 in labels with no predicted samples. Use `zero_division` parameter to control this behavior.\n",
      "  _warn_prf(average, modifier, msg_start, len(result))\n",
      "/Users/bahk_insung/miniconda3/lib/python3.10/site-packages/sklearn/metrics/_classification.py:1344: UndefinedMetricWarning: Precision and F-score are ill-defined and being set to 0.0 in labels with no predicted samples. Use `zero_division` parameter to control this behavior.\n",
      "  _warn_prf(average, modifier, msg_start, len(result))\n",
      "/Users/bahk_insung/miniconda3/lib/python3.10/site-packages/sklearn/metrics/_classification.py:1344: UndefinedMetricWarning: Precision and F-score are ill-defined and being set to 0.0 in labels with no predicted samples. Use `zero_division` parameter to control this behavior.\n",
      "  _warn_prf(average, modifier, msg_start, len(result))\n"
     ]
    }
   ],
   "source": [
    "y_test_arg = np.argmax(y_data, axis=1)\n",
    "y_pred_arg = np.argmax(y_pred, axis=1)\n",
    "print(classification_report(y_test_arg, y_pred_arg))"
   ]
  },
  {
   "cell_type": "code",
   "execution_count": 29,
   "metadata": {},
   "outputs": [
    {
     "data": {
      "image/png": "[encoded data removed]",
      "text/plain": [
       "<Figure size 1000x1000 with 1 Axes>"
      ]
     },
     "metadata": {},
     "output_type": "display_data"
    }
   ],
   "source": [
    "conf_mat = confusion_matrix(y_test_arg, y_pred_arg)\n",
    "\n",
    "plt.figure(figsize=(10, 10))\n",
    "sns.heatmap(conf_mat, annot=True, fmt='d', cmap=plt.cm.Blues, cbar=False)\n",
    "plt.title('Confusion Matrix')\n",
    "plt.xlabel('Predicted Label')\n",
    "plt.ylabel('True Label')\n",
    "plt.show()"
   ]
  },
  {
   "cell_type": "code",
   "execution_count": null,
   "metadata": {},
   "outputs": [],
   "source": []
  }
 ],
 "metadata": {
  "kernelspec": {
   "display_name": "base",
   "language": "python",
   "name": "python3"
  },
  "language_info": {
   "codemirror_mode": {
    "name": "ipython",
    "version": 3
   },
   "file_extension": ".py",
   "mimetype": "text/x-python",
   "name": "python",
   "nbconvert_exporter": "python",
   "pygments_lexer": "ipython3",
   "version": "3.10.9"
  },
  "orig_nbformat": 4
 },
 "nbformat": 4,
 "nbformat_minor": 2
}
