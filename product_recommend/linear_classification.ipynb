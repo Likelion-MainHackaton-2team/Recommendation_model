{
 "cells": [
  {
   "cell_type": "code",
   "execution_count": 1,
   "metadata": {},
   "outputs": [],
   "source": [
    "from sklearn.preprocessing import OneHotEncoder, LabelEncoder\n",
    "\n",
    "from sklearn.model_selection import train_test_split\n",
    "from sklearn.metrics import classification_report\n",
    "from sklearn.metrics import mean_squared_error\n",
    "from sklearn.metrics import confusion_matrix\n",
    "from sklearn.metrics import accuracy_score\n",
    "from sklearn.metrics import r2_score\n",
    "\n",
    "from tqdm import tqdm\n",
    "\n",
    "import matplotlib.pyplot as plt\n",
    "import seaborn as sns\n",
    "import pandas as pd\n",
    "import numpy as np\n",
    "import random\n",
    "\n",
    "from torch.utils.data import Dataset, DataLoader\n",
    "from torchsummary import summary\n",
    "\n",
    "import torch.nn.functional as F\n",
    "import torch.optim as optim\n",
    "import torch.nn as nn\n",
    "import torch\n",
    "\n",
    "DATA_PATH = \"./data/processed_dataset.csv\""
   ]
  },
  {
   "cell_type": "code",
   "execution_count": 2,
   "metadata": {},
   "outputs": [],
   "source": [
    "device = torch.device('cpu')"
   ]
  },
  {
   "cell_type": "markdown",
   "metadata": {},
   "source": [
    "# Read data"
   ]
  },
  {
   "cell_type": "code",
   "execution_count": 3,
   "metadata": {},
   "outputs": [
    {
     "data": {
      "text/html": [
       "<div>\n",
       "<style scoped>\n",
       "    .dataframe tbody tr th:only-of-type {\n",
       "        vertical-align: middle;\n",
       "    }\n",
       "\n",
       "    .dataframe tbody tr th {\n",
       "        vertical-align: top;\n",
       "    }\n",
       "\n",
       "    .dataframe thead th {\n",
       "        text-align: right;\n",
       "    }\n",
       "</style>\n",
       "<table border=\"1\" class=\"dataframe\">\n",
       "  <thead>\n",
       "    <tr style=\"text-align: right;\">\n",
       "      <th></th>\n",
       "      <th>product_category</th>\n",
       "      <th>pet_size</th>\n",
       "      <th>pet_type</th>\n",
       "    </tr>\n",
       "    <tr>\n",
       "      <th>product_id</th>\n",
       "      <th></th>\n",
       "      <th></th>\n",
       "      <th></th>\n",
       "    </tr>\n",
       "  </thead>\n",
       "  <tbody>\n",
       "    <tr>\n",
       "      <th>5040</th>\n",
       "      <td>0</td>\n",
       "      <td>0</td>\n",
       "      <td>0</td>\n",
       "    </tr>\n",
       "    <tr>\n",
       "      <th>4567</th>\n",
       "      <td>1</td>\n",
       "      <td>0</td>\n",
       "      <td>1</td>\n",
       "    </tr>\n",
       "    <tr>\n",
       "      <th>4237</th>\n",
       "      <td>1</td>\n",
       "      <td>0</td>\n",
       "      <td>2</td>\n",
       "    </tr>\n",
       "    <tr>\n",
       "      <th>4364</th>\n",
       "      <td>2</td>\n",
       "      <td>1</td>\n",
       "      <td>3</td>\n",
       "    </tr>\n",
       "    <tr>\n",
       "      <th>4184</th>\n",
       "      <td>3</td>\n",
       "      <td>1</td>\n",
       "      <td>3</td>\n",
       "    </tr>\n",
       "  </tbody>\n",
       "</table>\n",
       "</div>"
      ],
      "text/plain": [
       "            product_category  pet_size  pet_type\n",
       "product_id                                      \n",
       "5040                       0         0         0\n",
       "4567                       1         0         1\n",
       "4237                       1         0         2\n",
       "4364                       2         1         3\n",
       "4184                       3         1         3"
      ]
     },
     "execution_count": 3,
     "metadata": {},
     "output_type": "execute_result"
    }
   ],
   "source": [
    "datasheet = pd.read_csv(DATA_PATH, sep=\",\", index_col=0)\n",
    "datasheet.head()"
   ]
  },
  {
   "cell_type": "code",
   "execution_count": 4,
   "metadata": {},
   "outputs": [],
   "source": [
    "y_data = datasheet.iloc[:, 0]\n",
    "X_data_1 = datasheet.iloc[:, 1].to_numpy().astype(np.float32)\n",
    "X_data_2 = datasheet.iloc[:, 2].to_numpy().astype(np.float32)"
   ]
  },
  {
   "cell_type": "markdown",
   "metadata": {},
   "source": [
    "# Train, Test(Validation) Split"
   ]
  },
  {
   "cell_type": "code",
   "execution_count": 5,
   "metadata": {},
   "outputs": [
    {
     "name": "stdout",
     "output_type": "stream",
     "text": [
      "X_data 1 shape: (879,)\n",
      "X_data 2 shape: (879,)\n",
      "y_data shape: (879, 6)\n"
     ]
    }
   ],
   "source": [
    "onehot_encoder = OneHotEncoder()\n",
    "\n",
    "y_data = y_data.to_numpy().astype(np.float32)\n",
    "y_data = onehot_encoder.fit_transform(y_data.reshape(-1, 1)).astype(np.float32).toarray()\n",
    "\n",
    "print(f\"\"\"X_data 1 shape: {X_data_1.shape}\n",
    "X_data 2 shape: {X_data_2.shape}\n",
    "y_data shape: {y_data.shape}\"\"\")"
   ]
  },
  {
   "cell_type": "markdown",
   "metadata": {},
   "source": [
    "# Datasets & DataLoader"
   ]
  },
  {
   "cell_type": "code",
   "execution_count": 6,
   "metadata": {},
   "outputs": [],
   "source": [
    "BATCH_SIZE = 32"
   ]
  },
  {
   "cell_type": "code",
   "execution_count": 7,
   "metadata": {},
   "outputs": [],
   "source": [
    "class CustomDataset(Dataset):\n",
    "    def __init__(self, X_data_1, X_data_2, y_data):\n",
    "        self.X_data_1 = X_data_1\n",
    "        self.X_data_2 = X_data_2\n",
    "        self.y_data = y_data\n",
    "\n",
    "    def __getitem__(self, index):\n",
    "        X_1 = self.X_data_1[index]\n",
    "        X_2 = self.X_data_2[index]\n",
    "        y = self.y_data[index]\n",
    "        return X_1, X_2, y\n",
    "\n",
    "    def __len__(self):\n",
    "        return len(self.X_data_1)"
   ]
  },
  {
   "cell_type": "code",
   "execution_count": 8,
   "metadata": {},
   "outputs": [],
   "source": [
    "train_dataset = CustomDataset(X_data_1, X_data_2, y_data)\n",
    "train_dataloader = DataLoader(train_dataset, batch_size=BATCH_SIZE, shuffle=True)\n",
    "\n",
    "test_dataset = CustomDataset(X_data_1, X_data_2, y_data)\n",
    "test_dataloader = DataLoader(test_dataset, batch_size=BATCH_SIZE, shuffle=True)"
   ]
  },
  {
   "cell_type": "markdown",
   "metadata": {},
   "source": [
    "# Model"
   ]
  },
  {
   "cell_type": "code",
   "execution_count": 20,
   "metadata": {},
   "outputs": [
    {
     "name": "stdout",
     "output_type": "stream",
     "text": [
      "----------------------------------------------------------------\n",
      "        Layer (type)               Output Shape         Param #\n",
      "================================================================\n",
      "            Linear-1                   [-1, 32]              64\n",
      "            Linear-2                   [-1, 64]           2,112\n",
      "            Linear-3                  [-1, 128]           8,320\n",
      "            Linear-4                  [-1, 256]          33,024\n",
      "            Linear-5                  [-1, 512]         131,584\n",
      "            Linear-6                   [-1, 32]              64\n",
      "            Linear-7                   [-1, 64]           2,112\n",
      "            Linear-8                  [-1, 128]           8,320\n",
      "            Linear-9                  [-1, 256]          33,024\n",
      "           Linear-10                  [-1, 512]         131,584\n",
      "           Linear-11                  [-1, 256]         262,400\n",
      "           Linear-12                   [-1, 32]           8,224\n",
      "           Linear-13                    [-1, 6]             198\n",
      "================================================================\n",
      "Total params: 621,030\n",
      "Trainable params: 621,030\n",
      "Non-trainable params: 0\n",
      "----------------------------------------------------------------\n",
      "Input size (MB): 0.00\n",
      "Forward/backward pass size (MB): 0.02\n",
      "Params size (MB): 2.37\n",
      "Estimated Total Size (MB): 2.39\n",
      "----------------------------------------------------------------\n"
     ]
    }
   ],
   "source": [
    "class Model(nn.Module):\n",
    "    def __init__(self, input_dim, output_dim):\n",
    "        super(Model, self).__init__()\n",
    "        self.input_dim = input_dim\n",
    "        self.output_dim = output_dim\n",
    "\n",
    "\n",
    "        self.input_linear_1 = nn.Linear(self.input_dim, 32)\n",
    "        self.input_linear_1_1 = nn.Linear(32, 64)\n",
    "        self.input_linear_1_2 = nn.Linear(64, 128)\n",
    "        self.input_linear_1_3 = nn.Linear(128, 256)\n",
    "        self.input_linear_1_4 = nn.Linear(256, 512)\n",
    "        # self.gru_1 = nn.GRU(512, 512, batch_first=True)\n",
    "        \n",
    "        self.input_linear_2 = nn.Linear(self.input_dim, 32)\n",
    "        self.input_linear_2_1 = nn.Linear(32, 64)\n",
    "        self.input_linear_2_2 = nn.Linear(64, 128)\n",
    "        self.input_linear_2_3 = nn.Linear(128, 256)\n",
    "        self.input_linear_2_4 = nn.Linear(256, 512)\n",
    "        # self.gru_2 = nn.GRU(512, 512, batch_first=True)\n",
    "\n",
    "        self.output_hidden_1 = nn.Linear(1024, 256)\n",
    "        self.output_hidden_2 = nn.Linear(256, 32)\n",
    "        self.output_linear = nn.Linear(32, self.output_dim)\n",
    "\n",
    "    def forward(self, x1, x2):\n",
    "        x1 = self.input_linear_1(x1)\n",
    "        x1 = self.input_linear_1_1(x1)\n",
    "        x1 = self.input_linear_1_2(x1)\n",
    "        x1 = self.input_linear_1_3(x1)\n",
    "        x1 = self.input_linear_1_4(x1)\n",
    "        # x1, _ = self.gru_1(x1)\n",
    "    \n",
    "        x2 = self.input_linear_2(x2)\n",
    "        x2 = self.input_linear_2_1(x2)\n",
    "        x2 = self.input_linear_2_2(x2)\n",
    "        x2 = self.input_linear_2_3(x2)\n",
    "        x2 = self.input_linear_2_4(x2)\n",
    "        # x2, _ = self.gru_2(x2)\n",
    "\n",
    "        x = torch.cat([x1, x2], dim=1)\n",
    "        x = F.relu(self.output_hidden_1(x))\n",
    "        x = F.relu(self.output_hidden_2(x))\n",
    "        x = self.output_linear(x)\n",
    "\n",
    "        return x\n",
    "    \n",
    "model = Model(1, 6).to(device)\n",
    "summary(model.to(device='cpu'), [(1,), (1,)])"
   ]
  },
  {
   "cell_type": "code",
   "execution_count": 21,
   "metadata": {},
   "outputs": [
    {
     "name": "stdout",
     "output_type": "stream",
     "text": [
      "Adjusting learning rate of group 0 to 3.0000e-02.\n"
     ]
    }
   ],
   "source": [
    "optimizer = optim.Adam(model.parameters(), lr=0.03)\n",
    "criterion = nn.CrossEntropyLoss()\n",
    "scheduler = optim.lr_scheduler.LambdaLR(\n",
    "    optimizer, \n",
    "    lr_lambda=lambda epoch: 0.95 ** epoch,\n",
    "    last_epoch=-1,\n",
    "    verbose=True\n",
    ")"
   ]
  },
  {
   "cell_type": "markdown",
   "metadata": {},
   "source": [
    "# Model Train & Validation"
   ]
  },
  {
   "cell_type": "code",
   "execution_count": 22,
   "metadata": {},
   "outputs": [],
   "source": [
    "EPOCHS = 100 "
   ]
  },
  {
   "cell_type": "code",
   "execution_count": 23,
   "metadata": {},
   "outputs": [
    {
     "name": "stderr",
     "output_type": "stream",
     "text": [
      "Train Epoch 1/100, Train Loss: 0.0: 100%|██████████| 28/28 [00:00<00:00, 140.60it/s]\n"
     ]
    },
    {
     "name": "stdout",
     "output_type": "stream",
     "text": [
      "Adjusting learning rate of group 0 to 2.8500e-02.\n"
     ]
    },
    {
     "name": "stderr",
     "output_type": "stream",
     "text": [
      "Test Epoch 1/100, Test Loss: 264.59000837802887: 100%|██████████| 28/28 [00:00<00:00, 1023.80it/s]\n",
      "Train Epoch 2/100, Train Loss: 0.0: 100%|██████████| 28/28 [00:00<00:00, 220.44it/s]\n"
     ]
    },
    {
     "name": "stdout",
     "output_type": "stream",
     "text": [
      "Adjusting learning rate of group 0 to 2.7075e-02.\n"
     ]
    },
    {
     "name": "stderr",
     "output_type": "stream",
     "text": [
      "Test Epoch 2/100, Test Loss: 2.161446826798575: 100%|██████████| 28/28 [00:00<00:00, 1148.96it/s]\n",
      "Train Epoch 3/100, Train Loss: 0.0: 100%|██████████| 28/28 [00:00<00:00, 225.57it/s]\n"
     ]
    },
    {
     "name": "stdout",
     "output_type": "stream",
     "text": [
      "Adjusting learning rate of group 0 to 2.5721e-02.\n"
     ]
    },
    {
     "name": "stderr",
     "output_type": "stream",
     "text": [
      "Test Epoch 3/100, Test Loss: 1.7012371122837067: 100%|██████████| 28/28 [00:00<00:00, 1168.71it/s]\n",
      "Train Epoch 4/100, Train Loss: 0.0: 100%|██████████| 28/28 [00:00<00:00, 222.97it/s]\n"
     ]
    },
    {
     "name": "stdout",
     "output_type": "stream",
     "text": [
      "Adjusting learning rate of group 0 to 2.4435e-02.\n"
     ]
    },
    {
     "name": "stderr",
     "output_type": "stream",
     "text": [
      "Test Epoch 4/100, Test Loss: 1.6903162854058402: 100%|██████████| 28/28 [00:00<00:00, 1165.29it/s]\n",
      "Train Epoch 5/100, Train Loss: 0.0: 100%|██████████| 28/28 [00:00<00:00, 225.36it/s]\n"
     ]
    },
    {
     "name": "stdout",
     "output_type": "stream",
     "text": [
      "Adjusting learning rate of group 0 to 2.3213e-02.\n"
     ]
    },
    {
     "name": "stderr",
     "output_type": "stream",
     "text": [
      "Test Epoch 5/100, Test Loss: 1.6852743838514601: 100%|██████████| 28/28 [00:00<00:00, 1177.11it/s]\n",
      "Train Epoch 6/100, Train Loss: 0.0: 100%|██████████| 28/28 [00:00<00:00, 224.67it/s]\n"
     ]
    },
    {
     "name": "stdout",
     "output_type": "stream",
     "text": [
      "Adjusting learning rate of group 0 to 2.2053e-02.\n"
     ]
    },
    {
     "name": "stderr",
     "output_type": "stream",
     "text": [
      "Test Epoch 6/100, Test Loss: 1.6855087918894631: 100%|██████████| 28/28 [00:00<00:00, 1167.05it/s]\n",
      "Train Epoch 7/100, Train Loss: 0.0: 100%|██████████| 28/28 [00:00<00:00, 210.42it/s]\n"
     ]
    },
    {
     "name": "stdout",
     "output_type": "stream",
     "text": [
      "Adjusting learning rate of group 0 to 2.0950e-02.\n"
     ]
    },
    {
     "name": "stderr",
     "output_type": "stream",
     "text": [
      "Test Epoch 7/100, Test Loss: 1.6867146321705409: 100%|██████████| 28/28 [00:00<00:00, 1186.14it/s]\n",
      "Train Epoch 8/100, Train Loss: 0.0: 100%|██████████| 28/28 [00:00<00:00, 220.58it/s]\n"
     ]
    },
    {
     "name": "stdout",
     "output_type": "stream",
     "text": [
      "Adjusting learning rate of group 0 to 1.9903e-02.\n"
     ]
    },
    {
     "name": "stderr",
     "output_type": "stream",
     "text": [
      "Test Epoch 8/100, Test Loss: 1.6839172754968916: 100%|██████████| 28/28 [00:00<00:00, 1133.15it/s]\n",
      "Train Epoch 9/100, Train Loss: 0.0: 100%|██████████| 28/28 [00:00<00:00, 209.10it/s]\n"
     ]
    },
    {
     "name": "stdout",
     "output_type": "stream",
     "text": [
      "Adjusting learning rate of group 0 to 1.8907e-02.\n"
     ]
    },
    {
     "name": "stderr",
     "output_type": "stream",
     "text": [
      "Test Epoch 9/100, Test Loss: 1.6846656458718436: 100%|██████████| 28/28 [00:00<00:00, 1211.49it/s]\n",
      "Train Epoch 10/100, Train Loss: 0.0: 100%|██████████| 28/28 [00:00<00:00, 223.26it/s]\n"
     ]
    },
    {
     "name": "stdout",
     "output_type": "stream",
     "text": [
      "Adjusting learning rate of group 0 to 1.7962e-02.\n"
     ]
    },
    {
     "name": "stderr",
     "output_type": "stream",
     "text": [
      "Test Epoch 10/100, Test Loss: 1.682278288262231: 100%|██████████| 28/28 [00:00<00:00, 986.50it/s]\n",
      "Train Epoch 11/100, Train Loss: 0.0: 100%|██████████| 28/28 [00:00<00:00, 224.82it/s]\n"
     ]
    },
    {
     "name": "stdout",
     "output_type": "stream",
     "text": [
      "Adjusting learning rate of group 0 to 1.7064e-02.\n"
     ]
    },
    {
     "name": "stderr",
     "output_type": "stream",
     "text": [
      "Test Epoch 11/100, Test Loss: 1.6852525302342005: 100%|██████████| 28/28 [00:00<00:00, 1190.77it/s]\n",
      "Train Epoch 12/100, Train Loss: 0.0: 100%|██████████| 28/28 [00:00<00:00, 174.79it/s]\n"
     ]
    },
    {
     "name": "stdout",
     "output_type": "stream",
     "text": [
      "Adjusting learning rate of group 0 to 1.6211e-02.\n"
     ]
    },
    {
     "name": "stderr",
     "output_type": "stream",
     "text": [
      "Test Epoch 12/100, Test Loss: 1.6879520842007227: 100%|██████████| 28/28 [00:00<00:00, 1201.56it/s]\n",
      "Train Epoch 13/100, Train Loss: 0.0: 100%|██████████| 28/28 [00:00<00:00, 227.49it/s]\n"
     ]
    },
    {
     "name": "stdout",
     "output_type": "stream",
     "text": [
      "Adjusting learning rate of group 0 to 1.5400e-02.\n"
     ]
    },
    {
     "name": "stderr",
     "output_type": "stream",
     "text": [
      "Test Epoch 13/100, Test Loss: 1.6875973216124944: 100%|██████████| 28/28 [00:00<00:00, 1199.40it/s]\n",
      "Train Epoch 14/100, Train Loss: 0.0: 100%|██████████| 28/28 [00:00<00:00, 228.75it/s]\n"
     ]
    },
    {
     "name": "stdout",
     "output_type": "stream",
     "text": [
      "Adjusting learning rate of group 0 to 1.4630e-02.\n"
     ]
    },
    {
     "name": "stderr",
     "output_type": "stream",
     "text": [
      "Test Epoch 14/100, Test Loss: 1.6826335276876176: 100%|██████████| 28/28 [00:00<00:00, 1187.90it/s]\n",
      "Train Epoch 15/100, Train Loss: 0.0: 100%|██████████| 28/28 [00:00<00:00, 226.29it/s]\n"
     ]
    },
    {
     "name": "stdout",
     "output_type": "stream",
     "text": [
      "Adjusting learning rate of group 0 to 1.3899e-02.\n"
     ]
    },
    {
     "name": "stderr",
     "output_type": "stream",
     "text": [
      "Test Epoch 15/100, Test Loss: 1.6849534170968192: 100%|██████████| 28/28 [00:00<00:00, 1163.91it/s]\n",
      "Train Epoch 16/100, Train Loss: 0.0: 100%|██████████| 28/28 [00:00<00:00, 228.83it/s]\n"
     ]
    },
    {
     "name": "stdout",
     "output_type": "stream",
     "text": [
      "Adjusting learning rate of group 0 to 1.3204e-02.\n"
     ]
    },
    {
     "name": "stderr",
     "output_type": "stream",
     "text": [
      "Test Epoch 16/100, Test Loss: 1.6921694150992803: 100%|██████████| 28/28 [00:00<00:00, 1233.41it/s]\n",
      "Train Epoch 17/100, Train Loss: 0.0: 100%|██████████| 28/28 [00:00<00:00, 227.44it/s]\n"
     ]
    },
    {
     "name": "stdout",
     "output_type": "stream",
     "text": [
      "Adjusting learning rate of group 0 to 1.2544e-02.\n"
     ]
    },
    {
     "name": "stderr",
     "output_type": "stream",
     "text": [
      "Test Epoch 17/100, Test Loss: 1.6829473205975123: 100%|██████████| 28/28 [00:00<00:00, 1122.24it/s]\n",
      "Train Epoch 18/100, Train Loss: 0.0: 100%|██████████| 28/28 [00:00<00:00, 180.99it/s]\n"
     ]
    },
    {
     "name": "stdout",
     "output_type": "stream",
     "text": [
      "Adjusting learning rate of group 0 to 1.1916e-02.\n"
     ]
    },
    {
     "name": "stderr",
     "output_type": "stream",
     "text": [
      "Test Epoch 18/100, Test Loss: 1.6815596180302756: 100%|██████████| 28/28 [00:00<00:00, 1002.91it/s]\n",
      "Train Epoch 19/100, Train Loss: 0.0: 100%|██████████| 28/28 [00:00<00:00, 195.23it/s]\n"
     ]
    },
    {
     "name": "stdout",
     "output_type": "stream",
     "text": [
      "Adjusting learning rate of group 0 to 1.1321e-02.\n"
     ]
    },
    {
     "name": "stderr",
     "output_type": "stream",
     "text": [
      "Test Epoch 19/100, Test Loss: 1.680348345211574: 100%|██████████| 28/28 [00:00<00:00, 1128.53it/s]\n",
      "Train Epoch 20/100, Train Loss: 0.0: 100%|██████████| 28/28 [00:00<00:00, 221.91it/s]\n"
     ]
    },
    {
     "name": "stdout",
     "output_type": "stream",
     "text": [
      "Adjusting learning rate of group 0 to 1.0755e-02.\n"
     ]
    },
    {
     "name": "stderr",
     "output_type": "stream",
     "text": [
      "Test Epoch 20/100, Test Loss: 1.6846853154046195: 100%|██████████| 28/28 [00:00<00:00, 1139.91it/s]\n",
      "Train Epoch 21/100, Train Loss: 0.0: 100%|██████████| 28/28 [00:00<00:00, 223.27it/s]\n"
     ]
    },
    {
     "name": "stdout",
     "output_type": "stream",
     "text": [
      "Adjusting learning rate of group 0 to 1.0217e-02.\n"
     ]
    },
    {
     "name": "stderr",
     "output_type": "stream",
     "text": [
      "Test Epoch 21/100, Test Loss: 1.687376252242497: 100%|██████████| 28/28 [00:00<00:00, 1104.75it/s]\n",
      "Train Epoch 22/100, Train Loss: 0.0: 100%|██████████| 28/28 [00:00<00:00, 158.45it/s]\n"
     ]
    },
    {
     "name": "stdout",
     "output_type": "stream",
     "text": [
      "Adjusting learning rate of group 0 to 9.7060e-03.\n"
     ]
    },
    {
     "name": "stderr",
     "output_type": "stream",
     "text": [
      "Test Epoch 22/100, Test Loss: 1.6833704284259252: 100%|██████████| 28/28 [00:00<00:00, 1096.31it/s]\n",
      "Train Epoch 23/100, Train Loss: 0.0: 100%|██████████| 28/28 [00:00<00:00, 216.75it/s]\n"
     ]
    },
    {
     "name": "stdout",
     "output_type": "stream",
     "text": [
      "Adjusting learning rate of group 0 to 9.2207e-03.\n"
     ]
    },
    {
     "name": "stderr",
     "output_type": "stream",
     "text": [
      "Test Epoch 23/100, Test Loss: 1.6823709607124329: 100%|██████████| 28/28 [00:00<00:00, 1042.60it/s]\n",
      "Train Epoch 24/100, Train Loss: 0.0: 100%|██████████| 28/28 [00:00<00:00, 219.50it/s]\n"
     ]
    },
    {
     "name": "stdout",
     "output_type": "stream",
     "text": [
      "Adjusting learning rate of group 0 to 8.7597e-03.\n"
     ]
    },
    {
     "name": "stderr",
     "output_type": "stream",
     "text": [
      "Test Epoch 24/100, Test Loss: 1.6812430960791451: 100%|██████████| 28/28 [00:00<00:00, 1172.18it/s]\n",
      "Train Epoch 25/100, Train Loss: 0.0: 100%|██████████| 28/28 [00:00<00:00, 222.80it/s]\n"
     ]
    },
    {
     "name": "stdout",
     "output_type": "stream",
     "text": [
      "Adjusting learning rate of group 0 to 8.3217e-03.\n"
     ]
    },
    {
     "name": "stderr",
     "output_type": "stream",
     "text": [
      "Test Epoch 25/100, Test Loss: 1.6828414329460688: 100%|██████████| 28/28 [00:00<00:00, 1177.11it/s]\n",
      "Train Epoch 26/100, Train Loss: 0.0: 100%|██████████| 28/28 [00:00<00:00, 223.17it/s]\n"
     ]
    },
    {
     "name": "stdout",
     "output_type": "stream",
     "text": [
      "Adjusting learning rate of group 0 to 7.9056e-03.\n"
     ]
    },
    {
     "name": "stderr",
     "output_type": "stream",
     "text": [
      "Test Epoch 26/100, Test Loss: 1.6885686474187034: 100%|██████████| 28/28 [00:00<00:00, 443.26it/s]\n",
      "Train Epoch 27/100, Train Loss: 0.0: 100%|██████████| 28/28 [00:00<00:00, 219.48it/s]\n"
     ]
    },
    {
     "name": "stdout",
     "output_type": "stream",
     "text": [
      "Adjusting learning rate of group 0 to 7.5103e-03.\n"
     ]
    },
    {
     "name": "stderr",
     "output_type": "stream",
     "text": [
      "Test Epoch 27/100, Test Loss: 1.68342758502279: 100%|██████████| 28/28 [00:00<00:00, 1183.04it/s]\n",
      "Train Epoch 28/100, Train Loss: 0.0: 100%|██████████| 28/28 [00:00<00:00, 198.67it/s]\n"
     ]
    },
    {
     "name": "stdout",
     "output_type": "stream",
     "text": [
      "Adjusting learning rate of group 0 to 7.1348e-03.\n"
     ]
    },
    {
     "name": "stderr",
     "output_type": "stream",
     "text": [
      "Test Epoch 28/100, Test Loss: 1.687047392129898: 100%|██████████| 28/28 [00:00<00:00, 855.10it/s]\n",
      "Train Epoch 29/100, Train Loss: 0.0: 100%|██████████| 28/28 [00:00<00:00, 187.75it/s]\n"
     ]
    },
    {
     "name": "stdout",
     "output_type": "stream",
     "text": [
      "Adjusting learning rate of group 0 to 6.7781e-03.\n"
     ]
    },
    {
     "name": "stderr",
     "output_type": "stream",
     "text": [
      "Test Epoch 29/100, Test Loss: 1.6833264189107078: 100%|██████████| 28/28 [00:00<00:00, 916.19it/s]\n",
      "Train Epoch 30/100, Train Loss: 0.0: 100%|██████████| 28/28 [00:00<00:00, 209.53it/s]\n"
     ]
    },
    {
     "name": "stdout",
     "output_type": "stream",
     "text": [
      "Adjusting learning rate of group 0 to 6.4392e-03.\n"
     ]
    },
    {
     "name": "stderr",
     "output_type": "stream",
     "text": [
      "Test Epoch 30/100, Test Loss: 1.6807129085063934: 100%|██████████| 28/28 [00:00<00:00, 875.23it/s]\n",
      "Train Epoch 31/100, Train Loss: 0.0: 100%|██████████| 28/28 [00:00<00:00, 186.45it/s]\n"
     ]
    },
    {
     "name": "stdout",
     "output_type": "stream",
     "text": [
      "Adjusting learning rate of group 0 to 6.1172e-03.\n"
     ]
    },
    {
     "name": "stderr",
     "output_type": "stream",
     "text": [
      "Test Epoch 31/100, Test Loss: 1.6825323573180608: 100%|██████████| 28/28 [00:00<00:00, 1060.97it/s]\n",
      "Train Epoch 32/100, Train Loss: 0.0: 100%|██████████| 28/28 [00:00<00:00, 185.70it/s]\n"
     ]
    },
    {
     "name": "stdout",
     "output_type": "stream",
     "text": [
      "Adjusting learning rate of group 0 to 5.8113e-03.\n"
     ]
    },
    {
     "name": "stderr",
     "output_type": "stream",
     "text": [
      "Test Epoch 32/100, Test Loss: 1.6832146772316523: 100%|██████████| 28/28 [00:00<00:00, 951.19it/s]\n",
      "Train Epoch 33/100, Train Loss: 0.0: 100%|██████████| 28/28 [00:00<00:00, 195.04it/s]\n"
     ]
    },
    {
     "name": "stdout",
     "output_type": "stream",
     "text": [
      "Adjusting learning rate of group 0 to 5.5208e-03.\n"
     ]
    },
    {
     "name": "stderr",
     "output_type": "stream",
     "text": [
      "Test Epoch 33/100, Test Loss: 1.681653150490352: 100%|██████████| 28/28 [00:00<00:00, 1049.39it/s]\n",
      "Train Epoch 34/100, Train Loss: 0.0: 100%|██████████| 28/28 [00:00<00:00, 205.72it/s]\n"
     ]
    },
    {
     "name": "stdout",
     "output_type": "stream",
     "text": [
      "Adjusting learning rate of group 0 to 5.2447e-03.\n"
     ]
    },
    {
     "name": "stderr",
     "output_type": "stream",
     "text": [
      "Test Epoch 34/100, Test Loss: 1.679747257913862: 100%|██████████| 28/28 [00:00<00:00, 1136.96it/s]\n",
      "Train Epoch 35/100, Train Loss: 0.0: 100%|██████████| 28/28 [00:00<00:00, 185.32it/s]\n"
     ]
    },
    {
     "name": "stdout",
     "output_type": "stream",
     "text": [
      "Adjusting learning rate of group 0 to 4.9825e-03.\n"
     ]
    },
    {
     "name": "stderr",
     "output_type": "stream",
     "text": [
      "Test Epoch 35/100, Test Loss: 1.6848637887409754: 100%|██████████| 28/28 [00:00<00:00, 234.67it/s]\n",
      "Train Epoch 36/100, Train Loss: 0.0: 100%|██████████| 28/28 [00:00<00:00, 47.10it/s] \n"
     ]
    },
    {
     "name": "stdout",
     "output_type": "stream",
     "text": [
      "Adjusting learning rate of group 0 to 4.7334e-03.\n"
     ]
    },
    {
     "name": "stderr",
     "output_type": "stream",
     "text": [
      "Test Epoch 36/100, Test Loss: 1.6848053421292986: 100%|██████████| 28/28 [00:00<00:00, 615.29it/s]\n",
      "Train Epoch 37/100, Train Loss: 0.0: 100%|██████████| 28/28 [00:00<00:00, 160.26it/s]\n"
     ]
    },
    {
     "name": "stdout",
     "output_type": "stream",
     "text": [
      "Adjusting learning rate of group 0 to 4.4967e-03.\n"
     ]
    },
    {
     "name": "stderr",
     "output_type": "stream",
     "text": [
      "Test Epoch 37/100, Test Loss: 1.6827111286776406: 100%|██████████| 28/28 [00:00<00:00, 1021.75it/s]\n",
      "Train Epoch 38/100, Train Loss: 0.0: 100%|██████████| 28/28 [00:00<00:00, 200.31it/s]\n"
     ]
    },
    {
     "name": "stdout",
     "output_type": "stream",
     "text": [
      "Adjusting learning rate of group 0 to 4.2719e-03.\n"
     ]
    },
    {
     "name": "stderr",
     "output_type": "stream",
     "text": [
      "Test Epoch 38/100, Test Loss: 1.6831540848527635: 100%|██████████| 28/28 [00:00<00:00, 811.03it/s]\n",
      "Train Epoch 39/100, Train Loss: 0.0: 100%|██████████| 28/28 [00:00<00:00, 189.92it/s]\n"
     ]
    },
    {
     "name": "stdout",
     "output_type": "stream",
     "text": [
      "Adjusting learning rate of group 0 to 4.0583e-03.\n"
     ]
    },
    {
     "name": "stderr",
     "output_type": "stream",
     "text": [
      "Test Epoch 39/100, Test Loss: 1.6838298865727015: 100%|██████████| 28/28 [00:00<00:00, 1168.90it/s]\n",
      "Train Epoch 40/100, Train Loss: 0.0: 100%|██████████| 28/28 [00:00<00:00, 224.40it/s]\n"
     ]
    },
    {
     "name": "stdout",
     "output_type": "stream",
     "text": [
      "Adjusting learning rate of group 0 to 3.8554e-03.\n"
     ]
    },
    {
     "name": "stderr",
     "output_type": "stream",
     "text": [
      "Test Epoch 40/100, Test Loss: 1.681604538645063: 100%|██████████| 28/28 [00:00<00:00, 831.01it/s]\n",
      "Train Epoch 41/100, Train Loss: 0.0: 100%|██████████| 28/28 [00:00<00:00, 168.11it/s]\n"
     ]
    },
    {
     "name": "stdout",
     "output_type": "stream",
     "text": [
      "Adjusting learning rate of group 0 to 3.6626e-03.\n"
     ]
    },
    {
     "name": "stderr",
     "output_type": "stream",
     "text": [
      "Test Epoch 41/100, Test Loss: 1.6822869990553175: 100%|██████████| 28/28 [00:00<00:00, 751.52it/s]\n",
      "Train Epoch 42/100, Train Loss: 0.0: 100%|██████████| 28/28 [00:00<00:00, 190.29it/s]\n"
     ]
    },
    {
     "name": "stdout",
     "output_type": "stream",
     "text": [
      "Adjusting learning rate of group 0 to 3.4795e-03.\n"
     ]
    },
    {
     "name": "stderr",
     "output_type": "stream",
     "text": [
      "Test Epoch 42/100, Test Loss: 1.6831711190087455: 100%|██████████| 28/28 [00:00<00:00, 1059.27it/s]\n",
      "Train Epoch 43/100, Train Loss: 0.0: 100%|██████████| 28/28 [00:00<00:00, 187.28it/s]\n"
     ]
    },
    {
     "name": "stdout",
     "output_type": "stream",
     "text": [
      "Adjusting learning rate of group 0 to 3.3055e-03.\n"
     ]
    },
    {
     "name": "stderr",
     "output_type": "stream",
     "text": [
      "Test Epoch 43/100, Test Loss: 1.6831483713218145: 100%|██████████| 28/28 [00:00<00:00, 962.64it/s]\n",
      "Train Epoch 44/100, Train Loss: 0.0: 100%|██████████| 28/28 [00:00<00:00, 187.10it/s]\n"
     ]
    },
    {
     "name": "stdout",
     "output_type": "stream",
     "text": [
      "Adjusting learning rate of group 0 to 3.1402e-03.\n"
     ]
    },
    {
     "name": "stderr",
     "output_type": "stream",
     "text": [
      "Test Epoch 44/100, Test Loss: 1.6838804355689458: 100%|██████████| 28/28 [00:00<00:00, 786.14it/s]\n",
      "Train Epoch 45/100, Train Loss: 0.0: 100%|██████████| 28/28 [00:00<00:00, 197.19it/s]\n"
     ]
    },
    {
     "name": "stdout",
     "output_type": "stream",
     "text": [
      "Adjusting learning rate of group 0 to 2.9832e-03.\n"
     ]
    },
    {
     "name": "stderr",
     "output_type": "stream",
     "text": [
      "Test Epoch 45/100, Test Loss: 1.6839127455438887: 100%|██████████| 28/28 [00:00<00:00, 1118.84it/s]\n",
      "Train Epoch 46/100, Train Loss: 0.0: 100%|██████████| 28/28 [00:00<00:00, 213.00it/s]\n"
     ]
    },
    {
     "name": "stdout",
     "output_type": "stream",
     "text": [
      "Adjusting learning rate of group 0 to 2.8340e-03.\n"
     ]
    },
    {
     "name": "stderr",
     "output_type": "stream",
     "text": [
      "Test Epoch 46/100, Test Loss: 1.6832048978124345: 100%|██████████| 28/28 [00:00<00:00, 1193.32it/s]\n",
      "Train Epoch 47/100, Train Loss: 0.0: 100%|██████████| 28/28 [00:00<00:00, 227.68it/s]\n"
     ]
    },
    {
     "name": "stdout",
     "output_type": "stream",
     "text": [
      "Adjusting learning rate of group 0 to 2.6923e-03.\n"
     ]
    },
    {
     "name": "stderr",
     "output_type": "stream",
     "text": [
      "Test Epoch 47/100, Test Loss: 1.6869340070656367: 100%|██████████| 28/28 [00:00<00:00, 1175.18it/s]\n",
      "Train Epoch 48/100, Train Loss: 0.0: 100%|██████████| 28/28 [00:00<00:00, 227.96it/s]\n"
     ]
    },
    {
     "name": "stdout",
     "output_type": "stream",
     "text": [
      "Adjusting learning rate of group 0 to 2.5577e-03.\n"
     ]
    },
    {
     "name": "stderr",
     "output_type": "stream",
     "text": [
      "Test Epoch 48/100, Test Loss: 1.6884945588452476: 100%|██████████| 28/28 [00:00<00:00, 1194.75it/s]\n",
      "Train Epoch 49/100, Train Loss: 0.0: 100%|██████████| 28/28 [00:00<00:00, 171.65it/s]\n"
     ]
    },
    {
     "name": "stdout",
     "output_type": "stream",
     "text": [
      "Adjusting learning rate of group 0 to 2.4298e-03.\n"
     ]
    },
    {
     "name": "stderr",
     "output_type": "stream",
     "text": [
      "Test Epoch 49/100, Test Loss: 1.683443967785154: 100%|██████████| 28/28 [00:00<00:00, 1145.81it/s]\n",
      "Train Epoch 50/100, Train Loss: 0.0: 100%|██████████| 28/28 [00:00<00:00, 224.79it/s]\n"
     ]
    },
    {
     "name": "stdout",
     "output_type": "stream",
     "text": [
      "Adjusting learning rate of group 0 to 2.3083e-03.\n"
     ]
    },
    {
     "name": "stderr",
     "output_type": "stream",
     "text": [
      "Test Epoch 50/100, Test Loss: 1.6824517846107483: 100%|██████████| 28/28 [00:00<00:00, 1164.53it/s]\n",
      "Train Epoch 51/100, Train Loss: 0.0: 100%|██████████| 28/28 [00:00<00:00, 231.10it/s]\n"
     ]
    },
    {
     "name": "stdout",
     "output_type": "stream",
     "text": [
      "Adjusting learning rate of group 0 to 2.1929e-03.\n"
     ]
    },
    {
     "name": "stderr",
     "output_type": "stream",
     "text": [
      "Test Epoch 51/100, Test Loss: 1.6816876104899816: 100%|██████████| 28/28 [00:00<00:00, 1152.73it/s]\n",
      "Train Epoch 52/100, Train Loss: 0.0: 100%|██████████| 28/28 [00:00<00:00, 228.12it/s]\n"
     ]
    },
    {
     "name": "stdout",
     "output_type": "stream",
     "text": [
      "Adjusting learning rate of group 0 to 2.0833e-03.\n"
     ]
    },
    {
     "name": "stderr",
     "output_type": "stream",
     "text": [
      "Test Epoch 52/100, Test Loss: 1.6839293241500854: 100%|██████████| 28/28 [00:00<00:00, 1129.62it/s]\n",
      "Train Epoch 53/100, Train Loss: 0.0: 100%|██████████| 28/28 [00:00<00:00, 230.85it/s]\n"
     ]
    },
    {
     "name": "stdout",
     "output_type": "stream",
     "text": [
      "Adjusting learning rate of group 0 to 1.9791e-03.\n"
     ]
    },
    {
     "name": "stderr",
     "output_type": "stream",
     "text": [
      "Test Epoch 53/100, Test Loss: 1.6868114854608263: 100%|██████████| 28/28 [00:00<00:00, 1189.66it/s]\n",
      "Train Epoch 54/100, Train Loss: 0.0: 100%|██████████| 28/28 [00:00<00:00, 224.88it/s]\n"
     ]
    },
    {
     "name": "stdout",
     "output_type": "stream",
     "text": [
      "Adjusting learning rate of group 0 to 1.8802e-03.\n"
     ]
    },
    {
     "name": "stderr",
     "output_type": "stream",
     "text": [
      "Test Epoch 54/100, Test Loss: 1.6855647351060594: 100%|██████████| 28/28 [00:00<00:00, 1196.32it/s]\n",
      "Train Epoch 55/100, Train Loss: 0.0: 100%|██████████| 28/28 [00:00<00:00, 227.06it/s]\n"
     ]
    },
    {
     "name": "stdout",
     "output_type": "stream",
     "text": [
      "Adjusting learning rate of group 0 to 1.7862e-03.\n"
     ]
    },
    {
     "name": "stderr",
     "output_type": "stream",
     "text": [
      "Test Epoch 55/100, Test Loss: 1.682106077671051: 100%|██████████| 28/28 [00:00<00:00, 1128.49it/s]\n",
      "Train Epoch 56/100, Train Loss: 0.0: 100%|██████████| 28/28 [00:00<00:00, 225.97it/s]\n"
     ]
    },
    {
     "name": "stdout",
     "output_type": "stream",
     "text": [
      "Adjusting learning rate of group 0 to 1.6968e-03.\n"
     ]
    },
    {
     "name": "stderr",
     "output_type": "stream",
     "text": [
      "Test Epoch 56/100, Test Loss: 1.6835579829556602: 100%|██████████| 28/28 [00:00<00:00, 1222.51it/s]\n",
      "Train Epoch 57/100, Train Loss: 0.0: 100%|██████████| 28/28 [00:00<00:00, 226.79it/s]\n"
     ]
    },
    {
     "name": "stdout",
     "output_type": "stream",
     "text": [
      "Adjusting learning rate of group 0 to 1.6120e-03.\n"
     ]
    },
    {
     "name": "stderr",
     "output_type": "stream",
     "text": [
      "Test Epoch 57/100, Test Loss: 1.6811732479504176: 100%|██████████| 28/28 [00:00<00:00, 1138.72it/s]\n",
      "Train Epoch 58/100, Train Loss: 0.0: 100%|██████████| 28/28 [00:00<00:00, 227.70it/s]\n"
     ]
    },
    {
     "name": "stdout",
     "output_type": "stream",
     "text": [
      "Adjusting learning rate of group 0 to 1.5314e-03.\n"
     ]
    },
    {
     "name": "stderr",
     "output_type": "stream",
     "text": [
      "Test Epoch 58/100, Test Loss: 1.6837254847799028: 100%|██████████| 28/28 [00:00<00:00, 1162.88it/s]\n",
      "Train Epoch 59/100, Train Loss: 0.0: 100%|██████████| 28/28 [00:00<00:00, 228.73it/s]\n"
     ]
    },
    {
     "name": "stdout",
     "output_type": "stream",
     "text": [
      "Adjusting learning rate of group 0 to 1.4548e-03.\n"
     ]
    },
    {
     "name": "stderr",
     "output_type": "stream",
     "text": [
      "Test Epoch 59/100, Test Loss: 1.681475166763578: 100%|██████████| 28/28 [00:00<00:00, 1188.10it/s]\n",
      "Train Epoch 60/100, Train Loss: 0.0: 100%|██████████| 28/28 [00:00<00:00, 227.08it/s]\n"
     ]
    },
    {
     "name": "stdout",
     "output_type": "stream",
     "text": [
      "Adjusting learning rate of group 0 to 1.3821e-03.\n"
     ]
    },
    {
     "name": "stderr",
     "output_type": "stream",
     "text": [
      "Test Epoch 60/100, Test Loss: 1.6844235232898168: 100%|██████████| 28/28 [00:00<00:00, 543.77it/s]\n",
      "Train Epoch 61/100, Train Loss: 0.0: 100%|██████████| 28/28 [00:00<00:00, 198.13it/s]\n"
     ]
    },
    {
     "name": "stdout",
     "output_type": "stream",
     "text": [
      "Adjusting learning rate of group 0 to 1.3130e-03.\n"
     ]
    },
    {
     "name": "stderr",
     "output_type": "stream",
     "text": [
      "Test Epoch 61/100, Test Loss: 1.683179987328393: 100%|██████████| 28/28 [00:00<00:00, 1067.08it/s]\n",
      "Train Epoch 62/100, Train Loss: 0.0: 100%|██████████| 28/28 [00:00<00:00, 229.85it/s]\n"
     ]
    },
    {
     "name": "stdout",
     "output_type": "stream",
     "text": [
      "Adjusting learning rate of group 0 to 1.2473e-03.\n"
     ]
    },
    {
     "name": "stderr",
     "output_type": "stream",
     "text": [
      "Test Epoch 62/100, Test Loss: 1.684739466224398: 100%|██████████| 28/28 [00:00<00:00, 1164.78it/s]\n",
      "Train Epoch 63/100, Train Loss: 0.0: 100%|██████████| 28/28 [00:00<00:00, 226.74it/s]\n"
     ]
    },
    {
     "name": "stdout",
     "output_type": "stream",
     "text": [
      "Adjusting learning rate of group 0 to 1.1850e-03.\n"
     ]
    },
    {
     "name": "stderr",
     "output_type": "stream",
     "text": [
      "Test Epoch 63/100, Test Loss: 1.6837829606873649: 100%|██████████| 28/28 [00:00<00:00, 1150.52it/s]\n",
      "Train Epoch 64/100, Train Loss: 0.0: 100%|██████████| 28/28 [00:00<00:00, 150.87it/s]\n"
     ]
    },
    {
     "name": "stdout",
     "output_type": "stream",
     "text": [
      "Adjusting learning rate of group 0 to 1.1257e-03.\n"
     ]
    },
    {
     "name": "stderr",
     "output_type": "stream",
     "text": [
      "Test Epoch 64/100, Test Loss: 1.684658250638417: 100%|██████████| 28/28 [00:00<00:00, 1014.19it/s]\n",
      "Train Epoch 65/100, Train Loss: 0.0: 100%|██████████| 28/28 [00:00<00:00, 201.10it/s]\n"
     ]
    },
    {
     "name": "stdout",
     "output_type": "stream",
     "text": [
      "Adjusting learning rate of group 0 to 1.0694e-03.\n"
     ]
    },
    {
     "name": "stderr",
     "output_type": "stream",
     "text": [
      "Test Epoch 65/100, Test Loss: 1.6852800803525108: 100%|██████████| 28/28 [00:00<00:00, 1011.01it/s]\n",
      "Train Epoch 66/100, Train Loss: 0.0: 100%|██████████| 28/28 [00:00<00:00, 215.84it/s]\n"
     ]
    },
    {
     "name": "stdout",
     "output_type": "stream",
     "text": [
      "Adjusting learning rate of group 0 to 1.0160e-03.\n"
     ]
    },
    {
     "name": "stderr",
     "output_type": "stream",
     "text": [
      "Test Epoch 66/100, Test Loss: 1.6854599373681205: 100%|██████████| 28/28 [00:00<00:00, 1019.78it/s]\n",
      "Train Epoch 67/100, Train Loss: 0.0: 100%|██████████| 28/28 [00:00<00:00, 212.34it/s]\n"
     ]
    },
    {
     "name": "stdout",
     "output_type": "stream",
     "text": [
      "Adjusting learning rate of group 0 to 9.6517e-04.\n"
     ]
    },
    {
     "name": "stderr",
     "output_type": "stream",
     "text": [
      "Test Epoch 67/100, Test Loss: 1.6813642595495497: 100%|██████████| 28/28 [00:00<00:00, 1103.55it/s]\n",
      "Train Epoch 68/100, Train Loss: 0.0: 100%|██████████| 28/28 [00:00<00:00, 212.32it/s]\n"
     ]
    },
    {
     "name": "stdout",
     "output_type": "stream",
     "text": [
      "Adjusting learning rate of group 0 to 9.1691e-04.\n"
     ]
    },
    {
     "name": "stderr",
     "output_type": "stream",
     "text": [
      "Test Epoch 68/100, Test Loss: 1.6814851207392556: 100%|██████████| 28/28 [00:00<00:00, 1178.88it/s]\n",
      "Train Epoch 69/100, Train Loss: 0.0: 100%|██████████| 28/28 [00:00<00:00, 229.12it/s]\n"
     ]
    },
    {
     "name": "stdout",
     "output_type": "stream",
     "text": [
      "Adjusting learning rate of group 0 to 8.7106e-04.\n"
     ]
    },
    {
     "name": "stderr",
     "output_type": "stream",
     "text": [
      "Test Epoch 69/100, Test Loss: 1.6852287820407323: 100%|██████████| 28/28 [00:00<00:00, 1124.37it/s]\n",
      "Train Epoch 70/100, Train Loss: 0.0: 100%|██████████| 28/28 [00:00<00:00, 204.40it/s]\n"
     ]
    },
    {
     "name": "stdout",
     "output_type": "stream",
     "text": [
      "Adjusting learning rate of group 0 to 8.2751e-04.\n"
     ]
    },
    {
     "name": "stderr",
     "output_type": "stream",
     "text": [
      "Test Epoch 70/100, Test Loss: 1.6848231426307134: 100%|██████████| 28/28 [00:00<00:00, 957.20it/s]\n",
      "Train Epoch 71/100, Train Loss: 0.0: 100%|██████████| 28/28 [00:00<00:00, 188.94it/s]\n"
     ]
    },
    {
     "name": "stdout",
     "output_type": "stream",
     "text": [
      "Adjusting learning rate of group 0 to 7.8614e-04.\n"
     ]
    },
    {
     "name": "stderr",
     "output_type": "stream",
     "text": [
      "Test Epoch 71/100, Test Loss: 1.684547279562269: 100%|██████████| 28/28 [00:00<00:00, 954.32it/s]\n",
      "Train Epoch 72/100, Train Loss: 0.0: 100%|██████████| 28/28 [00:00<00:00, 184.70it/s]\n"
     ]
    },
    {
     "name": "stdout",
     "output_type": "stream",
     "text": [
      "Adjusting learning rate of group 0 to 7.4683e-04.\n"
     ]
    },
    {
     "name": "stderr",
     "output_type": "stream",
     "text": [
      "Test Epoch 72/100, Test Loss: 1.6824083243097578: 100%|██████████| 28/28 [00:00<00:00, 1034.13it/s]\n",
      "Train Epoch 73/100, Train Loss: 0.0: 100%|██████████| 28/28 [00:00<00:00, 201.57it/s]\n"
     ]
    },
    {
     "name": "stdout",
     "output_type": "stream",
     "text": [
      "Adjusting learning rate of group 0 to 7.0949e-04.\n"
     ]
    },
    {
     "name": "stderr",
     "output_type": "stream",
     "text": [
      "Test Epoch 73/100, Test Loss: 1.6858190723827906: 100%|██████████| 28/28 [00:00<00:00, 974.46it/s]\n",
      "Train Epoch 74/100, Train Loss: 0.0: 100%|██████████| 28/28 [00:00<00:00, 217.77it/s]\n"
     ]
    },
    {
     "name": "stdout",
     "output_type": "stream",
     "text": [
      "Adjusting learning rate of group 0 to 6.7401e-04.\n"
     ]
    },
    {
     "name": "stderr",
     "output_type": "stream",
     "text": [
      "Test Epoch 74/100, Test Loss: 1.68211002435003: 100%|██████████| 28/28 [00:00<00:00, 937.59it/s]\n",
      "Train Epoch 75/100, Train Loss: 0.0: 100%|██████████| 28/28 [00:00<00:00, 142.05it/s]\n"
     ]
    },
    {
     "name": "stdout",
     "output_type": "stream",
     "text": [
      "Adjusting learning rate of group 0 to 6.4031e-04.\n"
     ]
    },
    {
     "name": "stderr",
     "output_type": "stream",
     "text": [
      "Test Epoch 75/100, Test Loss: 1.6834472460406167: 100%|██████████| 28/28 [00:00<00:00, 862.94it/s]\n",
      "Train Epoch 76/100, Train Loss: 0.0: 100%|██████████| 28/28 [00:00<00:00, 44.70it/s] \n"
     ]
    },
    {
     "name": "stdout",
     "output_type": "stream",
     "text": [
      "Adjusting learning rate of group 0 to 6.0830e-04.\n"
     ]
    },
    {
     "name": "stderr",
     "output_type": "stream",
     "text": [
      "Test Epoch 76/100, Test Loss: 1.6830626555851527: 100%|██████████| 28/28 [00:00<00:00, 389.76it/s]\n",
      "Train Epoch 77/100, Train Loss: 0.0: 100%|██████████| 28/28 [00:00<00:00, 114.97it/s]\n"
     ]
    },
    {
     "name": "stdout",
     "output_type": "stream",
     "text": [
      "Adjusting learning rate of group 0 to 5.7788e-04.\n"
     ]
    },
    {
     "name": "stderr",
     "output_type": "stream",
     "text": [
      "Test Epoch 77/100, Test Loss: 1.6809105745383672: 100%|██████████| 28/28 [00:00<00:00, 953.58it/s]\n",
      "Train Epoch 78/100, Train Loss: 0.0: 100%|██████████| 28/28 [00:00<00:00, 194.40it/s]\n"
     ]
    },
    {
     "name": "stdout",
     "output_type": "stream",
     "text": [
      "Adjusting learning rate of group 0 to 5.4899e-04.\n"
     ]
    },
    {
     "name": "stderr",
     "output_type": "stream",
     "text": [
      "Test Epoch 78/100, Test Loss: 1.6821989544800349: 100%|██████████| 28/28 [00:00<00:00, 988.32it/s]\n",
      "Train Epoch 79/100, Train Loss: 0.0: 100%|██████████| 28/28 [00:00<00:00, 192.84it/s]\n"
     ]
    },
    {
     "name": "stdout",
     "output_type": "stream",
     "text": [
      "Adjusting learning rate of group 0 to 5.2154e-04.\n"
     ]
    },
    {
     "name": "stderr",
     "output_type": "stream",
     "text": [
      "Test Epoch 79/100, Test Loss: 1.6808334801878249: 100%|██████████| 28/28 [00:00<00:00, 1047.44it/s]\n",
      "Train Epoch 80/100, Train Loss: 0.0: 100%|██████████| 28/28 [00:00<00:00, 223.89it/s]\n"
     ]
    },
    {
     "name": "stdout",
     "output_type": "stream",
     "text": [
      "Adjusting learning rate of group 0 to 4.9546e-04.\n"
     ]
    },
    {
     "name": "stderr",
     "output_type": "stream",
     "text": [
      "Test Epoch 80/100, Test Loss: 1.6828847016607011: 100%|██████████| 28/28 [00:00<00:00, 1065.11it/s]\n",
      "Train Epoch 81/100, Train Loss: 0.0: 100%|██████████| 28/28 [00:00<00:00, 150.28it/s]\n"
     ]
    },
    {
     "name": "stdout",
     "output_type": "stream",
     "text": [
      "Adjusting learning rate of group 0 to 4.7069e-04.\n"
     ]
    },
    {
     "name": "stderr",
     "output_type": "stream",
     "text": [
      "Test Epoch 81/100, Test Loss: 1.6835226161139352: 100%|██████████| 28/28 [00:00<00:00, 826.84it/s]\n",
      "Train Epoch 82/100, Train Loss: 0.0: 100%|██████████| 28/28 [00:00<00:00, 187.62it/s]\n"
     ]
    },
    {
     "name": "stdout",
     "output_type": "stream",
     "text": [
      "Adjusting learning rate of group 0 to 4.4715e-04.\n"
     ]
    },
    {
     "name": "stderr",
     "output_type": "stream",
     "text": [
      "Test Epoch 82/100, Test Loss: 1.682439352784838: 100%|██████████| 28/28 [00:00<00:00, 1001.75it/s]\n",
      "Train Epoch 83/100, Train Loss: 0.0: 100%|██████████| 28/28 [00:00<00:00, 205.44it/s]\n"
     ]
    },
    {
     "name": "stdout",
     "output_type": "stream",
     "text": [
      "Adjusting learning rate of group 0 to 4.2480e-04.\n"
     ]
    },
    {
     "name": "stderr",
     "output_type": "stream",
     "text": [
      "Test Epoch 83/100, Test Loss: 1.682179651090077: 100%|██████████| 28/28 [00:00<00:00, 1095.72it/s]\n",
      "Train Epoch 84/100, Train Loss: 0.0: 100%|██████████| 28/28 [00:00<00:00, 220.61it/s]\n"
     ]
    },
    {
     "name": "stdout",
     "output_type": "stream",
     "text": [
      "Adjusting learning rate of group 0 to 4.0356e-04.\n"
     ]
    },
    {
     "name": "stderr",
     "output_type": "stream",
     "text": [
      "Test Epoch 84/100, Test Loss: 1.681190618446895: 100%|██████████| 28/28 [00:00<00:00, 1107.11it/s]\n",
      "Train Epoch 85/100, Train Loss: 0.0: 100%|██████████| 28/28 [00:00<00:00, 206.38it/s]\n"
     ]
    },
    {
     "name": "stdout",
     "output_type": "stream",
     "text": [
      "Adjusting learning rate of group 0 to 3.8338e-04.\n"
     ]
    },
    {
     "name": "stderr",
     "output_type": "stream",
     "text": [
      "Test Epoch 85/100, Test Loss: 1.6819651510034288: 100%|██████████| 28/28 [00:00<00:00, 920.54it/s]\n",
      "Train Epoch 86/100, Train Loss: 0.0: 100%|██████████| 28/28 [00:00<00:00, 219.57it/s]\n"
     ]
    },
    {
     "name": "stdout",
     "output_type": "stream",
     "text": [
      "Adjusting learning rate of group 0 to 3.6421e-04.\n"
     ]
    },
    {
     "name": "stderr",
     "output_type": "stream",
     "text": [
      "Test Epoch 86/100, Test Loss: 1.6810785915170396: 100%|██████████| 28/28 [00:00<00:00, 1162.78it/s]\n",
      "Train Epoch 87/100, Train Loss: 0.0: 100%|██████████| 28/28 [00:00<00:00, 225.86it/s]\n"
     ]
    },
    {
     "name": "stdout",
     "output_type": "stream",
     "text": [
      "Adjusting learning rate of group 0 to 3.4600e-04.\n"
     ]
    },
    {
     "name": "stderr",
     "output_type": "stream",
     "text": [
      "Test Epoch 87/100, Test Loss: 1.683822900056839: 100%|██████████| 28/28 [00:00<00:00, 1219.69it/s]\n",
      "Train Epoch 88/100, Train Loss: 0.0: 100%|██████████| 28/28 [00:00<00:00, 217.12it/s]\n"
     ]
    },
    {
     "name": "stdout",
     "output_type": "stream",
     "text": [
      "Adjusting learning rate of group 0 to 3.2870e-04.\n"
     ]
    },
    {
     "name": "stderr",
     "output_type": "stream",
     "text": [
      "Test Epoch 88/100, Test Loss: 1.6818703966481345: 100%|██████████| 28/28 [00:00<00:00, 1158.60it/s]\n",
      "Train Epoch 89/100, Train Loss: 0.0: 100%|██████████| 28/28 [00:00<00:00, 163.65it/s]\n"
     ]
    },
    {
     "name": "stdout",
     "output_type": "stream",
     "text": [
      "Adjusting learning rate of group 0 to 3.1226e-04.\n"
     ]
    },
    {
     "name": "stderr",
     "output_type": "stream",
     "text": [
      "Test Epoch 89/100, Test Loss: 1.6835328255380904: 100%|██████████| 28/28 [00:00<00:00, 1134.80it/s]\n",
      "Train Epoch 90/100, Train Loss: 0.0: 100%|██████████| 28/28 [00:00<00:00, 222.36it/s]\n"
     ]
    },
    {
     "name": "stdout",
     "output_type": "stream",
     "text": [
      "Adjusting learning rate of group 0 to 2.9665e-04.\n"
     ]
    },
    {
     "name": "stderr",
     "output_type": "stream",
     "text": [
      "Test Epoch 90/100, Test Loss: 1.6825430308069502: 100%|██████████| 28/28 [00:00<00:00, 1152.70it/s]\n",
      "Train Epoch 91/100, Train Loss: 0.0: 100%|██████████| 28/28 [00:00<00:00, 225.60it/s]\n"
     ]
    },
    {
     "name": "stdout",
     "output_type": "stream",
     "text": [
      "Adjusting learning rate of group 0 to 2.8182e-04.\n"
     ]
    },
    {
     "name": "stderr",
     "output_type": "stream",
     "text": [
      "Test Epoch 91/100, Test Loss: 1.6850352798189436: 100%|██████████| 28/28 [00:00<00:00, 1102.98it/s]\n",
      "Train Epoch 92/100, Train Loss: 0.0: 100%|██████████| 28/28 [00:00<00:00, 228.42it/s]\n"
     ]
    },
    {
     "name": "stdout",
     "output_type": "stream",
     "text": [
      "Adjusting learning rate of group 0 to 2.6773e-04.\n"
     ]
    },
    {
     "name": "stderr",
     "output_type": "stream",
     "text": [
      "Test Epoch 92/100, Test Loss: 1.6860259430749076: 100%|██████████| 28/28 [00:00<00:00, 1168.76it/s]\n",
      "Train Epoch 93/100, Train Loss: 0.0: 100%|██████████| 28/28 [00:00<00:00, 225.75it/s]\n"
     ]
    },
    {
     "name": "stdout",
     "output_type": "stream",
     "text": [
      "Adjusting learning rate of group 0 to 2.5434e-04.\n"
     ]
    },
    {
     "name": "stderr",
     "output_type": "stream",
     "text": [
      "Test Epoch 93/100, Test Loss: 1.6851104625633784: 100%|██████████| 28/28 [00:00<00:00, 1063.02it/s]\n",
      "Train Epoch 94/100, Train Loss: 0.0: 100%|██████████| 28/28 [00:00<00:00, 209.31it/s]\n"
     ]
    },
    {
     "name": "stdout",
     "output_type": "stream",
     "text": [
      "Adjusting learning rate of group 0 to 2.4162e-04.\n"
     ]
    },
    {
     "name": "stderr",
     "output_type": "stream",
     "text": [
      "Test Epoch 94/100, Test Loss: 1.687096655368805: 100%|██████████| 28/28 [00:00<00:00, 1140.48it/s]\n",
      "Train Epoch 95/100, Train Loss: 0.0: 100%|██████████| 28/28 [00:00<00:00, 223.68it/s]\n"
     ]
    },
    {
     "name": "stdout",
     "output_type": "stream",
     "text": [
      "Adjusting learning rate of group 0 to 2.2954e-04.\n"
     ]
    },
    {
     "name": "stderr",
     "output_type": "stream",
     "text": [
      "Test Epoch 95/100, Test Loss: 1.6833741962909698: 100%|██████████| 28/28 [00:00<00:00, 1171.80it/s]\n",
      "Train Epoch 96/100, Train Loss: 0.0: 100%|██████████| 28/28 [00:00<00:00, 226.47it/s]\n"
     ]
    },
    {
     "name": "stdout",
     "output_type": "stream",
     "text": [
      "Adjusting learning rate of group 0 to 2.1807e-04.\n"
     ]
    },
    {
     "name": "stderr",
     "output_type": "stream",
     "text": [
      "Test Epoch 96/100, Test Loss: 1.6819652829851424: 100%|██████████| 28/28 [00:00<00:00, 1166.23it/s]\n",
      "Train Epoch 97/100, Train Loss: 0.0: 100%|██████████| 28/28 [00:00<00:00, 228.62it/s]\n"
     ]
    },
    {
     "name": "stdout",
     "output_type": "stream",
     "text": [
      "Adjusting learning rate of group 0 to 2.0716e-04.\n"
     ]
    },
    {
     "name": "stderr",
     "output_type": "stream",
     "text": [
      "Test Epoch 97/100, Test Loss: 1.6852997924600328: 100%|██████████| 28/28 [00:00<00:00, 1156.35it/s]\n",
      "Train Epoch 98/100, Train Loss: 0.0: 100%|██████████| 28/28 [00:00<00:00, 227.93it/s]\n"
     ]
    },
    {
     "name": "stdout",
     "output_type": "stream",
     "text": [
      "Adjusting learning rate of group 0 to 1.9680e-04.\n"
     ]
    },
    {
     "name": "stderr",
     "output_type": "stream",
     "text": [
      "Test Epoch 98/100, Test Loss: 1.6818924120494299: 100%|██████████| 28/28 [00:00<00:00, 1181.83it/s]\n",
      "Train Epoch 99/100, Train Loss: 0.0: 100%|██████████| 28/28 [00:00<00:00, 228.90it/s]\n"
     ]
    },
    {
     "name": "stdout",
     "output_type": "stream",
     "text": [
      "Adjusting learning rate of group 0 to 1.8696e-04.\n"
     ]
    },
    {
     "name": "stderr",
     "output_type": "stream",
     "text": [
      "Test Epoch 99/100, Test Loss: 1.6816608267171043: 100%|██████████| 28/28 [00:00<00:00, 1180.59it/s]\n",
      "Train Epoch 100/100, Train Loss: 0.0: 100%|██████████| 28/28 [00:00<00:00, 225.88it/s]\n"
     ]
    },
    {
     "name": "stdout",
     "output_type": "stream",
     "text": [
      "Adjusting learning rate of group 0 to 1.7762e-04.\n"
     ]
    },
    {
     "name": "stderr",
     "output_type": "stream",
     "text": [
      "Test Epoch 100/100, Test Loss: 1.6865833359105247: 100%|██████████| 28/28 [00:00<00:00, 1208.05it/s]\n"
     ]
    }
   ],
   "source": [
    "train_loss, val_loss = [], []\n",
    "for epoch in range(EPOCHS):\n",
    "    model.train()\n",
    "    \n",
    "    running_loss = 0.0\n",
    "    for idx, data in tqdm(enumerate(train_dataloader), total=len(train_dataloader), desc=f\"Train Epoch {epoch+1}/{EPOCHS}, Train Loss: {running_loss / len(train_dataloader)}\"):\n",
    "        X_data_1, X_data_2, y_data = data\n",
    "        X_data_1 = X_data_1.to(device).reshape(-1, 1)\n",
    "        X_data_2 = X_data_2.to(device).reshape(-1, 1)\n",
    "        y_data = y_data.to(device)\n",
    "        \n",
    "        optimizer.zero_grad()\n",
    "        y_pred = model(X_data_1, X_data_2).reshape(-1, 6)\n",
    "\n",
    "        loss = criterion(y_pred, y_data)\n",
    "        running_loss += loss.item()\n",
    "\n",
    "        loss.backward()\n",
    "        optimizer.step()\n",
    "    scheduler.step()\n",
    "    train_loss.append(running_loss / len(train_dataloader))\n",
    "\n",
    "    model.eval()\n",
    "    with torch.no_grad():\n",
    "        correct = 0\n",
    "        total = 0\n",
    "        for idx, data in tqdm(enumerate(test_dataloader), total=len(test_dataloader), desc=f\"Test Epoch {epoch+1}/{EPOCHS}, Test Loss: {running_loss / len(test_dataloader)}\"):\n",
    "            X_data_1, X_data_2, y_data = data \n",
    "            X_data_1 = X_data_1.to(device).reshape(-1, 1)\n",
    "            X_data_2 = X_data_2.to(device).reshape(-1, 1)\n",
    "            y_data = y_data.to(device)\n",
    "\n",
    "            y_pred = model(X_data_1, X_data_2).reshape(-1, 6)\n",
    "            loss = criterion(y_pred, y_data)\n",
    "            running_loss += loss.item()\n",
    "\n",
    "            _, predicted = torch.max(y_pred.data, 1)\n",
    "            _, y_true = torch.max(y_data.data, 1)\n",
    "            total += y_data.size(0)\n",
    "            correct += (predicted == y_true).sum().item()\n",
    "\n",
    "        val_loss.append(running_loss / len(test_dataloader))"
   ]
  },
  {
   "cell_type": "code",
   "execution_count": 24,
   "metadata": {},
   "outputs": [
    {
     "data": {
      "image/png": "[encoded data removed]",
      "text/plain": [
       "<Figure size 2000x1000 with 2 Axes>"
      ]
     },
     "metadata": {},
     "output_type": "display_data"
    }
   ],
   "source": [
    "plt.figure(figsize=(20, 10))\n",
    "\n",
    "plt.subplot(1, 2, 1)\n",
    "plt.title(\"Test Loss\")\n",
    "plt.plot(val_loss, label='test loss', color='red', linewidth=2)\n",
    "plt.xlabel('Epochs')\n",
    "plt.ylabel('Loss')\n",
    "plt.grid(True)\n",
    "\n",
    "plt.subplot(1, 2, 2)\n",
    "plt.title(\"Train Loss\")\n",
    "plt.plot(train_loss, label='train loss', color='blue', linewidth=2)\n",
    "plt.xlabel('Epochs')\n",
    "plt.ylabel('Loss')\n",
    "plt.grid(True)\n",
    "\n",
    "plt.show()"
   ]
  },
  {
   "cell_type": "markdown",
   "metadata": {},
   "source": [
    "# Evaluation"
   ]
  },
  {
   "cell_type": "code",
   "execution_count": 25,
   "metadata": {},
   "outputs": [
    {
     "data": {
      "text/plain": [
       "Model(\n",
       "  (input_linear_1): Linear(in_features=1, out_features=32, bias=True)\n",
       "  (input_linear_1_1): Linear(in_features=32, out_features=64, bias=True)\n",
       "  (input_linear_1_2): Linear(in_features=64, out_features=128, bias=True)\n",
       "  (input_linear_1_3): Linear(in_features=128, out_features=256, bias=True)\n",
       "  (input_linear_1_4): Linear(in_features=256, out_features=512, bias=True)\n",
       "  (input_linear_2): Linear(in_features=1, out_features=32, bias=True)\n",
       "  (input_linear_2_1): Linear(in_features=32, out_features=64, bias=True)\n",
       "  (input_linear_2_2): Linear(in_features=64, out_features=128, bias=True)\n",
       "  (input_linear_2_3): Linear(in_features=128, out_features=256, bias=True)\n",
       "  (input_linear_2_4): Linear(in_features=256, out_features=512, bias=True)\n",
       "  (output_hidden_1): Linear(in_features=1024, out_features=256, bias=True)\n",
       "  (output_hidden_2): Linear(in_features=256, out_features=32, bias=True)\n",
       "  (output_linear): Linear(in_features=32, out_features=6, bias=True)\n",
       ")"
      ]
     },
     "execution_count": 25,
     "metadata": {},
     "output_type": "execute_result"
    }
   ],
   "source": [
    "model.eval()"
   ]
  },
  {
   "cell_type": "code",
   "execution_count": 26,
   "metadata": {},
   "outputs": [],
   "source": [
    "y_data = datasheet.iloc[:, 0]\n",
    "y_data = y_data.to_numpy().astype(np.float32)\n",
    "y_data = onehot_encoder.fit_transform(y_data.reshape(-1, 1)).astype(np.float32).toarray()\n",
    "\n",
    "X_data_1 = datasheet.iloc[:, 1].to_numpy().astype(np.float32)\n",
    "X_data_1 = torch.from_numpy(X_data_1).reshape(-1, 1)\n",
    "\n",
    "X_data_2 = datasheet.iloc[:, 2].to_numpy().astype(np.float32)\n",
    "X_data_2 = torch.from_numpy(X_data_2).reshape(-1, 1)\n",
    "\n",
    "y_pred = model(X_data_1, X_data_2).detach().numpy()"
   ]
  },
  {
   "cell_type": "code",
   "execution_count": 27,
   "metadata": {},
   "outputs": [
    {
     "name": "stdout",
     "output_type": "stream",
     "text": [
      "y_pred Shape: (879, 6)\n",
      "y_test Shape: (879, 6)\n"
     ]
    }
   ],
   "source": [
    "print(f\"\"\"y_pred Shape: {y_pred.shape}\n",
    "y_test Shape: {y_data.shape}\"\"\")"
   ]
  },
  {
   "cell_type": "code",
   "execution_count": 28,
   "metadata": {},
   "outputs": [
    {
     "name": "stdout",
     "output_type": "stream",
     "text": [
      "MSE Loss:  0.42187956\n"
     ]
    }
   ],
   "source": [
    "mse_loss = mean_squared_error(y_data, y_pred)\n",
    "print(\"MSE Loss: \", mse_loss)"
   ]
  },
  {
   "cell_type": "code",
   "execution_count": 29,
   "metadata": {},
   "outputs": [
    {
     "name": "stdout",
     "output_type": "stream",
     "text": [
      "              precision    recall  f1-score   support\n",
      "\n",
      "           0       0.27      1.00      0.42       233\n",
      "           1       0.00      0.00      0.00       141\n",
      "           2       0.00      0.00      0.00       216\n",
      "           3       0.00      0.00      0.00       151\n",
      "           4       0.00      0.00      0.00        92\n",
      "           5       0.00      0.00      0.00        46\n",
      "\n",
      "    accuracy                           0.27       879\n",
      "   macro avg       0.04      0.17      0.07       879\n",
      "weighted avg       0.07      0.27      0.11       879\n",
      "\n"
     ]
    },
    {
     "name": "stderr",
     "output_type": "stream",
     "text": [
      "/Users/bahk_insung/miniconda3/lib/python3.10/site-packages/sklearn/metrics/_classification.py:1344: UndefinedMetricWarning: Precision and F-score are ill-defined and being set to 0.0 in labels with no predicted samples. Use `zero_division` parameter to control this behavior.\n",
      "  _warn_prf(average, modifier, msg_start, len(result))\n",
      "/Users/bahk_insung/miniconda3/lib/python3.10/site-packages/sklearn/metrics/_classification.py:1344: UndefinedMetricWarning: Precision and F-score are ill-defined and being set to 0.0 in labels with no predicted samples. Use `zero_division` parameter to control this behavior.\n",
      "  _warn_prf(average, modifier, msg_start, len(result))\n",
      "/Users/bahk_insung/miniconda3/lib/python3.10/site-packages/sklearn/metrics/_classification.py:1344: UndefinedMetricWarning: Precision and F-score are ill-defined and being set to 0.0 in labels with no predicted samples. Use `zero_division` parameter to control this behavior.\n",
      "  _warn_prf(average, modifier, msg_start, len(result))\n"
     ]
    }
   ],
   "source": [
    "y_test_arg = np.argmax(y_data, axis=1)\n",
    "y_pred_arg = np.argmax(y_pred, axis=1)\n",
    "print(classification_report(y_test_arg, y_pred_arg))"
   ]
  },
  {
   "cell_type": "code",
   "execution_count": 30,
   "metadata": {},
   "outputs": [
    {
     "data": {
      "image/png": "[encoded data removed]",
      "text/plain": [
       "<Figure size 1000x1000 with 1 Axes>"
      ]
     },
     "metadata": {},
     "output_type": "display_data"
    }
   ],
   "source": [
    "conf_mat = confusion_matrix(y_test_arg, y_pred_arg)\n",
    "\n",
    "plt.figure(figsize=(10, 10))\n",
    "sns.heatmap(conf_mat, annot=True, fmt='d', cmap=plt.cm.Blues, cbar=False)\n",
    "plt.title('Confusion Matrix')\n",
    "plt.xlabel('Predicted Label')\n",
    "plt.ylabel('True Label')\n",
    "plt.show()"
   ]
  },
  {
   "cell_type": "markdown",
   "metadata": {},
   "source": [
    "# Predict"
   ]
  }
 ],
 "metadata": {
  "kernelspec": {
   "display_name": "base",
   "language": "python",
   "name": "python3"
  },
  "language_info": {
   "codemirror_mode": {
    "name": "ipython",
    "version": 3
   },
   "file_extension": ".py",
   "mimetype": "text/x-python",
   "name": "python",
   "nbconvert_exporter": "python",
   "pygments_lexer": "ipython3",
   "version": "3.10.9"
  },
  "orig_nbformat": 4
 },
 "nbformat": 4,
 "nbformat_minor": 2
}
