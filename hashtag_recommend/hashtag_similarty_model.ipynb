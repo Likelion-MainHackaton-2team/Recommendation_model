{
 "cells": [
  {
   "cell_type": "code",
   "execution_count": 1,
   "metadata": {},
   "outputs": [],
   "source": [
    "from transformers import BertTokenizer, BertModel, BertForMaskedLM, BertConfig\n",
    "\n",
    "from torch.utils.data import Dataset, DataLoader\n",
    "\n",
    "import torch.nn.functional as F\n",
    "import torch.optim as optim\n",
    "import torch.nn as nn\n",
    "import torch\n",
    "\n",
    "from sklearn.feature_extraction.text import TfidfVectorizer\n",
    "from sklearn.metrics.pairwise import cosine_similarity\n",
    "from sklearn.model_selection import train_test_split\n",
    "from tqdm import tqdm\n",
    "\n",
    "import matplotlib.pyplot as plt\n",
    "import seaborn as sns\n",
    "import pandas as pd\n",
    "import numpy as np\n",
    "import random\n",
    "\n",
    "DATA_PATH = \"./data/\""
   ]
  },
  {
   "cell_type": "code",
   "execution_count": 2,
   "metadata": {},
   "outputs": [
    {
     "name": "stdout",
     "output_type": "stream",
     "text": [
      "['#간식좋아함\\n', '#장난감좋아함\\n', '#고령의펫\\n', '#추위탐\\n', '#더위탐\\n', '#체중조절필요\\n', '#야행성펫\\n', '#산책좋아함\\n', '#운동러버\\n', '#소프트간식굿\\n', '#딱딱한간식굿\\n', '#푹신한물건굿\\n', '#피부민감\\n', '#건조한피부\\n', '#빛민감\\n', '#순한샴푸필수\\n', '#온도민감\\n', '#털빠짐주의\\n', '#사냥본능\\n', '#냄새에민감\\n', '#물놀이좋아함\\n', '#새벽활동러\\n', '#높은곳좋아함\\n', '#털관리필수\\n', '#집을좋아함\\n', '#혼자놀기왕\\n', '#사교성좋음\\n', '#곤충스낵러버\\n', '#다이어트필요\\n', '#기술학습빠름\\n', '#움직이기싫음\\n', '#하루종일놀기\\n', '#배변훈련필요\\n', '#소리좋아함\\n', '#감촉민감\\n', '#관절보호필요\\n', '#인형좋아함\\n', '#자주목욕필요\\n', '#거친털\\n', '#부드러운털\\n', '#숲속좋아함\\n', '#모래놀이팬\\n', '#길들이기쉬움\\n', '#길들이기힘듦\\n', '#소리에예민\\n', '#무서움잘느낌\\n', '#다양한맛탐색\\n', '#피부알러지있음\\n', '#스트레스관리필요']\n"
     ]
    }
   ],
   "source": [
    "with open(DATA_PATH + \"tags.txt\", \"r\") as f:\n",
    "    data = f.readlines()\n",
    "print(data)"
   ]
  },
  {
   "cell_type": "code",
   "execution_count": 3,
   "metadata": {},
   "outputs": [
    {
     "name": "stdout",
     "output_type": "stream",
     "text": [
      "['#간식좋아함', '#장난감좋아함', '#고령의펫', '#추위탐', '#더위탐', '#체중조절필요', '#야행성펫', '#산책좋아함', '#운동러버', '#소프트간식굿', '#딱딱한간식굿', '#푹신한물건굿', '#피부민감', '#건조한피부', '#빛민감', '#순한샴푸필수', '#온도민감', '#털빠짐주의', '#사냥본능', '#냄새에민감', '#물놀이좋아함', '#새벽활동러', '#높은곳좋아함', '#털관리필수', '#집을좋아함', '#혼자놀기왕', '#사교성좋음', '#곤충스낵러버', '#다이어트필요', '#기술학습빠름', '#움직이기싫음', '#하루종일놀기', '#배변훈련필요', '#소리좋아함', '#감촉민감', '#관절보호필요', '#인형좋아함', '#자주목욕필요', '#거친털', '#부드러운털', '#숲속좋아함', '#모래놀이팬', '#길들이기쉬움', '#길들이기힘듦', '#소리에예민', '#무서움잘느낌', '#다양한맛탐색', '#피부알러지있음', '#스트레스관리필요']\n"
     ]
    }
   ],
   "source": [
    "for idx, word in enumerate(data):\n",
    "    word_temp = str()\n",
    "    word_temp = word.replace(\"\\n\", \"\")\n",
    "    word_temp = word_temp.replace(\" \", \"\")\n",
    "\n",
    "    if word_temp == \"\" or word_temp == \" \" or word_temp == \"\\n\":    continue\n",
    "    data[idx] = word_temp\n",
    "print(data)"
   ]
  },
  {
   "cell_type": "code",
   "execution_count": 4,
   "metadata": {},
   "outputs": [
    {
     "data": {
      "text/html": [
       "<div>\n",
       "<style scoped>\n",
       "    .dataframe tbody tr th:only-of-type {\n",
       "        vertical-align: middle;\n",
       "    }\n",
       "\n",
       "    .dataframe tbody tr th {\n",
       "        vertical-align: top;\n",
       "    }\n",
       "\n",
       "    .dataframe thead th {\n",
       "        text-align: right;\n",
       "    }\n",
       "</style>\n",
       "<table border=\"1\" class=\"dataframe\">\n",
       "  <thead>\n",
       "    <tr style=\"text-align: right;\">\n",
       "      <th></th>\n",
       "      <th>hashtag</th>\n",
       "    </tr>\n",
       "  </thead>\n",
       "  <tbody>\n",
       "    <tr>\n",
       "      <th>0</th>\n",
       "      <td>#간식좋아함</td>\n",
       "    </tr>\n",
       "    <tr>\n",
       "      <th>1</th>\n",
       "      <td>#장난감좋아함</td>\n",
       "    </tr>\n",
       "    <tr>\n",
       "      <th>2</th>\n",
       "      <td>#고령의펫</td>\n",
       "    </tr>\n",
       "    <tr>\n",
       "      <th>3</th>\n",
       "      <td>#추위탐</td>\n",
       "    </tr>\n",
       "    <tr>\n",
       "      <th>4</th>\n",
       "      <td>#더위탐</td>\n",
       "    </tr>\n",
       "    <tr>\n",
       "      <th>5</th>\n",
       "      <td>#체중조절필요</td>\n",
       "    </tr>\n",
       "    <tr>\n",
       "      <th>6</th>\n",
       "      <td>#야행성펫</td>\n",
       "    </tr>\n",
       "    <tr>\n",
       "      <th>7</th>\n",
       "      <td>#산책좋아함</td>\n",
       "    </tr>\n",
       "    <tr>\n",
       "      <th>8</th>\n",
       "      <td>#운동러버</td>\n",
       "    </tr>\n",
       "    <tr>\n",
       "      <th>9</th>\n",
       "      <td>#소프트간식굿</td>\n",
       "    </tr>\n",
       "  </tbody>\n",
       "</table>\n",
       "</div>"
      ],
      "text/plain": [
       "   hashtag\n",
       "0   #간식좋아함\n",
       "1  #장난감좋아함\n",
       "2    #고령의펫\n",
       "3     #추위탐\n",
       "4     #더위탐\n",
       "5  #체중조절필요\n",
       "6    #야행성펫\n",
       "7   #산책좋아함\n",
       "8    #운동러버\n",
       "9  #소프트간식굿"
      ]
     },
     "execution_count": 4,
     "metadata": {},
     "output_type": "execute_result"
    }
   ],
   "source": [
    "data_df = pd.DataFrame(data={\n",
    "    'hashtag': data,\n",
    "}, \n",
    "columns=['hashtag'],\n",
    "index=range(len(data)))\n",
    "\n",
    "data_df.head(10)"
   ]
  },
  {
   "cell_type": "code",
   "execution_count": 5,
   "metadata": {},
   "outputs": [
    {
     "data": {
      "text/plain": [
       "(49, 1)"
      ]
     },
     "execution_count": 5,
     "metadata": {},
     "output_type": "execute_result"
    }
   ],
   "source": [
    "data_df.shape"
   ]
  },
  {
   "cell_type": "code",
   "execution_count": 6,
   "metadata": {},
   "outputs": [
    {
     "name": "stdout",
     "output_type": "stream",
     "text": [
      "tfidf_matrix shape: (49, 49)\n"
     ]
    }
   ],
   "source": [
    "tfidf_vectorizer = TfidfVectorizer(max_features=10000, stop_words='english', ngram_range=(1,3))\n",
    "tfidf_matrix = tfidf_vectorizer.fit_transform(data_df['hashtag'])\n",
    "print(f\"tfidf_matrix shape: {tfidf_matrix.shape}\")"
   ]
  },
  {
   "cell_type": "code",
   "execution_count": 7,
   "metadata": {},
   "outputs": [
    {
     "data": {
      "image/png": "[encoded data removed]",
      "text/plain": [
       "<Figure size 640x480 with 2 Axes>"
      ]
     },
     "metadata": {},
     "output_type": "display_data"
    }
   ],
   "source": [
    "cosine_sim = cosine_similarity(tfidf_matrix, tfidf_matrix)\n",
    "\n",
    "sns.heatmap(cosine_sim, linewidths=.5, cmap='hot')\n",
    "plt.show()"
   ]
  },
  {
   "cell_type": "code",
   "execution_count": 17,
   "metadata": {},
   "outputs": [
    {
     "name": "stderr",
     "output_type": "stream",
     "text": [
      "Some weights of the model checkpoint at bert-base-uncased were not used when initializing BertModel: ['cls.predictions.transform.LayerNorm.bias', 'cls.predictions.transform.dense.bias', 'cls.predictions.transform.dense.weight', 'cls.predictions.bias', 'cls.seq_relationship.bias', 'cls.seq_relationship.weight', 'cls.predictions.transform.LayerNorm.weight']\n",
      "- This IS expected if you are initializing BertModel from the checkpoint of a model trained on another task or with another architecture (e.g. initializing a BertForSequenceClassification model from a BertForPreTraining model).\n",
      "- This IS NOT expected if you are initializing BertModel from the checkpoint of a model that you expect to be exactly identical (initializing a BertForSequenceClassification model from a BertForSequenceClassification model).\n"
     ]
    }
   ],
   "source": [
    "bert_tokenzier = BertTokenizer.from_pretrained('bert-base-uncased')\n",
    "bert_model = BertModel.from_pretrained('bert-base-uncased').to(device='cpu')\n",
    "bert_model.eval()\n",
    "\n",
    "def get_bert_embedding(text):\n",
    "    tokenziers = bert_tokenzier(text, return_tensors='pt', padding=True, truncation=True).to(device='cpu')\n",
    "    with torch.no_grad():\n",
    "        output = bert_model(**tokenziers)\n",
    "    return output[0][:, 0, :].squeeze(0).numpy()\n",
    "\n",
    "def get_bert_similarty(text1, text2):\n",
    "    embedding1 = get_bert_embedding(text1)\n",
    "    embedding2 = get_bert_embedding(text2)\n",
    "    return cosine_similarity(embedding1.reshape(1, -1), embedding2.reshape(1, -1))[0][0]\n",
    "\n",
    "def get_bert_similarty_list(text, text_list):\n",
    "    embedding = get_bert_embedding(text)\n",
    "    embedding_list = [get_bert_embedding(t) for t in text_list]\n",
    "    return cosine_similarity(embedding.reshape(1, -1), embedding_list)[0]"
   ]
  },
  {
   "cell_type": "code",
   "execution_count": 21,
   "metadata": {},
   "outputs": [
    {
     "name": "stderr",
     "output_type": "stream",
     "text": [
      "100%|██████████| 49/49 [04:03<00:00,  4.96s/it]\n"
     ]
    }
   ],
   "source": [
    "bert_sim_list = []\n",
    "for text in tqdm(data_df['hashtag'].tolist()):\n",
    "    for text_target in data_df['hashtag'].tolist():\n",
    "        similarity = get_bert_similarty(text, text_target)\n",
    "        bert_sim_list.append(similarity)\n",
    "\n",
    "bert_sim_list = np.array(bert_sim_list).reshape(len(data_df), len(data_df))\n",
    "bert_sim_df = pd.DataFrame(bert_sim_list, columns=data_df['hashtag'].tolist(), index=data_df['hashtag'].tolist())"
   ]
  },
  {
   "cell_type": "code",
   "execution_count": 24,
   "metadata": {},
   "outputs": [],
   "source": [
    "plt.figure(figsize=(10, 10), dpi=300)\n",
    "sns.heatmap(cosine_sim, annot=True, fmt=\".2f\", linewidths=.5, cmap='hot')\n",
    "plt.show()"
   ]
  },
  {
   "cell_type": "code",
   "execution_count": null,
   "metadata": {},
   "outputs": [],
   "source": []
  }
 ],
 "metadata": {
  "kernelspec": {
   "display_name": "base",
   "language": "python",
   "name": "python3"
  },
  "language_info": {
   "codemirror_mode": {
    "name": "ipython",
    "version": 3
   },
   "file_extension": ".py",
   "mimetype": "text/x-python",
   "name": "python",
   "nbconvert_exporter": "python",
   "pygments_lexer": "ipython3",
   "version": "3.10.9"
  },
  "orig_nbformat": 4
 },
 "nbformat": 4,
 "nbformat_minor": 2
}
