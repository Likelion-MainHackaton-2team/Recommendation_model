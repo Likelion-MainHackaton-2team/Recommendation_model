{
 "cells": [
  {
   "cell_type": "code",
   "execution_count": 11,
   "metadata": {},
   "outputs": [
    {
     "name": "stderr",
     "output_type": "stream",
     "text": [
      "[nltk_data] Downloading package punkt to\n",
      "[nltk_data]     /Users/bahk_insung/nltk_data...\n",
      "[nltk_data]   Unzipping tokenizers/punkt.zip.\n"
     ]
    }
   ],
   "source": [
    "from sklearn.feature_extraction.text import CountVectorizer, TfidfTransformer\n",
    "\n",
    "import matplotlib.pyplot as plt\n",
    "import seaborn as sns\n",
    "import polars as pl\n",
    "import numpy as np\n",
    "\n",
    "import nltk\n",
    "\n",
    "nltk.download('punkt')\n",
    "\n",
    "TRAIN_DATA_PATH = \"./data/train.csv\"\n",
    "TEST_DATA_PATH = \"./data/test.csv\""
   ]
  },
  {
   "cell_type": "markdown",
   "metadata": {},
   "source": [
    "# Load Datasets"
   ]
  },
  {
   "cell_type": "code",
   "execution_count": 12,
   "metadata": {},
   "outputs": [
    {
     "data": {
      "text/html": [
       "<div><style>\n",
       ".dataframe > thead > tr > th,\n",
       ".dataframe > tbody > tr > td {\n",
       "  text-align: right;\n",
       "}\n",
       "</style>\n",
       "<small>shape: (2142, 6)</small><table border=\"1\" class=\"dataframe\"><thead><tr><th></th><th>description_x</th><th>description_y</th><th>ticker_x</th><th>ticker_y</th><th>same_security</th></tr><tr><td>i64</td><td>str</td><td>str</td><td>str</td><td>str</td><td>bool</td></tr></thead><tbody><tr><td>0</td><td>&quot;first trust do…</td><td>&quot;first trust dj…</td><td>&quot;FDN&quot;</td><td>&quot;FDN&quot;</td><td>true</td></tr><tr><td>1</td><td>&quot;schwab intl la…</td><td>&quot;schwab strateg…</td><td>&quot;FNDF&quot;</td><td>&quot;FNDF&quot;</td><td>true</td></tr><tr><td>2</td><td>&quot;vanguard small…</td><td>&quot;vanguard small…</td><td>&quot;VSMAX&quot;</td><td>&quot;VSCIX&quot;</td><td>false</td></tr><tr><td>3</td><td>&quot;duke energy co…</td><td>&quot;duke energy co…</td><td>&quot;DUK&quot;</td><td>&quot;DUK&quot;</td><td>true</td></tr><tr><td>4</td><td>&quot;visa inc class…</td><td>&quot;visa inc.&quot;</td><td>&quot;V&quot;</td><td>&quot;V&quot;</td><td>true</td></tr><tr><td>5</td><td>&quot;ford motor co …</td><td>&quot;ford motor co&quot;</td><td>&quot;F&quot;</td><td>&quot;F&quot;</td><td>true</td></tr><tr><td>6</td><td>&quot;united states …</td><td>&quot;united sts stl…</td><td>&quot;X&quot;</td><td>&quot;X&quot;</td><td>true</td></tr><tr><td>7</td><td>&quot;vanguard total…</td><td>&quot;vanguard total…</td><td>&quot;BNDX&quot;</td><td>&quot;BNDX&quot;</td><td>true</td></tr><tr><td>8</td><td>&quot;schwab strateg…</td><td>&quot;schwab us smal…</td><td>&quot;SCHA&quot;</td><td>&quot;SCHA&quot;</td><td>true</td></tr><tr><td>9</td><td>&quot;mfs value fd c…</td><td>&quot;mfs value fund…</td><td>&quot;MEIIX&quot;</td><td>&quot;MEIIX&quot;</td><td>true</td></tr><tr><td>10</td><td>&quot;oppenheimer de…</td><td>&quot;oppenheimer de…</td><td>&quot;ODMAX&quot;</td><td>&quot;ODMAX&quot;</td><td>true</td></tr><tr><td>11</td><td>&quot;genomic health…</td><td>&quot;genomic health…</td><td>&quot;GHDX&quot;</td><td>&quot;GHDX&quot;</td><td>true</td></tr><tr><td>&hellip;</td><td>&hellip;</td><td>&hellip;</td><td>&hellip;</td><td>&hellip;</td><td>&hellip;</td></tr><tr><td>2130</td><td>&quot;union pacific …</td><td>&quot;union pac corp…</td><td>&quot;UNP&quot;</td><td>&quot;UNP&quot;</td><td>true</td></tr><tr><td>2131</td><td>&quot;costco wholesa…</td><td>&quot;costco wholesa…</td><td>&quot;COST&quot;</td><td>&quot;COST&quot;</td><td>true</td></tr><tr><td>2132</td><td>&quot;vanguard mid c…</td><td>&quot;vanguard mid c…</td><td>&quot;VIMAX&quot;</td><td>&quot;VIMAX&quot;</td><td>true</td></tr><tr><td>2133</td><td>&quot;alexion pharma…</td><td>&quot;alexion pharma…</td><td>&quot;ALXN&quot;</td><td>&quot;ALXN&quot;</td><td>true</td></tr><tr><td>2134</td><td>&quot;general dynami…</td><td>&quot;genl dynamics …</td><td>&quot;GD&quot;</td><td>&quot;GD&quot;</td><td>true</td></tr><tr><td>2135</td><td>&quot;bce inc f&quot;</td><td>&quot;bce inc&quot;</td><td>&quot;BCE&quot;</td><td>&quot;BCE&quot;</td><td>true</td></tr><tr><td>2136</td><td>&quot;prudential jen…</td><td>&quot;prudential jen…</td><td>&quot;PNRZX&quot;</td><td>&quot;PNRZX&quot;</td><td>true</td></tr><tr><td>2137</td><td>&quot;delta air line…</td><td>&quot;delta air line…</td><td>&quot;DAL&quot;</td><td>&quot;DAL&quot;</td><td>true</td></tr><tr><td>2138</td><td>&quot;cognizant tech…</td><td>&quot;cognizant tech…</td><td>&quot;CTSH&quot;</td><td>&quot;CTSH&quot;</td><td>true</td></tr><tr><td>2139</td><td>&quot;pimco investme…</td><td>&quot;fid conservati…</td><td>&quot;PBDAX&quot;</td><td>&quot;FCONX&quot;</td><td>false</td></tr><tr><td>2140</td><td>&quot;eli lilly &amp; co…</td><td>&quot;lilly eli &amp;co …</td><td>&quot;LLY&quot;</td><td>&quot;LLY&quot;</td><td>true</td></tr><tr><td>2141</td><td>&quot;dfa comm strat…</td><td>&quot;dfa commodity …</td><td>&quot;DCMSX&quot;</td><td>&quot;DCMSX&quot;</td><td>true</td></tr></tbody></table></div>"
      ],
      "text/plain": [
       "shape: (2_142, 6)\n",
       "┌──────┬──────────────────────────┬──────────────────────────┬──────────┬──────────┬───────────────┐\n",
       "│      ┆ description_x            ┆ description_y            ┆ ticker_x ┆ ticker_y ┆ same_security │\n",
       "│ ---  ┆ ---                      ┆ ---                      ┆ ---      ┆ ---      ┆ ---           │\n",
       "│ i64  ┆ str                      ┆ str                      ┆ str      ┆ str      ┆ bool          │\n",
       "╞══════╪══════════════════════════╪══════════════════════════╪══════════╪══════════╪═══════════════╡\n",
       "│ 0    ┆ first trust dow jones    ┆ first trust dj internet  ┆ FDN      ┆ FDN      ┆ true          │\n",
       "│      ┆ internet                 ┆ idx                      ┆          ┆          ┆               │\n",
       "│ 1    ┆ schwab intl large        ┆ schwab strategic tr      ┆ FNDF     ┆ FNDF     ┆ true          │\n",
       "│      ┆ company index …          ┆ fundamental …            ┆          ┆          ┆               │\n",
       "│ 2    ┆ vanguard small cap index ┆ vanguard small-cap index ┆ VSMAX    ┆ VSCIX    ┆ false         │\n",
       "│      ┆ adm                      ┆ fund in…                 ┆          ┆          ┆               │\n",
       "│ 3    ┆ duke energy corp new com ┆ duke energy corp new com ┆ DUK      ┆ DUK      ┆ true          │\n",
       "│      ┆ new isi…                 ┆ new isi…                 ┆          ┆          ┆               │\n",
       "│ …    ┆ …                        ┆ …                        ┆ …        ┆ …        ┆ …             │\n",
       "│ 2138 ┆ cognizant tech solutns a ┆ cognizant tech solutions ┆ CTSH     ┆ CTSH     ┆ true          │\n",
       "│      ┆                          ┆ corp                     ┆          ┆          ┆               │\n",
       "│ 2139 ┆ pimco investment grade   ┆ fid conservative income  ┆ PBDAX    ┆ FCONX    ┆ false         │\n",
       "│      ┆ corporate…               ┆ bond fun…                ┆          ┆          ┆               │\n",
       "│ 2140 ┆ eli lilly & co com       ┆ lilly eli &co com npv    ┆ LLY      ┆ LLY      ┆ true          │\n",
       "│ 2141 ┆ dfa comm strategy i      ┆ dfa commodity strategy   ┆ DCMSX    ┆ DCMSX    ┆ true          │\n",
       "│      ┆                          ┆ port                     ┆          ┆          ┆               │\n",
       "└──────┴──────────────────────────┴──────────────────────────┴──────────┴──────────┴───────────────┘"
      ]
     },
     "execution_count": 12,
     "metadata": {},
     "output_type": "execute_result"
    }
   ],
   "source": [
    "train_df = pl.read_csv(TRAIN_DATA_PATH, separator=\",\", has_header=True)\n",
    "train_df"
   ]
  },
  {
   "cell_type": "code",
   "execution_count": 13,
   "metadata": {},
   "outputs": [
    {
     "data": {
      "text/html": [
       "<div><style>\n",
       ".dataframe > thead > tr > th,\n",
       ".dataframe > tbody > tr > td {\n",
       "  text-align: right;\n",
       "}\n",
       "</style>\n",
       "<small>shape: (516, 4)</small><table border=\"1\" class=\"dataframe\"><thead><tr><th>test_id</th><th>description_x</th><th>description_y</th><th>same_security</th></tr><tr><td>i64</td><td>str</td><td>str</td><td>str</td></tr></thead><tbody><tr><td>0</td><td>&quot;semtech corp&quot;</td><td>&quot;semtech corpor…</td><td>null</td></tr><tr><td>1</td><td>&quot;vanguard mid c…</td><td>&quot;vanguard midca…</td><td>null</td></tr><tr><td>2</td><td>&quot;spdr gold trus…</td><td>&quot;spdr gold trus…</td><td>null</td></tr><tr><td>3</td><td>&quot;vanguard total…</td><td>&quot;vanguard total…</td><td>null</td></tr><tr><td>4</td><td>&quot;oakmark intern…</td><td>&quot;oakmark intern…</td><td>null</td></tr><tr><td>5</td><td>&quot;pfizer inc div…</td><td>&quot;pfizer inc com…</td><td>null</td></tr><tr><td>6</td><td>&quot;spartan global…</td><td>&quot;sptn glb xus i…</td><td>null</td></tr><tr><td>7</td><td>&quot;vanguard total…</td><td>&quot;vanguard total…</td><td>null</td></tr><tr><td>8</td><td>&quot;banco latinoam…</td><td>&quot;banco latinoam…</td><td>null</td></tr><tr><td>9</td><td>&quot;baidu inc fadr…</td><td>&quot;baidu inc spon…</td><td>null</td></tr><tr><td>10</td><td>&quot;whole foods ma…</td><td>&quot;whole foods ma…</td><td>null</td></tr><tr><td>11</td><td>&quot;walgreens boot…</td><td>&quot;walgreens boot…</td><td>null</td></tr><tr><td>&hellip;</td><td>&hellip;</td><td>&hellip;</td><td>&hellip;</td></tr><tr><td>504</td><td>&quot;vanguard total…</td><td>&quot;vanguard total…</td><td>null</td></tr><tr><td>505</td><td>&quot;otter tail cor…</td><td>&quot;otter tail cor…</td><td>null</td></tr><tr><td>506</td><td>&quot;sptn intl inde…</td><td>&quot;sptn intl inde…</td><td>null</td></tr><tr><td>507</td><td>&quot;cnooc ltd. adr…</td><td>&quot;cnooc limited …</td><td>null</td></tr><tr><td>508</td><td>&quot;eaton vance gl…</td><td>&quot;eaton vance gl…</td><td>null</td></tr><tr><td>509</td><td>&quot;dfa u s small …</td><td>&quot;dfa us small c…</td><td>null</td></tr><tr><td>510</td><td>&quot;sears canada i…</td><td>&quot;sears cda inc&quot;</td><td>null</td></tr><tr><td>511</td><td>&quot;at&amp;t inc com i…</td><td>&quot;franklin res i…</td><td>null</td></tr><tr><td>512</td><td>&quot;vanguard total…</td><td>&quot;vanguard total…</td><td>null</td></tr><tr><td>513</td><td>&quot;wisdomtree jap…</td><td>&quot;wisdomtree jap…</td><td>null</td></tr><tr><td>514</td><td>&quot;templeton glob…</td><td>&quot;templeton glba…</td><td>null</td></tr><tr><td>515</td><td>&quot;trp health sci…</td><td>&quot;t. rowe price …</td><td>null</td></tr></tbody></table></div>"
      ],
      "text/plain": [
       "shape: (516, 4)\n",
       "┌─────────┬───────────────────────────────────┬───────────────────────────────────┬───────────────┐\n",
       "│ test_id ┆ description_x                     ┆ description_y                     ┆ same_security │\n",
       "│ ---     ┆ ---                               ┆ ---                               ┆ ---           │\n",
       "│ i64     ┆ str                               ┆ str                               ┆ str           │\n",
       "╞═════════╪═══════════════════════════════════╪═══════════════════════════════════╪═══════════════╡\n",
       "│ 0       ┆ semtech corp                      ┆ semtech corporation               ┆ null          │\n",
       "│ 1       ┆ vanguard mid cap index            ┆ vanguard midcap index - a         ┆ null          │\n",
       "│ 2       ┆ spdr gold trust gold shares       ┆ spdr gold trust spdr gold shares  ┆ null          │\n",
       "│ 3       ┆ vanguard total bond index adm     ┆ vanguard total bond market index  ┆ null          │\n",
       "│ …       ┆ …                                 ┆ …                                 ┆ …             │\n",
       "│ 512     ┆ vanguard total international bon… ┆ vanguard total international bon… ┆ null          │\n",
       "│ 513     ┆ wisdomtree japan hedged equity -  ┆ wisdomtree japan hedged eq        ┆ null          │\n",
       "│ 514     ┆ templeton global bond fund advis… ┆ templeton glbal bond adv          ┆ null          │\n",
       "│ 515     ┆ trp health sciences               ┆ t. rowe price health sciences fu… ┆ null          │\n",
       "└─────────┴───────────────────────────────────┴───────────────────────────────────┴───────────────┘"
      ]
     },
     "execution_count": 13,
     "metadata": {},
     "output_type": "execute_result"
    }
   ],
   "source": [
    "test_df = pl.read_csv(TEST_DATA_PATH, separator=\",\", has_header=True)\n",
    "test_df"
   ]
  },
  {
   "cell_type": "markdown",
   "metadata": {},
   "source": [
    "# Train & Test Datasets"
   ]
  },
  {
   "cell_type": "code",
   "execution_count": 15,
   "metadata": {},
   "outputs": [
    {
     "name": "stdout",
     "output_type": "stream",
     "text": [
      "X_train: (2142,)\n",
      "y_train: (2142,)\n"
     ]
    },
    {
     "name": "stderr",
     "output_type": "stream",
     "text": [
      "/var/folders/gq/xnxpqv5x7jz19nnym4s4_l940000gn/T/ipykernel_62696/2830444001.py:3: VisibleDeprecationWarning: Creating an ndarray from ragged nested sequences (which is a list-or-tuple of lists-or-tuples-or ndarrays with different lengths or shapes) is deprecated. If you meant to do this, you must specify 'dtype=object' when creating the ndarray.\n",
      "  X_train = np.array(X_train)\n",
      "/var/folders/gq/xnxpqv5x7jz19nnym4s4_l940000gn/T/ipykernel_62696/2830444001.py:7: VisibleDeprecationWarning: Creating an ndarray from ragged nested sequences (which is a list-or-tuple of lists-or-tuples-or ndarrays with different lengths or shapes) is deprecated. If you meant to do this, you must specify 'dtype=object' when creating the ndarray.\n",
      "  y_train = np.array(y_train)\n"
     ]
    }
   ],
   "source": [
    "X_train = train_df['description_x'].to_numpy()\n",
    "X_train = [nltk.word_tokenize(x) for x in X_train]\n",
    "X_train = np.array(X_train)\n",
    "\n",
    "y_train = train_df['description_y'].to_numpy()\n",
    "y_train = [nltk.word_tokenize(x) for x in y_train]\n",
    "y_train = np.array(y_train)\n",
    "\n",
    "print(f\"\"\"X_train: {X_train.shape}\n",
    "y_train: {y_train.shape}\"\"\")"
   ]
  },
  {
   "cell_type": "code",
   "execution_count": 16,
   "metadata": {},
   "outputs": [
    {
     "data": {
      "text/plain": [
       "array([list(['first', 'trust', 'dow', 'jones', 'internet']),\n",
       "       list(['schwab', 'intl', 'large', 'company', 'index', 'etf']),\n",
       "       list(['vanguard', 'small', 'cap', 'index', 'adm']), ...,\n",
       "       list(['pimco', 'investment', 'grade', 'corporate', 'bond', 'fund', '-', 'class', 'a']),\n",
       "       list(['eli', 'lilly', '&', 'co', 'com']),\n",
       "       list(['dfa', 'comm', 'strategy', 'i'])], dtype=object)"
      ]
     },
     "execution_count": 16,
     "metadata": {},
     "output_type": "execute_result"
    }
   ],
   "source": [
    "X_train"
   ]
  },
  {
   "cell_type": "code",
   "execution_count": 6,
   "metadata": {},
   "outputs": [
    {
     "name": "stdout",
     "output_type": "stream",
     "text": [
      "X_test: (516,)\n",
      "y_test: (516,)\n"
     ]
    }
   ],
   "source": [
    "X_test = test_df['description_x'].to_numpy()\n",
    "y_test = test_df['description_y'].to_numpy()\n",
    "print(f\"\"\"X_test: {X_test.shape}\n",
    "y_test: {y_test.shape}\"\"\")"
   ]
  },
  {
   "cell_type": "markdown",
   "metadata": {},
   "source": [
    "# Data Vectorizing"
   ]
  },
  {
   "cell_type": "code",
   "execution_count": 30,
   "metadata": {},
   "outputs": [
    {
     "name": "stdout",
     "output_type": "stream",
     "text": [
      "(2142, 1420)\n"
     ]
    }
   ],
   "source": [
    "train_vector = vectorizer.fit_transform(X_train, y_train).toarray()\n",
    "print(train_vector.shape)"
   ]
  },
  {
   "cell_type": "code",
   "execution_count": 33,
   "metadata": {},
   "outputs": [
    {
     "name": "stdout",
     "output_type": "stream",
     "text": [
      "  (0, 372)\t1\n",
      "  (1, 289)\t1\n",
      "  (1, 657)\t1\n",
      "  (1, 842)\t1\n",
      "  (1, 1335)\t1\n",
      "  (2, 580)\t2\n",
      "  (2, 1129)\t1\n",
      "  (2, 1172)\t1\n",
      "  (2, 1284)\t1\n",
      "  (3, 112)\t1\n",
      "  (3, 252)\t1\n",
      "  (3, 657)\t1\n",
      "  (3, 1262)\t1\n",
      "  (3, 1335)\t1\n",
      "  (4, 326)\t1\n",
      "  (4, 553)\t1\n",
      "  (4, 690)\t1\n",
      "  (4, 917)\t1\n",
      "  (5, 31)\t1\n",
      "  (5, 416)\t1\n",
      "  (5, 649)\t1\n",
      "  (5, 973)\t1\n",
      "  (6, 118)\t1\n",
      "  (6, 324)\t1\n",
      "  (6, 495)\t1\n",
      "  :\t:\n",
      "  (511, 61)\t1\n",
      "  (511, 191)\t1\n",
      "  (511, 343)\t1\n",
      "  (511, 649)\t1\n",
      "  (511, 722)\t1\n",
      "  (511, 1114)\t1\n",
      "  (512, 252)\t1\n",
      "  (512, 485)\t1\n",
      "  (512, 657)\t1\n",
      "  (512, 690)\t1\n",
      "  (512, 1262)\t1\n",
      "  (512, 1335)\t1\n",
      "  (513, 479)\t1\n",
      "  (513, 619)\t1\n",
      "  (513, 728)\t1\n",
      "  (513, 1390)\t1\n",
      "  (514, 119)\t1\n",
      "  (514, 252)\t1\n",
      "  (514, 326)\t1\n",
      "  (514, 553)\t1\n",
      "  (514, 577)\t1\n",
      "  (514, 1237)\t1\n",
      "  (515, 617)\t1\n",
      "  (515, 1100)\t1\n",
      "  (515, 1283)\t1\n"
     ]
    }
   ],
   "source": [
    "test_vector = vectorizer.transform(X_test)\n",
    "print(test_vector)"
   ]
  },
  {
   "cell_type": "code",
   "execution_count": null,
   "metadata": {},
   "outputs": [],
   "source": []
  }
 ],
 "metadata": {
  "kernelspec": {
   "display_name": "base",
   "language": "python",
   "name": "python3"
  },
  "language_info": {
   "codemirror_mode": {
    "name": "ipython",
    "version": 3
   },
   "file_extension": ".py",
   "mimetype": "text/x-python",
   "name": "python",
   "nbconvert_exporter": "python",
   "pygments_lexer": "ipython3",
   "version": "3.10.9"
  },
  "orig_nbformat": 4
 },
 "nbformat": 4,
 "nbformat_minor": 2
}
