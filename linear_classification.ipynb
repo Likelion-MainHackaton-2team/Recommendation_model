{
 "cells": [
  {
   "cell_type": "code",
   "execution_count": 1,
   "metadata": {},
   "outputs": [],
   "source": [
    "from sklearn.preprocessing import OneHotEncoder, LabelEncoder\n",
    "\n",
    "from sklearn.model_selection import train_test_split\n",
    "from sklearn.metrics import classification_report\n",
    "from sklearn.metrics import mean_squared_error\n",
    "from sklearn.metrics import confusion_matrix\n",
    "from sklearn.metrics import accuracy_score\n",
    "from sklearn.metrics import r2_score\n",
    "\n",
    "from tqdm import tqdm\n",
    "\n",
    "import matplotlib.pyplot as plt\n",
    "import seaborn as sns\n",
    "import pandas as pd\n",
    "import numpy as np\n",
    "\n",
    "from torch.utils.data import Dataset, DataLoader\n",
    "from torchsummary import summary\n",
    "\n",
    "import torch.nn.functional as F\n",
    "import torch.optim as optim\n",
    "import torch.nn as nn\n",
    "import torch\n",
    "import math\n",
    "\n",
    "DATA_PATH = \"./data/processed_dataset.csv\""
   ]
  },
  {
   "cell_type": "markdown",
   "metadata": {},
   "source": [
    "# Read data"
   ]
  },
  {
   "cell_type": "code",
   "execution_count": 2,
   "metadata": {},
   "outputs": [
    {
     "data": {
      "text/html": [
       "<div>\n",
       "<style scoped>\n",
       "    .dataframe tbody tr th:only-of-type {\n",
       "        vertical-align: middle;\n",
       "    }\n",
       "\n",
       "    .dataframe tbody tr th {\n",
       "        vertical-align: top;\n",
       "    }\n",
       "\n",
       "    .dataframe thead th {\n",
       "        text-align: right;\n",
       "    }\n",
       "</style>\n",
       "<table border=\"1\" class=\"dataframe\">\n",
       "  <thead>\n",
       "    <tr style=\"text-align: right;\">\n",
       "      <th></th>\n",
       "      <th>product_category</th>\n",
       "      <th>sales</th>\n",
       "      <th>price</th>\n",
       "      <th>VAP</th>\n",
       "      <th>pet_size</th>\n",
       "      <th>pet_type</th>\n",
       "      <th>re_buy</th>\n",
       "    </tr>\n",
       "    <tr>\n",
       "      <th>product_id</th>\n",
       "      <th></th>\n",
       "      <th></th>\n",
       "      <th></th>\n",
       "      <th></th>\n",
       "      <th></th>\n",
       "      <th></th>\n",
       "      <th></th>\n",
       "    </tr>\n",
       "  </thead>\n",
       "  <tbody>\n",
       "    <tr>\n",
       "      <th>5040</th>\n",
       "      <td>0</td>\n",
       "      <td>123</td>\n",
       "      <td>7293</td>\n",
       "      <td>0</td>\n",
       "      <td>0</td>\n",
       "      <td>0</td>\n",
       "      <td>1</td>\n",
       "    </tr>\n",
       "    <tr>\n",
       "      <th>4567</th>\n",
       "      <td>1</td>\n",
       "      <td>61</td>\n",
       "      <td>9304</td>\n",
       "      <td>1</td>\n",
       "      <td>0</td>\n",
       "      <td>1</td>\n",
       "      <td>0</td>\n",
       "    </tr>\n",
       "    <tr>\n",
       "      <th>4237</th>\n",
       "      <td>1</td>\n",
       "      <td>218</td>\n",
       "      <td>8180</td>\n",
       "      <td>0</td>\n",
       "      <td>0</td>\n",
       "      <td>2</td>\n",
       "      <td>0</td>\n",
       "    </tr>\n",
       "    <tr>\n",
       "      <th>4364</th>\n",
       "      <td>2</td>\n",
       "      <td>69</td>\n",
       "      <td>18559</td>\n",
       "      <td>1</td>\n",
       "      <td>1</td>\n",
       "      <td>3</td>\n",
       "      <td>1</td>\n",
       "    </tr>\n",
       "    <tr>\n",
       "      <th>4184</th>\n",
       "      <td>3</td>\n",
       "      <td>138</td>\n",
       "      <td>10283</td>\n",
       "      <td>1</td>\n",
       "      <td>1</td>\n",
       "      <td>3</td>\n",
       "      <td>0</td>\n",
       "    </tr>\n",
       "  </tbody>\n",
       "</table>\n",
       "</div>"
      ],
      "text/plain": [
       "            product_category  sales  price  VAP  pet_size  pet_type  re_buy\n",
       "product_id                                                                 \n",
       "5040                       0    123   7293    0         0         0       1\n",
       "4567                       1     61   9304    1         0         1       0\n",
       "4237                       1    218   8180    0         0         2       0\n",
       "4364                       2     69  18559    1         1         3       1\n",
       "4184                       3    138  10283    1         1         3       0"
      ]
     },
     "execution_count": 2,
     "metadata": {},
     "output_type": "execute_result"
    }
   ],
   "source": [
    "datasheet = pd.read_csv(DATA_PATH, sep=\",\", index_col=0)\n",
    "datasheet.head()"
   ]
  },
  {
   "cell_type": "markdown",
   "metadata": {},
   "source": [
    "# Train, Test(Validation) Split"
   ]
  },
  {
   "cell_type": "code",
   "execution_count": 3,
   "metadata": {},
   "outputs": [],
   "source": [
    "target = \"product_category\""
   ]
  },
  {
   "cell_type": "code",
   "execution_count": 4,
   "metadata": {},
   "outputs": [
    {
     "name": "stdout",
     "output_type": "stream",
     "text": [
      "X_data shape: (879, 6)\n",
      "y_data shape: (879, 6)\n"
     ]
    }
   ],
   "source": [
    "onehot_encoder = OneHotEncoder()\n",
    "\n",
    "X_data = datasheet.drop([target], axis=1).to_numpy().astype(np.float32)\n",
    "y_data = datasheet[target].to_numpy().astype(np.float32)\n",
    "y_data = onehot_encoder.fit_transform(y_data.reshape(-1, 1)).astype(np.float32).toarray()\n",
    "\n",
    "print(f\"\"\"X_data shape: {X_data.shape}\n",
    "y_data shape: {y_data.shape}\"\"\")"
   ]
  },
  {
   "cell_type": "code",
   "execution_count": 5,
   "metadata": {},
   "outputs": [
    {
     "name": "stdout",
     "output_type": "stream",
     "text": [
      "X_train: (703, 6)\n",
      "y_train: (703, 6)\n",
      "X_test: (176, 6)\n",
      "y_test: (176, 6)\n"
     ]
    }
   ],
   "source": [
    "X_train, X_test, y_train, y_test = train_test_split(X_data, y_data, test_size=0.2, random_state=42, shuffle=True)\n",
    "print(f\"\"\"X_train: {X_train.shape}\n",
    "y_train: {y_train.shape}\n",
    "X_test: {X_test.shape}\n",
    "y_test: {y_test.shape}\"\"\")"
   ]
  },
  {
   "cell_type": "markdown",
   "metadata": {},
   "source": [
    "# Datasets & DataLoader"
   ]
  },
  {
   "cell_type": "code",
   "execution_count": 6,
   "metadata": {},
   "outputs": [],
   "source": [
    "BATCH_SIZE = 16"
   ]
  },
  {
   "cell_type": "code",
   "execution_count": 7,
   "metadata": {},
   "outputs": [],
   "source": [
    "class CustomDataset(Dataset):\n",
    "    def __init__(self, X_data, y_data):\n",
    "        self.X_data = X_data\n",
    "        self.y_data = y_data\n",
    "\n",
    "    def __getitem__(self, index):\n",
    "        X = self.X_data[index]\n",
    "        y = self.y_data[index]\n",
    "        return X, y\n",
    "\n",
    "    def __len__(self):\n",
    "        return len(self.X_data)"
   ]
  },
  {
   "cell_type": "code",
   "execution_count": 8,
   "metadata": {},
   "outputs": [],
   "source": [
    "train_dataset = CustomDataset(X_train, y_train)\n",
    "train_dataloader = DataLoader(train_dataset, batch_size=BATCH_SIZE, shuffle=True)\n",
    "\n",
    "test_dataset = CustomDataset(X_test, y_test)\n",
    "test_dataloader = DataLoader(test_dataset, batch_size=BATCH_SIZE, shuffle=True)"
   ]
  },
  {
   "cell_type": "markdown",
   "metadata": {},
   "source": [
    "# Model"
   ]
  },
  {
   "cell_type": "code",
   "execution_count": 9,
   "metadata": {},
   "outputs": [],
   "source": [
    "device = torch.device('cpu')"
   ]
  },
  {
   "cell_type": "code",
   "execution_count": 10,
   "metadata": {},
   "outputs": [
    {
     "name": "stdout",
     "output_type": "stream",
     "text": [
      "----------------------------------------------------------------\n",
      "        Layer (type)               Output Shape         Param #\n",
      "================================================================\n",
      "            Linear-1                   [-1, 64]             448\n",
      "            Linear-2                  [-1, 128]           8,320\n",
      "            Linear-3                  [-1, 256]          33,024\n",
      "            Linear-4                  [-1, 512]         131,584\n",
      "            Linear-5                 [-1, 1024]         525,312\n",
      "               GRU-6  [[-1, 1, 1024], [-1, 2, 1024]]               0\n",
      "            Linear-7                  [-1, 512]         524,800\n",
      "            Linear-8                  [-1, 256]         131,328\n",
      "            Linear-9                  [-1, 128]          32,896\n",
      "           Linear-10                   [-1, 64]           8,256\n",
      "          Dropout-11                   [-1, 64]               0\n",
      "           Linear-12                    [-1, 6]             390\n",
      "          Softmax-13                    [-1, 6]               0\n",
      "================================================================\n",
      "Total params: 1,396,358\n",
      "Trainable params: 1,396,358\n",
      "Non-trainable params: 0\n",
      "----------------------------------------------------------------\n",
      "Input size (MB): 0.00\n",
      "Forward/backward pass size (MB): 15.98\n",
      "Params size (MB): 5.33\n",
      "Estimated Total Size (MB): 21.30\n",
      "----------------------------------------------------------------\n"
     ]
    }
   ],
   "source": [
    "class Model(nn.Module):\n",
    "    def __init__(self, input_dim, output_dim):\n",
    "        super(Model, self).__init__()\n",
    "        self.input_dim = input_dim\n",
    "        self.output_dim = output_dim\n",
    "\n",
    "        self.in_fc = nn.Linear(self.input_dim, 64)\n",
    "\n",
    "        self.hidden_1 = nn.Linear(64, 128)\n",
    "        self.hidden_2 = nn.Linear(128, 256)\n",
    "        self.hidden_3 = nn.Linear(256, 512)\n",
    "        self.hidden_4 = nn.Linear(512, 1024)\n",
    "\n",
    "        self.gru = nn.GRU(1024, 1024, 1, batch_first=True)\n",
    "\n",
    "        self.hidden_5 = nn.Linear(1024, 512)\n",
    "        self.hidden_6 = nn.Linear(512, 256)\n",
    "        self.hidden_7 = nn.Linear(256, 128)\n",
    "        self.hidden_8 = nn.Linear(128, 64)\n",
    "\n",
    "        self.out_fc = nn.Linear(64, self.output_dim)\n",
    "        self.softmax = nn.Softmax(dim=1)\n",
    "        self.dropout = nn.Dropout(0.25)\n",
    "\n",
    "    def forward(self, x):\n",
    "        x = F.relu(self.in_fc(x))\n",
    "\n",
    "        x = F.relu(self.hidden_1(x))\n",
    "        x = F.relu(self.hidden_2(x))\n",
    "        x = F.relu(self.hidden_3(x))\n",
    "        x = F.relu(self.hidden_4(x))\n",
    "\n",
    "        x = x.unsqueeze(1)\n",
    "        x, _ = self.gru(x)\n",
    "        x = x.squeeze(1)\n",
    "\n",
    "        x = F.relu(self.hidden_5(x))\n",
    "        x = F.relu(self.hidden_6(x))\n",
    "        x = F.relu(self.hidden_7(x))\n",
    "        x = F.relu(self.hidden_8(x))\n",
    "        x = self.dropout(x)\n",
    "\n",
    "        x = self.softmax(self.out_fc(x))\n",
    "        return x\n",
    "    \n",
    "model = Model(6, 6).to(device)\n",
    "summary(model.to(device='cpu'), (6, ))"
   ]
  },
  {
   "cell_type": "code",
   "execution_count": null,
   "metadata": {},
   "outputs": [
    {
     "name": "stdout",
     "output_type": "stream",
     "text": [
      "Adjusting learning rate of group 0 to 3.0000e-02.\n"
     ]
    }
   ],
   "source": [
    "optimizer = optim.SGD(model.parameters(), lr=0.03)\n",
    "criterion = nn.MSELoss()\n",
    "scheduler = optim.lr_scheduler.LambdaLR(\n",
    "    optimizer, \n",
    "    lr_lambda=lambda epoch: 0.95 ** epoch,\n",
    "    last_epoch=-1,\n",
    "    verbose=True\n",
    ")"
   ]
  },
  {
   "cell_type": "markdown",
   "metadata": {},
   "source": [
    "# Model Train & Validation"
   ]
  },
  {
   "cell_type": "code",
   "execution_count": 12,
   "metadata": {},
   "outputs": [],
   "source": [
    "EPOCHS = 500"
   ]
  },
  {
   "cell_type": "code",
   "execution_count": 13,
   "metadata": {},
   "outputs": [
    {
     "name": "stderr",
     "output_type": "stream",
     "text": [
      "Train Epoch 1/500, Train Loss: 0.0:  30%|██▉       | 13/44 [00:00<00:00, 61.98it/s]"
     ]
    },
    {
     "name": "stderr",
     "output_type": "stream",
     "text": [
      "Train Epoch 1/500, Train Loss: 0.0: 100%|██████████| 44/44 [00:00<00:00, 65.67it/s]\n"
     ]
    },
    {
     "name": "stdout",
     "output_type": "stream",
     "text": [
      "Adjusting learning rate of group 0 to 2.8500e-02.\n"
     ]
    },
    {
     "name": "stderr",
     "output_type": "stream",
     "text": [
      "Test Epoch 1/500, Test Loss: 7.1440932967446065: 100%|██████████| 11/11 [00:00<00:00, 179.28it/s]\n",
      "Train Epoch 2/500, Train Loss: 0.0: 100%|██████████| 44/44 [00:00<00:00, 61.43it/s]\n"
     ]
    },
    {
     "name": "stdout",
     "output_type": "stream",
     "text": [
      "Adjusting learning rate of group 0 to 2.7075e-02.\n"
     ]
    },
    {
     "name": "stderr",
     "output_type": "stream",
     "text": [
      "Test Epoch 2/500, Test Loss: 7.133056272159923: 100%|██████████| 11/11 [00:00<00:00, 177.15it/s]\n",
      "Train Epoch 3/500, Train Loss: 0.0: 100%|██████████| 44/44 [00:00<00:00, 66.55it/s]\n"
     ]
    },
    {
     "name": "stdout",
     "output_type": "stream",
     "text": [
      "Adjusting learning rate of group 0 to 2.5721e-02.\n"
     ]
    },
    {
     "name": "stderr",
     "output_type": "stream",
     "text": [
      "Test Epoch 3/500, Test Loss: 7.119705276055769: 100%|██████████| 11/11 [00:00<00:00, 180.73it/s]\n",
      "Train Epoch 4/500, Train Loss: 0.0: 100%|██████████| 44/44 [00:00<00:00, 68.44it/s]\n"
     ]
    },
    {
     "name": "stdout",
     "output_type": "stream",
     "text": [
      "Adjusting learning rate of group 0 to 2.4435e-02.\n"
     ]
    },
    {
     "name": "stderr",
     "output_type": "stream",
     "text": [
      "Test Epoch 4/500, Test Loss: 7.1070403619246045: 100%|██████████| 11/11 [00:00<00:00, 168.56it/s]\n",
      "Train Epoch 5/500, Train Loss: 0.0: 100%|██████████| 44/44 [00:00<00:00, 60.13it/s]\n"
     ]
    },
    {
     "name": "stdout",
     "output_type": "stream",
     "text": [
      "Adjusting learning rate of group 0 to 2.3213e-02.\n"
     ]
    },
    {
     "name": "stderr",
     "output_type": "stream",
     "text": [
      "Test Epoch 5/500, Test Loss: 7.092888842929494: 100%|██████████| 11/11 [00:00<00:00, 124.17it/s]\n",
      "Train Epoch 6/500, Train Loss: 0.0: 100%|██████████| 44/44 [00:00<00:00, 52.65it/s]\n"
     ]
    },
    {
     "name": "stdout",
     "output_type": "stream",
     "text": [
      "Adjusting learning rate of group 0 to 2.2053e-02.\n"
     ]
    },
    {
     "name": "stderr",
     "output_type": "stream",
     "text": [
      "Test Epoch 6/500, Test Loss: 7.069729566574097: 100%|██████████| 11/11 [00:00<00:00, 113.81it/s]\n",
      "Train Epoch 7/500, Train Loss: 0.0: 100%|██████████| 44/44 [00:01<00:00, 38.68it/s]\n"
     ]
    },
    {
     "name": "stdout",
     "output_type": "stream",
     "text": [
      "Adjusting learning rate of group 0 to 2.0950e-02.\n"
     ]
    },
    {
     "name": "stderr",
     "output_type": "stream",
     "text": [
      "Test Epoch 7/500, Test Loss: 7.049206376075745: 100%|██████████| 11/11 [00:00<00:00, 120.69it/s]\n",
      "Train Epoch 8/500, Train Loss: 0.0: 100%|██████████| 44/44 [00:01<00:00, 39.96it/s]\n"
     ]
    },
    {
     "name": "stdout",
     "output_type": "stream",
     "text": [
      "Adjusting learning rate of group 0 to 1.9903e-02.\n"
     ]
    },
    {
     "name": "stderr",
     "output_type": "stream",
     "text": [
      "Test Epoch 8/500, Test Loss: 7.019480022517118: 100%|██████████| 11/11 [00:00<00:00, 123.22it/s]\n",
      "Train Epoch 9/500, Train Loss: 0.0: 100%|██████████| 44/44 [00:01<00:00, 42.40it/s]\n"
     ]
    },
    {
     "name": "stdout",
     "output_type": "stream",
     "text": [
      "Adjusting learning rate of group 0 to 1.8907e-02.\n"
     ]
    },
    {
     "name": "stderr",
     "output_type": "stream",
     "text": [
      "Test Epoch 9/500, Test Loss: 6.988474900072271: 100%|██████████| 11/11 [00:00<00:00, 124.53it/s]\n",
      "Train Epoch 10/500, Train Loss: 0.0: 100%|██████████| 44/44 [00:01<00:00, 32.81it/s]\n"
     ]
    },
    {
     "name": "stdout",
     "output_type": "stream",
     "text": [
      "Adjusting learning rate of group 0 to 1.7962e-02.\n"
     ]
    },
    {
     "name": "stderr",
     "output_type": "stream",
     "text": [
      "Test Epoch 10/500, Test Loss: 6.976153709671714: 100%|██████████| 11/11 [00:00<00:00, 74.60it/s]\n",
      "Train Epoch 11/500, Train Loss: 0.0: 100%|██████████| 44/44 [00:01<00:00, 42.68it/s]\n"
     ]
    },
    {
     "name": "stdout",
     "output_type": "stream",
     "text": [
      "Adjusting learning rate of group 0 to 1.7064e-02.\n"
     ]
    },
    {
     "name": "stderr",
     "output_type": "stream",
     "text": [
      "Test Epoch 11/500, Test Loss: 6.97094831683419: 100%|██████████| 11/11 [00:00<00:00, 120.60it/s]\n",
      "Train Epoch 12/500, Train Loss: 0.0: 100%|██████████| 44/44 [00:00<00:00, 45.87it/s]\n"
     ]
    },
    {
     "name": "stdout",
     "output_type": "stream",
     "text": [
      "Adjusting learning rate of group 0 to 1.6211e-02.\n"
     ]
    },
    {
     "name": "stderr",
     "output_type": "stream",
     "text": [
      "Test Epoch 12/500, Test Loss: 6.953557068651373: 100%|██████████| 11/11 [00:00<00:00, 116.73it/s]\n",
      "Train Epoch 13/500, Train Loss: 0.0: 100%|██████████| 44/44 [00:00<00:00, 46.82it/s]\n"
     ]
    },
    {
     "name": "stdout",
     "output_type": "stream",
     "text": [
      "Adjusting learning rate of group 0 to 1.5400e-02.\n"
     ]
    },
    {
     "name": "stderr",
     "output_type": "stream",
     "text": [
      "Test Epoch 13/500, Test Loss: 6.944300174713135: 100%|██████████| 11/11 [00:00<00:00, 118.50it/s]\n",
      "Train Epoch 14/500, Train Loss: 0.0: 100%|██████████| 44/44 [00:00<00:00, 46.28it/s]\n"
     ]
    },
    {
     "name": "stdout",
     "output_type": "stream",
     "text": [
      "Adjusting learning rate of group 0 to 1.4630e-02.\n"
     ]
    },
    {
     "name": "stderr",
     "output_type": "stream",
     "text": [
      "Test Epoch 14/500, Test Loss: 6.9413616548884995: 100%|██████████| 11/11 [00:00<00:00, 112.25it/s]\n",
      "Train Epoch 15/500, Train Loss: 0.0: 100%|██████████| 44/44 [00:01<00:00, 43.92it/s]\n"
     ]
    },
    {
     "name": "stdout",
     "output_type": "stream",
     "text": [
      "Adjusting learning rate of group 0 to 1.3899e-02.\n"
     ]
    },
    {
     "name": "stderr",
     "output_type": "stream",
     "text": [
      "Test Epoch 15/500, Test Loss: 6.935741836374456: 100%|██████████| 11/11 [00:00<00:00, 96.45it/s]\n",
      "Train Epoch 16/500, Train Loss: 0.0: 100%|██████████| 44/44 [00:00<00:00, 45.55it/s]\n"
     ]
    },
    {
     "name": "stdout",
     "output_type": "stream",
     "text": [
      "Adjusting learning rate of group 0 to 1.3204e-02.\n"
     ]
    },
    {
     "name": "stderr",
     "output_type": "stream",
     "text": [
      "Test Epoch 16/500, Test Loss: 6.9281452243978325: 100%|██████████| 11/11 [00:00<00:00, 105.52it/s]\n",
      "Train Epoch 17/500, Train Loss: 0.0: 100%|██████████| 44/44 [00:01<00:00, 37.79it/s]\n"
     ]
    },
    {
     "name": "stdout",
     "output_type": "stream",
     "text": [
      "Adjusting learning rate of group 0 to 1.2544e-02.\n"
     ]
    },
    {
     "name": "stderr",
     "output_type": "stream",
     "text": [
      "Test Epoch 17/500, Test Loss: 6.92874801158905: 100%|██████████| 11/11 [00:00<00:00, 118.78it/s]\n",
      "Train Epoch 18/500, Train Loss: 0.0: 100%|██████████| 44/44 [00:00<00:00, 47.06it/s]\n"
     ]
    },
    {
     "name": "stdout",
     "output_type": "stream",
     "text": [
      "Adjusting learning rate of group 0 to 1.1916e-02.\n"
     ]
    },
    {
     "name": "stderr",
     "output_type": "stream",
     "text": [
      "Test Epoch 18/500, Test Loss: 6.932374574921348: 100%|██████████| 11/11 [00:00<00:00, 117.07it/s]\n",
      "Train Epoch 19/500, Train Loss: 0.0: 100%|██████████| 44/44 [00:00<00:00, 53.33it/s]\n"
     ]
    },
    {
     "name": "stdout",
     "output_type": "stream",
     "text": [
      "Adjusting learning rate of group 0 to 1.1321e-02.\n"
     ]
    },
    {
     "name": "stderr",
     "output_type": "stream",
     "text": [
      "Test Epoch 19/500, Test Loss: 6.931358001448891: 100%|██████████| 11/11 [00:00<00:00, 122.38it/s]\n",
      "Train Epoch 20/500, Train Loss: 0.0: 100%|██████████| 44/44 [00:00<00:00, 47.11it/s]\n"
     ]
    },
    {
     "name": "stdout",
     "output_type": "stream",
     "text": [
      "Adjusting learning rate of group 0 to 1.0755e-02.\n"
     ]
    },
    {
     "name": "stderr",
     "output_type": "stream",
     "text": [
      "Test Epoch 20/500, Test Loss: 6.927939393303611: 100%|██████████| 11/11 [00:00<00:00, 117.89it/s]\n",
      "Train Epoch 21/500, Train Loss: 0.0: 100%|██████████| 44/44 [00:00<00:00, 48.43it/s]\n"
     ]
    },
    {
     "name": "stdout",
     "output_type": "stream",
     "text": [
      "Adjusting learning rate of group 0 to 1.0217e-02.\n"
     ]
    },
    {
     "name": "stderr",
     "output_type": "stream",
     "text": [
      "Test Epoch 21/500, Test Loss: 6.91938042640686: 100%|██████████| 11/11 [00:00<00:00, 123.03it/s]\n",
      "Train Epoch 22/500, Train Loss: 0.0: 100%|██████████| 44/44 [00:01<00:00, 42.91it/s]\n"
     ]
    },
    {
     "name": "stdout",
     "output_type": "stream",
     "text": [
      "Adjusting learning rate of group 0 to 9.7060e-03.\n"
     ]
    },
    {
     "name": "stderr",
     "output_type": "stream",
     "text": [
      "Test Epoch 22/500, Test Loss: 6.924729108810425: 100%|██████████| 11/11 [00:00<00:00, 117.59it/s]\n",
      "Train Epoch 23/500, Train Loss: 0.0: 100%|██████████| 44/44 [00:00<00:00, 47.31it/s]\n"
     ]
    },
    {
     "name": "stdout",
     "output_type": "stream",
     "text": [
      "Adjusting learning rate of group 0 to 9.2207e-03.\n"
     ]
    },
    {
     "name": "stderr",
     "output_type": "stream",
     "text": [
      "Test Epoch 23/500, Test Loss: 6.922117168253118: 100%|██████████| 11/11 [00:00<00:00, 118.33it/s]\n",
      "Train Epoch 24/500, Train Loss: 0.0: 100%|██████████| 44/44 [00:00<00:00, 53.27it/s]\n"
     ]
    },
    {
     "name": "stdout",
     "output_type": "stream",
     "text": [
      "Adjusting learning rate of group 0 to 8.7597e-03.\n"
     ]
    },
    {
     "name": "stderr",
     "output_type": "stream",
     "text": [
      "Test Epoch 24/500, Test Loss: 6.9154440706426445: 100%|██████████| 11/11 [00:00<00:00, 121.91it/s]\n",
      "Train Epoch 25/500, Train Loss: 0.0: 100%|██████████| 44/44 [00:00<00:00, 52.66it/s]\n"
     ]
    },
    {
     "name": "stdout",
     "output_type": "stream",
     "text": [
      "Adjusting learning rate of group 0 to 8.3217e-03.\n"
     ]
    },
    {
     "name": "stderr",
     "output_type": "stream",
     "text": [
      "Test Epoch 25/500, Test Loss: 6.927870078520342: 100%|██████████| 11/11 [00:00<00:00, 125.03it/s]\n",
      "Train Epoch 26/500, Train Loss: 0.0: 100%|██████████| 44/44 [00:00<00:00, 52.15it/s]\n"
     ]
    },
    {
     "name": "stdout",
     "output_type": "stream",
     "text": [
      "Adjusting learning rate of group 0 to 7.9056e-03.\n"
     ]
    },
    {
     "name": "stderr",
     "output_type": "stream",
     "text": [
      "Test Epoch 26/500, Test Loss: 6.930422392758456: 100%|██████████| 11/11 [00:00<00:00, 120.22it/s]\n",
      "Train Epoch 27/500, Train Loss: 0.0: 100%|██████████| 44/44 [00:00<00:00, 44.72it/s]\n"
     ]
    },
    {
     "name": "stdout",
     "output_type": "stream",
     "text": [
      "Adjusting learning rate of group 0 to 7.5103e-03.\n"
     ]
    },
    {
     "name": "stderr",
     "output_type": "stream",
     "text": [
      "Test Epoch 27/500, Test Loss: 6.920583334836093: 100%|██████████| 11/11 [00:00<00:00, 78.36it/s]\n",
      "Train Epoch 28/500, Train Loss: 0.0: 100%|██████████| 44/44 [00:01<00:00, 39.49it/s]\n"
     ]
    },
    {
     "name": "stdout",
     "output_type": "stream",
     "text": [
      "Adjusting learning rate of group 0 to 7.1348e-03.\n"
     ]
    },
    {
     "name": "stderr",
     "output_type": "stream",
     "text": [
      "Test Epoch 28/500, Test Loss: 6.913877389647744: 100%|██████████| 11/11 [00:00<00:00, 94.73it/s]\n",
      "Train Epoch 29/500, Train Loss: 0.0: 100%|██████████| 44/44 [00:00<00:00, 46.75it/s]\n"
     ]
    },
    {
     "name": "stdout",
     "output_type": "stream",
     "text": [
      "Adjusting learning rate of group 0 to 6.7781e-03.\n"
     ]
    },
    {
     "name": "stderr",
     "output_type": "stream",
     "text": [
      "Test Epoch 29/500, Test Loss: 6.920617385344072: 100%|██████████| 11/11 [00:00<00:00, 104.77it/s]\n",
      "Train Epoch 30/500, Train Loss: 0.0: 100%|██████████| 44/44 [00:00<00:00, 45.73it/s]\n"
     ]
    },
    {
     "name": "stdout",
     "output_type": "stream",
     "text": [
      "Adjusting learning rate of group 0 to 6.4392e-03.\n"
     ]
    },
    {
     "name": "stderr",
     "output_type": "stream",
     "text": [
      "Test Epoch 30/500, Test Loss: 6.92138252475045: 100%|██████████| 11/11 [00:00<00:00, 117.45it/s]\n",
      "Train Epoch 31/500, Train Loss: 0.0: 100%|██████████| 44/44 [00:00<00:00, 44.54it/s]\n"
     ]
    },
    {
     "name": "stdout",
     "output_type": "stream",
     "text": [
      "Adjusting learning rate of group 0 to 6.1172e-03.\n"
     ]
    },
    {
     "name": "stderr",
     "output_type": "stream",
     "text": [
      "Test Epoch 31/500, Test Loss: 6.920607003298673: 100%|██████████| 11/11 [00:00<00:00, 51.41it/s]\n",
      "Train Epoch 32/500, Train Loss: 0.0: 100%|██████████| 44/44 [00:00<00:00, 45.18it/s]\n"
     ]
    },
    {
     "name": "stdout",
     "output_type": "stream",
     "text": [
      "Adjusting learning rate of group 0 to 5.8113e-03.\n"
     ]
    },
    {
     "name": "stderr",
     "output_type": "stream",
     "text": [
      "Test Epoch 32/500, Test Loss: 6.916779355569319: 100%|██████████| 11/11 [00:00<00:00, 119.74it/s]\n",
      "Train Epoch 33/500, Train Loss: 0.0: 100%|██████████| 44/44 [00:00<00:00, 46.10it/s]\n"
     ]
    },
    {
     "name": "stdout",
     "output_type": "stream",
     "text": [
      "Adjusting learning rate of group 0 to 5.5208e-03.\n"
     ]
    },
    {
     "name": "stderr",
     "output_type": "stream",
     "text": [
      "Test Epoch 33/500, Test Loss: 6.925399119203741: 100%|██████████| 11/11 [00:00<00:00, 117.35it/s]\n",
      "Train Epoch 34/500, Train Loss: 0.0: 100%|██████████| 44/44 [00:00<00:00, 44.42it/s]\n"
     ]
    },
    {
     "name": "stdout",
     "output_type": "stream",
     "text": [
      "Adjusting learning rate of group 0 to 5.2447e-03.\n"
     ]
    },
    {
     "name": "stderr",
     "output_type": "stream",
     "text": [
      "Test Epoch 34/500, Test Loss: 6.920010360804471: 100%|██████████| 11/11 [00:00<00:00, 92.29it/s]\n",
      "Train Epoch 35/500, Train Loss: 0.0: 100%|██████████| 44/44 [00:01<00:00, 42.83it/s]\n"
     ]
    },
    {
     "name": "stdout",
     "output_type": "stream",
     "text": [
      "Adjusting learning rate of group 0 to 4.9825e-03.\n"
     ]
    },
    {
     "name": "stderr",
     "output_type": "stream",
     "text": [
      "Test Epoch 35/500, Test Loss: 6.926710865714333: 100%|██████████| 11/11 [00:00<00:00, 110.19it/s]\n",
      "Train Epoch 36/500, Train Loss: 0.0: 100%|██████████| 44/44 [00:01<00:00, 36.22it/s]\n"
     ]
    },
    {
     "name": "stdout",
     "output_type": "stream",
     "text": [
      "Adjusting learning rate of group 0 to 4.7334e-03.\n"
     ]
    },
    {
     "name": "stderr",
     "output_type": "stream",
     "text": [
      "Test Epoch 36/500, Test Loss: 6.910303646867925: 100%|██████████| 11/11 [00:00<00:00, 55.98it/s]\n",
      "Train Epoch 37/500, Train Loss: 0.0: 100%|██████████| 44/44 [00:01<00:00, 43.63it/s]\n"
     ]
    },
    {
     "name": "stdout",
     "output_type": "stream",
     "text": [
      "Adjusting learning rate of group 0 to 4.4967e-03.\n"
     ]
    },
    {
     "name": "stderr",
     "output_type": "stream",
     "text": [
      "Test Epoch 37/500, Test Loss: 6.9291159889914775: 100%|██████████| 11/11 [00:00<00:00, 96.63it/s]\n",
      "Train Epoch 38/500, Train Loss: 0.0: 100%|██████████| 44/44 [00:01<00:00, 41.31it/s]\n"
     ]
    },
    {
     "name": "stdout",
     "output_type": "stream",
     "text": [
      "Adjusting learning rate of group 0 to 4.2719e-03.\n"
     ]
    },
    {
     "name": "stderr",
     "output_type": "stream",
     "text": [
      "Test Epoch 38/500, Test Loss: 6.920053687962619: 100%|██████████| 11/11 [00:00<00:00, 81.29it/s]\n",
      "Train Epoch 39/500, Train Loss: 0.0: 100%|██████████| 44/44 [00:01<00:00, 36.63it/s]\n"
     ]
    },
    {
     "name": "stdout",
     "output_type": "stream",
     "text": [
      "Adjusting learning rate of group 0 to 4.0583e-03.\n"
     ]
    },
    {
     "name": "stderr",
     "output_type": "stream",
     "text": [
      "Test Epoch 39/500, Test Loss: 6.926647717302496: 100%|██████████| 11/11 [00:00<00:00, 107.07it/s]\n",
      "Train Epoch 40/500, Train Loss: 0.0: 100%|██████████| 44/44 [00:01<00:00, 41.54it/s]\n"
     ]
    },
    {
     "name": "stdout",
     "output_type": "stream",
     "text": [
      "Adjusting learning rate of group 0 to 3.8554e-03.\n"
     ]
    },
    {
     "name": "stderr",
     "output_type": "stream",
     "text": [
      "Test Epoch 40/500, Test Loss: 6.928243452852422: 100%|██████████| 11/11 [00:00<00:00, 67.91it/s]\n",
      "Train Epoch 41/500, Train Loss: 0.0: 100%|██████████| 44/44 [00:01<00:00, 41.93it/s]\n"
     ]
    },
    {
     "name": "stdout",
     "output_type": "stream",
     "text": [
      "Adjusting learning rate of group 0 to 3.6626e-03.\n"
     ]
    },
    {
     "name": "stderr",
     "output_type": "stream",
     "text": [
      "Test Epoch 41/500, Test Loss: 6.920708786357533: 100%|██████████| 11/11 [00:00<00:00, 71.73it/s]\n",
      "Train Epoch 42/500, Train Loss: 0.0: 100%|██████████| 44/44 [00:01<00:00, 41.70it/s]\n"
     ]
    },
    {
     "name": "stdout",
     "output_type": "stream",
     "text": [
      "Adjusting learning rate of group 0 to 3.4795e-03.\n"
     ]
    },
    {
     "name": "stderr",
     "output_type": "stream",
     "text": [
      "Test Epoch 42/500, Test Loss: 6.906724322925914: 100%|██████████| 11/11 [00:00<00:00, 87.76it/s]\n",
      "Train Epoch 43/500, Train Loss: 0.0: 100%|██████████| 44/44 [00:01<00:00, 43.32it/s]\n"
     ]
    },
    {
     "name": "stdout",
     "output_type": "stream",
     "text": [
      "Adjusting learning rate of group 0 to 3.3055e-03.\n"
     ]
    },
    {
     "name": "stderr",
     "output_type": "stream",
     "text": [
      "Test Epoch 43/500, Test Loss: 6.911330938339233: 100%|██████████| 11/11 [00:00<00:00, 116.95it/s]\n",
      "Train Epoch 44/500, Train Loss: 0.0: 100%|██████████| 44/44 [00:01<00:00, 41.50it/s]\n"
     ]
    },
    {
     "name": "stdout",
     "output_type": "stream",
     "text": [
      "Adjusting learning rate of group 0 to 3.1402e-03.\n"
     ]
    },
    {
     "name": "stderr",
     "output_type": "stream",
     "text": [
      "Test Epoch 44/500, Test Loss: 6.919958342205394: 100%|██████████| 11/11 [00:00<00:00, 107.98it/s]\n",
      "Train Epoch 45/500, Train Loss: 0.0: 100%|██████████| 44/44 [00:00<00:00, 46.52it/s]\n"
     ]
    },
    {
     "name": "stdout",
     "output_type": "stream",
     "text": [
      "Adjusting learning rate of group 0 to 2.9832e-03.\n"
     ]
    },
    {
     "name": "stderr",
     "output_type": "stream",
     "text": [
      "Test Epoch 45/500, Test Loss: 6.907810471274636: 100%|██████████| 11/11 [00:00<00:00, 117.17it/s]\n",
      "Train Epoch 46/500, Train Loss: 0.0: 100%|██████████| 44/44 [00:00<00:00, 45.29it/s]\n"
     ]
    },
    {
     "name": "stdout",
     "output_type": "stream",
     "text": [
      "Adjusting learning rate of group 0 to 2.8340e-03.\n"
     ]
    },
    {
     "name": "stderr",
     "output_type": "stream",
     "text": [
      "Test Epoch 46/500, Test Loss: 6.925946745005521: 100%|██████████| 11/11 [00:00<00:00, 90.10it/s]\n",
      "Train Epoch 47/500, Train Loss: 0.0: 100%|██████████| 44/44 [00:01<00:00, 34.53it/s]\n"
     ]
    },
    {
     "name": "stdout",
     "output_type": "stream",
     "text": [
      "Adjusting learning rate of group 0 to 2.6923e-03.\n"
     ]
    },
    {
     "name": "stderr",
     "output_type": "stream",
     "text": [
      "Test Epoch 47/500, Test Loss: 6.9198467623103745: 100%|██████████| 11/11 [00:00<00:00, 73.99it/s]\n",
      "Train Epoch 48/500, Train Loss: 0.0: 100%|██████████| 44/44 [00:01<00:00, 37.66it/s]\n"
     ]
    },
    {
     "name": "stdout",
     "output_type": "stream",
     "text": [
      "Adjusting learning rate of group 0 to 2.5577e-03.\n"
     ]
    },
    {
     "name": "stderr",
     "output_type": "stream",
     "text": [
      "Test Epoch 48/500, Test Loss: 6.917715766213157: 100%|██████████| 11/11 [00:00<00:00, 101.07it/s]\n",
      "Train Epoch 49/500, Train Loss: 0.0: 100%|██████████| 44/44 [00:00<00:00, 46.21it/s]\n"
     ]
    },
    {
     "name": "stdout",
     "output_type": "stream",
     "text": [
      "Adjusting learning rate of group 0 to 2.4298e-03.\n"
     ]
    },
    {
     "name": "stderr",
     "output_type": "stream",
     "text": [
      "Test Epoch 49/500, Test Loss: 6.9119965921748765: 100%|██████████| 11/11 [00:00<00:00, 117.84it/s]\n",
      "Train Epoch 50/500, Train Loss: 0.0: 100%|██████████| 44/44 [00:00<00:00, 46.56it/s]\n"
     ]
    },
    {
     "name": "stdout",
     "output_type": "stream",
     "text": [
      "Adjusting learning rate of group 0 to 2.3083e-03.\n"
     ]
    },
    {
     "name": "stderr",
     "output_type": "stream",
     "text": [
      "Test Epoch 50/500, Test Loss: 6.908165259794756: 100%|██████████| 11/11 [00:00<00:00, 117.16it/s]\n",
      "Train Epoch 51/500, Train Loss: 0.0: 100%|██████████| 44/44 [00:00<00:00, 47.33it/s]\n"
     ]
    },
    {
     "name": "stdout",
     "output_type": "stream",
     "text": [
      "Adjusting learning rate of group 0 to 2.1929e-03.\n"
     ]
    },
    {
     "name": "stderr",
     "output_type": "stream",
     "text": [
      "Test Epoch 51/500, Test Loss: 6.914877382191745: 100%|██████████| 11/11 [00:00<00:00, 115.89it/s]\n",
      "Train Epoch 52/500, Train Loss: 0.0: 100%|██████████| 44/44 [00:00<00:00, 49.78it/s]\n"
     ]
    },
    {
     "name": "stdout",
     "output_type": "stream",
     "text": [
      "Adjusting learning rate of group 0 to 2.0833e-03.\n"
     ]
    },
    {
     "name": "stderr",
     "output_type": "stream",
     "text": [
      "Test Epoch 52/500, Test Loss: 6.916608582843434: 100%|██████████| 11/11 [00:00<00:00, 114.83it/s]\n",
      "Train Epoch 53/500, Train Loss: 0.0: 100%|██████████| 44/44 [00:01<00:00, 35.56it/s]\n"
     ]
    },
    {
     "name": "stdout",
     "output_type": "stream",
     "text": [
      "Adjusting learning rate of group 0 to 1.9791e-03.\n"
     ]
    },
    {
     "name": "stderr",
     "output_type": "stream",
     "text": [
      "Test Epoch 53/500, Test Loss: 6.90721624547785: 100%|██████████| 11/11 [00:00<00:00, 84.26it/s]\n",
      "Train Epoch 54/500, Train Loss: 0.0: 100%|██████████| 44/44 [00:01<00:00, 43.51it/s]\n"
     ]
    },
    {
     "name": "stdout",
     "output_type": "stream",
     "text": [
      "Adjusting learning rate of group 0 to 1.8802e-03.\n"
     ]
    },
    {
     "name": "stderr",
     "output_type": "stream",
     "text": [
      "Test Epoch 54/500, Test Loss: 6.920469706708735: 100%|██████████| 11/11 [00:00<00:00, 109.72it/s]\n",
      "Train Epoch 55/500, Train Loss: 0.0: 100%|██████████| 44/44 [00:00<00:00, 45.69it/s]\n"
     ]
    },
    {
     "name": "stdout",
     "output_type": "stream",
     "text": [
      "Adjusting learning rate of group 0 to 1.7862e-03.\n"
     ]
    },
    {
     "name": "stderr",
     "output_type": "stream",
     "text": [
      "Test Epoch 55/500, Test Loss: 6.914098100228743: 100%|██████████| 11/11 [00:00<00:00, 110.34it/s]\n",
      "Train Epoch 56/500, Train Loss: 0.0: 100%|██████████| 44/44 [00:00<00:00, 46.03it/s]\n"
     ]
    },
    {
     "name": "stdout",
     "output_type": "stream",
     "text": [
      "Adjusting learning rate of group 0 to 1.6968e-03.\n"
     ]
    },
    {
     "name": "stderr",
     "output_type": "stream",
     "text": [
      "Test Epoch 56/500, Test Loss: 6.911112568595192: 100%|██████████| 11/11 [00:00<00:00, 114.80it/s]\n",
      "Train Epoch 57/500, Train Loss: 0.0: 100%|██████████| 44/44 [00:01<00:00, 38.71it/s]\n"
     ]
    },
    {
     "name": "stdout",
     "output_type": "stream",
     "text": [
      "Adjusting learning rate of group 0 to 1.6120e-03.\n"
     ]
    },
    {
     "name": "stderr",
     "output_type": "stream",
     "text": [
      "Test Epoch 57/500, Test Loss: 6.913372820073908: 100%|██████████| 11/11 [00:00<00:00, 107.78it/s]\n",
      "Train Epoch 58/500, Train Loss: 0.0: 100%|██████████| 44/44 [00:00<00:00, 45.46it/s]\n"
     ]
    },
    {
     "name": "stdout",
     "output_type": "stream",
     "text": [
      "Adjusting learning rate of group 0 to 1.5314e-03.\n"
     ]
    },
    {
     "name": "stderr",
     "output_type": "stream",
     "text": [
      "Test Epoch 58/500, Test Loss: 6.920107646421953: 100%|██████████| 11/11 [00:00<00:00, 116.60it/s]\n",
      "Train Epoch 59/500, Train Loss: 0.0: 100%|██████████| 44/44 [00:01<00:00, 42.63it/s]\n"
     ]
    },
    {
     "name": "stdout",
     "output_type": "stream",
     "text": [
      "Adjusting learning rate of group 0 to 1.4548e-03.\n"
     ]
    },
    {
     "name": "stderr",
     "output_type": "stream",
     "text": [
      "Test Epoch 59/500, Test Loss: 6.923269694501704: 100%|██████████| 11/11 [00:00<00:00, 70.85it/s]\n",
      "Train Epoch 60/500, Train Loss: 0.0: 100%|██████████| 44/44 [00:01<00:00, 37.35it/s]\n"
     ]
    },
    {
     "name": "stdout",
     "output_type": "stream",
     "text": [
      "Adjusting learning rate of group 0 to 1.3821e-03.\n"
     ]
    },
    {
     "name": "stderr",
     "output_type": "stream",
     "text": [
      "Test Epoch 60/500, Test Loss: 6.919639544053511: 100%|██████████| 11/11 [00:00<00:00, 80.25it/s]\n",
      "Train Epoch 61/500, Train Loss: 0.0: 100%|██████████| 44/44 [00:01<00:00, 41.33it/s]\n"
     ]
    },
    {
     "name": "stdout",
     "output_type": "stream",
     "text": [
      "Adjusting learning rate of group 0 to 1.3130e-03.\n"
     ]
    },
    {
     "name": "stderr",
     "output_type": "stream",
     "text": [
      "Test Epoch 61/500, Test Loss: 6.924457864327864: 100%|██████████| 11/11 [00:00<00:00, 48.25it/s]\n",
      "Train Epoch 62/500, Train Loss: 0.0: 100%|██████████| 44/44 [00:01<00:00, 40.59it/s]\n"
     ]
    },
    {
     "name": "stdout",
     "output_type": "stream",
     "text": [
      "Adjusting learning rate of group 0 to 1.2473e-03.\n"
     ]
    },
    {
     "name": "stderr",
     "output_type": "stream",
     "text": [
      "Test Epoch 62/500, Test Loss: 6.898887818509882: 100%|██████████| 11/11 [00:00<00:00, 111.11it/s]\n",
      "Train Epoch 63/500, Train Loss: 0.0: 100%|██████████| 44/44 [00:00<00:00, 45.87it/s]\n"
     ]
    },
    {
     "name": "stdout",
     "output_type": "stream",
     "text": [
      "Adjusting learning rate of group 0 to 1.1850e-03.\n"
     ]
    },
    {
     "name": "stderr",
     "output_type": "stream",
     "text": [
      "Test Epoch 63/500, Test Loss: 6.919905088164589: 100%|██████████| 11/11 [00:00<00:00, 112.93it/s]\n",
      "Train Epoch 64/500, Train Loss: 0.0: 100%|██████████| 44/44 [00:00<00:00, 46.20it/s]\n"
     ]
    },
    {
     "name": "stdout",
     "output_type": "stream",
     "text": [
      "Adjusting learning rate of group 0 to 1.1257e-03.\n"
     ]
    },
    {
     "name": "stderr",
     "output_type": "stream",
     "text": [
      "Test Epoch 64/500, Test Loss: 6.910248149525035: 100%|██████████| 11/11 [00:00<00:00, 115.92it/s]\n",
      "Train Epoch 65/500, Train Loss: 0.0: 100%|██████████| 44/44 [00:00<00:00, 44.33it/s]\n"
     ]
    },
    {
     "name": "stdout",
     "output_type": "stream",
     "text": [
      "Adjusting learning rate of group 0 to 1.0694e-03.\n"
     ]
    },
    {
     "name": "stderr",
     "output_type": "stream",
     "text": [
      "Test Epoch 65/500, Test Loss: 6.921346404335716: 100%|██████████| 11/11 [00:00<00:00, 62.45it/s]\n",
      "Train Epoch 66/500, Train Loss: 0.0: 100%|██████████| 44/44 [00:01<00:00, 38.01it/s]\n"
     ]
    },
    {
     "name": "stdout",
     "output_type": "stream",
     "text": [
      "Adjusting learning rate of group 0 to 1.0160e-03.\n"
     ]
    },
    {
     "name": "stderr",
     "output_type": "stream",
     "text": [
      "Test Epoch 66/500, Test Loss: 6.917321952906522: 100%|██████████| 11/11 [00:00<00:00, 116.20it/s]\n",
      "Train Epoch 67/500, Train Loss: 0.0: 100%|██████████| 44/44 [00:00<00:00, 45.32it/s]\n"
     ]
    },
    {
     "name": "stdout",
     "output_type": "stream",
     "text": [
      "Adjusting learning rate of group 0 to 9.6517e-04.\n"
     ]
    },
    {
     "name": "stderr",
     "output_type": "stream",
     "text": [
      "Test Epoch 67/500, Test Loss: 6.923494945872914: 100%|██████████| 11/11 [00:00<00:00, 57.04it/s]\n",
      "Train Epoch 68/500, Train Loss: 0.0: 100%|██████████| 44/44 [00:01<00:00, 34.72it/s]\n"
     ]
    },
    {
     "name": "stdout",
     "output_type": "stream",
     "text": [
      "Adjusting learning rate of group 0 to 9.1691e-04.\n"
     ]
    },
    {
     "name": "stderr",
     "output_type": "stream",
     "text": [
      "Test Epoch 68/500, Test Loss: 6.919228564609181: 100%|██████████| 11/11 [00:00<00:00, 115.81it/s]\n",
      "Train Epoch 69/500, Train Loss: 0.0: 100%|██████████| 44/44 [00:01<00:00, 42.56it/s]\n"
     ]
    },
    {
     "name": "stdout",
     "output_type": "stream",
     "text": [
      "Adjusting learning rate of group 0 to 8.7106e-04.\n"
     ]
    },
    {
     "name": "stderr",
     "output_type": "stream",
     "text": [
      "Test Epoch 69/500, Test Loss: 6.916056470437483: 100%|██████████| 11/11 [00:00<00:00, 114.31it/s]\n",
      "Train Epoch 70/500, Train Loss: 0.0: 100%|██████████| 44/44 [00:00<00:00, 45.69it/s]\n"
     ]
    },
    {
     "name": "stdout",
     "output_type": "stream",
     "text": [
      "Adjusting learning rate of group 0 to 8.2751e-04.\n"
     ]
    },
    {
     "name": "stderr",
     "output_type": "stream",
     "text": [
      "Test Epoch 70/500, Test Loss: 6.91601148518649: 100%|██████████| 11/11 [00:00<00:00, 115.70it/s]\n",
      "Train Epoch 71/500, Train Loss: 0.0: 100%|██████████| 44/44 [00:00<00:00, 44.38it/s]\n"
     ]
    },
    {
     "name": "stdout",
     "output_type": "stream",
     "text": [
      "Adjusting learning rate of group 0 to 7.8614e-04.\n"
     ]
    },
    {
     "name": "stderr",
     "output_type": "stream",
     "text": [
      "Test Epoch 71/500, Test Loss: 6.9160720760172065: 100%|██████████| 11/11 [00:00<00:00, 106.82it/s]\n",
      "Train Epoch 72/500, Train Loss: 0.0: 100%|██████████| 44/44 [00:01<00:00, 36.05it/s]\n"
     ]
    },
    {
     "name": "stdout",
     "output_type": "stream",
     "text": [
      "Adjusting learning rate of group 0 to 7.4683e-04.\n"
     ]
    },
    {
     "name": "stderr",
     "output_type": "stream",
     "text": [
      "Test Epoch 72/500, Test Loss: 6.915993853048845: 100%|██████████| 11/11 [00:00<00:00, 119.99it/s]\n",
      "Train Epoch 73/500, Train Loss: 0.0: 100%|██████████| 44/44 [00:01<00:00, 40.82it/s]\n"
     ]
    },
    {
     "name": "stdout",
     "output_type": "stream",
     "text": [
      "Adjusting learning rate of group 0 to 7.0949e-04.\n"
     ]
    },
    {
     "name": "stderr",
     "output_type": "stream",
     "text": [
      "Test Epoch 73/500, Test Loss: 6.909319845112887: 100%|██████████| 11/11 [00:00<00:00, 85.68it/s]\n",
      "Train Epoch 74/500, Train Loss: 0.0: 100%|██████████| 44/44 [00:01<00:00, 37.93it/s]\n"
     ]
    },
    {
     "name": "stdout",
     "output_type": "stream",
     "text": [
      "Adjusting learning rate of group 0 to 6.7401e-04.\n"
     ]
    },
    {
     "name": "stderr",
     "output_type": "stream",
     "text": [
      "Test Epoch 74/500, Test Loss: 6.91747696833177: 100%|██████████| 11/11 [00:00<00:00, 101.31it/s]\n",
      "Train Epoch 75/500, Train Loss: 0.0: 100%|██████████| 44/44 [00:00<00:00, 45.35it/s]\n"
     ]
    },
    {
     "name": "stdout",
     "output_type": "stream",
     "text": [
      "Adjusting learning rate of group 0 to 6.4031e-04.\n"
     ]
    },
    {
     "name": "stderr",
     "output_type": "stream",
     "text": [
      "Test Epoch 75/500, Test Loss: 6.922270796515725: 100%|██████████| 11/11 [00:00<00:00, 104.74it/s]\n",
      "Train Epoch 76/500, Train Loss: 0.0: 100%|██████████| 44/44 [00:01<00:00, 36.48it/s]\n"
     ]
    },
    {
     "name": "stdout",
     "output_type": "stream",
     "text": [
      "Adjusting learning rate of group 0 to 6.0830e-04.\n"
     ]
    },
    {
     "name": "stderr",
     "output_type": "stream",
     "text": [
      "Test Epoch 76/500, Test Loss: 6.925749659538269: 100%|██████████| 11/11 [00:00<00:00, 113.83it/s]\n",
      "Train Epoch 77/500, Train Loss: 0.0: 100%|██████████| 44/44 [00:00<00:00, 44.44it/s]\n"
     ]
    },
    {
     "name": "stdout",
     "output_type": "stream",
     "text": [
      "Adjusting learning rate of group 0 to 5.7788e-04.\n"
     ]
    },
    {
     "name": "stderr",
     "output_type": "stream",
     "text": [
      "Test Epoch 77/500, Test Loss: 6.922061334956776: 100%|██████████| 11/11 [00:00<00:00, 93.32it/s]\n",
      "Train Epoch 78/500, Train Loss: 0.0: 100%|██████████| 44/44 [00:01<00:00, 43.35it/s]\n"
     ]
    },
    {
     "name": "stdout",
     "output_type": "stream",
     "text": [
      "Adjusting learning rate of group 0 to 5.4899e-04.\n"
     ]
    },
    {
     "name": "stderr",
     "output_type": "stream",
     "text": [
      "Test Epoch 78/500, Test Loss: 6.918918652967974: 100%|██████████| 11/11 [00:00<00:00, 112.69it/s]\n",
      "Train Epoch 79/500, Train Loss: 0.0: 100%|██████████| 44/44 [00:01<00:00, 42.30it/s]\n"
     ]
    },
    {
     "name": "stdout",
     "output_type": "stream",
     "text": [
      "Adjusting learning rate of group 0 to 5.2154e-04.\n"
     ]
    },
    {
     "name": "stderr",
     "output_type": "stream",
     "text": [
      "Test Epoch 79/500, Test Loss: 6.91556990146637: 100%|██████████| 11/11 [00:00<00:00, 104.79it/s]\n",
      "Train Epoch 80/500, Train Loss: 0.0: 100%|██████████| 44/44 [00:01<00:00, 37.69it/s]\n"
     ]
    },
    {
     "name": "stdout",
     "output_type": "stream",
     "text": [
      "Adjusting learning rate of group 0 to 4.9546e-04.\n"
     ]
    },
    {
     "name": "stderr",
     "output_type": "stream",
     "text": [
      "Test Epoch 80/500, Test Loss: 6.910874811085788: 100%|██████████| 11/11 [00:00<00:00, 115.85it/s]\n",
      "Train Epoch 81/500, Train Loss: 0.0: 100%|██████████| 44/44 [00:01<00:00, 36.24it/s]\n"
     ]
    },
    {
     "name": "stdout",
     "output_type": "stream",
     "text": [
      "Adjusting learning rate of group 0 to 4.7069e-04.\n"
     ]
    },
    {
     "name": "stderr",
     "output_type": "stream",
     "text": [
      "Test Epoch 81/500, Test Loss: 6.912076950073242: 100%|██████████| 11/11 [00:00<00:00, 73.49it/s]\n",
      "Train Epoch 82/500, Train Loss: 0.0: 100%|██████████| 44/44 [00:01<00:00, 42.94it/s]\n"
     ]
    },
    {
     "name": "stdout",
     "output_type": "stream",
     "text": [
      "Adjusting learning rate of group 0 to 4.4715e-04.\n"
     ]
    },
    {
     "name": "stderr",
     "output_type": "stream",
     "text": [
      "Test Epoch 82/500, Test Loss: 6.923902273178101: 100%|██████████| 11/11 [00:00<00:00, 104.70it/s]\n",
      "Train Epoch 83/500, Train Loss: 0.0: 100%|██████████| 44/44 [00:00<00:00, 44.59it/s]\n"
     ]
    },
    {
     "name": "stdout",
     "output_type": "stream",
     "text": [
      "Adjusting learning rate of group 0 to 4.2480e-04.\n"
     ]
    },
    {
     "name": "stderr",
     "output_type": "stream",
     "text": [
      "Test Epoch 83/500, Test Loss: 6.920362114906311: 100%|██████████| 11/11 [00:00<00:00, 96.86it/s] \n",
      "Train Epoch 84/500, Train Loss: 0.0: 100%|██████████| 44/44 [00:01<00:00, 34.70it/s]\n"
     ]
    },
    {
     "name": "stdout",
     "output_type": "stream",
     "text": [
      "Adjusting learning rate of group 0 to 4.0356e-04.\n"
     ]
    },
    {
     "name": "stderr",
     "output_type": "stream",
     "text": [
      "Test Epoch 84/500, Test Loss: 6.921543468128551: 100%|██████████| 11/11 [00:00<00:00, 70.45it/s]\n",
      "Train Epoch 85/500, Train Loss: 0.0: 100%|██████████| 44/44 [00:01<00:00, 43.55it/s]\n"
     ]
    },
    {
     "name": "stdout",
     "output_type": "stream",
     "text": [
      "Adjusting learning rate of group 0 to 3.8338e-04.\n"
     ]
    },
    {
     "name": "stderr",
     "output_type": "stream",
     "text": [
      "Test Epoch 85/500, Test Loss: 6.920762387188998: 100%|██████████| 11/11 [00:00<00:00, 118.10it/s]\n",
      "Train Epoch 86/500, Train Loss: 0.0: 100%|██████████| 44/44 [00:00<00:00, 46.22it/s]\n"
     ]
    },
    {
     "name": "stdout",
     "output_type": "stream",
     "text": [
      "Adjusting learning rate of group 0 to 3.6421e-04.\n"
     ]
    },
    {
     "name": "stderr",
     "output_type": "stream",
     "text": [
      "Test Epoch 86/500, Test Loss: 6.919947960159996: 100%|██████████| 11/11 [00:00<00:00, 111.78it/s]\n",
      "Train Epoch 87/500, Train Loss: 0.0: 100%|██████████| 44/44 [00:00<00:00, 45.19it/s]\n"
     ]
    },
    {
     "name": "stdout",
     "output_type": "stream",
     "text": [
      "Adjusting learning rate of group 0 to 3.4600e-04.\n"
     ]
    },
    {
     "name": "stderr",
     "output_type": "stream",
     "text": [
      "Test Epoch 87/500, Test Loss: 6.913685115900907: 100%|██████████| 11/11 [00:00<00:00, 118.92it/s]\n",
      "Train Epoch 88/500, Train Loss: 0.0: 100%|██████████| 44/44 [00:00<00:00, 45.18it/s]\n"
     ]
    },
    {
     "name": "stdout",
     "output_type": "stream",
     "text": [
      "Adjusting learning rate of group 0 to 3.2870e-04.\n"
     ]
    },
    {
     "name": "stderr",
     "output_type": "stream",
     "text": [
      "Test Epoch 88/500, Test Loss: 6.91009958223863: 100%|██████████| 11/11 [00:00<00:00, 97.92it/s]\n",
      "Train Epoch 89/500, Train Loss: 0.0: 100%|██████████| 44/44 [00:01<00:00, 41.23it/s]\n"
     ]
    },
    {
     "name": "stdout",
     "output_type": "stream",
     "text": [
      "Adjusting learning rate of group 0 to 3.1226e-04.\n"
     ]
    },
    {
     "name": "stderr",
     "output_type": "stream",
     "text": [
      "Test Epoch 89/500, Test Loss: 6.91595826365731: 100%|██████████| 11/11 [00:00<00:00, 116.79it/s]\n",
      "Train Epoch 90/500, Train Loss: 0.0: 100%|██████████| 44/44 [00:00<00:00, 46.84it/s]\n"
     ]
    },
    {
     "name": "stdout",
     "output_type": "stream",
     "text": [
      "Adjusting learning rate of group 0 to 2.9665e-04.\n"
     ]
    },
    {
     "name": "stderr",
     "output_type": "stream",
     "text": [
      "Test Epoch 90/500, Test Loss: 6.923860625787214: 100%|██████████| 11/11 [00:00<00:00, 117.34it/s]\n",
      "Train Epoch 91/500, Train Loss: 0.0: 100%|██████████| 44/44 [00:00<00:00, 48.25it/s]\n"
     ]
    },
    {
     "name": "stdout",
     "output_type": "stream",
     "text": [
      "Adjusting learning rate of group 0 to 2.8182e-04.\n"
     ]
    },
    {
     "name": "stderr",
     "output_type": "stream",
     "text": [
      "Test Epoch 91/500, Test Loss: 6.911568750034679: 100%|██████████| 11/11 [00:00<00:00, 122.97it/s]\n",
      "Train Epoch 92/500, Train Loss: 0.0: 100%|██████████| 44/44 [00:00<00:00, 51.98it/s]\n"
     ]
    },
    {
     "name": "stdout",
     "output_type": "stream",
     "text": [
      "Adjusting learning rate of group 0 to 2.6773e-04.\n"
     ]
    },
    {
     "name": "stderr",
     "output_type": "stream",
     "text": [
      "Test Epoch 92/500, Test Loss: 6.915368459441445: 100%|██████████| 11/11 [00:00<00:00, 123.31it/s]\n",
      "Train Epoch 93/500, Train Loss: 0.0: 100%|██████████| 44/44 [00:00<00:00, 51.55it/s]\n"
     ]
    },
    {
     "name": "stdout",
     "output_type": "stream",
     "text": [
      "Adjusting learning rate of group 0 to 2.5434e-04.\n"
     ]
    },
    {
     "name": "stderr",
     "output_type": "stream",
     "text": [
      "Test Epoch 93/500, Test Loss: 6.920321096073497: 100%|██████████| 11/11 [00:00<00:00, 120.83it/s]\n",
      "Train Epoch 94/500, Train Loss: 0.0: 100%|██████████| 44/44 [00:00<00:00, 46.30it/s]\n"
     ]
    },
    {
     "name": "stdout",
     "output_type": "stream",
     "text": [
      "Adjusting learning rate of group 0 to 2.4162e-04.\n"
     ]
    },
    {
     "name": "stderr",
     "output_type": "stream",
     "text": [
      "Test Epoch 94/500, Test Loss: 6.9180073954842305: 100%|██████████| 11/11 [00:00<00:00, 118.07it/s]\n",
      "Train Epoch 95/500, Train Loss: 0.0: 100%|██████████| 44/44 [00:00<00:00, 49.13it/s]\n"
     ]
    },
    {
     "name": "stdout",
     "output_type": "stream",
     "text": [
      "Adjusting learning rate of group 0 to 2.2954e-04.\n"
     ]
    },
    {
     "name": "stderr",
     "output_type": "stream",
     "text": [
      "Test Epoch 95/500, Test Loss: 6.92154481194236: 100%|██████████| 11/11 [00:00<00:00, 120.10it/s]\n",
      "Train Epoch 96/500, Train Loss: 0.0: 100%|██████████| 44/44 [00:00<00:00, 52.23it/s]\n"
     ]
    },
    {
     "name": "stdout",
     "output_type": "stream",
     "text": [
      "Adjusting learning rate of group 0 to 2.1807e-04.\n"
     ]
    },
    {
     "name": "stderr",
     "output_type": "stream",
     "text": [
      "Test Epoch 96/500, Test Loss: 6.920075048099864: 100%|██████████| 11/11 [00:00<00:00, 122.31it/s]\n",
      "Train Epoch 97/500, Train Loss: 0.0: 100%|██████████| 44/44 [00:00<00:00, 44.72it/s]\n"
     ]
    },
    {
     "name": "stdout",
     "output_type": "stream",
     "text": [
      "Adjusting learning rate of group 0 to 2.0716e-04.\n"
     ]
    },
    {
     "name": "stderr",
     "output_type": "stream",
     "text": [
      "Test Epoch 97/500, Test Loss: 6.91528442772952: 100%|██████████| 11/11 [00:00<00:00, 113.74it/s]\n",
      "Train Epoch 98/500, Train Loss: 0.0: 100%|██████████| 44/44 [00:00<00:00, 46.70it/s]\n"
     ]
    },
    {
     "name": "stdout",
     "output_type": "stream",
     "text": [
      "Adjusting learning rate of group 0 to 1.9680e-04.\n"
     ]
    },
    {
     "name": "stderr",
     "output_type": "stream",
     "text": [
      "Test Epoch 98/500, Test Loss: 6.911911325021223: 100%|██████████| 11/11 [00:00<00:00, 116.68it/s]\n",
      "Train Epoch 99/500, Train Loss: 0.0: 100%|██████████| 44/44 [00:01<00:00, 38.13it/s]\n"
     ]
    },
    {
     "name": "stdout",
     "output_type": "stream",
     "text": [
      "Adjusting learning rate of group 0 to 1.8696e-04.\n"
     ]
    },
    {
     "name": "stderr",
     "output_type": "stream",
     "text": [
      "Test Epoch 99/500, Test Loss: 6.9174641154029155: 100%|██████████| 11/11 [00:00<00:00, 115.57it/s]\n",
      "Train Epoch 100/500, Train Loss: 0.0: 100%|██████████| 44/44 [00:00<00:00, 46.51it/s]\n"
     ]
    },
    {
     "name": "stdout",
     "output_type": "stream",
     "text": [
      "Adjusting learning rate of group 0 to 1.7762e-04.\n"
     ]
    },
    {
     "name": "stderr",
     "output_type": "stream",
     "text": [
      "Test Epoch 100/500, Test Loss: 6.921731482852589: 100%|██████████| 11/11 [00:00<00:00, 116.81it/s]\n",
      "Train Epoch 101/500, Train Loss: 0.0: 100%|██████████| 44/44 [00:00<00:00, 51.05it/s]\n"
     ]
    },
    {
     "name": "stdout",
     "output_type": "stream",
     "text": [
      "Adjusting learning rate of group 0 to 1.6874e-04.\n"
     ]
    },
    {
     "name": "stderr",
     "output_type": "stream",
     "text": [
      "Test Epoch 101/500, Test Loss: 6.914079481905157: 100%|██████████| 11/11 [00:00<00:00, 131.31it/s]\n",
      "Train Epoch 102/500, Train Loss: 0.0: 100%|██████████| 44/44 [00:00<00:00, 45.10it/s]\n"
     ]
    },
    {
     "name": "stdout",
     "output_type": "stream",
     "text": [
      "Adjusting learning rate of group 0 to 1.6030e-04.\n"
     ]
    },
    {
     "name": "stderr",
     "output_type": "stream",
     "text": [
      "Test Epoch 102/500, Test Loss: 6.919950669462031: 100%|██████████| 11/11 [00:00<00:00, 117.48it/s]\n",
      "Train Epoch 103/500, Train Loss: 0.0: 100%|██████████| 44/44 [00:00<00:00, 50.10it/s]\n"
     ]
    },
    {
     "name": "stdout",
     "output_type": "stream",
     "text": [
      "Adjusting learning rate of group 0 to 1.5228e-04.\n"
     ]
    },
    {
     "name": "stderr",
     "output_type": "stream",
     "text": [
      "Test Epoch 103/500, Test Loss: 6.913409027186307: 100%|██████████| 11/11 [00:00<00:00, 118.88it/s]\n",
      "Train Epoch 104/500, Train Loss: 0.0: 100%|██████████| 44/44 [00:00<00:00, 54.41it/s]\n"
     ]
    },
    {
     "name": "stdout",
     "output_type": "stream",
     "text": [
      "Adjusting learning rate of group 0 to 1.4467e-04.\n"
     ]
    },
    {
     "name": "stderr",
     "output_type": "stream",
     "text": [
      "Test Epoch 104/500, Test Loss: 6.922454541379755: 100%|██████████| 11/11 [00:00<00:00, 121.08it/s]\n",
      "Train Epoch 105/500, Train Loss: 0.0: 100%|██████████| 44/44 [00:00<00:00, 51.06it/s]\n"
     ]
    },
    {
     "name": "stdout",
     "output_type": "stream",
     "text": [
      "Adjusting learning rate of group 0 to 1.3744e-04.\n"
     ]
    },
    {
     "name": "stderr",
     "output_type": "stream",
     "text": [
      "Test Epoch 105/500, Test Loss: 6.922920866446062: 100%|██████████| 11/11 [00:00<00:00, 118.80it/s]\n",
      "Train Epoch 106/500, Train Loss: 0.0: 100%|██████████| 44/44 [00:00<00:00, 44.95it/s]\n"
     ]
    },
    {
     "name": "stdout",
     "output_type": "stream",
     "text": [
      "Adjusting learning rate of group 0 to 1.3056e-04.\n"
     ]
    },
    {
     "name": "stderr",
     "output_type": "stream",
     "text": [
      "Test Epoch 106/500, Test Loss: 6.915017312223261: 100%|██████████| 11/11 [00:00<00:00, 86.58it/s]\n",
      "Train Epoch 107/500, Train Loss: 0.0: 100%|██████████| 44/44 [00:01<00:00, 27.10it/s]\n"
     ]
    },
    {
     "name": "stdout",
     "output_type": "stream",
     "text": [
      "Adjusting learning rate of group 0 to 1.2404e-04.\n"
     ]
    },
    {
     "name": "stderr",
     "output_type": "stream",
     "text": [
      "Test Epoch 107/500, Test Loss: 6.908724232153459: 100%|██████████| 11/11 [00:00<00:00, 73.24it/s]\n",
      "Train Epoch 108/500, Train Loss: 0.0: 100%|██████████| 44/44 [00:01<00:00, 43.90it/s]\n"
     ]
    },
    {
     "name": "stdout",
     "output_type": "stream",
     "text": [
      "Adjusting learning rate of group 0 to 1.1783e-04.\n"
     ]
    },
    {
     "name": "stderr",
     "output_type": "stream",
     "text": [
      "Test Epoch 108/500, Test Loss: 6.904835354198109: 100%|██████████| 11/11 [00:00<00:00, 97.54it/s]\n",
      "Train Epoch 109/500, Train Loss: 0.0: 100%|██████████| 44/44 [00:01<00:00, 41.80it/s]\n"
     ]
    },
    {
     "name": "stdout",
     "output_type": "stream",
     "text": [
      "Adjusting learning rate of group 0 to 1.1194e-04.\n"
     ]
    },
    {
     "name": "stderr",
     "output_type": "stream",
     "text": [
      "Test Epoch 109/500, Test Loss: 6.923938924616033: 100%|██████████| 11/11 [00:00<00:00, 106.62it/s]\n",
      "Train Epoch 110/500, Train Loss: 0.0: 100%|██████████| 44/44 [00:01<00:00, 39.15it/s]\n"
     ]
    },
    {
     "name": "stdout",
     "output_type": "stream",
     "text": [
      "Adjusting learning rate of group 0 to 1.0635e-04.\n"
     ]
    },
    {
     "name": "stderr",
     "output_type": "stream",
     "text": [
      "Test Epoch 110/500, Test Loss: 6.92074453830719: 100%|██████████| 11/11 [00:00<00:00, 62.31it/s]\n",
      "Train Epoch 111/500, Train Loss: 0.0: 100%|██████████| 44/44 [00:01<00:00, 43.30it/s]\n"
     ]
    },
    {
     "name": "stdout",
     "output_type": "stream",
     "text": [
      "Adjusting learning rate of group 0 to 1.0103e-04.\n"
     ]
    },
    {
     "name": "stderr",
     "output_type": "stream",
     "text": [
      "Test Epoch 111/500, Test Loss: 6.912129098718816: 100%|██████████| 11/11 [00:00<00:00, 119.56it/s]\n",
      "Train Epoch 112/500, Train Loss: 0.0: 100%|██████████| 44/44 [00:00<00:00, 46.57it/s]\n"
     ]
    },
    {
     "name": "stdout",
     "output_type": "stream",
     "text": [
      "Adjusting learning rate of group 0 to 9.5977e-05.\n"
     ]
    },
    {
     "name": "stderr",
     "output_type": "stream",
     "text": [
      "Test Epoch 112/500, Test Loss: 6.909505573186007: 100%|██████████| 11/11 [00:00<00:00, 117.10it/s]\n",
      "Train Epoch 113/500, Train Loss: 0.0: 100%|██████████| 44/44 [00:00<00:00, 51.75it/s]\n"
     ]
    },
    {
     "name": "stdout",
     "output_type": "stream",
     "text": [
      "Adjusting learning rate of group 0 to 9.1178e-05.\n"
     ]
    },
    {
     "name": "stderr",
     "output_type": "stream",
     "text": [
      "Test Epoch 113/500, Test Loss: 6.919488408348777: 100%|██████████| 11/11 [00:00<00:00, 121.27it/s]\n",
      "Train Epoch 114/500, Train Loss: 0.0: 100%|██████████| 44/44 [00:00<00:00, 50.15it/s]\n"
     ]
    },
    {
     "name": "stdout",
     "output_type": "stream",
     "text": [
      "Adjusting learning rate of group 0 to 8.6619e-05.\n"
     ]
    },
    {
     "name": "stderr",
     "output_type": "stream",
     "text": [
      "Test Epoch 114/500, Test Loss: 6.915022969245911: 100%|██████████| 11/11 [00:00<00:00, 119.16it/s]\n",
      "Train Epoch 115/500, Train Loss: 0.0: 100%|██████████| 44/44 [00:01<00:00, 36.23it/s]\n"
     ]
    },
    {
     "name": "stdout",
     "output_type": "stream",
     "text": [
      "Adjusting learning rate of group 0 to 8.2288e-05.\n"
     ]
    },
    {
     "name": "stderr",
     "output_type": "stream",
     "text": [
      "Test Epoch 115/500, Test Loss: 6.918213226578453: 100%|██████████| 11/11 [00:00<00:00, 67.54it/s]\n",
      "Train Epoch 116/500, Train Loss: 0.0: 100%|██████████| 44/44 [00:01<00:00, 36.91it/s]\n"
     ]
    },
    {
     "name": "stdout",
     "output_type": "stream",
     "text": [
      "Adjusting learning rate of group 0 to 7.8173e-05.\n"
     ]
    },
    {
     "name": "stderr",
     "output_type": "stream",
     "text": [
      "Test Epoch 116/500, Test Loss: 6.917661276730624: 100%|██████████| 11/11 [00:00<00:00, 103.65it/s]\n",
      "Train Epoch 117/500, Train Loss: 0.0: 100%|██████████| 44/44 [00:00<00:00, 45.63it/s]\n"
     ]
    },
    {
     "name": "stdout",
     "output_type": "stream",
     "text": [
      "Adjusting learning rate of group 0 to 7.4265e-05.\n"
     ]
    },
    {
     "name": "stderr",
     "output_type": "stream",
     "text": [
      "Test Epoch 117/500, Test Loss: 6.917857744477012: 100%|██████████| 11/11 [00:00<00:00, 114.60it/s]\n",
      "Train Epoch 118/500, Train Loss: 0.0: 100%|██████████| 44/44 [00:00<00:00, 46.37it/s]\n"
     ]
    },
    {
     "name": "stdout",
     "output_type": "stream",
     "text": [
      "Adjusting learning rate of group 0 to 7.0552e-05.\n"
     ]
    },
    {
     "name": "stderr",
     "output_type": "stream",
     "text": [
      "Test Epoch 118/500, Test Loss: 6.910941795869307: 100%|██████████| 11/11 [00:00<00:00, 115.75it/s]\n",
      "Train Epoch 119/500, Train Loss: 0.0: 100%|██████████| 44/44 [00:01<00:00, 40.65it/s]\n"
     ]
    },
    {
     "name": "stdout",
     "output_type": "stream",
     "text": [
      "Adjusting learning rate of group 0 to 6.7024e-05.\n"
     ]
    },
    {
     "name": "stderr",
     "output_type": "stream",
     "text": [
      "Test Epoch 119/500, Test Loss: 6.921332641081377: 100%|██████████| 11/11 [00:00<00:00, 118.86it/s]\n",
      "Train Epoch 120/500, Train Loss: 0.0: 100%|██████████| 44/44 [00:00<00:00, 44.53it/s]\n"
     ]
    },
    {
     "name": "stdout",
     "output_type": "stream",
     "text": [
      "Adjusting learning rate of group 0 to 6.3673e-05.\n"
     ]
    },
    {
     "name": "stderr",
     "output_type": "stream",
     "text": [
      "Test Epoch 120/500, Test Loss: 6.911922053857283: 100%|██████████| 11/11 [00:00<00:00, 112.24it/s]\n",
      "Train Epoch 121/500, Train Loss: 0.0: 100%|██████████| 44/44 [00:01<00:00, 39.14it/s]\n"
     ]
    },
    {
     "name": "stdout",
     "output_type": "stream",
     "text": [
      "Adjusting learning rate of group 0 to 6.0489e-05.\n"
     ]
    },
    {
     "name": "stderr",
     "output_type": "stream",
     "text": [
      "Test Epoch 121/500, Test Loss: 6.915080265565352: 100%|██████████| 11/11 [00:00<00:00, 63.01it/s]\n",
      "Train Epoch 122/500, Train Loss: 0.0: 100%|██████████| 44/44 [00:00<00:00, 45.82it/s]\n"
     ]
    },
    {
     "name": "stdout",
     "output_type": "stream",
     "text": [
      "Adjusting learning rate of group 0 to 5.7465e-05.\n"
     ]
    },
    {
     "name": "stderr",
     "output_type": "stream",
     "text": [
      "Test Epoch 122/500, Test Loss: 6.918315735730258: 100%|██████████| 11/11 [00:00<00:00, 115.19it/s]\n",
      "Train Epoch 123/500, Train Loss: 0.0: 100%|██████████| 44/44 [00:01<00:00, 42.27it/s]\n"
     ]
    },
    {
     "name": "stdout",
     "output_type": "stream",
     "text": [
      "Adjusting learning rate of group 0 to 5.4591e-05.\n"
     ]
    },
    {
     "name": "stderr",
     "output_type": "stream",
     "text": [
      "Test Epoch 123/500, Test Loss: 6.911861116235906: 100%|██████████| 11/11 [00:00<00:00, 118.60it/s]\n",
      "Train Epoch 124/500, Train Loss: 0.0: 100%|██████████| 44/44 [00:01<00:00, 43.86it/s]\n"
     ]
    },
    {
     "name": "stdout",
     "output_type": "stream",
     "text": [
      "Adjusting learning rate of group 0 to 5.1862e-05.\n"
     ]
    },
    {
     "name": "stderr",
     "output_type": "stream",
     "text": [
      "Test Epoch 124/500, Test Loss: 6.9194723692807285: 100%|██████████| 11/11 [00:00<00:00, 91.03it/s]\n",
      "Train Epoch 125/500, Train Loss: 0.0: 100%|██████████| 44/44 [00:01<00:00, 38.78it/s]\n"
     ]
    },
    {
     "name": "stdout",
     "output_type": "stream",
     "text": [
      "Adjusting learning rate of group 0 to 4.9269e-05.\n"
     ]
    },
    {
     "name": "stderr",
     "output_type": "stream",
     "text": [
      "Test Epoch 125/500, Test Loss: 6.912944371050054: 100%|██████████| 11/11 [00:00<00:00, 105.34it/s]\n",
      "Train Epoch 126/500, Train Loss: 0.0: 100%|██████████| 44/44 [00:01<00:00, 34.16it/s]\n"
     ]
    },
    {
     "name": "stdout",
     "output_type": "stream",
     "text": [
      "Adjusting learning rate of group 0 to 4.6805e-05.\n"
     ]
    },
    {
     "name": "stderr",
     "output_type": "stream",
     "text": [
      "Test Epoch 126/500, Test Loss: 6.909925081513145: 100%|██████████| 11/11 [00:00<00:00, 81.46it/s]\n",
      "Train Epoch 127/500, Train Loss: 0.0: 100%|██████████| 44/44 [00:01<00:00, 38.03it/s]\n"
     ]
    },
    {
     "name": "stdout",
     "output_type": "stream",
     "text": [
      "Adjusting learning rate of group 0 to 4.4465e-05.\n"
     ]
    },
    {
     "name": "stderr",
     "output_type": "stream",
     "text": [
      "Test Epoch 127/500, Test Loss: 6.920881379734386: 100%|██████████| 11/11 [00:00<00:00, 93.68it/s]\n",
      "Train Epoch 128/500, Train Loss: 0.0: 100%|██████████| 44/44 [00:01<00:00, 41.23it/s]\n"
     ]
    },
    {
     "name": "stdout",
     "output_type": "stream",
     "text": [
      "Adjusting learning rate of group 0 to 4.2242e-05.\n"
     ]
    },
    {
     "name": "stderr",
     "output_type": "stream",
     "text": [
      "Test Epoch 128/500, Test Loss: 6.899063305421309: 100%|██████████| 11/11 [00:00<00:00, 71.57it/s]\n",
      "Train Epoch 129/500, Train Loss: 0.0: 100%|██████████| 44/44 [00:00<00:00, 44.39it/s]\n"
     ]
    },
    {
     "name": "stdout",
     "output_type": "stream",
     "text": [
      "Adjusting learning rate of group 0 to 4.0130e-05.\n"
     ]
    },
    {
     "name": "stderr",
     "output_type": "stream",
     "text": [
      "Test Epoch 129/500, Test Loss: 6.90686069835316: 100%|██████████| 11/11 [00:00<00:00, 112.80it/s]\n",
      "Train Epoch 130/500, Train Loss: 0.0: 100%|██████████| 44/44 [00:00<00:00, 45.45it/s]\n"
     ]
    },
    {
     "name": "stdout",
     "output_type": "stream",
     "text": [
      "Adjusting learning rate of group 0 to 3.8123e-05.\n"
     ]
    },
    {
     "name": "stderr",
     "output_type": "stream",
     "text": [
      "Test Epoch 130/500, Test Loss: 6.9204207767139785: 100%|██████████| 11/11 [00:00<00:00, 101.01it/s]\n",
      "Train Epoch 131/500, Train Loss: 0.0: 100%|██████████| 44/44 [00:01<00:00, 37.55it/s]\n"
     ]
    },
    {
     "name": "stdout",
     "output_type": "stream",
     "text": [
      "Adjusting learning rate of group 0 to 3.6217e-05.\n"
     ]
    },
    {
     "name": "stderr",
     "output_type": "stream",
     "text": [
      "Test Epoch 131/500, Test Loss: 6.917465686798096: 100%|██████████| 11/11 [00:00<00:00, 112.05it/s]\n",
      "Train Epoch 132/500, Train Loss: 0.0: 100%|██████████| 44/44 [00:00<00:00, 44.31it/s]\n"
     ]
    },
    {
     "name": "stdout",
     "output_type": "stream",
     "text": [
      "Adjusting learning rate of group 0 to 3.4406e-05.\n"
     ]
    },
    {
     "name": "stderr",
     "output_type": "stream",
     "text": [
      "Test Epoch 132/500, Test Loss: 6.9049141948873345: 100%|██████████| 11/11 [00:00<00:00, 79.96it/s]\n",
      "Train Epoch 133/500, Train Loss: 0.0: 100%|██████████| 44/44 [00:01<00:00, 32.67it/s]\n"
     ]
    },
    {
     "name": "stdout",
     "output_type": "stream",
     "text": [
      "Adjusting learning rate of group 0 to 3.2686e-05.\n"
     ]
    },
    {
     "name": "stderr",
     "output_type": "stream",
     "text": [
      "Test Epoch 133/500, Test Loss: 6.921413920142434: 100%|██████████| 11/11 [00:00<00:00, 73.22it/s]\n",
      "Train Epoch 134/500, Train Loss: 0.0: 100%|██████████| 44/44 [00:01<00:00, 29.74it/s]\n"
     ]
    },
    {
     "name": "stdout",
     "output_type": "stream",
     "text": [
      "Adjusting learning rate of group 0 to 3.1052e-05.\n"
     ]
    },
    {
     "name": "stderr",
     "output_type": "stream",
     "text": [
      "Test Epoch 134/500, Test Loss: 6.918774897401983: 100%|██████████| 11/11 [00:00<00:00, 31.71it/s]\n",
      "Train Epoch 135/500, Train Loss: 0.0: 100%|██████████| 44/44 [00:01<00:00, 30.69it/s]\n"
     ]
    },
    {
     "name": "stdout",
     "output_type": "stream",
     "text": [
      "Adjusting learning rate of group 0 to 2.9499e-05.\n"
     ]
    },
    {
     "name": "stderr",
     "output_type": "stream",
     "text": [
      "Test Epoch 135/500, Test Loss: 6.911147594451904: 100%|██████████| 11/11 [00:00<00:00, 52.32it/s]\n",
      "Train Epoch 136/500, Train Loss: 0.0: 100%|██████████| 44/44 [00:01<00:00, 32.06it/s]\n"
     ]
    },
    {
     "name": "stdout",
     "output_type": "stream",
     "text": [
      "Adjusting learning rate of group 0 to 2.8024e-05.\n"
     ]
    },
    {
     "name": "stderr",
     "output_type": "stream",
     "text": [
      "Test Epoch 136/500, Test Loss: 6.917658762498335: 100%|██████████| 11/11 [00:00<00:00, 75.26it/s]\n",
      "Train Epoch 137/500, Train Loss: 0.0: 100%|██████████| 44/44 [00:01<00:00, 37.44it/s]\n"
     ]
    },
    {
     "name": "stdout",
     "output_type": "stream",
     "text": [
      "Adjusting learning rate of group 0 to 2.6623e-05.\n"
     ]
    },
    {
     "name": "stderr",
     "output_type": "stream",
     "text": [
      "Test Epoch 137/500, Test Loss: 6.928429646925493: 100%|██████████| 11/11 [00:00<00:00, 122.26it/s]\n",
      "Train Epoch 138/500, Train Loss: 0.0: 100%|██████████| 44/44 [00:00<00:00, 44.75it/s]\n"
     ]
    },
    {
     "name": "stdout",
     "output_type": "stream",
     "text": [
      "Adjusting learning rate of group 0 to 2.5292e-05.\n"
     ]
    },
    {
     "name": "stderr",
     "output_type": "stream",
     "text": [
      "Test Epoch 138/500, Test Loss: 6.921939199621027: 100%|██████████| 11/11 [00:00<00:00, 121.83it/s]\n",
      "Train Epoch 139/500, Train Loss: 0.0: 100%|██████████| 44/44 [00:00<00:00, 46.11it/s]\n"
     ]
    },
    {
     "name": "stdout",
     "output_type": "stream",
     "text": [
      "Adjusting learning rate of group 0 to 2.4027e-05.\n"
     ]
    },
    {
     "name": "stderr",
     "output_type": "stream",
     "text": [
      "Test Epoch 139/500, Test Loss: 6.923898230899464: 100%|██████████| 11/11 [00:00<00:00, 122.38it/s]\n",
      "Train Epoch 140/500, Train Loss: 0.0: 100%|██████████| 44/44 [00:00<00:00, 46.69it/s]\n"
     ]
    },
    {
     "name": "stdout",
     "output_type": "stream",
     "text": [
      "Adjusting learning rate of group 0 to 2.2826e-05.\n"
     ]
    },
    {
     "name": "stderr",
     "output_type": "stream",
     "text": [
      "Test Epoch 140/500, Test Loss: 6.9191262830387465: 100%|██████████| 11/11 [00:00<00:00, 125.08it/s]\n",
      "Train Epoch 141/500, Train Loss: 0.0: 100%|██████████| 44/44 [00:00<00:00, 57.33it/s]\n"
     ]
    },
    {
     "name": "stdout",
     "output_type": "stream",
     "text": [
      "Adjusting learning rate of group 0 to 2.1685e-05.\n"
     ]
    },
    {
     "name": "stderr",
     "output_type": "stream",
     "text": [
      "Test Epoch 141/500, Test Loss: 6.915353016419844: 100%|██████████| 11/11 [00:00<00:00, 153.41it/s]\n",
      "Train Epoch 142/500, Train Loss: 0.0: 100%|██████████| 44/44 [00:00<00:00, 47.62it/s]\n"
     ]
    },
    {
     "name": "stdout",
     "output_type": "stream",
     "text": [
      "Adjusting learning rate of group 0 to 2.0600e-05.\n"
     ]
    },
    {
     "name": "stderr",
     "output_type": "stream",
     "text": [
      "Test Epoch 142/500, Test Loss: 6.905601729046214: 100%|██████████| 11/11 [00:00<00:00, 124.62it/s]\n",
      "Train Epoch 143/500, Train Loss: 0.0: 100%|██████████| 44/44 [00:00<00:00, 46.32it/s]\n"
     ]
    },
    {
     "name": "stdout",
     "output_type": "stream",
     "text": [
      "Adjusting learning rate of group 0 to 1.9570e-05.\n"
     ]
    },
    {
     "name": "stderr",
     "output_type": "stream",
     "text": [
      "Test Epoch 143/500, Test Loss: 6.915400851856578: 100%|██████████| 11/11 [00:00<00:00, 123.25it/s]\n",
      "Train Epoch 144/500, Train Loss: 0.0: 100%|██████████| 44/44 [00:00<00:00, 44.53it/s]\n"
     ]
    },
    {
     "name": "stdout",
     "output_type": "stream",
     "text": [
      "Adjusting learning rate of group 0 to 1.8592e-05.\n"
     ]
    },
    {
     "name": "stderr",
     "output_type": "stream",
     "text": [
      "Test Epoch 144/500, Test Loss: 6.91501644524661: 100%|██████████| 11/11 [00:00<00:00, 117.28it/s]\n",
      "Train Epoch 145/500, Train Loss: 0.0: 100%|██████████| 44/44 [00:00<00:00, 46.83it/s]\n"
     ]
    },
    {
     "name": "stdout",
     "output_type": "stream",
     "text": [
      "Adjusting learning rate of group 0 to 1.7662e-05.\n"
     ]
    },
    {
     "name": "stderr",
     "output_type": "stream",
     "text": [
      "Test Epoch 145/500, Test Loss: 6.922943570397117: 100%|██████████| 11/11 [00:00<00:00, 120.76it/s]\n",
      "Train Epoch 146/500, Train Loss: 0.0: 100%|██████████| 44/44 [00:00<00:00, 54.03it/s]\n"
     ]
    },
    {
     "name": "stdout",
     "output_type": "stream",
     "text": [
      "Adjusting learning rate of group 0 to 1.6779e-05.\n"
     ]
    },
    {
     "name": "stderr",
     "output_type": "stream",
     "text": [
      "Test Epoch 146/500, Test Loss: 6.90756006674333: 100%|██████████| 11/11 [00:00<00:00, 98.33it/s]\n",
      "Train Epoch 147/500, Train Loss: 0.0: 100%|██████████| 44/44 [00:00<00:00, 44.94it/s]\n"
     ]
    },
    {
     "name": "stdout",
     "output_type": "stream",
     "text": [
      "Adjusting learning rate of group 0 to 1.5940e-05.\n"
     ]
    },
    {
     "name": "stderr",
     "output_type": "stream",
     "text": [
      "Test Epoch 147/500, Test Loss: 6.920605453577909: 100%|██████████| 11/11 [00:00<00:00, 125.87it/s]\n",
      "Train Epoch 148/500, Train Loss: 0.0: 100%|██████████| 44/44 [00:00<00:00, 55.21it/s]\n"
     ]
    },
    {
     "name": "stdout",
     "output_type": "stream",
     "text": [
      "Adjusting learning rate of group 0 to 1.5143e-05.\n"
     ]
    },
    {
     "name": "stderr",
     "output_type": "stream",
     "text": [
      "Test Epoch 148/500, Test Loss: 6.921836788004095: 100%|██████████| 11/11 [00:00<00:00, 152.75it/s]\n",
      "Train Epoch 149/500, Train Loss: 0.0: 100%|██████████| 44/44 [00:00<00:00, 61.40it/s]\n"
     ]
    },
    {
     "name": "stdout",
     "output_type": "stream",
     "text": [
      "Adjusting learning rate of group 0 to 1.4386e-05.\n"
     ]
    },
    {
     "name": "stderr",
     "output_type": "stream",
     "text": [
      "Test Epoch 149/500, Test Loss: 6.917254393750971: 100%|██████████| 11/11 [00:00<00:00, 160.00it/s]\n",
      "Train Epoch 150/500, Train Loss: 0.0: 100%|██████████| 44/44 [00:00<00:00, 60.21it/s]\n"
     ]
    },
    {
     "name": "stdout",
     "output_type": "stream",
     "text": [
      "Adjusting learning rate of group 0 to 1.3667e-05.\n"
     ]
    },
    {
     "name": "stderr",
     "output_type": "stream",
     "text": [
      "Test Epoch 150/500, Test Loss: 6.9169709574092515: 100%|██████████| 11/11 [00:00<00:00, 162.45it/s]\n",
      "Train Epoch 151/500, Train Loss: 0.0: 100%|██████████| 44/44 [00:00<00:00, 58.21it/s]\n"
     ]
    },
    {
     "name": "stdout",
     "output_type": "stream",
     "text": [
      "Adjusting learning rate of group 0 to 1.2983e-05.\n"
     ]
    },
    {
     "name": "stderr",
     "output_type": "stream",
     "text": [
      "Test Epoch 151/500, Test Loss: 6.914142760363492: 100%|██████████| 11/11 [00:00<00:00, 151.86it/s]\n",
      "Train Epoch 152/500, Train Loss: 0.0: 100%|██████████| 44/44 [00:00<00:00, 57.38it/s]\n"
     ]
    },
    {
     "name": "stdout",
     "output_type": "stream",
     "text": [
      "Adjusting learning rate of group 0 to 1.2334e-05.\n"
     ]
    },
    {
     "name": "stderr",
     "output_type": "stream",
     "text": [
      "Test Epoch 152/500, Test Loss: 6.9041089903224595: 100%|██████████| 11/11 [00:00<00:00, 149.88it/s]\n",
      "Train Epoch 153/500, Train Loss: 0.0: 100%|██████████| 44/44 [00:00<00:00, 46.77it/s]\n"
     ]
    },
    {
     "name": "stdout",
     "output_type": "stream",
     "text": [
      "Adjusting learning rate of group 0 to 1.1717e-05.\n"
     ]
    },
    {
     "name": "stderr",
     "output_type": "stream",
     "text": [
      "Test Epoch 153/500, Test Loss: 6.919990452853116: 100%|██████████| 11/11 [00:00<00:00, 82.69it/s]\n",
      "Train Epoch 154/500, Train Loss: 0.0: 100%|██████████| 44/44 [00:00<00:00, 44.30it/s]\n"
     ]
    },
    {
     "name": "stdout",
     "output_type": "stream",
     "text": [
      "Adjusting learning rate of group 0 to 1.1132e-05.\n"
     ]
    },
    {
     "name": "stderr",
     "output_type": "stream",
     "text": [
      "Test Epoch 154/500, Test Loss: 6.9163972464474766: 100%|██████████| 11/11 [00:00<00:00, 125.66it/s]\n",
      "Train Epoch 155/500, Train Loss: 0.0: 100%|██████████| 44/44 [00:00<00:00, 55.89it/s]\n"
     ]
    },
    {
     "name": "stdout",
     "output_type": "stream",
     "text": [
      "Adjusting learning rate of group 0 to 1.0575e-05.\n"
     ]
    },
    {
     "name": "stderr",
     "output_type": "stream",
     "text": [
      "Test Epoch 155/500, Test Loss: 6.917517044327476: 100%|██████████| 11/11 [00:00<00:00, 126.71it/s]\n",
      "Train Epoch 156/500, Train Loss: 0.0: 100%|██████████| 44/44 [00:00<00:00, 48.25it/s]\n"
     ]
    },
    {
     "name": "stdout",
     "output_type": "stream",
     "text": [
      "Adjusting learning rate of group 0 to 1.0046e-05.\n"
     ]
    },
    {
     "name": "stderr",
     "output_type": "stream",
     "text": [
      "Test Epoch 156/500, Test Loss: 6.908220161091197: 100%|██████████| 11/11 [00:00<00:00, 111.85it/s]\n",
      "Train Epoch 157/500, Train Loss: 0.0: 100%|██████████| 44/44 [00:01<00:00, 43.37it/s]\n"
     ]
    },
    {
     "name": "stdout",
     "output_type": "stream",
     "text": [
      "Adjusting learning rate of group 0 to 9.5439e-06.\n"
     ]
    },
    {
     "name": "stderr",
     "output_type": "stream",
     "text": [
      "Test Epoch 157/500, Test Loss: 6.917074236002835: 100%|██████████| 11/11 [00:00<00:00, 119.20it/s]\n",
      "Train Epoch 158/500, Train Loss: 0.0: 100%|██████████| 44/44 [00:00<00:00, 49.02it/s]\n"
     ]
    },
    {
     "name": "stdout",
     "output_type": "stream",
     "text": [
      "Adjusting learning rate of group 0 to 9.0667e-06.\n"
     ]
    },
    {
     "name": "stderr",
     "output_type": "stream",
     "text": [
      "Test Epoch 158/500, Test Loss: 6.906782399524342: 100%|██████████| 11/11 [00:00<00:00, 142.04it/s]\n",
      "Train Epoch 159/500, Train Loss: 0.0: 100%|██████████| 44/44 [00:00<00:00, 56.19it/s]\n"
     ]
    },
    {
     "name": "stdout",
     "output_type": "stream",
     "text": [
      "Adjusting learning rate of group 0 to 8.6134e-06.\n"
     ]
    },
    {
     "name": "stderr",
     "output_type": "stream",
     "text": [
      "Test Epoch 159/500, Test Loss: 6.900554407726634: 100%|██████████| 11/11 [00:00<00:00, 151.07it/s]\n",
      "Train Epoch 160/500, Train Loss: 0.0: 100%|██████████| 44/44 [00:00<00:00, 48.20it/s]\n"
     ]
    },
    {
     "name": "stdout",
     "output_type": "stream",
     "text": [
      "Adjusting learning rate of group 0 to 8.1827e-06.\n"
     ]
    },
    {
     "name": "stderr",
     "output_type": "stream",
     "text": [
      "Test Epoch 160/500, Test Loss: 6.911946350877935: 100%|██████████| 11/11 [00:00<00:00, 125.02it/s]\n",
      "Train Epoch 161/500, Train Loss: 0.0: 100%|██████████| 44/44 [00:00<00:00, 46.29it/s]\n"
     ]
    },
    {
     "name": "stdout",
     "output_type": "stream",
     "text": [
      "Adjusting learning rate of group 0 to 7.7736e-06.\n"
     ]
    },
    {
     "name": "stderr",
     "output_type": "stream",
     "text": [
      "Test Epoch 161/500, Test Loss: 6.91277451948686: 100%|██████████| 11/11 [00:00<00:00, 124.76it/s]\n",
      "Train Epoch 162/500, Train Loss: 0.0:  23%|██▎       | 10/44 [00:00<00:00, 45.70it/s]"
     ]
    }
   ],
   "source": [
    "train_loss, val_loss = [], []\n",
    "for epoch in range(EPOCHS):\n",
    "    model.train()\n",
    "    \n",
    "    running_loss = 0.0\n",
    "    for idx, data in tqdm(enumerate(train_dataloader), total=len(train_dataloader), desc=f\"Train Epoch {epoch+1}/{EPOCHS}, Train Loss: {running_loss / len(train_dataloader)}\"):\n",
    "        X_data, y_data = data\n",
    "        X_data = X_data.to(device).reshape(-1, 6)\n",
    "        y_data = y_data.to(device)\n",
    "\n",
    "        optimizer.zero_grad()\n",
    "        y_pred = model(X_data).reshape(-1, 6)\n",
    "\n",
    "        loss = criterion(y_pred, y_data)\n",
    "        running_loss += loss.item()\n",
    "\n",
    "        loss.backward()\n",
    "        optimizer.step()\n",
    "    scheduler.step()\n",
    "    train_loss.append(running_loss / len(train_dataloader))\n",
    "\n",
    "    model.eval()\n",
    "    with torch.no_grad():\n",
    "        correct = 0\n",
    "        total = 0\n",
    "        for idx, data in tqdm(enumerate(test_dataloader), total=len(test_dataloader), desc=f\"Test Epoch {epoch+1}/{EPOCHS}, Test Loss: {running_loss / len(test_dataloader)}\"):\n",
    "            X_data, y_data = data\n",
    "            X_data = X_data.to(device).reshape(-1, 6)\n",
    "            y_data = y_data.to(device)\n",
    "\n",
    "            y_pred = model(X_data).reshape(-1, 6)\n",
    "            loss = criterion(y_pred, y_data)\n",
    "            running_loss += loss.item()\n",
    "\n",
    "            _, predicted = torch.max(y_pred.data, 1)\n",
    "            _, y_true = torch.max(y_data.data, 1)\n",
    "            total += y_data.size(0)\n",
    "            correct += (predicted == y_true).sum().item()\n",
    "\n",
    "        val_loss.append(running_loss / len(test_dataloader))"
   ]
  },
  {
   "cell_type": "code",
   "execution_count": null,
   "metadata": {},
   "outputs": [
    {
     "ename": "NameError",
     "evalue": "name 'val_loss' is not defined",
     "output_type": "error",
     "traceback": [
      "\u001b[0;31m---------------------------------------------------------------------------\u001b[0m",
      "\u001b[0;31mNameError\u001b[0m                                 Traceback (most recent call last)",
      "Cell \u001b[0;32mIn[13], line 5\u001b[0m\n\u001b[1;32m      3\u001b[0m plt\u001b[39m.\u001b[39msubplot(\u001b[39m1\u001b[39m, \u001b[39m2\u001b[39m, \u001b[39m1\u001b[39m)\n\u001b[1;32m      4\u001b[0m plt\u001b[39m.\u001b[39mtitle(\u001b[39m\"\u001b[39m\u001b[39mTest Loss\u001b[39m\u001b[39m\"\u001b[39m)\n\u001b[0;32m----> 5\u001b[0m plt\u001b[39m.\u001b[39mplot(val_loss, label\u001b[39m=\u001b[39m\u001b[39m'\u001b[39m\u001b[39mtest loss\u001b[39m\u001b[39m'\u001b[39m, color\u001b[39m=\u001b[39m\u001b[39m'\u001b[39m\u001b[39mred\u001b[39m\u001b[39m'\u001b[39m, linewidth\u001b[39m=\u001b[39m\u001b[39m2\u001b[39m)\n\u001b[1;32m      6\u001b[0m plt\u001b[39m.\u001b[39mxlabel(\u001b[39m'\u001b[39m\u001b[39mEpochs\u001b[39m\u001b[39m'\u001b[39m)\n\u001b[1;32m      7\u001b[0m plt\u001b[39m.\u001b[39mylabel(\u001b[39m'\u001b[39m\u001b[39mLoss\u001b[39m\u001b[39m'\u001b[39m)\n",
      "\u001b[0;31mNameError\u001b[0m: name 'val_loss' is not defined"
     ]
    },
    {
     "data": {
      "image/png": "[encoded data removed]",
      "text/plain": [
       "<Figure size 2000x1000 with 1 Axes>"
      ]
     },
     "metadata": {},
     "output_type": "display_data"
    }
   ],
   "source": [
    "plt.figure(figsize=(20, 10))\n",
    "\n",
    "plt.subplot(1, 2, 1)\n",
    "plt.title(\"Test Loss\")\n",
    "plt.plot(val_loss, label='test loss', color='red', linewidth=2)\n",
    "plt.xlabel('Epochs')\n",
    "plt.ylabel('Loss')\n",
    "plt.grid(True)\n",
    "\n",
    "plt.subplot(1, 2, 2)\n",
    "plt.title(\"Train Loss\")\n",
    "plt.plot(train_loss, label='train loss', color='blue', linewidth=2)\n",
    "plt.xlabel('Epochs')\n",
    "plt.ylabel('Loss')\n",
    "plt.grid(True)\n",
    "\n",
    "plt.show()"
   ]
  },
  {
   "cell_type": "markdown",
   "metadata": {},
   "source": [
    "# Evaluation"
   ]
  },
  {
   "cell_type": "code",
   "execution_count": null,
   "metadata": {},
   "outputs": [
    {
     "data": {
      "text/plain": [
       "Model(\n",
       "  (encoder): Linear(in_features=6, out_features=6, bias=True)\n",
       "  (positional_encoding): PositionalEncoding(\n",
       "    (dropout): Dropout(p=0.1, inplace=False)\n",
       "  )\n",
       "  (transformer_1): TransformerEncoder(\n",
       "    (linear): Linear(in_features=6, out_features=6, bias=True)\n",
       "    (norm): LayerNorm((6,), eps=1e-05, elementwise_affine=True)\n",
       "    (activation): ReLU()\n",
       "    (dropout): Dropout(p=0.1, inplace=False)\n",
       "    (attention): MultiheadAttention(\n",
       "      (out_proj): NonDynamicallyQuantizableLinear(in_features=6, out_features=6, bias=True)\n",
       "    )\n",
       "  )\n",
       "  (transformer_1_linear): Linear(in_features=6, out_features=6, bias=True)\n",
       "  (transformer_1_norm): LayerNorm((6,), eps=1e-05, elementwise_affine=True)\n",
       "  (transformer_2): TransformerEncoder(\n",
       "    (linear): Linear(in_features=6, out_features=6, bias=True)\n",
       "    (norm): LayerNorm((6,), eps=1e-05, elementwise_affine=True)\n",
       "    (activation): ReLU()\n",
       "    (dropout): Dropout(p=0.1, inplace=False)\n",
       "    (attention): MultiheadAttention(\n",
       "      (out_proj): NonDynamicallyQuantizableLinear(in_features=6, out_features=6, bias=True)\n",
       "    )\n",
       "  )\n",
       "  (transformer_2_linear): Linear(in_features=6, out_features=6, bias=True)\n",
       "  (transformer_2_norm): LayerNorm((6,), eps=1e-05, elementwise_affine=True)\n",
       "  (transformer_3): TransformerEncoder(\n",
       "    (linear): Linear(in_features=6, out_features=6, bias=True)\n",
       "    (norm): LayerNorm((6,), eps=1e-05, elementwise_affine=True)\n",
       "    (activation): ReLU()\n",
       "    (dropout): Dropout(p=0.1, inplace=False)\n",
       "    (attention): MultiheadAttention(\n",
       "      (out_proj): NonDynamicallyQuantizableLinear(in_features=6, out_features=6, bias=True)\n",
       "    )\n",
       "  )\n",
       "  (transformer_3_linear): Linear(in_features=6, out_features=6, bias=True)\n",
       "  (transformer_3_norm): LayerNorm((6,), eps=1e-05, elementwise_affine=True)\n",
       "  (transformer_4): TransformerEncoder(\n",
       "    (linear): Linear(in_features=6, out_features=6, bias=True)\n",
       "    (norm): LayerNorm((6,), eps=1e-05, elementwise_affine=True)\n",
       "    (activation): ReLU()\n",
       "    (dropout): Dropout(p=0.1, inplace=False)\n",
       "    (attention): MultiheadAttention(\n",
       "      (out_proj): NonDynamicallyQuantizableLinear(in_features=6, out_features=6, bias=True)\n",
       "    )\n",
       "  )\n",
       "  (transformer_4_linear): Linear(in_features=6, out_features=6, bias=True)\n",
       "  (transformer_4_norm): LayerNorm((6,), eps=1e-05, elementwise_affine=True)\n",
       "  (flatten): Flatten(start_dim=1, end_dim=-1)\n",
       "  (output): Linear(in_features=6, out_features=6, bias=True)\n",
       "  (output_softmax): Softmax(dim=1)\n",
       ")"
      ]
     },
     "execution_count": 16,
     "metadata": {},
     "output_type": "execute_result"
    }
   ],
   "source": [
    "model.eval()"
   ]
  },
  {
   "cell_type": "code",
   "execution_count": null,
   "metadata": {},
   "outputs": [],
   "source": [
    "eval_prediction_list = []\n",
    "\n",
    "for idx, (x, y) in enumerate(test_dataloader):\n",
    "    x = x.to(device)\n",
    "    y = y.to(device)\n",
    "    \n",
    "    prediction = model(x)\n",
    "    eval_prediction_list.append(prediction)\n",
    "\n",
    "y_pred = torch.cat(eval_prediction_list, dim=0)\n",
    "y_pred = y_pred.detach().cpu().numpy()"
   ]
  },
  {
   "cell_type": "code",
   "execution_count": null,
   "metadata": {},
   "outputs": [
    {
     "name": "stdout",
     "output_type": "stream",
     "text": [
      "y_pred Shape: (176, 16, 6)\n",
      "y_test Shape: (176, 6)\n"
     ]
    }
   ],
   "source": [
    "print(f\"\"\"y_pred Shape: {y_pred.shape}\n",
    "y_test Shape: {y_test.shape}\"\"\")"
   ]
  },
  {
   "cell_type": "code",
   "execution_count": null,
   "metadata": {},
   "outputs": [
    {
     "ename": "ValueError",
     "evalue": "Found array with dim 3. None expected <= 2.",
     "output_type": "error",
     "traceback": [
      "\u001b[0;31m---------------------------------------------------------------------------\u001b[0m",
      "\u001b[0;31mValueError\u001b[0m                                Traceback (most recent call last)",
      "Cell \u001b[0;32mIn[19], line 1\u001b[0m\n\u001b[0;32m----> 1\u001b[0m mse_loss \u001b[39m=\u001b[39m mean_squared_error(y_test, y_pred)\n\u001b[1;32m      2\u001b[0m \u001b[39mprint\u001b[39m(\u001b[39m\"\u001b[39m\u001b[39mMSE Loss: \u001b[39m\u001b[39m\"\u001b[39m, mse_loss)\n",
      "File \u001b[0;32m~/miniconda3/lib/python3.10/site-packages/sklearn/metrics/_regression.py:442\u001b[0m, in \u001b[0;36mmean_squared_error\u001b[0;34m(y_true, y_pred, sample_weight, multioutput, squared)\u001b[0m\n\u001b[1;32m    382\u001b[0m \u001b[39mdef\u001b[39;00m \u001b[39mmean_squared_error\u001b[39m(\n\u001b[1;32m    383\u001b[0m     y_true, y_pred, \u001b[39m*\u001b[39m, sample_weight\u001b[39m=\u001b[39m\u001b[39mNone\u001b[39;00m, multioutput\u001b[39m=\u001b[39m\u001b[39m\"\u001b[39m\u001b[39muniform_average\u001b[39m\u001b[39m\"\u001b[39m, squared\u001b[39m=\u001b[39m\u001b[39mTrue\u001b[39;00m\n\u001b[1;32m    384\u001b[0m ):\n\u001b[1;32m    385\u001b[0m \u001b[39m    \u001b[39m\u001b[39m\"\"\"Mean squared error regression loss.\u001b[39;00m\n\u001b[1;32m    386\u001b[0m \n\u001b[1;32m    387\u001b[0m \u001b[39m    Read more in the :ref:`User Guide <mean_squared_error>`.\u001b[39;00m\n\u001b[0;32m   (...)\u001b[0m\n\u001b[1;32m    440\u001b[0m \u001b[39m    0.825...\u001b[39;00m\n\u001b[1;32m    441\u001b[0m \u001b[39m    \"\"\"\u001b[39;00m\n\u001b[0;32m--> 442\u001b[0m     y_type, y_true, y_pred, multioutput \u001b[39m=\u001b[39m _check_reg_targets(\n\u001b[1;32m    443\u001b[0m         y_true, y_pred, multioutput\n\u001b[1;32m    444\u001b[0m     )\n\u001b[1;32m    445\u001b[0m     check_consistent_length(y_true, y_pred, sample_weight)\n\u001b[1;32m    446\u001b[0m     output_errors \u001b[39m=\u001b[39m np\u001b[39m.\u001b[39maverage((y_true \u001b[39m-\u001b[39m y_pred) \u001b[39m*\u001b[39m\u001b[39m*\u001b[39m \u001b[39m2\u001b[39m, axis\u001b[39m=\u001b[39m\u001b[39m0\u001b[39m, weights\u001b[39m=\u001b[39msample_weight)\n",
      "File \u001b[0;32m~/miniconda3/lib/python3.10/site-packages/sklearn/metrics/_regression.py:102\u001b[0m, in \u001b[0;36m_check_reg_targets\u001b[0;34m(y_true, y_pred, multioutput, dtype)\u001b[0m\n\u001b[1;32m    100\u001b[0m check_consistent_length(y_true, y_pred)\n\u001b[1;32m    101\u001b[0m y_true \u001b[39m=\u001b[39m check_array(y_true, ensure_2d\u001b[39m=\u001b[39m\u001b[39mFalse\u001b[39;00m, dtype\u001b[39m=\u001b[39mdtype)\n\u001b[0;32m--> 102\u001b[0m y_pred \u001b[39m=\u001b[39m check_array(y_pred, ensure_2d\u001b[39m=\u001b[39;49m\u001b[39mFalse\u001b[39;49;00m, dtype\u001b[39m=\u001b[39;49mdtype)\n\u001b[1;32m    104\u001b[0m \u001b[39mif\u001b[39;00m y_true\u001b[39m.\u001b[39mndim \u001b[39m==\u001b[39m \u001b[39m1\u001b[39m:\n\u001b[1;32m    105\u001b[0m     y_true \u001b[39m=\u001b[39m y_true\u001b[39m.\u001b[39mreshape((\u001b[39m-\u001b[39m\u001b[39m1\u001b[39m, \u001b[39m1\u001b[39m))\n",
      "File \u001b[0;32m~/miniconda3/lib/python3.10/site-packages/sklearn/utils/validation.py:915\u001b[0m, in \u001b[0;36mcheck_array\u001b[0;34m(array, accept_sparse, accept_large_sparse, dtype, order, copy, force_all_finite, ensure_2d, allow_nd, ensure_min_samples, ensure_min_features, estimator, input_name)\u001b[0m\n\u001b[1;32m    910\u001b[0m     \u001b[39mraise\u001b[39;00m \u001b[39mValueError\u001b[39;00m(\n\u001b[1;32m    911\u001b[0m         \u001b[39m\"\u001b[39m\u001b[39mdtype=\u001b[39m\u001b[39m'\u001b[39m\u001b[39mnumeric\u001b[39m\u001b[39m'\u001b[39m\u001b[39m is not compatible with arrays of bytes/strings.\u001b[39m\u001b[39m\"\u001b[39m\n\u001b[1;32m    912\u001b[0m         \u001b[39m\"\u001b[39m\u001b[39mConvert your data to numeric values explicitly instead.\u001b[39m\u001b[39m\"\u001b[39m\n\u001b[1;32m    913\u001b[0m     )\n\u001b[1;32m    914\u001b[0m \u001b[39mif\u001b[39;00m \u001b[39mnot\u001b[39;00m allow_nd \u001b[39mand\u001b[39;00m array\u001b[39m.\u001b[39mndim \u001b[39m>\u001b[39m\u001b[39m=\u001b[39m \u001b[39m3\u001b[39m:\n\u001b[0;32m--> 915\u001b[0m     \u001b[39mraise\u001b[39;00m \u001b[39mValueError\u001b[39;00m(\n\u001b[1;32m    916\u001b[0m         \u001b[39m\"\u001b[39m\u001b[39mFound array with dim \u001b[39m\u001b[39m%d\u001b[39;00m\u001b[39m. \u001b[39m\u001b[39m%s\u001b[39;00m\u001b[39m expected <= 2.\u001b[39m\u001b[39m\"\u001b[39m\n\u001b[1;32m    917\u001b[0m         \u001b[39m%\u001b[39m (array\u001b[39m.\u001b[39mndim, estimator_name)\n\u001b[1;32m    918\u001b[0m     )\n\u001b[1;32m    920\u001b[0m \u001b[39mif\u001b[39;00m force_all_finite:\n\u001b[1;32m    921\u001b[0m     _assert_all_finite(\n\u001b[1;32m    922\u001b[0m         array,\n\u001b[1;32m    923\u001b[0m         input_name\u001b[39m=\u001b[39minput_name,\n\u001b[1;32m    924\u001b[0m         estimator_name\u001b[39m=\u001b[39mestimator_name,\n\u001b[1;32m    925\u001b[0m         allow_nan\u001b[39m=\u001b[39mforce_all_finite \u001b[39m==\u001b[39m \u001b[39m\"\u001b[39m\u001b[39mallow-nan\u001b[39m\u001b[39m\"\u001b[39m,\n\u001b[1;32m    926\u001b[0m     )\n",
      "\u001b[0;31mValueError\u001b[0m: Found array with dim 3. None expected <= 2."
     ]
    }
   ],
   "source": [
    "mse_loss = mean_squared_error(y_test, y_pred)\n",
    "print(\"MSE Loss: \", mse_loss)"
   ]
  },
  {
   "cell_type": "code",
   "execution_count": null,
   "metadata": {},
   "outputs": [],
   "source": [
    "y_test_arg = np.argmax(y_test, axis=1)\n",
    "y_pred_arg = np.argmax(y_pred, axis=1)\n",
    "print(classification_report(y_test_arg, y_pred_arg))"
   ]
  },
  {
   "cell_type": "code",
   "execution_count": null,
   "metadata": {},
   "outputs": [],
   "source": [
    "conf_mat = confusion_matrix(y_test_arg, y_pred_arg)\n",
    "\n",
    "plt.figure(figsize=(10, 10))\n",
    "sns.heatmap(conf_mat, annot=True, fmt='d', cmap=plt.cm.Blues, cbar=False)\n",
    "plt.title('Confusion Matrix')\n",
    "plt.xlabel('Predicted Label')\n",
    "plt.ylabel('True Label')\n",
    "plt.show()"
   ]
  },
  {
   "cell_type": "code",
   "execution_count": null,
   "metadata": {},
   "outputs": [],
   "source": []
  }
 ],
 "metadata": {
  "kernelspec": {
   "display_name": "base",
   "language": "python",
   "name": "python3"
  },
  "language_info": {
   "codemirror_mode": {
    "name": "ipython",
    "version": 3
   },
   "file_extension": ".py",
   "mimetype": "text/x-python",
   "name": "python",
   "nbconvert_exporter": "python",
   "pygments_lexer": "ipython3",
   "version": "3.10.9"
  },
  "orig_nbformat": 4
 },
 "nbformat": 4,
 "nbformat_minor": 2
}
