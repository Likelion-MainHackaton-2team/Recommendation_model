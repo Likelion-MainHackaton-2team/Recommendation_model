{
 "cells": [
  {
   "cell_type": "code",
   "execution_count": 1,
   "metadata": {},
   "outputs": [
    {
     "name": "stderr",
     "output_type": "stream",
     "text": [
      "/var/folders/gq/xnxpqv5x7jz19nnym4s4_l940000gn/T/ipykernel_12466/2475712656.py:10: TqdmExperimentalWarning: Using `tqdm.autonotebook.tqdm` in notebook mode. Use `tqdm.tqdm` instead to force console mode (e.g. in jupyter console)\n",
      "  from tqdm.autonotebook import tqdm\n"
     ]
    }
   ],
   "source": [
    "from sklearn.preprocessing import OneHotEncoder, LabelEncoder\n",
    "\n",
    "from sklearn.model_selection import train_test_split\n",
    "from sklearn.metrics import classification_report\n",
    "from sklearn.metrics import mean_squared_error\n",
    "from sklearn.metrics import confusion_matrix\n",
    "from sklearn.metrics import accuracy_score\n",
    "from sklearn.metrics import r2_score\n",
    "\n",
    "from tqdm.autonotebook import tqdm\n",
    "\n",
    "import matplotlib.pyplot as plt\n",
    "import seaborn as sns\n",
    "import pandas as pd\n",
    "import numpy as np\n",
    "\n",
    "from torch.utils.data import Dataset, DataLoader\n",
    "from torchsummary import summary\n",
    "\n",
    "import torch.nn.functional as F\n",
    "import torch.optim as optim\n",
    "import torch.nn as nn\n",
    "import torch\n",
    "\n",
    "DATA_PATH = \"./data/pet_store_records_2020.csv\""
   ]
  },
  {
   "cell_type": "markdown",
   "metadata": {},
   "source": [
    "# Read data"
   ]
  },
  {
   "cell_type": "code",
   "execution_count": 2,
   "metadata": {},
   "outputs": [
    {
     "data": {
      "text/html": [
       "<div>\n",
       "<style scoped>\n",
       "    .dataframe tbody tr th:only-of-type {\n",
       "        vertical-align: middle;\n",
       "    }\n",
       "\n",
       "    .dataframe tbody tr th {\n",
       "        vertical-align: top;\n",
       "    }\n",
       "\n",
       "    .dataframe thead th {\n",
       "        text-align: right;\n",
       "    }\n",
       "</style>\n",
       "<table border=\"1\" class=\"dataframe\">\n",
       "  <thead>\n",
       "    <tr style=\"text-align: right;\">\n",
       "      <th></th>\n",
       "      <th>product_category</th>\n",
       "      <th>sales</th>\n",
       "      <th>price</th>\n",
       "      <th>VAP</th>\n",
       "      <th>vendor_id</th>\n",
       "      <th>country</th>\n",
       "      <th>pet_size</th>\n",
       "      <th>pet_type</th>\n",
       "      <th>rating</th>\n",
       "      <th>re_buy</th>\n",
       "    </tr>\n",
       "    <tr>\n",
       "      <th>product_id</th>\n",
       "      <th></th>\n",
       "      <th></th>\n",
       "      <th></th>\n",
       "      <th></th>\n",
       "      <th></th>\n",
       "      <th></th>\n",
       "      <th></th>\n",
       "      <th></th>\n",
       "      <th></th>\n",
       "      <th></th>\n",
       "    </tr>\n",
       "  </thead>\n",
       "  <tbody>\n",
       "    <tr>\n",
       "      <th>5040</th>\n",
       "      <td>Equipment</td>\n",
       "      <td>123</td>\n",
       "      <td>7293</td>\n",
       "      <td>0</td>\n",
       "      <td>VC_1605</td>\n",
       "      <td>Vietnam</td>\n",
       "      <td>small</td>\n",
       "      <td>fish</td>\n",
       "      <td>7</td>\n",
       "      <td>1</td>\n",
       "    </tr>\n",
       "    <tr>\n",
       "      <th>4567</th>\n",
       "      <td>Toys</td>\n",
       "      <td>61</td>\n",
       "      <td>9304</td>\n",
       "      <td>1</td>\n",
       "      <td>VC_1132</td>\n",
       "      <td>India</td>\n",
       "      <td>small</td>\n",
       "      <td>cat</td>\n",
       "      <td>10</td>\n",
       "      <td>0</td>\n",
       "    </tr>\n",
       "    <tr>\n",
       "      <th>4237</th>\n",
       "      <td>Toys</td>\n",
       "      <td>218</td>\n",
       "      <td>8180</td>\n",
       "      <td>0</td>\n",
       "      <td>VC_802</td>\n",
       "      <td>India</td>\n",
       "      <td>small</td>\n",
       "      <td>hamster</td>\n",
       "      <td>6</td>\n",
       "      <td>0</td>\n",
       "    </tr>\n",
       "    <tr>\n",
       "      <th>4364</th>\n",
       "      <td>Snack</td>\n",
       "      <td>69</td>\n",
       "      <td>18559</td>\n",
       "      <td>1</td>\n",
       "      <td>VC_929</td>\n",
       "      <td>India</td>\n",
       "      <td>large</td>\n",
       "      <td>dog</td>\n",
       "      <td>1</td>\n",
       "      <td>1</td>\n",
       "    </tr>\n",
       "    <tr>\n",
       "      <th>4184</th>\n",
       "      <td>Supplements</td>\n",
       "      <td>138</td>\n",
       "      <td>10283</td>\n",
       "      <td>1</td>\n",
       "      <td>VC_749</td>\n",
       "      <td>India</td>\n",
       "      <td>large</td>\n",
       "      <td>dog</td>\n",
       "      <td>10</td>\n",
       "      <td>0</td>\n",
       "    </tr>\n",
       "  </tbody>\n",
       "</table>\n",
       "</div>"
      ],
      "text/plain": [
       "           product_category  sales  price  VAP vendor_id  country pet_size  \\\n",
       "product_id                                                                   \n",
       "5040              Equipment    123   7293    0   VC_1605  Vietnam    small   \n",
       "4567                   Toys     61   9304    1   VC_1132    India    small   \n",
       "4237                   Toys    218   8180    0    VC_802    India    small   \n",
       "4364                  Snack     69  18559    1    VC_929    India    large   \n",
       "4184            Supplements    138  10283    1    VC_749    India    large   \n",
       "\n",
       "           pet_type  rating  re_buy  \n",
       "product_id                           \n",
       "5040           fish       7       1  \n",
       "4567            cat      10       0  \n",
       "4237        hamster       6       0  \n",
       "4364            dog       1       1  \n",
       "4184            dog      10       0  "
      ]
     },
     "execution_count": 2,
     "metadata": {},
     "output_type": "execute_result"
    }
   ],
   "source": [
    "datasheet = pd.read_csv(DATA_PATH, sep=\",\", index_col=0)\n",
    "datasheet.head()"
   ]
  },
  {
   "cell_type": "code",
   "execution_count": 3,
   "metadata": {},
   "outputs": [
    {
     "data": {
      "text/html": [
       "<div>\n",
       "<style scoped>\n",
       "    .dataframe tbody tr th:only-of-type {\n",
       "        vertical-align: middle;\n",
       "    }\n",
       "\n",
       "    .dataframe tbody tr th {\n",
       "        vertical-align: top;\n",
       "    }\n",
       "\n",
       "    .dataframe thead th {\n",
       "        text-align: right;\n",
       "    }\n",
       "</style>\n",
       "<table border=\"1\" class=\"dataframe\">\n",
       "  <thead>\n",
       "    <tr style=\"text-align: right;\">\n",
       "      <th></th>\n",
       "      <th>product_category</th>\n",
       "      <th>sales</th>\n",
       "      <th>price</th>\n",
       "      <th>pet_type</th>\n",
       "      <th>rating</th>\n",
       "      <th>re_buy</th>\n",
       "    </tr>\n",
       "    <tr>\n",
       "      <th>product_id</th>\n",
       "      <th></th>\n",
       "      <th></th>\n",
       "      <th></th>\n",
       "      <th></th>\n",
       "      <th></th>\n",
       "      <th></th>\n",
       "    </tr>\n",
       "  </thead>\n",
       "  <tbody>\n",
       "    <tr>\n",
       "      <th>5040</th>\n",
       "      <td>Equipment</td>\n",
       "      <td>123</td>\n",
       "      <td>7293</td>\n",
       "      <td>fish</td>\n",
       "      <td>7</td>\n",
       "      <td>1</td>\n",
       "    </tr>\n",
       "    <tr>\n",
       "      <th>4567</th>\n",
       "      <td>Toys</td>\n",
       "      <td>61</td>\n",
       "      <td>9304</td>\n",
       "      <td>cat</td>\n",
       "      <td>10</td>\n",
       "      <td>0</td>\n",
       "    </tr>\n",
       "    <tr>\n",
       "      <th>4237</th>\n",
       "      <td>Toys</td>\n",
       "      <td>218</td>\n",
       "      <td>8180</td>\n",
       "      <td>hamster</td>\n",
       "      <td>6</td>\n",
       "      <td>0</td>\n",
       "    </tr>\n",
       "    <tr>\n",
       "      <th>4364</th>\n",
       "      <td>Snack</td>\n",
       "      <td>69</td>\n",
       "      <td>18559</td>\n",
       "      <td>dog</td>\n",
       "      <td>1</td>\n",
       "      <td>1</td>\n",
       "    </tr>\n",
       "    <tr>\n",
       "      <th>4184</th>\n",
       "      <td>Supplements</td>\n",
       "      <td>138</td>\n",
       "      <td>10283</td>\n",
       "      <td>dog</td>\n",
       "      <td>10</td>\n",
       "      <td>0</td>\n",
       "    </tr>\n",
       "  </tbody>\n",
       "</table>\n",
       "</div>"
      ],
      "text/plain": [
       "           product_category  sales  price pet_type  rating  re_buy\n",
       "product_id                                                        \n",
       "5040              Equipment    123   7293     fish       7       1\n",
       "4567                   Toys     61   9304      cat      10       0\n",
       "4237                   Toys    218   8180  hamster       6       0\n",
       "4364                  Snack     69  18559      dog       1       1\n",
       "4184            Supplements    138  10283      dog      10       0"
      ]
     },
     "execution_count": 3,
     "metadata": {},
     "output_type": "execute_result"
    }
   ],
   "source": [
    "datasheet = datasheet.drop([\n",
    "    'vendor_id', \n",
    "    'VAP', \n",
    "    'country', \n",
    "    'pet_size'\n",
    "], axis=1)\n",
    "datasheet.head()"
   ]
  },
  {
   "cell_type": "markdown",
   "metadata": {},
   "source": [
    "### Plotting for analysis"
   ]
  },
  {
   "cell_type": "code",
   "execution_count": 4,
   "metadata": {},
   "outputs": [
    {
     "data": {
      "image/png": "[encoded data removed]",
      "text/plain": [
       "<Figure size 2000x1000 with 1 Axes>"
      ]
     },
     "metadata": {},
     "output_type": "display_data"
    }
   ],
   "source": [
    "plt.figure(figsize=(20, 10))\n",
    "plt.hist(datasheet['product_category'], bins=50)\n",
    "plt.grid()\n",
    "plt.xlabel('Product Category')\n",
    "plt.ylabel('Number of Products')\n",
    "plt.title('Product Category Distribution')\n",
    "plt.xticks(rotation=45)\n",
    "plt.show()"
   ]
  },
  {
   "cell_type": "code",
   "execution_count": 5,
   "metadata": {},
   "outputs": [
    {
     "data": {
      "image/png": "[encoded data removed]",
      "text/plain": [
       "<Figure size 800x800 with 2 Axes>"
      ]
     },
     "metadata": {},
     "output_type": "display_data"
    }
   ],
   "source": [
    "relationship = datasheet[[\"sales\", \"price\", \"rating\", \"re_buy\"]].corr()\n",
    "\n",
    "plt.figure(figsize=(8, 8))\n",
    "sns.heatmap(relationship, annot=True, fmt=\".2f\", linewidths=.5, cmap='Reds')\n",
    "plt.title(\"Correlation between variables (sales, price, rating, re_buy)\")\n",
    "plt.xlabel(\"Variables\")\n",
    "plt.ylabel(\"Variables\")\n",
    "plt.xticks([0.5, 1.5, 2.5, 3.5], [\"sales\", \"price\", \"rating\", \"re_buy\"], rotation=45)\n",
    "plt.yticks([0.5, 1.5, 2.5, 3.5], [\"sales\", \"price\", \"rating\", \"re_buy\"], rotation=45)\n",
    "plt.show()"
   ]
  },
  {
   "cell_type": "code",
   "execution_count": 6,
   "metadata": {},
   "outputs": [
    {
     "data": {
      "image/png": "[encoded data removed]",
      "text/plain": [
       "<Figure size 1500x500 with 1 Axes>"
      ]
     },
     "metadata": {},
     "output_type": "display_data"
    }
   ],
   "source": [
    "plt.figure(figsize=(15, 5))\n",
    "plt.bar(x=range(len(datasheet['product_category'].value_counts())), height=datasheet['product_category'].value_counts())\n",
    "plt.xlabel('Product Category')\n",
    "plt.ylabel('Number of Products')\n",
    "plt.title('Number of Products per Category')\n",
    "plt.xticks(range(len(datasheet['product_category'].value_counts())), datasheet['product_category'].value_counts().index, rotation=45)\n",
    "plt.grid(True)\n",
    "plt.show()"
   ]
  },
  {
   "cell_type": "code",
   "execution_count": 7,
   "metadata": {},
   "outputs": [
    {
     "data": {
      "text/html": [
       "<div>\n",
       "<style scoped>\n",
       "    .dataframe tbody tr th:only-of-type {\n",
       "        vertical-align: middle;\n",
       "    }\n",
       "\n",
       "    .dataframe tbody tr th {\n",
       "        vertical-align: top;\n",
       "    }\n",
       "\n",
       "    .dataframe thead th {\n",
       "        text-align: right;\n",
       "    }\n",
       "</style>\n",
       "<table border=\"1\" class=\"dataframe\">\n",
       "  <thead>\n",
       "    <tr style=\"text-align: right;\">\n",
       "      <th></th>\n",
       "      <th>product_category</th>\n",
       "      <th>sales</th>\n",
       "      <th>price</th>\n",
       "      <th>pet_type</th>\n",
       "      <th>rating</th>\n",
       "      <th>re_buy</th>\n",
       "    </tr>\n",
       "    <tr>\n",
       "      <th>product_id</th>\n",
       "      <th></th>\n",
       "      <th></th>\n",
       "      <th></th>\n",
       "      <th></th>\n",
       "      <th></th>\n",
       "      <th></th>\n",
       "    </tr>\n",
       "  </thead>\n",
       "  <tbody>\n",
       "    <tr>\n",
       "      <th>5040</th>\n",
       "      <td>Equipment</td>\n",
       "      <td>123</td>\n",
       "      <td>7293</td>\n",
       "      <td>fish</td>\n",
       "      <td>7</td>\n",
       "      <td>1</td>\n",
       "    </tr>\n",
       "    <tr>\n",
       "      <th>4567</th>\n",
       "      <td>Toys</td>\n",
       "      <td>61</td>\n",
       "      <td>9304</td>\n",
       "      <td>cat</td>\n",
       "      <td>10</td>\n",
       "      <td>0</td>\n",
       "    </tr>\n",
       "    <tr>\n",
       "      <th>4237</th>\n",
       "      <td>Toys</td>\n",
       "      <td>218</td>\n",
       "      <td>8180</td>\n",
       "      <td>hamster</td>\n",
       "      <td>6</td>\n",
       "      <td>0</td>\n",
       "    </tr>\n",
       "    <tr>\n",
       "      <th>4364</th>\n",
       "      <td>Snack</td>\n",
       "      <td>69</td>\n",
       "      <td>18559</td>\n",
       "      <td>dog</td>\n",
       "      <td>1</td>\n",
       "      <td>1</td>\n",
       "    </tr>\n",
       "    <tr>\n",
       "      <th>4184</th>\n",
       "      <td>Supplements</td>\n",
       "      <td>138</td>\n",
       "      <td>10283</td>\n",
       "      <td>dog</td>\n",
       "      <td>10</td>\n",
       "      <td>0</td>\n",
       "    </tr>\n",
       "  </tbody>\n",
       "</table>\n",
       "</div>"
      ],
      "text/plain": [
       "           product_category  sales  price pet_type  rating  re_buy\n",
       "product_id                                                        \n",
       "5040              Equipment    123   7293     fish       7       1\n",
       "4567                   Toys     61   9304      cat      10       0\n",
       "4237                   Toys    218   8180  hamster       6       0\n",
       "4364                  Snack     69  18559      dog       1       1\n",
       "4184            Supplements    138  10283      dog      10       0"
      ]
     },
     "execution_count": 7,
     "metadata": {},
     "output_type": "execute_result"
    }
   ],
   "source": [
    "datasheet.head()"
   ]
  },
  {
   "cell_type": "markdown",
   "metadata": {},
   "source": [
    "# Pre-processing"
   ]
  },
  {
   "cell_type": "code",
   "execution_count": 8,
   "metadata": {},
   "outputs": [],
   "source": [
    "onehot_encoder = OneHotEncoder()"
   ]
  },
  {
   "cell_type": "code",
   "execution_count": 9,
   "metadata": {},
   "outputs": [
    {
     "name": "stdout",
     "output_type": "stream",
     "text": [
      "le_name_mapping: {'bird': 0, 'cat': 1, 'dog': 2, 'fish': 3, 'hamster': 4, 'rabbit': 5}\n"
     ]
    }
   ],
   "source": [
    "transformed_target = datasheet['pet_type'].values.reshape(-1, 1)\n",
    "transformed_target_unique = np.unique(transformed_target)\n",
    "\n",
    "le = LabelEncoder()\n",
    "transformed_target = le.fit_transform(transformed_target.ravel())\n",
    "\n",
    "le_name_mapping = dict(zip(le.classes_, le.transform(le.classes_)))\n",
    "print(f\"le_name_mapping: {le_name_mapping}\")\n",
    "\n",
    "datasheet['pet_type'] = transformed_target"
   ]
  },
  {
   "cell_type": "code",
   "execution_count": 10,
   "metadata": {},
   "outputs": [
    {
     "name": "stdout",
     "output_type": "stream",
     "text": [
      "One-hot encoded product category: [ 3 10 10  8  9  1 10  1  9  7  8  9  6  4  9  3  8  3  4  4  6  2  0  4\n",
      "  7  3  0  4  6  9  7  3  8  2  8  7  0 10  1  3  8  1  0  4  4  8  5  8\n",
      " 10  3  5  2  2  4  3 10  3 10  2  8  3  6  2  3  3  6  9  6  7  9  6 10\n",
      "  5  1  5  0 10  7  3 10  4  0 10  6  8  9  9  1  2  3  6  8  5  8  9  2\n",
      "  7  2  3 10 10  0  3  3 10 10  7  9  4 10  3  3  2  8  1  2  7  3  0  4\n",
      "  6  4  7  8  3  8  3 10  8  7  4  3  7  5  8  8 10  8  7  4  6  3  8 10\n",
      " 10  5 10  8 10  6 10  8  2  5  9  8  8  1  3  3  5  7  7  6 10 10  7  8\n",
      " 10  3  8  8  8 10 10  3  4  3  8  9  2  9  3  8  8  7  9  2 10  7  4  8\n",
      "  5  0  9  4  7 10  2  9 10  3 10  5 10  3  8 10 10  8 10 10  6  5  9  5\n",
      "  2  7  2  8  1 10  0  3  5  7  8  9  3  1  9  3  9  7  3  0  3  1  4  3\n",
      "  8  6  4  8 10  4  8 10  3  0  4  8  9  6  5  8  3  8 10  4 10 10  3  3\n",
      "  3  8  4  7  7  4  3  1 10  2  3 10  8  9 10  3  8  0 10  8  3  9  7  5\n",
      "  0  8  6  9  0  7  8  4 10  8  9  2  7  6  8  9  0  5  3 10  2  1  9  4\n",
      " 10  7  0  9  1  3 10  9  8  4  8  3  8  8 10  9  8  3  3  2  5  1  7 10\n",
      "  8  7  3  3 10  5  3  5  8  7  8 10  4  8  0  7  0  8  1  8  4  3  3 10\n",
      "  8  7  8  3  8  1 10 10  7  3  3  7  3  8 10  3  5  4  7  3  1  8  3  8\n",
      "  3  4  3  0  7  9  6  1 10  0  3  2 10  9 10  7  6  9  7 10  9  1  5  3\n",
      "  4  9  0  7  2  3  3  0  9  7  4  8  4  6 10  9  3  8 10  3  8  6  3 10\n",
      "  3  6  4  8  7  1  0 10  4  8 10  7  2  4  4  4  8  5  3  2  8  0  9  3\n",
      "  9  9  6 10 10  1  6  0  8  8 10  0  9  3  4 10  3  4 10  1  6  3  1  3\n",
      "  3 10  3  3  3  8  8  7  6  3  7  8 10  0 10  8  3  1  0 10  9  3  3 10\n",
      "  8  3  9  3  8  5  6  3  7  3  3  4 10  7  4  9  6  5 10  4 10  7  9  4\n",
      "  8  4  8  8  5 10  9  3 10  2  7  8  7  9  3  3  8  1  9  7  8 10 10  8\n",
      " 10 10  7 10  9  7 10  0 10  6  5 10  8  4  3  6  2  8  0  4  9  8  9  8\n",
      "  7  3 10  1  6  6  3  6  3  3  0  8 10  7 10  3 10  8  5  9  2  9  3 10\n",
      "  5  7  8 10  9  5 10  3  5  5  5  4  1  5  3 10  4  3  4  9  4  8 10  8\n",
      "  1 10  9  6  4  0  3  3  4  4  9  0 10  6  0  4  1  5  5  7  2  3  1  8\n",
      "  4  9  3  8 10  9  9 10  5 10  4  3  3 10 10  1  5  3  1  7  7 10 10  5\n",
      "  0  2  4  1  8 10  4  3  8  3 10  9 10  8  8  2 10 10  8  8  3  6  6  8\n",
      "  3  0  0  2  1 10  2 10  3  3  8  1 10  6  6  8  0  8 10  9 10  4  9  8\n",
      "  0  6  4  7  2  3  8  7  1 10  8  4  1  2  4 10  7  3  7  3  5  3  2  5\n",
      "  3  0  9  5  2  1  8  3 10  2  6  0  6  3  4 10  7  3  8  3  8  3  3  8\n",
      "  7  3  8 10  8  3  7  7 10  0  5  5  9 10  7  8 10  3  7  9  4 10  1  1\n",
      " 10 10  0  1  8  8  8  8  3  1 10  7  5  7  4  8  8  6  2  0  3  8  6  8\n",
      "  8  9  3 10  0  4 10  8  8 10  7  4  8  9  4  8 10  4  9  7  7  2  7  8\n",
      "  3  7  4  9  2  9  2  1  8  9  2  3  4 10  5  9  8 10  2  1  3  8  2 10\n",
      " 10  4  4  2  3  6  9  8 10  3  8  8  8  1 10]\n"
     ]
    },
    {
     "name": "stderr",
     "output_type": "stream",
     "text": [
      "/Users/bahk_insung/miniconda3/lib/python3.10/site-packages/sklearn/preprocessing/_label.py:116: DataConversionWarning: A column-vector y was passed when a 1d array was expected. Please change the shape of y to (n_samples, ), for example using ravel().\n",
      "  y = column_or_1d(y, warn=True)\n"
     ]
    }
   ],
   "source": [
    "le = LabelEncoder()\n",
    "product_category = datasheet['product_category'].to_numpy()\n",
    "product_category_onehot = le.fit_transform(product_category.reshape(-1, 1)).astype(int)\n",
    "\n",
    "print(f\"One-hot encoded product category: {product_category_onehot}\")\n",
    "\n",
    "# softmax_dim = product_category_onehot.shape[1]\n",
    "# print(f\"Softmax dimension: {softmax_dim}\")"
   ]
  },
  {
   "cell_type": "code",
   "execution_count": 11,
   "metadata": {},
   "outputs": [
    {
     "name": "stderr",
     "output_type": "stream",
     "text": [
      "/var/folders/gq/xnxpqv5x7jz19nnym4s4_l940000gn/T/ipykernel_12466/1629457035.py:1: SettingWithCopyWarning: \n",
      "A value is trying to be set on a copy of a slice from a DataFrame\n",
      "\n",
      "See the caveats in the documentation: https://pandas.pydata.org/pandas-docs/stable/user_guide/indexing.html#returning-a-view-versus-a-copy\n",
      "  for i in range(len(datasheet.index)): datasheet['product_category'].iloc[i] = product_category_onehot[i]\n"
     ]
    },
    {
     "data": {
      "text/html": [
       "<div>\n",
       "<style scoped>\n",
       "    .dataframe tbody tr th:only-of-type {\n",
       "        vertical-align: middle;\n",
       "    }\n",
       "\n",
       "    .dataframe tbody tr th {\n",
       "        vertical-align: top;\n",
       "    }\n",
       "\n",
       "    .dataframe thead th {\n",
       "        text-align: right;\n",
       "    }\n",
       "</style>\n",
       "<table border=\"1\" class=\"dataframe\">\n",
       "  <thead>\n",
       "    <tr style=\"text-align: right;\">\n",
       "      <th></th>\n",
       "      <th>product_category</th>\n",
       "      <th>sales</th>\n",
       "      <th>price</th>\n",
       "      <th>pet_type</th>\n",
       "      <th>rating</th>\n",
       "      <th>re_buy</th>\n",
       "    </tr>\n",
       "    <tr>\n",
       "      <th>product_id</th>\n",
       "      <th></th>\n",
       "      <th></th>\n",
       "      <th></th>\n",
       "      <th></th>\n",
       "      <th></th>\n",
       "      <th></th>\n",
       "    </tr>\n",
       "  </thead>\n",
       "  <tbody>\n",
       "    <tr>\n",
       "      <th>5040</th>\n",
       "      <td>3</td>\n",
       "      <td>123</td>\n",
       "      <td>7293</td>\n",
       "      <td>3</td>\n",
       "      <td>7</td>\n",
       "      <td>1</td>\n",
       "    </tr>\n",
       "    <tr>\n",
       "      <th>4567</th>\n",
       "      <td>10</td>\n",
       "      <td>61</td>\n",
       "      <td>9304</td>\n",
       "      <td>1</td>\n",
       "      <td>10</td>\n",
       "      <td>0</td>\n",
       "    </tr>\n",
       "    <tr>\n",
       "      <th>4237</th>\n",
       "      <td>10</td>\n",
       "      <td>218</td>\n",
       "      <td>8180</td>\n",
       "      <td>4</td>\n",
       "      <td>6</td>\n",
       "      <td>0</td>\n",
       "    </tr>\n",
       "    <tr>\n",
       "      <th>4364</th>\n",
       "      <td>8</td>\n",
       "      <td>69</td>\n",
       "      <td>18559</td>\n",
       "      <td>2</td>\n",
       "      <td>1</td>\n",
       "      <td>1</td>\n",
       "    </tr>\n",
       "    <tr>\n",
       "      <th>4184</th>\n",
       "      <td>9</td>\n",
       "      <td>138</td>\n",
       "      <td>10283</td>\n",
       "      <td>2</td>\n",
       "      <td>10</td>\n",
       "      <td>0</td>\n",
       "    </tr>\n",
       "    <tr>\n",
       "      <th>4609</th>\n",
       "      <td>1</td>\n",
       "      <td>183</td>\n",
       "      <td>3969</td>\n",
       "      <td>1</td>\n",
       "      <td>10</td>\n",
       "      <td>0</td>\n",
       "    </tr>\n",
       "    <tr>\n",
       "      <th>4380</th>\n",
       "      <td>10</td>\n",
       "      <td>79</td>\n",
       "      <td>13519</td>\n",
       "      <td>2</td>\n",
       "      <td>8</td>\n",
       "      <td>0</td>\n",
       "    </tr>\n",
       "    <tr>\n",
       "      <th>4389</th>\n",
       "      <td>1</td>\n",
       "      <td>205</td>\n",
       "      <td>13078</td>\n",
       "      <td>1</td>\n",
       "      <td>9</td>\n",
       "      <td>0</td>\n",
       "    </tr>\n",
       "    <tr>\n",
       "      <th>4697</th>\n",
       "      <td>9</td>\n",
       "      <td>116</td>\n",
       "      <td>13701</td>\n",
       "      <td>1</td>\n",
       "      <td>10</td>\n",
       "      <td>0</td>\n",
       "    </tr>\n",
       "    <tr>\n",
       "      <th>4238</th>\n",
       "      <td>7</td>\n",
       "      <td>141</td>\n",
       "      <td>19082</td>\n",
       "      <td>2</td>\n",
       "      <td>10</td>\n",
       "      <td>1</td>\n",
       "    </tr>\n",
       "  </tbody>\n",
       "</table>\n",
       "</div>"
      ],
      "text/plain": [
       "           product_category  sales  price  pet_type  rating  re_buy\n",
       "product_id                                                         \n",
       "5040                      3    123   7293         3       7       1\n",
       "4567                     10     61   9304         1      10       0\n",
       "4237                     10    218   8180         4       6       0\n",
       "4364                      8     69  18559         2       1       1\n",
       "4184                      9    138  10283         2      10       0\n",
       "4609                      1    183   3969         1      10       0\n",
       "4380                     10     79  13519         2       8       0\n",
       "4389                      1    205  13078         1       9       0\n",
       "4697                      9    116  13701         1      10       0\n",
       "4238                      7    141  19082         2      10       1"
      ]
     },
     "execution_count": 11,
     "metadata": {},
     "output_type": "execute_result"
    }
   ],
   "source": [
    "for i in range(len(datasheet.index)): datasheet['product_category'].iloc[i] = product_category_onehot[i]\n",
    "datasheet.head(10)"
   ]
  },
  {
   "cell_type": "markdown",
   "metadata": {},
   "source": [
    "# Train, Test(Validation) Split"
   ]
  },
  {
   "cell_type": "code",
   "execution_count": 12,
   "metadata": {},
   "outputs": [],
   "source": [
    "target = \"product_category\""
   ]
  },
  {
   "cell_type": "code",
   "execution_count": 13,
   "metadata": {},
   "outputs": [
    {
     "name": "stdout",
     "output_type": "stream",
     "text": [
      "X_data shape: (879, 5)\n",
      "y_data shape: (879, 11)\n"
     ]
    }
   ],
   "source": [
    "y_data = datasheet[target].to_numpy().astype(np.float32)\n",
    "y_data = onehot_encoder.fit_transform(y_data.reshape(-1, 1)).toarray().astype(np.float32)\n",
    "X_data = datasheet.drop([target], axis=1).to_numpy().astype(np.float32)\n",
    "\n",
    "print(f\"\"\"X_data shape: {X_data.shape}\n",
    "y_data shape: {y_data.shape}\"\"\")"
   ]
  },
  {
   "cell_type": "code",
   "execution_count": 14,
   "metadata": {},
   "outputs": [
    {
     "name": "stdout",
     "output_type": "stream",
     "text": [
      "X_train: (703, 5)\n",
      "y_train: (703, 11)\n",
      "X_test: (176, 5)\n",
      "y_test: (176, 11)\n"
     ]
    }
   ],
   "source": [
    "X_train, X_test, y_train, y_test = train_test_split(X_data, y_data, test_size=0.2, random_state=42, shuffle=True)\n",
    "print(f\"\"\"X_train: {X_train.shape}\n",
    "y_train: {y_train.shape}\n",
    "X_test: {X_test.shape}\n",
    "y_test: {y_test.shape}\"\"\")"
   ]
  },
  {
   "cell_type": "markdown",
   "metadata": {},
   "source": [
    "# Datasets & DataLoader"
   ]
  },
  {
   "cell_type": "code",
   "execution_count": 15,
   "metadata": {},
   "outputs": [],
   "source": [
    "BATCH_SIZE = 16"
   ]
  },
  {
   "cell_type": "code",
   "execution_count": 16,
   "metadata": {},
   "outputs": [],
   "source": [
    "class CustomDataset(Dataset):\n",
    "    def __init__(self, X_data, y_data):\n",
    "        self.X_data = X_data\n",
    "        self.y_data = y_data\n",
    "\n",
    "    def __getitem__(self, index):\n",
    "        X = self.X_data[index].astype(np.float32)\n",
    "        y = self.y_data[index].astype(np.float32)\n",
    "        return X, y\n",
    "\n",
    "    def __len__(self):\n",
    "        return len(self.X_data)"
   ]
  },
  {
   "cell_type": "code",
   "execution_count": 17,
   "metadata": {},
   "outputs": [],
   "source": [
    "train_dataset = CustomDataset(X_train, y_train)\n",
    "train_dataloader = DataLoader(train_dataset, batch_size=BATCH_SIZE, shuffle=True)\n",
    "\n",
    "test_dataset = CustomDataset(X_test, y_test)\n",
    "test_dataloader = DataLoader(test_dataset, batch_size=BATCH_SIZE, shuffle=True)"
   ]
  },
  {
   "cell_type": "markdown",
   "metadata": {},
   "source": [
    "# Model"
   ]
  },
  {
   "cell_type": "code",
   "execution_count": 18,
   "metadata": {},
   "outputs": [],
   "source": [
    "device = torch.device('mps')"
   ]
  },
  {
   "cell_type": "code",
   "execution_count": 19,
   "metadata": {},
   "outputs": [],
   "source": [
    "class Model(nn.Module):\n",
    "    def __init__(self, input_dim, output_dim):\n",
    "        super(Model, self).__init__()\n",
    "        self.input_dim = input_dim\n",
    "        self.output_dim = output_dim\n",
    "\n",
    "        self.in_fc = nn.Linear(5, 64)\n",
    "\n",
    "        self.hidden_1 = nn.Linear(64, 128)\n",
    "        self.hidden_2 = nn.Linear(128, 64)\n",
    "\n",
    "        self.out_fc = nn.Linear(64, output_dim)\n",
    "        self.softmax = nn.Softmax(dim=1)\n",
    "\n",
    "    def forward(self, x):\n",
    "        x = self.in_fc(x)\n",
    "        x = F.relu(x)\n",
    "\n",
    "        x = self.hidden_1(x)\n",
    "        x = F.relu(x)\n",
    "\n",
    "        x = self.hidden_2(x)\n",
    "        x = F.relu(x)\n",
    "\n",
    "        x = self.out_fc(x)\n",
    "        x = self.softmax(x)\n",
    "\n",
    "        return x\n",
    "    \n",
    "model = Model(5, 11).to(device)"
   ]
  },
  {
   "cell_type": "code",
   "execution_count": 20,
   "metadata": {},
   "outputs": [],
   "source": [
    "optimizer = optim.Adam(model.parameters(), lr=0.1)\n",
    "scheduler = optim.lr_scheduler.LambdaLR(optimizer, lr_lambda=lambda epoch: 0.95 ** epoch, last_epoch=-1, verbose=False)\n",
    "criterion = nn.CrossEntropyLoss()"
   ]
  },
  {
   "cell_type": "markdown",
   "metadata": {},
   "source": [
    "# Model Train & Validation"
   ]
  },
  {
   "cell_type": "code",
   "execution_count": 21,
   "metadata": {},
   "outputs": [],
   "source": [
    "EPOCHS = 500"
   ]
  },
  {
   "cell_type": "code",
   "execution_count": 22,
   "metadata": {},
   "outputs": [
    {
     "data": {
      "application/vnd.jupyter.widget-view+json": {
       "model_id": "0379aed1c1f442dcaf84526ab14a1e7f",
       "version_major": 2,
       "version_minor": 0
      },
      "text/plain": [
       "Train Epoch 1/500, Train Loss: 0.0:   0%|          | 0/44 [00:00<?, ?it/s]"
      ]
     },
     "metadata": {},
     "output_type": "display_data"
    },
    {
     "data": {
      "application/vnd.jupyter.widget-view+json": {
       "model_id": "5a85c9abee97451094cb7961939c14a8",
       "version_major": 2,
       "version_minor": 0
      },
      "text/plain": [
       "Test Epoch 1/500, Test Loss: 9.575361815365879:   0%|          | 0/11 [00:00<?, ?it/s]"
      ]
     },
     "metadata": {},
     "output_type": "display_data"
    },
    {
     "data": {
      "application/vnd.jupyter.widget-view+json": {
       "model_id": "55fecde254234724911d3cef3a0c2aa2",
       "version_major": 2,
       "version_minor": 0
      },
      "text/plain": [
       "Train Epoch 2/500, Train Loss: 0.0:   0%|          | 0/44 [00:00<?, ?it/s]"
      ]
     },
     "metadata": {},
     "output_type": "display_data"
    },
    {
     "data": {
      "application/vnd.jupyter.widget-view+json": {
       "model_id": "0fd04018f511486a86fbfbc12ec111de",
       "version_major": 2,
       "version_minor": 0
      },
      "text/plain": [
       "Test Epoch 2/500, Test Loss: 9.574055064808238:   0%|          | 0/11 [00:00<?, ?it/s]"
      ]
     },
     "metadata": {},
     "output_type": "display_data"
    },
    {
     "data": {
      "application/vnd.jupyter.widget-view+json": {
       "model_id": "c41eb9c5697845cc89ee58937bf1bf08",
       "version_major": 2,
       "version_minor": 0
      },
      "text/plain": [
       "Train Epoch 3/500, Train Loss: 0.0:   0%|          | 0/44 [00:00<?, ?it/s]"
      ]
     },
     "metadata": {},
     "output_type": "display_data"
    },
    {
     "data": {
      "application/vnd.jupyter.widget-view+json": {
       "model_id": "500968d10f2e44e5ac932664ec249daa",
       "version_major": 2,
       "version_minor": 0
      },
      "text/plain": [
       "Test Epoch 3/500, Test Loss: 9.575191389430653:   0%|          | 0/11 [00:00<?, ?it/s]"
      ]
     },
     "metadata": {},
     "output_type": "display_data"
    },
    {
     "data": {
      "application/vnd.jupyter.widget-view+json": {
       "model_id": "6b666ecc8d4b40b989c80a0e645745cc",
       "version_major": 2,
       "version_minor": 0
      },
      "text/plain": [
       "Train Epoch 4/500, Train Loss: 0.0:   0%|          | 0/44 [00:00<?, ?it/s]"
      ]
     },
     "metadata": {},
     "output_type": "display_data"
    },
    {
     "data": {
      "application/vnd.jupyter.widget-view+json": {
       "model_id": "f2194c5bae2c4afa94cade8e185c1183",
       "version_major": 2,
       "version_minor": 0
      },
      "text/plain": [
       "Test Epoch 4/500, Test Loss: 9.57481260733171:   0%|          | 0/11 [00:00<?, ?it/s]"
      ]
     },
     "metadata": {},
     "output_type": "display_data"
    },
    {
     "data": {
      "application/vnd.jupyter.widget-view+json": {
       "model_id": "72eb392d8fee4e2fa04f1cc1aa3ed179",
       "version_major": 2,
       "version_minor": 0
      },
      "text/plain": [
       "Train Epoch 5/500, Train Loss: 0.0:   0%|          | 0/44 [00:00<?, ?it/s]"
      ]
     },
     "metadata": {},
     "output_type": "display_data"
    },
    {
     "data": {
      "application/vnd.jupyter.widget-view+json": {
       "model_id": "ab4b40b5ad984020a8aa08d5d6ccd58f",
       "version_major": 2,
       "version_minor": 0
      },
      "text/plain": [
       "Test Epoch 5/500, Test Loss: 9.574055064808238:   0%|          | 0/11 [00:00<?, ?it/s]"
      ]
     },
     "metadata": {},
     "output_type": "display_data"
    },
    {
     "data": {
      "application/vnd.jupyter.widget-view+json": {
       "model_id": "2c25b87ddb5c49e3bd8cbccd9ed01e7e",
       "version_major": 2,
       "version_minor": 0
      },
      "text/plain": [
       "Train Epoch 6/500, Train Loss: 0.0:   0%|          | 0/44 [00:00<?, ?it/s]"
      ]
     },
     "metadata": {},
     "output_type": "display_data"
    },
    {
     "data": {
      "application/vnd.jupyter.widget-view+json": {
       "model_id": "a509b58fc6694080951f51ac96482801",
       "version_major": 2,
       "version_minor": 0
      },
      "text/plain": [
       "Test Epoch 6/500, Test Loss: 9.57481260733171:   0%|          | 0/11 [00:00<?, ?it/s]"
      ]
     },
     "metadata": {},
     "output_type": "display_data"
    },
    {
     "data": {
      "application/vnd.jupyter.widget-view+json": {
       "model_id": "2b0e33f8229544a9a0572d92dd06f8f2",
       "version_major": 2,
       "version_minor": 0
      },
      "text/plain": [
       "Train Epoch 7/500, Train Loss: 0.0:   0%|          | 0/44 [00:00<?, ?it/s]"
      ]
     },
     "metadata": {},
     "output_type": "display_data"
    },
    {
     "data": {
      "application/vnd.jupyter.widget-view+json": {
       "model_id": "4e69b998943d4ce7bc040f7b87afbf1b",
       "version_major": 2,
       "version_minor": 0
      },
      "text/plain": [
       "Test Epoch 7/500, Test Loss: 9.575570193204014:   0%|          | 0/11 [00:00<?, ?it/s]"
      ]
     },
     "metadata": {},
     "output_type": "display_data"
    },
    {
     "data": {
      "application/vnd.jupyter.widget-view+json": {
       "model_id": "f6dd4cc6d91e4793bc3936a9211e3816",
       "version_major": 2,
       "version_minor": 0
      },
      "text/plain": [
       "Train Epoch 8/500, Train Loss: 0.0:   0%|          | 0/44 [00:00<?, ?it/s]"
      ]
     },
     "metadata": {},
     "output_type": "display_data"
    },
    {
     "data": {
      "application/vnd.jupyter.widget-view+json": {
       "model_id": "ea98835082734a119d630a282ed971ad",
       "version_major": 2,
       "version_minor": 0
      },
      "text/plain": [
       "Test Epoch 8/500, Test Loss: 9.574055064808238:   0%|          | 0/11 [00:00<?, ?it/s]"
      ]
     },
     "metadata": {},
     "output_type": "display_data"
    },
    {
     "data": {
      "application/vnd.jupyter.widget-view+json": {
       "model_id": "8a96d39f7f454a6cb0363a9ea454803d",
       "version_major": 2,
       "version_minor": 0
      },
      "text/plain": [
       "Train Epoch 9/500, Train Loss: 0.0:   0%|          | 0/44 [00:00<?, ?it/s]"
      ]
     },
     "metadata": {},
     "output_type": "display_data"
    },
    {
     "data": {
      "application/vnd.jupyter.widget-view+json": {
       "model_id": "0793a2b6c06c487b89b5d88cc2a43bdb",
       "version_major": 2,
       "version_minor": 0
      },
      "text/plain": [
       "Test Epoch 9/500, Test Loss: 9.575191389430653:   0%|          | 0/11 [00:00<?, ?it/s]"
      ]
     },
     "metadata": {},
     "output_type": "display_data"
    },
    {
     "data": {
      "application/vnd.jupyter.widget-view+json": {
       "model_id": "f6ae2f8a6dff47ac8099cc966cdf2a56",
       "version_major": 2,
       "version_minor": 0
      },
      "text/plain": [
       "Train Epoch 10/500, Train Loss: 0.0:   0%|          | 0/44 [00:00<?, ?it/s]"
      ]
     },
     "metadata": {},
     "output_type": "display_data"
    },
    {
     "data": {
      "application/vnd.jupyter.widget-view+json": {
       "model_id": "36bdf830ac0f4d2192880a6cf10eee2a",
       "version_major": 2,
       "version_minor": 0
      },
      "text/plain": [
       "Test Epoch 10/500, Test Loss: 9.57481260733171:   0%|          | 0/11 [00:00<?, ?it/s]"
      ]
     },
     "metadata": {},
     "output_type": "display_data"
    },
    {
     "data": {
      "application/vnd.jupyter.widget-view+json": {
       "model_id": "87b2d282e4764a7fa4e99bba4dcf0270",
       "version_major": 2,
       "version_minor": 0
      },
      "text/plain": [
       "Train Epoch 11/500, Train Loss: 0.0:   0%|          | 0/44 [00:00<?, ?it/s]"
      ]
     },
     "metadata": {},
     "output_type": "display_data"
    },
    {
     "data": {
      "application/vnd.jupyter.widget-view+json": {
       "model_id": "13ae04da2b684ff5ace2fb9db36eecb2",
       "version_major": 2,
       "version_minor": 0
      },
      "text/plain": [
       "Test Epoch 11/500, Test Loss: 9.574433825232767:   0%|          | 0/11 [00:00<?, ?it/s]"
      ]
     },
     "metadata": {},
     "output_type": "display_data"
    },
    {
     "data": {
      "application/vnd.jupyter.widget-view+json": {
       "model_id": "83b372b942724775beedfd4d5fcb3c21",
       "version_major": 2,
       "version_minor": 0
      },
      "text/plain": [
       "Train Epoch 12/500, Train Loss: 0.0:   0%|          | 0/44 [00:00<?, ?it/s]"
      ]
     },
     "metadata": {},
     "output_type": "display_data"
    },
    {
     "data": {
      "application/vnd.jupyter.widget-view+json": {
       "model_id": "3ff897de026f43fb98cd5fc640658b21",
       "version_major": 2,
       "version_minor": 0
      },
      "text/plain": [
       "Test Epoch 12/500, Test Loss: 9.574433846907182:   0%|          | 0/11 [00:00<?, ?it/s]"
      ]
     },
     "metadata": {},
     "output_type": "display_data"
    },
    {
     "data": {
      "application/vnd.jupyter.widget-view+json": {
       "model_id": "0d892010e77f476e9daa28ff128e3cbe",
       "version_major": 2,
       "version_minor": 0
      },
      "text/plain": [
       "Train Epoch 13/500, Train Loss: 0.0:   0%|          | 0/44 [00:00<?, ?it/s]"
      ]
     },
     "metadata": {},
     "output_type": "display_data"
    },
    {
     "data": {
      "application/vnd.jupyter.widget-view+json": {
       "model_id": "75d9a8e0483442cfa48a082b237da682",
       "version_major": 2,
       "version_minor": 0
      },
      "text/plain": [
       "Test Epoch 13/500, Test Loss: 9.574055043133823:   0%|          | 0/11 [00:00<?, ?it/s]"
      ]
     },
     "metadata": {},
     "output_type": "display_data"
    },
    {
     "data": {
      "application/vnd.jupyter.widget-view+json": {
       "model_id": "3f3502645d4c4eac8dd1d3519bbc841a",
       "version_major": 2,
       "version_minor": 0
      },
      "text/plain": [
       "Train Epoch 14/500, Train Loss: 0.0:   0%|          | 0/44 [00:00<?, ?it/s]"
      ]
     },
     "metadata": {},
     "output_type": "display_data"
    },
    {
     "data": {
      "application/vnd.jupyter.widget-view+json": {
       "model_id": "769f55d48792467f97fcd74c71e62129",
       "version_major": 2,
       "version_minor": 0
      },
      "text/plain": [
       "Test Epoch 14/500, Test Loss: 9.575191389430653:   0%|          | 0/11 [00:00<?, ?it/s]"
      ]
     },
     "metadata": {},
     "output_type": "display_data"
    },
    {
     "data": {
      "application/vnd.jupyter.widget-view+json": {
       "model_id": "0c4b36a3d7b54fada54caf805d7111b2",
       "version_major": 2,
       "version_minor": 0
      },
      "text/plain": [
       "Train Epoch 15/500, Train Loss: 0.0:   0%|          | 0/44 [00:00<?, ?it/s]"
      ]
     },
     "metadata": {},
     "output_type": "display_data"
    },
    {
     "data": {
      "application/vnd.jupyter.widget-view+json": {
       "model_id": "c933f2ef2f37462f9a779d71367b877a",
       "version_major": 2,
       "version_minor": 0
      },
      "text/plain": [
       "Test Epoch 15/500, Test Loss: 9.574812629006125:   0%|          | 0/11 [00:00<?, ?it/s]"
      ]
     },
     "metadata": {},
     "output_type": "display_data"
    },
    {
     "data": {
      "application/vnd.jupyter.widget-view+json": {
       "model_id": "63765856de5c4af599d6b7fb2ad96c3c",
       "version_major": 2,
       "version_minor": 0
      },
      "text/plain": [
       "Train Epoch 16/500, Train Loss: 0.0:   0%|          | 0/44 [00:00<?, ?it/s]"
      ]
     },
     "metadata": {},
     "output_type": "display_data"
    },
    {
     "data": {
      "application/vnd.jupyter.widget-view+json": {
       "model_id": "5ce5dba7a5c543478361ec2c10dab389",
       "version_major": 2,
       "version_minor": 0
      },
      "text/plain": [
       "Test Epoch 16/500, Test Loss: 9.57481260733171:   0%|          | 0/11 [00:00<?, ?it/s]"
      ]
     },
     "metadata": {},
     "output_type": "display_data"
    },
    {
     "data": {
      "application/vnd.jupyter.widget-view+json": {
       "model_id": "a54a28ad2f7f4f9da10cf31cad329d13",
       "version_major": 2,
       "version_minor": 0
      },
      "text/plain": [
       "Train Epoch 17/500, Train Loss: 0.0:   0%|          | 0/44 [00:00<?, ?it/s]"
      ]
     },
     "metadata": {},
     "output_type": "display_data"
    },
    {
     "data": {
      "application/vnd.jupyter.widget-view+json": {
       "model_id": "d5f3c783c058417e82ec33609e9b4612",
       "version_major": 2,
       "version_minor": 0
      },
      "text/plain": [
       "Test Epoch 17/500, Test Loss: 9.575191389430653:   0%|          | 0/11 [00:00<?, ?it/s]"
      ]
     },
     "metadata": {},
     "output_type": "display_data"
    },
    {
     "data": {
      "application/vnd.jupyter.widget-view+json": {
       "model_id": "8f5af4a4605c41ab9b3d6ce96daf408c",
       "version_major": 2,
       "version_minor": 0
      },
      "text/plain": [
       "Train Epoch 18/500, Train Loss: 0.0:   0%|          | 0/44 [00:00<?, ?it/s]"
      ]
     },
     "metadata": {},
     "output_type": "display_data"
    },
    {
     "data": {
      "application/vnd.jupyter.widget-view+json": {
       "model_id": "3991633c2c1942c3b2cde11999dc3c27",
       "version_major": 2,
       "version_minor": 0
      },
      "text/plain": [
       "Test Epoch 18/500, Test Loss: 9.574812585657293:   0%|          | 0/11 [00:00<?, ?it/s]"
      ]
     },
     "metadata": {},
     "output_type": "display_data"
    },
    {
     "data": {
      "application/vnd.jupyter.widget-view+json": {
       "model_id": "301d6fc0155a49ebb2ee39768243174a",
       "version_major": 2,
       "version_minor": 0
      },
      "text/plain": [
       "Train Epoch 19/500, Train Loss: 0.0:   0%|          | 0/44 [00:00<?, ?it/s]"
      ]
     },
     "metadata": {},
     "output_type": "display_data"
    },
    {
     "data": {
      "application/vnd.jupyter.widget-view+json": {
       "model_id": "406b75d6920d40d9921de67381b8986b",
       "version_major": 2,
       "version_minor": 0
      },
      "text/plain": [
       "Test Epoch 19/500, Test Loss: 9.575191389430653:   0%|          | 0/11 [00:00<?, ?it/s]"
      ]
     },
     "metadata": {},
     "output_type": "display_data"
    },
    {
     "data": {
      "application/vnd.jupyter.widget-view+json": {
       "model_id": "4c389d06e21b44f9a18f1ce3f590667b",
       "version_major": 2,
       "version_minor": 0
      },
      "text/plain": [
       "Train Epoch 20/500, Train Loss: 0.0:   0%|          | 0/44 [00:00<?, ?it/s]"
      ]
     },
     "metadata": {},
     "output_type": "display_data"
    },
    {
     "data": {
      "application/vnd.jupyter.widget-view+json": {
       "model_id": "34708a0795b64f0b8a0ad5561e92a8ab",
       "version_major": 2,
       "version_minor": 0
      },
      "text/plain": [
       "Test Epoch 20/500, Test Loss: 9.575191389430653:   0%|          | 0/11 [00:00<?, ?it/s]"
      ]
     },
     "metadata": {},
     "output_type": "display_data"
    },
    {
     "data": {
      "application/vnd.jupyter.widget-view+json": {
       "model_id": "8eb51dc2d0134c759c96668a3a8c2255",
       "version_major": 2,
       "version_minor": 0
      },
      "text/plain": [
       "Train Epoch 21/500, Train Loss: 0.0:   0%|          | 0/44 [00:00<?, ?it/s]"
      ]
     },
     "metadata": {},
     "output_type": "display_data"
    },
    {
     "data": {
      "application/vnd.jupyter.widget-view+json": {
       "model_id": "00fcbf6251ab43e49893fe55d7c5bd19",
       "version_major": 2,
       "version_minor": 0
      },
      "text/plain": [
       "Test Epoch 21/500, Test Loss: 9.574433846907182:   0%|          | 0/11 [00:00<?, ?it/s]"
      ]
     },
     "metadata": {},
     "output_type": "display_data"
    },
    {
     "data": {
      "application/vnd.jupyter.widget-view+json": {
       "model_id": "26b5f1e9c11b41e1bf619aedb25cabfd",
       "version_major": 2,
       "version_minor": 0
      },
      "text/plain": [
       "Train Epoch 22/500, Train Loss: 0.0:   0%|          | 0/44 [00:00<?, ?it/s]"
      ]
     },
     "metadata": {},
     "output_type": "display_data"
    },
    {
     "data": {
      "application/vnd.jupyter.widget-view+json": {
       "model_id": "71c9af1bcadc421883f465377cc30122",
       "version_major": 2,
       "version_minor": 0
      },
      "text/plain": [
       "Test Epoch 22/500, Test Loss: 9.574433846907182:   0%|          | 0/11 [00:00<?, ?it/s]"
      ]
     },
     "metadata": {},
     "output_type": "display_data"
    },
    {
     "data": {
      "application/vnd.jupyter.widget-view+json": {
       "model_id": "9e2ec24495784c548b0a7ff82e6267eb",
       "version_major": 2,
       "version_minor": 0
      },
      "text/plain": [
       "Train Epoch 23/500, Train Loss: 0.0:   0%|          | 0/44 [00:00<?, ?it/s]"
      ]
     },
     "metadata": {},
     "output_type": "display_data"
    },
    {
     "data": {
      "application/vnd.jupyter.widget-view+json": {
       "model_id": "0e8261c0f8df48eda894cbb1efd2d134",
       "version_major": 2,
       "version_minor": 0
      },
      "text/plain": [
       "Test Epoch 23/500, Test Loss: 9.574433846907182:   0%|          | 0/11 [00:00<?, ?it/s]"
      ]
     },
     "metadata": {},
     "output_type": "display_data"
    },
    {
     "data": {
      "application/vnd.jupyter.widget-view+json": {
       "model_id": "66c0259bc76c48d38d86158084c5038f",
       "version_major": 2,
       "version_minor": 0
      },
      "text/plain": [
       "Train Epoch 24/500, Train Loss: 0.0:   0%|          | 0/44 [00:00<?, ?it/s]"
      ]
     },
     "metadata": {},
     "output_type": "display_data"
    },
    {
     "data": {
      "application/vnd.jupyter.widget-view+json": {
       "model_id": "392444bc51eb4a2a8c68c69690abf273",
       "version_major": 2,
       "version_minor": 0
      },
      "text/plain": [
       "Test Epoch 24/500, Test Loss: 9.575191389430653:   0%|          | 0/11 [00:00<?, ?it/s]"
      ]
     },
     "metadata": {},
     "output_type": "display_data"
    },
    {
     "data": {
      "application/vnd.jupyter.widget-view+json": {
       "model_id": "318c7025b1e943e8ab11a60acd1cfe81",
       "version_major": 2,
       "version_minor": 0
      },
      "text/plain": [
       "Train Epoch 25/500, Train Loss: 0.0:   0%|          | 0/44 [00:00<?, ?it/s]"
      ]
     },
     "metadata": {},
     "output_type": "display_data"
    },
    {
     "data": {
      "application/vnd.jupyter.widget-view+json": {
       "model_id": "c6544dabbf6741fa83a8a62b7c41fec9",
       "version_major": 2,
       "version_minor": 0
      },
      "text/plain": [
       "Test Epoch 25/500, Test Loss: 9.575191411105068:   0%|          | 0/11 [00:00<?, ?it/s]"
      ]
     },
     "metadata": {},
     "output_type": "display_data"
    },
    {
     "data": {
      "application/vnd.jupyter.widget-view+json": {
       "model_id": "9ccb7c0a5a5949b5931cb803548f3468",
       "version_major": 2,
       "version_minor": 0
      },
      "text/plain": [
       "Train Epoch 26/500, Train Loss: 0.0:   0%|          | 0/44 [00:00<?, ?it/s]"
      ]
     },
     "metadata": {},
     "output_type": "display_data"
    },
    {
     "data": {
      "application/vnd.jupyter.widget-view+json": {
       "model_id": "bd3ebb8632b74e10abf6036590c1307e",
       "version_major": 2,
       "version_minor": 0
      },
      "text/plain": [
       "Test Epoch 26/500, Test Loss: 9.57481260733171:   0%|          | 0/11 [00:00<?, ?it/s]"
      ]
     },
     "metadata": {},
     "output_type": "display_data"
    },
    {
     "data": {
      "application/vnd.jupyter.widget-view+json": {
       "model_id": "631f24286e354400a95a5fb9c76275b2",
       "version_major": 2,
       "version_minor": 0
      },
      "text/plain": [
       "Train Epoch 27/500, Train Loss: 0.0:   0%|          | 0/44 [00:00<?, ?it/s]"
      ]
     },
     "metadata": {},
     "output_type": "display_data"
    },
    {
     "data": {
      "application/vnd.jupyter.widget-view+json": {
       "model_id": "d8af3770b69640e1bc044ee9fa257f47",
       "version_major": 2,
       "version_minor": 0
      },
      "text/plain": [
       "Test Epoch 27/500, Test Loss: 9.573676261034878:   0%|          | 0/11 [00:00<?, ?it/s]"
      ]
     },
     "metadata": {},
     "output_type": "display_data"
    },
    {
     "data": {
      "application/vnd.jupyter.widget-view+json": {
       "model_id": "841a679366f044e4bdf1a4c564b8768d",
       "version_major": 2,
       "version_minor": 0
      },
      "text/plain": [
       "Train Epoch 28/500, Train Loss: 0.0:   0%|          | 0/44 [00:00<?, ?it/s]"
      ]
     },
     "metadata": {},
     "output_type": "display_data"
    },
    {
     "data": {
      "application/vnd.jupyter.widget-view+json": {
       "model_id": "53eaf120e61246cca60dd330e525261f",
       "version_major": 2,
       "version_minor": 0
      },
      "text/plain": [
       "Test Epoch 28/500, Test Loss: 9.574433846907182:   0%|          | 0/11 [00:00<?, ?it/s]"
      ]
     },
     "metadata": {},
     "output_type": "display_data"
    },
    {
     "data": {
      "application/vnd.jupyter.widget-view+json": {
       "model_id": "6a22df78500d4648b7cde77e4d5297d6",
       "version_major": 2,
       "version_minor": 0
      },
      "text/plain": [
       "Train Epoch 29/500, Train Loss: 0.0:   0%|          | 0/44 [00:00<?, ?it/s]"
      ]
     },
     "metadata": {},
     "output_type": "display_data"
    },
    {
     "data": {
      "application/vnd.jupyter.widget-view+json": {
       "model_id": "4e124623eaa2481cbdcfc6bd68c83800",
       "version_major": 2,
       "version_minor": 0
      },
      "text/plain": [
       "Test Epoch 29/500, Test Loss: 9.574433846907182:   0%|          | 0/11 [00:00<?, ?it/s]"
      ]
     },
     "metadata": {},
     "output_type": "display_data"
    },
    {
     "data": {
      "application/vnd.jupyter.widget-view+json": {
       "model_id": "8651fffc10094bc3b4a23f7230012279",
       "version_major": 2,
       "version_minor": 0
      },
      "text/plain": [
       "Train Epoch 30/500, Train Loss: 0.0:   0%|          | 0/44 [00:00<?, ?it/s]"
      ]
     },
     "metadata": {},
     "output_type": "display_data"
    },
    {
     "data": {
      "application/vnd.jupyter.widget-view+json": {
       "model_id": "813f2519480e4729b137ac74d6028187",
       "version_major": 2,
       "version_minor": 0
      },
      "text/plain": [
       "Test Epoch 30/500, Test Loss: 9.575191389430653:   0%|          | 0/11 [00:00<?, ?it/s]"
      ]
     },
     "metadata": {},
     "output_type": "display_data"
    },
    {
     "data": {
      "application/vnd.jupyter.widget-view+json": {
       "model_id": "1d8154c1fa804f0e93655556f4f4fc13",
       "version_major": 2,
       "version_minor": 0
      },
      "text/plain": [
       "Train Epoch 31/500, Train Loss: 0.0:   0%|          | 0/44 [00:00<?, ?it/s]"
      ]
     },
     "metadata": {},
     "output_type": "display_data"
    },
    {
     "data": {
      "application/vnd.jupyter.widget-view+json": {
       "model_id": "516743bc59a940f8af6625eb2288c7f9",
       "version_major": 2,
       "version_minor": 0
      },
      "text/plain": [
       "Test Epoch 31/500, Test Loss: 9.57481260733171:   0%|          | 0/11 [00:00<?, ?it/s]"
      ]
     },
     "metadata": {},
     "output_type": "display_data"
    },
    {
     "data": {
      "application/vnd.jupyter.widget-view+json": {
       "model_id": "f7c4f2eb6e884c2f8a25e5dc9535fd36",
       "version_major": 2,
       "version_minor": 0
      },
      "text/plain": [
       "Train Epoch 32/500, Train Loss: 0.0:   0%|          | 0/44 [00:00<?, ?it/s]"
      ]
     },
     "metadata": {},
     "output_type": "display_data"
    },
    {
     "data": {
      "application/vnd.jupyter.widget-view+json": {
       "model_id": "4291d32277214e3e92061e541e7ba398",
       "version_major": 2,
       "version_minor": 0
      },
      "text/plain": [
       "Test Epoch 32/500, Test Loss: 9.574433846907182:   0%|          | 0/11 [00:00<?, ?it/s]"
      ]
     },
     "metadata": {},
     "output_type": "display_data"
    },
    {
     "data": {
      "application/vnd.jupyter.widget-view+json": {
       "model_id": "8cdd7fd037424770b7f41d012b84ed74",
       "version_major": 2,
       "version_minor": 0
      },
      "text/plain": [
       "Train Epoch 33/500, Train Loss: 0.0:   0%|          | 0/44 [00:00<?, ?it/s]"
      ]
     },
     "metadata": {},
     "output_type": "display_data"
    },
    {
     "data": {
      "application/vnd.jupyter.widget-view+json": {
       "model_id": "3998f61633f843b9b8431e345667a1a7",
       "version_major": 2,
       "version_minor": 0
      },
      "text/plain": [
       "Test Epoch 33/500, Test Loss: 9.574812629006125:   0%|          | 0/11 [00:00<?, ?it/s]"
      ]
     },
     "metadata": {},
     "output_type": "display_data"
    },
    {
     "data": {
      "application/vnd.jupyter.widget-view+json": {
       "model_id": "e4c4c888b43841ee92ee71538b001c83",
       "version_major": 2,
       "version_minor": 0
      },
      "text/plain": [
       "Train Epoch 34/500, Train Loss: 0.0:   0%|          | 0/44 [00:00<?, ?it/s]"
      ]
     },
     "metadata": {},
     "output_type": "display_data"
    },
    {
     "data": {
      "application/vnd.jupyter.widget-view+json": {
       "model_id": "2263a2554d8f4a4fa0aa619e9b648e8b",
       "version_major": 2,
       "version_minor": 0
      },
      "text/plain": [
       "Test Epoch 34/500, Test Loss: 9.575570193204014:   0%|          | 0/11 [00:00<?, ?it/s]"
      ]
     },
     "metadata": {},
     "output_type": "display_data"
    },
    {
     "data": {
      "application/vnd.jupyter.widget-view+json": {
       "model_id": "fee57e72ad04432fbd399884a7fe5b41",
       "version_major": 2,
       "version_minor": 0
      },
      "text/plain": [
       "Train Epoch 35/500, Train Loss: 0.0:   0%|          | 0/44 [00:00<?, ?it/s]"
      ]
     },
     "metadata": {},
     "output_type": "display_data"
    },
    {
     "data": {
      "application/vnd.jupyter.widget-view+json": {
       "model_id": "d38d84f516e443ae92af719a154a5fec",
       "version_major": 2,
       "version_minor": 0
      },
      "text/plain": [
       "Test Epoch 35/500, Test Loss: 9.573676239360463:   0%|          | 0/11 [00:00<?, ?it/s]"
      ]
     },
     "metadata": {},
     "output_type": "display_data"
    },
    {
     "data": {
      "application/vnd.jupyter.widget-view+json": {
       "model_id": "34c668adb87f448cad3e093352e230aa",
       "version_major": 2,
       "version_minor": 0
      },
      "text/plain": [
       "Train Epoch 36/500, Train Loss: 0.0:   0%|          | 0/44 [00:00<?, ?it/s]"
      ]
     },
     "metadata": {},
     "output_type": "display_data"
    },
    {
     "data": {
      "application/vnd.jupyter.widget-view+json": {
       "model_id": "45719638e15b4d70838ff995c6e2be9d",
       "version_major": 2,
       "version_minor": 0
      },
      "text/plain": [
       "Test Epoch 36/500, Test Loss: 9.574812629006125:   0%|          | 0/11 [00:00<?, ?it/s]"
      ]
     },
     "metadata": {},
     "output_type": "display_data"
    },
    {
     "data": {
      "application/vnd.jupyter.widget-view+json": {
       "model_id": "a8def254d4954e93bf953ffa5804feb9",
       "version_major": 2,
       "version_minor": 0
      },
      "text/plain": [
       "Train Epoch 37/500, Train Loss: 0.0:   0%|          | 0/44 [00:00<?, ?it/s]"
      ]
     },
     "metadata": {},
     "output_type": "display_data"
    },
    {
     "data": {
      "application/vnd.jupyter.widget-view+json": {
       "model_id": "4fbda8bd9f3a465f93791061682a3fef",
       "version_major": 2,
       "version_minor": 0
      },
      "text/plain": [
       "Test Epoch 37/500, Test Loss: 9.574433825232767:   0%|          | 0/11 [00:00<?, ?it/s]"
      ]
     },
     "metadata": {},
     "output_type": "display_data"
    },
    {
     "data": {
      "application/vnd.jupyter.widget-view+json": {
       "model_id": "188a1b404e844fbf8ace27b590a9bde3",
       "version_major": 2,
       "version_minor": 0
      },
      "text/plain": [
       "Train Epoch 38/500, Train Loss: 0.0:   0%|          | 0/44 [00:00<?, ?it/s]"
      ]
     },
     "metadata": {},
     "output_type": "display_data"
    },
    {
     "data": {
      "application/vnd.jupyter.widget-view+json": {
       "model_id": "0e413d0a764d49c7ae1a48edb39182d8",
       "version_major": 2,
       "version_minor": 0
      },
      "text/plain": [
       "Test Epoch 38/500, Test Loss: 9.574433846907182:   0%|          | 0/11 [00:00<?, ?it/s]"
      ]
     },
     "metadata": {},
     "output_type": "display_data"
    },
    {
     "data": {
      "application/vnd.jupyter.widget-view+json": {
       "model_id": "27ef84e2741b41e8b1c558964f6f4bb8",
       "version_major": 2,
       "version_minor": 0
      },
      "text/plain": [
       "Train Epoch 39/500, Train Loss: 0.0:   0%|          | 0/44 [00:00<?, ?it/s]"
      ]
     },
     "metadata": {},
     "output_type": "display_data"
    },
    {
     "data": {
      "application/vnd.jupyter.widget-view+json": {
       "model_id": "fbbd7df4e74d4d12b60afc873ec0784a",
       "version_major": 2,
       "version_minor": 0
      },
      "text/plain": [
       "Test Epoch 39/500, Test Loss: 9.575570193204014:   0%|          | 0/11 [00:00<?, ?it/s]"
      ]
     },
     "metadata": {},
     "output_type": "display_data"
    },
    {
     "data": {
      "application/vnd.jupyter.widget-view+json": {
       "model_id": "43d29b1f829d46b4931ff9da8eebdde6",
       "version_major": 2,
       "version_minor": 0
      },
      "text/plain": [
       "Train Epoch 40/500, Train Loss: 0.0:   0%|          | 0/44 [00:00<?, ?it/s]"
      ]
     },
     "metadata": {},
     "output_type": "display_data"
    },
    {
     "data": {
      "application/vnd.jupyter.widget-view+json": {
       "model_id": "b2712d889a6d4f1e9e9f53a21fe29600",
       "version_major": 2,
       "version_minor": 0
      },
      "text/plain": [
       "Test Epoch 40/500, Test Loss: 9.573676261034878:   0%|          | 0/11 [00:00<?, ?it/s]"
      ]
     },
     "metadata": {},
     "output_type": "display_data"
    },
    {
     "data": {
      "application/vnd.jupyter.widget-view+json": {
       "model_id": "c245e6ccab6346b3b25335cc9b6606cf",
       "version_major": 2,
       "version_minor": 0
      },
      "text/plain": [
       "Train Epoch 41/500, Train Loss: 0.0:   0%|          | 0/44 [00:00<?, ?it/s]"
      ]
     },
     "metadata": {},
     "output_type": "display_data"
    },
    {
     "data": {
      "application/vnd.jupyter.widget-view+json": {
       "model_id": "63f15960883a450794c5abea0d259280",
       "version_major": 2,
       "version_minor": 0
      },
      "text/plain": [
       "Test Epoch 41/500, Test Loss: 9.574812629006125:   0%|          | 0/11 [00:00<?, ?it/s]"
      ]
     },
     "metadata": {},
     "output_type": "display_data"
    },
    {
     "data": {
      "application/vnd.jupyter.widget-view+json": {
       "model_id": "6c8a2e8f7e6d4d9983bd3bb7da52f661",
       "version_major": 2,
       "version_minor": 0
      },
      "text/plain": [
       "Train Epoch 42/500, Train Loss: 0.0:   0%|          | 0/44 [00:00<?, ?it/s]"
      ]
     },
     "metadata": {},
     "output_type": "display_data"
    },
    {
     "data": {
      "application/vnd.jupyter.widget-view+json": {
       "model_id": "fc30a9cbc5bd4d1883bdbf558d3bf592",
       "version_major": 2,
       "version_minor": 0
      },
      "text/plain": [
       "Test Epoch 42/500, Test Loss: 9.575191389430653:   0%|          | 0/11 [00:00<?, ?it/s]"
      ]
     },
     "metadata": {},
     "output_type": "display_data"
    },
    {
     "data": {
      "application/vnd.jupyter.widget-view+json": {
       "model_id": "ee59037652ee403ba5524d205ff1645a",
       "version_major": 2,
       "version_minor": 0
      },
      "text/plain": [
       "Train Epoch 43/500, Train Loss: 0.0:   0%|          | 0/44 [00:00<?, ?it/s]"
      ]
     },
     "metadata": {},
     "output_type": "display_data"
    },
    {
     "data": {
      "application/vnd.jupyter.widget-view+json": {
       "model_id": "a06ac3f3062c43e18a2d3c2741067387",
       "version_major": 2,
       "version_minor": 0
      },
      "text/plain": [
       "Test Epoch 43/500, Test Loss: 9.574055064808238:   0%|          | 0/11 [00:00<?, ?it/s]"
      ]
     },
     "metadata": {},
     "output_type": "display_data"
    },
    {
     "data": {
      "application/vnd.jupyter.widget-view+json": {
       "model_id": "35da78ca2393419da17512fe2f4dfabf",
       "version_major": 2,
       "version_minor": 0
      },
      "text/plain": [
       "Train Epoch 44/500, Train Loss: 0.0:   0%|          | 0/44 [00:00<?, ?it/s]"
      ]
     },
     "metadata": {},
     "output_type": "display_data"
    },
    {
     "data": {
      "application/vnd.jupyter.widget-view+json": {
       "model_id": "8ddd0423890a478aa0e174c147896a1a",
       "version_major": 2,
       "version_minor": 0
      },
      "text/plain": [
       "Test Epoch 44/500, Test Loss: 9.575570214878429:   0%|          | 0/11 [00:00<?, ?it/s]"
      ]
     },
     "metadata": {},
     "output_type": "display_data"
    },
    {
     "data": {
      "application/vnd.jupyter.widget-view+json": {
       "model_id": "d57e03aa27e74b7ca39f29891094f7bc",
       "version_major": 2,
       "version_minor": 0
      },
      "text/plain": [
       "Train Epoch 45/500, Train Loss: 0.0:   0%|          | 0/44 [00:00<?, ?it/s]"
      ]
     },
     "metadata": {},
     "output_type": "display_data"
    },
    {
     "data": {
      "application/vnd.jupyter.widget-view+json": {
       "model_id": "847b86db80034efd8c949696a96da1a4",
       "version_major": 2,
       "version_minor": 0
      },
      "text/plain": [
       "Test Epoch 45/500, Test Loss: 9.575570193204014:   0%|          | 0/11 [00:00<?, ?it/s]"
      ]
     },
     "metadata": {},
     "output_type": "display_data"
    },
    {
     "data": {
      "application/vnd.jupyter.widget-view+json": {
       "model_id": "e88c66570e854c3d986a0b4dc4e7a4ce",
       "version_major": 2,
       "version_minor": 0
      },
      "text/plain": [
       "Train Epoch 46/500, Train Loss: 0.0:   0%|          | 0/44 [00:00<?, ?it/s]"
      ]
     },
     "metadata": {},
     "output_type": "display_data"
    },
    {
     "data": {
      "application/vnd.jupyter.widget-view+json": {
       "model_id": "db18e7b1277245ea902faeba89c07f6f",
       "version_major": 2,
       "version_minor": 0
      },
      "text/plain": [
       "Test Epoch 46/500, Test Loss: 9.575191389430653:   0%|          | 0/11 [00:00<?, ?it/s]"
      ]
     },
     "metadata": {},
     "output_type": "display_data"
    },
    {
     "data": {
      "application/vnd.jupyter.widget-view+json": {
       "model_id": "97c1bef4046a4e698de324ee155bb468",
       "version_major": 2,
       "version_minor": 0
      },
      "text/plain": [
       "Train Epoch 47/500, Train Loss: 0.0:   0%|          | 0/44 [00:00<?, ?it/s]"
      ]
     },
     "metadata": {},
     "output_type": "display_data"
    },
    {
     "data": {
      "application/vnd.jupyter.widget-view+json": {
       "model_id": "169cba6797154f2589e8432b0f8b87f1",
       "version_major": 2,
       "version_minor": 0
      },
      "text/plain": [
       "Test Epoch 47/500, Test Loss: 9.575570193204014:   0%|          | 0/11 [00:00<?, ?it/s]"
      ]
     },
     "metadata": {},
     "output_type": "display_data"
    },
    {
     "data": {
      "application/vnd.jupyter.widget-view+json": {
       "model_id": "deee20f07a2f44879fd347614811f3aa",
       "version_major": 2,
       "version_minor": 0
      },
      "text/plain": [
       "Train Epoch 48/500, Train Loss: 0.0:   0%|          | 0/44 [00:00<?, ?it/s]"
      ]
     },
     "metadata": {},
     "output_type": "display_data"
    },
    {
     "data": {
      "application/vnd.jupyter.widget-view+json": {
       "model_id": "15d0b396e268466d87b419364edf57fd",
       "version_major": 2,
       "version_minor": 0
      },
      "text/plain": [
       "Test Epoch 48/500, Test Loss: 9.57481260733171:   0%|          | 0/11 [00:00<?, ?it/s]"
      ]
     },
     "metadata": {},
     "output_type": "display_data"
    },
    {
     "data": {
      "application/vnd.jupyter.widget-view+json": {
       "model_id": "d4666610c3624a66a305bbec0d7423a7",
       "version_major": 2,
       "version_minor": 0
      },
      "text/plain": [
       "Train Epoch 49/500, Train Loss: 0.0:   0%|          | 0/44 [00:00<?, ?it/s]"
      ]
     },
     "metadata": {},
     "output_type": "display_data"
    },
    {
     "data": {
      "application/vnd.jupyter.widget-view+json": {
       "model_id": "7539afaa39af4a96b0d8c0b450b0d266",
       "version_major": 2,
       "version_minor": 0
      },
      "text/plain": [
       "Test Epoch 49/500, Test Loss: 9.57481260733171:   0%|          | 0/11 [00:00<?, ?it/s]"
      ]
     },
     "metadata": {},
     "output_type": "display_data"
    },
    {
     "data": {
      "application/vnd.jupyter.widget-view+json": {
       "model_id": "d7de427de8ec48c4afe9321970203964",
       "version_major": 2,
       "version_minor": 0
      },
      "text/plain": [
       "Train Epoch 50/500, Train Loss: 0.0:   0%|          | 0/44 [00:00<?, ?it/s]"
      ]
     },
     "metadata": {},
     "output_type": "display_data"
    },
    {
     "data": {
      "application/vnd.jupyter.widget-view+json": {
       "model_id": "7dc4fbddbaed4baa9579ecd04fceae10",
       "version_major": 2,
       "version_minor": 0
      },
      "text/plain": [
       "Test Epoch 50/500, Test Loss: 9.573676239360463:   0%|          | 0/11 [00:00<?, ?it/s]"
      ]
     },
     "metadata": {},
     "output_type": "display_data"
    },
    {
     "data": {
      "application/vnd.jupyter.widget-view+json": {
       "model_id": "eb84173dc7a942b78c8877981c7f6cd6",
       "version_major": 2,
       "version_minor": 0
      },
      "text/plain": [
       "Train Epoch 51/500, Train Loss: 0.0:   0%|          | 0/44 [00:00<?, ?it/s]"
      ]
     },
     "metadata": {},
     "output_type": "display_data"
    },
    {
     "data": {
      "application/vnd.jupyter.widget-view+json": {
       "model_id": "0e8048444bf14c6498afd82e61072705",
       "version_major": 2,
       "version_minor": 0
      },
      "text/plain": [
       "Test Epoch 51/500, Test Loss: 9.574433846907182:   0%|          | 0/11 [00:00<?, ?it/s]"
      ]
     },
     "metadata": {},
     "output_type": "display_data"
    },
    {
     "data": {
      "application/vnd.jupyter.widget-view+json": {
       "model_id": "f5c2979c3a44440280e0c713fefb0085",
       "version_major": 2,
       "version_minor": 0
      },
      "text/plain": [
       "Train Epoch 52/500, Train Loss: 0.0:   0%|          | 0/44 [00:00<?, ?it/s]"
      ]
     },
     "metadata": {},
     "output_type": "display_data"
    },
    {
     "data": {
      "application/vnd.jupyter.widget-view+json": {
       "model_id": "54b2792f786348a8b51bbbbfd581102a",
       "version_major": 2,
       "version_minor": 0
      },
      "text/plain": [
       "Test Epoch 52/500, Test Loss: 9.575191389430653:   0%|          | 0/11 [00:00<?, ?it/s]"
      ]
     },
     "metadata": {},
     "output_type": "display_data"
    },
    {
     "data": {
      "application/vnd.jupyter.widget-view+json": {
       "model_id": "093631859946439bbc6b42954b0d6a82",
       "version_major": 2,
       "version_minor": 0
      },
      "text/plain": [
       "Train Epoch 53/500, Train Loss: 0.0:   0%|          | 0/44 [00:00<?, ?it/s]"
      ]
     },
     "metadata": {},
     "output_type": "display_data"
    },
    {
     "data": {
      "application/vnd.jupyter.widget-view+json": {
       "model_id": "b6c587b05eb24394839eb8357f427f0b",
       "version_major": 2,
       "version_minor": 0
      },
      "text/plain": [
       "Test Epoch 53/500, Test Loss: 9.575191389430653:   0%|          | 0/11 [00:00<?, ?it/s]"
      ]
     },
     "metadata": {},
     "output_type": "display_data"
    },
    {
     "data": {
      "application/vnd.jupyter.widget-view+json": {
       "model_id": "a6d504361b8244818f8d36ede63c9dd9",
       "version_major": 2,
       "version_minor": 0
      },
      "text/plain": [
       "Train Epoch 54/500, Train Loss: 0.0:   0%|          | 0/44 [00:00<?, ?it/s]"
      ]
     },
     "metadata": {},
     "output_type": "display_data"
    },
    {
     "data": {
      "application/vnd.jupyter.widget-view+json": {
       "model_id": "7bac11962ad841878e7979924b4656ad",
       "version_major": 2,
       "version_minor": 0
      },
      "text/plain": [
       "Test Epoch 54/500, Test Loss: 9.575191389430653:   0%|          | 0/11 [00:00<?, ?it/s]"
      ]
     },
     "metadata": {},
     "output_type": "display_data"
    },
    {
     "data": {
      "application/vnd.jupyter.widget-view+json": {
       "model_id": "93b08d023eb646ed8308524d005cee7e",
       "version_major": 2,
       "version_minor": 0
      },
      "text/plain": [
       "Train Epoch 55/500, Train Loss: 0.0:   0%|          | 0/44 [00:00<?, ?it/s]"
      ]
     },
     "metadata": {},
     "output_type": "display_data"
    },
    {
     "data": {
      "application/vnd.jupyter.widget-view+json": {
       "model_id": "a6ecd7aa2e454ac4bf5a0625d36c32db",
       "version_major": 2,
       "version_minor": 0
      },
      "text/plain": [
       "Test Epoch 55/500, Test Loss: 9.574433846907182:   0%|          | 0/11 [00:00<?, ?it/s]"
      ]
     },
     "metadata": {},
     "output_type": "display_data"
    },
    {
     "data": {
      "application/vnd.jupyter.widget-view+json": {
       "model_id": "e6f6abeafea74ea8be365c8574084d8a",
       "version_major": 2,
       "version_minor": 0
      },
      "text/plain": [
       "Train Epoch 56/500, Train Loss: 0.0:   0%|          | 0/44 [00:00<?, ?it/s]"
      ]
     },
     "metadata": {},
     "output_type": "display_data"
    },
    {
     "data": {
      "application/vnd.jupyter.widget-view+json": {
       "model_id": "3a11305e701540c1b8c91441b15019eb",
       "version_major": 2,
       "version_minor": 0
      },
      "text/plain": [
       "Test Epoch 56/500, Test Loss: 9.57481260733171:   0%|          | 0/11 [00:00<?, ?it/s]"
      ]
     },
     "metadata": {},
     "output_type": "display_data"
    },
    {
     "data": {
      "application/vnd.jupyter.widget-view+json": {
       "model_id": "2def46fc36ff46b8b2de4e09dfedfdb4",
       "version_major": 2,
       "version_minor": 0
      },
      "text/plain": [
       "Train Epoch 57/500, Train Loss: 0.0:   0%|          | 0/44 [00:00<?, ?it/s]"
      ]
     },
     "metadata": {},
     "output_type": "display_data"
    },
    {
     "data": {
      "application/vnd.jupyter.widget-view+json": {
       "model_id": "7cfc0f47476347f5bff18b80f7e684ec",
       "version_major": 2,
       "version_minor": 0
      },
      "text/plain": [
       "Test Epoch 57/500, Test Loss: 9.574433846907182:   0%|          | 0/11 [00:00<?, ?it/s]"
      ]
     },
     "metadata": {},
     "output_type": "display_data"
    },
    {
     "data": {
      "application/vnd.jupyter.widget-view+json": {
       "model_id": "1ca98a54999447ee8fe1c65a857049cc",
       "version_major": 2,
       "version_minor": 0
      },
      "text/plain": [
       "Train Epoch 58/500, Train Loss: 0.0:   0%|          | 0/44 [00:00<?, ?it/s]"
      ]
     },
     "metadata": {},
     "output_type": "display_data"
    },
    {
     "data": {
      "application/vnd.jupyter.widget-view+json": {
       "model_id": "310b1bfcd32845349342e45518f355b0",
       "version_major": 2,
       "version_minor": 0
      },
      "text/plain": [
       "Test Epoch 58/500, Test Loss: 9.574055064808238:   0%|          | 0/11 [00:00<?, ?it/s]"
      ]
     },
     "metadata": {},
     "output_type": "display_data"
    },
    {
     "data": {
      "application/vnd.jupyter.widget-view+json": {
       "model_id": "b495541bda2344f7ae7deb4876892ec7",
       "version_major": 2,
       "version_minor": 0
      },
      "text/plain": [
       "Train Epoch 59/500, Train Loss: 0.0:   0%|          | 0/44 [00:00<?, ?it/s]"
      ]
     },
     "metadata": {},
     "output_type": "display_data"
    },
    {
     "data": {
      "application/vnd.jupyter.widget-view+json": {
       "model_id": "71c7f16247d9464faea38054de6cf37d",
       "version_major": 2,
       "version_minor": 0
      },
      "text/plain": [
       "Test Epoch 59/500, Test Loss: 9.574433846907182:   0%|          | 0/11 [00:00<?, ?it/s]"
      ]
     },
     "metadata": {},
     "output_type": "display_data"
    },
    {
     "data": {
      "application/vnd.jupyter.widget-view+json": {
       "model_id": "50c0c0e637dd43eda942b91ba1a9f7f4",
       "version_major": 2,
       "version_minor": 0
      },
      "text/plain": [
       "Train Epoch 60/500, Train Loss: 0.0:   0%|          | 0/44 [00:00<?, ?it/s]"
      ]
     },
     "metadata": {},
     "output_type": "display_data"
    },
    {
     "data": {
      "application/vnd.jupyter.widget-view+json": {
       "model_id": "9ff6809cc2004041bece896885eb2a6f",
       "version_major": 2,
       "version_minor": 0
      },
      "text/plain": [
       "Test Epoch 60/500, Test Loss: 9.574433846907182:   0%|          | 0/11 [00:00<?, ?it/s]"
      ]
     },
     "metadata": {},
     "output_type": "display_data"
    },
    {
     "data": {
      "application/vnd.jupyter.widget-view+json": {
       "model_id": "76f504c440484bf3bbf4ffbf3ef6c2fd",
       "version_major": 2,
       "version_minor": 0
      },
      "text/plain": [
       "Train Epoch 61/500, Train Loss: 0.0:   0%|          | 0/44 [00:00<?, ?it/s]"
      ]
     },
     "metadata": {},
     "output_type": "display_data"
    },
    {
     "data": {
      "application/vnd.jupyter.widget-view+json": {
       "model_id": "16cdda33cf424fa09fa2f39067f9da6e",
       "version_major": 2,
       "version_minor": 0
      },
      "text/plain": [
       "Test Epoch 61/500, Test Loss: 9.575191389430653:   0%|          | 0/11 [00:00<?, ?it/s]"
      ]
     },
     "metadata": {},
     "output_type": "display_data"
    },
    {
     "data": {
      "application/vnd.jupyter.widget-view+json": {
       "model_id": "5d9d0aac608e4a2b8f216b10f3fa4f9e",
       "version_major": 2,
       "version_minor": 0
      },
      "text/plain": [
       "Train Epoch 62/500, Train Loss: 0.0:   0%|          | 0/44 [00:00<?, ?it/s]"
      ]
     },
     "metadata": {},
     "output_type": "display_data"
    },
    {
     "data": {
      "application/vnd.jupyter.widget-view+json": {
       "model_id": "64cebe072c1141e89e5568cbf990ad76",
       "version_major": 2,
       "version_minor": 0
      },
      "text/plain": [
       "Test Epoch 62/500, Test Loss: 9.574433825232767:   0%|          | 0/11 [00:00<?, ?it/s]"
      ]
     },
     "metadata": {},
     "output_type": "display_data"
    },
    {
     "data": {
      "application/vnd.jupyter.widget-view+json": {
       "model_id": "4675b175f5d34872baedc95d585be8d8",
       "version_major": 2,
       "version_minor": 0
      },
      "text/plain": [
       "Train Epoch 63/500, Train Loss: 0.0:   0%|          | 0/44 [00:00<?, ?it/s]"
      ]
     },
     "metadata": {},
     "output_type": "display_data"
    },
    {
     "data": {
      "application/vnd.jupyter.widget-view+json": {
       "model_id": "c982a246408a43cfadf11b2666a0bdcc",
       "version_major": 2,
       "version_minor": 0
      },
      "text/plain": [
       "Test Epoch 63/500, Test Loss: 9.575191432779485:   0%|          | 0/11 [00:00<?, ?it/s]"
      ]
     },
     "metadata": {},
     "output_type": "display_data"
    },
    {
     "data": {
      "application/vnd.jupyter.widget-view+json": {
       "model_id": "eb64c5b7f5634c19a92dc9cb60cda838",
       "version_major": 2,
       "version_minor": 0
      },
      "text/plain": [
       "Train Epoch 64/500, Train Loss: 0.0:   0%|          | 0/44 [00:00<?, ?it/s]"
      ]
     },
     "metadata": {},
     "output_type": "display_data"
    },
    {
     "data": {
      "application/vnd.jupyter.widget-view+json": {
       "model_id": "b443a107ab584a08b4d39fd9ce9607a8",
       "version_major": 2,
       "version_minor": 0
      },
      "text/plain": [
       "Test Epoch 64/500, Test Loss: 9.574433846907182:   0%|          | 0/11 [00:00<?, ?it/s]"
      ]
     },
     "metadata": {},
     "output_type": "display_data"
    },
    {
     "data": {
      "application/vnd.jupyter.widget-view+json": {
       "model_id": "9811f305e6cf45f5a85f7b03aa2b3245",
       "version_major": 2,
       "version_minor": 0
      },
      "text/plain": [
       "Train Epoch 65/500, Train Loss: 0.0:   0%|          | 0/44 [00:00<?, ?it/s]"
      ]
     },
     "metadata": {},
     "output_type": "display_data"
    },
    {
     "data": {
      "application/vnd.jupyter.widget-view+json": {
       "model_id": "7c72c19a3d5b4d0b82365fd07c2b091d",
       "version_major": 2,
       "version_minor": 0
      },
      "text/plain": [
       "Test Epoch 65/500, Test Loss: 9.574055064808238:   0%|          | 0/11 [00:00<?, ?it/s]"
      ]
     },
     "metadata": {},
     "output_type": "display_data"
    },
    {
     "data": {
      "application/vnd.jupyter.widget-view+json": {
       "model_id": "95f39d22a9d84bd4a2ad4fc1121ae102",
       "version_major": 2,
       "version_minor": 0
      },
      "text/plain": [
       "Train Epoch 66/500, Train Loss: 0.0:   0%|          | 0/44 [00:00<?, ?it/s]"
      ]
     },
     "metadata": {},
     "output_type": "display_data"
    },
    {
     "data": {
      "application/vnd.jupyter.widget-view+json": {
       "model_id": "b049d2c0030b40abaf0fd28343f26f0e",
       "version_major": 2,
       "version_minor": 0
      },
      "text/plain": [
       "Test Epoch 66/500, Test Loss: 9.574433846907182:   0%|          | 0/11 [00:00<?, ?it/s]"
      ]
     },
     "metadata": {},
     "output_type": "display_data"
    },
    {
     "data": {
      "application/vnd.jupyter.widget-view+json": {
       "model_id": "9317849e840f4117bf2cf4d62a076c09",
       "version_major": 2,
       "version_minor": 0
      },
      "text/plain": [
       "Train Epoch 67/500, Train Loss: 0.0:   0%|          | 0/44 [00:00<?, ?it/s]"
      ]
     },
     "metadata": {},
     "output_type": "display_data"
    },
    {
     "data": {
      "application/vnd.jupyter.widget-view+json": {
       "model_id": "c7e75b6675f14dcc817ab00d6abb6f2b",
       "version_major": 2,
       "version_minor": 0
      },
      "text/plain": [
       "Test Epoch 67/500, Test Loss: 9.57481260733171:   0%|          | 0/11 [00:00<?, ?it/s]"
      ]
     },
     "metadata": {},
     "output_type": "display_data"
    },
    {
     "data": {
      "application/vnd.jupyter.widget-view+json": {
       "model_id": "492414a330d64105bec702f472431679",
       "version_major": 2,
       "version_minor": 0
      },
      "text/plain": [
       "Train Epoch 68/500, Train Loss: 0.0:   0%|          | 0/44 [00:00<?, ?it/s]"
      ]
     },
     "metadata": {},
     "output_type": "display_data"
    },
    {
     "data": {
      "application/vnd.jupyter.widget-view+json": {
       "model_id": "8d94b998e3754928bbd0aa60aed2cd85",
       "version_major": 2,
       "version_minor": 0
      },
      "text/plain": [
       "Test Epoch 68/500, Test Loss: 9.575570193204014:   0%|          | 0/11 [00:00<?, ?it/s]"
      ]
     },
     "metadata": {},
     "output_type": "display_data"
    },
    {
     "data": {
      "application/vnd.jupyter.widget-view+json": {
       "model_id": "f3c6b7f46dcc44448bbe2227091a97f8",
       "version_major": 2,
       "version_minor": 0
      },
      "text/plain": [
       "Train Epoch 69/500, Train Loss: 0.0:   0%|          | 0/44 [00:00<?, ?it/s]"
      ]
     },
     "metadata": {},
     "output_type": "display_data"
    },
    {
     "data": {
      "application/vnd.jupyter.widget-view+json": {
       "model_id": "0de5a29f663748e4b4c15a11e0e241d1",
       "version_major": 2,
       "version_minor": 0
      },
      "text/plain": [
       "Test Epoch 69/500, Test Loss: 9.573676239360463:   0%|          | 0/11 [00:00<?, ?it/s]"
      ]
     },
     "metadata": {},
     "output_type": "display_data"
    },
    {
     "data": {
      "application/vnd.jupyter.widget-view+json": {
       "model_id": "6f12515081b54c92a6ab7bcfebf88392",
       "version_major": 2,
       "version_minor": 0
      },
      "text/plain": [
       "Train Epoch 70/500, Train Loss: 0.0:   0%|          | 0/44 [00:00<?, ?it/s]"
      ]
     },
     "metadata": {},
     "output_type": "display_data"
    },
    {
     "data": {
      "application/vnd.jupyter.widget-view+json": {
       "model_id": "9e2f954d8b924bbb8c8a8b317bad1da0",
       "version_major": 2,
       "version_minor": 0
      },
      "text/plain": [
       "Test Epoch 70/500, Test Loss: 9.574433846907182:   0%|          | 0/11 [00:00<?, ?it/s]"
      ]
     },
     "metadata": {},
     "output_type": "display_data"
    },
    {
     "data": {
      "application/vnd.jupyter.widget-view+json": {
       "model_id": "3a2f7611cda2402e8dbaf53ebb367ee8",
       "version_major": 2,
       "version_minor": 0
      },
      "text/plain": [
       "Train Epoch 71/500, Train Loss: 0.0:   0%|          | 0/44 [00:00<?, ?it/s]"
      ]
     },
     "metadata": {},
     "output_type": "display_data"
    },
    {
     "data": {
      "application/vnd.jupyter.widget-view+json": {
       "model_id": "ba54483c0d96411289238704a218c68b",
       "version_major": 2,
       "version_minor": 0
      },
      "text/plain": [
       "Test Epoch 71/500, Test Loss: 9.575191389430653:   0%|          | 0/11 [00:00<?, ?it/s]"
      ]
     },
     "metadata": {},
     "output_type": "display_data"
    },
    {
     "data": {
      "application/vnd.jupyter.widget-view+json": {
       "model_id": "2e724c1cca844077bd7ac8d8d733ad7b",
       "version_major": 2,
       "version_minor": 0
      },
      "text/plain": [
       "Train Epoch 72/500, Train Loss: 0.0:   0%|          | 0/44 [00:00<?, ?it/s]"
      ]
     },
     "metadata": {},
     "output_type": "display_data"
    },
    {
     "data": {
      "application/vnd.jupyter.widget-view+json": {
       "model_id": "880094eca4554aa9a3beb1d3ac668f23",
       "version_major": 2,
       "version_minor": 0
      },
      "text/plain": [
       "Test Epoch 72/500, Test Loss: 9.575191432779485:   0%|          | 0/11 [00:00<?, ?it/s]"
      ]
     },
     "metadata": {},
     "output_type": "display_data"
    },
    {
     "data": {
      "application/vnd.jupyter.widget-view+json": {
       "model_id": "7fba649939b14e5b9cf81f738c193b81",
       "version_major": 2,
       "version_minor": 0
      },
      "text/plain": [
       "Train Epoch 73/500, Train Loss: 0.0:   0%|          | 0/44 [00:00<?, ?it/s]"
      ]
     },
     "metadata": {},
     "output_type": "display_data"
    },
    {
     "data": {
      "application/vnd.jupyter.widget-view+json": {
       "model_id": "90a49760ee7c44ad88f7c5be5da99be8",
       "version_major": 2,
       "version_minor": 0
      },
      "text/plain": [
       "Test Epoch 73/500, Test Loss: 9.575191432779485:   0%|          | 0/11 [00:00<?, ?it/s]"
      ]
     },
     "metadata": {},
     "output_type": "display_data"
    },
    {
     "data": {
      "application/vnd.jupyter.widget-view+json": {
       "model_id": "c3fee931ff474633aa9087d46c99f336",
       "version_major": 2,
       "version_minor": 0
      },
      "text/plain": [
       "Train Epoch 74/500, Train Loss: 0.0:   0%|          | 0/44 [00:00<?, ?it/s]"
      ]
     },
     "metadata": {},
     "output_type": "display_data"
    },
    {
     "data": {
      "application/vnd.jupyter.widget-view+json": {
       "model_id": "d08ef8dd47ae4a0b89733f185abf2fdd",
       "version_major": 2,
       "version_minor": 0
      },
      "text/plain": [
       "Test Epoch 74/500, Test Loss: 9.575570214878429:   0%|          | 0/11 [00:00<?, ?it/s]"
      ]
     },
     "metadata": {},
     "output_type": "display_data"
    },
    {
     "data": {
      "application/vnd.jupyter.widget-view+json": {
       "model_id": "1980e94f850b4cafbae0afa3d4a6fe06",
       "version_major": 2,
       "version_minor": 0
      },
      "text/plain": [
       "Train Epoch 75/500, Train Loss: 0.0:   0%|          | 0/44 [00:00<?, ?it/s]"
      ]
     },
     "metadata": {},
     "output_type": "display_data"
    },
    {
     "data": {
      "application/vnd.jupyter.widget-view+json": {
       "model_id": "a51bac8c2c204034a46f8262364b722d",
       "version_major": 2,
       "version_minor": 0
      },
      "text/plain": [
       "Test Epoch 75/500, Test Loss: 9.57481260733171:   0%|          | 0/11 [00:00<?, ?it/s]"
      ]
     },
     "metadata": {},
     "output_type": "display_data"
    },
    {
     "data": {
      "application/vnd.jupyter.widget-view+json": {
       "model_id": "b9a5066f1e9440c783f2f4de0f6df489",
       "version_major": 2,
       "version_minor": 0
      },
      "text/plain": [
       "Train Epoch 76/500, Train Loss: 0.0:   0%|          | 0/44 [00:00<?, ?it/s]"
      ]
     },
     "metadata": {},
     "output_type": "display_data"
    },
    {
     "data": {
      "application/vnd.jupyter.widget-view+json": {
       "model_id": "cba443cfd95241dba9914ac5640798fe",
       "version_major": 2,
       "version_minor": 0
      },
      "text/plain": [
       "Test Epoch 76/500, Test Loss: 9.575570193204014:   0%|          | 0/11 [00:00<?, ?it/s]"
      ]
     },
     "metadata": {},
     "output_type": "display_data"
    },
    {
     "data": {
      "application/vnd.jupyter.widget-view+json": {
       "model_id": "43dbeaaf9b754bc893b90199e700c2f0",
       "version_major": 2,
       "version_minor": 0
      },
      "text/plain": [
       "Train Epoch 77/500, Train Loss: 0.0:   0%|          | 0/44 [00:00<?, ?it/s]"
      ]
     },
     "metadata": {},
     "output_type": "display_data"
    },
    {
     "data": {
      "application/vnd.jupyter.widget-view+json": {
       "model_id": "e15cce24d7984a37894fadd93d16351e",
       "version_major": 2,
       "version_minor": 0
      },
      "text/plain": [
       "Test Epoch 77/500, Test Loss: 9.575570193204014:   0%|          | 0/11 [00:00<?, ?it/s]"
      ]
     },
     "metadata": {},
     "output_type": "display_data"
    },
    {
     "data": {
      "application/vnd.jupyter.widget-view+json": {
       "model_id": "cc20b8dc2ea44d6f921fe9708d9b13f0",
       "version_major": 2,
       "version_minor": 0
      },
      "text/plain": [
       "Train Epoch 78/500, Train Loss: 0.0:   0%|          | 0/44 [00:00<?, ?it/s]"
      ]
     },
     "metadata": {},
     "output_type": "display_data"
    },
    {
     "data": {
      "application/vnd.jupyter.widget-view+json": {
       "model_id": "4ec1559256e344aa96a1f8fbdefd275d",
       "version_major": 2,
       "version_minor": 0
      },
      "text/plain": [
       "Test Epoch 78/500, Test Loss: 9.573676261034878:   0%|          | 0/11 [00:00<?, ?it/s]"
      ]
     },
     "metadata": {},
     "output_type": "display_data"
    },
    {
     "data": {
      "application/vnd.jupyter.widget-view+json": {
       "model_id": "119de7c25edd45a492515bc52f588365",
       "version_major": 2,
       "version_minor": 0
      },
      "text/plain": [
       "Train Epoch 79/500, Train Loss: 0.0:   0%|          | 0/44 [00:00<?, ?it/s]"
      ]
     },
     "metadata": {},
     "output_type": "display_data"
    },
    {
     "data": {
      "application/vnd.jupyter.widget-view+json": {
       "model_id": "4f91f9c3b2bd4b27a8ee04db586ce524",
       "version_major": 2,
       "version_minor": 0
      },
      "text/plain": [
       "Test Epoch 79/500, Test Loss: 9.574433846907182:   0%|          | 0/11 [00:00<?, ?it/s]"
      ]
     },
     "metadata": {},
     "output_type": "display_data"
    },
    {
     "data": {
      "application/vnd.jupyter.widget-view+json": {
       "model_id": "f0e5824538714932859b6fbbd4a66d1c",
       "version_major": 2,
       "version_minor": 0
      },
      "text/plain": [
       "Train Epoch 80/500, Train Loss: 0.0:   0%|          | 0/44 [00:00<?, ?it/s]"
      ]
     },
     "metadata": {},
     "output_type": "display_data"
    },
    {
     "data": {
      "application/vnd.jupyter.widget-view+json": {
       "model_id": "3f326b633c8d45d092b1b526f2403f6b",
       "version_major": 2,
       "version_minor": 0
      },
      "text/plain": [
       "Test Epoch 80/500, Test Loss: 9.574433846907182:   0%|          | 0/11 [00:00<?, ?it/s]"
      ]
     },
     "metadata": {},
     "output_type": "display_data"
    },
    {
     "data": {
      "application/vnd.jupyter.widget-view+json": {
       "model_id": "69a076842b2945e3a3e0a928b4aa98be",
       "version_major": 2,
       "version_minor": 0
      },
      "text/plain": [
       "Train Epoch 81/500, Train Loss: 0.0:   0%|          | 0/44 [00:00<?, ?it/s]"
      ]
     },
     "metadata": {},
     "output_type": "display_data"
    },
    {
     "data": {
      "application/vnd.jupyter.widget-view+json": {
       "model_id": "41bed553d67f4e148b03d9b71e57829d",
       "version_major": 2,
       "version_minor": 0
      },
      "text/plain": [
       "Test Epoch 81/500, Test Loss: 9.575191432779485:   0%|          | 0/11 [00:00<?, ?it/s]"
      ]
     },
     "metadata": {},
     "output_type": "display_data"
    },
    {
     "data": {
      "application/vnd.jupyter.widget-view+json": {
       "model_id": "1adbdfeafb8248f6947fa584f96d8cf5",
       "version_major": 2,
       "version_minor": 0
      },
      "text/plain": [
       "Train Epoch 82/500, Train Loss: 0.0:   0%|          | 0/44 [00:00<?, ?it/s]"
      ]
     },
     "metadata": {},
     "output_type": "display_data"
    },
    {
     "data": {
      "application/vnd.jupyter.widget-view+json": {
       "model_id": "cf03eaee6ba444a98a915cd443c5d842",
       "version_major": 2,
       "version_minor": 0
      },
      "text/plain": [
       "Test Epoch 82/500, Test Loss: 9.574433846907182:   0%|          | 0/11 [00:00<?, ?it/s]"
      ]
     },
     "metadata": {},
     "output_type": "display_data"
    },
    {
     "data": {
      "application/vnd.jupyter.widget-view+json": {
       "model_id": "ca033b2681294b6abd0b5af798f74349",
       "version_major": 2,
       "version_minor": 0
      },
      "text/plain": [
       "Train Epoch 83/500, Train Loss: 0.0:   0%|          | 0/44 [00:00<?, ?it/s]"
      ]
     },
     "metadata": {},
     "output_type": "display_data"
    },
    {
     "data": {
      "application/vnd.jupyter.widget-view+json": {
       "model_id": "e712e105cc0e492f9cb86e3f226fce3c",
       "version_major": 2,
       "version_minor": 0
      },
      "text/plain": [
       "Test Epoch 83/500, Test Loss: 9.574433846907182:   0%|          | 0/11 [00:00<?, ?it/s]"
      ]
     },
     "metadata": {},
     "output_type": "display_data"
    },
    {
     "data": {
      "application/vnd.jupyter.widget-view+json": {
       "model_id": "68098c33019c44d58b2e5bf7595bd3e2",
       "version_major": 2,
       "version_minor": 0
      },
      "text/plain": [
       "Train Epoch 84/500, Train Loss: 0.0:   0%|          | 0/44 [00:00<?, ?it/s]"
      ]
     },
     "metadata": {},
     "output_type": "display_data"
    },
    {
     "data": {
      "application/vnd.jupyter.widget-view+json": {
       "model_id": "651fa8229f2d4ebf9245c1d1c2166667",
       "version_major": 2,
       "version_minor": 0
      },
      "text/plain": [
       "Test Epoch 84/500, Test Loss: 9.57481260733171:   0%|          | 0/11 [00:00<?, ?it/s]"
      ]
     },
     "metadata": {},
     "output_type": "display_data"
    },
    {
     "data": {
      "application/vnd.jupyter.widget-view+json": {
       "model_id": "919cdf99780d437e948c6be75a824e6f",
       "version_major": 2,
       "version_minor": 0
      },
      "text/plain": [
       "Train Epoch 85/500, Train Loss: 0.0:   0%|          | 0/44 [00:00<?, ?it/s]"
      ]
     },
     "metadata": {},
     "output_type": "display_data"
    },
    {
     "data": {
      "application/vnd.jupyter.widget-view+json": {
       "model_id": "9b9f0be23d754a0f92503eaafaa70d64",
       "version_major": 2,
       "version_minor": 0
      },
      "text/plain": [
       "Test Epoch 85/500, Test Loss: 9.575191389430653:   0%|          | 0/11 [00:00<?, ?it/s]"
      ]
     },
     "metadata": {},
     "output_type": "display_data"
    },
    {
     "data": {
      "application/vnd.jupyter.widget-view+json": {
       "model_id": "88b5bd5b49d14088aaed4e15210040a8",
       "version_major": 2,
       "version_minor": 0
      },
      "text/plain": [
       "Train Epoch 86/500, Train Loss: 0.0:   0%|          | 0/44 [00:00<?, ?it/s]"
      ]
     },
     "metadata": {},
     "output_type": "display_data"
    },
    {
     "data": {
      "application/vnd.jupyter.widget-view+json": {
       "model_id": "768468df75a341b4857b3b04b67923f9",
       "version_major": 2,
       "version_minor": 0
      },
      "text/plain": [
       "Test Epoch 86/500, Test Loss: 9.574433846907182:   0%|          | 0/11 [00:00<?, ?it/s]"
      ]
     },
     "metadata": {},
     "output_type": "display_data"
    },
    {
     "data": {
      "application/vnd.jupyter.widget-view+json": {
       "model_id": "be4fddfece484e368701ae68e8d636f8",
       "version_major": 2,
       "version_minor": 0
      },
      "text/plain": [
       "Train Epoch 87/500, Train Loss: 0.0:   0%|          | 0/44 [00:00<?, ?it/s]"
      ]
     },
     "metadata": {},
     "output_type": "display_data"
    },
    {
     "data": {
      "application/vnd.jupyter.widget-view+json": {
       "model_id": "6f1389d16f5f48a9b1fba4e8d5551bd4",
       "version_major": 2,
       "version_minor": 0
      },
      "text/plain": [
       "Test Epoch 87/500, Test Loss: 9.575191389430653:   0%|          | 0/11 [00:00<?, ?it/s]"
      ]
     },
     "metadata": {},
     "output_type": "display_data"
    },
    {
     "data": {
      "application/vnd.jupyter.widget-view+json": {
       "model_id": "058db1218a8e464e941fce61872b4b19",
       "version_major": 2,
       "version_minor": 0
      },
      "text/plain": [
       "Train Epoch 88/500, Train Loss: 0.0:   0%|          | 0/44 [00:00<?, ?it/s]"
      ]
     },
     "metadata": {},
     "output_type": "display_data"
    },
    {
     "data": {
      "application/vnd.jupyter.widget-view+json": {
       "model_id": "3f85f0e7c0ef470fa089a6d1c0b8211f",
       "version_major": 2,
       "version_minor": 0
      },
      "text/plain": [
       "Test Epoch 88/500, Test Loss: 9.575191389430653:   0%|          | 0/11 [00:00<?, ?it/s]"
      ]
     },
     "metadata": {},
     "output_type": "display_data"
    },
    {
     "data": {
      "application/vnd.jupyter.widget-view+json": {
       "model_id": "716bd292da8a476e8f794fc81d5a1e51",
       "version_major": 2,
       "version_minor": 0
      },
      "text/plain": [
       "Train Epoch 89/500, Train Loss: 0.0:   0%|          | 0/44 [00:00<?, ?it/s]"
      ]
     },
     "metadata": {},
     "output_type": "display_data"
    },
    {
     "data": {
      "application/vnd.jupyter.widget-view+json": {
       "model_id": "47d514f8fcf343f88fb5d3797176f2f1",
       "version_major": 2,
       "version_minor": 0
      },
      "text/plain": [
       "Test Epoch 89/500, Test Loss: 9.574812629006125:   0%|          | 0/11 [00:00<?, ?it/s]"
      ]
     },
     "metadata": {},
     "output_type": "display_data"
    },
    {
     "data": {
      "application/vnd.jupyter.widget-view+json": {
       "model_id": "c1af354ed3ec4ee285172ba2eff4b516",
       "version_major": 2,
       "version_minor": 0
      },
      "text/plain": [
       "Train Epoch 90/500, Train Loss: 0.0:   0%|          | 0/44 [00:00<?, ?it/s]"
      ]
     },
     "metadata": {},
     "output_type": "display_data"
    },
    {
     "data": {
      "application/vnd.jupyter.widget-view+json": {
       "model_id": "954529f74853468883d4464997cd1c56",
       "version_major": 2,
       "version_minor": 0
      },
      "text/plain": [
       "Test Epoch 90/500, Test Loss: 9.574433846907182:   0%|          | 0/11 [00:00<?, ?it/s]"
      ]
     },
     "metadata": {},
     "output_type": "display_data"
    },
    {
     "data": {
      "application/vnd.jupyter.widget-view+json": {
       "model_id": "4095d666cfb943f7822851668d69228d",
       "version_major": 2,
       "version_minor": 0
      },
      "text/plain": [
       "Train Epoch 91/500, Train Loss: 0.0:   0%|          | 0/44 [00:00<?, ?it/s]"
      ]
     },
     "metadata": {},
     "output_type": "display_data"
    },
    {
     "data": {
      "application/vnd.jupyter.widget-view+json": {
       "model_id": "4a314477f1c740d1aea474e4ab13b6f9",
       "version_major": 2,
       "version_minor": 0
      },
      "text/plain": [
       "Test Epoch 91/500, Test Loss: 9.574433846907182:   0%|          | 0/11 [00:00<?, ?it/s]"
      ]
     },
     "metadata": {},
     "output_type": "display_data"
    },
    {
     "data": {
      "application/vnd.jupyter.widget-view+json": {
       "model_id": "bb2c40e1473043af9d8f9027f91da9b5",
       "version_major": 2,
       "version_minor": 0
      },
      "text/plain": [
       "Train Epoch 92/500, Train Loss: 0.0:   0%|          | 0/44 [00:00<?, ?it/s]"
      ]
     },
     "metadata": {},
     "output_type": "display_data"
    },
    {
     "data": {
      "application/vnd.jupyter.widget-view+json": {
       "model_id": "f8515182d5684cfdad8b56f603c534a3",
       "version_major": 2,
       "version_minor": 0
      },
      "text/plain": [
       "Test Epoch 92/500, Test Loss: 9.575191389430653:   0%|          | 0/11 [00:00<?, ?it/s]"
      ]
     },
     "metadata": {},
     "output_type": "display_data"
    },
    {
     "data": {
      "application/vnd.jupyter.widget-view+json": {
       "model_id": "980525f51dc54762bf4c7d588f6ad334",
       "version_major": 2,
       "version_minor": 0
      },
      "text/plain": [
       "Train Epoch 93/500, Train Loss: 0.0:   0%|          | 0/44 [00:00<?, ?it/s]"
      ]
     },
     "metadata": {},
     "output_type": "display_data"
    },
    {
     "data": {
      "application/vnd.jupyter.widget-view+json": {
       "model_id": "61231ec724c64944953b0a7e9620dc33",
       "version_major": 2,
       "version_minor": 0
      },
      "text/plain": [
       "Test Epoch 93/500, Test Loss: 9.57481260733171:   0%|          | 0/11 [00:00<?, ?it/s]"
      ]
     },
     "metadata": {},
     "output_type": "display_data"
    },
    {
     "data": {
      "application/vnd.jupyter.widget-view+json": {
       "model_id": "01d9a171e4c249eda7fa86592a76b1a2",
       "version_major": 2,
       "version_minor": 0
      },
      "text/plain": [
       "Train Epoch 94/500, Train Loss: 0.0:   0%|          | 0/44 [00:00<?, ?it/s]"
      ]
     },
     "metadata": {},
     "output_type": "display_data"
    },
    {
     "data": {
      "application/vnd.jupyter.widget-view+json": {
       "model_id": "0d4351441eec4dfcbc2c7831115cbe71",
       "version_major": 2,
       "version_minor": 0
      },
      "text/plain": [
       "Test Epoch 94/500, Test Loss: 9.574433846907182:   0%|          | 0/11 [00:00<?, ?it/s]"
      ]
     },
     "metadata": {},
     "output_type": "display_data"
    },
    {
     "data": {
      "application/vnd.jupyter.widget-view+json": {
       "model_id": "a8178a3737304d88afc74835e54136c5",
       "version_major": 2,
       "version_minor": 0
      },
      "text/plain": [
       "Train Epoch 95/500, Train Loss: 0.0:   0%|          | 0/44 [00:00<?, ?it/s]"
      ]
     },
     "metadata": {},
     "output_type": "display_data"
    },
    {
     "data": {
      "application/vnd.jupyter.widget-view+json": {
       "model_id": "def2b93a6e0c458d926c97c7afcc0806",
       "version_major": 2,
       "version_minor": 0
      },
      "text/plain": [
       "Test Epoch 95/500, Test Loss: 9.57481260733171:   0%|          | 0/11 [00:00<?, ?it/s]"
      ]
     },
     "metadata": {},
     "output_type": "display_data"
    },
    {
     "data": {
      "application/vnd.jupyter.widget-view+json": {
       "model_id": "66c4c2ef83e245e0aac65bb763ec116b",
       "version_major": 2,
       "version_minor": 0
      },
      "text/plain": [
       "Train Epoch 96/500, Train Loss: 0.0:   0%|          | 0/44 [00:00<?, ?it/s]"
      ]
     },
     "metadata": {},
     "output_type": "display_data"
    },
    {
     "data": {
      "application/vnd.jupyter.widget-view+json": {
       "model_id": "eb6f27c48d164c31b5d5158a24b3716c",
       "version_major": 2,
       "version_minor": 0
      },
      "text/plain": [
       "Test Epoch 96/500, Test Loss: 9.573676261034878:   0%|          | 0/11 [00:00<?, ?it/s]"
      ]
     },
     "metadata": {},
     "output_type": "display_data"
    },
    {
     "data": {
      "application/vnd.jupyter.widget-view+json": {
       "model_id": "4654096a9e1e451eb24f202bebc7305d",
       "version_major": 2,
       "version_minor": 0
      },
      "text/plain": [
       "Train Epoch 97/500, Train Loss: 0.0:   0%|          | 0/44 [00:00<?, ?it/s]"
      ]
     },
     "metadata": {},
     "output_type": "display_data"
    },
    {
     "data": {
      "application/vnd.jupyter.widget-view+json": {
       "model_id": "2fe98098bac9496b893cd06b783a78f3",
       "version_major": 2,
       "version_minor": 0
      },
      "text/plain": [
       "Test Epoch 97/500, Test Loss: 9.574433846907182:   0%|          | 0/11 [00:00<?, ?it/s]"
      ]
     },
     "metadata": {},
     "output_type": "display_data"
    },
    {
     "data": {
      "application/vnd.jupyter.widget-view+json": {
       "model_id": "9ac638bf354f40f686929fa7b1df2745",
       "version_major": 2,
       "version_minor": 0
      },
      "text/plain": [
       "Train Epoch 98/500, Train Loss: 0.0:   0%|          | 0/44 [00:00<?, ?it/s]"
      ]
     },
     "metadata": {},
     "output_type": "display_data"
    },
    {
     "data": {
      "application/vnd.jupyter.widget-view+json": {
       "model_id": "d3e3ed483fe64ad3b090c6cf09a7758a",
       "version_major": 2,
       "version_minor": 0
      },
      "text/plain": [
       "Test Epoch 98/500, Test Loss: 9.573676261034878:   0%|          | 0/11 [00:00<?, ?it/s]"
      ]
     },
     "metadata": {},
     "output_type": "display_data"
    },
    {
     "data": {
      "application/vnd.jupyter.widget-view+json": {
       "model_id": "5f9472c8f8ea4a9d911228bd86dd3984",
       "version_major": 2,
       "version_minor": 0
      },
      "text/plain": [
       "Train Epoch 99/500, Train Loss: 0.0:   0%|          | 0/44 [00:00<?, ?it/s]"
      ]
     },
     "metadata": {},
     "output_type": "display_data"
    },
    {
     "data": {
      "application/vnd.jupyter.widget-view+json": {
       "model_id": "686643fc767440ed99f66c0fa674cbf8",
       "version_major": 2,
       "version_minor": 0
      },
      "text/plain": [
       "Test Epoch 99/500, Test Loss: 9.573676282709295:   0%|          | 0/11 [00:00<?, ?it/s]"
      ]
     },
     "metadata": {},
     "output_type": "display_data"
    },
    {
     "data": {
      "application/vnd.jupyter.widget-view+json": {
       "model_id": "822f92e5e0aa4437ad62e04125eb4b15",
       "version_major": 2,
       "version_minor": 0
      },
      "text/plain": [
       "Train Epoch 100/500, Train Loss: 0.0:   0%|          | 0/44 [00:00<?, ?it/s]"
      ]
     },
     "metadata": {},
     "output_type": "display_data"
    },
    {
     "data": {
      "application/vnd.jupyter.widget-view+json": {
       "model_id": "2eecca2236f74e6785e4cf2277c7e776",
       "version_major": 2,
       "version_minor": 0
      },
      "text/plain": [
       "Test Epoch 100/500, Test Loss: 9.57481260733171:   0%|          | 0/11 [00:00<?, ?it/s]"
      ]
     },
     "metadata": {},
     "output_type": "display_data"
    },
    {
     "data": {
      "application/vnd.jupyter.widget-view+json": {
       "model_id": "d5f1b91fdcba429b92fd7e126d84686c",
       "version_major": 2,
       "version_minor": 0
      },
      "text/plain": [
       "Train Epoch 101/500, Train Loss: 0.0:   0%|          | 0/44 [00:00<?, ?it/s]"
      ]
     },
     "metadata": {},
     "output_type": "display_data"
    },
    {
     "data": {
      "application/vnd.jupyter.widget-view+json": {
       "model_id": "ed54ff2336b14574b90f58ee2a671dc2",
       "version_major": 2,
       "version_minor": 0
      },
      "text/plain": [
       "Test Epoch 101/500, Test Loss: 9.575570193204014:   0%|          | 0/11 [00:00<?, ?it/s]"
      ]
     },
     "metadata": {},
     "output_type": "display_data"
    },
    {
     "data": {
      "application/vnd.jupyter.widget-view+json": {
       "model_id": "e459434d007c4fab82360760385432e8",
       "version_major": 2,
       "version_minor": 0
      },
      "text/plain": [
       "Train Epoch 102/500, Train Loss: 0.0:   0%|          | 0/44 [00:00<?, ?it/s]"
      ]
     },
     "metadata": {},
     "output_type": "display_data"
    },
    {
     "data": {
      "application/vnd.jupyter.widget-view+json": {
       "model_id": "5c4c657c7b27427cb866d5dfe18799b9",
       "version_major": 2,
       "version_minor": 0
      },
      "text/plain": [
       "Test Epoch 102/500, Test Loss: 9.575191389430653:   0%|          | 0/11 [00:00<?, ?it/s]"
      ]
     },
     "metadata": {},
     "output_type": "display_data"
    },
    {
     "data": {
      "application/vnd.jupyter.widget-view+json": {
       "model_id": "f0c99d500ffd46a2b2dbc1dfd76da1db",
       "version_major": 2,
       "version_minor": 0
      },
      "text/plain": [
       "Train Epoch 103/500, Train Loss: 0.0:   0%|          | 0/44 [00:00<?, ?it/s]"
      ]
     },
     "metadata": {},
     "output_type": "display_data"
    },
    {
     "data": {
      "application/vnd.jupyter.widget-view+json": {
       "model_id": "0e85bf0df9b64153ba2b74d3271302fc",
       "version_major": 2,
       "version_minor": 0
      },
      "text/plain": [
       "Test Epoch 103/500, Test Loss: 9.575191411105068:   0%|          | 0/11 [00:00<?, ?it/s]"
      ]
     },
     "metadata": {},
     "output_type": "display_data"
    },
    {
     "data": {
      "application/vnd.jupyter.widget-view+json": {
       "model_id": "4bfddca5eb204ff6bd3dcc1e273a2cb8",
       "version_major": 2,
       "version_minor": 0
      },
      "text/plain": [
       "Train Epoch 104/500, Train Loss: 0.0:   0%|          | 0/44 [00:00<?, ?it/s]"
      ]
     },
     "metadata": {},
     "output_type": "display_data"
    },
    {
     "data": {
      "application/vnd.jupyter.widget-view+json": {
       "model_id": "7d193cb8ed564991b4993a8abeb47730",
       "version_major": 2,
       "version_minor": 0
      },
      "text/plain": [
       "Test Epoch 104/500, Test Loss: 9.574433846907182:   0%|          | 0/11 [00:00<?, ?it/s]"
      ]
     },
     "metadata": {},
     "output_type": "display_data"
    },
    {
     "data": {
      "application/vnd.jupyter.widget-view+json": {
       "model_id": "88d46bc3ac694e3c927dd3482728a56d",
       "version_major": 2,
       "version_minor": 0
      },
      "text/plain": [
       "Train Epoch 105/500, Train Loss: 0.0:   0%|          | 0/44 [00:00<?, ?it/s]"
      ]
     },
     "metadata": {},
     "output_type": "display_data"
    },
    {
     "data": {
      "application/vnd.jupyter.widget-view+json": {
       "model_id": "6ebf4ab1b22f4c4f996c03cf7e50776d",
       "version_major": 2,
       "version_minor": 0
      },
      "text/plain": [
       "Test Epoch 105/500, Test Loss: 9.574433846907182:   0%|          | 0/11 [00:00<?, ?it/s]"
      ]
     },
     "metadata": {},
     "output_type": "display_data"
    },
    {
     "data": {
      "application/vnd.jupyter.widget-view+json": {
       "model_id": "85944251315a43afa1632156f09ad8d7",
       "version_major": 2,
       "version_minor": 0
      },
      "text/plain": [
       "Train Epoch 106/500, Train Loss: 0.0:   0%|          | 0/44 [00:00<?, ?it/s]"
      ]
     },
     "metadata": {},
     "output_type": "display_data"
    },
    {
     "data": {
      "application/vnd.jupyter.widget-view+json": {
       "model_id": "ecc6dd419e9145e8af3f4f5cd4bc2b46",
       "version_major": 2,
       "version_minor": 0
      },
      "text/plain": [
       "Test Epoch 106/500, Test Loss: 9.574055086482655:   0%|          | 0/11 [00:00<?, ?it/s]"
      ]
     },
     "metadata": {},
     "output_type": "display_data"
    },
    {
     "data": {
      "application/vnd.jupyter.widget-view+json": {
       "model_id": "a46e99f06e9948fd94c23892fd4803f5",
       "version_major": 2,
       "version_minor": 0
      },
      "text/plain": [
       "Train Epoch 107/500, Train Loss: 0.0:   0%|          | 0/44 [00:00<?, ?it/s]"
      ]
     },
     "metadata": {},
     "output_type": "display_data"
    },
    {
     "data": {
      "application/vnd.jupyter.widget-view+json": {
       "model_id": "a19c4bb20e904704a454c71f7570e2e0",
       "version_major": 2,
       "version_minor": 0
      },
      "text/plain": [
       "Test Epoch 107/500, Test Loss: 9.574433825232767:   0%|          | 0/11 [00:00<?, ?it/s]"
      ]
     },
     "metadata": {},
     "output_type": "display_data"
    },
    {
     "data": {
      "application/vnd.jupyter.widget-view+json": {
       "model_id": "dddeb23583f143d6b8ec9e3beb3d0178",
       "version_major": 2,
       "version_minor": 0
      },
      "text/plain": [
       "Train Epoch 108/500, Train Loss: 0.0:   0%|          | 0/44 [00:00<?, ?it/s]"
      ]
     },
     "metadata": {},
     "output_type": "display_data"
    },
    {
     "data": {
      "application/vnd.jupyter.widget-view+json": {
       "model_id": "9e87fe80ef72451798701188e1fb28d4",
       "version_major": 2,
       "version_minor": 0
      },
      "text/plain": [
       "Test Epoch 108/500, Test Loss: 9.574055064808238:   0%|          | 0/11 [00:00<?, ?it/s]"
      ]
     },
     "metadata": {},
     "output_type": "display_data"
    },
    {
     "data": {
      "application/vnd.jupyter.widget-view+json": {
       "model_id": "54bbc5b512694df0ad194868be00ebd2",
       "version_major": 2,
       "version_minor": 0
      },
      "text/plain": [
       "Train Epoch 109/500, Train Loss: 0.0:   0%|          | 0/44 [00:00<?, ?it/s]"
      ]
     },
     "metadata": {},
     "output_type": "display_data"
    },
    {
     "data": {
      "application/vnd.jupyter.widget-view+json": {
       "model_id": "7b7d17b8d9764b5d97589a62da343731",
       "version_major": 2,
       "version_minor": 0
      },
      "text/plain": [
       "Test Epoch 109/500, Test Loss: 9.575191389430653:   0%|          | 0/11 [00:00<?, ?it/s]"
      ]
     },
     "metadata": {},
     "output_type": "display_data"
    },
    {
     "data": {
      "application/vnd.jupyter.widget-view+json": {
       "model_id": "9cc599d5e7a24a13be1f8d299a5156e7",
       "version_major": 2,
       "version_minor": 0
      },
      "text/plain": [
       "Train Epoch 110/500, Train Loss: 0.0:   0%|          | 0/44 [00:00<?, ?it/s]"
      ]
     },
     "metadata": {},
     "output_type": "display_data"
    },
    {
     "data": {
      "application/vnd.jupyter.widget-view+json": {
       "model_id": "0b541fcb6e0a481393c6241cad87e68c",
       "version_major": 2,
       "version_minor": 0
      },
      "text/plain": [
       "Test Epoch 110/500, Test Loss: 9.575570193204014:   0%|          | 0/11 [00:00<?, ?it/s]"
      ]
     },
     "metadata": {},
     "output_type": "display_data"
    },
    {
     "data": {
      "application/vnd.jupyter.widget-view+json": {
       "model_id": "857d101e2c6e46b49076ea3ccfda63d2",
       "version_major": 2,
       "version_minor": 0
      },
      "text/plain": [
       "Train Epoch 111/500, Train Loss: 0.0:   0%|          | 0/44 [00:00<?, ?it/s]"
      ]
     },
     "metadata": {},
     "output_type": "display_data"
    },
    {
     "data": {
      "application/vnd.jupyter.widget-view+json": {
       "model_id": "d2713975f0e346bc98158b3afae28654",
       "version_major": 2,
       "version_minor": 0
      },
      "text/plain": [
       "Test Epoch 111/500, Test Loss: 9.574433825232767:   0%|          | 0/11 [00:00<?, ?it/s]"
      ]
     },
     "metadata": {},
     "output_type": "display_data"
    },
    {
     "data": {
      "application/vnd.jupyter.widget-view+json": {
       "model_id": "7b242ec6601d46cd926216e2b54ead36",
       "version_major": 2,
       "version_minor": 0
      },
      "text/plain": [
       "Train Epoch 112/500, Train Loss: 0.0:   0%|          | 0/44 [00:00<?, ?it/s]"
      ]
     },
     "metadata": {},
     "output_type": "display_data"
    },
    {
     "data": {
      "application/vnd.jupyter.widget-view+json": {
       "model_id": "d83312e6225a498c8d796e575c637284",
       "version_major": 2,
       "version_minor": 0
      },
      "text/plain": [
       "Test Epoch 112/500, Test Loss: 9.574433825232767:   0%|          | 0/11 [00:00<?, ?it/s]"
      ]
     },
     "metadata": {},
     "output_type": "display_data"
    },
    {
     "data": {
      "application/vnd.jupyter.widget-view+json": {
       "model_id": "ee6fce3e328740329650bf962f660338",
       "version_major": 2,
       "version_minor": 0
      },
      "text/plain": [
       "Train Epoch 113/500, Train Loss: 0.0:   0%|          | 0/44 [00:00<?, ?it/s]"
      ]
     },
     "metadata": {},
     "output_type": "display_data"
    },
    {
     "data": {
      "application/vnd.jupyter.widget-view+json": {
       "model_id": "df1f590727714a52bb4ce8809e24792b",
       "version_major": 2,
       "version_minor": 0
      },
      "text/plain": [
       "Test Epoch 113/500, Test Loss: 9.574812629006125:   0%|          | 0/11 [00:00<?, ?it/s]"
      ]
     },
     "metadata": {},
     "output_type": "display_data"
    },
    {
     "data": {
      "application/vnd.jupyter.widget-view+json": {
       "model_id": "2e62ca0187a34ea49aa57da9d1690a4c",
       "version_major": 2,
       "version_minor": 0
      },
      "text/plain": [
       "Train Epoch 114/500, Train Loss: 0.0:   0%|          | 0/44 [00:00<?, ?it/s]"
      ]
     },
     "metadata": {},
     "output_type": "display_data"
    },
    {
     "data": {
      "application/vnd.jupyter.widget-view+json": {
       "model_id": "4a3fd6f88d7c4cd2b0e102c6ae00fdac",
       "version_major": 2,
       "version_minor": 0
      },
      "text/plain": [
       "Test Epoch 114/500, Test Loss: 9.572918696836991:   0%|          | 0/11 [00:00<?, ?it/s]"
      ]
     },
     "metadata": {},
     "output_type": "display_data"
    },
    {
     "data": {
      "application/vnd.jupyter.widget-view+json": {
       "model_id": "99f7e7be47034e3bbb51d5951c88cdbc",
       "version_major": 2,
       "version_minor": 0
      },
      "text/plain": [
       "Train Epoch 115/500, Train Loss: 0.0:   0%|          | 0/44 [00:00<?, ?it/s]"
      ]
     },
     "metadata": {},
     "output_type": "display_data"
    },
    {
     "data": {
      "application/vnd.jupyter.widget-view+json": {
       "model_id": "8a6b004de2244cd4a2d301ce9db9234b",
       "version_major": 2,
       "version_minor": 0
      },
      "text/plain": [
       "Test Epoch 115/500, Test Loss: 9.575191389430653:   0%|          | 0/11 [00:00<?, ?it/s]"
      ]
     },
     "metadata": {},
     "output_type": "display_data"
    },
    {
     "data": {
      "application/vnd.jupyter.widget-view+json": {
       "model_id": "609b6e90b317487ab15378d24d4444c2",
       "version_major": 2,
       "version_minor": 0
      },
      "text/plain": [
       "Train Epoch 116/500, Train Loss: 0.0:   0%|          | 0/44 [00:00<?, ?it/s]"
      ]
     },
     "metadata": {},
     "output_type": "display_data"
    },
    {
     "data": {
      "application/vnd.jupyter.widget-view+json": {
       "model_id": "e9a28afe15a14db2a37fa55d3c00ce93",
       "version_major": 2,
       "version_minor": 0
      },
      "text/plain": [
       "Test Epoch 116/500, Test Loss: 9.57481260733171:   0%|          | 0/11 [00:00<?, ?it/s]"
      ]
     },
     "metadata": {},
     "output_type": "display_data"
    },
    {
     "data": {
      "application/vnd.jupyter.widget-view+json": {
       "model_id": "ac9eb20726004127af1c1bddcb520cab",
       "version_major": 2,
       "version_minor": 0
      },
      "text/plain": [
       "Train Epoch 117/500, Train Loss: 0.0:   0%|          | 0/44 [00:00<?, ?it/s]"
      ]
     },
     "metadata": {},
     "output_type": "display_data"
    },
    {
     "data": {
      "application/vnd.jupyter.widget-view+json": {
       "model_id": "21c68c477b334e3e82e638f46c23af77",
       "version_major": 2,
       "version_minor": 0
      },
      "text/plain": [
       "Test Epoch 117/500, Test Loss: 9.57481260733171:   0%|          | 0/11 [00:00<?, ?it/s]"
      ]
     },
     "metadata": {},
     "output_type": "display_data"
    },
    {
     "data": {
      "application/vnd.jupyter.widget-view+json": {
       "model_id": "7d60df5a0e524e3d8c840975565b5364",
       "version_major": 2,
       "version_minor": 0
      },
      "text/plain": [
       "Train Epoch 118/500, Train Loss: 0.0:   0%|          | 0/44 [00:00<?, ?it/s]"
      ]
     },
     "metadata": {},
     "output_type": "display_data"
    },
    {
     "data": {
      "application/vnd.jupyter.widget-view+json": {
       "model_id": "ce23771b56e34d55a741bf2a5d90e490",
       "version_major": 2,
       "version_minor": 0
      },
      "text/plain": [
       "Test Epoch 118/500, Test Loss: 9.575191411105068:   0%|          | 0/11 [00:00<?, ?it/s]"
      ]
     },
     "metadata": {},
     "output_type": "display_data"
    },
    {
     "data": {
      "application/vnd.jupyter.widget-view+json": {
       "model_id": "1e1bb20080114b119494319ec44197f7",
       "version_major": 2,
       "version_minor": 0
      },
      "text/plain": [
       "Train Epoch 119/500, Train Loss: 0.0:   0%|          | 0/44 [00:00<?, ?it/s]"
      ]
     },
     "metadata": {},
     "output_type": "display_data"
    },
    {
     "data": {
      "application/vnd.jupyter.widget-view+json": {
       "model_id": "094eba755c9440e3828433908824bc25",
       "version_major": 2,
       "version_minor": 0
      },
      "text/plain": [
       "Test Epoch 119/500, Test Loss: 9.574055064808238:   0%|          | 0/11 [00:00<?, ?it/s]"
      ]
     },
     "metadata": {},
     "output_type": "display_data"
    },
    {
     "data": {
      "application/vnd.jupyter.widget-view+json": {
       "model_id": "03f1b5b11b37433ba6d95727df6ff906",
       "version_major": 2,
       "version_minor": 0
      },
      "text/plain": [
       "Train Epoch 120/500, Train Loss: 0.0:   0%|          | 0/44 [00:00<?, ?it/s]"
      ]
     },
     "metadata": {},
     "output_type": "display_data"
    },
    {
     "data": {
      "application/vnd.jupyter.widget-view+json": {
       "model_id": "fb078cdca22648c085d5dd54154708fd",
       "version_major": 2,
       "version_minor": 0
      },
      "text/plain": [
       "Test Epoch 120/500, Test Loss: 9.575191389430653:   0%|          | 0/11 [00:00<?, ?it/s]"
      ]
     },
     "metadata": {},
     "output_type": "display_data"
    },
    {
     "data": {
      "application/vnd.jupyter.widget-view+json": {
       "model_id": "682f6ec093c946cab489726f345b6d85",
       "version_major": 2,
       "version_minor": 0
      },
      "text/plain": [
       "Train Epoch 121/500, Train Loss: 0.0:   0%|          | 0/44 [00:00<?, ?it/s]"
      ]
     },
     "metadata": {},
     "output_type": "display_data"
    },
    {
     "data": {
      "application/vnd.jupyter.widget-view+json": {
       "model_id": "4670e967842f4604b16888f4fc7313a5",
       "version_major": 2,
       "version_minor": 0
      },
      "text/plain": [
       "Test Epoch 121/500, Test Loss: 9.572918675162576:   0%|          | 0/11 [00:00<?, ?it/s]"
      ]
     },
     "metadata": {},
     "output_type": "display_data"
    },
    {
     "data": {
      "application/vnd.jupyter.widget-view+json": {
       "model_id": "8ed1c5ae61aa43f1906242761f9a756d",
       "version_major": 2,
       "version_minor": 0
      },
      "text/plain": [
       "Train Epoch 122/500, Train Loss: 0.0:   0%|          | 0/44 [00:00<?, ?it/s]"
      ]
     },
     "metadata": {},
     "output_type": "display_data"
    },
    {
     "data": {
      "application/vnd.jupyter.widget-view+json": {
       "model_id": "ad3417b99c8d414483b0243bf19a4ea0",
       "version_major": 2,
       "version_minor": 0
      },
      "text/plain": [
       "Test Epoch 122/500, Test Loss: 9.574055043133823:   0%|          | 0/11 [00:00<?, ?it/s]"
      ]
     },
     "metadata": {},
     "output_type": "display_data"
    },
    {
     "data": {
      "application/vnd.jupyter.widget-view+json": {
       "model_id": "49dc4e585a0749238c4c34c87bd9a204",
       "version_major": 2,
       "version_minor": 0
      },
      "text/plain": [
       "Train Epoch 123/500, Train Loss: 0.0:   0%|          | 0/44 [00:00<?, ?it/s]"
      ]
     },
     "metadata": {},
     "output_type": "display_data"
    },
    {
     "data": {
      "application/vnd.jupyter.widget-view+json": {
       "model_id": "63c2cb71902341c483f39a74934ed415",
       "version_major": 2,
       "version_minor": 0
      },
      "text/plain": [
       "Test Epoch 123/500, Test Loss: 9.575191432779485:   0%|          | 0/11 [00:00<?, ?it/s]"
      ]
     },
     "metadata": {},
     "output_type": "display_data"
    },
    {
     "data": {
      "application/vnd.jupyter.widget-view+json": {
       "model_id": "21b8336d0de74335a9753b66068c8948",
       "version_major": 2,
       "version_minor": 0
      },
      "text/plain": [
       "Train Epoch 124/500, Train Loss: 0.0:   0%|          | 0/44 [00:00<?, ?it/s]"
      ]
     },
     "metadata": {},
     "output_type": "display_data"
    },
    {
     "data": {
      "application/vnd.jupyter.widget-view+json": {
       "model_id": "46a5090008914d228af7be60db516696",
       "version_major": 2,
       "version_minor": 0
      },
      "text/plain": [
       "Test Epoch 124/500, Test Loss: 9.574055043133823:   0%|          | 0/11 [00:00<?, ?it/s]"
      ]
     },
     "metadata": {},
     "output_type": "display_data"
    },
    {
     "data": {
      "application/vnd.jupyter.widget-view+json": {
       "model_id": "4550ec097c49443289326e7aee236141",
       "version_major": 2,
       "version_minor": 0
      },
      "text/plain": [
       "Train Epoch 125/500, Train Loss: 0.0:   0%|          | 0/44 [00:00<?, ?it/s]"
      ]
     },
     "metadata": {},
     "output_type": "display_data"
    },
    {
     "data": {
      "application/vnd.jupyter.widget-view+json": {
       "model_id": "0d64e780e77e49cf9ddedf618ca3a321",
       "version_major": 2,
       "version_minor": 0
      },
      "text/plain": [
       "Test Epoch 125/500, Test Loss: 9.574433846907182:   0%|          | 0/11 [00:00<?, ?it/s]"
      ]
     },
     "metadata": {},
     "output_type": "display_data"
    },
    {
     "data": {
      "application/vnd.jupyter.widget-view+json": {
       "model_id": "3f7c5435995a4a51a162728e2522eacc",
       "version_major": 2,
       "version_minor": 0
      },
      "text/plain": [
       "Train Epoch 126/500, Train Loss: 0.0:   0%|          | 0/44 [00:00<?, ?it/s]"
      ]
     },
     "metadata": {},
     "output_type": "display_data"
    },
    {
     "data": {
      "application/vnd.jupyter.widget-view+json": {
       "model_id": "bc0b5b8c417542cc9a85ed8a2955ac90",
       "version_major": 2,
       "version_minor": 0
      },
      "text/plain": [
       "Test Epoch 126/500, Test Loss: 9.57481260733171:   0%|          | 0/11 [00:00<?, ?it/s]"
      ]
     },
     "metadata": {},
     "output_type": "display_data"
    },
    {
     "data": {
      "application/vnd.jupyter.widget-view+json": {
       "model_id": "a2737907603b4970b3edf05ab012d891",
       "version_major": 2,
       "version_minor": 0
      },
      "text/plain": [
       "Train Epoch 127/500, Train Loss: 0.0:   0%|          | 0/44 [00:00<?, ?it/s]"
      ]
     },
     "metadata": {},
     "output_type": "display_data"
    },
    {
     "data": {
      "application/vnd.jupyter.widget-view+json": {
       "model_id": "663466129e8744f9abe9d48cc4455215",
       "version_major": 2,
       "version_minor": 0
      },
      "text/plain": [
       "Test Epoch 127/500, Test Loss: 9.575191389430653:   0%|          | 0/11 [00:00<?, ?it/s]"
      ]
     },
     "metadata": {},
     "output_type": "display_data"
    },
    {
     "data": {
      "application/vnd.jupyter.widget-view+json": {
       "model_id": "00e0409c3241424baaff44cb97c53793",
       "version_major": 2,
       "version_minor": 0
      },
      "text/plain": [
       "Train Epoch 128/500, Train Loss: 0.0:   0%|          | 0/44 [00:00<?, ?it/s]"
      ]
     },
     "metadata": {},
     "output_type": "display_data"
    },
    {
     "data": {
      "application/vnd.jupyter.widget-view+json": {
       "model_id": "58647965ddba4416a8b079497f93bc32",
       "version_major": 2,
       "version_minor": 0
      },
      "text/plain": [
       "Test Epoch 128/500, Test Loss: 9.575191389430653:   0%|          | 0/11 [00:00<?, ?it/s]"
      ]
     },
     "metadata": {},
     "output_type": "display_data"
    },
    {
     "data": {
      "application/vnd.jupyter.widget-view+json": {
       "model_id": "2f6c09008f504f4180b17ae4a63f30e0",
       "version_major": 2,
       "version_minor": 0
      },
      "text/plain": [
       "Train Epoch 129/500, Train Loss: 0.0:   0%|          | 0/44 [00:00<?, ?it/s]"
      ]
     },
     "metadata": {},
     "output_type": "display_data"
    },
    {
     "data": {
      "application/vnd.jupyter.widget-view+json": {
       "model_id": "4ff8b0f9aba94c28aa461db0f58ed404",
       "version_major": 2,
       "version_minor": 0
      },
      "text/plain": [
       "Test Epoch 129/500, Test Loss: 9.575191432779485:   0%|          | 0/11 [00:00<?, ?it/s]"
      ]
     },
     "metadata": {},
     "output_type": "display_data"
    },
    {
     "data": {
      "application/vnd.jupyter.widget-view+json": {
       "model_id": "5f3d3a5b409543598a4e099b2a631afb",
       "version_major": 2,
       "version_minor": 0
      },
      "text/plain": [
       "Train Epoch 130/500, Train Loss: 0.0:   0%|          | 0/44 [00:00<?, ?it/s]"
      ]
     },
     "metadata": {},
     "output_type": "display_data"
    },
    {
     "data": {
      "application/vnd.jupyter.widget-view+json": {
       "model_id": "431f41bf870a4b488c35382b1e7d38f6",
       "version_major": 2,
       "version_minor": 0
      },
      "text/plain": [
       "Test Epoch 130/500, Test Loss: 9.573676261034878:   0%|          | 0/11 [00:00<?, ?it/s]"
      ]
     },
     "metadata": {},
     "output_type": "display_data"
    },
    {
     "data": {
      "application/vnd.jupyter.widget-view+json": {
       "model_id": "09a180a9169c42b5b733c6006e11841c",
       "version_major": 2,
       "version_minor": 0
      },
      "text/plain": [
       "Train Epoch 131/500, Train Loss: 0.0:   0%|          | 0/44 [00:00<?, ?it/s]"
      ]
     },
     "metadata": {},
     "output_type": "display_data"
    },
    {
     "data": {
      "application/vnd.jupyter.widget-view+json": {
       "model_id": "ca87de64c3344bcd9ad9b9545064157b",
       "version_major": 2,
       "version_minor": 0
      },
      "text/plain": [
       "Test Epoch 131/500, Test Loss: 9.57481260733171:   0%|          | 0/11 [00:00<?, ?it/s]"
      ]
     },
     "metadata": {},
     "output_type": "display_data"
    },
    {
     "data": {
      "application/vnd.jupyter.widget-view+json": {
       "model_id": "2b0a16530ac9453ea49d319230b3dc5d",
       "version_major": 2,
       "version_minor": 0
      },
      "text/plain": [
       "Train Epoch 132/500, Train Loss: 0.0:   0%|          | 0/44 [00:00<?, ?it/s]"
      ]
     },
     "metadata": {},
     "output_type": "display_data"
    },
    {
     "data": {
      "application/vnd.jupyter.widget-view+json": {
       "model_id": "f91c99ae5c71498290dc43c69ddfdd61",
       "version_major": 2,
       "version_minor": 0
      },
      "text/plain": [
       "Test Epoch 132/500, Test Loss: 9.574433846907182:   0%|          | 0/11 [00:00<?, ?it/s]"
      ]
     },
     "metadata": {},
     "output_type": "display_data"
    },
    {
     "data": {
      "application/vnd.jupyter.widget-view+json": {
       "model_id": "289311e70ca74816919c495f8e256622",
       "version_major": 2,
       "version_minor": 0
      },
      "text/plain": [
       "Train Epoch 133/500, Train Loss: 0.0:   0%|          | 0/44 [00:00<?, ?it/s]"
      ]
     },
     "metadata": {},
     "output_type": "display_data"
    },
    {
     "data": {
      "application/vnd.jupyter.widget-view+json": {
       "model_id": "cd5a497c040f4e38bcfbcfec8342dd50",
       "version_major": 2,
       "version_minor": 0
      },
      "text/plain": [
       "Test Epoch 133/500, Test Loss: 9.574433825232767:   0%|          | 0/11 [00:00<?, ?it/s]"
      ]
     },
     "metadata": {},
     "output_type": "display_data"
    },
    {
     "data": {
      "application/vnd.jupyter.widget-view+json": {
       "model_id": "aa197783aee84212ac44665862b73afc",
       "version_major": 2,
       "version_minor": 0
      },
      "text/plain": [
       "Train Epoch 134/500, Train Loss: 0.0:   0%|          | 0/44 [00:00<?, ?it/s]"
      ]
     },
     "metadata": {},
     "output_type": "display_data"
    },
    {
     "data": {
      "application/vnd.jupyter.widget-view+json": {
       "model_id": "b0140aa1086f4d25a30de64c451f99a7",
       "version_major": 2,
       "version_minor": 0
      },
      "text/plain": [
       "Test Epoch 134/500, Test Loss: 9.574433825232767:   0%|          | 0/11 [00:00<?, ?it/s]"
      ]
     },
     "metadata": {},
     "output_type": "display_data"
    },
    {
     "data": {
      "application/vnd.jupyter.widget-view+json": {
       "model_id": "f436d3feabbf4bd8828ee14cc07882dd",
       "version_major": 2,
       "version_minor": 0
      },
      "text/plain": [
       "Train Epoch 135/500, Train Loss: 0.0:   0%|          | 0/44 [00:00<?, ?it/s]"
      ]
     },
     "metadata": {},
     "output_type": "display_data"
    },
    {
     "data": {
      "application/vnd.jupyter.widget-view+json": {
       "model_id": "fcd541c3d4304cfeb4d8f087cd92aaf2",
       "version_major": 2,
       "version_minor": 0
      },
      "text/plain": [
       "Test Epoch 135/500, Test Loss: 9.575191432779485:   0%|          | 0/11 [00:00<?, ?it/s]"
      ]
     },
     "metadata": {},
     "output_type": "display_data"
    },
    {
     "data": {
      "application/vnd.jupyter.widget-view+json": {
       "model_id": "f9d7a7c6974f43f8a1443c1e866cbf52",
       "version_major": 2,
       "version_minor": 0
      },
      "text/plain": [
       "Train Epoch 136/500, Train Loss: 0.0:   0%|          | 0/44 [00:00<?, ?it/s]"
      ]
     },
     "metadata": {},
     "output_type": "display_data"
    },
    {
     "data": {
      "application/vnd.jupyter.widget-view+json": {
       "model_id": "72f46ce7f61345729df9da4425f46284",
       "version_major": 2,
       "version_minor": 0
      },
      "text/plain": [
       "Test Epoch 136/500, Test Loss: 9.574812629006125:   0%|          | 0/11 [00:00<?, ?it/s]"
      ]
     },
     "metadata": {},
     "output_type": "display_data"
    },
    {
     "data": {
      "application/vnd.jupyter.widget-view+json": {
       "model_id": "9bd767a6da5a4c90961cc5f9f04792b6",
       "version_major": 2,
       "version_minor": 0
      },
      "text/plain": [
       "Train Epoch 137/500, Train Loss: 0.0:   0%|          | 0/44 [00:00<?, ?it/s]"
      ]
     },
     "metadata": {},
     "output_type": "display_data"
    },
    {
     "data": {
      "application/vnd.jupyter.widget-view+json": {
       "model_id": "23f5d77a552248f4adbfb12c64cff0fd",
       "version_major": 2,
       "version_minor": 0
      },
      "text/plain": [
       "Test Epoch 137/500, Test Loss: 9.573676261034878:   0%|          | 0/11 [00:00<?, ?it/s]"
      ]
     },
     "metadata": {},
     "output_type": "display_data"
    },
    {
     "data": {
      "application/vnd.jupyter.widget-view+json": {
       "model_id": "cbd3fd99b2f84442a999f8fe8a141326",
       "version_major": 2,
       "version_minor": 0
      },
      "text/plain": [
       "Train Epoch 138/500, Train Loss: 0.0:   0%|          | 0/44 [00:00<?, ?it/s]"
      ]
     },
     "metadata": {},
     "output_type": "display_data"
    },
    {
     "data": {
      "application/vnd.jupyter.widget-view+json": {
       "model_id": "b952e1ae6cab453e97d5a0ddbc7702c2",
       "version_major": 2,
       "version_minor": 0
      },
      "text/plain": [
       "Test Epoch 138/500, Test Loss: 9.575191389430653:   0%|          | 0/11 [00:00<?, ?it/s]"
      ]
     },
     "metadata": {},
     "output_type": "display_data"
    },
    {
     "data": {
      "application/vnd.jupyter.widget-view+json": {
       "model_id": "87194e1c42ec4887a4289b39eaf5884b",
       "version_major": 2,
       "version_minor": 0
      },
      "text/plain": [
       "Train Epoch 139/500, Train Loss: 0.0:   0%|          | 0/44 [00:00<?, ?it/s]"
      ]
     },
     "metadata": {},
     "output_type": "display_data"
    },
    {
     "data": {
      "application/vnd.jupyter.widget-view+json": {
       "model_id": "9b5b320f4bba4407a0a3f96cd07a4bae",
       "version_major": 2,
       "version_minor": 0
      },
      "text/plain": [
       "Test Epoch 139/500, Test Loss: 9.575570214878429:   0%|          | 0/11 [00:00<?, ?it/s]"
      ]
     },
     "metadata": {},
     "output_type": "display_data"
    },
    {
     "data": {
      "application/vnd.jupyter.widget-view+json": {
       "model_id": "5ef69f15120648868aa81c7c4c469249",
       "version_major": 2,
       "version_minor": 0
      },
      "text/plain": [
       "Train Epoch 140/500, Train Loss: 0.0:   0%|          | 0/44 [00:00<?, ?it/s]"
      ]
     },
     "metadata": {},
     "output_type": "display_data"
    },
    {
     "data": {
      "application/vnd.jupyter.widget-view+json": {
       "model_id": "9e36af6cbd64437289d0183243153324",
       "version_major": 2,
       "version_minor": 0
      },
      "text/plain": [
       "Test Epoch 140/500, Test Loss: 9.574433846907182:   0%|          | 0/11 [00:00<?, ?it/s]"
      ]
     },
     "metadata": {},
     "output_type": "display_data"
    },
    {
     "data": {
      "application/vnd.jupyter.widget-view+json": {
       "model_id": "34456c814dea4fadbfaae61de8a53ec3",
       "version_major": 2,
       "version_minor": 0
      },
      "text/plain": [
       "Train Epoch 141/500, Train Loss: 0.0:   0%|          | 0/44 [00:00<?, ?it/s]"
      ]
     },
     "metadata": {},
     "output_type": "display_data"
    },
    {
     "data": {
      "application/vnd.jupyter.widget-view+json": {
       "model_id": "132020559a924556a398f6a067da084a",
       "version_major": 2,
       "version_minor": 0
      },
      "text/plain": [
       "Test Epoch 141/500, Test Loss: 9.574433846907182:   0%|          | 0/11 [00:00<?, ?it/s]"
      ]
     },
     "metadata": {},
     "output_type": "display_data"
    },
    {
     "data": {
      "application/vnd.jupyter.widget-view+json": {
       "model_id": "9f7137134ab04606acfbe10c1df6898b",
       "version_major": 2,
       "version_minor": 0
      },
      "text/plain": [
       "Train Epoch 142/500, Train Loss: 0.0:   0%|          | 0/44 [00:00<?, ?it/s]"
      ]
     },
     "metadata": {},
     "output_type": "display_data"
    },
    {
     "data": {
      "application/vnd.jupyter.widget-view+json": {
       "model_id": "dce8318b7ed44adfa3b28e75c7f3ed0c",
       "version_major": 2,
       "version_minor": 0
      },
      "text/plain": [
       "Test Epoch 142/500, Test Loss: 9.575570193204014:   0%|          | 0/11 [00:00<?, ?it/s]"
      ]
     },
     "metadata": {},
     "output_type": "display_data"
    },
    {
     "data": {
      "application/vnd.jupyter.widget-view+json": {
       "model_id": "8685739793f5419b9ad2590be57ee464",
       "version_major": 2,
       "version_minor": 0
      },
      "text/plain": [
       "Train Epoch 143/500, Train Loss: 0.0:   0%|          | 0/44 [00:00<?, ?it/s]"
      ]
     },
     "metadata": {},
     "output_type": "display_data"
    },
    {
     "data": {
      "application/vnd.jupyter.widget-view+json": {
       "model_id": "32c93ad9e927417a9bdf262fd9e20608",
       "version_major": 2,
       "version_minor": 0
      },
      "text/plain": [
       "Test Epoch 143/500, Test Loss: 9.574812629006125:   0%|          | 0/11 [00:00<?, ?it/s]"
      ]
     },
     "metadata": {},
     "output_type": "display_data"
    },
    {
     "data": {
      "application/vnd.jupyter.widget-view+json": {
       "model_id": "569690bbe1b640d4ad671d45502d5c19",
       "version_major": 2,
       "version_minor": 0
      },
      "text/plain": [
       "Train Epoch 144/500, Train Loss: 0.0:   0%|          | 0/44 [00:00<?, ?it/s]"
      ]
     },
     "metadata": {},
     "output_type": "display_data"
    },
    {
     "data": {
      "application/vnd.jupyter.widget-view+json": {
       "model_id": "3367baa71f544edfafdb3c56810bffb4",
       "version_major": 2,
       "version_minor": 0
      },
      "text/plain": [
       "Test Epoch 144/500, Test Loss: 9.575570214878429:   0%|          | 0/11 [00:00<?, ?it/s]"
      ]
     },
     "metadata": {},
     "output_type": "display_data"
    },
    {
     "data": {
      "application/vnd.jupyter.widget-view+json": {
       "model_id": "5ffaf1c975f7404d9836dc155ea004d1",
       "version_major": 2,
       "version_minor": 0
      },
      "text/plain": [
       "Train Epoch 145/500, Train Loss: 0.0:   0%|          | 0/44 [00:00<?, ?it/s]"
      ]
     },
     "metadata": {},
     "output_type": "display_data"
    },
    {
     "data": {
      "application/vnd.jupyter.widget-view+json": {
       "model_id": "8c7990f564054140802b3ec8a76b2617",
       "version_major": 2,
       "version_minor": 0
      },
      "text/plain": [
       "Test Epoch 145/500, Test Loss: 9.57481260733171:   0%|          | 0/11 [00:00<?, ?it/s]"
      ]
     },
     "metadata": {},
     "output_type": "display_data"
    },
    {
     "data": {
      "application/vnd.jupyter.widget-view+json": {
       "model_id": "a49f15c3fcf046828afc48beb4a60edb",
       "version_major": 2,
       "version_minor": 0
      },
      "text/plain": [
       "Train Epoch 146/500, Train Loss: 0.0:   0%|          | 0/44 [00:00<?, ?it/s]"
      ]
     },
     "metadata": {},
     "output_type": "display_data"
    },
    {
     "data": {
      "application/vnd.jupyter.widget-view+json": {
       "model_id": "b0991f773d3340f2a8ef17584b0d6373",
       "version_major": 2,
       "version_minor": 0
      },
      "text/plain": [
       "Test Epoch 146/500, Test Loss: 9.574055064808238:   0%|          | 0/11 [00:00<?, ?it/s]"
      ]
     },
     "metadata": {},
     "output_type": "display_data"
    },
    {
     "data": {
      "application/vnd.jupyter.widget-view+json": {
       "model_id": "9805a0fd62194a9a9b2e331e3a10d516",
       "version_major": 2,
       "version_minor": 0
      },
      "text/plain": [
       "Train Epoch 147/500, Train Loss: 0.0:   0%|          | 0/44 [00:00<?, ?it/s]"
      ]
     },
     "metadata": {},
     "output_type": "display_data"
    },
    {
     "data": {
      "application/vnd.jupyter.widget-view+json": {
       "model_id": "adb2d570fc2a44b8a417dc1b52c190eb",
       "version_major": 2,
       "version_minor": 0
      },
      "text/plain": [
       "Test Epoch 147/500, Test Loss: 9.575191389430653:   0%|          | 0/11 [00:00<?, ?it/s]"
      ]
     },
     "metadata": {},
     "output_type": "display_data"
    },
    {
     "data": {
      "application/vnd.jupyter.widget-view+json": {
       "model_id": "44098aaba34944bea3a6a6ac81211ed0",
       "version_major": 2,
       "version_minor": 0
      },
      "text/plain": [
       "Train Epoch 148/500, Train Loss: 0.0:   0%|          | 0/44 [00:00<?, ?it/s]"
      ]
     },
     "metadata": {},
     "output_type": "display_data"
    },
    {
     "data": {
      "application/vnd.jupyter.widget-view+json": {
       "model_id": "2aa0959c217445618c43e61627004a64",
       "version_major": 2,
       "version_minor": 0
      },
      "text/plain": [
       "Test Epoch 148/500, Test Loss: 9.575570193204014:   0%|          | 0/11 [00:00<?, ?it/s]"
      ]
     },
     "metadata": {},
     "output_type": "display_data"
    },
    {
     "data": {
      "application/vnd.jupyter.widget-view+json": {
       "model_id": "78d6d49379114f56b9e396afff3196ee",
       "version_major": 2,
       "version_minor": 0
      },
      "text/plain": [
       "Train Epoch 149/500, Train Loss: 0.0:   0%|          | 0/44 [00:00<?, ?it/s]"
      ]
     },
     "metadata": {},
     "output_type": "display_data"
    },
    {
     "data": {
      "application/vnd.jupyter.widget-view+json": {
       "model_id": "eda192ad612148659e75bff0109c70c8",
       "version_major": 2,
       "version_minor": 0
      },
      "text/plain": [
       "Test Epoch 149/500, Test Loss: 9.574433825232767:   0%|          | 0/11 [00:00<?, ?it/s]"
      ]
     },
     "metadata": {},
     "output_type": "display_data"
    },
    {
     "data": {
      "application/vnd.jupyter.widget-view+json": {
       "model_id": "2b05cadacb61432e84c9c99b25ccd40c",
       "version_major": 2,
       "version_minor": 0
      },
      "text/plain": [
       "Train Epoch 150/500, Train Loss: 0.0:   0%|          | 0/44 [00:00<?, ?it/s]"
      ]
     },
     "metadata": {},
     "output_type": "display_data"
    },
    {
     "data": {
      "application/vnd.jupyter.widget-view+json": {
       "model_id": "cacf29e501dd4e0eb4642114666b1ed4",
       "version_major": 2,
       "version_minor": 0
      },
      "text/plain": [
       "Test Epoch 150/500, Test Loss: 9.575570193204014:   0%|          | 0/11 [00:00<?, ?it/s]"
      ]
     },
     "metadata": {},
     "output_type": "display_data"
    },
    {
     "data": {
      "application/vnd.jupyter.widget-view+json": {
       "model_id": "a6e7a51408164824bae3985b75e2f338",
       "version_major": 2,
       "version_minor": 0
      },
      "text/plain": [
       "Train Epoch 151/500, Train Loss: 0.0:   0%|          | 0/44 [00:00<?, ?it/s]"
      ]
     },
     "metadata": {},
     "output_type": "display_data"
    },
    {
     "data": {
      "application/vnd.jupyter.widget-view+json": {
       "model_id": "ebb9de64aec64338aed40cc03048c814",
       "version_major": 2,
       "version_minor": 0
      },
      "text/plain": [
       "Test Epoch 151/500, Test Loss: 9.574055043133823:   0%|          | 0/11 [00:00<?, ?it/s]"
      ]
     },
     "metadata": {},
     "output_type": "display_data"
    },
    {
     "data": {
      "application/vnd.jupyter.widget-view+json": {
       "model_id": "81adf76e7de342e1a2f08dd77fda4db0",
       "version_major": 2,
       "version_minor": 0
      },
      "text/plain": [
       "Train Epoch 152/500, Train Loss: 0.0:   0%|          | 0/44 [00:00<?, ?it/s]"
      ]
     },
     "metadata": {},
     "output_type": "display_data"
    },
    {
     "data": {
      "application/vnd.jupyter.widget-view+json": {
       "model_id": "3af3160692824af2a391b38e450637c6",
       "version_major": 2,
       "version_minor": 0
      },
      "text/plain": [
       "Test Epoch 152/500, Test Loss: 9.573297478935935:   0%|          | 0/11 [00:00<?, ?it/s]"
      ]
     },
     "metadata": {},
     "output_type": "display_data"
    },
    {
     "data": {
      "application/vnd.jupyter.widget-view+json": {
       "model_id": "f1faaa62d3a84bd9b9e32f9cfc505f68",
       "version_major": 2,
       "version_minor": 0
      },
      "text/plain": [
       "Train Epoch 153/500, Train Loss: 0.0:   0%|          | 0/44 [00:00<?, ?it/s]"
      ]
     },
     "metadata": {},
     "output_type": "display_data"
    },
    {
     "data": {
      "application/vnd.jupyter.widget-view+json": {
       "model_id": "dce7bb80e38c4c888799ab79a3f5aa2f",
       "version_major": 2,
       "version_minor": 0
      },
      "text/plain": [
       "Test Epoch 153/500, Test Loss: 9.575191389430653:   0%|          | 0/11 [00:00<?, ?it/s]"
      ]
     },
     "metadata": {},
     "output_type": "display_data"
    },
    {
     "data": {
      "application/vnd.jupyter.widget-view+json": {
       "model_id": "f8cd2898664f4f20ac341467bf368a0e",
       "version_major": 2,
       "version_minor": 0
      },
      "text/plain": [
       "Train Epoch 154/500, Train Loss: 0.0:   0%|          | 0/44 [00:00<?, ?it/s]"
      ]
     },
     "metadata": {},
     "output_type": "display_data"
    },
    {
     "data": {
      "application/vnd.jupyter.widget-view+json": {
       "model_id": "e08b2610c7f84a28912192568b94401b",
       "version_major": 2,
       "version_minor": 0
      },
      "text/plain": [
       "Test Epoch 154/500, Test Loss: 9.574433846907182:   0%|          | 0/11 [00:00<?, ?it/s]"
      ]
     },
     "metadata": {},
     "output_type": "display_data"
    },
    {
     "data": {
      "application/vnd.jupyter.widget-view+json": {
       "model_id": "681857cb58784bfe9edf6d1f5495dfa2",
       "version_major": 2,
       "version_minor": 0
      },
      "text/plain": [
       "Train Epoch 155/500, Train Loss: 0.0:   0%|          | 0/44 [00:00<?, ?it/s]"
      ]
     },
     "metadata": {},
     "output_type": "display_data"
    },
    {
     "data": {
      "application/vnd.jupyter.widget-view+json": {
       "model_id": "7a6b7dd06419423cb49b079b9b7810a6",
       "version_major": 2,
       "version_minor": 0
      },
      "text/plain": [
       "Test Epoch 155/500, Test Loss: 9.574812629006125:   0%|          | 0/11 [00:00<?, ?it/s]"
      ]
     },
     "metadata": {},
     "output_type": "display_data"
    },
    {
     "data": {
      "application/vnd.jupyter.widget-view+json": {
       "model_id": "57bcf11a36084725a23eb3a0afeae185",
       "version_major": 2,
       "version_minor": 0
      },
      "text/plain": [
       "Train Epoch 156/500, Train Loss: 0.0:   0%|          | 0/44 [00:00<?, ?it/s]"
      ]
     },
     "metadata": {},
     "output_type": "display_data"
    },
    {
     "data": {
      "application/vnd.jupyter.widget-view+json": {
       "model_id": "c30eaec2bb98445a81ac26a0c71a6bb4",
       "version_major": 2,
       "version_minor": 0
      },
      "text/plain": [
       "Test Epoch 156/500, Test Loss: 9.57481260733171:   0%|          | 0/11 [00:00<?, ?it/s]"
      ]
     },
     "metadata": {},
     "output_type": "display_data"
    },
    {
     "data": {
      "application/vnd.jupyter.widget-view+json": {
       "model_id": "01ec8536b2b0418782271959e1235f75",
       "version_major": 2,
       "version_minor": 0
      },
      "text/plain": [
       "Train Epoch 157/500, Train Loss: 0.0:   0%|          | 0/44 [00:00<?, ?it/s]"
      ]
     },
     "metadata": {},
     "output_type": "display_data"
    },
    {
     "data": {
      "application/vnd.jupyter.widget-view+json": {
       "model_id": "823fdbee4b0d4da68dc05045d4d83da0",
       "version_major": 2,
       "version_minor": 0
      },
      "text/plain": [
       "Test Epoch 157/500, Test Loss: 9.574812629006125:   0%|          | 0/11 [00:00<?, ?it/s]"
      ]
     },
     "metadata": {},
     "output_type": "display_data"
    },
    {
     "data": {
      "application/vnd.jupyter.widget-view+json": {
       "model_id": "54c72536460d43c1905357aa7b4b8288",
       "version_major": 2,
       "version_minor": 0
      },
      "text/plain": [
       "Train Epoch 158/500, Train Loss: 0.0:   0%|          | 0/44 [00:00<?, ?it/s]"
      ]
     },
     "metadata": {},
     "output_type": "display_data"
    },
    {
     "data": {
      "application/vnd.jupyter.widget-view+json": {
       "model_id": "4b59f8cac82749bd9195631ef258ca66",
       "version_major": 2,
       "version_minor": 0
      },
      "text/plain": [
       "Test Epoch 158/500, Test Loss: 9.574433825232767:   0%|          | 0/11 [00:00<?, ?it/s]"
      ]
     },
     "metadata": {},
     "output_type": "display_data"
    },
    {
     "data": {
      "application/vnd.jupyter.widget-view+json": {
       "model_id": "8e965e0142074977b826397e33b50eb1",
       "version_major": 2,
       "version_minor": 0
      },
      "text/plain": [
       "Train Epoch 159/500, Train Loss: 0.0:   0%|          | 0/44 [00:00<?, ?it/s]"
      ]
     },
     "metadata": {},
     "output_type": "display_data"
    },
    {
     "data": {
      "application/vnd.jupyter.widget-view+json": {
       "model_id": "3aa3a0079ad346bc8ecbac2ca9ca8f26",
       "version_major": 2,
       "version_minor": 0
      },
      "text/plain": [
       "Test Epoch 159/500, Test Loss: 9.574433846907182:   0%|          | 0/11 [00:00<?, ?it/s]"
      ]
     },
     "metadata": {},
     "output_type": "display_data"
    },
    {
     "data": {
      "application/vnd.jupyter.widget-view+json": {
       "model_id": "cac653b2071d42318766010de2c165f4",
       "version_major": 2,
       "version_minor": 0
      },
      "text/plain": [
       "Train Epoch 160/500, Train Loss: 0.0:   0%|          | 0/44 [00:00<?, ?it/s]"
      ]
     },
     "metadata": {},
     "output_type": "display_data"
    },
    {
     "data": {
      "application/vnd.jupyter.widget-view+json": {
       "model_id": "cebce39293c5497ca38abc8348161f4d",
       "version_major": 2,
       "version_minor": 0
      },
      "text/plain": [
       "Test Epoch 160/500, Test Loss: 9.574812629006125:   0%|          | 0/11 [00:00<?, ?it/s]"
      ]
     },
     "metadata": {},
     "output_type": "display_data"
    },
    {
     "data": {
      "application/vnd.jupyter.widget-view+json": {
       "model_id": "4338bc134b324990bc8e9020f6877c6a",
       "version_major": 2,
       "version_minor": 0
      },
      "text/plain": [
       "Train Epoch 161/500, Train Loss: 0.0:   0%|          | 0/44 [00:00<?, ?it/s]"
      ]
     },
     "metadata": {},
     "output_type": "display_data"
    },
    {
     "data": {
      "application/vnd.jupyter.widget-view+json": {
       "model_id": "e1c3caf5709c4f66a51b57d94c3a8b48",
       "version_major": 2,
       "version_minor": 0
      },
      "text/plain": [
       "Test Epoch 161/500, Test Loss: 9.575191389430653:   0%|          | 0/11 [00:00<?, ?it/s]"
      ]
     },
     "metadata": {},
     "output_type": "display_data"
    },
    {
     "data": {
      "application/vnd.jupyter.widget-view+json": {
       "model_id": "9369976b68ef483d9eb283efb193bbdf",
       "version_major": 2,
       "version_minor": 0
      },
      "text/plain": [
       "Train Epoch 162/500, Train Loss: 0.0:   0%|          | 0/44 [00:00<?, ?it/s]"
      ]
     },
     "metadata": {},
     "output_type": "display_data"
    },
    {
     "data": {
      "application/vnd.jupyter.widget-view+json": {
       "model_id": "1244f5bab4654701ac2453b584cf1e4e",
       "version_major": 2,
       "version_minor": 0
      },
      "text/plain": [
       "Test Epoch 162/500, Test Loss: 9.575191389430653:   0%|          | 0/11 [00:00<?, ?it/s]"
      ]
     },
     "metadata": {},
     "output_type": "display_data"
    },
    {
     "data": {
      "application/vnd.jupyter.widget-view+json": {
       "model_id": "41e5daed8e4e4e979b26fd59ede15088",
       "version_major": 2,
       "version_minor": 0
      },
      "text/plain": [
       "Train Epoch 163/500, Train Loss: 0.0:   0%|          | 0/44 [00:00<?, ?it/s]"
      ]
     },
     "metadata": {},
     "output_type": "display_data"
    },
    {
     "data": {
      "application/vnd.jupyter.widget-view+json": {
       "model_id": "2bf452e4f72d408da687b4edf2ceecad",
       "version_major": 2,
       "version_minor": 0
      },
      "text/plain": [
       "Test Epoch 163/500, Test Loss: 9.574433846907182:   0%|          | 0/11 [00:00<?, ?it/s]"
      ]
     },
     "metadata": {},
     "output_type": "display_data"
    },
    {
     "data": {
      "application/vnd.jupyter.widget-view+json": {
       "model_id": "396be39363b144f7b813ea8299d27639",
       "version_major": 2,
       "version_minor": 0
      },
      "text/plain": [
       "Train Epoch 164/500, Train Loss: 0.0:   0%|          | 0/44 [00:00<?, ?it/s]"
      ]
     },
     "metadata": {},
     "output_type": "display_data"
    },
    {
     "data": {
      "application/vnd.jupyter.widget-view+json": {
       "model_id": "e169bf577d23400b9b947c01218769d5",
       "version_major": 2,
       "version_minor": 0
      },
      "text/plain": [
       "Test Epoch 164/500, Test Loss: 9.574812629006125:   0%|          | 0/11 [00:00<?, ?it/s]"
      ]
     },
     "metadata": {},
     "output_type": "display_data"
    },
    {
     "data": {
      "application/vnd.jupyter.widget-view+json": {
       "model_id": "906e40b4b77e4e63ae13b6c43e887136",
       "version_major": 2,
       "version_minor": 0
      },
      "text/plain": [
       "Train Epoch 165/500, Train Loss: 0.0:   0%|          | 0/44 [00:00<?, ?it/s]"
      ]
     },
     "metadata": {},
     "output_type": "display_data"
    },
    {
     "data": {
      "application/vnd.jupyter.widget-view+json": {
       "model_id": "2967320d77e64b8490ed1802acda4c8a",
       "version_major": 2,
       "version_minor": 0
      },
      "text/plain": [
       "Test Epoch 165/500, Test Loss: 9.575191411105068:   0%|          | 0/11 [00:00<?, ?it/s]"
      ]
     },
     "metadata": {},
     "output_type": "display_data"
    },
    {
     "data": {
      "application/vnd.jupyter.widget-view+json": {
       "model_id": "9ca9a0a4e2f2417ca852f2abea2a502e",
       "version_major": 2,
       "version_minor": 0
      },
      "text/plain": [
       "Train Epoch 166/500, Train Loss: 0.0:   0%|          | 0/44 [00:00<?, ?it/s]"
      ]
     },
     "metadata": {},
     "output_type": "display_data"
    },
    {
     "data": {
      "application/vnd.jupyter.widget-view+json": {
       "model_id": "a0a742f001c640438697d4c8fe270780",
       "version_major": 2,
       "version_minor": 0
      },
      "text/plain": [
       "Test Epoch 166/500, Test Loss: 9.575570193204014:   0%|          | 0/11 [00:00<?, ?it/s]"
      ]
     },
     "metadata": {},
     "output_type": "display_data"
    },
    {
     "data": {
      "application/vnd.jupyter.widget-view+json": {
       "model_id": "f1710494e4bc4804a561dbf78a8bb643",
       "version_major": 2,
       "version_minor": 0
      },
      "text/plain": [
       "Train Epoch 167/500, Train Loss: 0.0:   0%|          | 0/44 [00:00<?, ?it/s]"
      ]
     },
     "metadata": {},
     "output_type": "display_data"
    },
    {
     "data": {
      "application/vnd.jupyter.widget-view+json": {
       "model_id": "3908e0f845314b6aadd37468a6473662",
       "version_major": 2,
       "version_minor": 0
      },
      "text/plain": [
       "Test Epoch 167/500, Test Loss: 9.57481260733171:   0%|          | 0/11 [00:00<?, ?it/s]"
      ]
     },
     "metadata": {},
     "output_type": "display_data"
    },
    {
     "data": {
      "application/vnd.jupyter.widget-view+json": {
       "model_id": "4de3d2e97cfa4898aa7d0bcbf3fa2092",
       "version_major": 2,
       "version_minor": 0
      },
      "text/plain": [
       "Train Epoch 168/500, Train Loss: 0.0:   0%|          | 0/44 [00:00<?, ?it/s]"
      ]
     },
     "metadata": {},
     "output_type": "display_data"
    },
    {
     "data": {
      "application/vnd.jupyter.widget-view+json": {
       "model_id": "893686d8f37948158d3e225c729a5154",
       "version_major": 2,
       "version_minor": 0
      },
      "text/plain": [
       "Test Epoch 168/500, Test Loss: 9.574812629006125:   0%|          | 0/11 [00:00<?, ?it/s]"
      ]
     },
     "metadata": {},
     "output_type": "display_data"
    },
    {
     "data": {
      "application/vnd.jupyter.widget-view+json": {
       "model_id": "e71814bb16a94ed38d86ed6d6793df9d",
       "version_major": 2,
       "version_minor": 0
      },
      "text/plain": [
       "Train Epoch 169/500, Train Loss: 0.0:   0%|          | 0/44 [00:00<?, ?it/s]"
      ]
     },
     "metadata": {},
     "output_type": "display_data"
    },
    {
     "data": {
      "application/vnd.jupyter.widget-view+json": {
       "model_id": "2b8ccf3fe0724299b2744a30d6ba198a",
       "version_major": 2,
       "version_minor": 0
      },
      "text/plain": [
       "Test Epoch 169/500, Test Loss: 9.574433846907182:   0%|          | 0/11 [00:00<?, ?it/s]"
      ]
     },
     "metadata": {},
     "output_type": "display_data"
    },
    {
     "data": {
      "application/vnd.jupyter.widget-view+json": {
       "model_id": "b5ff3b1706a24a7cb45a890abaa56106",
       "version_major": 2,
       "version_minor": 0
      },
      "text/plain": [
       "Train Epoch 170/500, Train Loss: 0.0:   0%|          | 0/44 [00:00<?, ?it/s]"
      ]
     },
     "metadata": {},
     "output_type": "display_data"
    },
    {
     "data": {
      "application/vnd.jupyter.widget-view+json": {
       "model_id": "434da606a8104f27bd7c6ce6fcb704e7",
       "version_major": 2,
       "version_minor": 0
      },
      "text/plain": [
       "Test Epoch 170/500, Test Loss: 9.574433846907182:   0%|          | 0/11 [00:00<?, ?it/s]"
      ]
     },
     "metadata": {},
     "output_type": "display_data"
    },
    {
     "data": {
      "application/vnd.jupyter.widget-view+json": {
       "model_id": "64d378d98658428092bf78ea4d6a4a7c",
       "version_major": 2,
       "version_minor": 0
      },
      "text/plain": [
       "Train Epoch 171/500, Train Loss: 0.0:   0%|          | 0/44 [00:00<?, ?it/s]"
      ]
     },
     "metadata": {},
     "output_type": "display_data"
    },
    {
     "data": {
      "application/vnd.jupyter.widget-view+json": {
       "model_id": "d15ed648b59b44989bb7c56fa4e4ff08",
       "version_major": 2,
       "version_minor": 0
      },
      "text/plain": [
       "Test Epoch 171/500, Test Loss: 9.57481260733171:   0%|          | 0/11 [00:00<?, ?it/s]"
      ]
     },
     "metadata": {},
     "output_type": "display_data"
    },
    {
     "data": {
      "application/vnd.jupyter.widget-view+json": {
       "model_id": "e1bde576a29c4718aa0f5177ca139048",
       "version_major": 2,
       "version_minor": 0
      },
      "text/plain": [
       "Train Epoch 172/500, Train Loss: 0.0:   0%|          | 0/44 [00:00<?, ?it/s]"
      ]
     },
     "metadata": {},
     "output_type": "display_data"
    },
    {
     "data": {
      "application/vnd.jupyter.widget-view+json": {
       "model_id": "14acf9b4bbf14b5582e957840a5895b7",
       "version_major": 2,
       "version_minor": 0
      },
      "text/plain": [
       "Test Epoch 172/500, Test Loss: 9.57481260733171:   0%|          | 0/11 [00:00<?, ?it/s]"
      ]
     },
     "metadata": {},
     "output_type": "display_data"
    },
    {
     "data": {
      "application/vnd.jupyter.widget-view+json": {
       "model_id": "803914545ef04144b74dae6c0f2231cd",
       "version_major": 2,
       "version_minor": 0
      },
      "text/plain": [
       "Train Epoch 173/500, Train Loss: 0.0:   0%|          | 0/44 [00:00<?, ?it/s]"
      ]
     },
     "metadata": {},
     "output_type": "display_data"
    },
    {
     "data": {
      "application/vnd.jupyter.widget-view+json": {
       "model_id": "3249b51cebf046468187f0ffab9a2501",
       "version_major": 2,
       "version_minor": 0
      },
      "text/plain": [
       "Test Epoch 173/500, Test Loss: 9.574433846907182:   0%|          | 0/11 [00:00<?, ?it/s]"
      ]
     },
     "metadata": {},
     "output_type": "display_data"
    },
    {
     "data": {
      "application/vnd.jupyter.widget-view+json": {
       "model_id": "046c820e04ae4caa93fb13f4a952b464",
       "version_major": 2,
       "version_minor": 0
      },
      "text/plain": [
       "Train Epoch 174/500, Train Loss: 0.0:   0%|          | 0/44 [00:00<?, ?it/s]"
      ]
     },
     "metadata": {},
     "output_type": "display_data"
    },
    {
     "data": {
      "application/vnd.jupyter.widget-view+json": {
       "model_id": "7ae015cb351048268a2a0b0d5f26b6ab",
       "version_major": 2,
       "version_minor": 0
      },
      "text/plain": [
       "Test Epoch 174/500, Test Loss: 9.575570214878429:   0%|          | 0/11 [00:00<?, ?it/s]"
      ]
     },
     "metadata": {},
     "output_type": "display_data"
    },
    {
     "data": {
      "application/vnd.jupyter.widget-view+json": {
       "model_id": "b4ead2e8d5c9471b9d20305bca0540a3",
       "version_major": 2,
       "version_minor": 0
      },
      "text/plain": [
       "Train Epoch 175/500, Train Loss: 0.0:   0%|          | 0/44 [00:00<?, ?it/s]"
      ]
     },
     "metadata": {},
     "output_type": "display_data"
    },
    {
     "data": {
      "application/vnd.jupyter.widget-view+json": {
       "model_id": "30ddca17e5ce44c38309786070ba1480",
       "version_major": 2,
       "version_minor": 0
      },
      "text/plain": [
       "Test Epoch 175/500, Test Loss: 9.57481260733171:   0%|          | 0/11 [00:00<?, ?it/s]"
      ]
     },
     "metadata": {},
     "output_type": "display_data"
    },
    {
     "data": {
      "application/vnd.jupyter.widget-view+json": {
       "model_id": "5e050dbddace4f0890c90d77069ac0de",
       "version_major": 2,
       "version_minor": 0
      },
      "text/plain": [
       "Train Epoch 176/500, Train Loss: 0.0:   0%|          | 0/44 [00:00<?, ?it/s]"
      ]
     },
     "metadata": {},
     "output_type": "display_data"
    },
    {
     "data": {
      "application/vnd.jupyter.widget-view+json": {
       "model_id": "bc04a0160e374dd59edfe64e48489bd0",
       "version_major": 2,
       "version_minor": 0
      },
      "text/plain": [
       "Test Epoch 176/500, Test Loss: 9.574812629006125:   0%|          | 0/11 [00:00<?, ?it/s]"
      ]
     },
     "metadata": {},
     "output_type": "display_data"
    },
    {
     "data": {
      "application/vnd.jupyter.widget-view+json": {
       "model_id": "668e411f8dc948758db9002257abc90a",
       "version_major": 2,
       "version_minor": 0
      },
      "text/plain": [
       "Train Epoch 177/500, Train Loss: 0.0:   0%|          | 0/44 [00:00<?, ?it/s]"
      ]
     },
     "metadata": {},
     "output_type": "display_data"
    },
    {
     "data": {
      "application/vnd.jupyter.widget-view+json": {
       "model_id": "b80dfd0d703d4822ad069ce8307b94ff",
       "version_major": 2,
       "version_minor": 0
      },
      "text/plain": [
       "Test Epoch 177/500, Test Loss: 9.57481260733171:   0%|          | 0/11 [00:00<?, ?it/s]"
      ]
     },
     "metadata": {},
     "output_type": "display_data"
    },
    {
     "data": {
      "application/vnd.jupyter.widget-view+json": {
       "model_id": "3e23054711db41828199afaa35136cae",
       "version_major": 2,
       "version_minor": 0
      },
      "text/plain": [
       "Train Epoch 178/500, Train Loss: 0.0:   0%|          | 0/44 [00:00<?, ?it/s]"
      ]
     },
     "metadata": {},
     "output_type": "display_data"
    },
    {
     "data": {
      "application/vnd.jupyter.widget-view+json": {
       "model_id": "802c9c434ef3490d975c2107269dc8c4",
       "version_major": 2,
       "version_minor": 0
      },
      "text/plain": [
       "Test Epoch 178/500, Test Loss: 9.574812629006125:   0%|          | 0/11 [00:00<?, ?it/s]"
      ]
     },
     "metadata": {},
     "output_type": "display_data"
    },
    {
     "data": {
      "application/vnd.jupyter.widget-view+json": {
       "model_id": "65aba97581524383ab15a35f66ea676e",
       "version_major": 2,
       "version_minor": 0
      },
      "text/plain": [
       "Train Epoch 179/500, Train Loss: 0.0:   0%|          | 0/44 [00:00<?, ?it/s]"
      ]
     },
     "metadata": {},
     "output_type": "display_data"
    },
    {
     "data": {
      "application/vnd.jupyter.widget-view+json": {
       "model_id": "cbfe1b27425a401486016f69b2ce36b9",
       "version_major": 2,
       "version_minor": 0
      },
      "text/plain": [
       "Test Epoch 179/500, Test Loss: 9.574055064808238:   0%|          | 0/11 [00:00<?, ?it/s]"
      ]
     },
     "metadata": {},
     "output_type": "display_data"
    },
    {
     "data": {
      "application/vnd.jupyter.widget-view+json": {
       "model_id": "0d1d654dda314a9b96fb91b18c540f50",
       "version_major": 2,
       "version_minor": 0
      },
      "text/plain": [
       "Train Epoch 180/500, Train Loss: 0.0:   0%|          | 0/44 [00:00<?, ?it/s]"
      ]
     },
     "metadata": {},
     "output_type": "display_data"
    },
    {
     "data": {
      "application/vnd.jupyter.widget-view+json": {
       "model_id": "e1a918d832db4194bcd5cf6781bebd42",
       "version_major": 2,
       "version_minor": 0
      },
      "text/plain": [
       "Test Epoch 180/500, Test Loss: 9.575191389430653:   0%|          | 0/11 [00:00<?, ?it/s]"
      ]
     },
     "metadata": {},
     "output_type": "display_data"
    },
    {
     "data": {
      "application/vnd.jupyter.widget-view+json": {
       "model_id": "fe03950c6ec8425d838d8e38cefc342f",
       "version_major": 2,
       "version_minor": 0
      },
      "text/plain": [
       "Train Epoch 181/500, Train Loss: 0.0:   0%|          | 0/44 [00:00<?, ?it/s]"
      ]
     },
     "metadata": {},
     "output_type": "display_data"
    },
    {
     "data": {
      "application/vnd.jupyter.widget-view+json": {
       "model_id": "5252191e3a99476fbbcf5012901a46ea",
       "version_major": 2,
       "version_minor": 0
      },
      "text/plain": [
       "Test Epoch 181/500, Test Loss: 9.575191389430653:   0%|          | 0/11 [00:00<?, ?it/s]"
      ]
     },
     "metadata": {},
     "output_type": "display_data"
    },
    {
     "data": {
      "application/vnd.jupyter.widget-view+json": {
       "model_id": "75d162513d1242e9bddaba3a7038ad71",
       "version_major": 2,
       "version_minor": 0
      },
      "text/plain": [
       "Train Epoch 182/500, Train Loss: 0.0:   0%|          | 0/44 [00:00<?, ?it/s]"
      ]
     },
     "metadata": {},
     "output_type": "display_data"
    },
    {
     "data": {
      "application/vnd.jupyter.widget-view+json": {
       "model_id": "d668957eda3c433cb209e5bf985d08f5",
       "version_major": 2,
       "version_minor": 0
      },
      "text/plain": [
       "Test Epoch 182/500, Test Loss: 9.574055064808238:   0%|          | 0/11 [00:00<?, ?it/s]"
      ]
     },
     "metadata": {},
     "output_type": "display_data"
    },
    {
     "data": {
      "application/vnd.jupyter.widget-view+json": {
       "model_id": "3d9ba3b607874658943cb34a264aa45a",
       "version_major": 2,
       "version_minor": 0
      },
      "text/plain": [
       "Train Epoch 183/500, Train Loss: 0.0:   0%|          | 0/44 [00:00<?, ?it/s]"
      ]
     },
     "metadata": {},
     "output_type": "display_data"
    },
    {
     "data": {
      "application/vnd.jupyter.widget-view+json": {
       "model_id": "e33037da8cea4fed9a82b50a79b7bc09",
       "version_major": 2,
       "version_minor": 0
      },
      "text/plain": [
       "Test Epoch 183/500, Test Loss: 9.574433846907182:   0%|          | 0/11 [00:00<?, ?it/s]"
      ]
     },
     "metadata": {},
     "output_type": "display_data"
    },
    {
     "data": {
      "application/vnd.jupyter.widget-view+json": {
       "model_id": "b24b5198b7aa481ca252b916f4133561",
       "version_major": 2,
       "version_minor": 0
      },
      "text/plain": [
       "Train Epoch 184/500, Train Loss: 0.0:   0%|          | 0/44 [00:00<?, ?it/s]"
      ]
     },
     "metadata": {},
     "output_type": "display_data"
    },
    {
     "data": {
      "application/vnd.jupyter.widget-view+json": {
       "model_id": "0270939b2cf447e1be17fc7e6a3d24d3",
       "version_major": 2,
       "version_minor": 0
      },
      "text/plain": [
       "Test Epoch 184/500, Test Loss: 9.574812629006125:   0%|          | 0/11 [00:00<?, ?it/s]"
      ]
     },
     "metadata": {},
     "output_type": "display_data"
    },
    {
     "data": {
      "application/vnd.jupyter.widget-view+json": {
       "model_id": "970b2ba4805546d88736286622bc73c6",
       "version_major": 2,
       "version_minor": 0
      },
      "text/plain": [
       "Train Epoch 185/500, Train Loss: 0.0:   0%|          | 0/44 [00:00<?, ?it/s]"
      ]
     },
     "metadata": {},
     "output_type": "display_data"
    },
    {
     "data": {
      "application/vnd.jupyter.widget-view+json": {
       "model_id": "4299e9aa87b5489fa88afdbba6506e34",
       "version_major": 2,
       "version_minor": 0
      },
      "text/plain": [
       "Test Epoch 185/500, Test Loss: 9.574433825232767:   0%|          | 0/11 [00:00<?, ?it/s]"
      ]
     },
     "metadata": {},
     "output_type": "display_data"
    },
    {
     "data": {
      "application/vnd.jupyter.widget-view+json": {
       "model_id": "a4e30d3ba4944713bf792e3e45faa211",
       "version_major": 2,
       "version_minor": 0
      },
      "text/plain": [
       "Train Epoch 186/500, Train Loss: 0.0:   0%|          | 0/44 [00:00<?, ?it/s]"
      ]
     },
     "metadata": {},
     "output_type": "display_data"
    },
    {
     "data": {
      "application/vnd.jupyter.widget-view+json": {
       "model_id": "02bbbe130ad64e8193231a508da0c0c7",
       "version_major": 2,
       "version_minor": 0
      },
      "text/plain": [
       "Test Epoch 186/500, Test Loss: 9.574433846907182:   0%|          | 0/11 [00:00<?, ?it/s]"
      ]
     },
     "metadata": {},
     "output_type": "display_data"
    },
    {
     "data": {
      "application/vnd.jupyter.widget-view+json": {
       "model_id": "c17d3c7535234ec39068ced74fa664a6",
       "version_major": 2,
       "version_minor": 0
      },
      "text/plain": [
       "Train Epoch 187/500, Train Loss: 0.0:   0%|          | 0/44 [00:00<?, ?it/s]"
      ]
     },
     "metadata": {},
     "output_type": "display_data"
    },
    {
     "data": {
      "application/vnd.jupyter.widget-view+json": {
       "model_id": "164a0570d809487e915679e82dc4a0f4",
       "version_major": 2,
       "version_minor": 0
      },
      "text/plain": [
       "Test Epoch 187/500, Test Loss: 9.575191389430653:   0%|          | 0/11 [00:00<?, ?it/s]"
      ]
     },
     "metadata": {},
     "output_type": "display_data"
    },
    {
     "data": {
      "application/vnd.jupyter.widget-view+json": {
       "model_id": "3ba55b805e954a119589add181417c95",
       "version_major": 2,
       "version_minor": 0
      },
      "text/plain": [
       "Train Epoch 188/500, Train Loss: 0.0:   0%|          | 0/44 [00:00<?, ?it/s]"
      ]
     },
     "metadata": {},
     "output_type": "display_data"
    },
    {
     "data": {
      "application/vnd.jupyter.widget-view+json": {
       "model_id": "0cdc4d8022bb42d18010a885e46cc495",
       "version_major": 2,
       "version_minor": 0
      },
      "text/plain": [
       "Test Epoch 188/500, Test Loss: 9.574433846907182:   0%|          | 0/11 [00:00<?, ?it/s]"
      ]
     },
     "metadata": {},
     "output_type": "display_data"
    },
    {
     "data": {
      "application/vnd.jupyter.widget-view+json": {
       "model_id": "dc59e735a4bb4da9a8b87b0ee64b1aa3",
       "version_major": 2,
       "version_minor": 0
      },
      "text/plain": [
       "Train Epoch 189/500, Train Loss: 0.0:   0%|          | 0/44 [00:00<?, ?it/s]"
      ]
     },
     "metadata": {},
     "output_type": "display_data"
    },
    {
     "data": {
      "application/vnd.jupyter.widget-view+json": {
       "model_id": "6073f4b8eca04b90a78143ecd0e860ae",
       "version_major": 2,
       "version_minor": 0
      },
      "text/plain": [
       "Test Epoch 189/500, Test Loss: 9.574055043133823:   0%|          | 0/11 [00:00<?, ?it/s]"
      ]
     },
     "metadata": {},
     "output_type": "display_data"
    },
    {
     "data": {
      "application/vnd.jupyter.widget-view+json": {
       "model_id": "385b0f9715cf4dc295d3972a89f415d4",
       "version_major": 2,
       "version_minor": 0
      },
      "text/plain": [
       "Train Epoch 190/500, Train Loss: 0.0:   0%|          | 0/44 [00:00<?, ?it/s]"
      ]
     },
     "metadata": {},
     "output_type": "display_data"
    },
    {
     "data": {
      "application/vnd.jupyter.widget-view+json": {
       "model_id": "40455625acaa46bf941b9d33db2a5f8c",
       "version_major": 2,
       "version_minor": 0
      },
      "text/plain": [
       "Test Epoch 190/500, Test Loss: 9.574812629006125:   0%|          | 0/11 [00:00<?, ?it/s]"
      ]
     },
     "metadata": {},
     "output_type": "display_data"
    },
    {
     "data": {
      "application/vnd.jupyter.widget-view+json": {
       "model_id": "1585cdac406b4304af713ec2431cea35",
       "version_major": 2,
       "version_minor": 0
      },
      "text/plain": [
       "Train Epoch 191/500, Train Loss: 0.0:   0%|          | 0/44 [00:00<?, ?it/s]"
      ]
     },
     "metadata": {},
     "output_type": "display_data"
    },
    {
     "data": {
      "application/vnd.jupyter.widget-view+json": {
       "model_id": "e4a7b8bf176347c28a187965c13844eb",
       "version_major": 2,
       "version_minor": 0
      },
      "text/plain": [
       "Test Epoch 191/500, Test Loss: 9.573676261034878:   0%|          | 0/11 [00:00<?, ?it/s]"
      ]
     },
     "metadata": {},
     "output_type": "display_data"
    },
    {
     "data": {
      "application/vnd.jupyter.widget-view+json": {
       "model_id": "01314c0706d346199f51912700211b09",
       "version_major": 2,
       "version_minor": 0
      },
      "text/plain": [
       "Train Epoch 192/500, Train Loss: 0.0:   0%|          | 0/44 [00:00<?, ?it/s]"
      ]
     },
     "metadata": {},
     "output_type": "display_data"
    },
    {
     "data": {
      "application/vnd.jupyter.widget-view+json": {
       "model_id": "f2b80ce45d6a44ba9f94b84114e56329",
       "version_major": 2,
       "version_minor": 0
      },
      "text/plain": [
       "Test Epoch 192/500, Test Loss: 9.574055064808238:   0%|          | 0/11 [00:00<?, ?it/s]"
      ]
     },
     "metadata": {},
     "output_type": "display_data"
    },
    {
     "data": {
      "application/vnd.jupyter.widget-view+json": {
       "model_id": "56f0c332bfce4df1ac1eb630c28464ea",
       "version_major": 2,
       "version_minor": 0
      },
      "text/plain": [
       "Train Epoch 193/500, Train Loss: 0.0:   0%|          | 0/44 [00:00<?, ?it/s]"
      ]
     },
     "metadata": {},
     "output_type": "display_data"
    },
    {
     "data": {
      "application/vnd.jupyter.widget-view+json": {
       "model_id": "3cdba084226f4572b13bc02233f86057",
       "version_major": 2,
       "version_minor": 0
      },
      "text/plain": [
       "Test Epoch 193/500, Test Loss: 9.575191389430653:   0%|          | 0/11 [00:00<?, ?it/s]"
      ]
     },
     "metadata": {},
     "output_type": "display_data"
    },
    {
     "data": {
      "application/vnd.jupyter.widget-view+json": {
       "model_id": "600c17e5a02842ce9ec0c01d68d3c42f",
       "version_major": 2,
       "version_minor": 0
      },
      "text/plain": [
       "Train Epoch 194/500, Train Loss: 0.0:   0%|          | 0/44 [00:00<?, ?it/s]"
      ]
     },
     "metadata": {},
     "output_type": "display_data"
    },
    {
     "data": {
      "application/vnd.jupyter.widget-view+json": {
       "model_id": "fc79eebb3eb3484587568666f8acf480",
       "version_major": 2,
       "version_minor": 0
      },
      "text/plain": [
       "Test Epoch 194/500, Test Loss: 9.574433846907182:   0%|          | 0/11 [00:00<?, ?it/s]"
      ]
     },
     "metadata": {},
     "output_type": "display_data"
    },
    {
     "data": {
      "application/vnd.jupyter.widget-view+json": {
       "model_id": "e379c6a268ab499eb0aaa3a9d63c95dc",
       "version_major": 2,
       "version_minor": 0
      },
      "text/plain": [
       "Train Epoch 195/500, Train Loss: 0.0:   0%|          | 0/44 [00:00<?, ?it/s]"
      ]
     },
     "metadata": {},
     "output_type": "display_data"
    },
    {
     "data": {
      "application/vnd.jupyter.widget-view+json": {
       "model_id": "fe57d92d63204c13b8afeb37339eb7eb",
       "version_major": 2,
       "version_minor": 0
      },
      "text/plain": [
       "Test Epoch 195/500, Test Loss: 9.574433846907182:   0%|          | 0/11 [00:00<?, ?it/s]"
      ]
     },
     "metadata": {},
     "output_type": "display_data"
    },
    {
     "data": {
      "application/vnd.jupyter.widget-view+json": {
       "model_id": "04576d7d4e44454cb69c2834f27f561c",
       "version_major": 2,
       "version_minor": 0
      },
      "text/plain": [
       "Train Epoch 196/500, Train Loss: 0.0:   0%|          | 0/44 [00:00<?, ?it/s]"
      ]
     },
     "metadata": {},
     "output_type": "display_data"
    },
    {
     "data": {
      "application/vnd.jupyter.widget-view+json": {
       "model_id": "c61874c0a05947ff8ffcb7778bef1de8",
       "version_major": 2,
       "version_minor": 0
      },
      "text/plain": [
       "Test Epoch 196/500, Test Loss: 9.574433825232767:   0%|          | 0/11 [00:00<?, ?it/s]"
      ]
     },
     "metadata": {},
     "output_type": "display_data"
    },
    {
     "data": {
      "application/vnd.jupyter.widget-view+json": {
       "model_id": "3002af11bafb432bb21fdcce00100098",
       "version_major": 2,
       "version_minor": 0
      },
      "text/plain": [
       "Train Epoch 197/500, Train Loss: 0.0:   0%|          | 0/44 [00:00<?, ?it/s]"
      ]
     },
     "metadata": {},
     "output_type": "display_data"
    },
    {
     "data": {
      "application/vnd.jupyter.widget-view+json": {
       "model_id": "3a6b90834a6e4046b3e2943862149b9d",
       "version_major": 2,
       "version_minor": 0
      },
      "text/plain": [
       "Test Epoch 197/500, Test Loss: 9.57481260733171:   0%|          | 0/11 [00:00<?, ?it/s]"
      ]
     },
     "metadata": {},
     "output_type": "display_data"
    },
    {
     "data": {
      "application/vnd.jupyter.widget-view+json": {
       "model_id": "34b5c48ccccc429abb16a18aaa19134d",
       "version_major": 2,
       "version_minor": 0
      },
      "text/plain": [
       "Train Epoch 198/500, Train Loss: 0.0:   0%|          | 0/44 [00:00<?, ?it/s]"
      ]
     },
     "metadata": {},
     "output_type": "display_data"
    },
    {
     "data": {
      "application/vnd.jupyter.widget-view+json": {
       "model_id": "6b56e83b32384c6a9ac97df4642a0925",
       "version_major": 2,
       "version_minor": 0
      },
      "text/plain": [
       "Test Epoch 198/500, Test Loss: 9.574055064808238:   0%|          | 0/11 [00:00<?, ?it/s]"
      ]
     },
     "metadata": {},
     "output_type": "display_data"
    },
    {
     "data": {
      "application/vnd.jupyter.widget-view+json": {
       "model_id": "b52458b8c00d4721a9be91a40463bac8",
       "version_major": 2,
       "version_minor": 0
      },
      "text/plain": [
       "Train Epoch 199/500, Train Loss: 0.0:   0%|          | 0/44 [00:00<?, ?it/s]"
      ]
     },
     "metadata": {},
     "output_type": "display_data"
    },
    {
     "data": {
      "application/vnd.jupyter.widget-view+json": {
       "model_id": "b9bc6643c39e43bf9da145651242f831",
       "version_major": 2,
       "version_minor": 0
      },
      "text/plain": [
       "Test Epoch 199/500, Test Loss: 9.574433825232767:   0%|          | 0/11 [00:00<?, ?it/s]"
      ]
     },
     "metadata": {},
     "output_type": "display_data"
    },
    {
     "data": {
      "application/vnd.jupyter.widget-view+json": {
       "model_id": "23f77cd3b34342da8a6e824bc9a862bc",
       "version_major": 2,
       "version_minor": 0
      },
      "text/plain": [
       "Train Epoch 200/500, Train Loss: 0.0:   0%|          | 0/44 [00:00<?, ?it/s]"
      ]
     },
     "metadata": {},
     "output_type": "display_data"
    },
    {
     "data": {
      "application/vnd.jupyter.widget-view+json": {
       "model_id": "be4f08658fef4573a61e4c9572f3bb03",
       "version_major": 2,
       "version_minor": 0
      },
      "text/plain": [
       "Test Epoch 200/500, Test Loss: 9.575570193204014:   0%|          | 0/11 [00:00<?, ?it/s]"
      ]
     },
     "metadata": {},
     "output_type": "display_data"
    },
    {
     "data": {
      "application/vnd.jupyter.widget-view+json": {
       "model_id": "bd3f8bef9f934391aa6b3650fc419d53",
       "version_major": 2,
       "version_minor": 0
      },
      "text/plain": [
       "Train Epoch 201/500, Train Loss: 0.0:   0%|          | 0/44 [00:00<?, ?it/s]"
      ]
     },
     "metadata": {},
     "output_type": "display_data"
    },
    {
     "data": {
      "application/vnd.jupyter.widget-view+json": {
       "model_id": "98dbd2add52844a2b498e2626a72db9f",
       "version_major": 2,
       "version_minor": 0
      },
      "text/plain": [
       "Test Epoch 201/500, Test Loss: 9.57481260733171:   0%|          | 0/11 [00:00<?, ?it/s]"
      ]
     },
     "metadata": {},
     "output_type": "display_data"
    },
    {
     "data": {
      "application/vnd.jupyter.widget-view+json": {
       "model_id": "452301a6054945a59ec00badf871b5fd",
       "version_major": 2,
       "version_minor": 0
      },
      "text/plain": [
       "Train Epoch 202/500, Train Loss: 0.0:   0%|          | 0/44 [00:00<?, ?it/s]"
      ]
     },
     "metadata": {},
     "output_type": "display_data"
    },
    {
     "data": {
      "application/vnd.jupyter.widget-view+json": {
       "model_id": "8b70447c9cb2489ea450b1ccaaf2bc88",
       "version_major": 2,
       "version_minor": 0
      },
      "text/plain": [
       "Test Epoch 202/500, Test Loss: 9.57481260733171:   0%|          | 0/11 [00:00<?, ?it/s]"
      ]
     },
     "metadata": {},
     "output_type": "display_data"
    },
    {
     "data": {
      "application/vnd.jupyter.widget-view+json": {
       "model_id": "798bbb6ca46b46d3b61e53581c3da84a",
       "version_major": 2,
       "version_minor": 0
      },
      "text/plain": [
       "Train Epoch 203/500, Train Loss: 0.0:   0%|          | 0/44 [00:00<?, ?it/s]"
      ]
     },
     "metadata": {},
     "output_type": "display_data"
    },
    {
     "data": {
      "application/vnd.jupyter.widget-view+json": {
       "model_id": "81ba5dae82d74492ab56c4c32341d010",
       "version_major": 2,
       "version_minor": 0
      },
      "text/plain": [
       "Test Epoch 203/500, Test Loss: 9.575191432779485:   0%|          | 0/11 [00:00<?, ?it/s]"
      ]
     },
     "metadata": {},
     "output_type": "display_data"
    },
    {
     "data": {
      "application/vnd.jupyter.widget-view+json": {
       "model_id": "17e7f000e22a419eb185b368f215e24f",
       "version_major": 2,
       "version_minor": 0
      },
      "text/plain": [
       "Train Epoch 204/500, Train Loss: 0.0:   0%|          | 0/44 [00:00<?, ?it/s]"
      ]
     },
     "metadata": {},
     "output_type": "display_data"
    },
    {
     "data": {
      "application/vnd.jupyter.widget-view+json": {
       "model_id": "0e0000a654c943628c76f81764b6b47b",
       "version_major": 2,
       "version_minor": 0
      },
      "text/plain": [
       "Test Epoch 204/500, Test Loss: 9.574433846907182:   0%|          | 0/11 [00:00<?, ?it/s]"
      ]
     },
     "metadata": {},
     "output_type": "display_data"
    },
    {
     "data": {
      "application/vnd.jupyter.widget-view+json": {
       "model_id": "dfcc216e53314efa8ecd2ca0a7fd624f",
       "version_major": 2,
       "version_minor": 0
      },
      "text/plain": [
       "Train Epoch 205/500, Train Loss: 0.0:   0%|          | 0/44 [00:00<?, ?it/s]"
      ]
     },
     "metadata": {},
     "output_type": "display_data"
    },
    {
     "data": {
      "application/vnd.jupyter.widget-view+json": {
       "model_id": "cdb87709c2234c7488e0030ad4155656",
       "version_major": 2,
       "version_minor": 0
      },
      "text/plain": [
       "Test Epoch 205/500, Test Loss: 9.574433846907182:   0%|          | 0/11 [00:00<?, ?it/s]"
      ]
     },
     "metadata": {},
     "output_type": "display_data"
    },
    {
     "data": {
      "application/vnd.jupyter.widget-view+json": {
       "model_id": "8da30b202cc84f2896ad57e57d320a91",
       "version_major": 2,
       "version_minor": 0
      },
      "text/plain": [
       "Train Epoch 206/500, Train Loss: 0.0:   0%|          | 0/44 [00:00<?, ?it/s]"
      ]
     },
     "metadata": {},
     "output_type": "display_data"
    },
    {
     "data": {
      "application/vnd.jupyter.widget-view+json": {
       "model_id": "21568fbdb678419c991a34aea86b5aef",
       "version_major": 2,
       "version_minor": 0
      },
      "text/plain": [
       "Test Epoch 206/500, Test Loss: 9.575191389430653:   0%|          | 0/11 [00:00<?, ?it/s]"
      ]
     },
     "metadata": {},
     "output_type": "display_data"
    },
    {
     "data": {
      "application/vnd.jupyter.widget-view+json": {
       "model_id": "fc699a5b08694615b6dcc40a84099d8c",
       "version_major": 2,
       "version_minor": 0
      },
      "text/plain": [
       "Train Epoch 207/500, Train Loss: 0.0:   0%|          | 0/44 [00:00<?, ?it/s]"
      ]
     },
     "metadata": {},
     "output_type": "display_data"
    },
    {
     "data": {
      "application/vnd.jupyter.widget-view+json": {
       "model_id": "9f57a3e06d80446b9f1803de68924809",
       "version_major": 2,
       "version_minor": 0
      },
      "text/plain": [
       "Test Epoch 207/500, Test Loss: 9.574812629006125:   0%|          | 0/11 [00:00<?, ?it/s]"
      ]
     },
     "metadata": {},
     "output_type": "display_data"
    },
    {
     "data": {
      "application/vnd.jupyter.widget-view+json": {
       "model_id": "74ade6e402dd42fa92fe658efc0e7703",
       "version_major": 2,
       "version_minor": 0
      },
      "text/plain": [
       "Train Epoch 208/500, Train Loss: 0.0:   0%|          | 0/44 [00:00<?, ?it/s]"
      ]
     },
     "metadata": {},
     "output_type": "display_data"
    },
    {
     "data": {
      "application/vnd.jupyter.widget-view+json": {
       "model_id": "395d1383a56143a3bf7fe74118d98c72",
       "version_major": 2,
       "version_minor": 0
      },
      "text/plain": [
       "Test Epoch 208/500, Test Loss: 9.575191389430653:   0%|          | 0/11 [00:00<?, ?it/s]"
      ]
     },
     "metadata": {},
     "output_type": "display_data"
    },
    {
     "data": {
      "application/vnd.jupyter.widget-view+json": {
       "model_id": "49bbce8f9d614bd494b3069e5b8659c5",
       "version_major": 2,
       "version_minor": 0
      },
      "text/plain": [
       "Train Epoch 209/500, Train Loss: 0.0:   0%|          | 0/44 [00:00<?, ?it/s]"
      ]
     },
     "metadata": {},
     "output_type": "display_data"
    },
    {
     "data": {
      "application/vnd.jupyter.widget-view+json": {
       "model_id": "7892539abbc141979f2ce17d0d511157",
       "version_major": 2,
       "version_minor": 0
      },
      "text/plain": [
       "Test Epoch 209/500, Test Loss: 9.57481260733171:   0%|          | 0/11 [00:00<?, ?it/s]"
      ]
     },
     "metadata": {},
     "output_type": "display_data"
    },
    {
     "data": {
      "application/vnd.jupyter.widget-view+json": {
       "model_id": "3dbc35c53c2e408495ecd56c81aea390",
       "version_major": 2,
       "version_minor": 0
      },
      "text/plain": [
       "Train Epoch 210/500, Train Loss: 0.0:   0%|          | 0/44 [00:00<?, ?it/s]"
      ]
     },
     "metadata": {},
     "output_type": "display_data"
    },
    {
     "data": {
      "application/vnd.jupyter.widget-view+json": {
       "model_id": "d63787a0e6a246649b86794c06cbe37e",
       "version_major": 2,
       "version_minor": 0
      },
      "text/plain": [
       "Test Epoch 210/500, Test Loss: 9.573676261034878:   0%|          | 0/11 [00:00<?, ?it/s]"
      ]
     },
     "metadata": {},
     "output_type": "display_data"
    },
    {
     "data": {
      "application/vnd.jupyter.widget-view+json": {
       "model_id": "37394ed1438b438da8d040ca1754f8ba",
       "version_major": 2,
       "version_minor": 0
      },
      "text/plain": [
       "Train Epoch 211/500, Train Loss: 0.0:   0%|          | 0/44 [00:00<?, ?it/s]"
      ]
     },
     "metadata": {},
     "output_type": "display_data"
    },
    {
     "data": {
      "application/vnd.jupyter.widget-view+json": {
       "model_id": "8d8e4470e1d643009a530773fc8e4f01",
       "version_major": 2,
       "version_minor": 0
      },
      "text/plain": [
       "Test Epoch 211/500, Test Loss: 9.57481260733171:   0%|          | 0/11 [00:00<?, ?it/s]"
      ]
     },
     "metadata": {},
     "output_type": "display_data"
    },
    {
     "data": {
      "application/vnd.jupyter.widget-view+json": {
       "model_id": "10899aaa1eed42559ecacc92e49cdeae",
       "version_major": 2,
       "version_minor": 0
      },
      "text/plain": [
       "Train Epoch 212/500, Train Loss: 0.0:   0%|          | 0/44 [00:00<?, ?it/s]"
      ]
     },
     "metadata": {},
     "output_type": "display_data"
    },
    {
     "data": {
      "application/vnd.jupyter.widget-view+json": {
       "model_id": "890db69a49594ceeaabff511f188bfb0",
       "version_major": 2,
       "version_minor": 0
      },
      "text/plain": [
       "Test Epoch 212/500, Test Loss: 9.57481260733171:   0%|          | 0/11 [00:00<?, ?it/s]"
      ]
     },
     "metadata": {},
     "output_type": "display_data"
    },
    {
     "data": {
      "application/vnd.jupyter.widget-view+json": {
       "model_id": "2bd3914a427a43fba52e622cd02ef3b0",
       "version_major": 2,
       "version_minor": 0
      },
      "text/plain": [
       "Train Epoch 213/500, Train Loss: 0.0:   0%|          | 0/44 [00:00<?, ?it/s]"
      ]
     },
     "metadata": {},
     "output_type": "display_data"
    },
    {
     "data": {
      "application/vnd.jupyter.widget-view+json": {
       "model_id": "d5128ae946e34b3ebd88a8b1f5b10b55",
       "version_major": 2,
       "version_minor": 0
      },
      "text/plain": [
       "Test Epoch 213/500, Test Loss: 9.574812585657293:   0%|          | 0/11 [00:00<?, ?it/s]"
      ]
     },
     "metadata": {},
     "output_type": "display_data"
    },
    {
     "data": {
      "application/vnd.jupyter.widget-view+json": {
       "model_id": "7c3d7971f1454371930c9927cafe18fc",
       "version_major": 2,
       "version_minor": 0
      },
      "text/plain": [
       "Train Epoch 214/500, Train Loss: 0.0:   0%|          | 0/44 [00:00<?, ?it/s]"
      ]
     },
     "metadata": {},
     "output_type": "display_data"
    },
    {
     "data": {
      "application/vnd.jupyter.widget-view+json": {
       "model_id": "5329fd12b9474003aca1c10f7057a9df",
       "version_major": 2,
       "version_minor": 0
      },
      "text/plain": [
       "Test Epoch 214/500, Test Loss: 9.574433825232767:   0%|          | 0/11 [00:00<?, ?it/s]"
      ]
     },
     "metadata": {},
     "output_type": "display_data"
    },
    {
     "data": {
      "application/vnd.jupyter.widget-view+json": {
       "model_id": "01e1dc02e4514bfeaad1a4380e6362e0",
       "version_major": 2,
       "version_minor": 0
      },
      "text/plain": [
       "Train Epoch 215/500, Train Loss: 0.0:   0%|          | 0/44 [00:00<?, ?it/s]"
      ]
     },
     "metadata": {},
     "output_type": "display_data"
    },
    {
     "data": {
      "application/vnd.jupyter.widget-view+json": {
       "model_id": "cae136e14ec74fe3ab7fd11cab81afe0",
       "version_major": 2,
       "version_minor": 0
      },
      "text/plain": [
       "Test Epoch 215/500, Test Loss: 9.575191389430653:   0%|          | 0/11 [00:00<?, ?it/s]"
      ]
     },
     "metadata": {},
     "output_type": "display_data"
    },
    {
     "data": {
      "application/vnd.jupyter.widget-view+json": {
       "model_id": "67061f6d59c745ddb9caa774d7f45e59",
       "version_major": 2,
       "version_minor": 0
      },
      "text/plain": [
       "Train Epoch 216/500, Train Loss: 0.0:   0%|          | 0/44 [00:00<?, ?it/s]"
      ]
     },
     "metadata": {},
     "output_type": "display_data"
    },
    {
     "data": {
      "application/vnd.jupyter.widget-view+json": {
       "model_id": "ee2c3fcfe43048cba00d9ac059962d84",
       "version_major": 2,
       "version_minor": 0
      },
      "text/plain": [
       "Test Epoch 216/500, Test Loss: 9.575191454453902:   0%|          | 0/11 [00:00<?, ?it/s]"
      ]
     },
     "metadata": {},
     "output_type": "display_data"
    },
    {
     "data": {
      "application/vnd.jupyter.widget-view+json": {
       "model_id": "193b9cdf1c684b519b24cb5aff62481e",
       "version_major": 2,
       "version_minor": 0
      },
      "text/plain": [
       "Train Epoch 217/500, Train Loss: 0.0:   0%|          | 0/44 [00:00<?, ?it/s]"
      ]
     },
     "metadata": {},
     "output_type": "display_data"
    },
    {
     "data": {
      "application/vnd.jupyter.widget-view+json": {
       "model_id": "5d6d6be46d6a4d2db12b7014de753a01",
       "version_major": 2,
       "version_minor": 0
      },
      "text/plain": [
       "Test Epoch 217/500, Test Loss: 9.57481260733171:   0%|          | 0/11 [00:00<?, ?it/s]"
      ]
     },
     "metadata": {},
     "output_type": "display_data"
    },
    {
     "data": {
      "application/vnd.jupyter.widget-view+json": {
       "model_id": "2ffd696410a744f6b11f83e9f5342d85",
       "version_major": 2,
       "version_minor": 0
      },
      "text/plain": [
       "Train Epoch 218/500, Train Loss: 0.0:   0%|          | 0/44 [00:00<?, ?it/s]"
      ]
     },
     "metadata": {},
     "output_type": "display_data"
    },
    {
     "data": {
      "application/vnd.jupyter.widget-view+json": {
       "model_id": "6cd35745363c4c34bd995926c5f9173a",
       "version_major": 2,
       "version_minor": 0
      },
      "text/plain": [
       "Test Epoch 218/500, Test Loss: 9.57481260733171:   0%|          | 0/11 [00:00<?, ?it/s]"
      ]
     },
     "metadata": {},
     "output_type": "display_data"
    },
    {
     "data": {
      "application/vnd.jupyter.widget-view+json": {
       "model_id": "8fcbfe255d5f40aca75d0a4a3a65d028",
       "version_major": 2,
       "version_minor": 0
      },
      "text/plain": [
       "Train Epoch 219/500, Train Loss: 0.0:   0%|          | 0/44 [00:00<?, ?it/s]"
      ]
     },
     "metadata": {},
     "output_type": "display_data"
    },
    {
     "data": {
      "application/vnd.jupyter.widget-view+json": {
       "model_id": "5fb77cf35ebe43c089897a0a38525d50",
       "version_major": 2,
       "version_minor": 0
      },
      "text/plain": [
       "Test Epoch 219/500, Test Loss: 9.575191389430653:   0%|          | 0/11 [00:00<?, ?it/s]"
      ]
     },
     "metadata": {},
     "output_type": "display_data"
    },
    {
     "data": {
      "application/vnd.jupyter.widget-view+json": {
       "model_id": "74dcf0dfbcd443b488c378fa98a6814e",
       "version_major": 2,
       "version_minor": 0
      },
      "text/plain": [
       "Train Epoch 220/500, Train Loss: 0.0:   0%|          | 0/44 [00:00<?, ?it/s]"
      ]
     },
     "metadata": {},
     "output_type": "display_data"
    },
    {
     "data": {
      "application/vnd.jupyter.widget-view+json": {
       "model_id": "6067cfbe44404f19b82697a834018ba1",
       "version_major": 2,
       "version_minor": 0
      },
      "text/plain": [
       "Test Epoch 220/500, Test Loss: 9.574055064808238:   0%|          | 0/11 [00:00<?, ?it/s]"
      ]
     },
     "metadata": {},
     "output_type": "display_data"
    },
    {
     "data": {
      "application/vnd.jupyter.widget-view+json": {
       "model_id": "27116b2d2a2f4b4e98f420be084d08c2",
       "version_major": 2,
       "version_minor": 0
      },
      "text/plain": [
       "Train Epoch 221/500, Train Loss: 0.0:   0%|          | 0/44 [00:00<?, ?it/s]"
      ]
     },
     "metadata": {},
     "output_type": "display_data"
    },
    {
     "data": {
      "application/vnd.jupyter.widget-view+json": {
       "model_id": "2aa9b8e7c6fa4e52992228842a4ec072",
       "version_major": 2,
       "version_minor": 0
      },
      "text/plain": [
       "Test Epoch 221/500, Test Loss: 9.57481260733171:   0%|          | 0/11 [00:00<?, ?it/s]"
      ]
     },
     "metadata": {},
     "output_type": "display_data"
    },
    {
     "data": {
      "application/vnd.jupyter.widget-view+json": {
       "model_id": "eed82c5ddeb24b1e86ad5e3a05330da9",
       "version_major": 2,
       "version_minor": 0
      },
      "text/plain": [
       "Train Epoch 222/500, Train Loss: 0.0:   0%|          | 0/44 [00:00<?, ?it/s]"
      ]
     },
     "metadata": {},
     "output_type": "display_data"
    },
    {
     "data": {
      "application/vnd.jupyter.widget-view+json": {
       "model_id": "12352dca98254cd4af9fc1081e42e7c9",
       "version_major": 2,
       "version_minor": 0
      },
      "text/plain": [
       "Test Epoch 222/500, Test Loss: 9.575570193204014:   0%|          | 0/11 [00:00<?, ?it/s]"
      ]
     },
     "metadata": {},
     "output_type": "display_data"
    },
    {
     "data": {
      "application/vnd.jupyter.widget-view+json": {
       "model_id": "29c26632671f439391038759e4b2e621",
       "version_major": 2,
       "version_minor": 0
      },
      "text/plain": [
       "Train Epoch 223/500, Train Loss: 0.0:   0%|          | 0/44 [00:00<?, ?it/s]"
      ]
     },
     "metadata": {},
     "output_type": "display_data"
    },
    {
     "data": {
      "application/vnd.jupyter.widget-view+json": {
       "model_id": "2ad955f449644360a2a75ebd29849875",
       "version_major": 2,
       "version_minor": 0
      },
      "text/plain": [
       "Test Epoch 223/500, Test Loss: 9.574433825232767:   0%|          | 0/11 [00:00<?, ?it/s]"
      ]
     },
     "metadata": {},
     "output_type": "display_data"
    },
    {
     "data": {
      "application/vnd.jupyter.widget-view+json": {
       "model_id": "3810fc0bbdb1493791b923795be28699",
       "version_major": 2,
       "version_minor": 0
      },
      "text/plain": [
       "Train Epoch 224/500, Train Loss: 0.0:   0%|          | 0/44 [00:00<?, ?it/s]"
      ]
     },
     "metadata": {},
     "output_type": "display_data"
    },
    {
     "data": {
      "application/vnd.jupyter.widget-view+json": {
       "model_id": "f57786d25c3a4a22b4fe3a38c17f6e1a",
       "version_major": 2,
       "version_minor": 0
      },
      "text/plain": [
       "Test Epoch 224/500, Test Loss: 9.57481260733171:   0%|          | 0/11 [00:00<?, ?it/s]"
      ]
     },
     "metadata": {},
     "output_type": "display_data"
    },
    {
     "data": {
      "application/vnd.jupyter.widget-view+json": {
       "model_id": "4cd1e16c60624dd9b1e47cd7a4e6fbc4",
       "version_major": 2,
       "version_minor": 0
      },
      "text/plain": [
       "Train Epoch 225/500, Train Loss: 0.0:   0%|          | 0/44 [00:00<?, ?it/s]"
      ]
     },
     "metadata": {},
     "output_type": "display_data"
    },
    {
     "data": {
      "application/vnd.jupyter.widget-view+json": {
       "model_id": "90cc94b2040242cc97465332e2e35edb",
       "version_major": 2,
       "version_minor": 0
      },
      "text/plain": [
       "Test Epoch 225/500, Test Loss: 9.575191389430653:   0%|          | 0/11 [00:00<?, ?it/s]"
      ]
     },
     "metadata": {},
     "output_type": "display_data"
    },
    {
     "data": {
      "application/vnd.jupyter.widget-view+json": {
       "model_id": "b1a91d4540ba46488039a46594c368c5",
       "version_major": 2,
       "version_minor": 0
      },
      "text/plain": [
       "Train Epoch 226/500, Train Loss: 0.0:   0%|          | 0/44 [00:00<?, ?it/s]"
      ]
     },
     "metadata": {},
     "output_type": "display_data"
    },
    {
     "data": {
      "application/vnd.jupyter.widget-view+json": {
       "model_id": "1e874929400d4593bfb4440f8d974dc6",
       "version_major": 2,
       "version_minor": 0
      },
      "text/plain": [
       "Test Epoch 226/500, Test Loss: 9.57481260733171:   0%|          | 0/11 [00:00<?, ?it/s]"
      ]
     },
     "metadata": {},
     "output_type": "display_data"
    },
    {
     "data": {
      "application/vnd.jupyter.widget-view+json": {
       "model_id": "cb0550e8a9a04483b7a02ca014c6cc08",
       "version_major": 2,
       "version_minor": 0
      },
      "text/plain": [
       "Train Epoch 227/500, Train Loss: 0.0:   0%|          | 0/44 [00:00<?, ?it/s]"
      ]
     },
     "metadata": {},
     "output_type": "display_data"
    },
    {
     "data": {
      "application/vnd.jupyter.widget-view+json": {
       "model_id": "f4cf42edd231472cab22308adbd5bf19",
       "version_major": 2,
       "version_minor": 0
      },
      "text/plain": [
       "Test Epoch 227/500, Test Loss: 9.575570214878429:   0%|          | 0/11 [00:00<?, ?it/s]"
      ]
     },
     "metadata": {},
     "output_type": "display_data"
    },
    {
     "data": {
      "application/vnd.jupyter.widget-view+json": {
       "model_id": "07708ce8a8d04a3d93c6efeb64800fd8",
       "version_major": 2,
       "version_minor": 0
      },
      "text/plain": [
       "Train Epoch 228/500, Train Loss: 0.0:   0%|          | 0/44 [00:00<?, ?it/s]"
      ]
     },
     "metadata": {},
     "output_type": "display_data"
    },
    {
     "data": {
      "application/vnd.jupyter.widget-view+json": {
       "model_id": "8d24e7d2e3b5417789498aec74615022",
       "version_major": 2,
       "version_minor": 0
      },
      "text/plain": [
       "Test Epoch 228/500, Test Loss: 9.57443380355835:   0%|          | 0/11 [00:00<?, ?it/s]"
      ]
     },
     "metadata": {},
     "output_type": "display_data"
    },
    {
     "data": {
      "application/vnd.jupyter.widget-view+json": {
       "model_id": "efd922bfc2024047b466977267892d2f",
       "version_major": 2,
       "version_minor": 0
      },
      "text/plain": [
       "Train Epoch 229/500, Train Loss: 0.0:   0%|          | 0/44 [00:00<?, ?it/s]"
      ]
     },
     "metadata": {},
     "output_type": "display_data"
    },
    {
     "data": {
      "application/vnd.jupyter.widget-view+json": {
       "model_id": "9f64791d7ddb4bfdb3297e9883d98985",
       "version_major": 2,
       "version_minor": 0
      },
      "text/plain": [
       "Test Epoch 229/500, Test Loss: 9.574433825232767:   0%|          | 0/11 [00:00<?, ?it/s]"
      ]
     },
     "metadata": {},
     "output_type": "display_data"
    },
    {
     "data": {
      "application/vnd.jupyter.widget-view+json": {
       "model_id": "0e3c6ac305f642ca85323fc47acf0304",
       "version_major": 2,
       "version_minor": 0
      },
      "text/plain": [
       "Train Epoch 230/500, Train Loss: 0.0:   0%|          | 0/44 [00:00<?, ?it/s]"
      ]
     },
     "metadata": {},
     "output_type": "display_data"
    },
    {
     "data": {
      "application/vnd.jupyter.widget-view+json": {
       "model_id": "bc3ecb84c5434e02826c4be29835d573",
       "version_major": 2,
       "version_minor": 0
      },
      "text/plain": [
       "Test Epoch 230/500, Test Loss: 9.574055043133823:   0%|          | 0/11 [00:00<?, ?it/s]"
      ]
     },
     "metadata": {},
     "output_type": "display_data"
    },
    {
     "data": {
      "application/vnd.jupyter.widget-view+json": {
       "model_id": "e83fbc0193604ebdb631b545977f1940",
       "version_major": 2,
       "version_minor": 0
      },
      "text/plain": [
       "Train Epoch 231/500, Train Loss: 0.0:   0%|          | 0/44 [00:00<?, ?it/s]"
      ]
     },
     "metadata": {},
     "output_type": "display_data"
    },
    {
     "data": {
      "application/vnd.jupyter.widget-view+json": {
       "model_id": "a7997e1e26984c44b4c34614bf1068af",
       "version_major": 2,
       "version_minor": 0
      },
      "text/plain": [
       "Test Epoch 231/500, Test Loss: 9.57481260733171:   0%|          | 0/11 [00:00<?, ?it/s]"
      ]
     },
     "metadata": {},
     "output_type": "display_data"
    },
    {
     "data": {
      "application/vnd.jupyter.widget-view+json": {
       "model_id": "d4c4b047c88a494589b3e050f34cb8e7",
       "version_major": 2,
       "version_minor": 0
      },
      "text/plain": [
       "Train Epoch 232/500, Train Loss: 0.0:   0%|          | 0/44 [00:00<?, ?it/s]"
      ]
     },
     "metadata": {},
     "output_type": "display_data"
    },
    {
     "data": {
      "application/vnd.jupyter.widget-view+json": {
       "model_id": "eff0f384a3a94795acf9c7ea2ef36bd7",
       "version_major": 2,
       "version_minor": 0
      },
      "text/plain": [
       "Test Epoch 232/500, Test Loss: 9.574055043133823:   0%|          | 0/11 [00:00<?, ?it/s]"
      ]
     },
     "metadata": {},
     "output_type": "display_data"
    },
    {
     "data": {
      "application/vnd.jupyter.widget-view+json": {
       "model_id": "57ee103f495c47aba6277c7822ad98af",
       "version_major": 2,
       "version_minor": 0
      },
      "text/plain": [
       "Train Epoch 233/500, Train Loss: 0.0:   0%|          | 0/44 [00:00<?, ?it/s]"
      ]
     },
     "metadata": {},
     "output_type": "display_data"
    },
    {
     "data": {
      "application/vnd.jupyter.widget-view+json": {
       "model_id": "89a3f5bf1fce4bdb83c3a14317e23270",
       "version_major": 2,
       "version_minor": 0
      },
      "text/plain": [
       "Test Epoch 233/500, Test Loss: 9.575191389430653:   0%|          | 0/11 [00:00<?, ?it/s]"
      ]
     },
     "metadata": {},
     "output_type": "display_data"
    },
    {
     "data": {
      "application/vnd.jupyter.widget-view+json": {
       "model_id": "5368b0a449a54fa0b2765867ddf7f4cd",
       "version_major": 2,
       "version_minor": 0
      },
      "text/plain": [
       "Train Epoch 234/500, Train Loss: 0.0:   0%|          | 0/44 [00:00<?, ?it/s]"
      ]
     },
     "metadata": {},
     "output_type": "display_data"
    },
    {
     "data": {
      "application/vnd.jupyter.widget-view+json": {
       "model_id": "d166406bef224857b9e8a57e4d1efd74",
       "version_major": 2,
       "version_minor": 0
      },
      "text/plain": [
       "Test Epoch 234/500, Test Loss: 9.57481260733171:   0%|          | 0/11 [00:00<?, ?it/s]"
      ]
     },
     "metadata": {},
     "output_type": "display_data"
    },
    {
     "data": {
      "application/vnd.jupyter.widget-view+json": {
       "model_id": "8e909381accf44d881743ffdb4778829",
       "version_major": 2,
       "version_minor": 0
      },
      "text/plain": [
       "Train Epoch 235/500, Train Loss: 0.0:   0%|          | 0/44 [00:00<?, ?it/s]"
      ]
     },
     "metadata": {},
     "output_type": "display_data"
    },
    {
     "data": {
      "application/vnd.jupyter.widget-view+json": {
       "model_id": "7828f21ff21f49b39a2991db21979a2a",
       "version_major": 2,
       "version_minor": 0
      },
      "text/plain": [
       "Test Epoch 235/500, Test Loss: 9.57481260733171:   0%|          | 0/11 [00:00<?, ?it/s]"
      ]
     },
     "metadata": {},
     "output_type": "display_data"
    },
    {
     "data": {
      "application/vnd.jupyter.widget-view+json": {
       "model_id": "b4d6d3daf8234d40b6254960036caa5f",
       "version_major": 2,
       "version_minor": 0
      },
      "text/plain": [
       "Train Epoch 236/500, Train Loss: 0.0:   0%|          | 0/44 [00:00<?, ?it/s]"
      ]
     },
     "metadata": {},
     "output_type": "display_data"
    },
    {
     "data": {
      "application/vnd.jupyter.widget-view+json": {
       "model_id": "fd76e7fc17494ad58436d029d9a29d70",
       "version_major": 2,
       "version_minor": 0
      },
      "text/plain": [
       "Test Epoch 236/500, Test Loss: 9.57481260733171:   0%|          | 0/11 [00:00<?, ?it/s]"
      ]
     },
     "metadata": {},
     "output_type": "display_data"
    },
    {
     "data": {
      "application/vnd.jupyter.widget-view+json": {
       "model_id": "8a663fd8ae0b4234b2ac380a9572c3b4",
       "version_major": 2,
       "version_minor": 0
      },
      "text/plain": [
       "Train Epoch 237/500, Train Loss: 0.0:   0%|          | 0/44 [00:00<?, ?it/s]"
      ]
     },
     "metadata": {},
     "output_type": "display_data"
    },
    {
     "data": {
      "application/vnd.jupyter.widget-view+json": {
       "model_id": "26b7b7e81a1e4714938b6382d262e2d5",
       "version_major": 2,
       "version_minor": 0
      },
      "text/plain": [
       "Test Epoch 237/500, Test Loss: 9.575570214878429:   0%|          | 0/11 [00:00<?, ?it/s]"
      ]
     },
     "metadata": {},
     "output_type": "display_data"
    },
    {
     "data": {
      "application/vnd.jupyter.widget-view+json": {
       "model_id": "bc6c2d6e07db4a08a30a7c42e4a3e339",
       "version_major": 2,
       "version_minor": 0
      },
      "text/plain": [
       "Train Epoch 238/500, Train Loss: 0.0:   0%|          | 0/44 [00:00<?, ?it/s]"
      ]
     },
     "metadata": {},
     "output_type": "display_data"
    },
    {
     "data": {
      "application/vnd.jupyter.widget-view+json": {
       "model_id": "ec645f48a745424586aecb57aa606cda",
       "version_major": 2,
       "version_minor": 0
      },
      "text/plain": [
       "Test Epoch 238/500, Test Loss: 9.573297478935935:   0%|          | 0/11 [00:00<?, ?it/s]"
      ]
     },
     "metadata": {},
     "output_type": "display_data"
    },
    {
     "data": {
      "application/vnd.jupyter.widget-view+json": {
       "model_id": "f4a10d5b8bfa4744ba1db857498718bb",
       "version_major": 2,
       "version_minor": 0
      },
      "text/plain": [
       "Train Epoch 239/500, Train Loss: 0.0:   0%|          | 0/44 [00:00<?, ?it/s]"
      ]
     },
     "metadata": {},
     "output_type": "display_data"
    },
    {
     "data": {
      "application/vnd.jupyter.widget-view+json": {
       "model_id": "953e8419e6cf43f18dd4494485e12948",
       "version_major": 2,
       "version_minor": 0
      },
      "text/plain": [
       "Test Epoch 239/500, Test Loss: 9.574433825232767:   0%|          | 0/11 [00:00<?, ?it/s]"
      ]
     },
     "metadata": {},
     "output_type": "display_data"
    },
    {
     "data": {
      "application/vnd.jupyter.widget-view+json": {
       "model_id": "56699868bc954f999e7a5000c21c1a39",
       "version_major": 2,
       "version_minor": 0
      },
      "text/plain": [
       "Train Epoch 240/500, Train Loss: 0.0:   0%|          | 0/44 [00:00<?, ?it/s]"
      ]
     },
     "metadata": {},
     "output_type": "display_data"
    },
    {
     "data": {
      "application/vnd.jupyter.widget-view+json": {
       "model_id": "5687db849fa34488bb583be76f728636",
       "version_major": 2,
       "version_minor": 0
      },
      "text/plain": [
       "Test Epoch 240/500, Test Loss: 9.574433846907182:   0%|          | 0/11 [00:00<?, ?it/s]"
      ]
     },
     "metadata": {},
     "output_type": "display_data"
    },
    {
     "data": {
      "application/vnd.jupyter.widget-view+json": {
       "model_id": "c96b029c547c479abc1da40333a55ea8",
       "version_major": 2,
       "version_minor": 0
      },
      "text/plain": [
       "Train Epoch 241/500, Train Loss: 0.0:   0%|          | 0/44 [00:00<?, ?it/s]"
      ]
     },
     "metadata": {},
     "output_type": "display_data"
    },
    {
     "data": {
      "application/vnd.jupyter.widget-view+json": {
       "model_id": "99f4a991659541169778814db46f47ce",
       "version_major": 2,
       "version_minor": 0
      },
      "text/plain": [
       "Test Epoch 241/500, Test Loss: 9.57481260733171:   0%|          | 0/11 [00:00<?, ?it/s]"
      ]
     },
     "metadata": {},
     "output_type": "display_data"
    },
    {
     "data": {
      "application/vnd.jupyter.widget-view+json": {
       "model_id": "e8274c02395943498c794a83d3e59d33",
       "version_major": 2,
       "version_minor": 0
      },
      "text/plain": [
       "Train Epoch 242/500, Train Loss: 0.0:   0%|          | 0/44 [00:00<?, ?it/s]"
      ]
     },
     "metadata": {},
     "output_type": "display_data"
    },
    {
     "data": {
      "application/vnd.jupyter.widget-view+json": {
       "model_id": "f1521eb443c74b9bb999365d1acfde11",
       "version_major": 2,
       "version_minor": 0
      },
      "text/plain": [
       "Test Epoch 242/500, Test Loss: 9.574812629006125:   0%|          | 0/11 [00:00<?, ?it/s]"
      ]
     },
     "metadata": {},
     "output_type": "display_data"
    },
    {
     "data": {
      "application/vnd.jupyter.widget-view+json": {
       "model_id": "131b56d553d5469ebbfa5782d5346b71",
       "version_major": 2,
       "version_minor": 0
      },
      "text/plain": [
       "Train Epoch 243/500, Train Loss: 0.0:   0%|          | 0/44 [00:00<?, ?it/s]"
      ]
     },
     "metadata": {},
     "output_type": "display_data"
    },
    {
     "data": {
      "application/vnd.jupyter.widget-view+json": {
       "model_id": "dd7f49c833c04c60bbc0e4dc5cc08c77",
       "version_major": 2,
       "version_minor": 0
      },
      "text/plain": [
       "Test Epoch 243/500, Test Loss: 9.57481260733171:   0%|          | 0/11 [00:00<?, ?it/s]"
      ]
     },
     "metadata": {},
     "output_type": "display_data"
    },
    {
     "data": {
      "application/vnd.jupyter.widget-view+json": {
       "model_id": "605999df091f4209b4820a0cc99ef599",
       "version_major": 2,
       "version_minor": 0
      },
      "text/plain": [
       "Train Epoch 244/500, Train Loss: 0.0:   0%|          | 0/44 [00:00<?, ?it/s]"
      ]
     },
     "metadata": {},
     "output_type": "display_data"
    },
    {
     "data": {
      "application/vnd.jupyter.widget-view+json": {
       "model_id": "a50c2ab719ed43b58fc13127cf2bfede",
       "version_major": 2,
       "version_minor": 0
      },
      "text/plain": [
       "Test Epoch 244/500, Test Loss: 9.574433825232767:   0%|          | 0/11 [00:00<?, ?it/s]"
      ]
     },
     "metadata": {},
     "output_type": "display_data"
    },
    {
     "data": {
      "application/vnd.jupyter.widget-view+json": {
       "model_id": "50c49261a6d2458ca062679c9f6d6abf",
       "version_major": 2,
       "version_minor": 0
      },
      "text/plain": [
       "Train Epoch 245/500, Train Loss: 0.0:   0%|          | 0/44 [00:00<?, ?it/s]"
      ]
     },
     "metadata": {},
     "output_type": "display_data"
    },
    {
     "data": {
      "application/vnd.jupyter.widget-view+json": {
       "model_id": "dd5892efe0cf4752aa878772778fb88e",
       "version_major": 2,
       "version_minor": 0
      },
      "text/plain": [
       "Test Epoch 245/500, Test Loss: 9.575191454453902:   0%|          | 0/11 [00:00<?, ?it/s]"
      ]
     },
     "metadata": {},
     "output_type": "display_data"
    },
    {
     "data": {
      "application/vnd.jupyter.widget-view+json": {
       "model_id": "44b395a27c704a6e8f5468bc7c913662",
       "version_major": 2,
       "version_minor": 0
      },
      "text/plain": [
       "Train Epoch 246/500, Train Loss: 0.0:   0%|          | 0/44 [00:00<?, ?it/s]"
      ]
     },
     "metadata": {},
     "output_type": "display_data"
    },
    {
     "data": {
      "application/vnd.jupyter.widget-view+json": {
       "model_id": "f52e26dd2b8845cfa98063a0bb9c84bd",
       "version_major": 2,
       "version_minor": 0
      },
      "text/plain": [
       "Test Epoch 246/500, Test Loss: 9.574055064808238:   0%|          | 0/11 [00:00<?, ?it/s]"
      ]
     },
     "metadata": {},
     "output_type": "display_data"
    },
    {
     "data": {
      "application/vnd.jupyter.widget-view+json": {
       "model_id": "b985d1b3b83f4ddfae2e18cd97280c52",
       "version_major": 2,
       "version_minor": 0
      },
      "text/plain": [
       "Train Epoch 247/500, Train Loss: 0.0:   0%|          | 0/44 [00:00<?, ?it/s]"
      ]
     },
     "metadata": {},
     "output_type": "display_data"
    },
    {
     "data": {
      "application/vnd.jupyter.widget-view+json": {
       "model_id": "06f2cea40f5d441c8ce183b044384cc9",
       "version_major": 2,
       "version_minor": 0
      },
      "text/plain": [
       "Test Epoch 247/500, Test Loss: 9.575191389430653:   0%|          | 0/11 [00:00<?, ?it/s]"
      ]
     },
     "metadata": {},
     "output_type": "display_data"
    },
    {
     "data": {
      "application/vnd.jupyter.widget-view+json": {
       "model_id": "0e8d467bccb1498f98a0d50d2669b70a",
       "version_major": 2,
       "version_minor": 0
      },
      "text/plain": [
       "Train Epoch 248/500, Train Loss: 0.0:   0%|          | 0/44 [00:00<?, ?it/s]"
      ]
     },
     "metadata": {},
     "output_type": "display_data"
    },
    {
     "data": {
      "application/vnd.jupyter.widget-view+json": {
       "model_id": "b1baa924f396407f83c112a44a6c5ea4",
       "version_major": 2,
       "version_minor": 0
      },
      "text/plain": [
       "Test Epoch 248/500, Test Loss: 9.573297478935935:   0%|          | 0/11 [00:00<?, ?it/s]"
      ]
     },
     "metadata": {},
     "output_type": "display_data"
    },
    {
     "data": {
      "application/vnd.jupyter.widget-view+json": {
       "model_id": "3c8a3d85051442e7b01cfac9511117d7",
       "version_major": 2,
       "version_minor": 0
      },
      "text/plain": [
       "Train Epoch 249/500, Train Loss: 0.0:   0%|          | 0/44 [00:00<?, ?it/s]"
      ]
     },
     "metadata": {},
     "output_type": "display_data"
    },
    {
     "data": {
      "application/vnd.jupyter.widget-view+json": {
       "model_id": "20c8d859519745aa908c83daaf071aa7",
       "version_major": 2,
       "version_minor": 0
      },
      "text/plain": [
       "Test Epoch 249/500, Test Loss: 9.57481260733171:   0%|          | 0/11 [00:00<?, ?it/s]"
      ]
     },
     "metadata": {},
     "output_type": "display_data"
    },
    {
     "data": {
      "application/vnd.jupyter.widget-view+json": {
       "model_id": "ca290d903df9411bb52c29b0039d29e6",
       "version_major": 2,
       "version_minor": 0
      },
      "text/plain": [
       "Train Epoch 250/500, Train Loss: 0.0:   0%|          | 0/44 [00:00<?, ?it/s]"
      ]
     },
     "metadata": {},
     "output_type": "display_data"
    },
    {
     "data": {
      "application/vnd.jupyter.widget-view+json": {
       "model_id": "0a12f0dceadc4df6ba505f673b9b80e2",
       "version_major": 2,
       "version_minor": 0
      },
      "text/plain": [
       "Test Epoch 250/500, Test Loss: 9.57481260733171:   0%|          | 0/11 [00:00<?, ?it/s]"
      ]
     },
     "metadata": {},
     "output_type": "display_data"
    },
    {
     "data": {
      "application/vnd.jupyter.widget-view+json": {
       "model_id": "6f4861d969424567a37cebdb00b7efa3",
       "version_major": 2,
       "version_minor": 0
      },
      "text/plain": [
       "Train Epoch 251/500, Train Loss: 0.0:   0%|          | 0/44 [00:00<?, ?it/s]"
      ]
     },
     "metadata": {},
     "output_type": "display_data"
    },
    {
     "data": {
      "application/vnd.jupyter.widget-view+json": {
       "model_id": "91f68cc9fdfc4c6db76c89a476ef5159",
       "version_major": 2,
       "version_minor": 0
      },
      "text/plain": [
       "Test Epoch 251/500, Test Loss: 9.574812629006125:   0%|          | 0/11 [00:00<?, ?it/s]"
      ]
     },
     "metadata": {},
     "output_type": "display_data"
    },
    {
     "data": {
      "application/vnd.jupyter.widget-view+json": {
       "model_id": "0cd4d1144e9b4513b8df757e6bfd992f",
       "version_major": 2,
       "version_minor": 0
      },
      "text/plain": [
       "Train Epoch 252/500, Train Loss: 0.0:   0%|          | 0/44 [00:00<?, ?it/s]"
      ]
     },
     "metadata": {},
     "output_type": "display_data"
    },
    {
     "data": {
      "application/vnd.jupyter.widget-view+json": {
       "model_id": "7c08683c39c84c129a435f0a99e6cc7b",
       "version_major": 2,
       "version_minor": 0
      },
      "text/plain": [
       "Test Epoch 252/500, Test Loss: 9.57481260733171:   0%|          | 0/11 [00:00<?, ?it/s]"
      ]
     },
     "metadata": {},
     "output_type": "display_data"
    },
    {
     "data": {
      "application/vnd.jupyter.widget-view+json": {
       "model_id": "aaef8ff7d01f41fda9df8e8e2aac1c13",
       "version_major": 2,
       "version_minor": 0
      },
      "text/plain": [
       "Train Epoch 253/500, Train Loss: 0.0:   0%|          | 0/44 [00:00<?, ?it/s]"
      ]
     },
     "metadata": {},
     "output_type": "display_data"
    },
    {
     "data": {
      "application/vnd.jupyter.widget-view+json": {
       "model_id": "3a7f8e52646046d48c8b43c145460ddc",
       "version_major": 2,
       "version_minor": 0
      },
      "text/plain": [
       "Test Epoch 253/500, Test Loss: 9.574433846907182:   0%|          | 0/11 [00:00<?, ?it/s]"
      ]
     },
     "metadata": {},
     "output_type": "display_data"
    },
    {
     "data": {
      "application/vnd.jupyter.widget-view+json": {
       "model_id": "a0b4fc2c32cd41cea75f62aef4b8bf48",
       "version_major": 2,
       "version_minor": 0
      },
      "text/plain": [
       "Train Epoch 254/500, Train Loss: 0.0:   0%|          | 0/44 [00:00<?, ?it/s]"
      ]
     },
     "metadata": {},
     "output_type": "display_data"
    },
    {
     "data": {
      "application/vnd.jupyter.widget-view+json": {
       "model_id": "232187b120894178ae46f56e1ad8f6de",
       "version_major": 2,
       "version_minor": 0
      },
      "text/plain": [
       "Test Epoch 254/500, Test Loss: 9.574433846907182:   0%|          | 0/11 [00:00<?, ?it/s]"
      ]
     },
     "metadata": {},
     "output_type": "display_data"
    },
    {
     "data": {
      "application/vnd.jupyter.widget-view+json": {
       "model_id": "882e160286784f79b90e1a198b5cd002",
       "version_major": 2,
       "version_minor": 0
      },
      "text/plain": [
       "Train Epoch 255/500, Train Loss: 0.0:   0%|          | 0/44 [00:00<?, ?it/s]"
      ]
     },
     "metadata": {},
     "output_type": "display_data"
    },
    {
     "data": {
      "application/vnd.jupyter.widget-view+json": {
       "model_id": "affbf2ffa0d4436abdc8e8940ba5a514",
       "version_major": 2,
       "version_minor": 0
      },
      "text/plain": [
       "Test Epoch 255/500, Test Loss: 9.575570193204014:   0%|          | 0/11 [00:00<?, ?it/s]"
      ]
     },
     "metadata": {},
     "output_type": "display_data"
    },
    {
     "data": {
      "application/vnd.jupyter.widget-view+json": {
       "model_id": "9a7fcf56881a4fe391498511264da82f",
       "version_major": 2,
       "version_minor": 0
      },
      "text/plain": [
       "Train Epoch 256/500, Train Loss: 0.0:   0%|          | 0/44 [00:00<?, ?it/s]"
      ]
     },
     "metadata": {},
     "output_type": "display_data"
    },
    {
     "data": {
      "application/vnd.jupyter.widget-view+json": {
       "model_id": "4be5a1fe10dd4a81863e5c9c77a27941",
       "version_major": 2,
       "version_minor": 0
      },
      "text/plain": [
       "Test Epoch 256/500, Test Loss: 9.575570193204014:   0%|          | 0/11 [00:00<?, ?it/s]"
      ]
     },
     "metadata": {},
     "output_type": "display_data"
    },
    {
     "data": {
      "application/vnd.jupyter.widget-view+json": {
       "model_id": "a6629644f20942cbbca244a5d48a3a09",
       "version_major": 2,
       "version_minor": 0
      },
      "text/plain": [
       "Train Epoch 257/500, Train Loss: 0.0:   0%|          | 0/44 [00:00<?, ?it/s]"
      ]
     },
     "metadata": {},
     "output_type": "display_data"
    },
    {
     "data": {
      "application/vnd.jupyter.widget-view+json": {
       "model_id": "430491feba984a7094f1cbbd59a82e71",
       "version_major": 2,
       "version_minor": 0
      },
      "text/plain": [
       "Test Epoch 257/500, Test Loss: 9.574433825232767:   0%|          | 0/11 [00:00<?, ?it/s]"
      ]
     },
     "metadata": {},
     "output_type": "display_data"
    },
    {
     "data": {
      "application/vnd.jupyter.widget-view+json": {
       "model_id": "48a08b62d3b247e181e21b8d4aaa2818",
       "version_major": 2,
       "version_minor": 0
      },
      "text/plain": [
       "Train Epoch 258/500, Train Loss: 0.0:   0%|          | 0/44 [00:00<?, ?it/s]"
      ]
     },
     "metadata": {},
     "output_type": "display_data"
    },
    {
     "data": {
      "application/vnd.jupyter.widget-view+json": {
       "model_id": "8ab3d17f869e4497bca61177d19fc582",
       "version_major": 2,
       "version_minor": 0
      },
      "text/plain": [
       "Test Epoch 258/500, Test Loss: 9.575191389430653:   0%|          | 0/11 [00:00<?, ?it/s]"
      ]
     },
     "metadata": {},
     "output_type": "display_data"
    },
    {
     "data": {
      "application/vnd.jupyter.widget-view+json": {
       "model_id": "75fc8e9a4daa429693ab790ae9280974",
       "version_major": 2,
       "version_minor": 0
      },
      "text/plain": [
       "Train Epoch 259/500, Train Loss: 0.0:   0%|          | 0/44 [00:00<?, ?it/s]"
      ]
     },
     "metadata": {},
     "output_type": "display_data"
    },
    {
     "data": {
      "application/vnd.jupyter.widget-view+json": {
       "model_id": "228e10e7148e495380b3de946da896ed",
       "version_major": 2,
       "version_minor": 0
      },
      "text/plain": [
       "Test Epoch 259/500, Test Loss: 9.57481260733171:   0%|          | 0/11 [00:00<?, ?it/s]"
      ]
     },
     "metadata": {},
     "output_type": "display_data"
    },
    {
     "data": {
      "application/vnd.jupyter.widget-view+json": {
       "model_id": "dedb090e21924feb821ec430eaa015b5",
       "version_major": 2,
       "version_minor": 0
      },
      "text/plain": [
       "Train Epoch 260/500, Train Loss: 0.0:   0%|          | 0/44 [00:00<?, ?it/s]"
      ]
     },
     "metadata": {},
     "output_type": "display_data"
    },
    {
     "data": {
      "application/vnd.jupyter.widget-view+json": {
       "model_id": "602610ce36af44d887ba3f72403d7e85",
       "version_major": 2,
       "version_minor": 0
      },
      "text/plain": [
       "Test Epoch 260/500, Test Loss: 9.57481260733171:   0%|          | 0/11 [00:00<?, ?it/s]"
      ]
     },
     "metadata": {},
     "output_type": "display_data"
    },
    {
     "data": {
      "application/vnd.jupyter.widget-view+json": {
       "model_id": "90f3b784f0ca493e8cc804e4adb90f8a",
       "version_major": 2,
       "version_minor": 0
      },
      "text/plain": [
       "Train Epoch 261/500, Train Loss: 0.0:   0%|          | 0/44 [00:00<?, ?it/s]"
      ]
     },
     "metadata": {},
     "output_type": "display_data"
    },
    {
     "data": {
      "application/vnd.jupyter.widget-view+json": {
       "model_id": "01d9c5fda20f49a2a30a701fe883c020",
       "version_major": 2,
       "version_minor": 0
      },
      "text/plain": [
       "Test Epoch 261/500, Test Loss: 9.574055064808238:   0%|          | 0/11 [00:00<?, ?it/s]"
      ]
     },
     "metadata": {},
     "output_type": "display_data"
    },
    {
     "data": {
      "application/vnd.jupyter.widget-view+json": {
       "model_id": "7ab5a3603a34470bbd6435b45160a756",
       "version_major": 2,
       "version_minor": 0
      },
      "text/plain": [
       "Train Epoch 262/500, Train Loss: 0.0:   0%|          | 0/44 [00:00<?, ?it/s]"
      ]
     },
     "metadata": {},
     "output_type": "display_data"
    },
    {
     "data": {
      "application/vnd.jupyter.widget-view+json": {
       "model_id": "83689eb13d3241c5a6fcfe787494bcc1",
       "version_major": 2,
       "version_minor": 0
      },
      "text/plain": [
       "Test Epoch 262/500, Test Loss: 9.573676239360463:   0%|          | 0/11 [00:00<?, ?it/s]"
      ]
     },
     "metadata": {},
     "output_type": "display_data"
    },
    {
     "data": {
      "application/vnd.jupyter.widget-view+json": {
       "model_id": "1eabce915fb848a98d38d21843d0b982",
       "version_major": 2,
       "version_minor": 0
      },
      "text/plain": [
       "Train Epoch 263/500, Train Loss: 0.0:   0%|          | 0/44 [00:00<?, ?it/s]"
      ]
     },
     "metadata": {},
     "output_type": "display_data"
    },
    {
     "data": {
      "application/vnd.jupyter.widget-view+json": {
       "model_id": "1efd31c0ac24419c9a7364849c909c27",
       "version_major": 2,
       "version_minor": 0
      },
      "text/plain": [
       "Test Epoch 263/500, Test Loss: 9.575570214878429:   0%|          | 0/11 [00:00<?, ?it/s]"
      ]
     },
     "metadata": {},
     "output_type": "display_data"
    },
    {
     "data": {
      "application/vnd.jupyter.widget-view+json": {
       "model_id": "8247fbf6764c4aa18ab537bbe60f3e73",
       "version_major": 2,
       "version_minor": 0
      },
      "text/plain": [
       "Train Epoch 264/500, Train Loss: 0.0:   0%|          | 0/44 [00:00<?, ?it/s]"
      ]
     },
     "metadata": {},
     "output_type": "display_data"
    },
    {
     "data": {
      "application/vnd.jupyter.widget-view+json": {
       "model_id": "70c266e4c2de47aaa7bbca752e0ce18d",
       "version_major": 2,
       "version_minor": 0
      },
      "text/plain": [
       "Test Epoch 264/500, Test Loss: 9.574433846907182:   0%|          | 0/11 [00:00<?, ?it/s]"
      ]
     },
     "metadata": {},
     "output_type": "display_data"
    },
    {
     "data": {
      "application/vnd.jupyter.widget-view+json": {
       "model_id": "b5ef360ec6ad43e3866c319a766e195c",
       "version_major": 2,
       "version_minor": 0
      },
      "text/plain": [
       "Train Epoch 265/500, Train Loss: 0.0:   0%|          | 0/44 [00:00<?, ?it/s]"
      ]
     },
     "metadata": {},
     "output_type": "display_data"
    },
    {
     "data": {
      "application/vnd.jupyter.widget-view+json": {
       "model_id": "60f74f5969d14f0a91c73b2c1389a8b4",
       "version_major": 2,
       "version_minor": 0
      },
      "text/plain": [
       "Test Epoch 265/500, Test Loss: 9.574433846907182:   0%|          | 0/11 [00:00<?, ?it/s]"
      ]
     },
     "metadata": {},
     "output_type": "display_data"
    },
    {
     "data": {
      "application/vnd.jupyter.widget-view+json": {
       "model_id": "3ea3a3ef09c44deba05a7b5f62adec4e",
       "version_major": 2,
       "version_minor": 0
      },
      "text/plain": [
       "Train Epoch 266/500, Train Loss: 0.0:   0%|          | 0/44 [00:00<?, ?it/s]"
      ]
     },
     "metadata": {},
     "output_type": "display_data"
    },
    {
     "data": {
      "application/vnd.jupyter.widget-view+json": {
       "model_id": "316a8994175342bb9b1bff78cc5bd285",
       "version_major": 2,
       "version_minor": 0
      },
      "text/plain": [
       "Test Epoch 266/500, Test Loss: 9.574812629006125:   0%|          | 0/11 [00:00<?, ?it/s]"
      ]
     },
     "metadata": {},
     "output_type": "display_data"
    },
    {
     "data": {
      "application/vnd.jupyter.widget-view+json": {
       "model_id": "938dc6dba8da4e59aa8bccce232bf80f",
       "version_major": 2,
       "version_minor": 0
      },
      "text/plain": [
       "Train Epoch 267/500, Train Loss: 0.0:   0%|          | 0/44 [00:00<?, ?it/s]"
      ]
     },
     "metadata": {},
     "output_type": "display_data"
    },
    {
     "data": {
      "application/vnd.jupyter.widget-view+json": {
       "model_id": "3cf33a575c194f51a14fd1e4e4b4a398",
       "version_major": 2,
       "version_minor": 0
      },
      "text/plain": [
       "Test Epoch 267/500, Test Loss: 9.574433825232767:   0%|          | 0/11 [00:00<?, ?it/s]"
      ]
     },
     "metadata": {},
     "output_type": "display_data"
    },
    {
     "data": {
      "application/vnd.jupyter.widget-view+json": {
       "model_id": "b78cedc19e354bc3b12bb9de8f717a8c",
       "version_major": 2,
       "version_minor": 0
      },
      "text/plain": [
       "Train Epoch 268/500, Train Loss: 0.0:   0%|          | 0/44 [00:00<?, ?it/s]"
      ]
     },
     "metadata": {},
     "output_type": "display_data"
    },
    {
     "data": {
      "application/vnd.jupyter.widget-view+json": {
       "model_id": "980a322cbbd143b7a3cc88fee3369a7b",
       "version_major": 2,
       "version_minor": 0
      },
      "text/plain": [
       "Test Epoch 268/500, Test Loss: 9.575191389430653:   0%|          | 0/11 [00:00<?, ?it/s]"
      ]
     },
     "metadata": {},
     "output_type": "display_data"
    },
    {
     "data": {
      "application/vnd.jupyter.widget-view+json": {
       "model_id": "c3ec2267ab764e26bfdc48d92947d6d2",
       "version_major": 2,
       "version_minor": 0
      },
      "text/plain": [
       "Train Epoch 269/500, Train Loss: 0.0:   0%|          | 0/44 [00:00<?, ?it/s]"
      ]
     },
     "metadata": {},
     "output_type": "display_data"
    },
    {
     "data": {
      "application/vnd.jupyter.widget-view+json": {
       "model_id": "9e47889077ca4eb7919ca4b016c66806",
       "version_major": 2,
       "version_minor": 0
      },
      "text/plain": [
       "Test Epoch 269/500, Test Loss: 9.57481260733171:   0%|          | 0/11 [00:00<?, ?it/s]"
      ]
     },
     "metadata": {},
     "output_type": "display_data"
    },
    {
     "data": {
      "application/vnd.jupyter.widget-view+json": {
       "model_id": "0d4b2927ca214aa6865ef1cf88b0425b",
       "version_major": 2,
       "version_minor": 0
      },
      "text/plain": [
       "Train Epoch 270/500, Train Loss: 0.0:   0%|          | 0/44 [00:00<?, ?it/s]"
      ]
     },
     "metadata": {},
     "output_type": "display_data"
    },
    {
     "data": {
      "application/vnd.jupyter.widget-view+json": {
       "model_id": "3283eca28d2b44a08a4787300bebc312",
       "version_major": 2,
       "version_minor": 0
      },
      "text/plain": [
       "Test Epoch 270/500, Test Loss: 9.574433846907182:   0%|          | 0/11 [00:00<?, ?it/s]"
      ]
     },
     "metadata": {},
     "output_type": "display_data"
    },
    {
     "data": {
      "application/vnd.jupyter.widget-view+json": {
       "model_id": "a200f45bee60496e91a20165addfb824",
       "version_major": 2,
       "version_minor": 0
      },
      "text/plain": [
       "Train Epoch 271/500, Train Loss: 0.0:   0%|          | 0/44 [00:00<?, ?it/s]"
      ]
     },
     "metadata": {},
     "output_type": "display_data"
    },
    {
     "data": {
      "application/vnd.jupyter.widget-view+json": {
       "model_id": "43a2e667ccbd481f8d7d9b9f3b262a4e",
       "version_major": 2,
       "version_minor": 0
      },
      "text/plain": [
       "Test Epoch 271/500, Test Loss: 9.57481260733171:   0%|          | 0/11 [00:00<?, ?it/s]"
      ]
     },
     "metadata": {},
     "output_type": "display_data"
    },
    {
     "data": {
      "application/vnd.jupyter.widget-view+json": {
       "model_id": "7f15842c52d240fc8b597916ecb5ef3c",
       "version_major": 2,
       "version_minor": 0
      },
      "text/plain": [
       "Train Epoch 272/500, Train Loss: 0.0:   0%|          | 0/44 [00:00<?, ?it/s]"
      ]
     },
     "metadata": {},
     "output_type": "display_data"
    },
    {
     "data": {
      "application/vnd.jupyter.widget-view+json": {
       "model_id": "adc1017f442e483b96171f351fecd335",
       "version_major": 2,
       "version_minor": 0
      },
      "text/plain": [
       "Test Epoch 272/500, Test Loss: 9.575570171529597:   0%|          | 0/11 [00:00<?, ?it/s]"
      ]
     },
     "metadata": {},
     "output_type": "display_data"
    },
    {
     "data": {
      "application/vnd.jupyter.widget-view+json": {
       "model_id": "eecd274f72d846e0ad93315f4d641b4e",
       "version_major": 2,
       "version_minor": 0
      },
      "text/plain": [
       "Train Epoch 273/500, Train Loss: 0.0:   0%|          | 0/44 [00:00<?, ?it/s]"
      ]
     },
     "metadata": {},
     "output_type": "display_data"
    },
    {
     "data": {
      "application/vnd.jupyter.widget-view+json": {
       "model_id": "5b2b11f1aec14558ab06547bcd84f3ad",
       "version_major": 2,
       "version_minor": 0
      },
      "text/plain": [
       "Test Epoch 273/500, Test Loss: 9.57481260733171:   0%|          | 0/11 [00:00<?, ?it/s]"
      ]
     },
     "metadata": {},
     "output_type": "display_data"
    },
    {
     "data": {
      "application/vnd.jupyter.widget-view+json": {
       "model_id": "bd70a7f58b3a4f6e94a3a15cfde8e151",
       "version_major": 2,
       "version_minor": 0
      },
      "text/plain": [
       "Train Epoch 274/500, Train Loss: 0.0:   0%|          | 0/44 [00:00<?, ?it/s]"
      ]
     },
     "metadata": {},
     "output_type": "display_data"
    },
    {
     "data": {
      "application/vnd.jupyter.widget-view+json": {
       "model_id": "5b72491d92204c99b70196510105ee60",
       "version_major": 2,
       "version_minor": 0
      },
      "text/plain": [
       "Test Epoch 274/500, Test Loss: 9.575191389430653:   0%|          | 0/11 [00:00<?, ?it/s]"
      ]
     },
     "metadata": {},
     "output_type": "display_data"
    },
    {
     "data": {
      "application/vnd.jupyter.widget-view+json": {
       "model_id": "bbb592a8dfa74a3d8ea90580a678ff35",
       "version_major": 2,
       "version_minor": 0
      },
      "text/plain": [
       "Train Epoch 275/500, Train Loss: 0.0:   0%|          | 0/44 [00:00<?, ?it/s]"
      ]
     },
     "metadata": {},
     "output_type": "display_data"
    },
    {
     "data": {
      "application/vnd.jupyter.widget-view+json": {
       "model_id": "af0013031f7a41878bb6458d2700bfcf",
       "version_major": 2,
       "version_minor": 0
      },
      "text/plain": [
       "Test Epoch 275/500, Test Loss: 9.574812629006125:   0%|          | 0/11 [00:00<?, ?it/s]"
      ]
     },
     "metadata": {},
     "output_type": "display_data"
    },
    {
     "data": {
      "application/vnd.jupyter.widget-view+json": {
       "model_id": "8e4b86a4e0ef4c8eab954a9d2d3aa4d4",
       "version_major": 2,
       "version_minor": 0
      },
      "text/plain": [
       "Train Epoch 276/500, Train Loss: 0.0:   0%|          | 0/44 [00:00<?, ?it/s]"
      ]
     },
     "metadata": {},
     "output_type": "display_data"
    },
    {
     "data": {
      "application/vnd.jupyter.widget-view+json": {
       "model_id": "e7d1aadfb9da412d8138a198efcdce29",
       "version_major": 2,
       "version_minor": 0
      },
      "text/plain": [
       "Test Epoch 276/500, Test Loss: 9.574433825232767:   0%|          | 0/11 [00:00<?, ?it/s]"
      ]
     },
     "metadata": {},
     "output_type": "display_data"
    },
    {
     "data": {
      "application/vnd.jupyter.widget-view+json": {
       "model_id": "d5f8ad6ae5484a5f9a111b3330fde661",
       "version_major": 2,
       "version_minor": 0
      },
      "text/plain": [
       "Train Epoch 277/500, Train Loss: 0.0:   0%|          | 0/44 [00:00<?, ?it/s]"
      ]
     },
     "metadata": {},
     "output_type": "display_data"
    },
    {
     "data": {
      "application/vnd.jupyter.widget-view+json": {
       "model_id": "3885226492314a49b349b586d1cd61e4",
       "version_major": 2,
       "version_minor": 0
      },
      "text/plain": [
       "Test Epoch 277/500, Test Loss: 9.574433846907182:   0%|          | 0/11 [00:00<?, ?it/s]"
      ]
     },
     "metadata": {},
     "output_type": "display_data"
    },
    {
     "data": {
      "application/vnd.jupyter.widget-view+json": {
       "model_id": "59b7462e7e7648ba93385ca47d9cc6f8",
       "version_major": 2,
       "version_minor": 0
      },
      "text/plain": [
       "Train Epoch 278/500, Train Loss: 0.0:   0%|          | 0/44 [00:00<?, ?it/s]"
      ]
     },
     "metadata": {},
     "output_type": "display_data"
    },
    {
     "data": {
      "application/vnd.jupyter.widget-view+json": {
       "model_id": "fca292ea05ce406bb2556f7a5da1f8ed",
       "version_major": 2,
       "version_minor": 0
      },
      "text/plain": [
       "Test Epoch 278/500, Test Loss: 9.574433846907182:   0%|          | 0/11 [00:00<?, ?it/s]"
      ]
     },
     "metadata": {},
     "output_type": "display_data"
    },
    {
     "data": {
      "application/vnd.jupyter.widget-view+json": {
       "model_id": "b6631a05fd2a4ef69171cd8100788b11",
       "version_major": 2,
       "version_minor": 0
      },
      "text/plain": [
       "Train Epoch 279/500, Train Loss: 0.0:   0%|          | 0/44 [00:00<?, ?it/s]"
      ]
     },
     "metadata": {},
     "output_type": "display_data"
    },
    {
     "data": {
      "application/vnd.jupyter.widget-view+json": {
       "model_id": "f4c32aea2ef94eb2a79580722950cfb8",
       "version_major": 2,
       "version_minor": 0
      },
      "text/plain": [
       "Test Epoch 279/500, Test Loss: 9.574433846907182:   0%|          | 0/11 [00:00<?, ?it/s]"
      ]
     },
     "metadata": {},
     "output_type": "display_data"
    },
    {
     "data": {
      "application/vnd.jupyter.widget-view+json": {
       "model_id": "bbe06efe744b41ac8526c55ed084937b",
       "version_major": 2,
       "version_minor": 0
      },
      "text/plain": [
       "Train Epoch 280/500, Train Loss: 0.0:   0%|          | 0/44 [00:00<?, ?it/s]"
      ]
     },
     "metadata": {},
     "output_type": "display_data"
    },
    {
     "data": {
      "application/vnd.jupyter.widget-view+json": {
       "model_id": "53118f0902634786aa4f443435f4ba1a",
       "version_major": 2,
       "version_minor": 0
      },
      "text/plain": [
       "Test Epoch 280/500, Test Loss: 9.57481260733171:   0%|          | 0/11 [00:00<?, ?it/s]"
      ]
     },
     "metadata": {},
     "output_type": "display_data"
    },
    {
     "data": {
      "application/vnd.jupyter.widget-view+json": {
       "model_id": "560d6ce7317e4fa8ab9560e10d8464de",
       "version_major": 2,
       "version_minor": 0
      },
      "text/plain": [
       "Train Epoch 281/500, Train Loss: 0.0:   0%|          | 0/44 [00:00<?, ?it/s]"
      ]
     },
     "metadata": {},
     "output_type": "display_data"
    },
    {
     "data": {
      "application/vnd.jupyter.widget-view+json": {
       "model_id": "445d86c0e3cd4b8bb00690d8f69e7ba7",
       "version_major": 2,
       "version_minor": 0
      },
      "text/plain": [
       "Test Epoch 281/500, Test Loss: 9.574812629006125:   0%|          | 0/11 [00:00<?, ?it/s]"
      ]
     },
     "metadata": {},
     "output_type": "display_data"
    },
    {
     "data": {
      "application/vnd.jupyter.widget-view+json": {
       "model_id": "70cacd0ae2f74e0390cb5403a82ec1f9",
       "version_major": 2,
       "version_minor": 0
      },
      "text/plain": [
       "Train Epoch 282/500, Train Loss: 0.0:   0%|          | 0/44 [00:00<?, ?it/s]"
      ]
     },
     "metadata": {},
     "output_type": "display_data"
    },
    {
     "data": {
      "application/vnd.jupyter.widget-view+json": {
       "model_id": "e5364e9f798d4b9d98a1b3edd9e14dd5",
       "version_major": 2,
       "version_minor": 0
      },
      "text/plain": [
       "Test Epoch 282/500, Test Loss: 9.574433846907182:   0%|          | 0/11 [00:00<?, ?it/s]"
      ]
     },
     "metadata": {},
     "output_type": "display_data"
    },
    {
     "data": {
      "application/vnd.jupyter.widget-view+json": {
       "model_id": "d64cfd67caca48caa94e5f0c9cae774a",
       "version_major": 2,
       "version_minor": 0
      },
      "text/plain": [
       "Train Epoch 283/500, Train Loss: 0.0:   0%|          | 0/44 [00:00<?, ?it/s]"
      ]
     },
     "metadata": {},
     "output_type": "display_data"
    },
    {
     "data": {
      "application/vnd.jupyter.widget-view+json": {
       "model_id": "d27cc9f4a64f4299b4f9e0e9df369e1a",
       "version_major": 2,
       "version_minor": 0
      },
      "text/plain": [
       "Test Epoch 283/500, Test Loss: 9.574433846907182:   0%|          | 0/11 [00:00<?, ?it/s]"
      ]
     },
     "metadata": {},
     "output_type": "display_data"
    },
    {
     "data": {
      "application/vnd.jupyter.widget-view+json": {
       "model_id": "82303248bb5e4c00a6d8533a6c4f2e52",
       "version_major": 2,
       "version_minor": 0
      },
      "text/plain": [
       "Train Epoch 284/500, Train Loss: 0.0:   0%|          | 0/44 [00:00<?, ?it/s]"
      ]
     },
     "metadata": {},
     "output_type": "display_data"
    },
    {
     "data": {
      "application/vnd.jupyter.widget-view+json": {
       "model_id": "51562f4509594fa09b46d3374131de74",
       "version_major": 2,
       "version_minor": 0
      },
      "text/plain": [
       "Test Epoch 284/500, Test Loss: 9.574812629006125:   0%|          | 0/11 [00:00<?, ?it/s]"
      ]
     },
     "metadata": {},
     "output_type": "display_data"
    },
    {
     "data": {
      "application/vnd.jupyter.widget-view+json": {
       "model_id": "9b89110b8b1247809241e38cf79c92dc",
       "version_major": 2,
       "version_minor": 0
      },
      "text/plain": [
       "Train Epoch 285/500, Train Loss: 0.0:   0%|          | 0/44 [00:00<?, ?it/s]"
      ]
     },
     "metadata": {},
     "output_type": "display_data"
    },
    {
     "data": {
      "application/vnd.jupyter.widget-view+json": {
       "model_id": "869d3db8b39d4255879c652aab54d3bd",
       "version_major": 2,
       "version_minor": 0
      },
      "text/plain": [
       "Test Epoch 285/500, Test Loss: 9.57481260733171:   0%|          | 0/11 [00:00<?, ?it/s]"
      ]
     },
     "metadata": {},
     "output_type": "display_data"
    },
    {
     "data": {
      "application/vnd.jupyter.widget-view+json": {
       "model_id": "eec5f27088e04660aa1304a2119399c4",
       "version_major": 2,
       "version_minor": 0
      },
      "text/plain": [
       "Train Epoch 286/500, Train Loss: 0.0:   0%|          | 0/44 [00:00<?, ?it/s]"
      ]
     },
     "metadata": {},
     "output_type": "display_data"
    },
    {
     "data": {
      "application/vnd.jupyter.widget-view+json": {
       "model_id": "11361b0a3a554e21bdc5bd8332711e1f",
       "version_major": 2,
       "version_minor": 0
      },
      "text/plain": [
       "Test Epoch 286/500, Test Loss: 9.574055064808238:   0%|          | 0/11 [00:00<?, ?it/s]"
      ]
     },
     "metadata": {},
     "output_type": "display_data"
    },
    {
     "data": {
      "application/vnd.jupyter.widget-view+json": {
       "model_id": "36d94aa2dcc64db48b75cf508a5ca990",
       "version_major": 2,
       "version_minor": 0
      },
      "text/plain": [
       "Train Epoch 287/500, Train Loss: 0.0:   0%|          | 0/44 [00:00<?, ?it/s]"
      ]
     },
     "metadata": {},
     "output_type": "display_data"
    },
    {
     "data": {
      "application/vnd.jupyter.widget-view+json": {
       "model_id": "65fd894e09f84505aa29d760ed2569ec",
       "version_major": 2,
       "version_minor": 0
      },
      "text/plain": [
       "Test Epoch 287/500, Test Loss: 9.574433846907182:   0%|          | 0/11 [00:00<?, ?it/s]"
      ]
     },
     "metadata": {},
     "output_type": "display_data"
    },
    {
     "data": {
      "application/vnd.jupyter.widget-view+json": {
       "model_id": "bc8a5d60be0d4c368df4ad74679cc506",
       "version_major": 2,
       "version_minor": 0
      },
      "text/plain": [
       "Train Epoch 288/500, Train Loss: 0.0:   0%|          | 0/44 [00:00<?, ?it/s]"
      ]
     },
     "metadata": {},
     "output_type": "display_data"
    },
    {
     "data": {
      "application/vnd.jupyter.widget-view+json": {
       "model_id": "96f1c76ce717419eb5004c13b97ae9d9",
       "version_major": 2,
       "version_minor": 0
      },
      "text/plain": [
       "Test Epoch 288/500, Test Loss: 9.574433846907182:   0%|          | 0/11 [00:00<?, ?it/s]"
      ]
     },
     "metadata": {},
     "output_type": "display_data"
    },
    {
     "data": {
      "application/vnd.jupyter.widget-view+json": {
       "model_id": "7e8f51808d434b2fa57c47c48d3e98e9",
       "version_major": 2,
       "version_minor": 0
      },
      "text/plain": [
       "Train Epoch 289/500, Train Loss: 0.0:   0%|          | 0/44 [00:00<?, ?it/s]"
      ]
     },
     "metadata": {},
     "output_type": "display_data"
    },
    {
     "data": {
      "application/vnd.jupyter.widget-view+json": {
       "model_id": "284d04d27ae64189a589f5086b250d19",
       "version_major": 2,
       "version_minor": 0
      },
      "text/plain": [
       "Test Epoch 289/500, Test Loss: 9.57481260733171:   0%|          | 0/11 [00:00<?, ?it/s]"
      ]
     },
     "metadata": {},
     "output_type": "display_data"
    },
    {
     "data": {
      "application/vnd.jupyter.widget-view+json": {
       "model_id": "834c17d971644f6c8c058a755db30c57",
       "version_major": 2,
       "version_minor": 0
      },
      "text/plain": [
       "Train Epoch 290/500, Train Loss: 0.0:   0%|          | 0/44 [00:00<?, ?it/s]"
      ]
     },
     "metadata": {},
     "output_type": "display_data"
    },
    {
     "data": {
      "application/vnd.jupyter.widget-view+json": {
       "model_id": "b561b43b5e3847feb3a806feab048e2f",
       "version_major": 2,
       "version_minor": 0
      },
      "text/plain": [
       "Test Epoch 290/500, Test Loss: 9.574812650680542:   0%|          | 0/11 [00:00<?, ?it/s]"
      ]
     },
     "metadata": {},
     "output_type": "display_data"
    },
    {
     "data": {
      "application/vnd.jupyter.widget-view+json": {
       "model_id": "03471fc1721946ecb8a4bffc233f2a58",
       "version_major": 2,
       "version_minor": 0
      },
      "text/plain": [
       "Train Epoch 291/500, Train Loss: 0.0:   0%|          | 0/44 [00:00<?, ?it/s]"
      ]
     },
     "metadata": {},
     "output_type": "display_data"
    },
    {
     "data": {
      "application/vnd.jupyter.widget-view+json": {
       "model_id": "3452beed323d4ce38fcd201f81dcdf07",
       "version_major": 2,
       "version_minor": 0
      },
      "text/plain": [
       "Test Epoch 291/500, Test Loss: 9.57481260733171:   0%|          | 0/11 [00:00<?, ?it/s]"
      ]
     },
     "metadata": {},
     "output_type": "display_data"
    },
    {
     "data": {
      "application/vnd.jupyter.widget-view+json": {
       "model_id": "8efa1fdb508741cc8d69345740f69a82",
       "version_major": 2,
       "version_minor": 0
      },
      "text/plain": [
       "Train Epoch 292/500, Train Loss: 0.0:   0%|          | 0/44 [00:00<?, ?it/s]"
      ]
     },
     "metadata": {},
     "output_type": "display_data"
    },
    {
     "data": {
      "application/vnd.jupyter.widget-view+json": {
       "model_id": "61fcf4fb4f3a4eafb98cebaa35c12d60",
       "version_major": 2,
       "version_minor": 0
      },
      "text/plain": [
       "Test Epoch 292/500, Test Loss: 9.575191389430653:   0%|          | 0/11 [00:00<?, ?it/s]"
      ]
     },
     "metadata": {},
     "output_type": "display_data"
    },
    {
     "data": {
      "application/vnd.jupyter.widget-view+json": {
       "model_id": "1e3f156c6cfd482e9a11a3274145c2c6",
       "version_major": 2,
       "version_minor": 0
      },
      "text/plain": [
       "Train Epoch 293/500, Train Loss: 0.0:   0%|          | 0/44 [00:00<?, ?it/s]"
      ]
     },
     "metadata": {},
     "output_type": "display_data"
    },
    {
     "data": {
      "application/vnd.jupyter.widget-view+json": {
       "model_id": "6ddf6fcdd0a248a69bd1adc616849169",
       "version_major": 2,
       "version_minor": 0
      },
      "text/plain": [
       "Test Epoch 293/500, Test Loss: 9.57481260733171:   0%|          | 0/11 [00:00<?, ?it/s]"
      ]
     },
     "metadata": {},
     "output_type": "display_data"
    },
    {
     "data": {
      "application/vnd.jupyter.widget-view+json": {
       "model_id": "09e94bab994b48f5b55fd4721e663652",
       "version_major": 2,
       "version_minor": 0
      },
      "text/plain": [
       "Train Epoch 294/500, Train Loss: 0.0:   0%|          | 0/44 [00:00<?, ?it/s]"
      ]
     },
     "metadata": {},
     "output_type": "display_data"
    },
    {
     "data": {
      "application/vnd.jupyter.widget-view+json": {
       "model_id": "850ec6b4848e4ae7a30547882942ba52",
       "version_major": 2,
       "version_minor": 0
      },
      "text/plain": [
       "Test Epoch 294/500, Test Loss: 9.575191389430653:   0%|          | 0/11 [00:00<?, ?it/s]"
      ]
     },
     "metadata": {},
     "output_type": "display_data"
    },
    {
     "data": {
      "application/vnd.jupyter.widget-view+json": {
       "model_id": "8771be18bd4d47d7a277f49d70c91d00",
       "version_major": 2,
       "version_minor": 0
      },
      "text/plain": [
       "Train Epoch 295/500, Train Loss: 0.0:   0%|          | 0/44 [00:00<?, ?it/s]"
      ]
     },
     "metadata": {},
     "output_type": "display_data"
    },
    {
     "data": {
      "application/vnd.jupyter.widget-view+json": {
       "model_id": "11fd31ffa74842e48e4cddecb385e48f",
       "version_major": 2,
       "version_minor": 0
      },
      "text/plain": [
       "Test Epoch 295/500, Test Loss: 9.575191432779485:   0%|          | 0/11 [00:00<?, ?it/s]"
      ]
     },
     "metadata": {},
     "output_type": "display_data"
    },
    {
     "data": {
      "application/vnd.jupyter.widget-view+json": {
       "model_id": "270b91693f724ab8ae77e5afc2a805d8",
       "version_major": 2,
       "version_minor": 0
      },
      "text/plain": [
       "Train Epoch 296/500, Train Loss: 0.0:   0%|          | 0/44 [00:00<?, ?it/s]"
      ]
     },
     "metadata": {},
     "output_type": "display_data"
    },
    {
     "data": {
      "application/vnd.jupyter.widget-view+json": {
       "model_id": "8394a6b791f24b16be67afb302511912",
       "version_major": 2,
       "version_minor": 0
      },
      "text/plain": [
       "Test Epoch 296/500, Test Loss: 9.57481260733171:   0%|          | 0/11 [00:00<?, ?it/s]"
      ]
     },
     "metadata": {},
     "output_type": "display_data"
    },
    {
     "data": {
      "application/vnd.jupyter.widget-view+json": {
       "model_id": "a57082f80ae94260bee648acf81f7adc",
       "version_major": 2,
       "version_minor": 0
      },
      "text/plain": [
       "Train Epoch 297/500, Train Loss: 0.0:   0%|          | 0/44 [00:00<?, ?it/s]"
      ]
     },
     "metadata": {},
     "output_type": "display_data"
    },
    {
     "data": {
      "application/vnd.jupyter.widget-view+json": {
       "model_id": "1f73154a615b4dad9926e5eac20d97fa",
       "version_major": 2,
       "version_minor": 0
      },
      "text/plain": [
       "Test Epoch 297/500, Test Loss: 9.574055043133823:   0%|          | 0/11 [00:00<?, ?it/s]"
      ]
     },
     "metadata": {},
     "output_type": "display_data"
    },
    {
     "data": {
      "application/vnd.jupyter.widget-view+json": {
       "model_id": "b5026266676f4c168a18d2d6279ec2d5",
       "version_major": 2,
       "version_minor": 0
      },
      "text/plain": [
       "Train Epoch 298/500, Train Loss: 0.0:   0%|          | 0/44 [00:00<?, ?it/s]"
      ]
     },
     "metadata": {},
     "output_type": "display_data"
    },
    {
     "data": {
      "application/vnd.jupyter.widget-view+json": {
       "model_id": "3020ad4d92364afa96fd4bb2f9a29566",
       "version_major": 2,
       "version_minor": 0
      },
      "text/plain": [
       "Test Epoch 298/500, Test Loss: 9.575191389430653:   0%|          | 0/11 [00:00<?, ?it/s]"
      ]
     },
     "metadata": {},
     "output_type": "display_data"
    },
    {
     "data": {
      "application/vnd.jupyter.widget-view+json": {
       "model_id": "b22c83a433cc424ebf2e0944690d73fc",
       "version_major": 2,
       "version_minor": 0
      },
      "text/plain": [
       "Train Epoch 299/500, Train Loss: 0.0:   0%|          | 0/44 [00:00<?, ?it/s]"
      ]
     },
     "metadata": {},
     "output_type": "display_data"
    },
    {
     "data": {
      "application/vnd.jupyter.widget-view+json": {
       "model_id": "d7937932cf0943eda1081ec53936b47f",
       "version_major": 2,
       "version_minor": 0
      },
      "text/plain": [
       "Test Epoch 299/500, Test Loss: 9.574055064808238:   0%|          | 0/11 [00:00<?, ?it/s]"
      ]
     },
     "metadata": {},
     "output_type": "display_data"
    },
    {
     "data": {
      "application/vnd.jupyter.widget-view+json": {
       "model_id": "b511c1e44f2f48dc9a67f7b6baa488a6",
       "version_major": 2,
       "version_minor": 0
      },
      "text/plain": [
       "Train Epoch 300/500, Train Loss: 0.0:   0%|          | 0/44 [00:00<?, ?it/s]"
      ]
     },
     "metadata": {},
     "output_type": "display_data"
    },
    {
     "data": {
      "application/vnd.jupyter.widget-view+json": {
       "model_id": "1c3a832e76c74393875f287d23a1035d",
       "version_major": 2,
       "version_minor": 0
      },
      "text/plain": [
       "Test Epoch 300/500, Test Loss: 9.574433825232767:   0%|          | 0/11 [00:00<?, ?it/s]"
      ]
     },
     "metadata": {},
     "output_type": "display_data"
    },
    {
     "data": {
      "application/vnd.jupyter.widget-view+json": {
       "model_id": "c6af817accbc40ccbf8580c8811c9668",
       "version_major": 2,
       "version_minor": 0
      },
      "text/plain": [
       "Train Epoch 301/500, Train Loss: 0.0:   0%|          | 0/44 [00:00<?, ?it/s]"
      ]
     },
     "metadata": {},
     "output_type": "display_data"
    },
    {
     "data": {
      "application/vnd.jupyter.widget-view+json": {
       "model_id": "c479a3db118b447b8711b19ed9c7c4fb",
       "version_major": 2,
       "version_minor": 0
      },
      "text/plain": [
       "Test Epoch 301/500, Test Loss: 9.574055043133823:   0%|          | 0/11 [00:00<?, ?it/s]"
      ]
     },
     "metadata": {},
     "output_type": "display_data"
    },
    {
     "data": {
      "application/vnd.jupyter.widget-view+json": {
       "model_id": "06b4b28019cf46f5b9559586e897d2d8",
       "version_major": 2,
       "version_minor": 0
      },
      "text/plain": [
       "Train Epoch 302/500, Train Loss: 0.0:   0%|          | 0/44 [00:00<?, ?it/s]"
      ]
     },
     "metadata": {},
     "output_type": "display_data"
    },
    {
     "data": {
      "application/vnd.jupyter.widget-view+json": {
       "model_id": "506b2fe410a44f6d859df8acdb98bdd0",
       "version_major": 2,
       "version_minor": 0
      },
      "text/plain": [
       "Test Epoch 302/500, Test Loss: 9.573297478935935:   0%|          | 0/11 [00:00<?, ?it/s]"
      ]
     },
     "metadata": {},
     "output_type": "display_data"
    },
    {
     "data": {
      "application/vnd.jupyter.widget-view+json": {
       "model_id": "5a8db0877596445480b576aeab6eac37",
       "version_major": 2,
       "version_minor": 0
      },
      "text/plain": [
       "Train Epoch 303/500, Train Loss: 0.0:   0%|          | 0/44 [00:00<?, ?it/s]"
      ]
     },
     "metadata": {},
     "output_type": "display_data"
    },
    {
     "data": {
      "application/vnd.jupyter.widget-view+json": {
       "model_id": "071669a7225349e69d7dd844bbb46388",
       "version_major": 2,
       "version_minor": 0
      },
      "text/plain": [
       "Test Epoch 303/500, Test Loss: 9.575191389430653:   0%|          | 0/11 [00:00<?, ?it/s]"
      ]
     },
     "metadata": {},
     "output_type": "display_data"
    },
    {
     "data": {
      "application/vnd.jupyter.widget-view+json": {
       "model_id": "3c5a67d9bb7d43b8a67f663dac478b39",
       "version_major": 2,
       "version_minor": 0
      },
      "text/plain": [
       "Train Epoch 304/500, Train Loss: 0.0:   0%|          | 0/44 [00:00<?, ?it/s]"
      ]
     },
     "metadata": {},
     "output_type": "display_data"
    },
    {
     "data": {
      "application/vnd.jupyter.widget-view+json": {
       "model_id": "d5b575c0f5fc4bca948a97f9911f4c4a",
       "version_major": 2,
       "version_minor": 0
      },
      "text/plain": [
       "Test Epoch 304/500, Test Loss: 9.574433825232767:   0%|          | 0/11 [00:00<?, ?it/s]"
      ]
     },
     "metadata": {},
     "output_type": "display_data"
    },
    {
     "data": {
      "application/vnd.jupyter.widget-view+json": {
       "model_id": "f03f730c099246239ad343b6d1820c31",
       "version_major": 2,
       "version_minor": 0
      },
      "text/plain": [
       "Train Epoch 305/500, Train Loss: 0.0:   0%|          | 0/44 [00:00<?, ?it/s]"
      ]
     },
     "metadata": {},
     "output_type": "display_data"
    },
    {
     "data": {
      "application/vnd.jupyter.widget-view+json": {
       "model_id": "58df3c929300425f917e23184f9de1cf",
       "version_major": 2,
       "version_minor": 0
      },
      "text/plain": [
       "Test Epoch 305/500, Test Loss: 9.573676239360463:   0%|          | 0/11 [00:00<?, ?it/s]"
      ]
     },
     "metadata": {},
     "output_type": "display_data"
    },
    {
     "data": {
      "application/vnd.jupyter.widget-view+json": {
       "model_id": "4200ebbb62e840a7be9532c7254955e0",
       "version_major": 2,
       "version_minor": 0
      },
      "text/plain": [
       "Train Epoch 306/500, Train Loss: 0.0:   0%|          | 0/44 [00:00<?, ?it/s]"
      ]
     },
     "metadata": {},
     "output_type": "display_data"
    },
    {
     "data": {
      "application/vnd.jupyter.widget-view+json": {
       "model_id": "00302ea06bc244cc8238825c28b43c67",
       "version_major": 2,
       "version_minor": 0
      },
      "text/plain": [
       "Test Epoch 306/500, Test Loss: 9.57481260733171:   0%|          | 0/11 [00:00<?, ?it/s]"
      ]
     },
     "metadata": {},
     "output_type": "display_data"
    },
    {
     "data": {
      "application/vnd.jupyter.widget-view+json": {
       "model_id": "6f9f0f0333a14f8681b415c4fff509b1",
       "version_major": 2,
       "version_minor": 0
      },
      "text/plain": [
       "Train Epoch 307/500, Train Loss: 0.0:   0%|          | 0/44 [00:00<?, ?it/s]"
      ]
     },
     "metadata": {},
     "output_type": "display_data"
    },
    {
     "data": {
      "application/vnd.jupyter.widget-view+json": {
       "model_id": "882eba06e064479fb555d7875491dfc0",
       "version_major": 2,
       "version_minor": 0
      },
      "text/plain": [
       "Test Epoch 307/500, Test Loss: 9.575570214878429:   0%|          | 0/11 [00:00<?, ?it/s]"
      ]
     },
     "metadata": {},
     "output_type": "display_data"
    },
    {
     "data": {
      "application/vnd.jupyter.widget-view+json": {
       "model_id": "3f9e699d0ce6459c9663de8964c3a0de",
       "version_major": 2,
       "version_minor": 0
      },
      "text/plain": [
       "Train Epoch 308/500, Train Loss: 0.0:   0%|          | 0/44 [00:00<?, ?it/s]"
      ]
     },
     "metadata": {},
     "output_type": "display_data"
    },
    {
     "data": {
      "application/vnd.jupyter.widget-view+json": {
       "model_id": "f8997ac3a17746759f0365a92eea3dc8",
       "version_major": 2,
       "version_minor": 0
      },
      "text/plain": [
       "Test Epoch 308/500, Test Loss: 9.574433825232767:   0%|          | 0/11 [00:00<?, ?it/s]"
      ]
     },
     "metadata": {},
     "output_type": "display_data"
    },
    {
     "data": {
      "application/vnd.jupyter.widget-view+json": {
       "model_id": "fde5d20a136747c1abcba05a9e4d2514",
       "version_major": 2,
       "version_minor": 0
      },
      "text/plain": [
       "Train Epoch 309/500, Train Loss: 0.0:   0%|          | 0/44 [00:00<?, ?it/s]"
      ]
     },
     "metadata": {},
     "output_type": "display_data"
    },
    {
     "data": {
      "application/vnd.jupyter.widget-view+json": {
       "model_id": "eba4123d9c204ab1b4d45b4f2992b9e7",
       "version_major": 2,
       "version_minor": 0
      },
      "text/plain": [
       "Test Epoch 309/500, Test Loss: 9.575191432779485:   0%|          | 0/11 [00:00<?, ?it/s]"
      ]
     },
     "metadata": {},
     "output_type": "display_data"
    },
    {
     "data": {
      "application/vnd.jupyter.widget-view+json": {
       "model_id": "66af32dda00f40829212770926a7fb44",
       "version_major": 2,
       "version_minor": 0
      },
      "text/plain": [
       "Train Epoch 310/500, Train Loss: 0.0:   0%|          | 0/44 [00:00<?, ?it/s]"
      ]
     },
     "metadata": {},
     "output_type": "display_data"
    },
    {
     "data": {
      "application/vnd.jupyter.widget-view+json": {
       "model_id": "06b2997e8c634344995cc49078e1cf51",
       "version_major": 2,
       "version_minor": 0
      },
      "text/plain": [
       "Test Epoch 310/500, Test Loss: 9.57481260733171:   0%|          | 0/11 [00:00<?, ?it/s]"
      ]
     },
     "metadata": {},
     "output_type": "display_data"
    },
    {
     "data": {
      "application/vnd.jupyter.widget-view+json": {
       "model_id": "a2b9247752e34aada2b9d88c2ac1eaf5",
       "version_major": 2,
       "version_minor": 0
      },
      "text/plain": [
       "Train Epoch 311/500, Train Loss: 0.0:   0%|          | 0/44 [00:00<?, ?it/s]"
      ]
     },
     "metadata": {},
     "output_type": "display_data"
    },
    {
     "data": {
      "application/vnd.jupyter.widget-view+json": {
       "model_id": "ed0187e7aade4b3aac2f57b24a2bd576",
       "version_major": 2,
       "version_minor": 0
      },
      "text/plain": [
       "Test Epoch 311/500, Test Loss: 9.57481260733171:   0%|          | 0/11 [00:00<?, ?it/s]"
      ]
     },
     "metadata": {},
     "output_type": "display_data"
    },
    {
     "data": {
      "application/vnd.jupyter.widget-view+json": {
       "model_id": "f41b4cd37fcc437f9a16acef7b18ceed",
       "version_major": 2,
       "version_minor": 0
      },
      "text/plain": [
       "Train Epoch 312/500, Train Loss: 0.0:   0%|          | 0/44 [00:00<?, ?it/s]"
      ]
     },
     "metadata": {},
     "output_type": "display_data"
    },
    {
     "data": {
      "application/vnd.jupyter.widget-view+json": {
       "model_id": "35d6f5ecde0f4f53a020074792c46e31",
       "version_major": 2,
       "version_minor": 0
      },
      "text/plain": [
       "Test Epoch 312/500, Test Loss: 9.574812650680542:   0%|          | 0/11 [00:00<?, ?it/s]"
      ]
     },
     "metadata": {},
     "output_type": "display_data"
    },
    {
     "data": {
      "application/vnd.jupyter.widget-view+json": {
       "model_id": "179aea940cc24423959dfbca24707fcc",
       "version_major": 2,
       "version_minor": 0
      },
      "text/plain": [
       "Train Epoch 313/500, Train Loss: 0.0:   0%|          | 0/44 [00:00<?, ?it/s]"
      ]
     },
     "metadata": {},
     "output_type": "display_data"
    },
    {
     "data": {
      "application/vnd.jupyter.widget-view+json": {
       "model_id": "61610410180d4b11bba49d64e255db3f",
       "version_major": 2,
       "version_minor": 0
      },
      "text/plain": [
       "Test Epoch 313/500, Test Loss: 9.574055043133823:   0%|          | 0/11 [00:00<?, ?it/s]"
      ]
     },
     "metadata": {},
     "output_type": "display_data"
    },
    {
     "data": {
      "application/vnd.jupyter.widget-view+json": {
       "model_id": "4d0d8a0e791641c08b23511a83cd180c",
       "version_major": 2,
       "version_minor": 0
      },
      "text/plain": [
       "Train Epoch 314/500, Train Loss: 0.0:   0%|          | 0/44 [00:00<?, ?it/s]"
      ]
     },
     "metadata": {},
     "output_type": "display_data"
    },
    {
     "data": {
      "application/vnd.jupyter.widget-view+json": {
       "model_id": "b1f85503ac274e24b24a8716e92e1b4b",
       "version_major": 2,
       "version_minor": 0
      },
      "text/plain": [
       "Test Epoch 314/500, Test Loss: 9.574812629006125:   0%|          | 0/11 [00:00<?, ?it/s]"
      ]
     },
     "metadata": {},
     "output_type": "display_data"
    },
    {
     "data": {
      "application/vnd.jupyter.widget-view+json": {
       "model_id": "b28fcc36dd704acbab2e29500def32cb",
       "version_major": 2,
       "version_minor": 0
      },
      "text/plain": [
       "Train Epoch 315/500, Train Loss: 0.0:   0%|          | 0/44 [00:00<?, ?it/s]"
      ]
     },
     "metadata": {},
     "output_type": "display_data"
    },
    {
     "data": {
      "application/vnd.jupyter.widget-view+json": {
       "model_id": "4ef0897697a145cfb413b96ee96122c3",
       "version_major": 2,
       "version_minor": 0
      },
      "text/plain": [
       "Test Epoch 315/500, Test Loss: 9.57481260733171:   0%|          | 0/11 [00:00<?, ?it/s]"
      ]
     },
     "metadata": {},
     "output_type": "display_data"
    },
    {
     "data": {
      "application/vnd.jupyter.widget-view+json": {
       "model_id": "042c2083a526464ba39bbd41f95c9726",
       "version_major": 2,
       "version_minor": 0
      },
      "text/plain": [
       "Train Epoch 316/500, Train Loss: 0.0:   0%|          | 0/44 [00:00<?, ?it/s]"
      ]
     },
     "metadata": {},
     "output_type": "display_data"
    },
    {
     "data": {
      "application/vnd.jupyter.widget-view+json": {
       "model_id": "f7ee2d5cb4124a47b5e582938e7bfcfd",
       "version_major": 2,
       "version_minor": 0
      },
      "text/plain": [
       "Test Epoch 316/500, Test Loss: 9.575191389430653:   0%|          | 0/11 [00:00<?, ?it/s]"
      ]
     },
     "metadata": {},
     "output_type": "display_data"
    },
    {
     "data": {
      "application/vnd.jupyter.widget-view+json": {
       "model_id": "ff7d451ed32d43a0bfd64adb9dcf4458",
       "version_major": 2,
       "version_minor": 0
      },
      "text/plain": [
       "Train Epoch 317/500, Train Loss: 0.0:   0%|          | 0/44 [00:00<?, ?it/s]"
      ]
     },
     "metadata": {},
     "output_type": "display_data"
    },
    {
     "data": {
      "application/vnd.jupyter.widget-view+json": {
       "model_id": "ae12c81ed3734a109ed1f4491ef787ca",
       "version_major": 2,
       "version_minor": 0
      },
      "text/plain": [
       "Test Epoch 317/500, Test Loss: 9.575191389430653:   0%|          | 0/11 [00:00<?, ?it/s]"
      ]
     },
     "metadata": {},
     "output_type": "display_data"
    },
    {
     "data": {
      "application/vnd.jupyter.widget-view+json": {
       "model_id": "2a2f5c4019e14bdf99510d2abd4b58fa",
       "version_major": 2,
       "version_minor": 0
      },
      "text/plain": [
       "Train Epoch 318/500, Train Loss: 0.0:   0%|          | 0/44 [00:00<?, ?it/s]"
      ]
     },
     "metadata": {},
     "output_type": "display_data"
    },
    {
     "data": {
      "application/vnd.jupyter.widget-view+json": {
       "model_id": "e56c061177764f4691389a2bedb87377",
       "version_major": 2,
       "version_minor": 0
      },
      "text/plain": [
       "Test Epoch 318/500, Test Loss: 9.575570193204014:   0%|          | 0/11 [00:00<?, ?it/s]"
      ]
     },
     "metadata": {},
     "output_type": "display_data"
    },
    {
     "data": {
      "application/vnd.jupyter.widget-view+json": {
       "model_id": "7e834b181cc84ad7bdca5d5b4b5ffa53",
       "version_major": 2,
       "version_minor": 0
      },
      "text/plain": [
       "Train Epoch 319/500, Train Loss: 0.0:   0%|          | 0/44 [00:00<?, ?it/s]"
      ]
     },
     "metadata": {},
     "output_type": "display_data"
    },
    {
     "data": {
      "application/vnd.jupyter.widget-view+json": {
       "model_id": "8f85024787444ffb887898f53348db19",
       "version_major": 2,
       "version_minor": 0
      },
      "text/plain": [
       "Test Epoch 319/500, Test Loss: 9.573297478935935:   0%|          | 0/11 [00:00<?, ?it/s]"
      ]
     },
     "metadata": {},
     "output_type": "display_data"
    },
    {
     "data": {
      "application/vnd.jupyter.widget-view+json": {
       "model_id": "b479ceb80b0b442e8ec2e35a78acf60e",
       "version_major": 2,
       "version_minor": 0
      },
      "text/plain": [
       "Train Epoch 320/500, Train Loss: 0.0:   0%|          | 0/44 [00:00<?, ?it/s]"
      ]
     },
     "metadata": {},
     "output_type": "display_data"
    },
    {
     "data": {
      "application/vnd.jupyter.widget-view+json": {
       "model_id": "9319ecb1c908453f88c5ad4b63d06377",
       "version_major": 2,
       "version_minor": 0
      },
      "text/plain": [
       "Test Epoch 320/500, Test Loss: 9.57481260733171:   0%|          | 0/11 [00:00<?, ?it/s]"
      ]
     },
     "metadata": {},
     "output_type": "display_data"
    },
    {
     "data": {
      "application/vnd.jupyter.widget-view+json": {
       "model_id": "2831264d2d4d4fb5993fae7e7be0f43d",
       "version_major": 2,
       "version_minor": 0
      },
      "text/plain": [
       "Train Epoch 321/500, Train Loss: 0.0:   0%|          | 0/44 [00:00<?, ?it/s]"
      ]
     },
     "metadata": {},
     "output_type": "display_data"
    },
    {
     "data": {
      "application/vnd.jupyter.widget-view+json": {
       "model_id": "564b7fb18808475088deb461a86c7c61",
       "version_major": 2,
       "version_minor": 0
      },
      "text/plain": [
       "Test Epoch 321/500, Test Loss: 9.574812629006125:   0%|          | 0/11 [00:00<?, ?it/s]"
      ]
     },
     "metadata": {},
     "output_type": "display_data"
    },
    {
     "data": {
      "application/vnd.jupyter.widget-view+json": {
       "model_id": "cb4f884061f34082be43de98e01f0022",
       "version_major": 2,
       "version_minor": 0
      },
      "text/plain": [
       "Train Epoch 322/500, Train Loss: 0.0:   0%|          | 0/44 [00:00<?, ?it/s]"
      ]
     },
     "metadata": {},
     "output_type": "display_data"
    },
    {
     "data": {
      "application/vnd.jupyter.widget-view+json": {
       "model_id": "7438dae3189d403bb767cd49f1c25b88",
       "version_major": 2,
       "version_minor": 0
      },
      "text/plain": [
       "Test Epoch 322/500, Test Loss: 9.57481260733171:   0%|          | 0/11 [00:00<?, ?it/s]"
      ]
     },
     "metadata": {},
     "output_type": "display_data"
    },
    {
     "data": {
      "application/vnd.jupyter.widget-view+json": {
       "model_id": "4b67a53b02004104af16757045e9f3a3",
       "version_major": 2,
       "version_minor": 0
      },
      "text/plain": [
       "Train Epoch 323/500, Train Loss: 0.0:   0%|          | 0/44 [00:00<?, ?it/s]"
      ]
     },
     "metadata": {},
     "output_type": "display_data"
    },
    {
     "data": {
      "application/vnd.jupyter.widget-view+json": {
       "model_id": "02e8b1a1d1994b29b5df31973e56dc59",
       "version_major": 2,
       "version_minor": 0
      },
      "text/plain": [
       "Test Epoch 323/500, Test Loss: 9.575191389430653:   0%|          | 0/11 [00:00<?, ?it/s]"
      ]
     },
     "metadata": {},
     "output_type": "display_data"
    },
    {
     "data": {
      "application/vnd.jupyter.widget-view+json": {
       "model_id": "3668b0e15d584c9183fba4f3c5e9e270",
       "version_major": 2,
       "version_minor": 0
      },
      "text/plain": [
       "Train Epoch 324/500, Train Loss: 0.0:   0%|          | 0/44 [00:00<?, ?it/s]"
      ]
     },
     "metadata": {},
     "output_type": "display_data"
    },
    {
     "data": {
      "application/vnd.jupyter.widget-view+json": {
       "model_id": "0828f179072b4004a4c96ad6b458a8b0",
       "version_major": 2,
       "version_minor": 0
      },
      "text/plain": [
       "Test Epoch 324/500, Test Loss: 9.574055064808238:   0%|          | 0/11 [00:00<?, ?it/s]"
      ]
     },
     "metadata": {},
     "output_type": "display_data"
    },
    {
     "data": {
      "application/vnd.jupyter.widget-view+json": {
       "model_id": "18af885eab9042c28f416f6b159afb1c",
       "version_major": 2,
       "version_minor": 0
      },
      "text/plain": [
       "Train Epoch 325/500, Train Loss: 0.0:   0%|          | 0/44 [00:00<?, ?it/s]"
      ]
     },
     "metadata": {},
     "output_type": "display_data"
    },
    {
     "data": {
      "application/vnd.jupyter.widget-view+json": {
       "model_id": "b6f934a6167b48a4834369a73b791eef",
       "version_major": 2,
       "version_minor": 0
      },
      "text/plain": [
       "Test Epoch 325/500, Test Loss: 9.57443380355835:   0%|          | 0/11 [00:00<?, ?it/s]"
      ]
     },
     "metadata": {},
     "output_type": "display_data"
    },
    {
     "data": {
      "application/vnd.jupyter.widget-view+json": {
       "model_id": "91cc67b6f480404d89abbb5d342c9ee7",
       "version_major": 2,
       "version_minor": 0
      },
      "text/plain": [
       "Train Epoch 326/500, Train Loss: 0.0:   0%|          | 0/44 [00:00<?, ?it/s]"
      ]
     },
     "metadata": {},
     "output_type": "display_data"
    },
    {
     "data": {
      "application/vnd.jupyter.widget-view+json": {
       "model_id": "4707218bf7e641b2a61340494ef20d4b",
       "version_major": 2,
       "version_minor": 0
      },
      "text/plain": [
       "Test Epoch 326/500, Test Loss: 9.575191432779485:   0%|          | 0/11 [00:00<?, ?it/s]"
      ]
     },
     "metadata": {},
     "output_type": "display_data"
    },
    {
     "data": {
      "application/vnd.jupyter.widget-view+json": {
       "model_id": "7c3031de5a5b43e48888664334136757",
       "version_major": 2,
       "version_minor": 0
      },
      "text/plain": [
       "Train Epoch 327/500, Train Loss: 0.0:   0%|          | 0/44 [00:00<?, ?it/s]"
      ]
     },
     "metadata": {},
     "output_type": "display_data"
    },
    {
     "data": {
      "application/vnd.jupyter.widget-view+json": {
       "model_id": "47f29f342065417fb7d974b80c96d803",
       "version_major": 2,
       "version_minor": 0
      },
      "text/plain": [
       "Test Epoch 327/500, Test Loss: 9.575570193204014:   0%|          | 0/11 [00:00<?, ?it/s]"
      ]
     },
     "metadata": {},
     "output_type": "display_data"
    },
    {
     "data": {
      "application/vnd.jupyter.widget-view+json": {
       "model_id": "d49ab2ab0ccf4c3e98ef5ca7ae9754bd",
       "version_major": 2,
       "version_minor": 0
      },
      "text/plain": [
       "Train Epoch 328/500, Train Loss: 0.0:   0%|          | 0/44 [00:00<?, ?it/s]"
      ]
     },
     "metadata": {},
     "output_type": "display_data"
    },
    {
     "data": {
      "application/vnd.jupyter.widget-view+json": {
       "model_id": "4ab9d69096be40b9b21a2b04cef59a04",
       "version_major": 2,
       "version_minor": 0
      },
      "text/plain": [
       "Test Epoch 328/500, Test Loss: 9.575191389430653:   0%|          | 0/11 [00:00<?, ?it/s]"
      ]
     },
     "metadata": {},
     "output_type": "display_data"
    },
    {
     "data": {
      "application/vnd.jupyter.widget-view+json": {
       "model_id": "f946d6dca4da41e78edb6d495a45c476",
       "version_major": 2,
       "version_minor": 0
      },
      "text/plain": [
       "Train Epoch 329/500, Train Loss: 0.0:   0%|          | 0/44 [00:00<?, ?it/s]"
      ]
     },
     "metadata": {},
     "output_type": "display_data"
    },
    {
     "data": {
      "application/vnd.jupyter.widget-view+json": {
       "model_id": "5921ae47b3ff4bdc8bf3229696e4a1d6",
       "version_major": 2,
       "version_minor": 0
      },
      "text/plain": [
       "Test Epoch 329/500, Test Loss: 9.575191389430653:   0%|          | 0/11 [00:00<?, ?it/s]"
      ]
     },
     "metadata": {},
     "output_type": "display_data"
    },
    {
     "data": {
      "application/vnd.jupyter.widget-view+json": {
       "model_id": "5242e933781f4d9da884504ed5bbe015",
       "version_major": 2,
       "version_minor": 0
      },
      "text/plain": [
       "Train Epoch 330/500, Train Loss: 0.0:   0%|          | 0/44 [00:00<?, ?it/s]"
      ]
     },
     "metadata": {},
     "output_type": "display_data"
    },
    {
     "data": {
      "application/vnd.jupyter.widget-view+json": {
       "model_id": "0fd3d49a245c4b4497edd987819b0416",
       "version_major": 2,
       "version_minor": 0
      },
      "text/plain": [
       "Test Epoch 330/500, Test Loss: 9.575191389430653:   0%|          | 0/11 [00:00<?, ?it/s]"
      ]
     },
     "metadata": {},
     "output_type": "display_data"
    },
    {
     "data": {
      "application/vnd.jupyter.widget-view+json": {
       "model_id": "4226c0380fe34596a0ab293b282084ad",
       "version_major": 2,
       "version_minor": 0
      },
      "text/plain": [
       "Train Epoch 331/500, Train Loss: 0.0:   0%|          | 0/44 [00:00<?, ?it/s]"
      ]
     },
     "metadata": {},
     "output_type": "display_data"
    },
    {
     "data": {
      "application/vnd.jupyter.widget-view+json": {
       "model_id": "e323715028eb455786320da8dc94673d",
       "version_major": 2,
       "version_minor": 0
      },
      "text/plain": [
       "Test Epoch 331/500, Test Loss: 9.575191389430653:   0%|          | 0/11 [00:00<?, ?it/s]"
      ]
     },
     "metadata": {},
     "output_type": "display_data"
    },
    {
     "data": {
      "application/vnd.jupyter.widget-view+json": {
       "model_id": "cc86ee6802374ae28f20064010b736a1",
       "version_major": 2,
       "version_minor": 0
      },
      "text/plain": [
       "Train Epoch 332/500, Train Loss: 0.0:   0%|          | 0/44 [00:00<?, ?it/s]"
      ]
     },
     "metadata": {},
     "output_type": "display_data"
    },
    {
     "data": {
      "application/vnd.jupyter.widget-view+json": {
       "model_id": "98f5410864614f65b9ad6fbe93302bf7",
       "version_major": 2,
       "version_minor": 0
      },
      "text/plain": [
       "Test Epoch 332/500, Test Loss: 9.575191432779485:   0%|          | 0/11 [00:00<?, ?it/s]"
      ]
     },
     "metadata": {},
     "output_type": "display_data"
    },
    {
     "data": {
      "application/vnd.jupyter.widget-view+json": {
       "model_id": "b5f54a0c59124831954f5b82b76946df",
       "version_major": 2,
       "version_minor": 0
      },
      "text/plain": [
       "Train Epoch 333/500, Train Loss: 0.0:   0%|          | 0/44 [00:00<?, ?it/s]"
      ]
     },
     "metadata": {},
     "output_type": "display_data"
    },
    {
     "data": {
      "application/vnd.jupyter.widget-view+json": {
       "model_id": "2fbeeaecfefd449fb781433fcca9d5f3",
       "version_major": 2,
       "version_minor": 0
      },
      "text/plain": [
       "Test Epoch 333/500, Test Loss: 9.57481260733171:   0%|          | 0/11 [00:00<?, ?it/s]"
      ]
     },
     "metadata": {},
     "output_type": "display_data"
    },
    {
     "data": {
      "application/vnd.jupyter.widget-view+json": {
       "model_id": "8d91457cf1024cda891d56f154fdde12",
       "version_major": 2,
       "version_minor": 0
      },
      "text/plain": [
       "Train Epoch 334/500, Train Loss: 0.0:   0%|          | 0/44 [00:00<?, ?it/s]"
      ]
     },
     "metadata": {},
     "output_type": "display_data"
    },
    {
     "data": {
      "application/vnd.jupyter.widget-view+json": {
       "model_id": "849965c7cd014d6d801828b8d79692c3",
       "version_major": 2,
       "version_minor": 0
      },
      "text/plain": [
       "Test Epoch 334/500, Test Loss: 9.575191389430653:   0%|          | 0/11 [00:00<?, ?it/s]"
      ]
     },
     "metadata": {},
     "output_type": "display_data"
    },
    {
     "data": {
      "application/vnd.jupyter.widget-view+json": {
       "model_id": "ec11b3da30e0455b9eb4b5c714388d3b",
       "version_major": 2,
       "version_minor": 0
      },
      "text/plain": [
       "Train Epoch 335/500, Train Loss: 0.0:   0%|          | 0/44 [00:00<?, ?it/s]"
      ]
     },
     "metadata": {},
     "output_type": "display_data"
    },
    {
     "data": {
      "application/vnd.jupyter.widget-view+json": {
       "model_id": "43817a8231e5466d9a68349cb656e7c5",
       "version_major": 2,
       "version_minor": 0
      },
      "text/plain": [
       "Test Epoch 335/500, Test Loss: 9.575191389430653:   0%|          | 0/11 [00:00<?, ?it/s]"
      ]
     },
     "metadata": {},
     "output_type": "display_data"
    },
    {
     "data": {
      "application/vnd.jupyter.widget-view+json": {
       "model_id": "24773507dfa2447bb5de3da0407fc073",
       "version_major": 2,
       "version_minor": 0
      },
      "text/plain": [
       "Train Epoch 336/500, Train Loss: 0.0:   0%|          | 0/44 [00:00<?, ?it/s]"
      ]
     },
     "metadata": {},
     "output_type": "display_data"
    },
    {
     "data": {
      "application/vnd.jupyter.widget-view+json": {
       "model_id": "4127f7bbde5645f4b6d307c1cfc40531",
       "version_major": 2,
       "version_minor": 0
      },
      "text/plain": [
       "Test Epoch 336/500, Test Loss: 9.57329745726152:   0%|          | 0/11 [00:00<?, ?it/s]"
      ]
     },
     "metadata": {},
     "output_type": "display_data"
    },
    {
     "data": {
      "application/vnd.jupyter.widget-view+json": {
       "model_id": "8229e0d8cea6427f8172453ef496145a",
       "version_major": 2,
       "version_minor": 0
      },
      "text/plain": [
       "Train Epoch 337/500, Train Loss: 0.0:   0%|          | 0/44 [00:00<?, ?it/s]"
      ]
     },
     "metadata": {},
     "output_type": "display_data"
    },
    {
     "data": {
      "application/vnd.jupyter.widget-view+json": {
       "model_id": "946b8ba734274c84bdfddb067447fa9d",
       "version_major": 2,
       "version_minor": 0
      },
      "text/plain": [
       "Test Epoch 337/500, Test Loss: 9.575191432779485:   0%|          | 0/11 [00:00<?, ?it/s]"
      ]
     },
     "metadata": {},
     "output_type": "display_data"
    },
    {
     "data": {
      "application/vnd.jupyter.widget-view+json": {
       "model_id": "feaf5ee6078841c3b586f230d46ff3af",
       "version_major": 2,
       "version_minor": 0
      },
      "text/plain": [
       "Train Epoch 338/500, Train Loss: 0.0:   0%|          | 0/44 [00:00<?, ?it/s]"
      ]
     },
     "metadata": {},
     "output_type": "display_data"
    },
    {
     "data": {
      "application/vnd.jupyter.widget-view+json": {
       "model_id": "cfa60d3d99c24d109344e6a2f4c87bb5",
       "version_major": 2,
       "version_minor": 0
      },
      "text/plain": [
       "Test Epoch 338/500, Test Loss: 9.574433825232767:   0%|          | 0/11 [00:00<?, ?it/s]"
      ]
     },
     "metadata": {},
     "output_type": "display_data"
    },
    {
     "data": {
      "application/vnd.jupyter.widget-view+json": {
       "model_id": "4873d2a89595448faedbdc5d3944f1b9",
       "version_major": 2,
       "version_minor": 0
      },
      "text/plain": [
       "Train Epoch 339/500, Train Loss: 0.0:   0%|          | 0/44 [00:00<?, ?it/s]"
      ]
     },
     "metadata": {},
     "output_type": "display_data"
    },
    {
     "data": {
      "application/vnd.jupyter.widget-view+json": {
       "model_id": "3428ab9684704ba388be11a87ba71b23",
       "version_major": 2,
       "version_minor": 0
      },
      "text/plain": [
       "Test Epoch 339/500, Test Loss: 9.574433825232767:   0%|          | 0/11 [00:00<?, ?it/s]"
      ]
     },
     "metadata": {},
     "output_type": "display_data"
    },
    {
     "data": {
      "application/vnd.jupyter.widget-view+json": {
       "model_id": "c0338ed4f09c4bba9310183a5da0c4f7",
       "version_major": 2,
       "version_minor": 0
      },
      "text/plain": [
       "Train Epoch 340/500, Train Loss: 0.0:   0%|          | 0/44 [00:00<?, ?it/s]"
      ]
     },
     "metadata": {},
     "output_type": "display_data"
    },
    {
     "data": {
      "application/vnd.jupyter.widget-view+json": {
       "model_id": "c7401db4f5484f65a76652aef3d03cce",
       "version_major": 2,
       "version_minor": 0
      },
      "text/plain": [
       "Test Epoch 340/500, Test Loss: 9.574055043133823:   0%|          | 0/11 [00:00<?, ?it/s]"
      ]
     },
     "metadata": {},
     "output_type": "display_data"
    },
    {
     "data": {
      "application/vnd.jupyter.widget-view+json": {
       "model_id": "09b7421f20e545deb1789244899c3911",
       "version_major": 2,
       "version_minor": 0
      },
      "text/plain": [
       "Train Epoch 341/500, Train Loss: 0.0:   0%|          | 0/44 [00:00<?, ?it/s]"
      ]
     },
     "metadata": {},
     "output_type": "display_data"
    },
    {
     "data": {
      "application/vnd.jupyter.widget-view+json": {
       "model_id": "12d92f32a2b34cdba80c5023e2112cf0",
       "version_major": 2,
       "version_minor": 0
      },
      "text/plain": [
       "Test Epoch 341/500, Test Loss: 9.574055086482655:   0%|          | 0/11 [00:00<?, ?it/s]"
      ]
     },
     "metadata": {},
     "output_type": "display_data"
    },
    {
     "data": {
      "application/vnd.jupyter.widget-view+json": {
       "model_id": "a398543539a24853bfd53e2262553964",
       "version_major": 2,
       "version_minor": 0
      },
      "text/plain": [
       "Train Epoch 342/500, Train Loss: 0.0:   0%|          | 0/44 [00:00<?, ?it/s]"
      ]
     },
     "metadata": {},
     "output_type": "display_data"
    },
    {
     "data": {
      "application/vnd.jupyter.widget-view+json": {
       "model_id": "9dfd42571aba4af7bf5078afd873f95c",
       "version_major": 2,
       "version_minor": 0
      },
      "text/plain": [
       "Test Epoch 342/500, Test Loss: 9.573297478935935:   0%|          | 0/11 [00:00<?, ?it/s]"
      ]
     },
     "metadata": {},
     "output_type": "display_data"
    },
    {
     "data": {
      "application/vnd.jupyter.widget-view+json": {
       "model_id": "60479fa9e5b94a42b90a3ad85b2abec4",
       "version_major": 2,
       "version_minor": 0
      },
      "text/plain": [
       "Train Epoch 343/500, Train Loss: 0.0:   0%|          | 0/44 [00:00<?, ?it/s]"
      ]
     },
     "metadata": {},
     "output_type": "display_data"
    },
    {
     "data": {
      "application/vnd.jupyter.widget-view+json": {
       "model_id": "026785e9ea3944ca8114076462c12eac",
       "version_major": 2,
       "version_minor": 0
      },
      "text/plain": [
       "Test Epoch 343/500, Test Loss: 9.574433846907182:   0%|          | 0/11 [00:00<?, ?it/s]"
      ]
     },
     "metadata": {},
     "output_type": "display_data"
    },
    {
     "data": {
      "application/vnd.jupyter.widget-view+json": {
       "model_id": "df5623d1fe664cb6bca3e43dfc4e0b9e",
       "version_major": 2,
       "version_minor": 0
      },
      "text/plain": [
       "Train Epoch 344/500, Train Loss: 0.0:   0%|          | 0/44 [00:00<?, ?it/s]"
      ]
     },
     "metadata": {},
     "output_type": "display_data"
    },
    {
     "data": {
      "application/vnd.jupyter.widget-view+json": {
       "model_id": "90f41bd891ef4d6dba8334c5500f68d3",
       "version_major": 2,
       "version_minor": 0
      },
      "text/plain": [
       "Test Epoch 344/500, Test Loss: 9.575570193204014:   0%|          | 0/11 [00:00<?, ?it/s]"
      ]
     },
     "metadata": {},
     "output_type": "display_data"
    },
    {
     "data": {
      "application/vnd.jupyter.widget-view+json": {
       "model_id": "b2f8e2d826664fe6bf1287f4847503d0",
       "version_major": 2,
       "version_minor": 0
      },
      "text/plain": [
       "Train Epoch 345/500, Train Loss: 0.0:   0%|          | 0/44 [00:00<?, ?it/s]"
      ]
     },
     "metadata": {},
     "output_type": "display_data"
    },
    {
     "data": {
      "application/vnd.jupyter.widget-view+json": {
       "model_id": "2d46bd39c8794c3c8b7f6a8b84475492",
       "version_major": 2,
       "version_minor": 0
      },
      "text/plain": [
       "Test Epoch 345/500, Test Loss: 9.574433868581599:   0%|          | 0/11 [00:00<?, ?it/s]"
      ]
     },
     "metadata": {},
     "output_type": "display_data"
    },
    {
     "data": {
      "application/vnd.jupyter.widget-view+json": {
       "model_id": "67b072deb0d2443b8cda769a38ffc128",
       "version_major": 2,
       "version_minor": 0
      },
      "text/plain": [
       "Train Epoch 346/500, Train Loss: 0.0:   0%|          | 0/44 [00:00<?, ?it/s]"
      ]
     },
     "metadata": {},
     "output_type": "display_data"
    },
    {
     "data": {
      "application/vnd.jupyter.widget-view+json": {
       "model_id": "a4634c7caa8149c6bd0e2ebf983e7dd8",
       "version_major": 2,
       "version_minor": 0
      },
      "text/plain": [
       "Test Epoch 346/500, Test Loss: 9.575191389430653:   0%|          | 0/11 [00:00<?, ?it/s]"
      ]
     },
     "metadata": {},
     "output_type": "display_data"
    },
    {
     "data": {
      "application/vnd.jupyter.widget-view+json": {
       "model_id": "63e32020d80c4b599a85929ada79398b",
       "version_major": 2,
       "version_minor": 0
      },
      "text/plain": [
       "Train Epoch 347/500, Train Loss: 0.0:   0%|          | 0/44 [00:00<?, ?it/s]"
      ]
     },
     "metadata": {},
     "output_type": "display_data"
    },
    {
     "data": {
      "application/vnd.jupyter.widget-view+json": {
       "model_id": "a8b5f20e78c644189e0dcb494fe7713d",
       "version_major": 2,
       "version_minor": 0
      },
      "text/plain": [
       "Test Epoch 347/500, Test Loss: 9.575191411105068:   0%|          | 0/11 [00:00<?, ?it/s]"
      ]
     },
     "metadata": {},
     "output_type": "display_data"
    },
    {
     "data": {
      "application/vnd.jupyter.widget-view+json": {
       "model_id": "e13299d5aea24f8eabb1e61444887285",
       "version_major": 2,
       "version_minor": 0
      },
      "text/plain": [
       "Train Epoch 348/500, Train Loss: 0.0:   0%|          | 0/44 [00:00<?, ?it/s]"
      ]
     },
     "metadata": {},
     "output_type": "display_data"
    },
    {
     "data": {
      "application/vnd.jupyter.widget-view+json": {
       "model_id": "34963ce82a844ee5870cc976e6516706",
       "version_major": 2,
       "version_minor": 0
      },
      "text/plain": [
       "Test Epoch 348/500, Test Loss: 9.574433846907182:   0%|          | 0/11 [00:00<?, ?it/s]"
      ]
     },
     "metadata": {},
     "output_type": "display_data"
    },
    {
     "data": {
      "application/vnd.jupyter.widget-view+json": {
       "model_id": "b8af0128c6e74757a8418a94273a27b6",
       "version_major": 2,
       "version_minor": 0
      },
      "text/plain": [
       "Train Epoch 349/500, Train Loss: 0.0:   0%|          | 0/44 [00:00<?, ?it/s]"
      ]
     },
     "metadata": {},
     "output_type": "display_data"
    },
    {
     "data": {
      "application/vnd.jupyter.widget-view+json": {
       "model_id": "4772bdfb9ffb43dca03e80650905b821",
       "version_major": 2,
       "version_minor": 0
      },
      "text/plain": [
       "Test Epoch 349/500, Test Loss: 9.57481260733171:   0%|          | 0/11 [00:00<?, ?it/s]"
      ]
     },
     "metadata": {},
     "output_type": "display_data"
    },
    {
     "data": {
      "application/vnd.jupyter.widget-view+json": {
       "model_id": "4a4f0ec387934b608b342d062ad88196",
       "version_major": 2,
       "version_minor": 0
      },
      "text/plain": [
       "Train Epoch 350/500, Train Loss: 0.0:   0%|          | 0/44 [00:00<?, ?it/s]"
      ]
     },
     "metadata": {},
     "output_type": "display_data"
    },
    {
     "data": {
      "application/vnd.jupyter.widget-view+json": {
       "model_id": "17be1345ed114a889ce2d48baa9a3d59",
       "version_major": 2,
       "version_minor": 0
      },
      "text/plain": [
       "Test Epoch 350/500, Test Loss: 9.575191432779485:   0%|          | 0/11 [00:00<?, ?it/s]"
      ]
     },
     "metadata": {},
     "output_type": "display_data"
    },
    {
     "data": {
      "application/vnd.jupyter.widget-view+json": {
       "model_id": "a52211ea3d614f688da8a139574d81bb",
       "version_major": 2,
       "version_minor": 0
      },
      "text/plain": [
       "Train Epoch 351/500, Train Loss: 0.0:   0%|          | 0/44 [00:00<?, ?it/s]"
      ]
     },
     "metadata": {},
     "output_type": "display_data"
    },
    {
     "data": {
      "application/vnd.jupyter.widget-view+json": {
       "model_id": "7316554b574f4329adb91a537b14ad30",
       "version_major": 2,
       "version_minor": 0
      },
      "text/plain": [
       "Test Epoch 351/500, Test Loss: 9.57481260733171:   0%|          | 0/11 [00:00<?, ?it/s]"
      ]
     },
     "metadata": {},
     "output_type": "display_data"
    },
    {
     "data": {
      "application/vnd.jupyter.widget-view+json": {
       "model_id": "74cc726ef6e84c46a566116bd6806721",
       "version_major": 2,
       "version_minor": 0
      },
      "text/plain": [
       "Train Epoch 352/500, Train Loss: 0.0:   0%|          | 0/44 [00:00<?, ?it/s]"
      ]
     },
     "metadata": {},
     "output_type": "display_data"
    },
    {
     "data": {
      "application/vnd.jupyter.widget-view+json": {
       "model_id": "cc3afe79ad034af59dc915fbe525d689",
       "version_major": 2,
       "version_minor": 0
      },
      "text/plain": [
       "Test Epoch 352/500, Test Loss: 9.575191389430653:   0%|          | 0/11 [00:00<?, ?it/s]"
      ]
     },
     "metadata": {},
     "output_type": "display_data"
    },
    {
     "data": {
      "application/vnd.jupyter.widget-view+json": {
       "model_id": "42a382bea73448ebbfe84600cadb7a41",
       "version_major": 2,
       "version_minor": 0
      },
      "text/plain": [
       "Train Epoch 353/500, Train Loss: 0.0:   0%|          | 0/44 [00:00<?, ?it/s]"
      ]
     },
     "metadata": {},
     "output_type": "display_data"
    },
    {
     "data": {
      "application/vnd.jupyter.widget-view+json": {
       "model_id": "a219dcebb7b846e288306cb603af9474",
       "version_major": 2,
       "version_minor": 0
      },
      "text/plain": [
       "Test Epoch 353/500, Test Loss: 9.574812629006125:   0%|          | 0/11 [00:00<?, ?it/s]"
      ]
     },
     "metadata": {},
     "output_type": "display_data"
    },
    {
     "data": {
      "application/vnd.jupyter.widget-view+json": {
       "model_id": "0a801fbcd9ba4af096f6e4f8ef380ba8",
       "version_major": 2,
       "version_minor": 0
      },
      "text/plain": [
       "Train Epoch 354/500, Train Loss: 0.0:   0%|          | 0/44 [00:00<?, ?it/s]"
      ]
     },
     "metadata": {},
     "output_type": "display_data"
    },
    {
     "data": {
      "application/vnd.jupyter.widget-view+json": {
       "model_id": "281a51a6d5b54e2ead921ed40a3c4ae0",
       "version_major": 2,
       "version_minor": 0
      },
      "text/plain": [
       "Test Epoch 354/500, Test Loss: 9.574433846907182:   0%|          | 0/11 [00:00<?, ?it/s]"
      ]
     },
     "metadata": {},
     "output_type": "display_data"
    },
    {
     "data": {
      "application/vnd.jupyter.widget-view+json": {
       "model_id": "ce63276751a0449d83a2cd6727395b80",
       "version_major": 2,
       "version_minor": 0
      },
      "text/plain": [
       "Train Epoch 355/500, Train Loss: 0.0:   0%|          | 0/44 [00:00<?, ?it/s]"
      ]
     },
     "metadata": {},
     "output_type": "display_data"
    },
    {
     "data": {
      "application/vnd.jupyter.widget-view+json": {
       "model_id": "96044b8aa0114fee983aad16d94614f8",
       "version_major": 2,
       "version_minor": 0
      },
      "text/plain": [
       "Test Epoch 355/500, Test Loss: 9.574433825232767:   0%|          | 0/11 [00:00<?, ?it/s]"
      ]
     },
     "metadata": {},
     "output_type": "display_data"
    },
    {
     "data": {
      "application/vnd.jupyter.widget-view+json": {
       "model_id": "9a1034568a72482d9986e174b046096a",
       "version_major": 2,
       "version_minor": 0
      },
      "text/plain": [
       "Train Epoch 356/500, Train Loss: 0.0:   0%|          | 0/44 [00:00<?, ?it/s]"
      ]
     },
     "metadata": {},
     "output_type": "display_data"
    },
    {
     "data": {
      "application/vnd.jupyter.widget-view+json": {
       "model_id": "7684625903d6420bb03c22833f5033a5",
       "version_major": 2,
       "version_minor": 0
      },
      "text/plain": [
       "Test Epoch 356/500, Test Loss: 9.575191389430653:   0%|          | 0/11 [00:00<?, ?it/s]"
      ]
     },
     "metadata": {},
     "output_type": "display_data"
    },
    {
     "data": {
      "application/vnd.jupyter.widget-view+json": {
       "model_id": "aa829f06a83c496f9642e975ee4ed066",
       "version_major": 2,
       "version_minor": 0
      },
      "text/plain": [
       "Train Epoch 357/500, Train Loss: 0.0:   0%|          | 0/44 [00:00<?, ?it/s]"
      ]
     },
     "metadata": {},
     "output_type": "display_data"
    },
    {
     "data": {
      "application/vnd.jupyter.widget-view+json": {
       "model_id": "d9d425faf7384f6baf9ee6e4c46f4388",
       "version_major": 2,
       "version_minor": 0
      },
      "text/plain": [
       "Test Epoch 357/500, Test Loss: 9.574055043133823:   0%|          | 0/11 [00:00<?, ?it/s]"
      ]
     },
     "metadata": {},
     "output_type": "display_data"
    },
    {
     "data": {
      "application/vnd.jupyter.widget-view+json": {
       "model_id": "4637a3d0f24541109a3c814cde8284ee",
       "version_major": 2,
       "version_minor": 0
      },
      "text/plain": [
       "Train Epoch 358/500, Train Loss: 0.0:   0%|          | 0/44 [00:00<?, ?it/s]"
      ]
     },
     "metadata": {},
     "output_type": "display_data"
    },
    {
     "data": {
      "application/vnd.jupyter.widget-view+json": {
       "model_id": "0f414992cbd64894b939a5f17486a9b3",
       "version_major": 2,
       "version_minor": 0
      },
      "text/plain": [
       "Test Epoch 358/500, Test Loss: 9.575191389430653:   0%|          | 0/11 [00:00<?, ?it/s]"
      ]
     },
     "metadata": {},
     "output_type": "display_data"
    },
    {
     "data": {
      "application/vnd.jupyter.widget-view+json": {
       "model_id": "43624382c22d4963960e7764c2fb9a73",
       "version_major": 2,
       "version_minor": 0
      },
      "text/plain": [
       "Train Epoch 359/500, Train Loss: 0.0:   0%|          | 0/44 [00:00<?, ?it/s]"
      ]
     },
     "metadata": {},
     "output_type": "display_data"
    },
    {
     "data": {
      "application/vnd.jupyter.widget-view+json": {
       "model_id": "b996017981ef428097c576f462dbc00d",
       "version_major": 2,
       "version_minor": 0
      },
      "text/plain": [
       "Test Epoch 359/500, Test Loss: 9.574055064808238:   0%|          | 0/11 [00:00<?, ?it/s]"
      ]
     },
     "metadata": {},
     "output_type": "display_data"
    },
    {
     "data": {
      "application/vnd.jupyter.widget-view+json": {
       "model_id": "87f10249ce944ea18436457e4dd6bccc",
       "version_major": 2,
       "version_minor": 0
      },
      "text/plain": [
       "Train Epoch 360/500, Train Loss: 0.0:   0%|          | 0/44 [00:00<?, ?it/s]"
      ]
     },
     "metadata": {},
     "output_type": "display_data"
    },
    {
     "data": {
      "application/vnd.jupyter.widget-view+json": {
       "model_id": "501c48de19a14bf788e38dcf0e87ab6a",
       "version_major": 2,
       "version_minor": 0
      },
      "text/plain": [
       "Test Epoch 360/500, Test Loss: 9.57481260733171:   0%|          | 0/11 [00:00<?, ?it/s]"
      ]
     },
     "metadata": {},
     "output_type": "display_data"
    },
    {
     "data": {
      "application/vnd.jupyter.widget-view+json": {
       "model_id": "f0648244872c48099fb202ec7a9d3488",
       "version_major": 2,
       "version_minor": 0
      },
      "text/plain": [
       "Train Epoch 361/500, Train Loss: 0.0:   0%|          | 0/44 [00:00<?, ?it/s]"
      ]
     },
     "metadata": {},
     "output_type": "display_data"
    },
    {
     "data": {
      "application/vnd.jupyter.widget-view+json": {
       "model_id": "5405ce4ab4194697b3ec6deec371f78e",
       "version_major": 2,
       "version_minor": 0
      },
      "text/plain": [
       "Test Epoch 361/500, Test Loss: 9.575570193204014:   0%|          | 0/11 [00:00<?, ?it/s]"
      ]
     },
     "metadata": {},
     "output_type": "display_data"
    },
    {
     "data": {
      "application/vnd.jupyter.widget-view+json": {
       "model_id": "21ccffb579114b2eb32b1ba99c36a96b",
       "version_major": 2,
       "version_minor": 0
      },
      "text/plain": [
       "Train Epoch 362/500, Train Loss: 0.0:   0%|          | 0/44 [00:00<?, ?it/s]"
      ]
     },
     "metadata": {},
     "output_type": "display_data"
    },
    {
     "data": {
      "application/vnd.jupyter.widget-view+json": {
       "model_id": "bfeb7e0fd5c94d4bb215b084a75d2e94",
       "version_major": 2,
       "version_minor": 0
      },
      "text/plain": [
       "Test Epoch 362/500, Test Loss: 9.574812629006125:   0%|          | 0/11 [00:00<?, ?it/s]"
      ]
     },
     "metadata": {},
     "output_type": "display_data"
    },
    {
     "data": {
      "application/vnd.jupyter.widget-view+json": {
       "model_id": "c705ce2da7fc4c0fbbfed717675e03a6",
       "version_major": 2,
       "version_minor": 0
      },
      "text/plain": [
       "Train Epoch 363/500, Train Loss: 0.0:   0%|          | 0/44 [00:00<?, ?it/s]"
      ]
     },
     "metadata": {},
     "output_type": "display_data"
    },
    {
     "data": {
      "application/vnd.jupyter.widget-view+json": {
       "model_id": "2ff7d5437c764d6489a3b23099b9c2be",
       "version_major": 2,
       "version_minor": 0
      },
      "text/plain": [
       "Test Epoch 363/500, Test Loss: 9.574433846907182:   0%|          | 0/11 [00:00<?, ?it/s]"
      ]
     },
     "metadata": {},
     "output_type": "display_data"
    },
    {
     "data": {
      "application/vnd.jupyter.widget-view+json": {
       "model_id": "07d371fdb3974db0a892547c937236b7",
       "version_major": 2,
       "version_minor": 0
      },
      "text/plain": [
       "Train Epoch 364/500, Train Loss: 0.0:   0%|          | 0/44 [00:00<?, ?it/s]"
      ]
     },
     "metadata": {},
     "output_type": "display_data"
    },
    {
     "data": {
      "application/vnd.jupyter.widget-view+json": {
       "model_id": "0279ba793a9b47ed9eeb133836328ca2",
       "version_major": 2,
       "version_minor": 0
      },
      "text/plain": [
       "Test Epoch 364/500, Test Loss: 9.57481260733171:   0%|          | 0/11 [00:00<?, ?it/s]"
      ]
     },
     "metadata": {},
     "output_type": "display_data"
    },
    {
     "data": {
      "application/vnd.jupyter.widget-view+json": {
       "model_id": "4c6bbcf32f9f4d55a26365dd7021b159",
       "version_major": 2,
       "version_minor": 0
      },
      "text/plain": [
       "Train Epoch 365/500, Train Loss: 0.0:   0%|          | 0/44 [00:00<?, ?it/s]"
      ]
     },
     "metadata": {},
     "output_type": "display_data"
    },
    {
     "data": {
      "application/vnd.jupyter.widget-view+json": {
       "model_id": "91f6838d05604fabb05ee3c2c21ee871",
       "version_major": 2,
       "version_minor": 0
      },
      "text/plain": [
       "Test Epoch 365/500, Test Loss: 9.574433825232767:   0%|          | 0/11 [00:00<?, ?it/s]"
      ]
     },
     "metadata": {},
     "output_type": "display_data"
    },
    {
     "data": {
      "application/vnd.jupyter.widget-view+json": {
       "model_id": "d3b456b00a0d494aa85e57f01c7a13c3",
       "version_major": 2,
       "version_minor": 0
      },
      "text/plain": [
       "Train Epoch 366/500, Train Loss: 0.0:   0%|          | 0/44 [00:00<?, ?it/s]"
      ]
     },
     "metadata": {},
     "output_type": "display_data"
    },
    {
     "data": {
      "application/vnd.jupyter.widget-view+json": {
       "model_id": "b4a5e89245524be4b76d55e14e6731c7",
       "version_major": 2,
       "version_minor": 0
      },
      "text/plain": [
       "Test Epoch 366/500, Test Loss: 9.575191389430653:   0%|          | 0/11 [00:00<?, ?it/s]"
      ]
     },
     "metadata": {},
     "output_type": "display_data"
    },
    {
     "data": {
      "application/vnd.jupyter.widget-view+json": {
       "model_id": "7a1af871540e49009524195ea6b69b16",
       "version_major": 2,
       "version_minor": 0
      },
      "text/plain": [
       "Train Epoch 367/500, Train Loss: 0.0:   0%|          | 0/44 [00:00<?, ?it/s]"
      ]
     },
     "metadata": {},
     "output_type": "display_data"
    },
    {
     "data": {
      "application/vnd.jupyter.widget-view+json": {
       "model_id": "c3f9ae92657b44ba8182314363144764",
       "version_major": 2,
       "version_minor": 0
      },
      "text/plain": [
       "Test Epoch 367/500, Test Loss: 9.574055064808238:   0%|          | 0/11 [00:00<?, ?it/s]"
      ]
     },
     "metadata": {},
     "output_type": "display_data"
    },
    {
     "data": {
      "application/vnd.jupyter.widget-view+json": {
       "model_id": "cb088342c276460c9976dc74d1f60b4d",
       "version_major": 2,
       "version_minor": 0
      },
      "text/plain": [
       "Train Epoch 368/500, Train Loss: 0.0:   0%|          | 0/44 [00:00<?, ?it/s]"
      ]
     },
     "metadata": {},
     "output_type": "display_data"
    },
    {
     "data": {
      "application/vnd.jupyter.widget-view+json": {
       "model_id": "37ebf37d912a44ca8e7f618868113065",
       "version_major": 2,
       "version_minor": 0
      },
      "text/plain": [
       "Test Epoch 368/500, Test Loss: 9.57481260733171:   0%|          | 0/11 [00:00<?, ?it/s]"
      ]
     },
     "metadata": {},
     "output_type": "display_data"
    },
    {
     "data": {
      "application/vnd.jupyter.widget-view+json": {
       "model_id": "1f11397dfc154ae0949d05834cf91253",
       "version_major": 2,
       "version_minor": 0
      },
      "text/plain": [
       "Train Epoch 369/500, Train Loss: 0.0:   0%|          | 0/44 [00:00<?, ?it/s]"
      ]
     },
     "metadata": {},
     "output_type": "display_data"
    },
    {
     "data": {
      "application/vnd.jupyter.widget-view+json": {
       "model_id": "e48e068f557141ce828bd74e66ff39c9",
       "version_major": 2,
       "version_minor": 0
      },
      "text/plain": [
       "Test Epoch 369/500, Test Loss: 9.575191389430653:   0%|          | 0/11 [00:00<?, ?it/s]"
      ]
     },
     "metadata": {},
     "output_type": "display_data"
    },
    {
     "data": {
      "application/vnd.jupyter.widget-view+json": {
       "model_id": "e063ab854ea540e7a1986aab652a7401",
       "version_major": 2,
       "version_minor": 0
      },
      "text/plain": [
       "Train Epoch 370/500, Train Loss: 0.0:   0%|          | 0/44 [00:00<?, ?it/s]"
      ]
     },
     "metadata": {},
     "output_type": "display_data"
    },
    {
     "data": {
      "application/vnd.jupyter.widget-view+json": {
       "model_id": "b9457029d363491c92127b9263516c3c",
       "version_major": 2,
       "version_minor": 0
      },
      "text/plain": [
       "Test Epoch 370/500, Test Loss: 9.574433846907182:   0%|          | 0/11 [00:00<?, ?it/s]"
      ]
     },
     "metadata": {},
     "output_type": "display_data"
    },
    {
     "data": {
      "application/vnd.jupyter.widget-view+json": {
       "model_id": "1df59be1252544f5a6818812d43736c5",
       "version_major": 2,
       "version_minor": 0
      },
      "text/plain": [
       "Train Epoch 371/500, Train Loss: 0.0:   0%|          | 0/44 [00:00<?, ?it/s]"
      ]
     },
     "metadata": {},
     "output_type": "display_data"
    },
    {
     "data": {
      "application/vnd.jupyter.widget-view+json": {
       "model_id": "e205d0fb2d944bc5aba4ccd5bb6c9822",
       "version_major": 2,
       "version_minor": 0
      },
      "text/plain": [
       "Test Epoch 371/500, Test Loss: 9.574433825232767:   0%|          | 0/11 [00:00<?, ?it/s]"
      ]
     },
     "metadata": {},
     "output_type": "display_data"
    },
    {
     "data": {
      "application/vnd.jupyter.widget-view+json": {
       "model_id": "8061af2e21bb4f2d983a549327efc0d8",
       "version_major": 2,
       "version_minor": 0
      },
      "text/plain": [
       "Train Epoch 372/500, Train Loss: 0.0:   0%|          | 0/44 [00:00<?, ?it/s]"
      ]
     },
     "metadata": {},
     "output_type": "display_data"
    },
    {
     "data": {
      "application/vnd.jupyter.widget-view+json": {
       "model_id": "d5ec14932e284a70aeea0e80937b62e6",
       "version_major": 2,
       "version_minor": 0
      },
      "text/plain": [
       "Test Epoch 372/500, Test Loss: 9.574433825232767:   0%|          | 0/11 [00:00<?, ?it/s]"
      ]
     },
     "metadata": {},
     "output_type": "display_data"
    },
    {
     "data": {
      "application/vnd.jupyter.widget-view+json": {
       "model_id": "9351ebbe31b64abd9f499a0c3e1b3938",
       "version_major": 2,
       "version_minor": 0
      },
      "text/plain": [
       "Train Epoch 373/500, Train Loss: 0.0:   0%|          | 0/44 [00:00<?, ?it/s]"
      ]
     },
     "metadata": {},
     "output_type": "display_data"
    },
    {
     "data": {
      "application/vnd.jupyter.widget-view+json": {
       "model_id": "0f8beab86cb849b28179c224cd4076c4",
       "version_major": 2,
       "version_minor": 0
      },
      "text/plain": [
       "Test Epoch 373/500, Test Loss: 9.572918696836991:   0%|          | 0/11 [00:00<?, ?it/s]"
      ]
     },
     "metadata": {},
     "output_type": "display_data"
    },
    {
     "data": {
      "application/vnd.jupyter.widget-view+json": {
       "model_id": "11ef55229cb148a2b27c9ff3b086d7a3",
       "version_major": 2,
       "version_minor": 0
      },
      "text/plain": [
       "Train Epoch 374/500, Train Loss: 0.0:   0%|          | 0/44 [00:00<?, ?it/s]"
      ]
     },
     "metadata": {},
     "output_type": "display_data"
    },
    {
     "data": {
      "application/vnd.jupyter.widget-view+json": {
       "model_id": "8797128c368f43eb9296823fb0ba91d8",
       "version_major": 2,
       "version_minor": 0
      },
      "text/plain": [
       "Test Epoch 374/500, Test Loss: 9.574433825232767:   0%|          | 0/11 [00:00<?, ?it/s]"
      ]
     },
     "metadata": {},
     "output_type": "display_data"
    },
    {
     "data": {
      "application/vnd.jupyter.widget-view+json": {
       "model_id": "2a69a1622a114f4fa2a9acd4b24dc859",
       "version_major": 2,
       "version_minor": 0
      },
      "text/plain": [
       "Train Epoch 375/500, Train Loss: 0.0:   0%|          | 0/44 [00:00<?, ?it/s]"
      ]
     },
     "metadata": {},
     "output_type": "display_data"
    },
    {
     "data": {
      "application/vnd.jupyter.widget-view+json": {
       "model_id": "57f65c73ad9f4ee3a16f39727d9fe892",
       "version_major": 2,
       "version_minor": 0
      },
      "text/plain": [
       "Test Epoch 375/500, Test Loss: 9.57481260733171:   0%|          | 0/11 [00:00<?, ?it/s]"
      ]
     },
     "metadata": {},
     "output_type": "display_data"
    },
    {
     "data": {
      "application/vnd.jupyter.widget-view+json": {
       "model_id": "cba98cd3959a4345b6f506f3c96f7ca7",
       "version_major": 2,
       "version_minor": 0
      },
      "text/plain": [
       "Train Epoch 376/500, Train Loss: 0.0:   0%|          | 0/44 [00:00<?, ?it/s]"
      ]
     },
     "metadata": {},
     "output_type": "display_data"
    },
    {
     "data": {
      "application/vnd.jupyter.widget-view+json": {
       "model_id": "ed7fd501f7cb4b35bbc66221c6b1685f",
       "version_major": 2,
       "version_minor": 0
      },
      "text/plain": [
       "Test Epoch 376/500, Test Loss: 9.57481260733171:   0%|          | 0/11 [00:00<?, ?it/s]"
      ]
     },
     "metadata": {},
     "output_type": "display_data"
    },
    {
     "data": {
      "application/vnd.jupyter.widget-view+json": {
       "model_id": "043ef8455a7842059a65949c3d7d393b",
       "version_major": 2,
       "version_minor": 0
      },
      "text/plain": [
       "Train Epoch 377/500, Train Loss: 0.0:   0%|          | 0/44 [00:00<?, ?it/s]"
      ]
     },
     "metadata": {},
     "output_type": "display_data"
    },
    {
     "data": {
      "application/vnd.jupyter.widget-view+json": {
       "model_id": "22b335448f6f46a38bdd8fbbac29eed3",
       "version_major": 2,
       "version_minor": 0
      },
      "text/plain": [
       "Test Epoch 377/500, Test Loss: 9.574055064808238:   0%|          | 0/11 [00:00<?, ?it/s]"
      ]
     },
     "metadata": {},
     "output_type": "display_data"
    },
    {
     "data": {
      "application/vnd.jupyter.widget-view+json": {
       "model_id": "d438e7949b8d47e5b9ae4ac2f98ff0fa",
       "version_major": 2,
       "version_minor": 0
      },
      "text/plain": [
       "Train Epoch 378/500, Train Loss: 0.0:   0%|          | 0/44 [00:00<?, ?it/s]"
      ]
     },
     "metadata": {},
     "output_type": "display_data"
    },
    {
     "data": {
      "application/vnd.jupyter.widget-view+json": {
       "model_id": "42b0b4e64ac0469cbbf52af09075d22d",
       "version_major": 2,
       "version_minor": 0
      },
      "text/plain": [
       "Test Epoch 378/500, Test Loss: 9.575191432779485:   0%|          | 0/11 [00:00<?, ?it/s]"
      ]
     },
     "metadata": {},
     "output_type": "display_data"
    },
    {
     "data": {
      "application/vnd.jupyter.widget-view+json": {
       "model_id": "a3597d45f4834381b96fb0731edb35a2",
       "version_major": 2,
       "version_minor": 0
      },
      "text/plain": [
       "Train Epoch 379/500, Train Loss: 0.0:   0%|          | 0/44 [00:00<?, ?it/s]"
      ]
     },
     "metadata": {},
     "output_type": "display_data"
    },
    {
     "data": {
      "application/vnd.jupyter.widget-view+json": {
       "model_id": "dbbbbeab5d1945778537ce193aee94d6",
       "version_major": 2,
       "version_minor": 0
      },
      "text/plain": [
       "Test Epoch 379/500, Test Loss: 9.574812629006125:   0%|          | 0/11 [00:00<?, ?it/s]"
      ]
     },
     "metadata": {},
     "output_type": "display_data"
    },
    {
     "data": {
      "application/vnd.jupyter.widget-view+json": {
       "model_id": "8a2a0b119bf147bfb9b61fbfc552ffc6",
       "version_major": 2,
       "version_minor": 0
      },
      "text/plain": [
       "Train Epoch 380/500, Train Loss: 0.0:   0%|          | 0/44 [00:00<?, ?it/s]"
      ]
     },
     "metadata": {},
     "output_type": "display_data"
    },
    {
     "data": {
      "application/vnd.jupyter.widget-view+json": {
       "model_id": "5517c4c3618f4516b72eb065513ca884",
       "version_major": 2,
       "version_minor": 0
      },
      "text/plain": [
       "Test Epoch 380/500, Test Loss: 9.574812629006125:   0%|          | 0/11 [00:00<?, ?it/s]"
      ]
     },
     "metadata": {},
     "output_type": "display_data"
    },
    {
     "data": {
      "application/vnd.jupyter.widget-view+json": {
       "model_id": "b52e6e170d614f79965cf613f2c1b7d0",
       "version_major": 2,
       "version_minor": 0
      },
      "text/plain": [
       "Train Epoch 381/500, Train Loss: 0.0:   0%|          | 0/44 [00:00<?, ?it/s]"
      ]
     },
     "metadata": {},
     "output_type": "display_data"
    },
    {
     "data": {
      "application/vnd.jupyter.widget-view+json": {
       "model_id": "be26073aad2c4586b72308576f2f38e0",
       "version_major": 2,
       "version_minor": 0
      },
      "text/plain": [
       "Test Epoch 381/500, Test Loss: 9.574812629006125:   0%|          | 0/11 [00:00<?, ?it/s]"
      ]
     },
     "metadata": {},
     "output_type": "display_data"
    },
    {
     "data": {
      "application/vnd.jupyter.widget-view+json": {
       "model_id": "12027ed774314aa985c9bbc692bb89a3",
       "version_major": 2,
       "version_minor": 0
      },
      "text/plain": [
       "Train Epoch 382/500, Train Loss: 0.0:   0%|          | 0/44 [00:00<?, ?it/s]"
      ]
     },
     "metadata": {},
     "output_type": "display_data"
    },
    {
     "data": {
      "application/vnd.jupyter.widget-view+json": {
       "model_id": "12b8620d74d844a6a3ba9e90c49a6856",
       "version_major": 2,
       "version_minor": 0
      },
      "text/plain": [
       "Test Epoch 382/500, Test Loss: 9.57481260733171:   0%|          | 0/11 [00:00<?, ?it/s]"
      ]
     },
     "metadata": {},
     "output_type": "display_data"
    },
    {
     "data": {
      "application/vnd.jupyter.widget-view+json": {
       "model_id": "165316183e1a4658abeb512125468faf",
       "version_major": 2,
       "version_minor": 0
      },
      "text/plain": [
       "Train Epoch 383/500, Train Loss: 0.0:   0%|          | 0/44 [00:00<?, ?it/s]"
      ]
     },
     "metadata": {},
     "output_type": "display_data"
    },
    {
     "data": {
      "application/vnd.jupyter.widget-view+json": {
       "model_id": "22b094b58af440eeb9b080ba4d041341",
       "version_major": 2,
       "version_minor": 0
      },
      "text/plain": [
       "Test Epoch 383/500, Test Loss: 9.575191432779485:   0%|          | 0/11 [00:00<?, ?it/s]"
      ]
     },
     "metadata": {},
     "output_type": "display_data"
    },
    {
     "data": {
      "application/vnd.jupyter.widget-view+json": {
       "model_id": "1686fac237f54f35b537ae2356cd9e62",
       "version_major": 2,
       "version_minor": 0
      },
      "text/plain": [
       "Train Epoch 384/500, Train Loss: 0.0:   0%|          | 0/44 [00:00<?, ?it/s]"
      ]
     },
     "metadata": {},
     "output_type": "display_data"
    },
    {
     "data": {
      "application/vnd.jupyter.widget-view+json": {
       "model_id": "3562c0966e1d41e7afffea4a4b3ebd4e",
       "version_major": 2,
       "version_minor": 0
      },
      "text/plain": [
       "Test Epoch 384/500, Test Loss: 9.574433846907182:   0%|          | 0/11 [00:00<?, ?it/s]"
      ]
     },
     "metadata": {},
     "output_type": "display_data"
    },
    {
     "data": {
      "application/vnd.jupyter.widget-view+json": {
       "model_id": "0fc1f5ae72b34d2ab7b409bbc7a31ed8",
       "version_major": 2,
       "version_minor": 0
      },
      "text/plain": [
       "Train Epoch 385/500, Train Loss: 0.0:   0%|          | 0/44 [00:00<?, ?it/s]"
      ]
     },
     "metadata": {},
     "output_type": "display_data"
    },
    {
     "data": {
      "application/vnd.jupyter.widget-view+json": {
       "model_id": "63f2cbe782ed443b89c5d17cd90dae3d",
       "version_major": 2,
       "version_minor": 0
      },
      "text/plain": [
       "Test Epoch 385/500, Test Loss: 9.574055043133823:   0%|          | 0/11 [00:00<?, ?it/s]"
      ]
     },
     "metadata": {},
     "output_type": "display_data"
    },
    {
     "data": {
      "application/vnd.jupyter.widget-view+json": {
       "model_id": "c5489e015494423197c5aded2f49dd17",
       "version_major": 2,
       "version_minor": 0
      },
      "text/plain": [
       "Train Epoch 386/500, Train Loss: 0.0:   0%|          | 0/44 [00:00<?, ?it/s]"
      ]
     },
     "metadata": {},
     "output_type": "display_data"
    },
    {
     "data": {
      "application/vnd.jupyter.widget-view+json": {
       "model_id": "11a513fb1a614edfb3961e06abb00f9d",
       "version_major": 2,
       "version_minor": 0
      },
      "text/plain": [
       "Test Epoch 386/500, Test Loss: 9.575570193204014:   0%|          | 0/11 [00:00<?, ?it/s]"
      ]
     },
     "metadata": {},
     "output_type": "display_data"
    },
    {
     "data": {
      "application/vnd.jupyter.widget-view+json": {
       "model_id": "a039324397d44ce0a40c928be4e87425",
       "version_major": 2,
       "version_minor": 0
      },
      "text/plain": [
       "Train Epoch 387/500, Train Loss: 0.0:   0%|          | 0/44 [00:00<?, ?it/s]"
      ]
     },
     "metadata": {},
     "output_type": "display_data"
    },
    {
     "data": {
      "application/vnd.jupyter.widget-view+json": {
       "model_id": "3e9d6d1a9a6e4d3cb391218231513916",
       "version_major": 2,
       "version_minor": 0
      },
      "text/plain": [
       "Test Epoch 387/500, Test Loss: 9.574433846907182:   0%|          | 0/11 [00:00<?, ?it/s]"
      ]
     },
     "metadata": {},
     "output_type": "display_data"
    },
    {
     "data": {
      "application/vnd.jupyter.widget-view+json": {
       "model_id": "2d89fcb9dfd7440b965250b6a589be7e",
       "version_major": 2,
       "version_minor": 0
      },
      "text/plain": [
       "Train Epoch 388/500, Train Loss: 0.0:   0%|          | 0/44 [00:00<?, ?it/s]"
      ]
     },
     "metadata": {},
     "output_type": "display_data"
    },
    {
     "data": {
      "application/vnd.jupyter.widget-view+json": {
       "model_id": "4a3a8ac7128f47818317143f6c73996a",
       "version_major": 2,
       "version_minor": 0
      },
      "text/plain": [
       "Test Epoch 388/500, Test Loss: 9.575191432779485:   0%|          | 0/11 [00:00<?, ?it/s]"
      ]
     },
     "metadata": {},
     "output_type": "display_data"
    },
    {
     "data": {
      "application/vnd.jupyter.widget-view+json": {
       "model_id": "9116800c9f0c4687a9706adce6a145de",
       "version_major": 2,
       "version_minor": 0
      },
      "text/plain": [
       "Train Epoch 389/500, Train Loss: 0.0:   0%|          | 0/44 [00:00<?, ?it/s]"
      ]
     },
     "metadata": {},
     "output_type": "display_data"
    },
    {
     "data": {
      "application/vnd.jupyter.widget-view+json": {
       "model_id": "07869fac1f204f9da8e2dd4beed441e5",
       "version_major": 2,
       "version_minor": 0
      },
      "text/plain": [
       "Test Epoch 389/500, Test Loss: 9.57481260733171:   0%|          | 0/11 [00:00<?, ?it/s]"
      ]
     },
     "metadata": {},
     "output_type": "display_data"
    },
    {
     "data": {
      "application/vnd.jupyter.widget-view+json": {
       "model_id": "b4984ba4a7644b019b498b0ce543a286",
       "version_major": 2,
       "version_minor": 0
      },
      "text/plain": [
       "Train Epoch 390/500, Train Loss: 0.0:   0%|          | 0/44 [00:00<?, ?it/s]"
      ]
     },
     "metadata": {},
     "output_type": "display_data"
    },
    {
     "data": {
      "application/vnd.jupyter.widget-view+json": {
       "model_id": "539aed41e4f741d9b081dc16988f9835",
       "version_major": 2,
       "version_minor": 0
      },
      "text/plain": [
       "Test Epoch 390/500, Test Loss: 9.57481260733171:   0%|          | 0/11 [00:00<?, ?it/s]"
      ]
     },
     "metadata": {},
     "output_type": "display_data"
    },
    {
     "data": {
      "application/vnd.jupyter.widget-view+json": {
       "model_id": "f416c7fa0cd74adeb09a8d035bbf87f1",
       "version_major": 2,
       "version_minor": 0
      },
      "text/plain": [
       "Train Epoch 391/500, Train Loss: 0.0:   0%|          | 0/44 [00:00<?, ?it/s]"
      ]
     },
     "metadata": {},
     "output_type": "display_data"
    },
    {
     "data": {
      "application/vnd.jupyter.widget-view+json": {
       "model_id": "1aafb650815f4daab9bd802b73232858",
       "version_major": 2,
       "version_minor": 0
      },
      "text/plain": [
       "Test Epoch 391/500, Test Loss: 9.575191432779485:   0%|          | 0/11 [00:00<?, ?it/s]"
      ]
     },
     "metadata": {},
     "output_type": "display_data"
    },
    {
     "data": {
      "application/vnd.jupyter.widget-view+json": {
       "model_id": "b3cafa8b189a40b2b46976f3b3bff448",
       "version_major": 2,
       "version_minor": 0
      },
      "text/plain": [
       "Train Epoch 392/500, Train Loss: 0.0:   0%|          | 0/44 [00:00<?, ?it/s]"
      ]
     },
     "metadata": {},
     "output_type": "display_data"
    },
    {
     "data": {
      "application/vnd.jupyter.widget-view+json": {
       "model_id": "38432bfed93744639f6c1978dd681775",
       "version_major": 2,
       "version_minor": 0
      },
      "text/plain": [
       "Test Epoch 392/500, Test Loss: 9.575570214878429:   0%|          | 0/11 [00:00<?, ?it/s]"
      ]
     },
     "metadata": {},
     "output_type": "display_data"
    },
    {
     "data": {
      "application/vnd.jupyter.widget-view+json": {
       "model_id": "bdebfc5cebd949568db38caed11d5d62",
       "version_major": 2,
       "version_minor": 0
      },
      "text/plain": [
       "Train Epoch 393/500, Train Loss: 0.0:   0%|          | 0/44 [00:00<?, ?it/s]"
      ]
     },
     "metadata": {},
     "output_type": "display_data"
    },
    {
     "data": {
      "application/vnd.jupyter.widget-view+json": {
       "model_id": "11233edbea414a5d95be90c926259c17",
       "version_major": 2,
       "version_minor": 0
      },
      "text/plain": [
       "Test Epoch 393/500, Test Loss: 9.574433825232767:   0%|          | 0/11 [00:00<?, ?it/s]"
      ]
     },
     "metadata": {},
     "output_type": "display_data"
    },
    {
     "data": {
      "application/vnd.jupyter.widget-view+json": {
       "model_id": "c67d2629a16343819d0680ece1c770e3",
       "version_major": 2,
       "version_minor": 0
      },
      "text/plain": [
       "Train Epoch 394/500, Train Loss: 0.0:   0%|          | 0/44 [00:00<?, ?it/s]"
      ]
     },
     "metadata": {},
     "output_type": "display_data"
    },
    {
     "data": {
      "application/vnd.jupyter.widget-view+json": {
       "model_id": "9d0d3ff7c45740b78669fe5faa3e9a2d",
       "version_major": 2,
       "version_minor": 0
      },
      "text/plain": [
       "Test Epoch 394/500, Test Loss: 9.575191389430653:   0%|          | 0/11 [00:00<?, ?it/s]"
      ]
     },
     "metadata": {},
     "output_type": "display_data"
    },
    {
     "data": {
      "application/vnd.jupyter.widget-view+json": {
       "model_id": "92ef3c5cd0d54c968f5139b8932e2dd1",
       "version_major": 2,
       "version_minor": 0
      },
      "text/plain": [
       "Train Epoch 395/500, Train Loss: 0.0:   0%|          | 0/44 [00:00<?, ?it/s]"
      ]
     },
     "metadata": {},
     "output_type": "display_data"
    },
    {
     "data": {
      "application/vnd.jupyter.widget-view+json": {
       "model_id": "cd30bf8424434463929b1a49012ae307",
       "version_major": 2,
       "version_minor": 0
      },
      "text/plain": [
       "Test Epoch 395/500, Test Loss: 9.574812629006125:   0%|          | 0/11 [00:00<?, ?it/s]"
      ]
     },
     "metadata": {},
     "output_type": "display_data"
    },
    {
     "data": {
      "application/vnd.jupyter.widget-view+json": {
       "model_id": "872a8510fea048368df09305bf44388b",
       "version_major": 2,
       "version_minor": 0
      },
      "text/plain": [
       "Train Epoch 396/500, Train Loss: 0.0:   0%|          | 0/44 [00:00<?, ?it/s]"
      ]
     },
     "metadata": {},
     "output_type": "display_data"
    },
    {
     "data": {
      "application/vnd.jupyter.widget-view+json": {
       "model_id": "c1edd34ba21f49218906cf8268d83365",
       "version_major": 2,
       "version_minor": 0
      },
      "text/plain": [
       "Test Epoch 396/500, Test Loss: 9.575191389430653:   0%|          | 0/11 [00:00<?, ?it/s]"
      ]
     },
     "metadata": {},
     "output_type": "display_data"
    },
    {
     "data": {
      "application/vnd.jupyter.widget-view+json": {
       "model_id": "16c275839a084e56899fe837c1ef2512",
       "version_major": 2,
       "version_minor": 0
      },
      "text/plain": [
       "Train Epoch 397/500, Train Loss: 0.0:   0%|          | 0/44 [00:00<?, ?it/s]"
      ]
     },
     "metadata": {},
     "output_type": "display_data"
    },
    {
     "data": {
      "application/vnd.jupyter.widget-view+json": {
       "model_id": "681bec3290954bfaa61cb9e73b3d4381",
       "version_major": 2,
       "version_minor": 0
      },
      "text/plain": [
       "Test Epoch 397/500, Test Loss: 9.575191389430653:   0%|          | 0/11 [00:00<?, ?it/s]"
      ]
     },
     "metadata": {},
     "output_type": "display_data"
    },
    {
     "data": {
      "application/vnd.jupyter.widget-view+json": {
       "model_id": "aba2804b6d9647c3876279ba8509edef",
       "version_major": 2,
       "version_minor": 0
      },
      "text/plain": [
       "Train Epoch 398/500, Train Loss: 0.0:   0%|          | 0/44 [00:00<?, ?it/s]"
      ]
     },
     "metadata": {},
     "output_type": "display_data"
    },
    {
     "data": {
      "application/vnd.jupyter.widget-view+json": {
       "model_id": "a385cb7a05894cf38fa216f274e9889a",
       "version_major": 2,
       "version_minor": 0
      },
      "text/plain": [
       "Test Epoch 398/500, Test Loss: 9.575570193204014:   0%|          | 0/11 [00:00<?, ?it/s]"
      ]
     },
     "metadata": {},
     "output_type": "display_data"
    },
    {
     "data": {
      "application/vnd.jupyter.widget-view+json": {
       "model_id": "485a9b50376c4dd38160ba7258b9c005",
       "version_major": 2,
       "version_minor": 0
      },
      "text/plain": [
       "Train Epoch 399/500, Train Loss: 0.0:   0%|          | 0/44 [00:00<?, ?it/s]"
      ]
     },
     "metadata": {},
     "output_type": "display_data"
    },
    {
     "data": {
      "application/vnd.jupyter.widget-view+json": {
       "model_id": "83572c0753c341bf95ddb8566dd47606",
       "version_major": 2,
       "version_minor": 0
      },
      "text/plain": [
       "Test Epoch 399/500, Test Loss: 9.575570214878429:   0%|          | 0/11 [00:00<?, ?it/s]"
      ]
     },
     "metadata": {},
     "output_type": "display_data"
    },
    {
     "data": {
      "application/vnd.jupyter.widget-view+json": {
       "model_id": "c4ba59ab627a4e24afb1aa19fe05d761",
       "version_major": 2,
       "version_minor": 0
      },
      "text/plain": [
       "Train Epoch 400/500, Train Loss: 0.0:   0%|          | 0/44 [00:00<?, ?it/s]"
      ]
     },
     "metadata": {},
     "output_type": "display_data"
    },
    {
     "data": {
      "application/vnd.jupyter.widget-view+json": {
       "model_id": "9a6eb9a32876454ab57f17d39b20e0c5",
       "version_major": 2,
       "version_minor": 0
      },
      "text/plain": [
       "Test Epoch 400/500, Test Loss: 9.574055064808238:   0%|          | 0/11 [00:00<?, ?it/s]"
      ]
     },
     "metadata": {},
     "output_type": "display_data"
    },
    {
     "data": {
      "application/vnd.jupyter.widget-view+json": {
       "model_id": "55c7f78a66794f278dfaee68293c80aa",
       "version_major": 2,
       "version_minor": 0
      },
      "text/plain": [
       "Train Epoch 401/500, Train Loss: 0.0:   0%|          | 0/44 [00:00<?, ?it/s]"
      ]
     },
     "metadata": {},
     "output_type": "display_data"
    },
    {
     "data": {
      "application/vnd.jupyter.widget-view+json": {
       "model_id": "edb6e08e4d64464f9f3ba37deeca2165",
       "version_major": 2,
       "version_minor": 0
      },
      "text/plain": [
       "Test Epoch 401/500, Test Loss: 9.574812629006125:   0%|          | 0/11 [00:00<?, ?it/s]"
      ]
     },
     "metadata": {},
     "output_type": "display_data"
    },
    {
     "data": {
      "application/vnd.jupyter.widget-view+json": {
       "model_id": "0db73e72ef63417b92be91658bb0e7c9",
       "version_major": 2,
       "version_minor": 0
      },
      "text/plain": [
       "Train Epoch 402/500, Train Loss: 0.0:   0%|          | 0/44 [00:00<?, ?it/s]"
      ]
     },
     "metadata": {},
     "output_type": "display_data"
    },
    {
     "data": {
      "application/vnd.jupyter.widget-view+json": {
       "model_id": "9f81a542939d44209379e91b23b71abc",
       "version_major": 2,
       "version_minor": 0
      },
      "text/plain": [
       "Test Epoch 402/500, Test Loss: 9.573676239360463:   0%|          | 0/11 [00:00<?, ?it/s]"
      ]
     },
     "metadata": {},
     "output_type": "display_data"
    },
    {
     "data": {
      "application/vnd.jupyter.widget-view+json": {
       "model_id": "2de3b5d8bcb241889482a46ea97af347",
       "version_major": 2,
       "version_minor": 0
      },
      "text/plain": [
       "Train Epoch 403/500, Train Loss: 0.0:   0%|          | 0/44 [00:00<?, ?it/s]"
      ]
     },
     "metadata": {},
     "output_type": "display_data"
    },
    {
     "data": {
      "application/vnd.jupyter.widget-view+json": {
       "model_id": "604fcd5313ec46b8beca435bcc0e88b1",
       "version_major": 2,
       "version_minor": 0
      },
      "text/plain": [
       "Test Epoch 403/500, Test Loss: 9.574055064808238:   0%|          | 0/11 [00:00<?, ?it/s]"
      ]
     },
     "metadata": {},
     "output_type": "display_data"
    },
    {
     "data": {
      "application/vnd.jupyter.widget-view+json": {
       "model_id": "bf64090ed5a443d7bec1723fca3422fb",
       "version_major": 2,
       "version_minor": 0
      },
      "text/plain": [
       "Train Epoch 404/500, Train Loss: 0.0:   0%|          | 0/44 [00:00<?, ?it/s]"
      ]
     },
     "metadata": {},
     "output_type": "display_data"
    },
    {
     "data": {
      "application/vnd.jupyter.widget-view+json": {
       "model_id": "d05704d2a6984c029fce6179196cd0ac",
       "version_major": 2,
       "version_minor": 0
      },
      "text/plain": [
       "Test Epoch 404/500, Test Loss: 9.574055043133823:   0%|          | 0/11 [00:00<?, ?it/s]"
      ]
     },
     "metadata": {},
     "output_type": "display_data"
    },
    {
     "data": {
      "application/vnd.jupyter.widget-view+json": {
       "model_id": "422b8ab49e82460f9a8b3bdd726c2e8c",
       "version_major": 2,
       "version_minor": 0
      },
      "text/plain": [
       "Train Epoch 405/500, Train Loss: 0.0:   0%|          | 0/44 [00:00<?, ?it/s]"
      ]
     },
     "metadata": {},
     "output_type": "display_data"
    },
    {
     "data": {
      "application/vnd.jupyter.widget-view+json": {
       "model_id": "e3e58916e28f4c4dae4927c5808cc2f7",
       "version_major": 2,
       "version_minor": 0
      },
      "text/plain": [
       "Test Epoch 405/500, Test Loss: 9.575570193204014:   0%|          | 0/11 [00:00<?, ?it/s]"
      ]
     },
     "metadata": {},
     "output_type": "display_data"
    },
    {
     "data": {
      "application/vnd.jupyter.widget-view+json": {
       "model_id": "0973baad5e76468b8af421d8498237ae",
       "version_major": 2,
       "version_minor": 0
      },
      "text/plain": [
       "Train Epoch 406/500, Train Loss: 0.0:   0%|          | 0/44 [00:00<?, ?it/s]"
      ]
     },
     "metadata": {},
     "output_type": "display_data"
    },
    {
     "data": {
      "application/vnd.jupyter.widget-view+json": {
       "model_id": "126167aad5f44f189139296ce12773e6",
       "version_major": 2,
       "version_minor": 0
      },
      "text/plain": [
       "Test Epoch 406/500, Test Loss: 9.57481260733171:   0%|          | 0/11 [00:00<?, ?it/s]"
      ]
     },
     "metadata": {},
     "output_type": "display_data"
    },
    {
     "data": {
      "application/vnd.jupyter.widget-view+json": {
       "model_id": "db54dad7547340649763914cea223c5c",
       "version_major": 2,
       "version_minor": 0
      },
      "text/plain": [
       "Train Epoch 407/500, Train Loss: 0.0:   0%|          | 0/44 [00:00<?, ?it/s]"
      ]
     },
     "metadata": {},
     "output_type": "display_data"
    },
    {
     "data": {
      "application/vnd.jupyter.widget-view+json": {
       "model_id": "e063533346cf4af8a6f446548d402442",
       "version_major": 2,
       "version_minor": 0
      },
      "text/plain": [
       "Test Epoch 407/500, Test Loss: 9.573676261034878:   0%|          | 0/11 [00:00<?, ?it/s]"
      ]
     },
     "metadata": {},
     "output_type": "display_data"
    },
    {
     "data": {
      "application/vnd.jupyter.widget-view+json": {
       "model_id": "87f7159701e048bba823cf6479630b93",
       "version_major": 2,
       "version_minor": 0
      },
      "text/plain": [
       "Train Epoch 408/500, Train Loss: 0.0:   0%|          | 0/44 [00:00<?, ?it/s]"
      ]
     },
     "metadata": {},
     "output_type": "display_data"
    },
    {
     "data": {
      "application/vnd.jupyter.widget-view+json": {
       "model_id": "ae033d98469541cc926b79ae774cba1c",
       "version_major": 2,
       "version_minor": 0
      },
      "text/plain": [
       "Test Epoch 408/500, Test Loss: 9.57481260733171:   0%|          | 0/11 [00:00<?, ?it/s]"
      ]
     },
     "metadata": {},
     "output_type": "display_data"
    },
    {
     "data": {
      "application/vnd.jupyter.widget-view+json": {
       "model_id": "857580b668524148a9fdae9c1403b994",
       "version_major": 2,
       "version_minor": 0
      },
      "text/plain": [
       "Train Epoch 409/500, Train Loss: 0.0:   0%|          | 0/44 [00:00<?, ?it/s]"
      ]
     },
     "metadata": {},
     "output_type": "display_data"
    },
    {
     "data": {
      "application/vnd.jupyter.widget-view+json": {
       "model_id": "da69957d55774294aedc2fe1fb3dd82d",
       "version_major": 2,
       "version_minor": 0
      },
      "text/plain": [
       "Test Epoch 409/500, Test Loss: 9.575191432779485:   0%|          | 0/11 [00:00<?, ?it/s]"
      ]
     },
     "metadata": {},
     "output_type": "display_data"
    },
    {
     "data": {
      "application/vnd.jupyter.widget-view+json": {
       "model_id": "311b388e0d224b44bcf7555659ffa07b",
       "version_major": 2,
       "version_minor": 0
      },
      "text/plain": [
       "Train Epoch 410/500, Train Loss: 0.0:   0%|          | 0/44 [00:00<?, ?it/s]"
      ]
     },
     "metadata": {},
     "output_type": "display_data"
    },
    {
     "data": {
      "application/vnd.jupyter.widget-view+json": {
       "model_id": "41159bcd1f6640b6b33d5561f07e6c7b",
       "version_major": 2,
       "version_minor": 0
      },
      "text/plain": [
       "Test Epoch 410/500, Test Loss: 9.57481260733171:   0%|          | 0/11 [00:00<?, ?it/s]"
      ]
     },
     "metadata": {},
     "output_type": "display_data"
    },
    {
     "data": {
      "application/vnd.jupyter.widget-view+json": {
       "model_id": "7e80a6a870a44c0ea15ebf5c17527ea2",
       "version_major": 2,
       "version_minor": 0
      },
      "text/plain": [
       "Train Epoch 411/500, Train Loss: 0.0:   0%|          | 0/44 [00:00<?, ?it/s]"
      ]
     },
     "metadata": {},
     "output_type": "display_data"
    },
    {
     "data": {
      "application/vnd.jupyter.widget-view+json": {
       "model_id": "8c3e3cf3f851463db4b826755df6b03b",
       "version_major": 2,
       "version_minor": 0
      },
      "text/plain": [
       "Test Epoch 411/500, Test Loss: 9.575570193204014:   0%|          | 0/11 [00:00<?, ?it/s]"
      ]
     },
     "metadata": {},
     "output_type": "display_data"
    },
    {
     "data": {
      "application/vnd.jupyter.widget-view+json": {
       "model_id": "bbc49b5c25fb401fa94c0d1093d752b3",
       "version_major": 2,
       "version_minor": 0
      },
      "text/plain": [
       "Train Epoch 412/500, Train Loss: 0.0:   0%|          | 0/44 [00:00<?, ?it/s]"
      ]
     },
     "metadata": {},
     "output_type": "display_data"
    },
    {
     "data": {
      "application/vnd.jupyter.widget-view+json": {
       "model_id": "b15a0ed9deb14e3fbbbf5c090b0e10f4",
       "version_major": 2,
       "version_minor": 0
      },
      "text/plain": [
       "Test Epoch 412/500, Test Loss: 9.574433846907182:   0%|          | 0/11 [00:00<?, ?it/s]"
      ]
     },
     "metadata": {},
     "output_type": "display_data"
    },
    {
     "data": {
      "application/vnd.jupyter.widget-view+json": {
       "model_id": "fa4fb7b155604a4da9800378f1aba9d0",
       "version_major": 2,
       "version_minor": 0
      },
      "text/plain": [
       "Train Epoch 413/500, Train Loss: 0.0:   0%|          | 0/44 [00:00<?, ?it/s]"
      ]
     },
     "metadata": {},
     "output_type": "display_data"
    },
    {
     "data": {
      "application/vnd.jupyter.widget-view+json": {
       "model_id": "fb812da7ee5f49669b1ce3d82972d226",
       "version_major": 2,
       "version_minor": 0
      },
      "text/plain": [
       "Test Epoch 413/500, Test Loss: 9.574433846907182:   0%|          | 0/11 [00:00<?, ?it/s]"
      ]
     },
     "metadata": {},
     "output_type": "display_data"
    },
    {
     "data": {
      "application/vnd.jupyter.widget-view+json": {
       "model_id": "d0e9549aaea84a6ea28b77803acd30df",
       "version_major": 2,
       "version_minor": 0
      },
      "text/plain": [
       "Train Epoch 414/500, Train Loss: 0.0:   0%|          | 0/44 [00:00<?, ?it/s]"
      ]
     },
     "metadata": {},
     "output_type": "display_data"
    },
    {
     "data": {
      "application/vnd.jupyter.widget-view+json": {
       "model_id": "c5f744259b8940d89dc75255073831c1",
       "version_major": 2,
       "version_minor": 0
      },
      "text/plain": [
       "Test Epoch 414/500, Test Loss: 9.57481260733171:   0%|          | 0/11 [00:00<?, ?it/s]"
      ]
     },
     "metadata": {},
     "output_type": "display_data"
    },
    {
     "data": {
      "application/vnd.jupyter.widget-view+json": {
       "model_id": "3963068700b545a5ad1122540eac6a75",
       "version_major": 2,
       "version_minor": 0
      },
      "text/plain": [
       "Train Epoch 415/500, Train Loss: 0.0:   0%|          | 0/44 [00:00<?, ?it/s]"
      ]
     },
     "metadata": {},
     "output_type": "display_data"
    },
    {
     "data": {
      "application/vnd.jupyter.widget-view+json": {
       "model_id": "8454da9db9364e889fdf1cc2d4d5dbd8",
       "version_major": 2,
       "version_minor": 0
      },
      "text/plain": [
       "Test Epoch 415/500, Test Loss: 9.574433846907182:   0%|          | 0/11 [00:00<?, ?it/s]"
      ]
     },
     "metadata": {},
     "output_type": "display_data"
    },
    {
     "data": {
      "application/vnd.jupyter.widget-view+json": {
       "model_id": "48e71e7f4ffe4691bb3ad842a20641cf",
       "version_major": 2,
       "version_minor": 0
      },
      "text/plain": [
       "Train Epoch 416/500, Train Loss: 0.0:   0%|          | 0/44 [00:00<?, ?it/s]"
      ]
     },
     "metadata": {},
     "output_type": "display_data"
    },
    {
     "data": {
      "application/vnd.jupyter.widget-view+json": {
       "model_id": "b31c5bc9af9147d0a335e0ad95eb511c",
       "version_major": 2,
       "version_minor": 0
      },
      "text/plain": [
       "Test Epoch 416/500, Test Loss: 9.574433846907182:   0%|          | 0/11 [00:00<?, ?it/s]"
      ]
     },
     "metadata": {},
     "output_type": "display_data"
    },
    {
     "data": {
      "application/vnd.jupyter.widget-view+json": {
       "model_id": "30814a6a888545f0978ec236e8a6e240",
       "version_major": 2,
       "version_minor": 0
      },
      "text/plain": [
       "Train Epoch 417/500, Train Loss: 0.0:   0%|          | 0/44 [00:00<?, ?it/s]"
      ]
     },
     "metadata": {},
     "output_type": "display_data"
    },
    {
     "data": {
      "application/vnd.jupyter.widget-view+json": {
       "model_id": "22579a5c780e472a8b9419bf80933ee3",
       "version_major": 2,
       "version_minor": 0
      },
      "text/plain": [
       "Test Epoch 417/500, Test Loss: 9.574812629006125:   0%|          | 0/11 [00:00<?, ?it/s]"
      ]
     },
     "metadata": {},
     "output_type": "display_data"
    },
    {
     "data": {
      "application/vnd.jupyter.widget-view+json": {
       "model_id": "7eb192d87cf44d33b23a3760772b52d1",
       "version_major": 2,
       "version_minor": 0
      },
      "text/plain": [
       "Train Epoch 418/500, Train Loss: 0.0:   0%|          | 0/44 [00:00<?, ?it/s]"
      ]
     },
     "metadata": {},
     "output_type": "display_data"
    },
    {
     "data": {
      "application/vnd.jupyter.widget-view+json": {
       "model_id": "1e9e1d5c65214a398350e877d3330482",
       "version_major": 2,
       "version_minor": 0
      },
      "text/plain": [
       "Test Epoch 418/500, Test Loss: 9.574433825232767:   0%|          | 0/11 [00:00<?, ?it/s]"
      ]
     },
     "metadata": {},
     "output_type": "display_data"
    },
    {
     "data": {
      "application/vnd.jupyter.widget-view+json": {
       "model_id": "d50f5db6f46443868c005011aa12f5a4",
       "version_major": 2,
       "version_minor": 0
      },
      "text/plain": [
       "Train Epoch 419/500, Train Loss: 0.0:   0%|          | 0/44 [00:00<?, ?it/s]"
      ]
     },
     "metadata": {},
     "output_type": "display_data"
    },
    {
     "data": {
      "application/vnd.jupyter.widget-view+json": {
       "model_id": "3a54a52e1fb44a53b975f17f6940c17a",
       "version_major": 2,
       "version_minor": 0
      },
      "text/plain": [
       "Test Epoch 419/500, Test Loss: 9.574433846907182:   0%|          | 0/11 [00:00<?, ?it/s]"
      ]
     },
     "metadata": {},
     "output_type": "display_data"
    },
    {
     "data": {
      "application/vnd.jupyter.widget-view+json": {
       "model_id": "788b3966d09f462296bc7fec75283791",
       "version_major": 2,
       "version_minor": 0
      },
      "text/plain": [
       "Train Epoch 420/500, Train Loss: 0.0:   0%|          | 0/44 [00:00<?, ?it/s]"
      ]
     },
     "metadata": {},
     "output_type": "display_data"
    },
    {
     "data": {
      "application/vnd.jupyter.widget-view+json": {
       "model_id": "2fc6f26b32f2421dba8a29ffc983de6e",
       "version_major": 2,
       "version_minor": 0
      },
      "text/plain": [
       "Test Epoch 420/500, Test Loss: 9.57481260733171:   0%|          | 0/11 [00:00<?, ?it/s]"
      ]
     },
     "metadata": {},
     "output_type": "display_data"
    },
    {
     "data": {
      "application/vnd.jupyter.widget-view+json": {
       "model_id": "a7b1068bff074f1ca25a40400fad2156",
       "version_major": 2,
       "version_minor": 0
      },
      "text/plain": [
       "Train Epoch 421/500, Train Loss: 0.0:   0%|          | 0/44 [00:00<?, ?it/s]"
      ]
     },
     "metadata": {},
     "output_type": "display_data"
    },
    {
     "data": {
      "application/vnd.jupyter.widget-view+json": {
       "model_id": "0e212c6209844bbd8b969c59d2edda69",
       "version_major": 2,
       "version_minor": 0
      },
      "text/plain": [
       "Test Epoch 421/500, Test Loss: 9.575191389430653:   0%|          | 0/11 [00:00<?, ?it/s]"
      ]
     },
     "metadata": {},
     "output_type": "display_data"
    },
    {
     "data": {
      "application/vnd.jupyter.widget-view+json": {
       "model_id": "c87c5aa7fea04c9d921a1c0aa29488f4",
       "version_major": 2,
       "version_minor": 0
      },
      "text/plain": [
       "Train Epoch 422/500, Train Loss: 0.0:   0%|          | 0/44 [00:00<?, ?it/s]"
      ]
     },
     "metadata": {},
     "output_type": "display_data"
    },
    {
     "data": {
      "application/vnd.jupyter.widget-view+json": {
       "model_id": "2bbfa4dbee9b4afba58bcc0983d20142",
       "version_major": 2,
       "version_minor": 0
      },
      "text/plain": [
       "Test Epoch 422/500, Test Loss: 9.575570214878429:   0%|          | 0/11 [00:00<?, ?it/s]"
      ]
     },
     "metadata": {},
     "output_type": "display_data"
    },
    {
     "data": {
      "application/vnd.jupyter.widget-view+json": {
       "model_id": "19c9e10d8bb64c3a8761e438d64f416c",
       "version_major": 2,
       "version_minor": 0
      },
      "text/plain": [
       "Train Epoch 423/500, Train Loss: 0.0:   0%|          | 0/44 [00:00<?, ?it/s]"
      ]
     },
     "metadata": {},
     "output_type": "display_data"
    },
    {
     "data": {
      "application/vnd.jupyter.widget-view+json": {
       "model_id": "af2bc8127e754a0cb2dbbf00bd263ea9",
       "version_major": 2,
       "version_minor": 0
      },
      "text/plain": [
       "Test Epoch 423/500, Test Loss: 9.575191432779485:   0%|          | 0/11 [00:00<?, ?it/s]"
      ]
     },
     "metadata": {},
     "output_type": "display_data"
    },
    {
     "data": {
      "application/vnd.jupyter.widget-view+json": {
       "model_id": "37de3d1ff4b44527ad4a14502617d1da",
       "version_major": 2,
       "version_minor": 0
      },
      "text/plain": [
       "Train Epoch 424/500, Train Loss: 0.0:   0%|          | 0/44 [00:00<?, ?it/s]"
      ]
     },
     "metadata": {},
     "output_type": "display_data"
    },
    {
     "data": {
      "application/vnd.jupyter.widget-view+json": {
       "model_id": "b5d38d713d8641a69b1cf0e5b293293b",
       "version_major": 2,
       "version_minor": 0
      },
      "text/plain": [
       "Test Epoch 424/500, Test Loss: 9.575191432779485:   0%|          | 0/11 [00:00<?, ?it/s]"
      ]
     },
     "metadata": {},
     "output_type": "display_data"
    },
    {
     "data": {
      "application/vnd.jupyter.widget-view+json": {
       "model_id": "4f6ef89b3114454688cc98183956bc78",
       "version_major": 2,
       "version_minor": 0
      },
      "text/plain": [
       "Train Epoch 425/500, Train Loss: 0.0:   0%|          | 0/44 [00:00<?, ?it/s]"
      ]
     },
     "metadata": {},
     "output_type": "display_data"
    },
    {
     "data": {
      "application/vnd.jupyter.widget-view+json": {
       "model_id": "33ffc2b62c584365ba7a37f302e40f75",
       "version_major": 2,
       "version_minor": 0
      },
      "text/plain": [
       "Test Epoch 425/500, Test Loss: 9.573676261034878:   0%|          | 0/11 [00:00<?, ?it/s]"
      ]
     },
     "metadata": {},
     "output_type": "display_data"
    },
    {
     "data": {
      "application/vnd.jupyter.widget-view+json": {
       "model_id": "7360e2331fc24042904a037a5380d771",
       "version_major": 2,
       "version_minor": 0
      },
      "text/plain": [
       "Train Epoch 426/500, Train Loss: 0.0:   0%|          | 0/44 [00:00<?, ?it/s]"
      ]
     },
     "metadata": {},
     "output_type": "display_data"
    },
    {
     "data": {
      "application/vnd.jupyter.widget-view+json": {
       "model_id": "6b45a3e7a95d41b187fcca9e84e05ad4",
       "version_major": 2,
       "version_minor": 0
      },
      "text/plain": [
       "Test Epoch 426/500, Test Loss: 9.57481260733171:   0%|          | 0/11 [00:00<?, ?it/s]"
      ]
     },
     "metadata": {},
     "output_type": "display_data"
    },
    {
     "data": {
      "application/vnd.jupyter.widget-view+json": {
       "model_id": "2dd59e4e360b468e911b8f6cbb0b176c",
       "version_major": 2,
       "version_minor": 0
      },
      "text/plain": [
       "Train Epoch 427/500, Train Loss: 0.0:   0%|          | 0/44 [00:00<?, ?it/s]"
      ]
     },
     "metadata": {},
     "output_type": "display_data"
    },
    {
     "data": {
      "application/vnd.jupyter.widget-view+json": {
       "model_id": "d6a50eeeb31949649ff29a84f18a3211",
       "version_major": 2,
       "version_minor": 0
      },
      "text/plain": [
       "Test Epoch 427/500, Test Loss: 9.574433825232767:   0%|          | 0/11 [00:00<?, ?it/s]"
      ]
     },
     "metadata": {},
     "output_type": "display_data"
    },
    {
     "data": {
      "application/vnd.jupyter.widget-view+json": {
       "model_id": "9331dd842d074ecebb37ca56c0d7b000",
       "version_major": 2,
       "version_minor": 0
      },
      "text/plain": [
       "Train Epoch 428/500, Train Loss: 0.0:   0%|          | 0/44 [00:00<?, ?it/s]"
      ]
     },
     "metadata": {},
     "output_type": "display_data"
    },
    {
     "data": {
      "application/vnd.jupyter.widget-view+json": {
       "model_id": "bd5543d77ecb483596ab8057e621ee2a",
       "version_major": 2,
       "version_minor": 0
      },
      "text/plain": [
       "Test Epoch 428/500, Test Loss: 9.575191389430653:   0%|          | 0/11 [00:00<?, ?it/s]"
      ]
     },
     "metadata": {},
     "output_type": "display_data"
    },
    {
     "data": {
      "application/vnd.jupyter.widget-view+json": {
       "model_id": "9cab7edb6b4d461d94af0ad967f67dd0",
       "version_major": 2,
       "version_minor": 0
      },
      "text/plain": [
       "Train Epoch 429/500, Train Loss: 0.0:   0%|          | 0/44 [00:00<?, ?it/s]"
      ]
     },
     "metadata": {},
     "output_type": "display_data"
    },
    {
     "data": {
      "application/vnd.jupyter.widget-view+json": {
       "model_id": "ca430ab428694f1aa504c5b11c7a860a",
       "version_major": 2,
       "version_minor": 0
      },
      "text/plain": [
       "Test Epoch 429/500, Test Loss: 9.574433846907182:   0%|          | 0/11 [00:00<?, ?it/s]"
      ]
     },
     "metadata": {},
     "output_type": "display_data"
    },
    {
     "data": {
      "application/vnd.jupyter.widget-view+json": {
       "model_id": "b8a932bd9a2045379d11290feef71f7b",
       "version_major": 2,
       "version_minor": 0
      },
      "text/plain": [
       "Train Epoch 430/500, Train Loss: 0.0:   0%|          | 0/44 [00:00<?, ?it/s]"
      ]
     },
     "metadata": {},
     "output_type": "display_data"
    },
    {
     "data": {
      "application/vnd.jupyter.widget-view+json": {
       "model_id": "6fa5dc6818cf4d999fa64d51ec0cdfd4",
       "version_major": 2,
       "version_minor": 0
      },
      "text/plain": [
       "Test Epoch 430/500, Test Loss: 9.57481260733171:   0%|          | 0/11 [00:00<?, ?it/s]"
      ]
     },
     "metadata": {},
     "output_type": "display_data"
    },
    {
     "data": {
      "application/vnd.jupyter.widget-view+json": {
       "model_id": "2be6fbaa69db4bdcad932424731f1769",
       "version_major": 2,
       "version_minor": 0
      },
      "text/plain": [
       "Train Epoch 431/500, Train Loss: 0.0:   0%|          | 0/44 [00:00<?, ?it/s]"
      ]
     },
     "metadata": {},
     "output_type": "display_data"
    },
    {
     "data": {
      "application/vnd.jupyter.widget-view+json": {
       "model_id": "7d686c1a11954201b10025bc53cdf2de",
       "version_major": 2,
       "version_minor": 0
      },
      "text/plain": [
       "Test Epoch 431/500, Test Loss: 9.575191389430653:   0%|          | 0/11 [00:00<?, ?it/s]"
      ]
     },
     "metadata": {},
     "output_type": "display_data"
    },
    {
     "data": {
      "application/vnd.jupyter.widget-view+json": {
       "model_id": "a8d4fc84c1e24462a4153295bc39058b",
       "version_major": 2,
       "version_minor": 0
      },
      "text/plain": [
       "Train Epoch 432/500, Train Loss: 0.0:   0%|          | 0/44 [00:00<?, ?it/s]"
      ]
     },
     "metadata": {},
     "output_type": "display_data"
    },
    {
     "data": {
      "application/vnd.jupyter.widget-view+json": {
       "model_id": "1b262d8156b9420c917c102b2b8f5986",
       "version_major": 2,
       "version_minor": 0
      },
      "text/plain": [
       "Test Epoch 432/500, Test Loss: 9.574433825232767:   0%|          | 0/11 [00:00<?, ?it/s]"
      ]
     },
     "metadata": {},
     "output_type": "display_data"
    },
    {
     "data": {
      "application/vnd.jupyter.widget-view+json": {
       "model_id": "28146b98ddab4936ab4ce2e00faa52e9",
       "version_major": 2,
       "version_minor": 0
      },
      "text/plain": [
       "Train Epoch 433/500, Train Loss: 0.0:   0%|          | 0/44 [00:00<?, ?it/s]"
      ]
     },
     "metadata": {},
     "output_type": "display_data"
    },
    {
     "data": {
      "application/vnd.jupyter.widget-view+json": {
       "model_id": "5471e44939fd49acbf162a69e9f9953f",
       "version_major": 2,
       "version_minor": 0
      },
      "text/plain": [
       "Test Epoch 433/500, Test Loss: 9.574812629006125:   0%|          | 0/11 [00:00<?, ?it/s]"
      ]
     },
     "metadata": {},
     "output_type": "display_data"
    },
    {
     "data": {
      "application/vnd.jupyter.widget-view+json": {
       "model_id": "91e75a35c64c44eda42afbd84d468181",
       "version_major": 2,
       "version_minor": 0
      },
      "text/plain": [
       "Train Epoch 434/500, Train Loss: 0.0:   0%|          | 0/44 [00:00<?, ?it/s]"
      ]
     },
     "metadata": {},
     "output_type": "display_data"
    },
    {
     "data": {
      "application/vnd.jupyter.widget-view+json": {
       "model_id": "6473658a28d9480c9afbbfe6236a8a76",
       "version_major": 2,
       "version_minor": 0
      },
      "text/plain": [
       "Test Epoch 434/500, Test Loss: 9.574433846907182:   0%|          | 0/11 [00:00<?, ?it/s]"
      ]
     },
     "metadata": {},
     "output_type": "display_data"
    },
    {
     "data": {
      "application/vnd.jupyter.widget-view+json": {
       "model_id": "bca66869fd3546d49b7bd22ed9584fa9",
       "version_major": 2,
       "version_minor": 0
      },
      "text/plain": [
       "Train Epoch 435/500, Train Loss: 0.0:   0%|          | 0/44 [00:00<?, ?it/s]"
      ]
     },
     "metadata": {},
     "output_type": "display_data"
    },
    {
     "data": {
      "application/vnd.jupyter.widget-view+json": {
       "model_id": "8f06e8ecbf3d4a45beeb78481af7f78f",
       "version_major": 2,
       "version_minor": 0
      },
      "text/plain": [
       "Test Epoch 435/500, Test Loss: 9.575570214878429:   0%|          | 0/11 [00:00<?, ?it/s]"
      ]
     },
     "metadata": {},
     "output_type": "display_data"
    },
    {
     "data": {
      "application/vnd.jupyter.widget-view+json": {
       "model_id": "c90a663b4e9946009e98c98baa162a5b",
       "version_major": 2,
       "version_minor": 0
      },
      "text/plain": [
       "Train Epoch 436/500, Train Loss: 0.0:   0%|          | 0/44 [00:00<?, ?it/s]"
      ]
     },
     "metadata": {},
     "output_type": "display_data"
    },
    {
     "data": {
      "application/vnd.jupyter.widget-view+json": {
       "model_id": "5fe15b77e80e472cb961fad5cb7adb8b",
       "version_major": 2,
       "version_minor": 0
      },
      "text/plain": [
       "Test Epoch 436/500, Test Loss: 9.57481260733171:   0%|          | 0/11 [00:00<?, ?it/s]"
      ]
     },
     "metadata": {},
     "output_type": "display_data"
    },
    {
     "data": {
      "application/vnd.jupyter.widget-view+json": {
       "model_id": "6493bdc49e974bcea00f42deb69a1806",
       "version_major": 2,
       "version_minor": 0
      },
      "text/plain": [
       "Train Epoch 437/500, Train Loss: 0.0:   0%|          | 0/44 [00:00<?, ?it/s]"
      ]
     },
     "metadata": {},
     "output_type": "display_data"
    },
    {
     "data": {
      "application/vnd.jupyter.widget-view+json": {
       "model_id": "ba26c260247343ca87bd741b4c8f1ef9",
       "version_major": 2,
       "version_minor": 0
      },
      "text/plain": [
       "Test Epoch 437/500, Test Loss: 9.575191411105068:   0%|          | 0/11 [00:00<?, ?it/s]"
      ]
     },
     "metadata": {},
     "output_type": "display_data"
    },
    {
     "data": {
      "application/vnd.jupyter.widget-view+json": {
       "model_id": "7d823adcb5e64cbb9d269841702b1d04",
       "version_major": 2,
       "version_minor": 0
      },
      "text/plain": [
       "Train Epoch 438/500, Train Loss: 0.0:   0%|          | 0/44 [00:00<?, ?it/s]"
      ]
     },
     "metadata": {},
     "output_type": "display_data"
    },
    {
     "data": {
      "application/vnd.jupyter.widget-view+json": {
       "model_id": "301f937b02ce469794bc61c3e2f6d78e",
       "version_major": 2,
       "version_minor": 0
      },
      "text/plain": [
       "Test Epoch 438/500, Test Loss: 9.57481260733171:   0%|          | 0/11 [00:00<?, ?it/s]"
      ]
     },
     "metadata": {},
     "output_type": "display_data"
    },
    {
     "data": {
      "application/vnd.jupyter.widget-view+json": {
       "model_id": "95ebcfa731fa40edacfc417d7be6ad62",
       "version_major": 2,
       "version_minor": 0
      },
      "text/plain": [
       "Train Epoch 439/500, Train Loss: 0.0:   0%|          | 0/44 [00:00<?, ?it/s]"
      ]
     },
     "metadata": {},
     "output_type": "display_data"
    },
    {
     "data": {
      "application/vnd.jupyter.widget-view+json": {
       "model_id": "a68af3ac7e6d4724b9ad90d0e527c79c",
       "version_major": 2,
       "version_minor": 0
      },
      "text/plain": [
       "Test Epoch 439/500, Test Loss: 9.574055043133823:   0%|          | 0/11 [00:00<?, ?it/s]"
      ]
     },
     "metadata": {},
     "output_type": "display_data"
    },
    {
     "data": {
      "application/vnd.jupyter.widget-view+json": {
       "model_id": "a1e978ae978943fc99665a159bafe37e",
       "version_major": 2,
       "version_minor": 0
      },
      "text/plain": [
       "Train Epoch 440/500, Train Loss: 0.0:   0%|          | 0/44 [00:00<?, ?it/s]"
      ]
     },
     "metadata": {},
     "output_type": "display_data"
    },
    {
     "data": {
      "application/vnd.jupyter.widget-view+json": {
       "model_id": "5ca36a6ecda0438d8d32da5e7af246eb",
       "version_major": 2,
       "version_minor": 0
      },
      "text/plain": [
       "Test Epoch 440/500, Test Loss: 9.574812629006125:   0%|          | 0/11 [00:00<?, ?it/s]"
      ]
     },
     "metadata": {},
     "output_type": "display_data"
    },
    {
     "data": {
      "application/vnd.jupyter.widget-view+json": {
       "model_id": "734abe29a7fe4c949ce4a815051fcadc",
       "version_major": 2,
       "version_minor": 0
      },
      "text/plain": [
       "Train Epoch 441/500, Train Loss: 0.0:   0%|          | 0/44 [00:00<?, ?it/s]"
      ]
     },
     "metadata": {},
     "output_type": "display_data"
    },
    {
     "data": {
      "application/vnd.jupyter.widget-view+json": {
       "model_id": "0d2b736618654c54b80dc6cc9be812ae",
       "version_major": 2,
       "version_minor": 0
      },
      "text/plain": [
       "Test Epoch 441/500, Test Loss: 9.57481260733171:   0%|          | 0/11 [00:00<?, ?it/s]"
      ]
     },
     "metadata": {},
     "output_type": "display_data"
    },
    {
     "data": {
      "application/vnd.jupyter.widget-view+json": {
       "model_id": "56b8815ff8a044748c7c3564c7df685d",
       "version_major": 2,
       "version_minor": 0
      },
      "text/plain": [
       "Train Epoch 442/500, Train Loss: 0.0:   0%|          | 0/44 [00:00<?, ?it/s]"
      ]
     },
     "metadata": {},
     "output_type": "display_data"
    },
    {
     "data": {
      "application/vnd.jupyter.widget-view+json": {
       "model_id": "d93bd90bbe894dce95e6894294ea898b",
       "version_major": 2,
       "version_minor": 0
      },
      "text/plain": [
       "Test Epoch 442/500, Test Loss: 9.575191389430653:   0%|          | 0/11 [00:00<?, ?it/s]"
      ]
     },
     "metadata": {},
     "output_type": "display_data"
    },
    {
     "data": {
      "application/vnd.jupyter.widget-view+json": {
       "model_id": "cb0b490b125e45d9bf4c79e6db3cd5a2",
       "version_major": 2,
       "version_minor": 0
      },
      "text/plain": [
       "Train Epoch 443/500, Train Loss: 0.0:   0%|          | 0/44 [00:00<?, ?it/s]"
      ]
     },
     "metadata": {},
     "output_type": "display_data"
    },
    {
     "data": {
      "application/vnd.jupyter.widget-view+json": {
       "model_id": "2df532e78fb64a4fb71c9f9cf9a7cce9",
       "version_major": 2,
       "version_minor": 0
      },
      "text/plain": [
       "Test Epoch 443/500, Test Loss: 9.574055043133823:   0%|          | 0/11 [00:00<?, ?it/s]"
      ]
     },
     "metadata": {},
     "output_type": "display_data"
    },
    {
     "data": {
      "application/vnd.jupyter.widget-view+json": {
       "model_id": "b290eaab341140949de8abb07649bafd",
       "version_major": 2,
       "version_minor": 0
      },
      "text/plain": [
       "Train Epoch 444/500, Train Loss: 0.0:   0%|          | 0/44 [00:00<?, ?it/s]"
      ]
     },
     "metadata": {},
     "output_type": "display_data"
    },
    {
     "data": {
      "application/vnd.jupyter.widget-view+json": {
       "model_id": "3e27d4ab1a66480da9d728bfeafc7fce",
       "version_major": 2,
       "version_minor": 0
      },
      "text/plain": [
       "Test Epoch 444/500, Test Loss: 9.574433846907182:   0%|          | 0/11 [00:00<?, ?it/s]"
      ]
     },
     "metadata": {},
     "output_type": "display_data"
    },
    {
     "data": {
      "application/vnd.jupyter.widget-view+json": {
       "model_id": "dd38ff38d0ba45398afc551c267cf88f",
       "version_major": 2,
       "version_minor": 0
      },
      "text/plain": [
       "Train Epoch 445/500, Train Loss: 0.0:   0%|          | 0/44 [00:00<?, ?it/s]"
      ]
     },
     "metadata": {},
     "output_type": "display_data"
    },
    {
     "data": {
      "application/vnd.jupyter.widget-view+json": {
       "model_id": "28237fdd9ed84f7a8934ac8c0eaf94f7",
       "version_major": 2,
       "version_minor": 0
      },
      "text/plain": [
       "Test Epoch 445/500, Test Loss: 9.574433825232767:   0%|          | 0/11 [00:00<?, ?it/s]"
      ]
     },
     "metadata": {},
     "output_type": "display_data"
    },
    {
     "data": {
      "application/vnd.jupyter.widget-view+json": {
       "model_id": "5d4697ef15ab4a0783ea01e155c4d908",
       "version_major": 2,
       "version_minor": 0
      },
      "text/plain": [
       "Train Epoch 446/500, Train Loss: 0.0:   0%|          | 0/44 [00:00<?, ?it/s]"
      ]
     },
     "metadata": {},
     "output_type": "display_data"
    },
    {
     "data": {
      "application/vnd.jupyter.widget-view+json": {
       "model_id": "a110c33465194e2e8fb5e058b2631a55",
       "version_major": 2,
       "version_minor": 0
      },
      "text/plain": [
       "Test Epoch 446/500, Test Loss: 9.574812650680542:   0%|          | 0/11 [00:00<?, ?it/s]"
      ]
     },
     "metadata": {},
     "output_type": "display_data"
    },
    {
     "data": {
      "application/vnd.jupyter.widget-view+json": {
       "model_id": "c7cb85bc0e4245b19b2ae3fe77e4f99c",
       "version_major": 2,
       "version_minor": 0
      },
      "text/plain": [
       "Train Epoch 447/500, Train Loss: 0.0:   0%|          | 0/44 [00:00<?, ?it/s]"
      ]
     },
     "metadata": {},
     "output_type": "display_data"
    },
    {
     "data": {
      "application/vnd.jupyter.widget-view+json": {
       "model_id": "e63aa0ac92eb40f88c509f5b55651668",
       "version_major": 2,
       "version_minor": 0
      },
      "text/plain": [
       "Test Epoch 447/500, Test Loss: 9.57481260733171:   0%|          | 0/11 [00:00<?, ?it/s]"
      ]
     },
     "metadata": {},
     "output_type": "display_data"
    },
    {
     "data": {
      "application/vnd.jupyter.widget-view+json": {
       "model_id": "739143e0ca5742af98a40efc10ebbf4a",
       "version_major": 2,
       "version_minor": 0
      },
      "text/plain": [
       "Train Epoch 448/500, Train Loss: 0.0:   0%|          | 0/44 [00:00<?, ?it/s]"
      ]
     },
     "metadata": {},
     "output_type": "display_data"
    },
    {
     "data": {
      "application/vnd.jupyter.widget-view+json": {
       "model_id": "5a335fe309c74f9592f4621460aaa337",
       "version_major": 2,
       "version_minor": 0
      },
      "text/plain": [
       "Test Epoch 448/500, Test Loss: 9.57481260733171:   0%|          | 0/11 [00:00<?, ?it/s]"
      ]
     },
     "metadata": {},
     "output_type": "display_data"
    },
    {
     "data": {
      "application/vnd.jupyter.widget-view+json": {
       "model_id": "1e38b449b16641aeb4ac3e0ab7e8c19f",
       "version_major": 2,
       "version_minor": 0
      },
      "text/plain": [
       "Train Epoch 449/500, Train Loss: 0.0:   0%|          | 0/44 [00:00<?, ?it/s]"
      ]
     },
     "metadata": {},
     "output_type": "display_data"
    },
    {
     "data": {
      "application/vnd.jupyter.widget-view+json": {
       "model_id": "05b3f05a0c494584aefada876441c2d2",
       "version_major": 2,
       "version_minor": 0
      },
      "text/plain": [
       "Test Epoch 449/500, Test Loss: 9.573676261034878:   0%|          | 0/11 [00:00<?, ?it/s]"
      ]
     },
     "metadata": {},
     "output_type": "display_data"
    },
    {
     "data": {
      "application/vnd.jupyter.widget-view+json": {
       "model_id": "7144458ddfd84a969feb5552e6130765",
       "version_major": 2,
       "version_minor": 0
      },
      "text/plain": [
       "Train Epoch 450/500, Train Loss: 0.0:   0%|          | 0/44 [00:00<?, ?it/s]"
      ]
     },
     "metadata": {},
     "output_type": "display_data"
    },
    {
     "data": {
      "application/vnd.jupyter.widget-view+json": {
       "model_id": "86f176ed1c8e4d0784c75041db2d7f7b",
       "version_major": 2,
       "version_minor": 0
      },
      "text/plain": [
       "Test Epoch 450/500, Test Loss: 9.574812650680542:   0%|          | 0/11 [00:00<?, ?it/s]"
      ]
     },
     "metadata": {},
     "output_type": "display_data"
    },
    {
     "data": {
      "application/vnd.jupyter.widget-view+json": {
       "model_id": "09bdec210e234d928b950a256c6a6751",
       "version_major": 2,
       "version_minor": 0
      },
      "text/plain": [
       "Train Epoch 451/500, Train Loss: 0.0:   0%|          | 0/44 [00:00<?, ?it/s]"
      ]
     },
     "metadata": {},
     "output_type": "display_data"
    },
    {
     "data": {
      "application/vnd.jupyter.widget-view+json": {
       "model_id": "f614b5fd9da14493993c0b8f79dd2cc8",
       "version_major": 2,
       "version_minor": 0
      },
      "text/plain": [
       "Test Epoch 451/500, Test Loss: 9.57481260733171:   0%|          | 0/11 [00:00<?, ?it/s]"
      ]
     },
     "metadata": {},
     "output_type": "display_data"
    },
    {
     "data": {
      "application/vnd.jupyter.widget-view+json": {
       "model_id": "be336c62c0a94dd8a2468e18dbe8ee5e",
       "version_major": 2,
       "version_minor": 0
      },
      "text/plain": [
       "Train Epoch 452/500, Train Loss: 0.0:   0%|          | 0/44 [00:00<?, ?it/s]"
      ]
     },
     "metadata": {},
     "output_type": "display_data"
    },
    {
     "data": {
      "application/vnd.jupyter.widget-view+json": {
       "model_id": "b14e7af69c544c10b508937def68d71b",
       "version_major": 2,
       "version_minor": 0
      },
      "text/plain": [
       "Test Epoch 452/500, Test Loss: 9.574812629006125:   0%|          | 0/11 [00:00<?, ?it/s]"
      ]
     },
     "metadata": {},
     "output_type": "display_data"
    },
    {
     "data": {
      "application/vnd.jupyter.widget-view+json": {
       "model_id": "b095537074954a61bea37afcd4fdad39",
       "version_major": 2,
       "version_minor": 0
      },
      "text/plain": [
       "Train Epoch 453/500, Train Loss: 0.0:   0%|          | 0/44 [00:00<?, ?it/s]"
      ]
     },
     "metadata": {},
     "output_type": "display_data"
    },
    {
     "data": {
      "application/vnd.jupyter.widget-view+json": {
       "model_id": "76f8637a197c4249884f305c70283361",
       "version_major": 2,
       "version_minor": 0
      },
      "text/plain": [
       "Test Epoch 453/500, Test Loss: 9.575191432779485:   0%|          | 0/11 [00:00<?, ?it/s]"
      ]
     },
     "metadata": {},
     "output_type": "display_data"
    },
    {
     "data": {
      "application/vnd.jupyter.widget-view+json": {
       "model_id": "781bfba963ef43af8e959a6bd97acc24",
       "version_major": 2,
       "version_minor": 0
      },
      "text/plain": [
       "Train Epoch 454/500, Train Loss: 0.0:   0%|          | 0/44 [00:00<?, ?it/s]"
      ]
     },
     "metadata": {},
     "output_type": "display_data"
    },
    {
     "data": {
      "application/vnd.jupyter.widget-view+json": {
       "model_id": "d22fb3b0fda940f98d8c6a329cd0c470",
       "version_major": 2,
       "version_minor": 0
      },
      "text/plain": [
       "Test Epoch 454/500, Test Loss: 9.574055064808238:   0%|          | 0/11 [00:00<?, ?it/s]"
      ]
     },
     "metadata": {},
     "output_type": "display_data"
    },
    {
     "data": {
      "application/vnd.jupyter.widget-view+json": {
       "model_id": "1b6431c3f79e4f6cbdb690cc9ad33396",
       "version_major": 2,
       "version_minor": 0
      },
      "text/plain": [
       "Train Epoch 455/500, Train Loss: 0.0:   0%|          | 0/44 [00:00<?, ?it/s]"
      ]
     },
     "metadata": {},
     "output_type": "display_data"
    },
    {
     "data": {
      "application/vnd.jupyter.widget-view+json": {
       "model_id": "5605b86d6f0b4ad6b8e71fcf926f9050",
       "version_major": 2,
       "version_minor": 0
      },
      "text/plain": [
       "Test Epoch 455/500, Test Loss: 9.575191432779485:   0%|          | 0/11 [00:00<?, ?it/s]"
      ]
     },
     "metadata": {},
     "output_type": "display_data"
    },
    {
     "data": {
      "application/vnd.jupyter.widget-view+json": {
       "model_id": "8886dd2d18f947eb88dadd7f38823612",
       "version_major": 2,
       "version_minor": 0
      },
      "text/plain": [
       "Train Epoch 456/500, Train Loss: 0.0:   0%|          | 0/44 [00:00<?, ?it/s]"
      ]
     },
     "metadata": {},
     "output_type": "display_data"
    },
    {
     "data": {
      "application/vnd.jupyter.widget-view+json": {
       "model_id": "4b6c886cf1a74055bcc8ee7c7015a032",
       "version_major": 2,
       "version_minor": 0
      },
      "text/plain": [
       "Test Epoch 456/500, Test Loss: 9.574433825232767:   0%|          | 0/11 [00:00<?, ?it/s]"
      ]
     },
     "metadata": {},
     "output_type": "display_data"
    },
    {
     "data": {
      "application/vnd.jupyter.widget-view+json": {
       "model_id": "5e1025c27c014e7d9b421394d13d7b44",
       "version_major": 2,
       "version_minor": 0
      },
      "text/plain": [
       "Train Epoch 457/500, Train Loss: 0.0:   0%|          | 0/44 [00:00<?, ?it/s]"
      ]
     },
     "metadata": {},
     "output_type": "display_data"
    },
    {
     "data": {
      "application/vnd.jupyter.widget-view+json": {
       "model_id": "9ef9442982ba40a5ab59e71f250b5442",
       "version_major": 2,
       "version_minor": 0
      },
      "text/plain": [
       "Test Epoch 457/500, Test Loss: 9.575570193204014:   0%|          | 0/11 [00:00<?, ?it/s]"
      ]
     },
     "metadata": {},
     "output_type": "display_data"
    },
    {
     "data": {
      "application/vnd.jupyter.widget-view+json": {
       "model_id": "826c98a8799940a586b86edffb2a46de",
       "version_major": 2,
       "version_minor": 0
      },
      "text/plain": [
       "Train Epoch 458/500, Train Loss: 0.0:   0%|          | 0/44 [00:00<?, ?it/s]"
      ]
     },
     "metadata": {},
     "output_type": "display_data"
    },
    {
     "data": {
      "application/vnd.jupyter.widget-view+json": {
       "model_id": "e7677e90cb674b76a4f0719ab0e3a947",
       "version_major": 2,
       "version_minor": 0
      },
      "text/plain": [
       "Test Epoch 458/500, Test Loss: 9.575191432779485:   0%|          | 0/11 [00:00<?, ?it/s]"
      ]
     },
     "metadata": {},
     "output_type": "display_data"
    },
    {
     "data": {
      "application/vnd.jupyter.widget-view+json": {
       "model_id": "3dd16eb111e4469ebc337cdae5dfbd1a",
       "version_major": 2,
       "version_minor": 0
      },
      "text/plain": [
       "Train Epoch 459/500, Train Loss: 0.0:   0%|          | 0/44 [00:00<?, ?it/s]"
      ]
     },
     "metadata": {},
     "output_type": "display_data"
    },
    {
     "data": {
      "application/vnd.jupyter.widget-view+json": {
       "model_id": "9df12d3d857d4dbe8782d46d8dfda632",
       "version_major": 2,
       "version_minor": 0
      },
      "text/plain": [
       "Test Epoch 459/500, Test Loss: 9.57481260733171:   0%|          | 0/11 [00:00<?, ?it/s]"
      ]
     },
     "metadata": {},
     "output_type": "display_data"
    },
    {
     "data": {
      "application/vnd.jupyter.widget-view+json": {
       "model_id": "7ddbe5fac5334b1ba550a44a11124072",
       "version_major": 2,
       "version_minor": 0
      },
      "text/plain": [
       "Train Epoch 460/500, Train Loss: 0.0:   0%|          | 0/44 [00:00<?, ?it/s]"
      ]
     },
     "metadata": {},
     "output_type": "display_data"
    },
    {
     "data": {
      "application/vnd.jupyter.widget-view+json": {
       "model_id": "40c7101f46744d058158fe7b2a84d742",
       "version_major": 2,
       "version_minor": 0
      },
      "text/plain": [
       "Test Epoch 460/500, Test Loss: 9.57481260733171:   0%|          | 0/11 [00:00<?, ?it/s]"
      ]
     },
     "metadata": {},
     "output_type": "display_data"
    },
    {
     "data": {
      "application/vnd.jupyter.widget-view+json": {
       "model_id": "732a74610a9a4d24b36b667290d6270f",
       "version_major": 2,
       "version_minor": 0
      },
      "text/plain": [
       "Train Epoch 461/500, Train Loss: 0.0:   0%|          | 0/44 [00:00<?, ?it/s]"
      ]
     },
     "metadata": {},
     "output_type": "display_data"
    },
    {
     "data": {
      "application/vnd.jupyter.widget-view+json": {
       "model_id": "e66b761f7b084007a770af936d263249",
       "version_major": 2,
       "version_minor": 0
      },
      "text/plain": [
       "Test Epoch 461/500, Test Loss: 9.575570193204014:   0%|          | 0/11 [00:00<?, ?it/s]"
      ]
     },
     "metadata": {},
     "output_type": "display_data"
    },
    {
     "data": {
      "application/vnd.jupyter.widget-view+json": {
       "model_id": "936ef0ce753a4744a06a95de334cb884",
       "version_major": 2,
       "version_minor": 0
      },
      "text/plain": [
       "Train Epoch 462/500, Train Loss: 0.0:   0%|          | 0/44 [00:00<?, ?it/s]"
      ]
     },
     "metadata": {},
     "output_type": "display_data"
    },
    {
     "data": {
      "application/vnd.jupyter.widget-view+json": {
       "model_id": "28ba5b15017f45ff83e00bc66646f792",
       "version_major": 2,
       "version_minor": 0
      },
      "text/plain": [
       "Test Epoch 462/500, Test Loss: 9.574055043133823:   0%|          | 0/11 [00:00<?, ?it/s]"
      ]
     },
     "metadata": {},
     "output_type": "display_data"
    },
    {
     "data": {
      "application/vnd.jupyter.widget-view+json": {
       "model_id": "dd432366a0054dd593743e491c76912b",
       "version_major": 2,
       "version_minor": 0
      },
      "text/plain": [
       "Train Epoch 463/500, Train Loss: 0.0:   0%|          | 0/44 [00:00<?, ?it/s]"
      ]
     },
     "metadata": {},
     "output_type": "display_data"
    },
    {
     "data": {
      "application/vnd.jupyter.widget-view+json": {
       "model_id": "16a143d94764417bb5bb63e769468ee6",
       "version_major": 2,
       "version_minor": 0
      },
      "text/plain": [
       "Test Epoch 463/500, Test Loss: 9.575570193204014:   0%|          | 0/11 [00:00<?, ?it/s]"
      ]
     },
     "metadata": {},
     "output_type": "display_data"
    },
    {
     "data": {
      "application/vnd.jupyter.widget-view+json": {
       "model_id": "045accbd1e644991a5a4a0d555738587",
       "version_major": 2,
       "version_minor": 0
      },
      "text/plain": [
       "Train Epoch 464/500, Train Loss: 0.0:   0%|          | 0/44 [00:00<?, ?it/s]"
      ]
     },
     "metadata": {},
     "output_type": "display_data"
    },
    {
     "data": {
      "application/vnd.jupyter.widget-view+json": {
       "model_id": "dfa55e23709a4369b6a7e0046a8538da",
       "version_major": 2,
       "version_minor": 0
      },
      "text/plain": [
       "Test Epoch 464/500, Test Loss: 9.575191432779485:   0%|          | 0/11 [00:00<?, ?it/s]"
      ]
     },
     "metadata": {},
     "output_type": "display_data"
    },
    {
     "data": {
      "application/vnd.jupyter.widget-view+json": {
       "model_id": "912aa2a6a86e4f44bc3a98270a15d79e",
       "version_major": 2,
       "version_minor": 0
      },
      "text/plain": [
       "Train Epoch 465/500, Train Loss: 0.0:   0%|          | 0/44 [00:00<?, ?it/s]"
      ]
     },
     "metadata": {},
     "output_type": "display_data"
    },
    {
     "data": {
      "application/vnd.jupyter.widget-view+json": {
       "model_id": "20a41f5d85764521a9987ac42fc5a5d1",
       "version_major": 2,
       "version_minor": 0
      },
      "text/plain": [
       "Test Epoch 465/500, Test Loss: 9.573676239360463:   0%|          | 0/11 [00:00<?, ?it/s]"
      ]
     },
     "metadata": {},
     "output_type": "display_data"
    },
    {
     "data": {
      "application/vnd.jupyter.widget-view+json": {
       "model_id": "6f7c110ddbe44c9e8ab475fc73f1bf8e",
       "version_major": 2,
       "version_minor": 0
      },
      "text/plain": [
       "Train Epoch 466/500, Train Loss: 0.0:   0%|          | 0/44 [00:00<?, ?it/s]"
      ]
     },
     "metadata": {},
     "output_type": "display_data"
    },
    {
     "data": {
      "application/vnd.jupyter.widget-view+json": {
       "model_id": "b2c4a9501c194c48b0f866cfa2ca1ba1",
       "version_major": 2,
       "version_minor": 0
      },
      "text/plain": [
       "Test Epoch 466/500, Test Loss: 9.573676261034878:   0%|          | 0/11 [00:00<?, ?it/s]"
      ]
     },
     "metadata": {},
     "output_type": "display_data"
    },
    {
     "data": {
      "application/vnd.jupyter.widget-view+json": {
       "model_id": "ac5b6af1f6994dcc9c3c0ff911fdd2fb",
       "version_major": 2,
       "version_minor": 0
      },
      "text/plain": [
       "Train Epoch 467/500, Train Loss: 0.0:   0%|          | 0/44 [00:00<?, ?it/s]"
      ]
     },
     "metadata": {},
     "output_type": "display_data"
    },
    {
     "data": {
      "application/vnd.jupyter.widget-view+json": {
       "model_id": "1a3e7fd4a3b84e68baa220dfda50e405",
       "version_major": 2,
       "version_minor": 0
      },
      "text/plain": [
       "Test Epoch 467/500, Test Loss: 9.575191389430653:   0%|          | 0/11 [00:00<?, ?it/s]"
      ]
     },
     "metadata": {},
     "output_type": "display_data"
    },
    {
     "data": {
      "application/vnd.jupyter.widget-view+json": {
       "model_id": "b9f5a24ecec64ba6827ebe301e6afbe8",
       "version_major": 2,
       "version_minor": 0
      },
      "text/plain": [
       "Train Epoch 468/500, Train Loss: 0.0:   0%|          | 0/44 [00:00<?, ?it/s]"
      ]
     },
     "metadata": {},
     "output_type": "display_data"
    },
    {
     "data": {
      "application/vnd.jupyter.widget-view+json": {
       "model_id": "cd31f48d98004fe1a6f1f33597d197f4",
       "version_major": 2,
       "version_minor": 0
      },
      "text/plain": [
       "Test Epoch 468/500, Test Loss: 9.57481260733171:   0%|          | 0/11 [00:00<?, ?it/s]"
      ]
     },
     "metadata": {},
     "output_type": "display_data"
    },
    {
     "data": {
      "application/vnd.jupyter.widget-view+json": {
       "model_id": "ebd741827f1e4f78a5fd10487383558b",
       "version_major": 2,
       "version_minor": 0
      },
      "text/plain": [
       "Train Epoch 469/500, Train Loss: 0.0:   0%|          | 0/44 [00:00<?, ?it/s]"
      ]
     },
     "metadata": {},
     "output_type": "display_data"
    },
    {
     "data": {
      "application/vnd.jupyter.widget-view+json": {
       "model_id": "9ca7a61b668a4b6e92fe97bc09215b8a",
       "version_major": 2,
       "version_minor": 0
      },
      "text/plain": [
       "Test Epoch 469/500, Test Loss: 9.574433825232767:   0%|          | 0/11 [00:00<?, ?it/s]"
      ]
     },
     "metadata": {},
     "output_type": "display_data"
    },
    {
     "data": {
      "application/vnd.jupyter.widget-view+json": {
       "model_id": "d702927229e54e16b5390283862653ff",
       "version_major": 2,
       "version_minor": 0
      },
      "text/plain": [
       "Train Epoch 470/500, Train Loss: 0.0:   0%|          | 0/44 [00:00<?, ?it/s]"
      ]
     },
     "metadata": {},
     "output_type": "display_data"
    },
    {
     "data": {
      "application/vnd.jupyter.widget-view+json": {
       "model_id": "f62babdeaa1445259ce530b13479bfeb",
       "version_major": 2,
       "version_minor": 0
      },
      "text/plain": [
       "Test Epoch 470/500, Test Loss: 9.575191389430653:   0%|          | 0/11 [00:00<?, ?it/s]"
      ]
     },
     "metadata": {},
     "output_type": "display_data"
    },
    {
     "data": {
      "application/vnd.jupyter.widget-view+json": {
       "model_id": "8f0fd11737904bc5ab9b7d530ba62256",
       "version_major": 2,
       "version_minor": 0
      },
      "text/plain": [
       "Train Epoch 471/500, Train Loss: 0.0:   0%|          | 0/44 [00:00<?, ?it/s]"
      ]
     },
     "metadata": {},
     "output_type": "display_data"
    },
    {
     "data": {
      "application/vnd.jupyter.widget-view+json": {
       "model_id": "01d446eb49e94a6389af94529b170051",
       "version_major": 2,
       "version_minor": 0
      },
      "text/plain": [
       "Test Epoch 471/500, Test Loss: 9.575191389430653:   0%|          | 0/11 [00:00<?, ?it/s]"
      ]
     },
     "metadata": {},
     "output_type": "display_data"
    },
    {
     "data": {
      "application/vnd.jupyter.widget-view+json": {
       "model_id": "6aa3d37adbcd48c699495f2641cd7aa5",
       "version_major": 2,
       "version_minor": 0
      },
      "text/plain": [
       "Train Epoch 472/500, Train Loss: 0.0:   0%|          | 0/44 [00:00<?, ?it/s]"
      ]
     },
     "metadata": {},
     "output_type": "display_data"
    },
    {
     "data": {
      "application/vnd.jupyter.widget-view+json": {
       "model_id": "64c3f6776d5349b7a75b0b80a0a8b7de",
       "version_major": 2,
       "version_minor": 0
      },
      "text/plain": [
       "Test Epoch 472/500, Test Loss: 9.574433825232767:   0%|          | 0/11 [00:00<?, ?it/s]"
      ]
     },
     "metadata": {},
     "output_type": "display_data"
    },
    {
     "data": {
      "application/vnd.jupyter.widget-view+json": {
       "model_id": "220599e7c9b44d429eec56ef025e4aed",
       "version_major": 2,
       "version_minor": 0
      },
      "text/plain": [
       "Train Epoch 473/500, Train Loss: 0.0:   0%|          | 0/44 [00:00<?, ?it/s]"
      ]
     },
     "metadata": {},
     "output_type": "display_data"
    },
    {
     "data": {
      "application/vnd.jupyter.widget-view+json": {
       "model_id": "824a8f50e490429c8ca9cf4e44833e24",
       "version_major": 2,
       "version_minor": 0
      },
      "text/plain": [
       "Test Epoch 473/500, Test Loss: 9.574812629006125:   0%|          | 0/11 [00:00<?, ?it/s]"
      ]
     },
     "metadata": {},
     "output_type": "display_data"
    },
    {
     "data": {
      "application/vnd.jupyter.widget-view+json": {
       "model_id": "753959c47b6d4ba784c991b26063e225",
       "version_major": 2,
       "version_minor": 0
      },
      "text/plain": [
       "Train Epoch 474/500, Train Loss: 0.0:   0%|          | 0/44 [00:00<?, ?it/s]"
      ]
     },
     "metadata": {},
     "output_type": "display_data"
    },
    {
     "data": {
      "application/vnd.jupyter.widget-view+json": {
       "model_id": "98b5bf00e1544666b6fb5dd2d548da7d",
       "version_major": 2,
       "version_minor": 0
      },
      "text/plain": [
       "Test Epoch 474/500, Test Loss: 9.575191411105068:   0%|          | 0/11 [00:00<?, ?it/s]"
      ]
     },
     "metadata": {},
     "output_type": "display_data"
    },
    {
     "data": {
      "application/vnd.jupyter.widget-view+json": {
       "model_id": "fa4271ce86a446689c4abfb275351b3b",
       "version_major": 2,
       "version_minor": 0
      },
      "text/plain": [
       "Train Epoch 475/500, Train Loss: 0.0:   0%|          | 0/44 [00:00<?, ?it/s]"
      ]
     },
     "metadata": {},
     "output_type": "display_data"
    },
    {
     "data": {
      "application/vnd.jupyter.widget-view+json": {
       "model_id": "7e4c52d0da49445dba9d066c3647f8bc",
       "version_major": 2,
       "version_minor": 0
      },
      "text/plain": [
       "Test Epoch 475/500, Test Loss: 9.575191389430653:   0%|          | 0/11 [00:00<?, ?it/s]"
      ]
     },
     "metadata": {},
     "output_type": "display_data"
    },
    {
     "data": {
      "application/vnd.jupyter.widget-view+json": {
       "model_id": "3c109b1b2ea34c5a9f6238f8c923ad84",
       "version_major": 2,
       "version_minor": 0
      },
      "text/plain": [
       "Train Epoch 476/500, Train Loss: 0.0:   0%|          | 0/44 [00:00<?, ?it/s]"
      ]
     },
     "metadata": {},
     "output_type": "display_data"
    },
    {
     "data": {
      "application/vnd.jupyter.widget-view+json": {
       "model_id": "e4b23dce81df40fe86ae5cce2f1d255d",
       "version_major": 2,
       "version_minor": 0
      },
      "text/plain": [
       "Test Epoch 476/500, Test Loss: 9.574433846907182:   0%|          | 0/11 [00:00<?, ?it/s]"
      ]
     },
     "metadata": {},
     "output_type": "display_data"
    },
    {
     "data": {
      "application/vnd.jupyter.widget-view+json": {
       "model_id": "14ea4606e1ec4296896a4824ba185159",
       "version_major": 2,
       "version_minor": 0
      },
      "text/plain": [
       "Train Epoch 477/500, Train Loss: 0.0:   0%|          | 0/44 [00:00<?, ?it/s]"
      ]
     },
     "metadata": {},
     "output_type": "display_data"
    },
    {
     "data": {
      "application/vnd.jupyter.widget-view+json": {
       "model_id": "b7f2d3f88ed04a4381738e4857152fad",
       "version_major": 2,
       "version_minor": 0
      },
      "text/plain": [
       "Test Epoch 477/500, Test Loss: 9.574055064808238:   0%|          | 0/11 [00:00<?, ?it/s]"
      ]
     },
     "metadata": {},
     "output_type": "display_data"
    },
    {
     "data": {
      "application/vnd.jupyter.widget-view+json": {
       "model_id": "615c2a11d2434ef2816a9124acb165a1",
       "version_major": 2,
       "version_minor": 0
      },
      "text/plain": [
       "Train Epoch 478/500, Train Loss: 0.0:   0%|          | 0/44 [00:00<?, ?it/s]"
      ]
     },
     "metadata": {},
     "output_type": "display_data"
    },
    {
     "data": {
      "application/vnd.jupyter.widget-view+json": {
       "model_id": "2d465f751a5f42d7a6051af21cd1ee93",
       "version_major": 2,
       "version_minor": 0
      },
      "text/plain": [
       "Test Epoch 478/500, Test Loss: 9.57481260733171:   0%|          | 0/11 [00:00<?, ?it/s]"
      ]
     },
     "metadata": {},
     "output_type": "display_data"
    },
    {
     "data": {
      "application/vnd.jupyter.widget-view+json": {
       "model_id": "2c50b7235e294b2f840d2d59710696e4",
       "version_major": 2,
       "version_minor": 0
      },
      "text/plain": [
       "Train Epoch 479/500, Train Loss: 0.0:   0%|          | 0/44 [00:00<?, ?it/s]"
      ]
     },
     "metadata": {},
     "output_type": "display_data"
    },
    {
     "data": {
      "application/vnd.jupyter.widget-view+json": {
       "model_id": "1c919e828e6e4f4a86e88e07a506926a",
       "version_major": 2,
       "version_minor": 0
      },
      "text/plain": [
       "Test Epoch 479/500, Test Loss: 9.575191389430653:   0%|          | 0/11 [00:00<?, ?it/s]"
      ]
     },
     "metadata": {},
     "output_type": "display_data"
    },
    {
     "data": {
      "application/vnd.jupyter.widget-view+json": {
       "model_id": "ff7664e785ba4f6dbb31b6b038b0a4ba",
       "version_major": 2,
       "version_minor": 0
      },
      "text/plain": [
       "Train Epoch 480/500, Train Loss: 0.0:   0%|          | 0/44 [00:00<?, ?it/s]"
      ]
     },
     "metadata": {},
     "output_type": "display_data"
    },
    {
     "data": {
      "application/vnd.jupyter.widget-view+json": {
       "model_id": "9e94d66e02784b85a33313eb89c0ecb1",
       "version_major": 2,
       "version_minor": 0
      },
      "text/plain": [
       "Test Epoch 480/500, Test Loss: 9.57481260733171:   0%|          | 0/11 [00:00<?, ?it/s]"
      ]
     },
     "metadata": {},
     "output_type": "display_data"
    },
    {
     "data": {
      "application/vnd.jupyter.widget-view+json": {
       "model_id": "e5ae2ec2d7c74c23a7199bab96a38dd1",
       "version_major": 2,
       "version_minor": 0
      },
      "text/plain": [
       "Train Epoch 481/500, Train Loss: 0.0:   0%|          | 0/44 [00:00<?, ?it/s]"
      ]
     },
     "metadata": {},
     "output_type": "display_data"
    },
    {
     "data": {
      "application/vnd.jupyter.widget-view+json": {
       "model_id": "1d8d8a5408264a528c42e9751646223b",
       "version_major": 2,
       "version_minor": 0
      },
      "text/plain": [
       "Test Epoch 481/500, Test Loss: 9.57481260733171:   0%|          | 0/11 [00:00<?, ?it/s]"
      ]
     },
     "metadata": {},
     "output_type": "display_data"
    },
    {
     "data": {
      "application/vnd.jupyter.widget-view+json": {
       "model_id": "2528febd3ec6422a84288c032094c116",
       "version_major": 2,
       "version_minor": 0
      },
      "text/plain": [
       "Train Epoch 482/500, Train Loss: 0.0:   0%|          | 0/44 [00:00<?, ?it/s]"
      ]
     },
     "metadata": {},
     "output_type": "display_data"
    },
    {
     "data": {
      "application/vnd.jupyter.widget-view+json": {
       "model_id": "c50ee5add0304ea386e5a69bd89e5db6",
       "version_major": 2,
       "version_minor": 0
      },
      "text/plain": [
       "Test Epoch 482/500, Test Loss: 9.573676239360463:   0%|          | 0/11 [00:00<?, ?it/s]"
      ]
     },
     "metadata": {},
     "output_type": "display_data"
    },
    {
     "data": {
      "application/vnd.jupyter.widget-view+json": {
       "model_id": "5944d7f032ba4ec196b4c94724a64b8f",
       "version_major": 2,
       "version_minor": 0
      },
      "text/plain": [
       "Train Epoch 483/500, Train Loss: 0.0:   0%|          | 0/44 [00:00<?, ?it/s]"
      ]
     },
     "metadata": {},
     "output_type": "display_data"
    },
    {
     "data": {
      "application/vnd.jupyter.widget-view+json": {
       "model_id": "684f10bdc4fb46789c361f2ec8022189",
       "version_major": 2,
       "version_minor": 0
      },
      "text/plain": [
       "Test Epoch 483/500, Test Loss: 9.574433846907182:   0%|          | 0/11 [00:00<?, ?it/s]"
      ]
     },
     "metadata": {},
     "output_type": "display_data"
    },
    {
     "data": {
      "application/vnd.jupyter.widget-view+json": {
       "model_id": "8e83e319613d4145aa3ff6b3b4bc1322",
       "version_major": 2,
       "version_minor": 0
      },
      "text/plain": [
       "Train Epoch 484/500, Train Loss: 0.0:   0%|          | 0/44 [00:00<?, ?it/s]"
      ]
     },
     "metadata": {},
     "output_type": "display_data"
    },
    {
     "data": {
      "application/vnd.jupyter.widget-view+json": {
       "model_id": "8438a6b42353485d8447554e654c2b11",
       "version_major": 2,
       "version_minor": 0
      },
      "text/plain": [
       "Test Epoch 484/500, Test Loss: 9.57481260733171:   0%|          | 0/11 [00:00<?, ?it/s]"
      ]
     },
     "metadata": {},
     "output_type": "display_data"
    },
    {
     "data": {
      "application/vnd.jupyter.widget-view+json": {
       "model_id": "745ab55baef64a80ace252be8679783d",
       "version_major": 2,
       "version_minor": 0
      },
      "text/plain": [
       "Train Epoch 485/500, Train Loss: 0.0:   0%|          | 0/44 [00:00<?, ?it/s]"
      ]
     },
     "metadata": {},
     "output_type": "display_data"
    },
    {
     "data": {
      "application/vnd.jupyter.widget-view+json": {
       "model_id": "66f2bdcc1518467286d9ddbd65d48539",
       "version_major": 2,
       "version_minor": 0
      },
      "text/plain": [
       "Test Epoch 485/500, Test Loss: 9.575191389430653:   0%|          | 0/11 [00:00<?, ?it/s]"
      ]
     },
     "metadata": {},
     "output_type": "display_data"
    },
    {
     "data": {
      "application/vnd.jupyter.widget-view+json": {
       "model_id": "972904f05077463f97c22c3f04b6013a",
       "version_major": 2,
       "version_minor": 0
      },
      "text/plain": [
       "Train Epoch 486/500, Train Loss: 0.0:   0%|          | 0/44 [00:00<?, ?it/s]"
      ]
     },
     "metadata": {},
     "output_type": "display_data"
    },
    {
     "data": {
      "application/vnd.jupyter.widget-view+json": {
       "model_id": "fabc42dec5ff4880826fc42dc4e4343e",
       "version_major": 2,
       "version_minor": 0
      },
      "text/plain": [
       "Test Epoch 486/500, Test Loss: 9.575191389430653:   0%|          | 0/11 [00:00<?, ?it/s]"
      ]
     },
     "metadata": {},
     "output_type": "display_data"
    },
    {
     "data": {
      "application/vnd.jupyter.widget-view+json": {
       "model_id": "a080f7d66ba24efc88c54ec674f4e30b",
       "version_major": 2,
       "version_minor": 0
      },
      "text/plain": [
       "Train Epoch 487/500, Train Loss: 0.0:   0%|          | 0/44 [00:00<?, ?it/s]"
      ]
     },
     "metadata": {},
     "output_type": "display_data"
    },
    {
     "data": {
      "application/vnd.jupyter.widget-view+json": {
       "model_id": "856463de981141f48d37d7cc0119270b",
       "version_major": 2,
       "version_minor": 0
      },
      "text/plain": [
       "Test Epoch 487/500, Test Loss: 9.575191389430653:   0%|          | 0/11 [00:00<?, ?it/s]"
      ]
     },
     "metadata": {},
     "output_type": "display_data"
    },
    {
     "data": {
      "application/vnd.jupyter.widget-view+json": {
       "model_id": "b28991ff300349c1a6d12c7f30aa6098",
       "version_major": 2,
       "version_minor": 0
      },
      "text/plain": [
       "Train Epoch 488/500, Train Loss: 0.0:   0%|          | 0/44 [00:00<?, ?it/s]"
      ]
     },
     "metadata": {},
     "output_type": "display_data"
    },
    {
     "data": {
      "application/vnd.jupyter.widget-view+json": {
       "model_id": "99e7be4c83934281a694d1b89a643da3",
       "version_major": 2,
       "version_minor": 0
      },
      "text/plain": [
       "Test Epoch 488/500, Test Loss: 9.574055064808238:   0%|          | 0/11 [00:00<?, ?it/s]"
      ]
     },
     "metadata": {},
     "output_type": "display_data"
    },
    {
     "data": {
      "application/vnd.jupyter.widget-view+json": {
       "model_id": "a6e4ff3386074e03a34c3c9bd53cd76b",
       "version_major": 2,
       "version_minor": 0
      },
      "text/plain": [
       "Train Epoch 489/500, Train Loss: 0.0:   0%|          | 0/44 [00:00<?, ?it/s]"
      ]
     },
     "metadata": {},
     "output_type": "display_data"
    },
    {
     "data": {
      "application/vnd.jupyter.widget-view+json": {
       "model_id": "17562b7490aa4e778837e28ebeb26532",
       "version_major": 2,
       "version_minor": 0
      },
      "text/plain": [
       "Test Epoch 489/500, Test Loss: 9.575191389430653:   0%|          | 0/11 [00:00<?, ?it/s]"
      ]
     },
     "metadata": {},
     "output_type": "display_data"
    },
    {
     "data": {
      "application/vnd.jupyter.widget-view+json": {
       "model_id": "fd46efc0274d408daeb1619c5c6238ec",
       "version_major": 2,
       "version_minor": 0
      },
      "text/plain": [
       "Train Epoch 490/500, Train Loss: 0.0:   0%|          | 0/44 [00:00<?, ?it/s]"
      ]
     },
     "metadata": {},
     "output_type": "display_data"
    },
    {
     "data": {
      "application/vnd.jupyter.widget-view+json": {
       "model_id": "65a5d3d9dda64536b89e6820f9dc9e98",
       "version_major": 2,
       "version_minor": 0
      },
      "text/plain": [
       "Test Epoch 490/500, Test Loss: 9.575191389430653:   0%|          | 0/11 [00:00<?, ?it/s]"
      ]
     },
     "metadata": {},
     "output_type": "display_data"
    },
    {
     "data": {
      "application/vnd.jupyter.widget-view+json": {
       "model_id": "8a2269b39cc448909a3a468e01808144",
       "version_major": 2,
       "version_minor": 0
      },
      "text/plain": [
       "Train Epoch 491/500, Train Loss: 0.0:   0%|          | 0/44 [00:00<?, ?it/s]"
      ]
     },
     "metadata": {},
     "output_type": "display_data"
    },
    {
     "data": {
      "application/vnd.jupyter.widget-view+json": {
       "model_id": "2a3c6ad8cc0b48fba5466b67726990dc",
       "version_major": 2,
       "version_minor": 0
      },
      "text/plain": [
       "Test Epoch 491/500, Test Loss: 9.574055064808238:   0%|          | 0/11 [00:00<?, ?it/s]"
      ]
     },
     "metadata": {},
     "output_type": "display_data"
    },
    {
     "data": {
      "application/vnd.jupyter.widget-view+json": {
       "model_id": "9a205b59fee24366b6dc1708778930f9",
       "version_major": 2,
       "version_minor": 0
      },
      "text/plain": [
       "Train Epoch 492/500, Train Loss: 0.0:   0%|          | 0/44 [00:00<?, ?it/s]"
      ]
     },
     "metadata": {},
     "output_type": "display_data"
    },
    {
     "data": {
      "application/vnd.jupyter.widget-view+json": {
       "model_id": "fb863e614daa450e96d6c1840bb34f11",
       "version_major": 2,
       "version_minor": 0
      },
      "text/plain": [
       "Test Epoch 492/500, Test Loss: 9.574055043133823:   0%|          | 0/11 [00:00<?, ?it/s]"
      ]
     },
     "metadata": {},
     "output_type": "display_data"
    },
    {
     "data": {
      "application/vnd.jupyter.widget-view+json": {
       "model_id": "adc8aac37e67457ca1fd426247e9a814",
       "version_major": 2,
       "version_minor": 0
      },
      "text/plain": [
       "Train Epoch 493/500, Train Loss: 0.0:   0%|          | 0/44 [00:00<?, ?it/s]"
      ]
     },
     "metadata": {},
     "output_type": "display_data"
    },
    {
     "data": {
      "application/vnd.jupyter.widget-view+json": {
       "model_id": "6ccd8222e3a84eaeb7d1f26d4e1627f0",
       "version_major": 2,
       "version_minor": 0
      },
      "text/plain": [
       "Test Epoch 493/500, Test Loss: 9.575570214878429:   0%|          | 0/11 [00:00<?, ?it/s]"
      ]
     },
     "metadata": {},
     "output_type": "display_data"
    },
    {
     "data": {
      "application/vnd.jupyter.widget-view+json": {
       "model_id": "134ec119ccfb409582289d32b7e0db34",
       "version_major": 2,
       "version_minor": 0
      },
      "text/plain": [
       "Train Epoch 494/500, Train Loss: 0.0:   0%|          | 0/44 [00:00<?, ?it/s]"
      ]
     },
     "metadata": {},
     "output_type": "display_data"
    },
    {
     "data": {
      "application/vnd.jupyter.widget-view+json": {
       "model_id": "72e545c6cfa9439f9ac3abb34fc1a3ac",
       "version_major": 2,
       "version_minor": 0
      },
      "text/plain": [
       "Test Epoch 494/500, Test Loss: 9.575191389430653:   0%|          | 0/11 [00:00<?, ?it/s]"
      ]
     },
     "metadata": {},
     "output_type": "display_data"
    },
    {
     "data": {
      "application/vnd.jupyter.widget-view+json": {
       "model_id": "a587363074ab4100806f81cdcaf06cab",
       "version_major": 2,
       "version_minor": 0
      },
      "text/plain": [
       "Train Epoch 495/500, Train Loss: 0.0:   0%|          | 0/44 [00:00<?, ?it/s]"
      ]
     },
     "metadata": {},
     "output_type": "display_data"
    },
    {
     "data": {
      "application/vnd.jupyter.widget-view+json": {
       "model_id": "2277a6e6512747a1ad1e491debf45eba",
       "version_major": 2,
       "version_minor": 0
      },
      "text/plain": [
       "Test Epoch 495/500, Test Loss: 9.574433846907182:   0%|          | 0/11 [00:00<?, ?it/s]"
      ]
     },
     "metadata": {},
     "output_type": "display_data"
    },
    {
     "data": {
      "application/vnd.jupyter.widget-view+json": {
       "model_id": "ed8fb8d06f444d678a0097020ea3382a",
       "version_major": 2,
       "version_minor": 0
      },
      "text/plain": [
       "Train Epoch 496/500, Train Loss: 0.0:   0%|          | 0/44 [00:00<?, ?it/s]"
      ]
     },
     "metadata": {},
     "output_type": "display_data"
    },
    {
     "data": {
      "application/vnd.jupyter.widget-view+json": {
       "model_id": "74ed8556d4ba4f879dd290ac5372d22a",
       "version_major": 2,
       "version_minor": 0
      },
      "text/plain": [
       "Test Epoch 496/500, Test Loss: 9.574433825232767:   0%|          | 0/11 [00:00<?, ?it/s]"
      ]
     },
     "metadata": {},
     "output_type": "display_data"
    },
    {
     "data": {
      "application/vnd.jupyter.widget-view+json": {
       "model_id": "7451a0aa64c5458aa728a2a46c0a280c",
       "version_major": 2,
       "version_minor": 0
      },
      "text/plain": [
       "Train Epoch 497/500, Train Loss: 0.0:   0%|          | 0/44 [00:00<?, ?it/s]"
      ]
     },
     "metadata": {},
     "output_type": "display_data"
    },
    {
     "data": {
      "application/vnd.jupyter.widget-view+json": {
       "model_id": "95babc567ad04723a5818020b6fb01c1",
       "version_major": 2,
       "version_minor": 0
      },
      "text/plain": [
       "Test Epoch 497/500, Test Loss: 9.574055064808238:   0%|          | 0/11 [00:00<?, ?it/s]"
      ]
     },
     "metadata": {},
     "output_type": "display_data"
    },
    {
     "data": {
      "application/vnd.jupyter.widget-view+json": {
       "model_id": "18e83c0917c84da4b6f66a5b99f5dadf",
       "version_major": 2,
       "version_minor": 0
      },
      "text/plain": [
       "Train Epoch 498/500, Train Loss: 0.0:   0%|          | 0/44 [00:00<?, ?it/s]"
      ]
     },
     "metadata": {},
     "output_type": "display_data"
    },
    {
     "data": {
      "application/vnd.jupyter.widget-view+json": {
       "model_id": "e4e65a193bde4eb2b01cc9d9b358966c",
       "version_major": 2,
       "version_minor": 0
      },
      "text/plain": [
       "Test Epoch 498/500, Test Loss: 9.574812629006125:   0%|          | 0/11 [00:00<?, ?it/s]"
      ]
     },
     "metadata": {},
     "output_type": "display_data"
    },
    {
     "data": {
      "application/vnd.jupyter.widget-view+json": {
       "model_id": "a04cbd310f794dc2925cff646fa19573",
       "version_major": 2,
       "version_minor": 0
      },
      "text/plain": [
       "Train Epoch 499/500, Train Loss: 0.0:   0%|          | 0/44 [00:00<?, ?it/s]"
      ]
     },
     "metadata": {},
     "output_type": "display_data"
    },
    {
     "data": {
      "application/vnd.jupyter.widget-view+json": {
       "model_id": "da1205a46aa4445ca246577480b83706",
       "version_major": 2,
       "version_minor": 0
      },
      "text/plain": [
       "Test Epoch 499/500, Test Loss: 9.57481260733171:   0%|          | 0/11 [00:00<?, ?it/s]"
      ]
     },
     "metadata": {},
     "output_type": "display_data"
    },
    {
     "data": {
      "application/vnd.jupyter.widget-view+json": {
       "model_id": "6bb527462e904866aadf47d0a3b7e139",
       "version_major": 2,
       "version_minor": 0
      },
      "text/plain": [
       "Train Epoch 500/500, Train Loss: 0.0:   0%|          | 0/44 [00:00<?, ?it/s]"
      ]
     },
     "metadata": {},
     "output_type": "display_data"
    },
    {
     "data": {
      "application/vnd.jupyter.widget-view+json": {
       "model_id": "9dcf39e610394a9cb7935d2cb31b9568",
       "version_major": 2,
       "version_minor": 0
      },
      "text/plain": [
       "Test Epoch 500/500, Test Loss: 9.575191389430653:   0%|          | 0/11 [00:00<?, ?it/s]"
      ]
     },
     "metadata": {},
     "output_type": "display_data"
    }
   ],
   "source": [
    "train_loss, val_loss = [], []\n",
    "for epoch in range(EPOCHS):\n",
    "    model.train()\n",
    "    \n",
    "    running_loss = 0.0\n",
    "    for idx, data in tqdm(enumerate(train_dataloader), total=len(train_dataloader), desc=f\"Train Epoch {epoch+1}/{EPOCHS}, Train Loss: {running_loss / len(train_dataloader)}\"):\n",
    "        X_data, y_data = data\n",
    "        X_data = X_data.to(device)\n",
    "        y_data = y_data.to(device)\n",
    "\n",
    "        optimizer.zero_grad()\n",
    "        y_pred = model(X_data)\n",
    "\n",
    "        loss = criterion(y_pred, y_data)\n",
    "        running_loss += loss.item()\n",
    "\n",
    "        loss.backward()\n",
    "        optimizer.step()\n",
    "    train_loss.append(running_loss / len(train_dataloader))\n",
    "\n",
    "    model.eval()\n",
    "    with torch.no_grad():\n",
    "        correct = 0\n",
    "        total = 0\n",
    "        for idx, data in tqdm(enumerate(test_dataloader), total=len(test_dataloader), desc=f\"Test Epoch {epoch+1}/{EPOCHS}, Test Loss: {running_loss / len(test_dataloader)}\"):\n",
    "            X_data, y_data = data\n",
    "            X_data = X_data.to(device)\n",
    "            y_data = y_data.to(device)\n",
    "\n",
    "            y_pred = model(X_data)\n",
    "            loss = criterion(y_pred, y_data)\n",
    "            running_loss += loss.item()\n",
    "\n",
    "            _, predicted = torch.max(y_pred.data, 1)\n",
    "            _, y_true = torch.max(y_data.data, 1)\n",
    "            total += y_data.size(0)\n",
    "            correct += (predicted == y_true).sum().item()\n",
    "\n",
    "        val_loss.append(running_loss / len(test_dataloader))"
   ]
  },
  {
   "cell_type": "code",
   "execution_count": 33,
   "metadata": {},
   "outputs": [
    {
     "data": {
      "image/png": "[encoded data removed]",
      "text/plain": [
       "<Figure size 2000x1000 with 1 Axes>"
      ]
     },
     "metadata": {},
     "output_type": "display_data"
    }
   ],
   "source": [
    "plt.figure(figsize=(20, 10))\n",
    "plt.plot(train_loss, label='train loss', color='blue', linewidth=2)\n",
    "plt.plot(val_loss, label='test loss', color='red', linewidth=2)\n",
    "plt.xlabel('Epochs')\n",
    "plt.ylabel('Loss')\n",
    "plt.legend()\n",
    "plt.grid()\n",
    "plt.show()"
   ]
  },
  {
   "cell_type": "markdown",
   "metadata": {},
   "source": [
    "# Evaluation"
   ]
  },
  {
   "cell_type": "code",
   "execution_count": 24,
   "metadata": {},
   "outputs": [
    {
     "data": {
      "text/plain": [
       "Model(\n",
       "  (in_fc): Linear(in_features=5, out_features=64, bias=True)\n",
       "  (hidden_1): Linear(in_features=64, out_features=128, bias=True)\n",
       "  (hidden_2): Linear(in_features=128, out_features=64, bias=True)\n",
       "  (out_fc): Linear(in_features=64, out_features=11, bias=True)\n",
       "  (softmax): Softmax(dim=1)\n",
       ")"
      ]
     },
     "execution_count": 24,
     "metadata": {},
     "output_type": "execute_result"
    }
   ],
   "source": [
    "model.eval()"
   ]
  },
  {
   "cell_type": "code",
   "execution_count": 25,
   "metadata": {},
   "outputs": [],
   "source": [
    "eval_prediction_list = []\n",
    "\n",
    "for idx, (x, y) in enumerate(test_dataloader):\n",
    "    x = x.to(device)\n",
    "    y = y.to(device)\n",
    "    \n",
    "    prediction = model(x)\n",
    "    eval_prediction_list.append(prediction)\n",
    "\n",
    "y_pred = torch.cat(eval_prediction_list, dim=0)\n",
    "y_pred = y_pred.detach().cpu().numpy()"
   ]
  },
  {
   "cell_type": "code",
   "execution_count": 26,
   "metadata": {},
   "outputs": [
    {
     "name": "stdout",
     "output_type": "stream",
     "text": [
      "y_pred Shape: (176, 11)\n",
      "y_test Shape: (176, 11)\n"
     ]
    }
   ],
   "source": [
    "print(f\"\"\"y_pred Shape: {y_pred.shape}\n",
    "y_test Shape: {y_test.shape}\"\"\")"
   ]
  },
  {
   "cell_type": "code",
   "execution_count": 27,
   "metadata": {},
   "outputs": [
    {
     "name": "stdout",
     "output_type": "stream",
     "text": [
      "MSE Loss:  0.1446281\n"
     ]
    }
   ],
   "source": [
    "mse_loss = mean_squared_error(y_test, y_pred)\n",
    "print(\"MSE Loss: \", mse_loss)"
   ]
  },
  {
   "cell_type": "code",
   "execution_count": 28,
   "metadata": {},
   "outputs": [
    {
     "name": "stdout",
     "output_type": "stream",
     "text": [
      "              precision    recall  f1-score   support\n",
      "\n",
      "           0       0.00      0.00      0.00        11\n",
      "           1       0.00      0.00      0.00         7\n",
      "           2       0.00      0.00      0.00         8\n",
      "           3       0.00      0.00      0.00        26\n",
      "           4       0.00      0.00      0.00        14\n",
      "           5       0.00      0.00      0.00         7\n",
      "           6       0.00      0.00      0.00        10\n",
      "           7       0.00      0.00      0.00        19\n",
      "           8       0.00      0.00      0.00        27\n",
      "           9       0.00      0.00      0.00        11\n",
      "          10       0.20      1.00      0.34        36\n",
      "\n",
      "    accuracy                           0.20       176\n",
      "   macro avg       0.02      0.09      0.03       176\n",
      "weighted avg       0.04      0.20      0.07       176\n",
      "\n"
     ]
    },
    {
     "name": "stderr",
     "output_type": "stream",
     "text": [
      "/Users/bahk_insung/miniconda3/lib/python3.10/site-packages/sklearn/metrics/_classification.py:1344: UndefinedMetricWarning: Precision and F-score are ill-defined and being set to 0.0 in labels with no predicted samples. Use `zero_division` parameter to control this behavior.\n",
      "  _warn_prf(average, modifier, msg_start, len(result))\n",
      "/Users/bahk_insung/miniconda3/lib/python3.10/site-packages/sklearn/metrics/_classification.py:1344: UndefinedMetricWarning: Precision and F-score are ill-defined and being set to 0.0 in labels with no predicted samples. Use `zero_division` parameter to control this behavior.\n",
      "  _warn_prf(average, modifier, msg_start, len(result))\n",
      "/Users/bahk_insung/miniconda3/lib/python3.10/site-packages/sklearn/metrics/_classification.py:1344: UndefinedMetricWarning: Precision and F-score are ill-defined and being set to 0.0 in labels with no predicted samples. Use `zero_division` parameter to control this behavior.\n",
      "  _warn_prf(average, modifier, msg_start, len(result))\n"
     ]
    }
   ],
   "source": [
    "y_test_arg = np.argmax(y_test, axis=1)\n",
    "y_pred_arg = np.argmax(y_pred, axis=1)\n",
    "print(classification_report(y_test_arg, y_pred_arg))"
   ]
  },
  {
   "cell_type": "code",
   "execution_count": 29,
   "metadata": {},
   "outputs": [
    {
     "data": {
      "image/png": "[encoded data removed]",
      "text/plain": [
       "<Figure size 1000x1000 with 1 Axes>"
      ]
     },
     "metadata": {},
     "output_type": "display_data"
    }
   ],
   "source": [
    "conf_mat = confusion_matrix(y_test_arg, y_pred_arg)\n",
    "\n",
    "plt.figure(figsize=(10, 10))\n",
    "sns.heatmap(conf_mat, annot=True, fmt='d', cmap=plt.cm.Blues, cbar=False)\n",
    "plt.title('Confusion Matrix')\n",
    "plt.xlabel('Predicted Label')\n",
    "plt.ylabel('True Label')\n",
    "plt.show()"
   ]
  }
 ],
 "metadata": {
  "kernelspec": {
   "display_name": "base",
   "language": "python",
   "name": "python3"
  },
  "language_info": {
   "codemirror_mode": {
    "name": "ipython",
    "version": 3
   },
   "file_extension": ".py",
   "mimetype": "text/x-python",
   "name": "python",
   "nbconvert_exporter": "python",
   "pygments_lexer": "ipython3",
   "version": "3.10.9"
  },
  "orig_nbformat": 4
 },
 "nbformat": 4,
 "nbformat_minor": 2
}
