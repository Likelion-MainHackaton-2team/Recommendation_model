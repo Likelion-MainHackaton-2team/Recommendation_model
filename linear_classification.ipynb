{
 "cells": [
  {
   "cell_type": "code",
   "execution_count": 1,
   "metadata": {},
   "outputs": [],
   "source": [
    "from sklearn.preprocessing import OneHotEncoder, LabelEncoder\n",
    "\n",
    "from sklearn.model_selection import train_test_split\n",
    "from sklearn.metrics import classification_report\n",
    "from sklearn.metrics import mean_squared_error\n",
    "from sklearn.metrics import confusion_matrix\n",
    "from sklearn.metrics import accuracy_score\n",
    "from sklearn.metrics import r2_score\n",
    "\n",
    "from tqdm import tqdm\n",
    "\n",
    "import matplotlib.pyplot as plt\n",
    "import seaborn as sns\n",
    "import pandas as pd\n",
    "import numpy as np\n",
    "\n",
    "from torch.utils.data import Dataset, DataLoader\n",
    "from torchsummary import summary\n",
    "\n",
    "import torch.nn.functional as F\n",
    "import torch.optim as optim\n",
    "import torch.nn as nn\n",
    "import torch\n",
    "import math\n",
    "\n",
    "DATA_PATH = \"./data/processed_dataset.csv\""
   ]
  },
  {
   "cell_type": "markdown",
   "metadata": {},
   "source": [
    "# Read data"
   ]
  },
  {
   "cell_type": "code",
   "execution_count": 2,
   "metadata": {},
   "outputs": [
    {
     "data": {
      "text/html": [
       "<div>\n",
       "<style scoped>\n",
       "    .dataframe tbody tr th:only-of-type {\n",
       "        vertical-align: middle;\n",
       "    }\n",
       "\n",
       "    .dataframe tbody tr th {\n",
       "        vertical-align: top;\n",
       "    }\n",
       "\n",
       "    .dataframe thead th {\n",
       "        text-align: right;\n",
       "    }\n",
       "</style>\n",
       "<table border=\"1\" class=\"dataframe\">\n",
       "  <thead>\n",
       "    <tr style=\"text-align: right;\">\n",
       "      <th></th>\n",
       "      <th>product_category</th>\n",
       "      <th>sales</th>\n",
       "      <th>price</th>\n",
       "      <th>VAP</th>\n",
       "      <th>pet_size</th>\n",
       "      <th>pet_type</th>\n",
       "      <th>re_buy</th>\n",
       "    </tr>\n",
       "    <tr>\n",
       "      <th>product_id</th>\n",
       "      <th></th>\n",
       "      <th></th>\n",
       "      <th></th>\n",
       "      <th></th>\n",
       "      <th></th>\n",
       "      <th></th>\n",
       "      <th></th>\n",
       "    </tr>\n",
       "  </thead>\n",
       "  <tbody>\n",
       "    <tr>\n",
       "      <th>5040</th>\n",
       "      <td>0</td>\n",
       "      <td>123</td>\n",
       "      <td>7293</td>\n",
       "      <td>0</td>\n",
       "      <td>0</td>\n",
       "      <td>0</td>\n",
       "      <td>1</td>\n",
       "    </tr>\n",
       "    <tr>\n",
       "      <th>4567</th>\n",
       "      <td>1</td>\n",
       "      <td>61</td>\n",
       "      <td>9304</td>\n",
       "      <td>1</td>\n",
       "      <td>0</td>\n",
       "      <td>1</td>\n",
       "      <td>0</td>\n",
       "    </tr>\n",
       "    <tr>\n",
       "      <th>4237</th>\n",
       "      <td>1</td>\n",
       "      <td>218</td>\n",
       "      <td>8180</td>\n",
       "      <td>0</td>\n",
       "      <td>0</td>\n",
       "      <td>2</td>\n",
       "      <td>0</td>\n",
       "    </tr>\n",
       "    <tr>\n",
       "      <th>4364</th>\n",
       "      <td>2</td>\n",
       "      <td>69</td>\n",
       "      <td>18559</td>\n",
       "      <td>1</td>\n",
       "      <td>1</td>\n",
       "      <td>3</td>\n",
       "      <td>1</td>\n",
       "    </tr>\n",
       "    <tr>\n",
       "      <th>4184</th>\n",
       "      <td>3</td>\n",
       "      <td>138</td>\n",
       "      <td>10283</td>\n",
       "      <td>1</td>\n",
       "      <td>1</td>\n",
       "      <td>3</td>\n",
       "      <td>0</td>\n",
       "    </tr>\n",
       "  </tbody>\n",
       "</table>\n",
       "</div>"
      ],
      "text/plain": [
       "            product_category  sales  price  VAP  pet_size  pet_type  re_buy\n",
       "product_id                                                                 \n",
       "5040                       0    123   7293    0         0         0       1\n",
       "4567                       1     61   9304    1         0         1       0\n",
       "4237                       1    218   8180    0         0         2       0\n",
       "4364                       2     69  18559    1         1         3       1\n",
       "4184                       3    138  10283    1         1         3       0"
      ]
     },
     "execution_count": 2,
     "metadata": {},
     "output_type": "execute_result"
    }
   ],
   "source": [
    "datasheet = pd.read_csv(DATA_PATH, sep=\",\", index_col=0)\n",
    "datasheet.head()"
   ]
  },
  {
   "cell_type": "markdown",
   "metadata": {},
   "source": [
    "# Train, Test(Validation) Split"
   ]
  },
  {
   "cell_type": "code",
   "execution_count": 3,
   "metadata": {},
   "outputs": [],
   "source": [
    "target = \"product_category\""
   ]
  },
  {
   "cell_type": "code",
   "execution_count": 4,
   "metadata": {},
   "outputs": [
    {
     "name": "stdout",
     "output_type": "stream",
     "text": [
      "X_data shape: (879, 6)\n",
      "y_data shape: (879, 6)\n"
     ]
    }
   ],
   "source": [
    "onehot_encoder = OneHotEncoder()\n",
    "\n",
    "X_data = datasheet.drop([target], axis=1).to_numpy().astype(np.float32)\n",
    "y_data = datasheet[target].to_numpy().astype(np.float32)\n",
    "y_data = onehot_encoder.fit_transform(y_data.reshape(-1, 1)).astype(np.float32).toarray()\n",
    "\n",
    "print(f\"\"\"X_data shape: {X_data.shape}\n",
    "y_data shape: {y_data.shape}\"\"\")"
   ]
  },
  {
   "cell_type": "code",
   "execution_count": 5,
   "metadata": {},
   "outputs": [
    {
     "name": "stdout",
     "output_type": "stream",
     "text": [
      "X_train: (703, 6)\n",
      "y_train: (703, 6)\n",
      "X_test: (176, 6)\n",
      "y_test: (176, 6)\n"
     ]
    }
   ],
   "source": [
    "X_train, X_test, y_train, y_test = train_test_split(X_data, y_data, test_size=0.2, random_state=42, shuffle=True)\n",
    "print(f\"\"\"X_train: {X_train.shape}\n",
    "y_train: {y_train.shape}\n",
    "X_test: {X_test.shape}\n",
    "y_test: {y_test.shape}\"\"\")"
   ]
  },
  {
   "cell_type": "markdown",
   "metadata": {},
   "source": [
    "# Datasets & DataLoader"
   ]
  },
  {
   "cell_type": "code",
   "execution_count": 6,
   "metadata": {},
   "outputs": [],
   "source": [
    "BATCH_SIZE = 16"
   ]
  },
  {
   "cell_type": "code",
   "execution_count": 7,
   "metadata": {},
   "outputs": [],
   "source": [
    "class CustomDataset(Dataset):\n",
    "    def __init__(self, X_data, y_data):\n",
    "        self.X_data = X_data\n",
    "        self.y_data = y_data\n",
    "\n",
    "    def __getitem__(self, index):\n",
    "        X = self.X_data[index]\n",
    "        y = self.y_data[index]\n",
    "        return X, y\n",
    "\n",
    "    def __len__(self):\n",
    "        return len(self.X_data)"
   ]
  },
  {
   "cell_type": "code",
   "execution_count": 8,
   "metadata": {},
   "outputs": [],
   "source": [
    "train_dataset = CustomDataset(X_train, y_train)\n",
    "train_dataloader = DataLoader(train_dataset, batch_size=BATCH_SIZE, shuffle=True)\n",
    "\n",
    "test_dataset = CustomDataset(X_test, y_test)\n",
    "test_dataloader = DataLoader(test_dataset, batch_size=BATCH_SIZE, shuffle=True)"
   ]
  },
  {
   "cell_type": "markdown",
   "metadata": {},
   "source": [
    "# Model"
   ]
  },
  {
   "cell_type": "code",
   "execution_count": 9,
   "metadata": {},
   "outputs": [],
   "source": [
    "device = torch.device('cpu')"
   ]
  },
  {
   "cell_type": "code",
   "execution_count": 28,
   "metadata": {},
   "outputs": [
    {
     "name": "stdout",
     "output_type": "stream",
     "text": [
      "----------------------------------------------------------------\n",
      "        Layer (type)               Output Shape         Param #\n",
      "================================================================\n",
      "            Linear-1                   [-1, 64]             448\n",
      "            Linear-2                  [-1, 128]           8,320\n",
      "            Linear-3                  [-1, 256]          33,024\n",
      "            Linear-4                  [-1, 512]         131,584\n",
      "            Linear-5                 [-1, 1024]         525,312\n",
      "               GRU-6  [[-1, 1, 1024], [-1, 2, 1024]]               0\n",
      "            Linear-7                  [-1, 512]         524,800\n",
      "            Linear-8                  [-1, 256]         131,328\n",
      "            Linear-9                  [-1, 128]          32,896\n",
      "           Linear-10                   [-1, 64]           8,256\n",
      "          Dropout-11                   [-1, 64]               0\n",
      "           Linear-12                    [-1, 6]             390\n",
      "          Softmax-13                    [-1, 6]               0\n",
      "================================================================\n",
      "Total params: 1,396,358\n",
      "Trainable params: 1,396,358\n",
      "Non-trainable params: 0\n",
      "----------------------------------------------------------------\n",
      "Input size (MB): 0.00\n",
      "Forward/backward pass size (MB): 15.98\n",
      "Params size (MB): 5.33\n",
      "Estimated Total Size (MB): 21.30\n",
      "----------------------------------------------------------------\n"
     ]
    }
   ],
   "source": [
    "class Model(nn.Module):\n",
    "    def __init__(self, input_dim, output_dim):\n",
    "        super(Model, self).__init__()\n",
    "        self.input_dim = input_dim\n",
    "        self.output_dim = output_dim\n",
    "\n",
    "        self.in_fc = nn.Linear(self.input_dim, 64)\n",
    "\n",
    "        self.hidden_1 = nn.Linear(64, 128)\n",
    "        self.hidden_2 = nn.Linear(128, 256)\n",
    "        self.hidden_3 = nn.Linear(256, 512)\n",
    "        self.hidden_4 = nn.Linear(512, 1024)\n",
    "\n",
    "        self.gru = nn.GRU(1024, 1024, 1, batch_first=True)\n",
    "\n",
    "        self.hidden_5 = nn.Linear(1024, 512)\n",
    "        self.hidden_6 = nn.Linear(512, 256)\n",
    "        self.hidden_7 = nn.Linear(256, 128)\n",
    "        self.hidden_8 = nn.Linear(128, 64)\n",
    "\n",
    "        self.out_fc = nn.Linear(64, self.output_dim)\n",
    "        self.softmax = nn.Softmax(dim=1)\n",
    "        self.dropout = nn.Dropout(0.25)\n",
    "\n",
    "    def forward(self, x):\n",
    "        x = F.gelu(self.in_fc(x))\n",
    "\n",
    "        x = F.gelu(self.hidden_1(x))\n",
    "        x = F.gelu(self.hidden_2(x))\n",
    "        x = F.gelu(self.hidden_3(x))\n",
    "        x = F.gelu(self.hidden_4(x))\n",
    "\n",
    "        x = x.unsqueeze(1)\n",
    "        x, _ = self.gru(x)\n",
    "        x = x.squeeze(1)\n",
    "\n",
    "        x = F.gelu(self.hidden_5(x))\n",
    "        x = F.gelu(self.hidden_6(x))\n",
    "        x = F.gelu(self.hidden_7(x))\n",
    "        x = F.gelu(self.hidden_8(x))\n",
    "        x = self.dropout(x)\n",
    "\n",
    "        x = self.softmax(self.out_fc(x))\n",
    "        return x\n",
    "    \n",
    "model = Model(6, 6).to(device)\n",
    "summary(model.to(device='cpu'), (6, ))"
   ]
  },
  {
   "cell_type": "code",
   "execution_count": 29,
   "metadata": {},
   "outputs": [
    {
     "name": "stdout",
     "output_type": "stream",
     "text": [
      "Adjusting learning rate of group 0 to 3.0000e-02.\n"
     ]
    }
   ],
   "source": [
    "optimizer = optim.SGD(model.parameters(), lr=0.03)\n",
    "criterion = nn.CrossEntropyLoss()\n",
    "scheduler = optim.lr_scheduler.LambdaLR(\n",
    "    optimizer, \n",
    "    lr_lambda=lambda epoch: 0.95 ** epoch,\n",
    "    last_epoch=-1,\n",
    "    verbose=True\n",
    ")"
   ]
  },
  {
   "cell_type": "markdown",
   "metadata": {},
   "source": [
    "# Model Train & Validation"
   ]
  },
  {
   "cell_type": "code",
   "execution_count": 30,
   "metadata": {},
   "outputs": [],
   "source": [
    "EPOCHS = 200 "
   ]
  },
  {
   "cell_type": "code",
   "execution_count": 31,
   "metadata": {},
   "outputs": [
    {
     "name": "stderr",
     "output_type": "stream",
     "text": [
      "Train Epoch 1/200, Train Loss: 0.0: 100%|██████████| 44/44 [00:00<00:00, 83.70it/s]\n"
     ]
    },
    {
     "name": "stdout",
     "output_type": "stream",
     "text": [
      "Adjusting learning rate of group 0 to 2.8500e-02.\n"
     ]
    },
    {
     "name": "stderr",
     "output_type": "stream",
     "text": [
      "Test Epoch 1/200, Test Loss: 7.156505432995883: 100%|██████████| 11/11 [00:00<00:00, 255.27it/s]\n",
      "Train Epoch 2/200, Train Loss: 0.0: 100%|██████████| 44/44 [00:00<00:00, 87.06it/s]\n"
     ]
    },
    {
     "name": "stdout",
     "output_type": "stream",
     "text": [
      "Adjusting learning rate of group 0 to 2.7075e-02.\n"
     ]
    },
    {
     "name": "stderr",
     "output_type": "stream",
     "text": [
      "Test Epoch 2/200, Test Loss: 7.150649005716497: 100%|██████████| 11/11 [00:00<00:00, 218.02it/s]\n",
      "Train Epoch 3/200, Train Loss: 0.0: 100%|██████████| 44/44 [00:00<00:00, 90.43it/s]\n"
     ]
    },
    {
     "name": "stdout",
     "output_type": "stream",
     "text": [
      "Adjusting learning rate of group 0 to 2.5721e-02.\n"
     ]
    },
    {
     "name": "stderr",
     "output_type": "stream",
     "text": [
      "Test Epoch 3/200, Test Loss: 7.145696499130943: 100%|██████████| 11/11 [00:00<00:00, 160.58it/s]\n",
      "Train Epoch 4/200, Train Loss: 0.0: 100%|██████████| 44/44 [00:00<00:00, 89.17it/s]\n"
     ]
    },
    {
     "name": "stdout",
     "output_type": "stream",
     "text": [
      "Adjusting learning rate of group 0 to 2.4435e-02.\n"
     ]
    },
    {
     "name": "stderr",
     "output_type": "stream",
     "text": [
      "Test Epoch 4/200, Test Loss: 7.14082256230441: 100%|██████████| 11/11 [00:00<00:00, 253.25it/s]\n",
      "Train Epoch 5/200, Train Loss: 0.0: 100%|██████████| 44/44 [00:00<00:00, 92.83it/s]\n"
     ]
    },
    {
     "name": "stdout",
     "output_type": "stream",
     "text": [
      "Adjusting learning rate of group 0 to 2.3213e-02.\n"
     ]
    },
    {
     "name": "stderr",
     "output_type": "stream",
     "text": [
      "Test Epoch 5/200, Test Loss: 7.1367927031083545: 100%|██████████| 11/11 [00:00<00:00, 263.30it/s]\n",
      "Train Epoch 6/200, Train Loss: 0.0: 100%|██████████| 44/44 [00:00<00:00, 93.28it/s]\n"
     ]
    },
    {
     "name": "stdout",
     "output_type": "stream",
     "text": [
      "Adjusting learning rate of group 0 to 2.2053e-02.\n"
     ]
    },
    {
     "name": "stderr",
     "output_type": "stream",
     "text": [
      "Test Epoch 6/200, Test Loss: 7.132115103981712: 100%|██████████| 11/11 [00:00<00:00, 263.99it/s]\n",
      "Train Epoch 7/200, Train Loss: 0.0: 100%|██████████| 44/44 [00:00<00:00, 93.35it/s]\n"
     ]
    },
    {
     "name": "stdout",
     "output_type": "stream",
     "text": [
      "Adjusting learning rate of group 0 to 2.0950e-02.\n"
     ]
    },
    {
     "name": "stderr",
     "output_type": "stream",
     "text": [
      "Test Epoch 7/200, Test Loss: 7.127732114358381: 100%|██████████| 11/11 [00:00<00:00, 266.44it/s]\n",
      "Train Epoch 8/200, Train Loss: 0.0: 100%|██████████| 44/44 [00:00<00:00, 93.64it/s]\n"
     ]
    },
    {
     "name": "stdout",
     "output_type": "stream",
     "text": [
      "Adjusting learning rate of group 0 to 1.9903e-02.\n"
     ]
    },
    {
     "name": "stderr",
     "output_type": "stream",
     "text": [
      "Test Epoch 8/200, Test Loss: 7.123842499472878: 100%|██████████| 11/11 [00:00<00:00, 262.47it/s]\n",
      "Train Epoch 9/200, Train Loss: 0.0: 100%|██████████| 44/44 [00:00<00:00, 93.33it/s]\n"
     ]
    },
    {
     "name": "stdout",
     "output_type": "stream",
     "text": [
      "Adjusting learning rate of group 0 to 1.8907e-02.\n"
     ]
    },
    {
     "name": "stderr",
     "output_type": "stream",
     "text": [
      "Test Epoch 9/200, Test Loss: 7.120337226174095: 100%|██████████| 11/11 [00:00<00:00, 260.75it/s]\n",
      "Train Epoch 10/200, Train Loss: 0.0: 100%|██████████| 44/44 [00:00<00:00, 91.37it/s]\n"
     ]
    },
    {
     "name": "stdout",
     "output_type": "stream",
     "text": [
      "Adjusting learning rate of group 0 to 1.7962e-02.\n"
     ]
    },
    {
     "name": "stderr",
     "output_type": "stream",
     "text": [
      "Test Epoch 10/200, Test Loss: 7.1172039833935825: 100%|██████████| 11/11 [00:00<00:00, 250.18it/s]\n",
      "Train Epoch 11/200, Train Loss: 0.0: 100%|██████████| 44/44 [00:00<00:00, 81.00it/s]\n"
     ]
    },
    {
     "name": "stdout",
     "output_type": "stream",
     "text": [
      "Adjusting learning rate of group 0 to 1.7064e-02.\n"
     ]
    },
    {
     "name": "stderr",
     "output_type": "stream",
     "text": [
      "Test Epoch 11/200, Test Loss: 7.113631400195035: 100%|██████████| 11/11 [00:00<00:00, 219.98it/s]\n",
      "Train Epoch 12/200, Train Loss: 0.0: 100%|██████████| 44/44 [00:00<00:00, 82.59it/s]\n"
     ]
    },
    {
     "name": "stdout",
     "output_type": "stream",
     "text": [
      "Adjusting learning rate of group 0 to 1.6211e-02.\n"
     ]
    },
    {
     "name": "stderr",
     "output_type": "stream",
     "text": [
      "Test Epoch 12/200, Test Loss: 7.1109032522548326: 100%|██████████| 11/11 [00:00<00:00, 220.52it/s]\n",
      "Train Epoch 13/200, Train Loss: 0.0: 100%|██████████| 44/44 [00:00<00:00, 80.55it/s]\n"
     ]
    },
    {
     "name": "stdout",
     "output_type": "stream",
     "text": [
      "Adjusting learning rate of group 0 to 1.5400e-02.\n"
     ]
    },
    {
     "name": "stderr",
     "output_type": "stream",
     "text": [
      "Test Epoch 13/200, Test Loss: 7.1079134507612745: 100%|██████████| 11/11 [00:00<00:00, 201.01it/s]\n",
      "Train Epoch 14/200, Train Loss: 0.0: 100%|██████████| 44/44 [00:00<00:00, 73.31it/s]\n"
     ]
    },
    {
     "name": "stdout",
     "output_type": "stream",
     "text": [
      "Adjusting learning rate of group 0 to 1.4630e-02.\n"
     ]
    },
    {
     "name": "stderr",
     "output_type": "stream",
     "text": [
      "Test Epoch 14/200, Test Loss: 7.105043552138588: 100%|██████████| 11/11 [00:00<00:00, 186.76it/s]\n",
      "Train Epoch 15/200, Train Loss: 0.0: 100%|██████████| 44/44 [00:00<00:00, 70.37it/s]\n"
     ]
    },
    {
     "name": "stdout",
     "output_type": "stream",
     "text": [
      "Adjusting learning rate of group 0 to 1.3899e-02.\n"
     ]
    },
    {
     "name": "stderr",
     "output_type": "stream",
     "text": [
      "Test Epoch 15/200, Test Loss: 7.102123813195662: 100%|██████████| 11/11 [00:00<00:00, 185.63it/s]\n",
      "Train Epoch 16/200, Train Loss: 0.0: 100%|██████████| 44/44 [00:00<00:00, 70.42it/s]\n"
     ]
    },
    {
     "name": "stdout",
     "output_type": "stream",
     "text": [
      "Adjusting learning rate of group 0 to 1.3204e-02.\n"
     ]
    },
    {
     "name": "stderr",
     "output_type": "stream",
     "text": [
      "Test Epoch 16/200, Test Loss: 7.100573431361806: 100%|██████████| 11/11 [00:00<00:00, 169.48it/s]\n",
      "Train Epoch 17/200, Train Loss: 0.0: 100%|██████████| 44/44 [00:00<00:00, 59.90it/s]\n"
     ]
    },
    {
     "name": "stdout",
     "output_type": "stream",
     "text": [
      "Adjusting learning rate of group 0 to 1.2544e-02.\n"
     ]
    },
    {
     "name": "stderr",
     "output_type": "stream",
     "text": [
      "Test Epoch 17/200, Test Loss: 7.098001740195534: 100%|██████████| 11/11 [00:00<00:00, 152.21it/s]\n",
      "Train Epoch 18/200, Train Loss: 0.0: 100%|██████████| 44/44 [00:00<00:00, 55.71it/s]\n"
     ]
    },
    {
     "name": "stdout",
     "output_type": "stream",
     "text": [
      "Adjusting learning rate of group 0 to 1.1916e-02.\n"
     ]
    },
    {
     "name": "stderr",
     "output_type": "stream",
     "text": [
      "Test Epoch 18/200, Test Loss: 7.095852299170061: 100%|██████████| 11/11 [00:00<00:00, 76.53it/s]\n",
      "Train Epoch 19/200, Train Loss: 0.0: 100%|██████████| 44/44 [00:01<00:00, 42.23it/s]\n"
     ]
    },
    {
     "name": "stdout",
     "output_type": "stream",
     "text": [
      "Adjusting learning rate of group 0 to 1.1321e-02.\n"
     ]
    },
    {
     "name": "stderr",
     "output_type": "stream",
     "text": [
      "Test Epoch 19/200, Test Loss: 7.093097665093162: 100%|██████████| 11/11 [00:00<00:00, 129.10it/s]\n",
      "Train Epoch 20/200, Train Loss: 0.0: 100%|██████████| 44/44 [00:00<00:00, 51.05it/s]\n"
     ]
    },
    {
     "name": "stdout",
     "output_type": "stream",
     "text": [
      "Adjusting learning rate of group 0 to 1.0755e-02.\n"
     ]
    },
    {
     "name": "stderr",
     "output_type": "stream",
     "text": [
      "Test Epoch 20/200, Test Loss: 7.091105656190352: 100%|██████████| 11/11 [00:00<00:00, 144.96it/s]\n",
      "Train Epoch 21/200, Train Loss: 0.0: 100%|██████████| 44/44 [00:00<00:00, 53.62it/s]\n"
     ]
    },
    {
     "name": "stdout",
     "output_type": "stream",
     "text": [
      "Adjusting learning rate of group 0 to 1.0217e-02.\n"
     ]
    },
    {
     "name": "stderr",
     "output_type": "stream",
     "text": [
      "Test Epoch 21/200, Test Loss: 7.088757027279247: 100%|██████████| 11/11 [00:00<00:00, 141.98it/s]\n",
      "Train Epoch 22/200, Train Loss: 0.0: 100%|██████████| 44/44 [00:00<00:00, 55.30it/s]\n"
     ]
    },
    {
     "name": "stdout",
     "output_type": "stream",
     "text": [
      "Adjusting learning rate of group 0 to 9.7060e-03.\n"
     ]
    },
    {
     "name": "stderr",
     "output_type": "stream",
     "text": [
      "Test Epoch 22/200, Test Loss: 7.087679115208712: 100%|██████████| 11/11 [00:00<00:00, 141.11it/s]\n",
      "Train Epoch 23/200, Train Loss: 0.0: 100%|██████████| 44/44 [00:00<00:00, 53.05it/s]\n"
     ]
    },
    {
     "name": "stdout",
     "output_type": "stream",
     "text": [
      "Adjusting learning rate of group 0 to 9.2207e-03.\n"
     ]
    },
    {
     "name": "stderr",
     "output_type": "stream",
     "text": [
      "Test Epoch 23/200, Test Loss: 7.085463220422918: 100%|██████████| 11/11 [00:00<00:00, 129.59it/s]\n",
      "Train Epoch 24/200, Train Loss: 0.0: 100%|██████████| 44/44 [00:00<00:00, 52.26it/s]\n"
     ]
    },
    {
     "name": "stdout",
     "output_type": "stream",
     "text": [
      "Adjusting learning rate of group 0 to 8.7597e-03.\n"
     ]
    },
    {
     "name": "stderr",
     "output_type": "stream",
     "text": [
      "Test Epoch 24/200, Test Loss: 7.08415861563249: 100%|██████████| 11/11 [00:00<00:00, 138.37it/s]\n",
      "Train Epoch 25/200, Train Loss: 0.0: 100%|██████████| 44/44 [00:00<00:00, 44.74it/s]\n"
     ]
    },
    {
     "name": "stdout",
     "output_type": "stream",
     "text": [
      "Adjusting learning rate of group 0 to 8.3217e-03.\n"
     ]
    },
    {
     "name": "stderr",
     "output_type": "stream",
     "text": [
      "Test Epoch 25/200, Test Loss: 7.082860133864663: 100%|██████████| 11/11 [00:00<00:00, 127.04it/s]\n",
      "Train Epoch 26/200, Train Loss: 0.0: 100%|██████████| 44/44 [00:00<00:00, 51.05it/s]\n"
     ]
    },
    {
     "name": "stdout",
     "output_type": "stream",
     "text": [
      "Adjusting learning rate of group 0 to 7.9056e-03.\n"
     ]
    },
    {
     "name": "stderr",
     "output_type": "stream",
     "text": [
      "Test Epoch 26/200, Test Loss: 7.0806308876384385: 100%|██████████| 11/11 [00:00<00:00, 146.06it/s]\n",
      "Train Epoch 27/200, Train Loss: 0.0: 100%|██████████| 44/44 [00:00<00:00, 55.06it/s]\n"
     ]
    },
    {
     "name": "stdout",
     "output_type": "stream",
     "text": [
      "Adjusting learning rate of group 0 to 7.5103e-03.\n"
     ]
    },
    {
     "name": "stderr",
     "output_type": "stream",
     "text": [
      "Test Epoch 27/200, Test Loss: 7.080106951973655: 100%|██████████| 11/11 [00:00<00:00, 132.33it/s]\n",
      "Train Epoch 28/200, Train Loss: 0.0: 100%|██████████| 44/44 [00:00<00:00, 53.38it/s]\n"
     ]
    },
    {
     "name": "stdout",
     "output_type": "stream",
     "text": [
      "Adjusting learning rate of group 0 to 7.1348e-03.\n"
     ]
    },
    {
     "name": "stderr",
     "output_type": "stream",
     "text": [
      "Test Epoch 28/200, Test Loss: 7.078518639911305: 100%|██████████| 11/11 [00:00<00:00, 140.84it/s]\n",
      "Train Epoch 29/200, Train Loss: 0.0: 100%|██████████| 44/44 [00:00<00:00, 52.76it/s]\n"
     ]
    },
    {
     "name": "stdout",
     "output_type": "stream",
     "text": [
      "Adjusting learning rate of group 0 to 6.7781e-03.\n"
     ]
    },
    {
     "name": "stderr",
     "output_type": "stream",
     "text": [
      "Test Epoch 29/200, Test Loss: 7.076323433355852: 100%|██████████| 11/11 [00:00<00:00, 130.98it/s]\n",
      "Train Epoch 30/200, Train Loss: 0.0: 100%|██████████| 44/44 [00:00<00:00, 51.68it/s]\n"
     ]
    },
    {
     "name": "stdout",
     "output_type": "stream",
     "text": [
      "Adjusting learning rate of group 0 to 6.4392e-03.\n"
     ]
    },
    {
     "name": "stderr",
     "output_type": "stream",
     "text": [
      "Test Epoch 30/200, Test Loss: 7.075344204902649: 100%|██████████| 11/11 [00:00<00:00, 137.46it/s]\n",
      "Train Epoch 31/200, Train Loss: 0.0: 100%|██████████| 44/44 [00:00<00:00, 54.13it/s]\n"
     ]
    },
    {
     "name": "stdout",
     "output_type": "stream",
     "text": [
      "Adjusting learning rate of group 0 to 6.1172e-03.\n"
     ]
    },
    {
     "name": "stderr",
     "output_type": "stream",
     "text": [
      "Test Epoch 31/200, Test Loss: 7.072767149318349: 100%|██████████| 11/11 [00:00<00:00, 96.73it/s]\n",
      "Train Epoch 32/200, Train Loss: 0.0: 100%|██████████| 44/44 [00:00<00:00, 46.30it/s]\n"
     ]
    },
    {
     "name": "stdout",
     "output_type": "stream",
     "text": [
      "Adjusting learning rate of group 0 to 5.8113e-03.\n"
     ]
    },
    {
     "name": "stderr",
     "output_type": "stream",
     "text": [
      "Test Epoch 32/200, Test Loss: 7.0732162757353345: 100%|██████████| 11/11 [00:00<00:00, 130.12it/s]\n",
      "Train Epoch 33/200, Train Loss: 0.0: 100%|██████████| 44/44 [00:00<00:00, 50.18it/s]\n"
     ]
    },
    {
     "name": "stdout",
     "output_type": "stream",
     "text": [
      "Adjusting learning rate of group 0 to 5.5208e-03.\n"
     ]
    },
    {
     "name": "stderr",
     "output_type": "stream",
     "text": [
      "Test Epoch 33/200, Test Loss: 7.071779684586958: 100%|██████████| 11/11 [00:00<00:00, 127.65it/s]\n",
      "Train Epoch 34/200, Train Loss: 0.0: 100%|██████████| 44/44 [00:00<00:00, 47.09it/s]\n"
     ]
    },
    {
     "name": "stdout",
     "output_type": "stream",
     "text": [
      "Adjusting learning rate of group 0 to 5.2447e-03.\n"
     ]
    },
    {
     "name": "stderr",
     "output_type": "stream",
     "text": [
      "Test Epoch 34/200, Test Loss: 7.071010632948442: 100%|██████████| 11/11 [00:00<00:00, 107.15it/s]\n",
      "Train Epoch 35/200, Train Loss: 0.0: 100%|██████████| 44/44 [00:01<00:00, 41.32it/s]\n"
     ]
    },
    {
     "name": "stdout",
     "output_type": "stream",
     "text": [
      "Adjusting learning rate of group 0 to 4.9825e-03.\n"
     ]
    },
    {
     "name": "stderr",
     "output_type": "stream",
     "text": [
      "Test Epoch 35/200, Test Loss: 7.069223967465487: 100%|██████████| 11/11 [00:00<00:00, 111.67it/s]\n",
      "Train Epoch 36/200, Train Loss: 0.0: 100%|██████████| 44/44 [00:00<00:00, 50.10it/s]\n"
     ]
    },
    {
     "name": "stdout",
     "output_type": "stream",
     "text": [
      "Adjusting learning rate of group 0 to 4.7334e-03.\n"
     ]
    },
    {
     "name": "stderr",
     "output_type": "stream",
     "text": [
      "Test Epoch 36/200, Test Loss: 7.068684686313976: 100%|██████████| 11/11 [00:00<00:00, 129.83it/s]\n",
      "Train Epoch 37/200, Train Loss: 0.0: 100%|██████████| 44/44 [00:00<00:00, 55.19it/s]\n"
     ]
    },
    {
     "name": "stdout",
     "output_type": "stream",
     "text": [
      "Adjusting learning rate of group 0 to 4.4967e-03.\n"
     ]
    },
    {
     "name": "stderr",
     "output_type": "stream",
     "text": [
      "Test Epoch 37/200, Test Loss: 7.0677912126887925: 100%|██████████| 11/11 [00:00<00:00, 142.22it/s]\n",
      "Train Epoch 38/200, Train Loss: 0.0: 100%|██████████| 44/44 [00:00<00:00, 47.36it/s]\n"
     ]
    },
    {
     "name": "stdout",
     "output_type": "stream",
     "text": [
      "Adjusting learning rate of group 0 to 4.2719e-03.\n"
     ]
    },
    {
     "name": "stderr",
     "output_type": "stream",
     "text": [
      "Test Epoch 38/200, Test Loss: 7.066858844323591: 100%|██████████| 11/11 [00:00<00:00, 102.60it/s]\n",
      "Train Epoch 39/200, Train Loss: 0.0: 100%|██████████| 44/44 [00:00<00:00, 44.94it/s]\n"
     ]
    },
    {
     "name": "stdout",
     "output_type": "stream",
     "text": [
      "Adjusting learning rate of group 0 to 4.0583e-03.\n"
     ]
    },
    {
     "name": "stderr",
     "output_type": "stream",
     "text": [
      "Test Epoch 39/200, Test Loss: 7.066744251684709: 100%|██████████| 11/11 [00:00<00:00, 83.19it/s]\n",
      "Train Epoch 40/200, Train Loss: 0.0: 100%|██████████| 44/44 [00:01<00:00, 40.52it/s]\n"
     ]
    },
    {
     "name": "stdout",
     "output_type": "stream",
     "text": [
      "Adjusting learning rate of group 0 to 3.8554e-03.\n"
     ]
    },
    {
     "name": "stderr",
     "output_type": "stream",
     "text": [
      "Test Epoch 40/200, Test Loss: 7.066011862321333: 100%|██████████| 11/11 [00:00<00:00, 129.38it/s]\n",
      "Train Epoch 41/200, Train Loss: 0.0: 100%|██████████| 44/44 [00:00<00:00, 54.82it/s]\n"
     ]
    },
    {
     "name": "stdout",
     "output_type": "stream",
     "text": [
      "Adjusting learning rate of group 0 to 3.6626e-03.\n"
     ]
    },
    {
     "name": "stderr",
     "output_type": "stream",
     "text": [
      "Test Epoch 41/200, Test Loss: 7.064780983057889: 100%|██████████| 11/11 [00:00<00:00, 146.99it/s]\n",
      "Train Epoch 42/200, Train Loss: 0.0: 100%|██████████| 44/44 [00:00<00:00, 56.99it/s]\n"
     ]
    },
    {
     "name": "stdout",
     "output_type": "stream",
     "text": [
      "Adjusting learning rate of group 0 to 3.4795e-03.\n"
     ]
    },
    {
     "name": "stderr",
     "output_type": "stream",
     "text": [
      "Test Epoch 42/200, Test Loss: 7.063192367553711: 100%|██████████| 11/11 [00:00<00:00, 143.04it/s]\n",
      "Train Epoch 43/200, Train Loss: 0.0: 100%|██████████| 44/44 [00:00<00:00, 55.55it/s]\n"
     ]
    },
    {
     "name": "stdout",
     "output_type": "stream",
     "text": [
      "Adjusting learning rate of group 0 to 3.3055e-03.\n"
     ]
    },
    {
     "name": "stderr",
     "output_type": "stream",
     "text": [
      "Test Epoch 43/200, Test Loss: 7.060970284722068: 100%|██████████| 11/11 [00:00<00:00, 145.35it/s]\n",
      "Train Epoch 44/200, Train Loss: 0.0: 100%|██████████| 44/44 [00:00<00:00, 47.07it/s]\n"
     ]
    },
    {
     "name": "stdout",
     "output_type": "stream",
     "text": [
      "Adjusting learning rate of group 0 to 3.1402e-03.\n"
     ]
    },
    {
     "name": "stderr",
     "output_type": "stream",
     "text": [
      "Test Epoch 44/200, Test Loss: 7.061610785397616: 100%|██████████| 11/11 [00:00<00:00, 105.47it/s]\n",
      "Train Epoch 45/200, Train Loss: 0.0: 100%|██████████| 44/44 [00:00<00:00, 49.55it/s]\n"
     ]
    },
    {
     "name": "stdout",
     "output_type": "stream",
     "text": [
      "Adjusting learning rate of group 0 to 2.9832e-03.\n"
     ]
    },
    {
     "name": "stderr",
     "output_type": "stream",
     "text": [
      "Test Epoch 45/200, Test Loss: 7.06153946573084: 100%|██████████| 11/11 [00:00<00:00, 131.62it/s]\n",
      "Train Epoch 46/200, Train Loss: 0.0: 100%|██████████| 44/44 [00:00<00:00, 51.47it/s]\n"
     ]
    },
    {
     "name": "stdout",
     "output_type": "stream",
     "text": [
      "Adjusting learning rate of group 0 to 2.8340e-03.\n"
     ]
    },
    {
     "name": "stderr",
     "output_type": "stream",
     "text": [
      "Test Epoch 46/200, Test Loss: 7.061076760292053: 100%|██████████| 11/11 [00:00<00:00, 145.87it/s]\n",
      "Train Epoch 47/200, Train Loss: 0.0: 100%|██████████| 44/44 [00:00<00:00, 54.97it/s]\n"
     ]
    },
    {
     "name": "stdout",
     "output_type": "stream",
     "text": [
      "Adjusting learning rate of group 0 to 2.6923e-03.\n"
     ]
    },
    {
     "name": "stderr",
     "output_type": "stream",
     "text": [
      "Test Epoch 47/200, Test Loss: 7.061032176017761: 100%|██████████| 11/11 [00:00<00:00, 141.10it/s]\n",
      "Train Epoch 48/200, Train Loss: 0.0: 100%|██████████| 44/44 [00:00<00:00, 50.45it/s]\n"
     ]
    },
    {
     "name": "stdout",
     "output_type": "stream",
     "text": [
      "Adjusting learning rate of group 0 to 2.5577e-03.\n"
     ]
    },
    {
     "name": "stderr",
     "output_type": "stream",
     "text": [
      "Test Epoch 48/200, Test Loss: 7.061235221949491: 100%|██████████| 11/11 [00:00<00:00, 103.48it/s]\n",
      "Train Epoch 49/200, Train Loss: 0.0: 100%|██████████| 44/44 [00:01<00:00, 33.21it/s]\n"
     ]
    },
    {
     "name": "stdout",
     "output_type": "stream",
     "text": [
      "Adjusting learning rate of group 0 to 2.4298e-03.\n"
     ]
    },
    {
     "name": "stderr",
     "output_type": "stream",
     "text": [
      "Test Epoch 49/200, Test Loss: 7.059188983657143: 100%|██████████| 11/11 [00:00<00:00, 103.99it/s]\n",
      "Train Epoch 50/200, Train Loss: 0.0: 100%|██████████| 44/44 [00:01<00:00, 36.11it/s]\n"
     ]
    },
    {
     "name": "stdout",
     "output_type": "stream",
     "text": [
      "Adjusting learning rate of group 0 to 2.3083e-03.\n"
     ]
    },
    {
     "name": "stderr",
     "output_type": "stream",
     "text": [
      "Test Epoch 50/200, Test Loss: 7.059865507212552: 100%|██████████| 11/11 [00:00<00:00, 100.15it/s]\n",
      "Train Epoch 51/200, Train Loss: 0.0: 100%|██████████| 44/44 [00:01<00:00, 42.21it/s]\n"
     ]
    },
    {
     "name": "stdout",
     "output_type": "stream",
     "text": [
      "Adjusting learning rate of group 0 to 2.1929e-03.\n"
     ]
    },
    {
     "name": "stderr",
     "output_type": "stream",
     "text": [
      "Test Epoch 51/200, Test Loss: 7.057873975146901: 100%|██████████| 11/11 [00:00<00:00, 130.80it/s]\n",
      "Train Epoch 52/200, Train Loss: 0.0: 100%|██████████| 44/44 [00:00<00:00, 56.86it/s]\n"
     ]
    },
    {
     "name": "stdout",
     "output_type": "stream",
     "text": [
      "Adjusting learning rate of group 0 to 2.0833e-03.\n"
     ]
    },
    {
     "name": "stderr",
     "output_type": "stream",
     "text": [
      "Test Epoch 52/200, Test Loss: 7.057922276583585: 100%|██████████| 11/11 [00:00<00:00, 152.69it/s]\n",
      "Train Epoch 53/200, Train Loss: 0.0: 100%|██████████| 44/44 [00:00<00:00, 58.01it/s]\n"
     ]
    },
    {
     "name": "stdout",
     "output_type": "stream",
     "text": [
      "Adjusting learning rate of group 0 to 1.9791e-03.\n"
     ]
    },
    {
     "name": "stderr",
     "output_type": "stream",
     "text": [
      "Test Epoch 53/200, Test Loss: 7.056826786561445: 100%|██████████| 11/11 [00:00<00:00, 152.08it/s]\n",
      "Train Epoch 54/200, Train Loss: 0.0: 100%|██████████| 44/44 [00:00<00:00, 58.11it/s]\n"
     ]
    },
    {
     "name": "stdout",
     "output_type": "stream",
     "text": [
      "Adjusting learning rate of group 0 to 1.8802e-03.\n"
     ]
    },
    {
     "name": "stderr",
     "output_type": "stream",
     "text": [
      "Test Epoch 54/200, Test Loss: 7.057461207563227: 100%|██████████| 11/11 [00:00<00:00, 137.97it/s]\n",
      "Train Epoch 55/200, Train Loss: 0.0: 100%|██████████| 44/44 [00:00<00:00, 50.49it/s]\n"
     ]
    },
    {
     "name": "stdout",
     "output_type": "stream",
     "text": [
      "Adjusting learning rate of group 0 to 1.7862e-03.\n"
     ]
    },
    {
     "name": "stderr",
     "output_type": "stream",
     "text": [
      "Test Epoch 55/200, Test Loss: 7.05700386654247: 100%|██████████| 11/11 [00:00<00:00, 102.27it/s]\n",
      "Train Epoch 56/200, Train Loss: 0.0: 100%|██████████| 44/44 [00:01<00:00, 28.89it/s]\n"
     ]
    },
    {
     "name": "stdout",
     "output_type": "stream",
     "text": [
      "Adjusting learning rate of group 0 to 1.6968e-03.\n"
     ]
    },
    {
     "name": "stderr",
     "output_type": "stream",
     "text": [
      "Test Epoch 56/200, Test Loss: 7.056961688128385: 100%|██████████| 11/11 [00:00<00:00, 97.34it/s]\n",
      "Train Epoch 57/200, Train Loss: 0.0: 100%|██████████| 44/44 [00:01<00:00, 40.26it/s]\n"
     ]
    },
    {
     "name": "stdout",
     "output_type": "stream",
     "text": [
      "Adjusting learning rate of group 0 to 1.6120e-03.\n"
     ]
    },
    {
     "name": "stderr",
     "output_type": "stream",
     "text": [
      "Test Epoch 57/200, Test Loss: 7.0547370152039965: 100%|██████████| 11/11 [00:00<00:00, 130.49it/s]\n",
      "Train Epoch 58/200, Train Loss: 0.0: 100%|██████████| 44/44 [00:01<00:00, 43.08it/s]\n"
     ]
    },
    {
     "name": "stdout",
     "output_type": "stream",
     "text": [
      "Adjusting learning rate of group 0 to 1.5314e-03.\n"
     ]
    },
    {
     "name": "stderr",
     "output_type": "stream",
     "text": [
      "Test Epoch 58/200, Test Loss: 7.05624538118189: 100%|██████████| 11/11 [00:00<00:00, 89.08it/s]\n",
      "Train Epoch 59/200, Train Loss: 0.0: 100%|██████████| 44/44 [00:01<00:00, 34.26it/s]\n"
     ]
    },
    {
     "name": "stdout",
     "output_type": "stream",
     "text": [
      "Adjusting learning rate of group 0 to 1.4548e-03.\n"
     ]
    },
    {
     "name": "stderr",
     "output_type": "stream",
     "text": [
      "Test Epoch 59/200, Test Loss: 7.056672995740717: 100%|██████████| 11/11 [00:00<00:00, 48.99it/s]\n",
      "Train Epoch 60/200, Train Loss: 0.0: 100%|██████████| 44/44 [00:01<00:00, 39.72it/s]\n"
     ]
    },
    {
     "name": "stdout",
     "output_type": "stream",
     "text": [
      "Adjusting learning rate of group 0 to 1.3821e-03.\n"
     ]
    },
    {
     "name": "stderr",
     "output_type": "stream",
     "text": [
      "Test Epoch 60/200, Test Loss: 7.055747682398016: 100%|██████████| 11/11 [00:00<00:00, 97.40it/s]\n",
      "Train Epoch 61/200, Train Loss: 0.0: 100%|██████████| 44/44 [00:01<00:00, 40.87it/s]\n"
     ]
    },
    {
     "name": "stdout",
     "output_type": "stream",
     "text": [
      "Adjusting learning rate of group 0 to 1.3130e-03.\n"
     ]
    },
    {
     "name": "stderr",
     "output_type": "stream",
     "text": [
      "Test Epoch 61/200, Test Loss: 7.054244594140486: 100%|██████████| 11/11 [00:00<00:00, 96.07it/s]\n",
      "Train Epoch 62/200, Train Loss: 0.0: 100%|██████████| 44/44 [00:01<00:00, 40.41it/s]\n"
     ]
    },
    {
     "name": "stdout",
     "output_type": "stream",
     "text": [
      "Adjusting learning rate of group 0 to 1.2473e-03.\n"
     ]
    },
    {
     "name": "stderr",
     "output_type": "stream",
     "text": [
      "Test Epoch 62/200, Test Loss: 7.055524728514931: 100%|██████████| 11/11 [00:00<00:00, 100.13it/s]\n",
      "Train Epoch 63/200, Train Loss: 0.0: 100%|██████████| 44/44 [00:01<00:00, 43.63it/s]\n"
     ]
    },
    {
     "name": "stdout",
     "output_type": "stream",
     "text": [
      "Adjusting learning rate of group 0 to 1.1850e-03.\n"
     ]
    },
    {
     "name": "stderr",
     "output_type": "stream",
     "text": [
      "Test Epoch 63/200, Test Loss: 7.054402925751426: 100%|██████████| 11/11 [00:00<00:00, 103.08it/s]\n",
      "Train Epoch 64/200, Train Loss: 0.0: 100%|██████████| 44/44 [00:00<00:00, 44.73it/s]\n"
     ]
    },
    {
     "name": "stdout",
     "output_type": "stream",
     "text": [
      "Adjusting learning rate of group 0 to 1.1257e-03.\n"
     ]
    },
    {
     "name": "stderr",
     "output_type": "stream",
     "text": [
      "Test Epoch 64/200, Test Loss: 7.053662538528442: 100%|██████████| 11/11 [00:00<00:00, 99.62it/s] \n",
      "Train Epoch 65/200, Train Loss: 0.0: 100%|██████████| 44/44 [00:00<00:00, 45.73it/s]\n"
     ]
    },
    {
     "name": "stdout",
     "output_type": "stream",
     "text": [
      "Adjusting learning rate of group 0 to 1.0694e-03.\n"
     ]
    },
    {
     "name": "stderr",
     "output_type": "stream",
     "text": [
      "Test Epoch 65/200, Test Loss: 7.053413792089983: 100%|██████████| 11/11 [00:00<00:00, 104.61it/s]\n",
      "Train Epoch 66/200, Train Loss: 0.0: 100%|██████████| 44/44 [00:01<00:00, 40.56it/s]\n"
     ]
    },
    {
     "name": "stdout",
     "output_type": "stream",
     "text": [
      "Adjusting learning rate of group 0 to 1.0160e-03.\n"
     ]
    },
    {
     "name": "stderr",
     "output_type": "stream",
     "text": [
      "Test Epoch 66/200, Test Loss: 7.054020361466841: 100%|██████████| 11/11 [00:00<00:00, 89.29it/s]\n",
      "Train Epoch 67/200, Train Loss: 0.0: 100%|██████████| 44/44 [00:01<00:00, 39.60it/s]\n"
     ]
    },
    {
     "name": "stdout",
     "output_type": "stream",
     "text": [
      "Adjusting learning rate of group 0 to 9.6517e-04.\n"
     ]
    },
    {
     "name": "stderr",
     "output_type": "stream",
     "text": [
      "Test Epoch 67/200, Test Loss: 7.054442850026217: 100%|██████████| 11/11 [00:00<00:00, 84.11it/s]\n",
      "Train Epoch 68/200, Train Loss: 0.0: 100%|██████████| 44/44 [00:01<00:00, 40.49it/s]\n"
     ]
    },
    {
     "name": "stdout",
     "output_type": "stream",
     "text": [
      "Adjusting learning rate of group 0 to 9.1691e-04.\n"
     ]
    },
    {
     "name": "stderr",
     "output_type": "stream",
     "text": [
      "Test Epoch 68/200, Test Loss: 7.052263108166781: 100%|██████████| 11/11 [00:00<00:00, 101.99it/s]\n",
      "Train Epoch 69/200, Train Loss: 0.0: 100%|██████████| 44/44 [00:00<00:00, 44.61it/s]\n"
     ]
    },
    {
     "name": "stdout",
     "output_type": "stream",
     "text": [
      "Adjusting learning rate of group 0 to 8.7106e-04.\n"
     ]
    },
    {
     "name": "stderr",
     "output_type": "stream",
     "text": [
      "Test Epoch 69/200, Test Loss: 7.0529221513054585: 100%|██████████| 11/11 [00:00<00:00, 101.81it/s]\n",
      "Train Epoch 70/200, Train Loss: 0.0: 100%|██████████| 44/44 [00:01<00:00, 43.23it/s]\n"
     ]
    },
    {
     "name": "stdout",
     "output_type": "stream",
     "text": [
      "Adjusting learning rate of group 0 to 8.2751e-04.\n"
     ]
    },
    {
     "name": "stderr",
     "output_type": "stream",
     "text": [
      "Test Epoch 70/200, Test Loss: 7.051345109939575: 100%|██████████| 11/11 [00:00<00:00, 92.45it/s]\n",
      "Train Epoch 71/200, Train Loss: 0.0: 100%|██████████| 44/44 [00:01<00:00, 38.97it/s]\n"
     ]
    },
    {
     "name": "stdout",
     "output_type": "stream",
     "text": [
      "Adjusting learning rate of group 0 to 7.8614e-04.\n"
     ]
    },
    {
     "name": "stderr",
     "output_type": "stream",
     "text": [
      "Test Epoch 71/200, Test Loss: 7.051538348197937: 100%|██████████| 11/11 [00:00<00:00, 96.89it/s]\n",
      "Train Epoch 72/200, Train Loss: 0.0: 100%|██████████| 44/44 [00:01<00:00, 42.12it/s]\n"
     ]
    },
    {
     "name": "stdout",
     "output_type": "stream",
     "text": [
      "Adjusting learning rate of group 0 to 7.4683e-04.\n"
     ]
    },
    {
     "name": "stderr",
     "output_type": "stream",
     "text": [
      "Test Epoch 72/200, Test Loss: 7.0523294752294365: 100%|██████████| 11/11 [00:00<00:00, 100.50it/s]\n",
      "Train Epoch 73/200, Train Loss: 0.0: 100%|██████████| 44/44 [00:00<00:00, 45.57it/s]\n"
     ]
    },
    {
     "name": "stdout",
     "output_type": "stream",
     "text": [
      "Adjusting learning rate of group 0 to 7.0949e-04.\n"
     ]
    },
    {
     "name": "stderr",
     "output_type": "stream",
     "text": [
      "Test Epoch 73/200, Test Loss: 7.051688096740029: 100%|██████████| 11/11 [00:00<00:00, 103.14it/s]\n",
      "Train Epoch 74/200, Train Loss: 0.0: 100%|██████████| 44/44 [00:00<00:00, 45.32it/s]\n"
     ]
    },
    {
     "name": "stdout",
     "output_type": "stream",
     "text": [
      "Adjusting learning rate of group 0 to 6.7401e-04.\n"
     ]
    },
    {
     "name": "stderr",
     "output_type": "stream",
     "text": [
      "Test Epoch 74/200, Test Loss: 7.051770827986977: 100%|██████████| 11/11 [00:00<00:00, 72.61it/s]\n",
      "Train Epoch 75/200, Train Loss: 0.0: 100%|██████████| 44/44 [00:01<00:00, 39.60it/s]\n"
     ]
    },
    {
     "name": "stdout",
     "output_type": "stream",
     "text": [
      "Adjusting learning rate of group 0 to 6.4031e-04.\n"
     ]
    },
    {
     "name": "stderr",
     "output_type": "stream",
     "text": [
      "Test Epoch 75/200, Test Loss: 7.053267381407998: 100%|██████████| 11/11 [00:00<00:00, 97.59it/s]\n",
      "Train Epoch 76/200, Train Loss: 0.0: 100%|██████████| 44/44 [00:01<00:00, 39.80it/s]\n"
     ]
    },
    {
     "name": "stdout",
     "output_type": "stream",
     "text": [
      "Adjusting learning rate of group 0 to 6.0830e-04.\n"
     ]
    },
    {
     "name": "stderr",
     "output_type": "stream",
     "text": [
      "Test Epoch 76/200, Test Loss: 7.052716179327532: 100%|██████████| 11/11 [00:00<00:00, 97.80it/s]\n",
      "Train Epoch 77/200, Train Loss: 0.0: 100%|██████████| 44/44 [00:00<00:00, 44.98it/s]\n"
     ]
    },
    {
     "name": "stdout",
     "output_type": "stream",
     "text": [
      "Adjusting learning rate of group 0 to 5.7788e-04.\n"
     ]
    },
    {
     "name": "stderr",
     "output_type": "stream",
     "text": [
      "Test Epoch 77/200, Test Loss: 7.051099527965892: 100%|██████████| 11/11 [00:00<00:00, 114.15it/s]\n",
      "Train Epoch 78/200, Train Loss: 0.0: 100%|██████████| 44/44 [00:01<00:00, 35.64it/s]\n"
     ]
    },
    {
     "name": "stdout",
     "output_type": "stream",
     "text": [
      "Adjusting learning rate of group 0 to 5.4899e-04.\n"
     ]
    },
    {
     "name": "stderr",
     "output_type": "stream",
     "text": [
      "Test Epoch 78/200, Test Loss: 7.05204037102786: 100%|██████████| 11/11 [00:00<00:00, 97.69it/s]\n",
      "Train Epoch 79/200, Train Loss: 0.0: 100%|██████████| 44/44 [00:01<00:00, 37.48it/s]\n"
     ]
    },
    {
     "name": "stdout",
     "output_type": "stream",
     "text": [
      "Adjusting learning rate of group 0 to 5.2154e-04.\n"
     ]
    },
    {
     "name": "stderr",
     "output_type": "stream",
     "text": [
      "Test Epoch 79/200, Test Loss: 7.051338000731035: 100%|██████████| 11/11 [00:00<00:00, 99.53it/s] \n",
      "Train Epoch 80/200, Train Loss: 0.0: 100%|██████████| 44/44 [00:01<00:00, 42.49it/s]\n"
     ]
    },
    {
     "name": "stdout",
     "output_type": "stream",
     "text": [
      "Adjusting learning rate of group 0 to 4.9546e-04.\n"
     ]
    },
    {
     "name": "stderr",
     "output_type": "stream",
     "text": [
      "Test Epoch 80/200, Test Loss: 7.050766489722512: 100%|██████████| 11/11 [00:00<00:00, 99.51it/s] \n",
      "Train Epoch 81/200, Train Loss: 0.0: 100%|██████████| 44/44 [00:00<00:00, 44.67it/s]\n"
     ]
    },
    {
     "name": "stdout",
     "output_type": "stream",
     "text": [
      "Adjusting learning rate of group 0 to 4.7069e-04.\n"
     ]
    },
    {
     "name": "stderr",
     "output_type": "stream",
     "text": [
      "Test Epoch 81/200, Test Loss: 7.050910364497792: 100%|██████████| 11/11 [00:00<00:00, 102.62it/s]\n",
      "Train Epoch 82/200, Train Loss: 0.0: 100%|██████████| 44/44 [00:00<00:00, 44.67it/s]\n"
     ]
    },
    {
     "name": "stdout",
     "output_type": "stream",
     "text": [
      "Adjusting learning rate of group 0 to 4.4715e-04.\n"
     ]
    },
    {
     "name": "stderr",
     "output_type": "stream",
     "text": [
      "Test Epoch 82/200, Test Loss: 7.050294410098683: 100%|██████████| 11/11 [00:00<00:00, 97.11it/s]\n",
      "Train Epoch 83/200, Train Loss: 0.0: 100%|██████████| 44/44 [00:01<00:00, 40.90it/s]\n"
     ]
    },
    {
     "name": "stdout",
     "output_type": "stream",
     "text": [
      "Adjusting learning rate of group 0 to 4.2480e-04.\n"
     ]
    },
    {
     "name": "stderr",
     "output_type": "stream",
     "text": [
      "Test Epoch 83/200, Test Loss: 7.051786975427107: 100%|██████████| 11/11 [00:00<00:00, 86.13it/s]\n",
      "Train Epoch 84/200, Train Loss: 0.0: 100%|██████████| 44/44 [00:01<00:00, 39.10it/s]\n"
     ]
    },
    {
     "name": "stdout",
     "output_type": "stream",
     "text": [
      "Adjusting learning rate of group 0 to 4.0356e-04.\n"
     ]
    },
    {
     "name": "stderr",
     "output_type": "stream",
     "text": [
      "Test Epoch 84/200, Test Loss: 7.050263957543806: 100%|██████████| 11/11 [00:00<00:00, 97.57it/s]\n",
      "Train Epoch 85/200, Train Loss: 0.0: 100%|██████████| 44/44 [00:01<00:00, 40.18it/s]\n"
     ]
    },
    {
     "name": "stdout",
     "output_type": "stream",
     "text": [
      "Adjusting learning rate of group 0 to 3.8338e-04.\n"
     ]
    },
    {
     "name": "stderr",
     "output_type": "stream",
     "text": [
      "Test Epoch 85/200, Test Loss: 7.05105873671445: 100%|██████████| 11/11 [00:00<00:00, 97.55it/s]\n",
      "Train Epoch 86/200, Train Loss: 0.0: 100%|██████████| 44/44 [00:00<00:00, 45.06it/s]\n"
     ]
    },
    {
     "name": "stdout",
     "output_type": "stream",
     "text": [
      "Adjusting learning rate of group 0 to 3.6421e-04.\n"
     ]
    },
    {
     "name": "stderr",
     "output_type": "stream",
     "text": [
      "Test Epoch 86/200, Test Loss: 7.050427751107649: 100%|██████████| 11/11 [00:00<00:00, 96.31it/s]\n",
      "Train Epoch 87/200, Train Loss: 0.0: 100%|██████████| 44/44 [00:01<00:00, 43.15it/s]\n"
     ]
    },
    {
     "name": "stdout",
     "output_type": "stream",
     "text": [
      "Adjusting learning rate of group 0 to 3.4600e-04.\n"
     ]
    },
    {
     "name": "stderr",
     "output_type": "stream",
     "text": [
      "Test Epoch 87/200, Test Loss: 7.050839608365839: 100%|██████████| 11/11 [00:00<00:00, 84.42it/s]\n",
      "Train Epoch 88/200, Train Loss: 0.0: 100%|██████████| 44/44 [00:01<00:00, 38.09it/s]\n"
     ]
    },
    {
     "name": "stdout",
     "output_type": "stream",
     "text": [
      "Adjusting learning rate of group 0 to 3.2870e-04.\n"
     ]
    },
    {
     "name": "stderr",
     "output_type": "stream",
     "text": [
      "Test Epoch 88/200, Test Loss: 7.049622297286987: 100%|██████████| 11/11 [00:00<00:00, 98.23it/s]\n",
      "Train Epoch 89/200, Train Loss: 0.0: 100%|██████████| 44/44 [00:01<00:00, 41.27it/s]\n"
     ]
    },
    {
     "name": "stdout",
     "output_type": "stream",
     "text": [
      "Adjusting learning rate of group 0 to 3.1226e-04.\n"
     ]
    },
    {
     "name": "stderr",
     "output_type": "stream",
     "text": [
      "Test Epoch 89/200, Test Loss: 7.050933469425548: 100%|██████████| 11/11 [00:00<00:00, 102.31it/s]\n",
      "Train Epoch 90/200, Train Loss: 0.0: 100%|██████████| 44/44 [00:01<00:00, 40.60it/s]\n"
     ]
    },
    {
     "name": "stdout",
     "output_type": "stream",
     "text": [
      "Adjusting learning rate of group 0 to 2.9665e-04.\n"
     ]
    },
    {
     "name": "stderr",
     "output_type": "stream",
     "text": [
      "Test Epoch 90/200, Test Loss: 7.0496657111428: 100%|██████████| 11/11 [00:00<00:00, 97.88it/s]\n",
      "Train Epoch 91/200, Train Loss: 0.0: 100%|██████████| 44/44 [00:01<00:00, 38.25it/s]\n"
     ]
    },
    {
     "name": "stdout",
     "output_type": "stream",
     "text": [
      "Adjusting learning rate of group 0 to 2.8182e-04.\n"
     ]
    },
    {
     "name": "stderr",
     "output_type": "stream",
     "text": [
      "Test Epoch 91/200, Test Loss: 7.050219665874135: 100%|██████████| 11/11 [00:00<00:00, 34.90it/s]\n",
      "Train Epoch 92/200, Train Loss: 0.0: 100%|██████████| 44/44 [00:01<00:00, 36.85it/s]\n"
     ]
    },
    {
     "name": "stdout",
     "output_type": "stream",
     "text": [
      "Adjusting learning rate of group 0 to 2.6773e-04.\n"
     ]
    },
    {
     "name": "stderr",
     "output_type": "stream",
     "text": [
      "Test Epoch 92/200, Test Loss: 7.04939831386913: 100%|██████████| 11/11 [00:00<00:00, 99.03it/s] \n",
      "Train Epoch 93/200, Train Loss: 0.0: 100%|██████████| 44/44 [00:01<00:00, 43.26it/s]\n"
     ]
    },
    {
     "name": "stdout",
     "output_type": "stream",
     "text": [
      "Adjusting learning rate of group 0 to 2.5434e-04.\n"
     ]
    },
    {
     "name": "stderr",
     "output_type": "stream",
     "text": [
      "Test Epoch 93/200, Test Loss: 7.049421949820085: 100%|██████████| 11/11 [00:00<00:00, 96.84it/s]\n",
      "Train Epoch 94/200, Train Loss: 0.0: 100%|██████████| 44/44 [00:00<00:00, 44.13it/s]\n"
     ]
    },
    {
     "name": "stdout",
     "output_type": "stream",
     "text": [
      "Adjusting learning rate of group 0 to 2.4162e-04.\n"
     ]
    },
    {
     "name": "stderr",
     "output_type": "stream",
     "text": [
      "Test Epoch 94/200, Test Loss: 7.049821550195867: 100%|██████████| 11/11 [00:00<00:00, 114.76it/s]\n",
      "Train Epoch 95/200, Train Loss: 0.0: 100%|██████████| 44/44 [00:00<00:00, 46.74it/s]\n"
     ]
    },
    {
     "name": "stdout",
     "output_type": "stream",
     "text": [
      "Adjusting learning rate of group 0 to 2.2954e-04.\n"
     ]
    },
    {
     "name": "stderr",
     "output_type": "stream",
     "text": [
      "Test Epoch 95/200, Test Loss: 7.049048499627546: 100%|██████████| 11/11 [00:00<00:00, 99.95it/s] \n",
      "Train Epoch 96/200, Train Loss: 0.0: 100%|██████████| 44/44 [00:01<00:00, 39.59it/s]\n"
     ]
    },
    {
     "name": "stdout",
     "output_type": "stream",
     "text": [
      "Adjusting learning rate of group 0 to 2.1807e-04.\n"
     ]
    },
    {
     "name": "stderr",
     "output_type": "stream",
     "text": [
      "Test Epoch 96/200, Test Loss: 7.048527034846219: 100%|██████████| 11/11 [00:00<00:00, 96.55it/s]\n",
      "Train Epoch 97/200, Train Loss: 0.0: 100%|██████████| 44/44 [00:01<00:00, 40.30it/s]\n"
     ]
    },
    {
     "name": "stdout",
     "output_type": "stream",
     "text": [
      "Adjusting learning rate of group 0 to 2.0716e-04.\n"
     ]
    },
    {
     "name": "stderr",
     "output_type": "stream",
     "text": [
      "Test Epoch 97/200, Test Loss: 7.04885010285811: 100%|██████████| 11/11 [00:00<00:00, 103.22it/s]\n",
      "Train Epoch 98/200, Train Loss: 0.0: 100%|██████████| 44/44 [00:01<00:00, 33.10it/s]\n"
     ]
    },
    {
     "name": "stdout",
     "output_type": "stream",
     "text": [
      "Adjusting learning rate of group 0 to 1.9680e-04.\n"
     ]
    },
    {
     "name": "stderr",
     "output_type": "stream",
     "text": [
      "Test Epoch 98/200, Test Loss: 7.049697323278948: 100%|██████████| 11/11 [00:00<00:00, 85.76it/s]\n",
      "Train Epoch 99/200, Train Loss: 0.0: 100%|██████████| 44/44 [00:01<00:00, 39.84it/s]\n"
     ]
    },
    {
     "name": "stdout",
     "output_type": "stream",
     "text": [
      "Adjusting learning rate of group 0 to 1.8696e-04.\n"
     ]
    },
    {
     "name": "stderr",
     "output_type": "stream",
     "text": [
      "Test Epoch 99/200, Test Loss: 7.051200931722468: 100%|██████████| 11/11 [00:00<00:00, 101.71it/s]\n",
      "Train Epoch 100/200, Train Loss: 0.0: 100%|██████████| 44/44 [00:01<00:00, 25.68it/s]\n"
     ]
    },
    {
     "name": "stdout",
     "output_type": "stream",
     "text": [
      "Adjusting learning rate of group 0 to 1.7762e-04.\n"
     ]
    },
    {
     "name": "stderr",
     "output_type": "stream",
     "text": [
      "Test Epoch 100/200, Test Loss: 7.050228053873235: 100%|██████████| 11/11 [00:00<00:00, 51.87it/s]\n",
      "Train Epoch 101/200, Train Loss: 0.0: 100%|██████████| 44/44 [00:01<00:00, 31.06it/s]\n"
     ]
    },
    {
     "name": "stdout",
     "output_type": "stream",
     "text": [
      "Adjusting learning rate of group 0 to 1.6874e-04.\n"
     ]
    },
    {
     "name": "stderr",
     "output_type": "stream",
     "text": [
      "Test Epoch 101/200, Test Loss: 7.050503568215803: 100%|██████████| 11/11 [00:00<00:00, 74.22it/s]\n",
      "Train Epoch 102/200, Train Loss: 0.0: 100%|██████████| 44/44 [00:01<00:00, 37.87it/s]\n"
     ]
    },
    {
     "name": "stdout",
     "output_type": "stream",
     "text": [
      "Adjusting learning rate of group 0 to 1.6030e-04.\n"
     ]
    },
    {
     "name": "stderr",
     "output_type": "stream",
     "text": [
      "Test Epoch 102/200, Test Loss: 7.050187566063621: 100%|██████████| 11/11 [00:00<00:00, 98.06it/s]\n",
      "Train Epoch 103/200, Train Loss: 0.0: 100%|██████████| 44/44 [00:01<00:00, 37.45it/s]\n"
     ]
    },
    {
     "name": "stdout",
     "output_type": "stream",
     "text": [
      "Adjusting learning rate of group 0 to 1.5228e-04.\n"
     ]
    },
    {
     "name": "stderr",
     "output_type": "stream",
     "text": [
      "Test Epoch 103/200, Test Loss: 7.049474835395813: 100%|██████████| 11/11 [00:00<00:00, 111.38it/s]\n",
      "Train Epoch 104/200, Train Loss: 0.0: 100%|██████████| 44/44 [00:00<00:00, 49.96it/s]\n"
     ]
    },
    {
     "name": "stdout",
     "output_type": "stream",
     "text": [
      "Adjusting learning rate of group 0 to 1.4467e-04.\n"
     ]
    },
    {
     "name": "stderr",
     "output_type": "stream",
     "text": [
      "Test Epoch 104/200, Test Loss: 7.051119923591614: 100%|██████████| 11/11 [00:00<00:00, 126.44it/s]\n",
      "Train Epoch 105/200, Train Loss: 0.0: 100%|██████████| 44/44 [00:00<00:00, 49.82it/s]\n"
     ]
    },
    {
     "name": "stdout",
     "output_type": "stream",
     "text": [
      "Adjusting learning rate of group 0 to 1.3744e-04.\n"
     ]
    },
    {
     "name": "stderr",
     "output_type": "stream",
     "text": [
      "Test Epoch 105/200, Test Loss: 7.0488047057932075: 100%|██████████| 11/11 [00:00<00:00, 79.02it/s]\n",
      "Train Epoch 106/200, Train Loss: 0.0: 100%|██████████| 44/44 [00:01<00:00, 44.00it/s]\n"
     ]
    },
    {
     "name": "stdout",
     "output_type": "stream",
     "text": [
      "Adjusting learning rate of group 0 to 1.3056e-04.\n"
     ]
    },
    {
     "name": "stderr",
     "output_type": "stream",
     "text": [
      "Test Epoch 106/200, Test Loss: 7.049368923360651: 100%|██████████| 11/11 [00:00<00:00, 127.38it/s]\n",
      "Train Epoch 107/200, Train Loss: 0.0: 100%|██████████| 44/44 [00:00<00:00, 47.26it/s]\n"
     ]
    },
    {
     "name": "stdout",
     "output_type": "stream",
     "text": [
      "Adjusting learning rate of group 0 to 1.2404e-04.\n"
     ]
    },
    {
     "name": "stderr",
     "output_type": "stream",
     "text": [
      "Test Epoch 107/200, Test Loss: 7.049714608625933: 100%|██████████| 11/11 [00:00<00:00, 97.90it/s]\n",
      "Train Epoch 108/200, Train Loss: 0.0: 100%|██████████| 44/44 [00:00<00:00, 45.86it/s]\n"
     ]
    },
    {
     "name": "stdout",
     "output_type": "stream",
     "text": [
      "Adjusting learning rate of group 0 to 1.1783e-04.\n"
     ]
    },
    {
     "name": "stderr",
     "output_type": "stream",
     "text": [
      "Test Epoch 108/200, Test Loss: 7.049504128369418: 100%|██████████| 11/11 [00:00<00:00, 103.95it/s]\n",
      "Train Epoch 109/200, Train Loss: 0.0: 100%|██████████| 44/44 [00:01<00:00, 41.69it/s]\n"
     ]
    },
    {
     "name": "stdout",
     "output_type": "stream",
     "text": [
      "Adjusting learning rate of group 0 to 1.1194e-04.\n"
     ]
    },
    {
     "name": "stderr",
     "output_type": "stream",
     "text": [
      "Test Epoch 109/200, Test Loss: 7.049925446510315: 100%|██████████| 11/11 [00:00<00:00, 96.85it/s]\n",
      "Train Epoch 110/200, Train Loss: 0.0: 100%|██████████| 44/44 [00:01<00:00, 25.49it/s]\n"
     ]
    },
    {
     "name": "stdout",
     "output_type": "stream",
     "text": [
      "Adjusting learning rate of group 0 to 1.0635e-04.\n"
     ]
    },
    {
     "name": "stderr",
     "output_type": "stream",
     "text": [
      "Test Epoch 110/200, Test Loss: 7.049752831459045: 100%|██████████| 11/11 [00:00<00:00, 74.72it/s]\n",
      "Train Epoch 111/200, Train Loss: 0.0: 100%|██████████| 44/44 [00:01<00:00, 30.30it/s]\n"
     ]
    },
    {
     "name": "stdout",
     "output_type": "stream",
     "text": [
      "Adjusting learning rate of group 0 to 1.0103e-04.\n"
     ]
    },
    {
     "name": "stderr",
     "output_type": "stream",
     "text": [
      "Test Epoch 111/200, Test Loss: 7.048352339050987: 100%|██████████| 11/11 [00:00<00:00, 75.91it/s]\n",
      "Train Epoch 112/200, Train Loss: 0.0: 100%|██████████| 44/44 [00:01<00:00, 38.90it/s]\n"
     ]
    },
    {
     "name": "stdout",
     "output_type": "stream",
     "text": [
      "Adjusting learning rate of group 0 to 9.5977e-05.\n"
     ]
    },
    {
     "name": "stderr",
     "output_type": "stream",
     "text": [
      "Test Epoch 112/200, Test Loss: 7.049137158827349: 100%|██████████| 11/11 [00:00<00:00, 90.97it/s]\n",
      "Train Epoch 113/200, Train Loss: 0.0: 100%|██████████| 44/44 [00:01<00:00, 37.33it/s]\n"
     ]
    },
    {
     "name": "stdout",
     "output_type": "stream",
     "text": [
      "Adjusting learning rate of group 0 to 9.1178e-05.\n"
     ]
    },
    {
     "name": "stderr",
     "output_type": "stream",
     "text": [
      "Test Epoch 113/200, Test Loss: 7.04902073470029: 100%|██████████| 11/11 [00:00<00:00, 92.83it/s]\n",
      "Train Epoch 114/200, Train Loss: 0.0: 100%|██████████| 44/44 [00:01<00:00, 36.25it/s]\n"
     ]
    },
    {
     "name": "stdout",
     "output_type": "stream",
     "text": [
      "Adjusting learning rate of group 0 to 8.6619e-05.\n"
     ]
    },
    {
     "name": "stderr",
     "output_type": "stream",
     "text": [
      "Test Epoch 114/200, Test Loss: 7.0481579737229785: 100%|██████████| 11/11 [00:00<00:00, 102.62it/s]\n",
      "Train Epoch 115/200, Train Loss: 0.0: 100%|██████████| 44/44 [00:01<00:00, 39.80it/s]\n"
     ]
    },
    {
     "name": "stdout",
     "output_type": "stream",
     "text": [
      "Adjusting learning rate of group 0 to 8.2288e-05.\n"
     ]
    },
    {
     "name": "stderr",
     "output_type": "stream",
     "text": [
      "Test Epoch 115/200, Test Loss: 7.0501027649099175: 100%|██████████| 11/11 [00:00<00:00, 99.81it/s] \n",
      "Train Epoch 116/200, Train Loss: 0.0: 100%|██████████| 44/44 [00:01<00:00, 36.43it/s]\n"
     ]
    },
    {
     "name": "stdout",
     "output_type": "stream",
     "text": [
      "Adjusting learning rate of group 0 to 7.8173e-05.\n"
     ]
    },
    {
     "name": "stderr",
     "output_type": "stream",
     "text": [
      "Test Epoch 116/200, Test Loss: 7.048762148076838: 100%|██████████| 11/11 [00:00<00:00, 53.60it/s]\n",
      "Train Epoch 117/200, Train Loss: 0.0: 100%|██████████| 44/44 [00:01<00:00, 27.27it/s]\n"
     ]
    },
    {
     "name": "stdout",
     "output_type": "stream",
     "text": [
      "Adjusting learning rate of group 0 to 7.4265e-05.\n"
     ]
    },
    {
     "name": "stderr",
     "output_type": "stream",
     "text": [
      "Test Epoch 117/200, Test Loss: 7.05040163343603: 100%|██████████| 11/11 [00:00<00:00, 68.87it/s]\n",
      "Train Epoch 118/200, Train Loss: 0.0: 100%|██████████| 44/44 [00:01<00:00, 35.15it/s]\n"
     ]
    },
    {
     "name": "stdout",
     "output_type": "stream",
     "text": [
      "Adjusting learning rate of group 0 to 7.0552e-05.\n"
     ]
    },
    {
     "name": "stderr",
     "output_type": "stream",
     "text": [
      "Test Epoch 118/200, Test Loss: 7.049007686701688: 100%|██████████| 11/11 [00:00<00:00, 58.49it/s]\n",
      "Train Epoch 119/200, Train Loss: 0.0: 100%|██████████| 44/44 [00:01<00:00, 32.52it/s]\n"
     ]
    },
    {
     "name": "stdout",
     "output_type": "stream",
     "text": [
      "Adjusting learning rate of group 0 to 6.7024e-05.\n"
     ]
    },
    {
     "name": "stderr",
     "output_type": "stream",
     "text": [
      "Test Epoch 119/200, Test Loss: 7.050303946841847: 100%|██████████| 11/11 [00:00<00:00, 56.86it/s]\n",
      "Train Epoch 120/200, Train Loss: 0.0: 100%|██████████| 44/44 [00:01<00:00, 37.19it/s]\n"
     ]
    },
    {
     "name": "stdout",
     "output_type": "stream",
     "text": [
      "Adjusting learning rate of group 0 to 6.3673e-05.\n"
     ]
    },
    {
     "name": "stderr",
     "output_type": "stream",
     "text": [
      "Test Epoch 120/200, Test Loss: 7.049501689997586: 100%|██████████| 11/11 [00:00<00:00, 100.43it/s]\n",
      "Train Epoch 121/200, Train Loss: 0.0: 100%|██████████| 44/44 [00:01<00:00, 37.53it/s]\n"
     ]
    },
    {
     "name": "stdout",
     "output_type": "stream",
     "text": [
      "Adjusting learning rate of group 0 to 6.0489e-05.\n"
     ]
    },
    {
     "name": "stderr",
     "output_type": "stream",
     "text": [
      "Test Epoch 121/200, Test Loss: 7.048812768676064: 100%|██████████| 11/11 [00:00<00:00, 101.02it/s]\n",
      "Train Epoch 122/200, Train Loss: 0.0: 100%|██████████| 44/44 [00:01<00:00, 33.09it/s]\n"
     ]
    },
    {
     "name": "stdout",
     "output_type": "stream",
     "text": [
      "Adjusting learning rate of group 0 to 5.7465e-05.\n"
     ]
    },
    {
     "name": "stderr",
     "output_type": "stream",
     "text": [
      "Test Epoch 122/200, Test Loss: 7.048220331018621: 100%|██████████| 11/11 [00:00<00:00, 100.55it/s]\n",
      "Train Epoch 123/200, Train Loss: 0.0: 100%|██████████| 44/44 [00:01<00:00, 36.09it/s]\n"
     ]
    },
    {
     "name": "stdout",
     "output_type": "stream",
     "text": [
      "Adjusting learning rate of group 0 to 5.4591e-05.\n"
     ]
    },
    {
     "name": "stderr",
     "output_type": "stream",
     "text": [
      "Test Epoch 123/200, Test Loss: 7.050812331112948: 100%|██████████| 11/11 [00:00<00:00, 102.41it/s]\n",
      "Train Epoch 124/200, Train Loss: 0.0: 100%|██████████| 44/44 [00:01<00:00, 33.76it/s]\n"
     ]
    },
    {
     "name": "stdout",
     "output_type": "stream",
     "text": [
      "Adjusting learning rate of group 0 to 5.1862e-05.\n"
     ]
    },
    {
     "name": "stderr",
     "output_type": "stream",
     "text": [
      "Test Epoch 124/200, Test Loss: 7.049533096226779: 100%|██████████| 11/11 [00:00<00:00, 100.90it/s]\n",
      "Train Epoch 125/200, Train Loss: 0.0: 100%|██████████| 44/44 [00:01<00:00, 41.34it/s]\n"
     ]
    },
    {
     "name": "stdout",
     "output_type": "stream",
     "text": [
      "Adjusting learning rate of group 0 to 4.9269e-05.\n"
     ]
    },
    {
     "name": "stderr",
     "output_type": "stream",
     "text": [
      "Test Epoch 125/200, Test Loss: 7.050220630385659: 100%|██████████| 11/11 [00:00<00:00, 98.21it/s]\n",
      "Train Epoch 126/200, Train Loss: 0.0: 100%|██████████| 44/44 [00:01<00:00, 37.60it/s]\n"
     ]
    },
    {
     "name": "stdout",
     "output_type": "stream",
     "text": [
      "Adjusting learning rate of group 0 to 4.6805e-05.\n"
     ]
    },
    {
     "name": "stderr",
     "output_type": "stream",
     "text": [
      "Test Epoch 126/200, Test Loss: 7.048607837070119: 100%|██████████| 11/11 [00:00<00:00, 99.33it/s] \n",
      "Train Epoch 127/200, Train Loss: 0.0: 100%|██████████| 44/44 [00:01<00:00, 42.82it/s]\n"
     ]
    },
    {
     "name": "stdout",
     "output_type": "stream",
     "text": [
      "Adjusting learning rate of group 0 to 4.4465e-05.\n"
     ]
    },
    {
     "name": "stderr",
     "output_type": "stream",
     "text": [
      "Test Epoch 127/200, Test Loss: 7.05004101449793: 100%|██████████| 11/11 [00:00<00:00, 95.16it/s]\n",
      "Train Epoch 128/200, Train Loss: 0.0: 100%|██████████| 44/44 [00:00<00:00, 47.20it/s]\n"
     ]
    },
    {
     "name": "stdout",
     "output_type": "stream",
     "text": [
      "Adjusting learning rate of group 0 to 4.2242e-05.\n"
     ]
    },
    {
     "name": "stderr",
     "output_type": "stream",
     "text": [
      "Test Epoch 128/200, Test Loss: 7.049232222817161: 100%|██████████| 11/11 [00:00<00:00, 86.01it/s]\n",
      "Train Epoch 129/200, Train Loss: 0.0: 100%|██████████| 44/44 [00:01<00:00, 42.09it/s]\n"
     ]
    },
    {
     "name": "stdout",
     "output_type": "stream",
     "text": [
      "Adjusting learning rate of group 0 to 4.0130e-05.\n"
     ]
    },
    {
     "name": "stderr",
     "output_type": "stream",
     "text": [
      "Test Epoch 129/200, Test Loss: 7.04970558123155: 100%|██████████| 11/11 [00:00<00:00, 125.54it/s]\n",
      "Train Epoch 130/200, Train Loss: 0.0: 100%|██████████| 44/44 [00:01<00:00, 40.28it/s]\n"
     ]
    },
    {
     "name": "stdout",
     "output_type": "stream",
     "text": [
      "Adjusting learning rate of group 0 to 3.8123e-05.\n"
     ]
    },
    {
     "name": "stderr",
     "output_type": "stream",
     "text": [
      "Test Epoch 130/200, Test Loss: 7.049490170045332: 100%|██████████| 11/11 [00:00<00:00, 101.36it/s]\n",
      "Train Epoch 131/200, Train Loss: 0.0: 100%|██████████| 44/44 [00:01<00:00, 33.73it/s]\n"
     ]
    },
    {
     "name": "stdout",
     "output_type": "stream",
     "text": [
      "Adjusting learning rate of group 0 to 3.6217e-05.\n"
     ]
    },
    {
     "name": "stderr",
     "output_type": "stream",
     "text": [
      "Test Epoch 131/200, Test Loss: 7.050086259841919: 100%|██████████| 11/11 [00:00<00:00, 73.28it/s]\n",
      "Train Epoch 132/200, Train Loss: 0.0: 100%|██████████| 44/44 [00:02<00:00, 19.96it/s]\n"
     ]
    },
    {
     "name": "stdout",
     "output_type": "stream",
     "text": [
      "Adjusting learning rate of group 0 to 3.4406e-05.\n"
     ]
    },
    {
     "name": "stderr",
     "output_type": "stream",
     "text": [
      "Test Epoch 132/200, Test Loss: 7.049408609216863: 100%|██████████| 11/11 [00:00<00:00, 71.91it/s]\n",
      "Train Epoch 133/200, Train Loss: 0.0: 100%|██████████| 44/44 [00:01<00:00, 26.99it/s]\n"
     ]
    },
    {
     "name": "stdout",
     "output_type": "stream",
     "text": [
      "Adjusting learning rate of group 0 to 3.2686e-05.\n"
     ]
    },
    {
     "name": "stderr",
     "output_type": "stream",
     "text": [
      "Test Epoch 133/200, Test Loss: 7.049659956585277: 100%|██████████| 11/11 [00:00<00:00, 87.25it/s]\n",
      "Train Epoch 134/200, Train Loss: 0.0: 100%|██████████| 44/44 [00:01<00:00, 28.62it/s]\n"
     ]
    },
    {
     "name": "stdout",
     "output_type": "stream",
     "text": [
      "Adjusting learning rate of group 0 to 3.1052e-05.\n"
     ]
    },
    {
     "name": "stderr",
     "output_type": "stream",
     "text": [
      "Test Epoch 134/200, Test Loss: 7.04970278523185: 100%|██████████| 11/11 [00:00<00:00, 96.68it/s]\n",
      "Train Epoch 135/200, Train Loss: 0.0: 100%|██████████| 44/44 [00:02<00:00, 18.79it/s]\n"
     ]
    },
    {
     "name": "stdout",
     "output_type": "stream",
     "text": [
      "Adjusting learning rate of group 0 to 2.9499e-05.\n"
     ]
    },
    {
     "name": "stderr",
     "output_type": "stream",
     "text": [
      "Test Epoch 135/200, Test Loss: 7.049053387208418: 100%|██████████| 11/11 [00:00<00:00, 69.40it/s]\n",
      "Train Epoch 136/200, Train Loss: 0.0: 100%|██████████| 44/44 [00:01<00:00, 37.17it/s]\n"
     ]
    },
    {
     "name": "stdout",
     "output_type": "stream",
     "text": [
      "Adjusting learning rate of group 0 to 2.8024e-05.\n"
     ]
    },
    {
     "name": "stderr",
     "output_type": "stream",
     "text": [
      "Test Epoch 136/200, Test Loss: 7.049206885424527: 100%|██████████| 11/11 [00:00<00:00, 91.82it/s]\n",
      "Train Epoch 137/200, Train Loss: 0.0: 100%|██████████| 44/44 [00:01<00:00, 30.26it/s]\n"
     ]
    },
    {
     "name": "stdout",
     "output_type": "stream",
     "text": [
      "Adjusting learning rate of group 0 to 2.6623e-05.\n"
     ]
    },
    {
     "name": "stderr",
     "output_type": "stream",
     "text": [
      "Test Epoch 137/200, Test Loss: 7.048318830403415: 100%|██████████| 11/11 [00:00<00:00, 100.96it/s]\n",
      "Train Epoch 138/200, Train Loss: 0.0: 100%|██████████| 44/44 [00:01<00:00, 40.56it/s]\n"
     ]
    },
    {
     "name": "stdout",
     "output_type": "stream",
     "text": [
      "Adjusting learning rate of group 0 to 2.5292e-05.\n"
     ]
    },
    {
     "name": "stderr",
     "output_type": "stream",
     "text": [
      "Test Epoch 138/200, Test Loss: 7.048328551379117: 100%|██████████| 11/11 [00:00<00:00, 101.25it/s]\n",
      "Train Epoch 139/200, Train Loss: 0.0: 100%|██████████| 44/44 [00:01<00:00, 32.32it/s]\n"
     ]
    },
    {
     "name": "stdout",
     "output_type": "stream",
     "text": [
      "Adjusting learning rate of group 0 to 2.4027e-05.\n"
     ]
    },
    {
     "name": "stderr",
     "output_type": "stream",
     "text": [
      "Test Epoch 139/200, Test Loss: 7.048165841536089: 100%|██████████| 11/11 [00:00<00:00, 95.17it/s]\n",
      "Train Epoch 140/200, Train Loss: 0.0: 100%|██████████| 44/44 [00:01<00:00, 39.88it/s]\n"
     ]
    },
    {
     "name": "stdout",
     "output_type": "stream",
     "text": [
      "Adjusting learning rate of group 0 to 2.2826e-05.\n"
     ]
    },
    {
     "name": "stderr",
     "output_type": "stream",
     "text": [
      "Test Epoch 140/200, Test Loss: 7.050533034584739: 100%|██████████| 11/11 [00:00<00:00, 100.57it/s]\n",
      "Train Epoch 141/200, Train Loss: 0.0: 100%|██████████| 44/44 [00:00<00:00, 44.19it/s]\n"
     ]
    },
    {
     "name": "stdout",
     "output_type": "stream",
     "text": [
      "Adjusting learning rate of group 0 to 2.1685e-05.\n"
     ]
    },
    {
     "name": "stderr",
     "output_type": "stream",
     "text": [
      "Test Epoch 141/200, Test Loss: 7.0486309853467075: 100%|██████████| 11/11 [00:00<00:00, 97.35it/s]\n",
      "Train Epoch 142/200, Train Loss: 0.0: 100%|██████████| 44/44 [00:01<00:00, 35.74it/s]\n"
     ]
    },
    {
     "name": "stdout",
     "output_type": "stream",
     "text": [
      "Adjusting learning rate of group 0 to 2.0600e-05.\n"
     ]
    },
    {
     "name": "stderr",
     "output_type": "stream",
     "text": [
      "Test Epoch 142/200, Test Loss: 7.048963926055214: 100%|██████████| 11/11 [00:00<00:00, 52.68it/s]\n",
      "Train Epoch 143/200, Train Loss: 0.0: 100%|██████████| 44/44 [00:01<00:00, 30.46it/s]\n"
     ]
    },
    {
     "name": "stdout",
     "output_type": "stream",
     "text": [
      "Adjusting learning rate of group 0 to 1.9570e-05.\n"
     ]
    },
    {
     "name": "stderr",
     "output_type": "stream",
     "text": [
      "Test Epoch 143/200, Test Loss: 7.0507484024221245: 100%|██████████| 11/11 [00:00<00:00, 36.95it/s]\n",
      "Train Epoch 144/200, Train Loss: 0.0: 100%|██████████| 44/44 [00:01<00:00, 25.91it/s]\n"
     ]
    },
    {
     "name": "stdout",
     "output_type": "stream",
     "text": [
      "Adjusting learning rate of group 0 to 1.8592e-05.\n"
     ]
    },
    {
     "name": "stderr",
     "output_type": "stream",
     "text": [
      "Test Epoch 144/200, Test Loss: 7.049075310880488: 100%|██████████| 11/11 [00:00<00:00, 98.02it/s]\n",
      "Train Epoch 145/200, Train Loss: 0.0: 100%|██████████| 44/44 [00:01<00:00, 30.02it/s]\n"
     ]
    },
    {
     "name": "stdout",
     "output_type": "stream",
     "text": [
      "Adjusting learning rate of group 0 to 1.7662e-05.\n"
     ]
    },
    {
     "name": "stderr",
     "output_type": "stream",
     "text": [
      "Test Epoch 145/200, Test Loss: 7.050416762178594: 100%|██████████| 11/11 [00:00<00:00, 83.51it/s]\n",
      "Train Epoch 146/200, Train Loss: 0.0: 100%|██████████| 44/44 [00:01<00:00, 36.46it/s]\n"
     ]
    },
    {
     "name": "stdout",
     "output_type": "stream",
     "text": [
      "Adjusting learning rate of group 0 to 1.6779e-05.\n"
     ]
    },
    {
     "name": "stderr",
     "output_type": "stream",
     "text": [
      "Test Epoch 146/200, Test Loss: 7.048050089315935: 100%|██████████| 11/11 [00:00<00:00, 98.91it/s] \n",
      "Train Epoch 147/200, Train Loss: 0.0: 100%|██████████| 44/44 [00:02<00:00, 19.34it/s]\n"
     ]
    },
    {
     "name": "stdout",
     "output_type": "stream",
     "text": [
      "Adjusting learning rate of group 0 to 1.5940e-05.\n"
     ]
    },
    {
     "name": "stderr",
     "output_type": "stream",
     "text": [
      "Test Epoch 147/200, Test Loss: 7.049373962662437: 100%|██████████| 11/11 [00:00<00:00, 46.37it/s]\n",
      "Train Epoch 148/200, Train Loss: 0.0: 100%|██████████| 44/44 [00:01<00:00, 28.79it/s]\n"
     ]
    },
    {
     "name": "stdout",
     "output_type": "stream",
     "text": [
      "Adjusting learning rate of group 0 to 1.5143e-05.\n"
     ]
    },
    {
     "name": "stderr",
     "output_type": "stream",
     "text": [
      "Test Epoch 148/200, Test Loss: 7.048393076116389: 100%|██████████| 11/11 [00:00<00:00, 92.99it/s]\n",
      "Train Epoch 149/200, Train Loss: 0.0: 100%|██████████| 44/44 [00:01<00:00, 34.42it/s]\n"
     ]
    },
    {
     "name": "stdout",
     "output_type": "stream",
     "text": [
      "Adjusting learning rate of group 0 to 1.4386e-05.\n"
     ]
    },
    {
     "name": "stderr",
     "output_type": "stream",
     "text": [
      "Test Epoch 149/200, Test Loss: 7.04905728860335: 100%|██████████| 11/11 [00:00<00:00, 90.11it/s]\n",
      "Train Epoch 150/200, Train Loss: 0.0: 100%|██████████| 44/44 [00:01<00:00, 33.24it/s]\n"
     ]
    },
    {
     "name": "stdout",
     "output_type": "stream",
     "text": [
      "Adjusting learning rate of group 0 to 1.3667e-05.\n"
     ]
    },
    {
     "name": "stderr",
     "output_type": "stream",
     "text": [
      "Test Epoch 150/200, Test Loss: 7.047566272995689: 100%|██████████| 11/11 [00:00<00:00, 96.53it/s]\n",
      "Train Epoch 151/200, Train Loss: 0.0: 100%|██████████| 44/44 [00:01<00:00, 39.41it/s]\n"
     ]
    },
    {
     "name": "stdout",
     "output_type": "stream",
     "text": [
      "Adjusting learning rate of group 0 to 1.2983e-05.\n"
     ]
    },
    {
     "name": "stderr",
     "output_type": "stream",
     "text": [
      "Test Epoch 151/200, Test Loss: 7.047972104766152: 100%|██████████| 11/11 [00:00<00:00, 103.27it/s]\n",
      "Train Epoch 152/200, Train Loss: 0.0: 100%|██████████| 44/44 [00:00<00:00, 45.04it/s]\n"
     ]
    },
    {
     "name": "stdout",
     "output_type": "stream",
     "text": [
      "Adjusting learning rate of group 0 to 1.2334e-05.\n"
     ]
    },
    {
     "name": "stderr",
     "output_type": "stream",
     "text": [
      "Test Epoch 152/200, Test Loss: 7.048387538303029: 100%|██████████| 11/11 [00:00<00:00, 127.12it/s]\n",
      "Train Epoch 153/200, Train Loss: 0.0: 100%|██████████| 44/44 [00:01<00:00, 39.97it/s]\n"
     ]
    },
    {
     "name": "stdout",
     "output_type": "stream",
     "text": [
      "Adjusting learning rate of group 0 to 1.1717e-05.\n"
     ]
    },
    {
     "name": "stderr",
     "output_type": "stream",
     "text": [
      "Test Epoch 153/200, Test Loss: 7.049377593127164: 100%|██████████| 11/11 [00:00<00:00, 102.45it/s]\n",
      "Train Epoch 154/200, Train Loss: 0.0: 100%|██████████| 44/44 [00:01<00:00, 37.32it/s]\n"
     ]
    },
    {
     "name": "stdout",
     "output_type": "stream",
     "text": [
      "Adjusting learning rate of group 0 to 1.1132e-05.\n"
     ]
    },
    {
     "name": "stderr",
     "output_type": "stream",
     "text": [
      "Test Epoch 154/200, Test Loss: 7.048764683983543: 100%|██████████| 11/11 [00:00<00:00, 81.41it/s]\n",
      "Train Epoch 155/200, Train Loss: 0.0: 100%|██████████| 44/44 [00:01<00:00, 32.21it/s]\n"
     ]
    },
    {
     "name": "stdout",
     "output_type": "stream",
     "text": [
      "Adjusting learning rate of group 0 to 1.0575e-05.\n"
     ]
    },
    {
     "name": "stderr",
     "output_type": "stream",
     "text": [
      "Test Epoch 155/200, Test Loss: 7.047790462320501: 100%|██████████| 11/11 [00:00<00:00, 100.16it/s]\n",
      "Train Epoch 156/200, Train Loss: 0.0: 100%|██████████| 44/44 [00:01<00:00, 41.91it/s]\n"
     ]
    },
    {
     "name": "stdout",
     "output_type": "stream",
     "text": [
      "Adjusting learning rate of group 0 to 1.0046e-05.\n"
     ]
    },
    {
     "name": "stderr",
     "output_type": "stream",
     "text": [
      "Test Epoch 156/200, Test Loss: 7.0488445867191665: 100%|██████████| 11/11 [00:00<00:00, 125.39it/s]\n",
      "Train Epoch 157/200, Train Loss: 0.0: 100%|██████████| 44/44 [00:01<00:00, 40.30it/s]\n"
     ]
    },
    {
     "name": "stdout",
     "output_type": "stream",
     "text": [
      "Adjusting learning rate of group 0 to 9.5439e-06.\n"
     ]
    },
    {
     "name": "stderr",
     "output_type": "stream",
     "text": [
      "Test Epoch 157/200, Test Loss: 7.049689856442538: 100%|██████████| 11/11 [00:00<00:00, 56.87it/s]\n",
      "Train Epoch 158/200, Train Loss: 0.0: 100%|██████████| 44/44 [00:01<00:00, 25.92it/s]\n"
     ]
    },
    {
     "name": "stdout",
     "output_type": "stream",
     "text": [
      "Adjusting learning rate of group 0 to 9.0667e-06.\n"
     ]
    },
    {
     "name": "stderr",
     "output_type": "stream",
     "text": [
      "Test Epoch 158/200, Test Loss: 7.047884941101074: 100%|██████████| 11/11 [00:00<00:00, 63.42it/s]\n",
      "Train Epoch 159/200, Train Loss: 0.0: 100%|██████████| 44/44 [00:01<00:00, 28.90it/s]\n"
     ]
    },
    {
     "name": "stdout",
     "output_type": "stream",
     "text": [
      "Adjusting learning rate of group 0 to 8.6134e-06.\n"
     ]
    },
    {
     "name": "stderr",
     "output_type": "stream",
     "text": [
      "Test Epoch 159/200, Test Loss: 7.047884930263866: 100%|██████████| 11/11 [00:00<00:00, 92.59it/s]\n",
      "Train Epoch 160/200, Train Loss: 0.0: 100%|██████████| 44/44 [00:01<00:00, 32.53it/s]\n"
     ]
    },
    {
     "name": "stdout",
     "output_type": "stream",
     "text": [
      "Adjusting learning rate of group 0 to 8.1827e-06.\n"
     ]
    },
    {
     "name": "stderr",
     "output_type": "stream",
     "text": [
      "Test Epoch 160/200, Test Loss: 7.048372539606961: 100%|██████████| 11/11 [00:00<00:00, 97.43it/s]\n",
      "Train Epoch 161/200, Train Loss: 0.0: 100%|██████████| 44/44 [00:01<00:00, 30.42it/s]\n"
     ]
    },
    {
     "name": "stdout",
     "output_type": "stream",
     "text": [
      "Adjusting learning rate of group 0 to 7.7736e-06.\n"
     ]
    },
    {
     "name": "stderr",
     "output_type": "stream",
     "text": [
      "Test Epoch 161/200, Test Loss: 7.049387021498247: 100%|██████████| 11/11 [00:00<00:00, 65.82it/s]\n",
      "Train Epoch 162/200, Train Loss: 0.0: 100%|██████████| 44/44 [00:01<00:00, 24.56it/s]\n"
     ]
    },
    {
     "name": "stdout",
     "output_type": "stream",
     "text": [
      "Adjusting learning rate of group 0 to 7.3849e-06.\n"
     ]
    },
    {
     "name": "stderr",
     "output_type": "stream",
     "text": [
      "Test Epoch 162/200, Test Loss: 7.048851164904508: 100%|██████████| 11/11 [00:00<00:00, 86.78it/s]\n",
      "Train Epoch 163/200, Train Loss: 0.0: 100%|██████████| 44/44 [00:01<00:00, 39.89it/s]\n"
     ]
    },
    {
     "name": "stdout",
     "output_type": "stream",
     "text": [
      "Adjusting learning rate of group 0 to 7.0157e-06.\n"
     ]
    },
    {
     "name": "stderr",
     "output_type": "stream",
     "text": [
      "Test Epoch 163/200, Test Loss: 7.049021645025774: 100%|██████████| 11/11 [00:00<00:00, 118.90it/s]\n",
      "Train Epoch 164/200, Train Loss: 0.0: 100%|██████████| 44/44 [00:00<00:00, 48.10it/s]\n"
     ]
    },
    {
     "name": "stdout",
     "output_type": "stream",
     "text": [
      "Adjusting learning rate of group 0 to 6.6649e-06.\n"
     ]
    },
    {
     "name": "stderr",
     "output_type": "stream",
     "text": [
      "Test Epoch 164/200, Test Loss: 7.049527211622759: 100%|██████████| 11/11 [00:00<00:00, 116.24it/s]\n",
      "Train Epoch 165/200, Train Loss: 0.0: 100%|██████████| 44/44 [00:00<00:00, 44.51it/s]\n"
     ]
    },
    {
     "name": "stdout",
     "output_type": "stream",
     "text": [
      "Adjusting learning rate of group 0 to 6.3316e-06.\n"
     ]
    },
    {
     "name": "stderr",
     "output_type": "stream",
     "text": [
      "Test Epoch 165/200, Test Loss: 7.050416957248341: 100%|██████████| 11/11 [00:00<00:00, 90.17it/s]\n",
      "Train Epoch 166/200, Train Loss: 0.0: 100%|██████████| 44/44 [00:01<00:00, 29.00it/s]\n"
     ]
    },
    {
     "name": "stdout",
     "output_type": "stream",
     "text": [
      "Adjusting learning rate of group 0 to 6.0151e-06.\n"
     ]
    },
    {
     "name": "stderr",
     "output_type": "stream",
     "text": [
      "Test Epoch 166/200, Test Loss: 7.050085457888517: 100%|██████████| 11/11 [00:00<00:00, 94.98it/s]\n",
      "Train Epoch 167/200, Train Loss: 0.0: 100%|██████████| 44/44 [00:01<00:00, 38.17it/s]\n"
     ]
    },
    {
     "name": "stdout",
     "output_type": "stream",
     "text": [
      "Adjusting learning rate of group 0 to 5.7143e-06.\n"
     ]
    },
    {
     "name": "stderr",
     "output_type": "stream",
     "text": [
      "Test Epoch 167/200, Test Loss: 7.049756147644737: 100%|██████████| 11/11 [00:00<00:00, 43.87it/s]\n",
      "Train Epoch 168/200, Train Loss: 0.0: 100%|██████████| 44/44 [00:01<00:00, 25.11it/s]\n"
     ]
    },
    {
     "name": "stdout",
     "output_type": "stream",
     "text": [
      "Adjusting learning rate of group 0 to 5.4286e-06.\n"
     ]
    },
    {
     "name": "stderr",
     "output_type": "stream",
     "text": [
      "Test Epoch 168/200, Test Loss: 7.05046983198686: 100%|██████████| 11/11 [00:00<00:00, 36.81it/s]\n",
      "Train Epoch 169/200, Train Loss: 0.0: 100%|██████████| 44/44 [00:01<00:00, 28.88it/s]\n"
     ]
    },
    {
     "name": "stdout",
     "output_type": "stream",
     "text": [
      "Adjusting learning rate of group 0 to 5.1572e-06.\n"
     ]
    },
    {
     "name": "stderr",
     "output_type": "stream",
     "text": [
      "Test Epoch 169/200, Test Loss: 7.048642765391957: 100%|██████████| 11/11 [00:00<00:00, 96.60it/s]\n",
      "Train Epoch 170/200, Train Loss: 0.0: 100%|██████████| 44/44 [00:01<00:00, 32.87it/s]\n"
     ]
    },
    {
     "name": "stdout",
     "output_type": "stream",
     "text": [
      "Adjusting learning rate of group 0 to 4.8993e-06.\n"
     ]
    },
    {
     "name": "stderr",
     "output_type": "stream",
     "text": [
      "Test Epoch 170/200, Test Loss: 7.047704620794817: 100%|██████████| 11/11 [00:00<00:00, 73.41it/s]\n",
      "Train Epoch 171/200, Train Loss: 0.0: 100%|██████████| 44/44 [00:02<00:00, 20.42it/s]\n"
     ]
    },
    {
     "name": "stdout",
     "output_type": "stream",
     "text": [
      "Adjusting learning rate of group 0 to 4.6543e-06.\n"
     ]
    },
    {
     "name": "stderr",
     "output_type": "stream",
     "text": [
      "Test Epoch 171/200, Test Loss: 7.050478165799921: 100%|██████████| 11/11 [00:00<00:00, 52.72it/s]\n",
      "Train Epoch 172/200, Train Loss: 0.0: 100%|██████████| 44/44 [00:01<00:00, 28.01it/s]\n"
     ]
    },
    {
     "name": "stdout",
     "output_type": "stream",
     "text": [
      "Adjusting learning rate of group 0 to 4.4216e-06.\n"
     ]
    },
    {
     "name": "stderr",
     "output_type": "stream",
     "text": [
      "Test Epoch 172/200, Test Loss: 7.048127922144803: 100%|██████████| 11/11 [00:00<00:00, 100.54it/s]\n",
      "Train Epoch 173/200, Train Loss: 0.0: 100%|██████████| 44/44 [00:01<00:00, 38.80it/s]\n"
     ]
    },
    {
     "name": "stdout",
     "output_type": "stream",
     "text": [
      "Adjusting learning rate of group 0 to 4.2005e-06.\n"
     ]
    },
    {
     "name": "stderr",
     "output_type": "stream",
     "text": [
      "Test Epoch 173/200, Test Loss: 7.0484679395502265: 100%|██████████| 11/11 [00:00<00:00, 105.41it/s]\n",
      "Train Epoch 174/200, Train Loss: 0.0: 100%|██████████| 44/44 [00:01<00:00, 29.37it/s]\n"
     ]
    },
    {
     "name": "stdout",
     "output_type": "stream",
     "text": [
      "Adjusting learning rate of group 0 to 3.9905e-06.\n"
     ]
    },
    {
     "name": "stderr",
     "output_type": "stream",
     "text": [
      "Test Epoch 174/200, Test Loss: 7.0500652464953335: 100%|██████████| 11/11 [00:00<00:00, 59.91it/s]\n",
      "Train Epoch 175/200, Train Loss: 0.0: 100%|██████████| 44/44 [00:01<00:00, 32.67it/s]\n"
     ]
    },
    {
     "name": "stdout",
     "output_type": "stream",
     "text": [
      "Adjusting learning rate of group 0 to 3.7910e-06.\n"
     ]
    },
    {
     "name": "stderr",
     "output_type": "stream",
     "text": [
      "Test Epoch 175/200, Test Loss: 7.049332792108709: 100%|██████████| 11/11 [00:00<00:00, 93.62it/s]\n",
      "Train Epoch 176/200, Train Loss: 0.0: 100%|██████████| 44/44 [00:01<00:00, 33.18it/s]\n"
     ]
    },
    {
     "name": "stdout",
     "output_type": "stream",
     "text": [
      "Adjusting learning rate of group 0 to 3.6014e-06.\n"
     ]
    },
    {
     "name": "stderr",
     "output_type": "stream",
     "text": [
      "Test Epoch 176/200, Test Loss: 7.0475899956443095: 100%|██████████| 11/11 [00:00<00:00, 48.21it/s]\n",
      "Train Epoch 177/200, Train Loss: 0.0: 100%|██████████| 44/44 [00:01<00:00, 23.63it/s]\n"
     ]
    },
    {
     "name": "stdout",
     "output_type": "stream",
     "text": [
      "Adjusting learning rate of group 0 to 3.4214e-06.\n"
     ]
    },
    {
     "name": "stderr",
     "output_type": "stream",
     "text": [
      "Test Epoch 177/200, Test Loss: 7.047980091788552: 100%|██████████| 11/11 [00:00<00:00, 47.59it/s]\n",
      "Train Epoch 178/200, Train Loss: 0.0: 100%|██████████| 44/44 [00:01<00:00, 26.13it/s]\n"
     ]
    },
    {
     "name": "stdout",
     "output_type": "stream",
     "text": [
      "Adjusting learning rate of group 0 to 3.2503e-06.\n"
     ]
    },
    {
     "name": "stderr",
     "output_type": "stream",
     "text": [
      "Test Epoch 178/200, Test Loss: 7.050074989145452: 100%|██████████| 11/11 [00:00<00:00, 74.48it/s]\n",
      "Train Epoch 179/200, Train Loss: 0.0: 100%|██████████| 44/44 [00:01<00:00, 33.46it/s]\n"
     ]
    },
    {
     "name": "stdout",
     "output_type": "stream",
     "text": [
      "Adjusting learning rate of group 0 to 3.0878e-06.\n"
     ]
    },
    {
     "name": "stderr",
     "output_type": "stream",
     "text": [
      "Test Epoch 179/200, Test Loss: 7.0488370440223: 100%|██████████| 11/11 [00:00<00:00, 83.03it/s]\n",
      "Train Epoch 180/200, Train Loss: 0.0: 100%|██████████| 44/44 [00:01<00:00, 23.31it/s]\n"
     ]
    },
    {
     "name": "stdout",
     "output_type": "stream",
     "text": [
      "Adjusting learning rate of group 0 to 2.9334e-06.\n"
     ]
    },
    {
     "name": "stderr",
     "output_type": "stream",
     "text": [
      "Test Epoch 180/200, Test Loss: 7.048314148729498: 100%|██████████| 11/11 [00:00<00:00, 48.97it/s]\n",
      "Train Epoch 181/200, Train Loss: 0.0: 100%|██████████| 44/44 [00:01<00:00, 25.92it/s]\n"
     ]
    },
    {
     "name": "stdout",
     "output_type": "stream",
     "text": [
      "Adjusting learning rate of group 0 to 2.7867e-06.\n"
     ]
    },
    {
     "name": "stderr",
     "output_type": "stream",
     "text": [
      "Test Epoch 181/200, Test Loss: 7.050041047009555: 100%|██████████| 11/11 [00:00<00:00, 39.55it/s]\n",
      "Train Epoch 182/200, Train Loss: 0.0: 100%|██████████| 44/44 [00:01<00:00, 23.79it/s]\n"
     ]
    },
    {
     "name": "stdout",
     "output_type": "stream",
     "text": [
      "Adjusting learning rate of group 0 to 2.6474e-06.\n"
     ]
    },
    {
     "name": "stderr",
     "output_type": "stream",
     "text": [
      "Test Epoch 182/200, Test Loss: 7.049100063063881: 100%|██████████| 11/11 [00:00<00:00, 75.17it/s]\n",
      "Train Epoch 183/200, Train Loss: 0.0: 100%|██████████| 44/44 [00:01<00:00, 31.92it/s]\n"
     ]
    },
    {
     "name": "stdout",
     "output_type": "stream",
     "text": [
      "Adjusting learning rate of group 0 to 2.5150e-06.\n"
     ]
    },
    {
     "name": "stderr",
     "output_type": "stream",
     "text": [
      "Test Epoch 183/200, Test Loss: 7.0489138906652276: 100%|██████████| 11/11 [00:00<00:00, 82.60it/s]\n",
      "Train Epoch 184/200, Train Loss: 0.0: 100%|██████████| 44/44 [00:01<00:00, 35.71it/s]\n"
     ]
    },
    {
     "name": "stdout",
     "output_type": "stream",
     "text": [
      "Adjusting learning rate of group 0 to 2.3893e-06.\n"
     ]
    },
    {
     "name": "stderr",
     "output_type": "stream",
     "text": [
      "Test Epoch 184/200, Test Loss: 7.048799720677462: 100%|██████████| 11/11 [00:00<00:00, 100.83it/s]\n",
      "Train Epoch 185/200, Train Loss: 0.0: 100%|██████████| 44/44 [00:01<00:00, 36.27it/s]\n"
     ]
    },
    {
     "name": "stdout",
     "output_type": "stream",
     "text": [
      "Adjusting learning rate of group 0 to 2.2698e-06.\n"
     ]
    },
    {
     "name": "stderr",
     "output_type": "stream",
     "text": [
      "Test Epoch 185/200, Test Loss: 7.048698620362715: 100%|██████████| 11/11 [00:00<00:00, 89.89it/s]\n",
      "Train Epoch 186/200, Train Loss: 0.0: 100%|██████████| 44/44 [00:02<00:00, 20.75it/s]\n"
     ]
    },
    {
     "name": "stdout",
     "output_type": "stream",
     "text": [
      "Adjusting learning rate of group 0 to 2.1563e-06.\n"
     ]
    },
    {
     "name": "stderr",
     "output_type": "stream",
     "text": [
      "Test Epoch 186/200, Test Loss: 7.0492478500713: 100%|██████████| 11/11 [00:00<00:00, 65.25it/s]\n",
      "Train Epoch 187/200, Train Loss: 0.0: 100%|██████████| 44/44 [00:01<00:00, 28.50it/s]\n"
     ]
    },
    {
     "name": "stdout",
     "output_type": "stream",
     "text": [
      "Adjusting learning rate of group 0 to 2.0485e-06.\n"
     ]
    },
    {
     "name": "stderr",
     "output_type": "stream",
     "text": [
      "Test Epoch 187/200, Test Loss: 7.049554965712807: 100%|██████████| 11/11 [00:00<00:00, 71.04it/s]\n",
      "Train Epoch 188/200, Train Loss: 0.0: 100%|██████████| 44/44 [00:01<00:00, 22.31it/s]\n"
     ]
    },
    {
     "name": "stdout",
     "output_type": "stream",
     "text": [
      "Adjusting learning rate of group 0 to 1.9461e-06.\n"
     ]
    },
    {
     "name": "stderr",
     "output_type": "stream",
     "text": [
      "Test Epoch 188/200, Test Loss: 7.049643018028953: 100%|██████████| 11/11 [00:00<00:00, 34.25it/s]\n",
      "Train Epoch 189/200, Train Loss: 0.0: 100%|██████████| 44/44 [00:02<00:00, 18.71it/s]\n"
     ]
    },
    {
     "name": "stdout",
     "output_type": "stream",
     "text": [
      "Adjusting learning rate of group 0 to 1.8488e-06.\n"
     ]
    },
    {
     "name": "stderr",
     "output_type": "stream",
     "text": [
      "Test Epoch 189/200, Test Loss: 7.049043189395558: 100%|██████████| 11/11 [00:00<00:00, 57.18it/s]\n",
      "Train Epoch 190/200, Train Loss: 0.0: 100%|██████████| 44/44 [00:01<00:00, 28.73it/s]\n"
     ]
    },
    {
     "name": "stdout",
     "output_type": "stream",
     "text": [
      "Adjusting learning rate of group 0 to 1.7563e-06.\n"
     ]
    },
    {
     "name": "stderr",
     "output_type": "stream",
     "text": [
      "Test Epoch 190/200, Test Loss: 7.050261573358015: 100%|██████████| 11/11 [00:00<00:00, 65.27it/s]\n",
      "Train Epoch 191/200, Train Loss: 0.0: 100%|██████████| 44/44 [00:01<00:00, 25.96it/s]\n"
     ]
    },
    {
     "name": "stdout",
     "output_type": "stream",
     "text": [
      "Adjusting learning rate of group 0 to 1.6685e-06.\n"
     ]
    },
    {
     "name": "stderr",
     "output_type": "stream",
     "text": [
      "Test Epoch 191/200, Test Loss: 7.049195798960599: 100%|██████████| 11/11 [00:00<00:00, 51.19it/s]\n",
      "Train Epoch 192/200, Train Loss: 0.0: 100%|██████████| 44/44 [00:01<00:00, 27.29it/s]\n"
     ]
    },
    {
     "name": "stdout",
     "output_type": "stream",
     "text": [
      "Adjusting learning rate of group 0 to 1.5851e-06.\n"
     ]
    },
    {
     "name": "stderr",
     "output_type": "stream",
     "text": [
      "Test Epoch 192/200, Test Loss: 7.050541379235008: 100%|██████████| 11/11 [00:00<00:00, 80.67it/s]\n",
      "Train Epoch 193/200, Train Loss: 0.0: 100%|██████████| 44/44 [00:01<00:00, 34.99it/s]\n"
     ]
    },
    {
     "name": "stdout",
     "output_type": "stream",
     "text": [
      "Adjusting learning rate of group 0 to 1.5058e-06.\n"
     ]
    },
    {
     "name": "stderr",
     "output_type": "stream",
     "text": [
      "Test Epoch 193/200, Test Loss: 7.048303083939985: 100%|██████████| 11/11 [00:00<00:00, 99.18it/s] \n",
      "Train Epoch 194/200, Train Loss: 0.0: 100%|██████████| 44/44 [00:01<00:00, 35.34it/s]\n"
     ]
    },
    {
     "name": "stdout",
     "output_type": "stream",
     "text": [
      "Adjusting learning rate of group 0 to 1.4305e-06.\n"
     ]
    },
    {
     "name": "stderr",
     "output_type": "stream",
     "text": [
      "Test Epoch 194/200, Test Loss: 7.049272407184947: 100%|██████████| 11/11 [00:00<00:00, 90.16it/s]\n",
      "Train Epoch 195/200, Train Loss: 0.0: 100%|██████████| 44/44 [00:01<00:00, 31.79it/s]\n"
     ]
    },
    {
     "name": "stdout",
     "output_type": "stream",
     "text": [
      "Adjusting learning rate of group 0 to 1.3590e-06.\n"
     ]
    },
    {
     "name": "stderr",
     "output_type": "stream",
     "text": [
      "Test Epoch 195/200, Test Loss: 7.049406615170565: 100%|██████████| 11/11 [00:00<00:00, 83.23it/s]\n",
      "Train Epoch 196/200, Train Loss: 0.0: 100%|██████████| 44/44 [00:01<00:00, 41.46it/s]\n"
     ]
    },
    {
     "name": "stdout",
     "output_type": "stream",
     "text": [
      "Adjusting learning rate of group 0 to 1.2911e-06.\n"
     ]
    },
    {
     "name": "stderr",
     "output_type": "stream",
     "text": [
      "Test Epoch 196/200, Test Loss: 7.049872170795094: 100%|██████████| 11/11 [00:00<00:00, 97.67it/s]\n",
      "Train Epoch 197/200, Train Loss: 0.0: 100%|██████████| 44/44 [00:01<00:00, 29.35it/s]\n"
     ]
    },
    {
     "name": "stdout",
     "output_type": "stream",
     "text": [
      "Adjusting learning rate of group 0 to 1.2265e-06.\n"
     ]
    },
    {
     "name": "stderr",
     "output_type": "stream",
     "text": [
      "Test Epoch 197/200, Test Loss: 7.049233826723966: 100%|██████████| 11/11 [00:00<00:00, 56.13it/s]\n",
      "Train Epoch 198/200, Train Loss: 0.0: 100%|██████████| 44/44 [00:01<00:00, 29.76it/s]\n"
     ]
    },
    {
     "name": "stdout",
     "output_type": "stream",
     "text": [
      "Adjusting learning rate of group 0 to 1.1652e-06.\n"
     ]
    },
    {
     "name": "stderr",
     "output_type": "stream",
     "text": [
      "Test Epoch 198/200, Test Loss: 7.048506758429787: 100%|██████████| 11/11 [00:00<00:00, 80.34it/s]\n",
      "Train Epoch 199/200, Train Loss: 0.0: 100%|██████████| 44/44 [00:01<00:00, 30.57it/s]\n"
     ]
    },
    {
     "name": "stdout",
     "output_type": "stream",
     "text": [
      "Adjusting learning rate of group 0 to 1.1069e-06.\n"
     ]
    },
    {
     "name": "stderr",
     "output_type": "stream",
     "text": [
      "Test Epoch 199/200, Test Loss: 7.049820986661044: 100%|██████████| 11/11 [00:00<00:00, 102.36it/s]\n",
      "Train Epoch 200/200, Train Loss: 0.0: 100%|██████████| 44/44 [00:01<00:00, 36.47it/s]\n"
     ]
    },
    {
     "name": "stdout",
     "output_type": "stream",
     "text": [
      "Adjusting learning rate of group 0 to 1.0516e-06.\n"
     ]
    },
    {
     "name": "stderr",
     "output_type": "stream",
     "text": [
      "Test Epoch 200/200, Test Loss: 7.049391811544245: 100%|██████████| 11/11 [00:00<00:00, 66.71it/s]\n"
     ]
    }
   ],
   "source": [
    "train_loss, val_loss = [], []\n",
    "for epoch in range(EPOCHS):\n",
    "    model.train()\n",
    "    \n",
    "    running_loss = 0.0\n",
    "    for idx, data in tqdm(enumerate(train_dataloader), total=len(train_dataloader), desc=f\"Train Epoch {epoch+1}/{EPOCHS}, Train Loss: {running_loss / len(train_dataloader)}\"):\n",
    "        X_data, y_data = data\n",
    "        X_data = X_data.to(device).reshape(-1, 6)\n",
    "        y_data = y_data.to(device)\n",
    "\n",
    "        optimizer.zero_grad()\n",
    "        y_pred = model(X_data).reshape(-1, 6)\n",
    "\n",
    "        loss = criterion(y_pred, y_data)\n",
    "        running_loss += loss.item()\n",
    "\n",
    "        loss.backward()\n",
    "        optimizer.step()\n",
    "    scheduler.step()\n",
    "    train_loss.append(running_loss / len(train_dataloader))\n",
    "\n",
    "    model.eval()\n",
    "    with torch.no_grad():\n",
    "        correct = 0\n",
    "        total = 0\n",
    "        for idx, data in tqdm(enumerate(test_dataloader), total=len(test_dataloader), desc=f\"Test Epoch {epoch+1}/{EPOCHS}, Test Loss: {running_loss / len(test_dataloader)}\"):\n",
    "            X_data, y_data = data\n",
    "            X_data = X_data.to(device).reshape(-1, 6)\n",
    "            y_data = y_data.to(device)\n",
    "\n",
    "            y_pred = model(X_data).reshape(-1, 6)\n",
    "            loss = criterion(y_pred, y_data)\n",
    "            running_loss += loss.item()\n",
    "\n",
    "            _, predicted = torch.max(y_pred.data, 1)\n",
    "            _, y_true = torch.max(y_data.data, 1)\n",
    "            total += y_data.size(0)\n",
    "            correct += (predicted == y_true).sum().item()\n",
    "\n",
    "        val_loss.append(running_loss / len(test_dataloader))"
   ]
  },
  {
   "cell_type": "code",
   "execution_count": 32,
   "metadata": {},
   "outputs": [
    {
     "data": {
      "image/png": "[encoded data removed]",
      "text/plain": [
       "<Figure size 2000x1000 with 2 Axes>"
      ]
     },
     "metadata": {},
     "output_type": "display_data"
    }
   ],
   "source": [
    "plt.figure(figsize=(20, 10))\n",
    "\n",
    "plt.subplot(1, 2, 1)\n",
    "plt.title(\"Test Loss\")\n",
    "plt.plot(val_loss, label='test loss', color='red', linewidth=2)\n",
    "plt.xlabel('Epochs')\n",
    "plt.ylabel('Loss')\n",
    "plt.grid(True)\n",
    "\n",
    "plt.subplot(1, 2, 2)\n",
    "plt.title(\"Train Loss\")\n",
    "plt.plot(train_loss, label='train loss', color='blue', linewidth=2)\n",
    "plt.xlabel('Epochs')\n",
    "plt.ylabel('Loss')\n",
    "plt.grid(True)\n",
    "\n",
    "plt.show()"
   ]
  },
  {
   "cell_type": "markdown",
   "metadata": {},
   "source": [
    "# Evaluation"
   ]
  },
  {
   "cell_type": "code",
   "execution_count": 21,
   "metadata": {},
   "outputs": [
    {
     "data": {
      "text/plain": [
       "Model(\n",
       "  (in_fc): Linear(in_features=6, out_features=64, bias=True)\n",
       "  (hidden_1): Linear(in_features=64, out_features=128, bias=True)\n",
       "  (hidden_2): Linear(in_features=128, out_features=256, bias=True)\n",
       "  (hidden_3): Linear(in_features=256, out_features=512, bias=True)\n",
       "  (hidden_4): Linear(in_features=512, out_features=1024, bias=True)\n",
       "  (gru): GRU(1024, 1024, batch_first=True)\n",
       "  (hidden_5): Linear(in_features=1024, out_features=512, bias=True)\n",
       "  (hidden_6): Linear(in_features=512, out_features=256, bias=True)\n",
       "  (hidden_7): Linear(in_features=256, out_features=128, bias=True)\n",
       "  (hidden_8): Linear(in_features=128, out_features=64, bias=True)\n",
       "  (out_fc): Linear(in_features=64, out_features=6, bias=True)\n",
       "  (softmax): Softmax(dim=1)\n",
       "  (dropout): Dropout(p=0.25, inplace=False)\n",
       ")"
      ]
     },
     "execution_count": 21,
     "metadata": {},
     "output_type": "execute_result"
    }
   ],
   "source": [
    "model.eval()"
   ]
  },
  {
   "cell_type": "code",
   "execution_count": 22,
   "metadata": {},
   "outputs": [],
   "source": [
    "eval_prediction_list = []\n",
    "\n",
    "for idx, (x, y) in enumerate(test_dataloader):\n",
    "    x = x.to(device)\n",
    "    y = y.to(device)\n",
    "    \n",
    "    prediction = model(x)\n",
    "    eval_prediction_list.append(prediction)\n",
    "\n",
    "y_pred = torch.cat(eval_prediction_list, dim=0)\n",
    "y_pred = y_pred.detach().cpu().numpy()"
   ]
  },
  {
   "cell_type": "code",
   "execution_count": 23,
   "metadata": {},
   "outputs": [
    {
     "name": "stdout",
     "output_type": "stream",
     "text": [
      "y_pred Shape: (176, 6)\n",
      "y_test Shape: (176, 6)\n"
     ]
    }
   ],
   "source": [
    "print(f\"\"\"y_pred Shape: {y_pred.shape}\n",
    "y_test Shape: {y_test.shape}\"\"\")"
   ]
  },
  {
   "cell_type": "code",
   "execution_count": 24,
   "metadata": {},
   "outputs": [
    {
     "name": "stdout",
     "output_type": "stream",
     "text": [
      "MSE Loss:  0.13653177\n"
     ]
    }
   ],
   "source": [
    "mse_loss = mean_squared_error(y_test, y_pred)\n",
    "print(\"MSE Loss: \", mse_loss)"
   ]
  },
  {
   "cell_type": "code",
   "execution_count": 25,
   "metadata": {},
   "outputs": [
    {
     "name": "stdout",
     "output_type": "stream",
     "text": [
      "              precision    recall  f1-score   support\n",
      "\n",
      "           0       0.00      0.00      0.00        43\n",
      "           1       0.00      0.00      0.00        36\n",
      "           2       0.24      1.00      0.38        41\n",
      "           3       0.50      0.03      0.06        30\n",
      "           4       0.00      0.00      0.00        19\n",
      "           5       0.00      0.00      0.00         7\n",
      "\n",
      "    accuracy                           0.24       176\n",
      "   macro avg       0.12      0.17      0.07       176\n",
      "weighted avg       0.14      0.24      0.10       176\n",
      "\n"
     ]
    },
    {
     "name": "stderr",
     "output_type": "stream",
     "text": [
      "/Users/bahk_insung/miniconda3/lib/python3.10/site-packages/sklearn/metrics/_classification.py:1344: UndefinedMetricWarning: Precision and F-score are ill-defined and being set to 0.0 in labels with no predicted samples. Use `zero_division` parameter to control this behavior.\n",
      "  _warn_prf(average, modifier, msg_start, len(result))\n",
      "/Users/bahk_insung/miniconda3/lib/python3.10/site-packages/sklearn/metrics/_classification.py:1344: UndefinedMetricWarning: Precision and F-score are ill-defined and being set to 0.0 in labels with no predicted samples. Use `zero_division` parameter to control this behavior.\n",
      "  _warn_prf(average, modifier, msg_start, len(result))\n",
      "/Users/bahk_insung/miniconda3/lib/python3.10/site-packages/sklearn/metrics/_classification.py:1344: UndefinedMetricWarning: Precision and F-score are ill-defined and being set to 0.0 in labels with no predicted samples. Use `zero_division` parameter to control this behavior.\n",
      "  _warn_prf(average, modifier, msg_start, len(result))\n"
     ]
    }
   ],
   "source": [
    "y_test_arg = np.argmax(y_test, axis=1)\n",
    "y_pred_arg = np.argmax(y_pred, axis=1)\n",
    "print(classification_report(y_test_arg, y_pred_arg))"
   ]
  },
  {
   "cell_type": "code",
   "execution_count": 26,
   "metadata": {},
   "outputs": [
    {
     "data": {
      "image/png": "[encoded data removed]",
      "text/plain": [
       "<Figure size 1000x1000 with 1 Axes>"
      ]
     },
     "metadata": {},
     "output_type": "display_data"
    }
   ],
   "source": [
    "conf_mat = confusion_matrix(y_test_arg, y_pred_arg)\n",
    "\n",
    "plt.figure(figsize=(10, 10))\n",
    "sns.heatmap(conf_mat, annot=True, fmt='d', cmap=plt.cm.Blues, cbar=False)\n",
    "plt.title('Confusion Matrix')\n",
    "plt.xlabel('Predicted Label')\n",
    "plt.ylabel('True Label')\n",
    "plt.show()"
   ]
  },
  {
   "cell_type": "code",
   "execution_count": null,
   "metadata": {},
   "outputs": [],
   "source": []
  }
 ],
 "metadata": {
  "kernelspec": {
   "display_name": "base",
   "language": "python",
   "name": "python3"
  },
  "language_info": {
   "codemirror_mode": {
    "name": "ipython",
    "version": 3
   },
   "file_extension": ".py",
   "mimetype": "text/x-python",
   "name": "python",
   "nbconvert_exporter": "python",
   "pygments_lexer": "ipython3",
   "version": "3.10.9"
  },
  "orig_nbformat": 4
 },
 "nbformat": 4,
 "nbformat_minor": 2
}
