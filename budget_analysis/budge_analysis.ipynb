{
 "cells": [
  {
   "cell_type": "code",
   "execution_count": 20,
   "metadata": {},
   "outputs": [],
   "source": [
    "import matplotlib.pyplot as plt\n",
    "import polars as pl\n",
    "import numpy as np\n",
    "\n",
    "DATA_PATH = \"./data/expense_data_1.csv\""
   ]
  },
  {
   "cell_type": "markdown",
   "metadata": {},
   "source": [
    "# Data Schema\n",
    "\n",
    "|Spent cost|Category|Date|\n",
    "|---|---|---|\n",
    "|uint64|string|Datetime|"
   ]
  },
  {
   "cell_type": "code",
   "execution_count": 14,
   "metadata": {},
   "outputs": [
    {
     "data": {
      "text/html": [
       "<div><style>\n",
       ".dataframe > thead > tr > th,\n",
       ".dataframe > tbody > tr > td {\n",
       "  text-align: right;\n",
       "}\n",
       "</style>\n",
       "<small>shape: (5, 5)</small><table border=\"1\" class=\"dataframe\"><thead><tr><th>Date</th><th>Category</th><th>INR</th><th>Income/Expense</th><th>Amount</th></tr><tr><td>str</td><td>str</td><td>f64</td><td>str</td><td>f64</td></tr></thead><tbody><tr><td>&quot;3/2/2022 10:11…</td><td>&quot;Food&quot;</td><td>50.0</td><td>&quot;Expense&quot;</td><td>50.0</td></tr><tr><td>&quot;3/2/2022 10:11…</td><td>&quot;Other&quot;</td><td>300.0</td><td>&quot;Expense&quot;</td><td>300.0</td></tr><tr><td>&quot;3/1/2022 19:50…</td><td>&quot;Food&quot;</td><td>78.0</td><td>&quot;Expense&quot;</td><td>78.0</td></tr><tr><td>&quot;3/1/2022 18:56…</td><td>&quot;Transportation…</td><td>30.0</td><td>&quot;Expense&quot;</td><td>30.0</td></tr><tr><td>&quot;3/1/2022 18:22…</td><td>&quot;Food&quot;</td><td>67.0</td><td>&quot;Expense&quot;</td><td>67.0</td></tr></tbody></table></div>"
      ],
      "text/plain": [
       "shape: (5, 5)\n",
       "┌────────────────┬────────────────┬───────┬────────────────┬────────┐\n",
       "│ Date           ┆ Category       ┆ INR   ┆ Income/Expense ┆ Amount │\n",
       "│ ---            ┆ ---            ┆ ---   ┆ ---            ┆ ---    │\n",
       "│ str            ┆ str            ┆ f64   ┆ str            ┆ f64    │\n",
       "╞════════════════╪════════════════╪═══════╪════════════════╪════════╡\n",
       "│ 3/2/2022 10:11 ┆ Food           ┆ 50.0  ┆ Expense        ┆ 50.0   │\n",
       "│ 3/2/2022 10:11 ┆ Other          ┆ 300.0 ┆ Expense        ┆ 300.0  │\n",
       "│ 3/1/2022 19:50 ┆ Food           ┆ 78.0  ┆ Expense        ┆ 78.0   │\n",
       "│ 3/1/2022 18:56 ┆ Transportation ┆ 30.0  ┆ Expense        ┆ 30.0   │\n",
       "│ 3/1/2022 18:22 ┆ Food           ┆ 67.0  ┆ Expense        ┆ 67.0   │\n",
       "└────────────────┴────────────────┴───────┴────────────────┴────────┘"
      ]
     },
     "execution_count": 14,
     "metadata": {},
     "output_type": "execute_result"
    }
   ],
   "source": [
    "data = pl.read_csv(DATA_PATH, has_header=True)\n",
    "data = data.drop([\"Account\", \"Subcategory\", \"Note\", \"Note_duplicated_0\", \"Account_duplicated_0\", \"Currency\"])\n",
    "data.head()"
   ]
  },
  {
   "cell_type": "code",
   "execution_count": 15,
   "metadata": {},
   "outputs": [
    {
     "data": {
      "text/html": [
       "<div><style>\n",
       ".dataframe > thead > tr > th,\n",
       ".dataframe > tbody > tr > td {\n",
       "  text-align: right;\n",
       "}\n",
       "</style>\n",
       "<small>shape: (5, 5)</small><table border=\"1\" class=\"dataframe\"><thead><tr><th>Date</th><th>Category</th><th>INR</th><th>Income/Expense</th><th>Amount</th></tr><tr><td>str</td><td>str</td><td>f64</td><td>str</td><td>f64</td></tr></thead><tbody><tr><td>&quot;3/2/2022&quot;</td><td>&quot;Food&quot;</td><td>50.0</td><td>&quot;Expense&quot;</td><td>50.0</td></tr><tr><td>&quot;3/2/2022&quot;</td><td>&quot;Other&quot;</td><td>300.0</td><td>&quot;Expense&quot;</td><td>300.0</td></tr><tr><td>&quot;3/1/2022&quot;</td><td>&quot;Food&quot;</td><td>78.0</td><td>&quot;Expense&quot;</td><td>78.0</td></tr><tr><td>&quot;3/1/2022&quot;</td><td>&quot;Transportation…</td><td>30.0</td><td>&quot;Expense&quot;</td><td>30.0</td></tr><tr><td>&quot;3/1/2022&quot;</td><td>&quot;Food&quot;</td><td>67.0</td><td>&quot;Expense&quot;</td><td>67.0</td></tr></tbody></table></div>"
      ],
      "text/plain": [
       "shape: (5, 5)\n",
       "┌──────────┬────────────────┬───────┬────────────────┬────────┐\n",
       "│ Date     ┆ Category       ┆ INR   ┆ Income/Expense ┆ Amount │\n",
       "│ ---      ┆ ---            ┆ ---   ┆ ---            ┆ ---    │\n",
       "│ str      ┆ str            ┆ f64   ┆ str            ┆ f64    │\n",
       "╞══════════╪════════════════╪═══════╪════════════════╪════════╡\n",
       "│ 3/2/2022 ┆ Food           ┆ 50.0  ┆ Expense        ┆ 50.0   │\n",
       "│ 3/2/2022 ┆ Other          ┆ 300.0 ┆ Expense        ┆ 300.0  │\n",
       "│ 3/1/2022 ┆ Food           ┆ 78.0  ┆ Expense        ┆ 78.0   │\n",
       "│ 3/1/2022 ┆ Transportation ┆ 30.0  ┆ Expense        ┆ 30.0   │\n",
       "│ 3/1/2022 ┆ Food           ┆ 67.0  ┆ Expense        ┆ 67.0   │\n",
       "└──────────┴────────────────┴───────┴────────────────┴────────┘"
      ]
     },
     "execution_count": 15,
     "metadata": {},
     "output_type": "execute_result"
    }
   ],
   "source": [
    "dates = data['Date'].to_list()\n",
    "dates = pl.Series([date.split(' ')[0] for date in dates])\n",
    "data.replace(\"Date\", dates)\n",
    "\n",
    "data.head()"
   ]
  },
  {
   "cell_type": "code",
   "execution_count": 17,
   "metadata": {},
   "outputs": [
    {
     "data": {
      "text/html": [
       "<div><style>\n",
       ".dataframe > thead > tr > th,\n",
       ".dataframe > tbody > tr > td {\n",
       "  text-align: right;\n",
       "}\n",
       "</style>\n",
       "<small>shape: (5, 5)</small><table border=\"1\" class=\"dataframe\"><thead><tr><th>Date</th><th>Category</th><th>INR</th><th>Income/Expense</th><th>Amount</th></tr><tr><td>str</td><td>str</td><td>f64</td><td>str</td><td>f64</td></tr></thead><tbody><tr><td>&quot;3/2/2022&quot;</td><td>&quot;Food&quot;</td><td>50.0</td><td>&quot;Expense&quot;</td><td>50.0</td></tr><tr><td>&quot;3/2/2022&quot;</td><td>&quot;Other&quot;</td><td>300.0</td><td>&quot;Expense&quot;</td><td>300.0</td></tr><tr><td>&quot;3/1/2022&quot;</td><td>&quot;Food&quot;</td><td>78.0</td><td>&quot;Expense&quot;</td><td>78.0</td></tr><tr><td>&quot;3/1/2022&quot;</td><td>&quot;Transportation…</td><td>30.0</td><td>&quot;Expense&quot;</td><td>30.0</td></tr><tr><td>&quot;3/1/2022&quot;</td><td>&quot;Food&quot;</td><td>67.0</td><td>&quot;Expense&quot;</td><td>67.0</td></tr></tbody></table></div>"
      ],
      "text/plain": [
       "shape: (5, 5)\n",
       "┌──────────┬────────────────┬───────┬────────────────┬────────┐\n",
       "│ Date     ┆ Category       ┆ INR   ┆ Income/Expense ┆ Amount │\n",
       "│ ---      ┆ ---            ┆ ---   ┆ ---            ┆ ---    │\n",
       "│ str      ┆ str            ┆ f64   ┆ str            ┆ f64    │\n",
       "╞══════════╪════════════════╪═══════╪════════════════╪════════╡\n",
       "│ 3/2/2022 ┆ Food           ┆ 50.0  ┆ Expense        ┆ 50.0   │\n",
       "│ 3/2/2022 ┆ Other          ┆ 300.0 ┆ Expense        ┆ 300.0  │\n",
       "│ 3/1/2022 ┆ Food           ┆ 78.0  ┆ Expense        ┆ 78.0   │\n",
       "│ 3/1/2022 ┆ Transportation ┆ 30.0  ┆ Expense        ┆ 30.0   │\n",
       "│ 3/1/2022 ┆ Food           ┆ 67.0  ┆ Expense        ┆ 67.0   │\n",
       "└──────────┴────────────────┴───────┴────────────────┴────────┘"
      ]
     },
     "execution_count": 17,
     "metadata": {},
     "output_type": "execute_result"
    }
   ],
   "source": [
    "data = data.filter(\n",
    "    (data['Income/Expense'] == 'Expense'),\n",
    ")\n",
    "data.head()"
   ]
  },
  {
   "cell_type": "code",
   "execution_count": 18,
   "metadata": {},
   "outputs": [
    {
     "data": {
      "text/html": [
       "<div><style>\n",
       ".dataframe > thead > tr > th,\n",
       ".dataframe > tbody > tr > td {\n",
       "  text-align: right;\n",
       "}\n",
       "</style>\n",
       "<small>shape: (9, 6)</small><table border=\"1\" class=\"dataframe\"><thead><tr><th>describe</th><th>Date</th><th>Category</th><th>INR</th><th>Income/Expense</th><th>Amount</th></tr><tr><td>str</td><td>str</td><td>str</td><td>f64</td><td>str</td><td>f64</td></tr></thead><tbody><tr><td>&quot;count&quot;</td><td>&quot;231&quot;</td><td>&quot;231&quot;</td><td>231.0</td><td>&quot;231&quot;</td><td>231.0</td></tr><tr><td>&quot;null_count&quot;</td><td>&quot;0&quot;</td><td>&quot;0&quot;</td><td>0.0</td><td>&quot;0&quot;</td><td>0.0</td></tr><tr><td>&quot;mean&quot;</td><td>null</td><td>null</td><td>255.515152</td><td>null</td><td>250.728485</td></tr><tr><td>&quot;std&quot;</td><td>null</td><td>null</td><td>529.46429</td><td>null</td><td>526.598747</td></tr><tr><td>&quot;min&quot;</td><td>&quot;1/1/2022&quot;</td><td>&quot;Apparel&quot;</td><td>8.0</td><td>&quot;Expense&quot;</td><td>8.0</td></tr><tr><td>&quot;max&quot;</td><td>&quot;3/2/2022&quot;</td><td>&quot;Transportation…</td><td>4800.0</td><td>&quot;Expense&quot;</td><td>4800.0</td></tr><tr><td>&quot;median&quot;</td><td>null</td><td>null</td><td>107.0</td><td>null</td><td>106.0</td></tr><tr><td>&quot;25%&quot;</td><td>null</td><td>null</td><td>43.0</td><td>null</td><td>43.0</td></tr><tr><td>&quot;75%&quot;</td><td>null</td><td>null</td><td>259.0</td><td>null</td><td>250.0</td></tr></tbody></table></div>"
      ],
      "text/plain": [
       "shape: (9, 6)\n",
       "┌────────────┬──────────┬────────────────┬────────────┬────────────────┬────────────┐\n",
       "│ describe   ┆ Date     ┆ Category       ┆ INR        ┆ Income/Expense ┆ Amount     │\n",
       "│ ---        ┆ ---      ┆ ---            ┆ ---        ┆ ---            ┆ ---        │\n",
       "│ str        ┆ str      ┆ str            ┆ f64        ┆ str            ┆ f64        │\n",
       "╞════════════╪══════════╪════════════════╪════════════╪════════════════╪════════════╡\n",
       "│ count      ┆ 231      ┆ 231            ┆ 231.0      ┆ 231            ┆ 231.0      │\n",
       "│ null_count ┆ 0        ┆ 0              ┆ 0.0        ┆ 0              ┆ 0.0        │\n",
       "│ mean       ┆ null     ┆ null           ┆ 255.515152 ┆ null           ┆ 250.728485 │\n",
       "│ std        ┆ null     ┆ null           ┆ 529.46429  ┆ null           ┆ 526.598747 │\n",
       "│ min        ┆ 1/1/2022 ┆ Apparel        ┆ 8.0        ┆ Expense        ┆ 8.0        │\n",
       "│ max        ┆ 3/2/2022 ┆ Transportation ┆ 4800.0     ┆ Expense        ┆ 4800.0     │\n",
       "│ median     ┆ null     ┆ null           ┆ 107.0      ┆ null           ┆ 106.0      │\n",
       "│ 25%        ┆ null     ┆ null           ┆ 43.0       ┆ null           ┆ 43.0       │\n",
       "│ 75%        ┆ null     ┆ null           ┆ 259.0      ┆ null           ┆ 250.0      │\n",
       "└────────────┴──────────┴────────────────┴────────────┴────────────────┴────────────┘"
      ]
     },
     "execution_count": 18,
     "metadata": {},
     "output_type": "execute_result"
    }
   ],
   "source": [
    "data.describe()"
   ]
  },
  {
   "cell_type": "code",
   "execution_count": 19,
   "metadata": {},
   "outputs": [],
   "source": [
    "spend_date = data['Date'].to_list()\n",
    "spend_category = data['Category'].to_list()\n",
    "spend_money = data['INR'].to_list()"
   ]
  },
  {
   "cell_type": "markdown",
   "metadata": {},
   "source": [
    "# Analysis Result"
   ]
  },
  {
   "cell_type": "code",
   "execution_count": 60,
   "metadata": {},
   "outputs": [
    {
     "data": {
      "text/html": [
       "<div><style>\n",
       ".dataframe > thead > tr > th,\n",
       ".dataframe > tbody > tr > td {\n",
       "  text-align: right;\n",
       "}\n",
       "</style>\n",
       "<small>shape: (10, 2)</small><table border=\"1\" class=\"dataframe\"><thead><tr><th>Category</th><th>Amount</th></tr><tr><td>str</td><td>f64</td></tr></thead><tbody><tr><td>&quot;Household&quot;</td><td>12188.0</td></tr><tr><td>&quot;Apparel&quot;</td><td>3388.0</td></tr><tr><td>&quot;Other&quot;</td><td>5117.0</td></tr><tr><td>&quot;Self-developme…</td><td>400.0</td></tr><tr><td>&quot;Education&quot;</td><td>1400.0</td></tr><tr><td>&quot;Gift&quot;</td><td>115.0</td></tr><tr><td>&quot;Food&quot;</td><td>23396.76</td></tr><tr><td>&quot;Transportation…</td><td>9203.8</td></tr><tr><td>&quot;Social Life&quot;</td><td>2513.72</td></tr><tr><td>&quot;Beauty&quot;</td><td>196.0</td></tr></tbody></table></div>"
      ],
      "text/plain": [
       "shape: (10, 2)\n",
       "┌──────────────────┬──────────┐\n",
       "│ Category         ┆ Amount   │\n",
       "│ ---              ┆ ---      │\n",
       "│ str              ┆ f64      │\n",
       "╞══════════════════╪══════════╡\n",
       "│ Household        ┆ 12188.0  │\n",
       "│ Apparel          ┆ 3388.0   │\n",
       "│ Other            ┆ 5117.0   │\n",
       "│ Self-development ┆ 400.0    │\n",
       "│ …                ┆ …        │\n",
       "│ Food             ┆ 23396.76 │\n",
       "│ Transportation   ┆ 9203.8   │\n",
       "│ Social Life      ┆ 2513.72  │\n",
       "│ Beauty           ┆ 196.0    │\n",
       "└──────────────────┴──────────┘"
      ]
     },
     "execution_count": 60,
     "metadata": {},
     "output_type": "execute_result"
    }
   ],
   "source": [
    "data.groupby('Category').sum()[['Category', 'Amount']]"
   ]
  },
  {
   "cell_type": "code",
   "execution_count": 63,
   "metadata": {},
   "outputs": [
    {
     "data": {
      "text/html": [
       "<div><style>\n",
       ".dataframe > thead > tr > th,\n",
       ".dataframe > tbody > tr > td {\n",
       "  text-align: right;\n",
       "}\n",
       "</style>\n",
       "<small>shape: (86, 2)</small><table border=\"1\" class=\"dataframe\"><thead><tr><th>Date</th><th>Amount</th></tr><tr><td>str</td><td>f64</td></tr></thead><tbody><tr><td>&quot;3/1/2022&quot;</td><td>175.0</td></tr><tr><td>&quot;2/13/2022&quot;</td><td>100.0</td></tr><tr><td>&quot;1/28/2022&quot;</td><td>148.0</td></tr><tr><td>&quot;1/21/2022&quot;</td><td>225.0</td></tr><tr><td>&quot;1/15/2022&quot;</td><td>1435.0</td></tr><tr><td>&quot;1/14/2022&quot;</td><td>1530.0</td></tr><tr><td>&quot;1/11/2022&quot;</td><td>135.5</td></tr><tr><td>&quot;12/28/2021&quot;</td><td>14.0</td></tr><tr><td>&quot;12/27/2021&quot;</td><td>165.0</td></tr><tr><td>&quot;12/25/2021&quot;</td><td>1310.0</td></tr><tr><td>&quot;12/20/2021&quot;</td><td>325.0</td></tr><tr><td>&quot;12/9/2021&quot;</td><td>455.0</td></tr><tr><td>&hellip;</td><td>&hellip;</td></tr><tr><td>&quot;12/8/2021&quot;</td><td>125.0</td></tr><tr><td>&quot;12/5/2021&quot;</td><td>6625.0</td></tr><tr><td>&quot;2/8/2022&quot;</td><td>2099.0</td></tr><tr><td>&quot;2/4/2022&quot;</td><td>80.0</td></tr><tr><td>&quot;2/3/2022&quot;</td><td>200.0</td></tr><tr><td>&quot;2/2/2022&quot;</td><td>120.0</td></tr><tr><td>&quot;1/27/2022&quot;</td><td>722.0</td></tr><tr><td>&quot;1/19/2022&quot;</td><td>171.0</td></tr><tr><td>&quot;12/17/2021&quot;</td><td>230.0</td></tr><tr><td>&quot;12/16/2021&quot;</td><td>190.0</td></tr><tr><td>&quot;12/6/2021&quot;</td><td>815.0</td></tr><tr><td>&quot;11/28/2021&quot;</td><td>363.4</td></tr></tbody></table></div>"
      ],
      "text/plain": [
       "shape: (86, 2)\n",
       "┌────────────┬────────┐\n",
       "│ Date       ┆ Amount │\n",
       "│ ---        ┆ ---    │\n",
       "│ str        ┆ f64    │\n",
       "╞════════════╪════════╡\n",
       "│ 3/1/2022   ┆ 175.0  │\n",
       "│ 2/13/2022  ┆ 100.0  │\n",
       "│ 1/28/2022  ┆ 148.0  │\n",
       "│ 1/21/2022  ┆ 225.0  │\n",
       "│ …          ┆ …      │\n",
       "│ 12/17/2021 ┆ 230.0  │\n",
       "│ 12/16/2021 ┆ 190.0  │\n",
       "│ 12/6/2021  ┆ 815.0  │\n",
       "│ 11/28/2021 ┆ 363.4  │\n",
       "└────────────┴────────┘"
      ]
     },
     "execution_count": 63,
     "metadata": {},
     "output_type": "execute_result"
    }
   ],
   "source": [
    "data.groupby('Date').sum()[['Date', 'Amount']]"
   ]
  },
  {
   "cell_type": "code",
   "execution_count": 36,
   "metadata": {},
   "outputs": [
    {
     "data": {
      "text/html": [
       "<div><style>\n",
       ".dataframe > thead > tr > th,\n",
       ".dataframe > tbody > tr > td {\n",
       "  text-align: right;\n",
       "}\n",
       "</style>\n",
       "<small>shape: (86, 2)</small><table border=\"1\" class=\"dataframe\"><thead><tr><th>Date</th><th>Expense</th></tr><tr><td>str</td><td>f64</td></tr></thead><tbody><tr><td>&quot;12/5/2021&quot;</td><td>6625.0</td></tr><tr><td>&quot;1/8/2022&quot;</td><td>5115.3</td></tr><tr><td>&quot;2/19/2022&quot;</td><td>2896.0</td></tr><tr><td>&quot;2/6/2022&quot;</td><td>2775.0</td></tr><tr><td>&quot;2/8/2022&quot;</td><td>2099.0</td></tr><tr><td>&quot;1/5/2022&quot;</td><td>2083.0</td></tr><tr><td>&quot;2/21/2022&quot;</td><td>1975.8</td></tr><tr><td>&quot;2/26/2022&quot;</td><td>1949.0</td></tr><tr><td>&quot;1/4/2022&quot;</td><td>1693.0</td></tr><tr><td>&quot;1/14/2022&quot;</td><td>1530.0</td></tr><tr><td>&quot;1/23/2022&quot;</td><td>1483.0</td></tr><tr><td>&quot;1/15/2022&quot;</td><td>1435.0</td></tr><tr><td>&hellip;</td><td>&hellip;</td></tr><tr><td>&quot;2/13/2022&quot;</td><td>100.0</td></tr><tr><td>&quot;1/17/2022&quot;</td><td>100.0</td></tr><tr><td>&quot;12/19/2021&quot;</td><td>100.0</td></tr><tr><td>&quot;1/1/2022&quot;</td><td>85.0</td></tr><tr><td>&quot;2/17/2022&quot;</td><td>80.0</td></tr><tr><td>&quot;2/4/2022&quot;</td><td>80.0</td></tr><tr><td>&quot;12/23/2021&quot;</td><td>47.0</td></tr><tr><td>&quot;12/7/2021&quot;</td><td>40.0</td></tr><tr><td>&quot;2/25/2022&quot;</td><td>33.0</td></tr><tr><td>&quot;12/12/2021&quot;</td><td>25.0</td></tr><tr><td>&quot;1/7/2022&quot;</td><td>15.0</td></tr><tr><td>&quot;12/28/2021&quot;</td><td>14.0</td></tr></tbody></table></div>"
      ],
      "text/plain": [
       "shape: (86, 2)\n",
       "┌────────────┬─────────┐\n",
       "│ Date       ┆ Expense │\n",
       "│ ---        ┆ ---     │\n",
       "│ str        ┆ f64     │\n",
       "╞════════════╪═════════╡\n",
       "│ 12/5/2021  ┆ 6625.0  │\n",
       "│ 1/8/2022   ┆ 5115.3  │\n",
       "│ 2/19/2022  ┆ 2896.0  │\n",
       "│ 2/6/2022   ┆ 2775.0  │\n",
       "│ …          ┆ …       │\n",
       "│ 2/25/2022  ┆ 33.0    │\n",
       "│ 12/12/2021 ┆ 25.0    │\n",
       "│ 1/7/2022   ┆ 15.0    │\n",
       "│ 12/28/2021 ┆ 14.0    │\n",
       "└────────────┴─────────┘"
      ]
     },
     "execution_count": 36,
     "metadata": {},
     "output_type": "execute_result"
    }
   ],
   "source": [
    "date_df = data.pivot(\n",
    "    index='Date',\n",
    "    columns=['Income/Expense'],\n",
    "    values='INR',\n",
    "    aggregate_function='sum'\n",
    ").sort('Expense', descending=True)\n",
    "\n",
    "date_df"
   ]
  },
  {
   "cell_type": "code",
   "execution_count": 35,
   "metadata": {},
   "outputs": [
    {
     "name": "stdout",
     "output_type": "stream",
     "text": [
      "Total Spent:  59024.0\n"
     ]
    }
   ],
   "source": [
    "total_spent = data['INR'].sum()\n",
    "print('Total Spent: ', total_spent)"
   ]
  },
  {
   "cell_type": "code",
   "execution_count": 56,
   "metadata": {},
   "outputs": [
    {
     "name": "stdout",
     "output_type": "stream",
     "text": [
      "Most spent date:  12/5/2021 , with a total of $ 6625.0\n"
     ]
    }
   ],
   "source": [
    "most_spent_date = date_df[0, :]\n",
    "print('Most spent date: ', most_spent_date['Date'][0], ', with a total of $', most_spent_date['Expense'][0])"
   ]
  },
  {
   "cell_type": "markdown",
   "metadata": {},
   "source": [
    "# Objective"
   ]
  },
  {
   "cell_type": "code",
   "execution_count": 61,
   "metadata": {},
   "outputs": [],
   "source": [
    "class BudgeAnaylsis:\n",
    "    def __init__(self):\n",
    "        pass\n",
    "\n",
    "    def __call__(self, data):\n",
    "        money_total = self.__spend_money_total(data)\n",
    "        money_by_category = self.__spend_money_by_category(data)\n",
    "        money_by_month = self.__spend_money_by_month(data)\n",
    "        money_by_month_category = self.__spend_money_by_month_category(data)\n",
    "\n",
    "        return {\n",
    "            'money_total': money_total,\n",
    "            'money_by_category': money_by_category,\n",
    "            'money_by_month': money_by_month,\n",
    "            'money_by_month_category': money_by_month_category\n",
    "        }\n",
    "\n",
    "    def __spend_money_total(self, data):\n",
    "        return data['amount'].sum()\n",
    "\n",
    "    def __spend_money_by_category(self, data):\n",
    "        return data.groupby('category').sum()[['Category', 'amount']]\n",
    "\n",
    "    def __spend_money_by_month(self, data):\n",
    "        return data.groupby('month').sum()[['month', 'amount']]\n",
    "\n",
    "    def __spend_money_by_month_category(self, data):\n",
    "        return data.groupby(['month', 'category']).sum()[['month', 'category', 'amount']]"
   ]
  }
 ],
 "metadata": {
  "kernelspec": {
   "display_name": "base",
   "language": "python",
   "name": "python3"
  },
  "language_info": {
   "codemirror_mode": {
    "name": "ipython",
    "version": 3
   },
   "file_extension": ".py",
   "mimetype": "text/x-python",
   "name": "python",
   "nbconvert_exporter": "python",
   "pygments_lexer": "ipython3",
   "version": "3.10.9"
  },
  "orig_nbformat": 4
 },
 "nbformat": 4,
 "nbformat_minor": 2
}
